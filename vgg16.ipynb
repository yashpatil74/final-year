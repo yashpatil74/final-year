{
 "cells": [
  {
   "cell_type": "code",
   "execution_count": 1,
   "id": "46c18e6d-92f8-43af-abf9-730f6d206acd",
   "metadata": {},
   "outputs": [
    {
     "name": "stdout",
     "output_type": "stream",
     "text": [
      "Using device: cuda\n"
     ]
    }
   ],
   "source": [
    "import torch\n",
    "from utils.dataset_loader import load_datasets\n",
    "from utils.model_utils import initialize_model, save_model, load_model\n",
    "from utils.train_utils import train_model\n",
    "from utils.metrics import evaluate_model\n",
    "from utils.visualization import (\n",
    "    plot_training,\n",
    "    plot_confusion_matrix,\n",
    "    plot_roc_curve,\n",
    "    plot_precision_recall_curve,\n",
    "    plot_per_class_performance\n",
    ")\n",
    "\n",
    "device = torch.device(\"cuda\" if torch.cuda.is_available() else \"cpu\")\n",
    "print(\"Using device:\", device)"
   ]
  },
  {
   "cell_type": "code",
   "execution_count": 2,
   "id": "ae224ab2-fa07-43db-9585-fffa6ab548e1",
   "metadata": {},
   "outputs": [
    {
     "name": "stdout",
     "output_type": "stream",
     "text": [
      "Classes: ['fire', 'nofire']\n"
     ]
    }
   ],
   "source": [
    "data_dir = \"wildfire_dataset_scaled\"\n",
    "\n",
    "train_loader, val_loader, test_loader, classes = load_datasets(data_dir, batch_size=32)\n",
    "print(\"Classes:\", classes)"
   ]
  },
  {
   "cell_type": "code",
   "execution_count": 3,
   "id": "eec4a753-e25f-4762-8d18-b7d878901416",
   "metadata": {},
   "outputs": [],
   "source": [
    "def train_and_evaluate_model(model_name, num_epochs=10):\n",
    "    \"\"\"\n",
    "    Train, evaluate, and visualize results for a given model.\n",
    "\n",
    "    Args:\n",
    "        model_name (str): Name of the model to train (e.g., 'resnet18', 'efficientnet_b0').\n",
    "        num_epochs (int): Number of epochs for training.\n",
    "\n",
    "    Returns:\n",
    "        None\n",
    "    \"\"\"\n",
    "    # Step 1: Initialize the model\n",
    "    model = initialize_model(model_name, num_classes=len(classes), pretrained=True)\n",
    "    model = model.to(device)\n",
    "\n",
    "    # Step 2: Define training components\n",
    "    criterion = torch.nn.CrossEntropyLoss()\n",
    "    optimizer = torch.optim.Adam(model.parameters(), lr=0.001)\n",
    "    scheduler = torch.optim.lr_scheduler.StepLR(optimizer, step_size=7, gamma=0.1)\n",
    "\n",
    "    # Step 3: Train the model\n",
    "    print(f\"\\nTraining {model_name}...\")\n",
    "    model, history = train_model(\n",
    "        model=model,\n",
    "        train_loader=train_loader,\n",
    "        val_loader=val_loader,\n",
    "        criterion=criterion,\n",
    "        optimizer=optimizer,\n",
    "        scheduler=scheduler,\n",
    "        device=device,\n",
    "        num_epochs=num_epochs\n",
    "    )\n",
    "\n",
    "    # Step 4: Save the trained model\n",
    "    model_path = f\"outputs/trained_models/{model_name}.pth\"\n",
    "    save_model(model, model_path)\n",
    "    print(f\"Model saved at {model_path}\")\n",
    "\n",
    "    # Step 5: Evaluate the model\n",
    "    print(f\"\\nEvaluating {model_name}...\")\n",
    "    metrics = evaluate_model(model, test_loader, classes, device)\n",
    "\n",
    "    # Step 6: Visualize results\n",
    "    plot_training(history)\n",
    "    cm = confusion_matrix(metrics[\"all_labels\"], metrics[\"all_preds\"])\n",
    "    plot_confusion_matrix(cm, classes)\n",
    "    plot_roc_curve(model, test_loader, classes, device)\n",
    "    plot_precision_recall_curve(model, test_loader, classes, device)\n",
    "    plot_per_class_performance(metrics[\"classification_report\"], classes)\n"
   ]
  },
  {
   "cell_type": "code",
   "execution_count": null,
   "id": "fb2efbfb-b9a4-4c09-92ab-add9e4b41d91",
   "metadata": {},
   "outputs": [
    {
     "name": "stderr",
     "output_type": "stream",
     "text": [
      "C:\\Users\\Yash\\Documents\\Development\\Projects\\final_year\\env\\Lib\\site-packages\\torchvision\\models\\_utils.py:208: UserWarning: The parameter 'pretrained' is deprecated since 0.13 and may be removed in the future, please use 'weights' instead.\n",
      "  warnings.warn(\n",
      "C:\\Users\\Yash\\Documents\\Development\\Projects\\final_year\\env\\Lib\\site-packages\\torchvision\\models\\_utils.py:223: UserWarning: Arguments other than a weight enum or `None` for 'weights' are deprecated since 0.13 and may be removed in the future. The current behavior is equivalent to passing `weights=VGG16_Weights.IMAGENET1K_V1`. You can also use `weights=VGG16_Weights.DEFAULT` to get the most up-to-date weights.\n",
      "  warnings.warn(msg)\n"
     ]
    },
    {
     "name": "stdout",
     "output_type": "stream",
     "text": [
      "\n",
      "Training vgg16...\n",
      "Epoch 1/10\n",
      "----------\n"
     ]
    },
    {
     "name": "stderr",
     "output_type": "stream",
     "text": [
      "\n",
      "00%|████████████████| 59/59 [02:05<00:00,  2.12s/it]"
     ]
    },
    {
     "name": "stdout",
     "output_type": "stream",
     "text": [
      "Train Loss: 0.9435 Acc: 0.5601\n",
      "Val Loss: 0.6685 Acc: 0.6119\n",
      "Epoch 2/10\n",
      "----------\n"
     ]
    },
    {
     "name": "stderr",
     "output_type": "stream",
     "text": [
      "\n",
      "00%|████████████████| 59/59 [02:11<00:00,  2.22s/it]"
     ]
    },
    {
     "name": "stdout",
     "output_type": "stream",
     "text": [
      "Train Loss: 0.6770 Acc: 0.6063\n",
      "Val Loss: 0.6774 Acc: 0.6119\n",
      "Epoch 3/10\n",
      "----------\n"
     ]
    },
    {
     "name": "stderr",
     "output_type": "stream",
     "text": [
      "\n",
      "00%|████████████████| 59/59 [02:07<00:00,  2.16s/it]"
     ]
    },
    {
     "name": "stdout",
     "output_type": "stream",
     "text": [
      "Train Loss: 0.6723 Acc: 0.6121\n",
      "Val Loss: 0.6740 Acc: 0.6119\n",
      "Epoch 4/10\n",
      "----------\n"
     ]
    },
    {
     "name": "stderr",
     "output_type": "stream",
     "text": [
      "\n",
      "00%|████████████████| 59/59 [02:08<00:00,  2.19s/it]"
     ]
    },
    {
     "name": "stdout",
     "output_type": "stream",
     "text": [
      "Train Loss: 0.6740 Acc: 0.6068\n",
      "Val Loss: 0.6756 Acc: 0.6119\n",
      "Epoch 5/10\n",
      "----------\n"
     ]
    },
    {
     "name": "stderr",
     "output_type": "stream",
     "text": [
      "\n",
      "00%|████████████████| 59/59 [02:16<00:00,  2.31s/it]"
     ]
    },
    {
     "name": "stdout",
     "output_type": "stream",
     "text": [
      "Train Loss: 0.6698 Acc: 0.6131\n",
      "Val Loss: 0.6679 Acc: 0.6119\n",
      "Epoch 6/10\n",
      "----------\n"
     ]
    },
    {
     "name": "stderr",
     "output_type": "stream",
     "text": [
      "\n",
      "00%|████████████████| 59/59 [02:12<00:00,  2.25s/it]"
     ]
    },
    {
     "name": "stdout",
     "output_type": "stream",
     "text": [
      "Train Loss: 0.6708 Acc: 0.6121\n",
      "Val Loss: 0.6687 Acc: 0.6119\n",
      "Epoch 7/10\n",
      "----------\n"
     ]
    },
    {
     "name": "stderr",
     "output_type": "stream",
     "text": [
      "\n",
      "00%|████████████████| 59/59 [02:09<00:00,  2.19s/it]"
     ]
    },
    {
     "name": "stdout",
     "output_type": "stream",
     "text": [
      "Train Loss: 0.6717 Acc: 0.6131\n",
      "Val Loss: 0.6714 Acc: 0.6119\n",
      "Epoch 8/10\n",
      "----------\n"
     ]
    },
    {
     "name": "stderr",
     "output_type": "stream",
     "text": [
      "\n",
      "00%|████████████████| 59/59 [02:20<00:00,  2.38s/it]"
     ]
    },
    {
     "name": "stdout",
     "output_type": "stream",
     "text": [
      "Train Loss: 0.6705 Acc: 0.6131\n",
      "Val Loss: 0.6679 Acc: 0.6119\n",
      "Epoch 9/10\n",
      "----------\n"
     ]
    },
    {
     "name": "stderr",
     "output_type": "stream",
     "text": [
      "\n",
      "00%|████████████████| 59/59 [02:45<00:00,  2.81s/it]"
     ]
    },
    {
     "name": "stdout",
     "output_type": "stream",
     "text": [
      "Train Loss: 0.6684 Acc: 0.6131\n",
      "Val Loss: 0.6679 Acc: 0.6119\n",
      "Epoch 10/10\n",
      "----------\n"
     ]
    },
    {
     "name": "stderr",
     "output_type": "stream",
     "text": [
      " 59%|█████████▍      | 35/59 [01:34<00:58,  2.46s/it]"
     ]
    }
   ],
   "source": [
    "train_and_evaluate_model(model_name=\"vgg16\", num_epochs=10)"
   ]
  },
  {
   "cell_type": "code",
   "execution_count": null,
   "id": "7b2cd7cf-eb64-49d8-b208-40f6c393edf4",
   "metadata": {},
   "outputs": [],
   "source": []
  }
 ],
 "metadata": {
  "kernelspec": {
   "display_name": "Python 3 (ipykernel)",
   "language": "python",
   "name": "python3"
  },
  "language_info": {
   "codemirror_mode": {
    "name": "ipython",
    "version": 3
   },
   "file_extension": ".py",
   "mimetype": "text/x-python",
   "name": "python",
   "nbconvert_exporter": "python",
   "pygments_lexer": "ipython3",
   "version": "3.11.9"
  }
 },
 "nbformat": 4,
 "nbformat_minor": 5
}
