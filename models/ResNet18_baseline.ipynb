{
 "cells": [
  {
   "cell_type": "code",
   "execution_count": 1,
   "id": "76923a32-7b28-4473-b292-578d5e618033",
   "metadata": {},
   "outputs": [],
   "source": [
    "import os\n",
    "os.chdir(\"..\")"
   ]
  },
  {
   "cell_type": "code",
   "execution_count": 2,
   "id": "08e7ab7b-5dba-4b78-ab56-eee10f222b7d",
   "metadata": {},
   "outputs": [
    {
     "name": "stdout",
     "output_type": "stream",
     "text": [
      "Using device: cuda\n"
     ]
    }
   ],
   "source": [
    "import torch\n",
    "from utils.dataset_loader import load_datasets\n",
    "from utils.model_utils import initialize_model, save_model, load_model\n",
    "from utils.train_utils import train_model\n",
    "from utils.metrics import evaluate_model\n",
    "from utils.visualization import (\n",
    "    plot_training,\n",
    "    plot_confusion_matrix,\n",
    "    plot_roc_curve,\n",
    "    plot_precision_recall_curve,\n",
    "    plot_per_class_performance\n",
    ")\n",
    "\n",
    "device = torch.device(\"cuda\" if torch.cuda.is_available() else \"cpu\")\n",
    "print(\"Using device:\", device)"
   ]
  },
  {
   "cell_type": "code",
   "execution_count": 3,
   "id": "a16f1b33-8048-4885-9911-f0103143d50e",
   "metadata": {},
   "outputs": [
    {
     "name": "stdout",
     "output_type": "stream",
     "text": [
      "Classes: ['fire', 'nofire']\n"
     ]
    }
   ],
   "source": [
    "data_dir = \"wildfire_dataset_scaled\"\n",
    "\n",
    "train_loader, val_loader, test_loader, classes = load_datasets(data_dir, batch_size=32)\n",
    "print(\"Classes:\", classes)"
   ]
  },
  {
   "cell_type": "code",
   "execution_count": 4,
   "id": "e3fef891-898c-4dc1-922f-8991a7e631c7",
   "metadata": {},
   "outputs": [],
   "source": [
    "def train_and_evaluate_model(model_name, num_epochs=10):\n",
    "    \"\"\"\n",
    "    Train, evaluate, and visualize results for a given model.\n",
    "\n",
    "    Args:\n",
    "        model_name (str): Name of the model to train (e.g., 'resnet18', 'efficientnet_b0').\n",
    "        num_epochs (int): Number of epochs for training.\n",
    "\n",
    "    Returns:\n",
    "        None\n",
    "    \"\"\"\n",
    "    # Step 1: Initialize the model\n",
    "    model = initialize_model(model_name, num_classes=len(classes), pretrained=True)\n",
    "    model = model.to(device)\n",
    "\n",
    "    # Step 2: Define training components\n",
    "    criterion = torch.nn.CrossEntropyLoss()\n",
    "    optimizer = torch.optim.Adam(model.parameters(), lr=0.001)\n",
    "    scheduler = torch.optim.lr_scheduler.StepLR(optimizer, step_size=7, gamma=0.1)\n",
    "\n",
    "    # Step 3: Train the model\n",
    "    print(f\"\\nTraining {model_name}...\")\n",
    "    model, history = train_model(\n",
    "        model=model,\n",
    "        train_loader=train_loader,\n",
    "        val_loader=val_loader,\n",
    "        criterion=criterion,\n",
    "        optimizer=optimizer,\n",
    "        scheduler=scheduler,\n",
    "        device=device,\n",
    "        num_epochs=num_epochs\n",
    "    )\n",
    "\n",
    "    # Step 4: Save the trained model\n",
    "    model_path = f\"outputs/trained_models/{model_name}.pth\"\n",
    "    save_model(model, model_path)\n",
    "    print(f\"Model saved at {model_path}\")\n",
    "\n",
    "    # Step 5: Evaluate the model\n",
    "    print(f\"\\nEvaluating {model_name}...\")\n",
    "    metrics = evaluate_model(model, test_loader, classes, device)\n",
    "\n",
    "    # Step 6: Visualize results\n",
    "    plot_training(history)\n",
    "    cm = confusion_matrix(metrics[\"all_labels\"], metrics[\"all_preds\"])\n",
    "    plot_confusion_matrix(cm, classes)\n",
    "    plot_roc_curve(model, test_loader, classes, device)\n",
    "    plot_precision_recall_curve(model, test_loader, classes, device)\n",
    "    plot_per_class_performance(metrics[\"classification_report\"], classes)\n"
   ]
  },
  {
   "cell_type": "code",
   "execution_count": null,
   "id": "e5181def-1f4b-4748-ab44-7df3142981da",
   "metadata": {},
   "outputs": [
    {
     "name": "stderr",
     "output_type": "stream",
     "text": [
      "C:\\Users\\Yash\\Documents\\Development\\Projects\\final_year\\env\\Lib\\site-packages\\torchvision\\models\\_utils.py:208: UserWarning: The parameter 'pretrained' is deprecated since 0.13 and may be removed in the future, please use 'weights' instead.\n",
      "  warnings.warn(\n",
      "C:\\Users\\Yash\\Documents\\Development\\Projects\\final_year\\env\\Lib\\site-packages\\torchvision\\models\\_utils.py:223: UserWarning: Arguments other than a weight enum or `None` for 'weights' are deprecated since 0.13 and may be removed in the future. The current behavior is equivalent to passing `weights=ResNet18_Weights.IMAGENET1K_V1`. You can also use `weights=ResNet18_Weights.DEFAULT` to get the most up-to-date weights.\n",
      "  warnings.warn(msg)\n",
      "Downloading: \"https://download.pytorch.org/models/resnet18-f37072fd.pth\" to C:\\Users\\Yash/.cache\\torch\\hub\\checkpoints\\resnet18-f37072fd.pth\n",
      "\n",
      "00%|███████████| 44.7M/44.7M [00:03<00:00, 14.1MB/s]"
     ]
    },
    {
     "name": "stdout",
     "output_type": "stream",
     "text": [
      "\n",
      "Training resnet18...\n",
      "Epoch 1/10\n",
      "----------\n"
     ]
    },
    {
     "name": "stderr",
     "output_type": "stream",
     "text": [
      "\n",
      "00%|████████████████| 59/59 [00:25<00:00,  2.27it/s]"
     ]
    },
    {
     "name": "stdout",
     "output_type": "stream",
     "text": [
      "Train Loss: 0.6175 Acc: 0.7271\n",
      "Val Loss: 0.6894 Acc: 0.6468\n",
      "Epoch 2/10\n",
      "----------\n"
     ]
    },
    {
     "name": "stderr",
     "output_type": "stream",
     "text": [
      "\n",
      "00%|████████████████| 59/59 [00:23<00:00,  2.47it/s]"
     ]
    },
    {
     "name": "stdout",
     "output_type": "stream",
     "text": [
      "Train Loss: 0.4652 Acc: 0.7801\n",
      "Val Loss: 0.4892 Acc: 0.7935\n",
      "Epoch 3/10\n",
      "----------\n"
     ]
    },
    {
     "name": "stderr",
     "output_type": "stream",
     "text": [
      "\n",
      "00%|████████████████| 59/59 [00:24<00:00,  2.42it/s]"
     ]
    }
   ],
   "source": [
    "train_and_evaluate_model(model_name=\"resnet18\", num_epochs = 10)"
   ]
  },
  {
   "cell_type": "code",
   "execution_count": null,
   "id": "294e4ea6-0438-4fb7-8c7c-3e67c4da1d23",
   "metadata": {},
   "outputs": [],
   "source": []
  }
 ],
 "metadata": {
  "kernelspec": {
   "display_name": "Python 3 (ipykernel)",
   "language": "python",
   "name": "python3"
  },
  "language_info": {
   "codemirror_mode": {
    "name": "ipython",
    "version": 3
   },
   "file_extension": ".py",
   "mimetype": "text/x-python",
   "name": "python",
   "nbconvert_exporter": "python",
   "pygments_lexer": "ipython3",
   "version": "3.11.9"
  }
 },
 "nbformat": 4,
 "nbformat_minor": 5
}
