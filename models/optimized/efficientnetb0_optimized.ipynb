{
 "cells": [
  {
   "cell_type": "code",
   "execution_count": 1,
   "metadata": {
    "vscode": {
     "languageId": "plaintext"
    }
   },
   "outputs": [],
   "source": [
    "import os\n",
    "os.chdir(\"../..\")"
   ]
  },
  {
   "cell_type": "code",
   "execution_count": 2,
   "metadata": {
    "vscode": {
     "languageId": "plaintext"
    }
   },
   "outputs": [
    {
     "name": "stderr",
     "output_type": "stream",
     "text": [
      "C:\\Users\\Yash\\Documents\\Development\\Projects\\final_year\\env\\Lib\\site-packages\\albumentations\\__init__.py:24: UserWarning: A new version of Albumentations is available: 1.4.23 (you have 1.4.22). Upgrade using: pip install -U albumentations. To disable automatic update checks, set the environment variable NO_ALBUMENTATIONS_UPDATE to 1.\n",
      "  check_for_updates()\n"
     ]
    }
   ],
   "source": [
    "import os\n",
    "import torch\n",
    "import torch.nn as nn\n",
    "import torch.optim as optim\n",
    "import optuna\n",
    "from utils.dataset_loader import load_datasets\n",
    "from utils.model_utils import initialize_model\n",
    "from utils.train_utils import train_model\n",
    "from utils.metrics import evaluate_model\n",
    "from utils.visualization import (\n",
    "    plot_training, \n",
    "    plot_confusion_matrix, \n",
    "    plot_precision_recall, \n",
    "    plot_roc_curve\n",
    ")"
   ]
  },
  {
   "cell_type": "code",
   "execution_count": 3,
   "metadata": {
    "vscode": {
     "languageId": "plaintext"
    }
   },
   "outputs": [
    {
     "name": "stdout",
     "output_type": "stream",
     "text": [
      "[INFO] Using device: cuda\n"
     ]
    }
   ],
   "source": [
    "# Set up device\n",
    "device = torch.device(\"cuda\" if torch.cuda.is_available() else \"cpu\")\n",
    "print(f\"[INFO] Using device: {device}\")"
   ]
  },
  {
   "cell_type": "code",
   "execution_count": 4,
   "metadata": {
    "vscode": {
     "languageId": "plaintext"
    }
   },
   "outputs": [],
   "source": [
    "# Model Name (Change this to test other models)\n",
    "model_name = \"efficientnet_b0\""
   ]
  },
  {
   "cell_type": "code",
   "execution_count": 5,
   "metadata": {
    "vscode": {
     "languageId": "plaintext"
    }
   },
   "outputs": [],
   "source": [
    "# Directories\n",
    "os.makedirs(\"outputs/models\", exist_ok=True)\n",
    "os.makedirs(\"outputs/plots\", exist_ok=True)"
   ]
  },
  {
   "cell_type": "code",
   "execution_count": 6,
   "metadata": {
    "vscode": {
     "languageId": "plaintext"
    }
   },
   "outputs": [
    {
     "name": "stdout",
     "output_type": "stream",
     "text": [
      "[INFO] Loading augmented datasets...\n",
      "[INFO] Datasets loaded successfully!\n"
     ]
    },
    {
     "name": "stderr",
     "output_type": "stream",
     "text": [
      "C:\\Users\\Yash\\Documents\\Development\\Projects\\final_year\\env\\Lib\\site-packages\\pydantic\\main.py:214: UserWarning: blur_limit and sigma_limit minimum value can not be both equal to 0. blur_limit minimum value changed to 3.\n",
      "  validated_self = self.__pydantic_validator__.validate_python(data, self_instance=self)\n"
     ]
    }
   ],
   "source": [
    "# Load dataset with augmentation\n",
    "print(\"[INFO] Loading augmented datasets...\")\n",
    "data_dir = \"wildfire_dataset_scaled\"\n",
    "batch_size = 32\n",
    "train_loader, val_loader, test_loader = load_datasets(\n",
    "    data_dir, batch_size=batch_size, augmentation=\"augmented\"\n",
    ")\n",
    "print(\"[INFO] Datasets loaded successfully!\")\n"
   ]
  },
  {
   "cell_type": "code",
   "execution_count": 7,
   "metadata": {
    "vscode": {
     "languageId": "plaintext"
    }
   },
   "outputs": [],
   "source": [
    "def objective(trial):\n",
    "    print(f\"[DEBUG] Starting trial {trial.number}...\")\n",
    "\n",
    "    # Hyperparameter suggestions\n",
    "    lr = trial.suggest_float(\"lr\", 1e-5, 1e-2, log=True)\n",
    "    weight_decay = trial.suggest_float(\"weight_decay\", 1e-6, 1e-3, log=True)\n",
    "    dropout_prob = trial.suggest_float(\"dropout_prob\", 0.2, 0.5)\n",
    "    optimizer_name = trial.suggest_categorical(\"optimizer\", [\"Adam\", \"SGD\", \"AdamW\"])\n",
    "\n",
    "    print(f\"[DEBUG] Suggested hyperparameters: lr={lr}, weight_decay={weight_decay}, optimizer={optimizer_name}\")\n",
    "\n",
    "    # Initialize model\n",
    "    model = initialize_model(\n",
    "        model_name=model_name,\n",
    "        num_classes=2,\n",
    "        pretrained=True,\n",
    "        freeze_all=False,\n",
    "        dropout_prob=dropout_prob\n",
    "    )\n",
    "    model.to(device)\n",
    "\n",
    "    # Optimizer setup\n",
    "    if optimizer_name == \"Adam\":\n",
    "        optimizer = optim.Adam(model.parameters(), lr=lr, weight_decay=weight_decay)\n",
    "    elif optimizer_name == \"SGD\":\n",
    "        optimizer = optim.SGD(model.parameters(), lr=lr, momentum=0.9, weight_decay=weight_decay)\n",
    "    elif optimizer_name == \"AdamW\":\n",
    "        optimizer = optim.AdamW(model.parameters(), lr=lr, weight_decay=weight_decay)\n",
    "\n",
    "    # Scheduler\n",
    "    scheduler = optim.lr_scheduler.ReduceLROnPlateau(optimizer, mode=\"max\", patience=3, factor=0.5)\n",
    "\n",
    "    # Loss function\n",
    "    criterion = nn.CrossEntropyLoss()\n",
    "\n",
    "    # Train the model\n",
    "    print(\"[INFO] Starting model training...\")\n",
    "    save_path = f\"outputs/models/{model_name}_trial_best.pth\"\n",
    "    history = train_model(\n",
    "        model=model,\n",
    "        train_loader=train_loader,\n",
    "        val_loader=val_loader,\n",
    "        criterion=criterion,\n",
    "        optimizer=optimizer,\n",
    "        scheduler=scheduler,\n",
    "        device=device,\n",
    "        save_path=save_path,\n",
    "        early_stop_patience=5,\n",
    "        monitor_metric=\"val_recall\",\n",
    "    )\n",
    "    print(\"[INFO] Training completed!\")\n",
    "\n",
    "    # Return validation recall\n",
    "    val_recall = history[\"val_recall\"][-1]\n",
    "    print(f\"[INFO] Trial {trial.number} - Final Validation Recall: {val_recall:.4f}\")\n",
    "    return val_recall\n"
   ]
  },
  {
   "cell_type": "code",
   "execution_count": 8,
   "metadata": {
    "vscode": {
     "languageId": "plaintext"
    }
   },
   "outputs": [
    {
     "name": "stderr",
     "output_type": "stream",
     "text": [
      "[I 2024-12-18 23:22:56,049] A new study created in memory with name: no-name-ef5e770b-95de-450e-8835-91b7ce282d54\n"
     ]
    },
    {
     "name": "stdout",
     "output_type": "stream",
     "text": [
      "[INFO] Running hyperparameter optimization...\n",
      "[DEBUG] Starting trial 0...\n",
      "[DEBUG] Suggested hyperparameters: lr=5.943545145687012e-05, weight_decay=4.7694576162678014e-05, optimizer=Adam\n",
      "[INFO] Starting model training...\n",
      "\n",
      "Starting training...\n",
      "\n"
     ]
    },
    {
     "name": "stderr",
     "output_type": "stream",
     "text": [
      "                                                                                                                       "
     ]
    },
    {
     "name": "stdout",
     "output_type": "stream",
     "text": [
      "[INFO] Learning rate adjusted to: 0.000059\n",
      "[INFO] Best model saved with val_recall: 0.7805\n",
      "Epoch [1]: Train Loss: 0.6437, Train Acc: 0.6259 | Val Loss: 0.5507, Val Acc: 0.7388, Val Recall: 0.7805, Val F1: 0.7853\n"
     ]
    },
    {
     "name": "stderr",
     "output_type": "stream",
     "text": [
      "                                                                                                                       "
     ]
    },
    {
     "name": "stdout",
     "output_type": "stream",
     "text": [
      "[INFO] Learning rate adjusted to: 0.000059\n",
      "[INFO] Best model saved with val_recall: 0.8374\n",
      "Epoch [2]: Train Loss: 0.5025, Train Acc: 0.7668 | Val Loss: 0.4360, Val Acc: 0.7687, Val Recall: 0.8374, Val F1: 0.8158\n"
     ]
    },
    {
     "name": "stderr",
     "output_type": "stream",
     "text": [
      "                                                                                                                       "
     ]
    },
    {
     "name": "stdout",
     "output_type": "stream",
     "text": [
      "[INFO] Learning rate adjusted to: 0.000059\n",
      "[INFO] Best model saved with val_recall: 0.8699\n",
      "Epoch [3]: Train Loss: 0.4061, Train Acc: 0.8177 | Val Loss: 0.3874, Val Acc: 0.8259, Val Recall: 0.8699, Val F1: 0.8594\n"
     ]
    },
    {
     "name": "stderr",
     "output_type": "stream",
     "text": [
      "                                                                                                                       "
     ]
    },
    {
     "name": "stdout",
     "output_type": "stream",
     "text": [
      "[INFO] Learning rate adjusted to: 0.000059\n",
      "[INFO] Best model saved with val_recall: 0.8984\n",
      "Epoch [4]: Train Loss: 0.3394, Train Acc: 0.8559 | Val Loss: 0.3453, Val Acc: 0.8483, Val Recall: 0.8984, Val F1: 0.8787\n"
     ]
    },
    {
     "name": "stderr",
     "output_type": "stream",
     "text": [
      "                                                                                                                       "
     ]
    },
    {
     "name": "stdout",
     "output_type": "stream",
     "text": [
      "[INFO] Learning rate adjusted to: 0.000059\n",
      "[INFO] No improvement in val_recall. Patience: 1/5\n",
      "Epoch [5]: Train Loss: 0.3139, Train Acc: 0.8627 | Val Loss: 0.3291, Val Acc: 0.8507, Val Recall: 0.8699, Val F1: 0.8770\n"
     ]
    },
    {
     "name": "stderr",
     "output_type": "stream",
     "text": [
      "                                                                                                                       "
     ]
    },
    {
     "name": "stdout",
     "output_type": "stream",
     "text": [
      "[INFO] Learning rate adjusted to: 0.000059\n",
      "[INFO] No improvement in val_recall. Patience: 2/5\n",
      "Epoch [6]: Train Loss: 0.2894, Train Acc: 0.8749 | Val Loss: 0.3287, Val Acc: 0.8507, Val Recall: 0.8659, Val F1: 0.8765\n"
     ]
    },
    {
     "name": "stderr",
     "output_type": "stream",
     "text": [
      "                                                                                                                       "
     ]
    },
    {
     "name": "stdout",
     "output_type": "stream",
     "text": [
      "[INFO] Learning rate adjusted to: 0.000059\n",
      "[INFO] Best model saved with val_recall: 0.9187\n",
      "Epoch [7]: Train Loss: 0.2690, Train Acc: 0.8892 | Val Loss: 0.3018, Val Acc: 0.8682, Val Recall: 0.9187, Val F1: 0.8950\n"
     ]
    },
    {
     "name": "stderr",
     "output_type": "stream",
     "text": [
      "                                                                                                                       "
     ]
    },
    {
     "name": "stdout",
     "output_type": "stream",
     "text": [
      "[INFO] Learning rate adjusted to: 0.000059\n",
      "[INFO] No improvement in val_recall. Patience: 1/5\n",
      "Epoch [8]: Train Loss: 0.2597, Train Acc: 0.8882 | Val Loss: 0.3223, Val Acc: 0.8632, Val Recall: 0.8984, Val F1: 0.8893\n"
     ]
    },
    {
     "name": "stderr",
     "output_type": "stream",
     "text": [
      "                                                                                                                       "
     ]
    },
    {
     "name": "stdout",
     "output_type": "stream",
     "text": [
      "[INFO] Learning rate adjusted to: 0.000059\n",
      "[INFO] No improvement in val_recall. Patience: 2/5\n",
      "Epoch [9]: Train Loss: 0.2648, Train Acc: 0.8802 | Val Loss: 0.2897, Val Acc: 0.8781, Val Recall: 0.9065, Val F1: 0.9010\n"
     ]
    },
    {
     "name": "stderr",
     "output_type": "stream",
     "text": [
      "                                                                                                                       "
     ]
    },
    {
     "name": "stdout",
     "output_type": "stream",
     "text": [
      "[INFO] Learning rate adjusted to: 0.000059\n",
      "[INFO] No improvement in val_recall. Patience: 3/5\n",
      "Epoch [10]: Train Loss: 0.2166, Train Acc: 0.9073 | Val Loss: 0.3207, Val Acc: 0.8632, Val Recall: 0.8902, Val F1: 0.8884\n"
     ]
    },
    {
     "name": "stderr",
     "output_type": "stream",
     "text": [
      "                                                                                                                       "
     ]
    },
    {
     "name": "stdout",
     "output_type": "stream",
     "text": [
      "[INFO] Learning rate adjusted to: 0.000030\n",
      "[INFO] No improvement in val_recall. Patience: 4/5\n",
      "Epoch [11]: Train Loss: 0.2221, Train Acc: 0.9078 | Val Loss: 0.2502, Val Acc: 0.8856, Val Recall: 0.9146, Val F1: 0.9073\n"
     ]
    },
    {
     "name": "stderr",
     "output_type": "stream",
     "text": [
      "                                                                                                                       "
     ]
    },
    {
     "name": "stdout",
     "output_type": "stream",
     "text": [
      "[INFO] Learning rate adjusted to: 0.000030\n",
      "[INFO] Best model saved with val_recall: 0.9228\n",
      "Epoch [12]: Train Loss: 0.1966, Train Acc: 0.9168 | Val Loss: 0.2578, Val Acc: 0.8856, Val Recall: 0.9228, Val F1: 0.9080\n"
     ]
    },
    {
     "name": "stderr",
     "output_type": "stream",
     "text": [
      "                                                                                                                       "
     ]
    },
    {
     "name": "stdout",
     "output_type": "stream",
     "text": [
      "[INFO] Learning rate adjusted to: 0.000030\n",
      "[INFO] No improvement in val_recall. Patience: 1/5\n",
      "Epoch [13]: Train Loss: 0.2039, Train Acc: 0.9036 | Val Loss: 0.2925, Val Acc: 0.8731, Val Recall: 0.8943, Val F1: 0.8961\n"
     ]
    },
    {
     "name": "stderr",
     "output_type": "stream",
     "text": [
      "                                                                                                                       "
     ]
    },
    {
     "name": "stdout",
     "output_type": "stream",
     "text": [
      "[INFO] Learning rate adjusted to: 0.000030\n",
      "[INFO] No improvement in val_recall. Patience: 2/5\n",
      "Epoch [14]: Train Loss: 0.2178, Train Acc: 0.9078 | Val Loss: 0.3214, Val Acc: 0.8831, Val Recall: 0.9187, Val F1: 0.9058\n"
     ]
    },
    {
     "name": "stderr",
     "output_type": "stream",
     "text": [
      "                                                                                                                       "
     ]
    },
    {
     "name": "stdout",
     "output_type": "stream",
     "text": [
      "[INFO] Learning rate adjusted to: 0.000030\n",
      "[INFO] No improvement in val_recall. Patience: 3/5\n",
      "Epoch [15]: Train Loss: 0.1991, Train Acc: 0.9089 | Val Loss: 0.2694, Val Acc: 0.8682, Val Recall: 0.8943, Val F1: 0.8925\n"
     ]
    },
    {
     "name": "stderr",
     "output_type": "stream",
     "text": [
      "                                                                                                                       "
     ]
    },
    {
     "name": "stdout",
     "output_type": "stream",
     "text": [
      "[INFO] Learning rate adjusted to: 0.000015\n",
      "[INFO] No improvement in val_recall. Patience: 4/5\n",
      "Epoch [16]: Train Loss: 0.1770, Train Acc: 0.9290 | Val Loss: 0.2851, Val Acc: 0.8806, Val Recall: 0.9024, Val F1: 0.9024\n"
     ]
    },
    {
     "name": "stderr",
     "output_type": "stream",
     "text": [
      "                                                                                                                       "
     ]
    },
    {
     "name": "stdout",
     "output_type": "stream",
     "text": [
      "[INFO] Learning rate adjusted to: 0.000015\n",
      "[INFO] Best model saved with val_recall: 0.9512\n",
      "Epoch [17]: Train Loss: 0.1859, Train Acc: 0.9216 | Val Loss: 0.2514, Val Acc: 0.8881, Val Recall: 0.9512, Val F1: 0.9123\n"
     ]
    },
    {
     "name": "stderr",
     "output_type": "stream",
     "text": [
      "                                                                                                                       "
     ]
    },
    {
     "name": "stdout",
     "output_type": "stream",
     "text": [
      "[INFO] Learning rate adjusted to: 0.000015\n",
      "[INFO] No improvement in val_recall. Patience: 1/5\n",
      "Epoch [18]: Train Loss: 0.1949, Train Acc: 0.9189 | Val Loss: 0.3013, Val Acc: 0.8881, Val Recall: 0.9228, Val F1: 0.9098\n"
     ]
    },
    {
     "name": "stderr",
     "output_type": "stream",
     "text": [
      "                                                                                                                       "
     ]
    },
    {
     "name": "stdout",
     "output_type": "stream",
     "text": [
      "[INFO] Learning rate adjusted to: 0.000015\n",
      "[INFO] No improvement in val_recall. Patience: 2/5\n",
      "Epoch [19]: Train Loss: 0.1935, Train Acc: 0.9131 | Val Loss: 0.2646, Val Acc: 0.8881, Val Recall: 0.9228, Val F1: 0.9098\n"
     ]
    },
    {
     "name": "stderr",
     "output_type": "stream",
     "text": [
      "                                                                                                                       "
     ]
    },
    {
     "name": "stdout",
     "output_type": "stream",
     "text": [
      "[INFO] Learning rate adjusted to: 0.000015\n",
      "[INFO] No improvement in val_recall. Patience: 3/5\n",
      "Epoch [20]: Train Loss: 0.1852, Train Acc: 0.9226 | Val Loss: 0.2313, Val Acc: 0.9080, Val Recall: 0.9431, Val F1: 0.9261\n"
     ]
    },
    {
     "name": "stderr",
     "output_type": "stream",
     "text": [
      "                                                                                                                       "
     ]
    },
    {
     "name": "stdout",
     "output_type": "stream",
     "text": [
      "[INFO] Learning rate adjusted to: 0.000007\n",
      "[INFO] No improvement in val_recall. Patience: 4/5\n",
      "Epoch [21]: Train Loss: 0.1821, Train Acc: 0.9253 | Val Loss: 0.2669, Val Acc: 0.8831, Val Recall: 0.9146, Val F1: 0.9054\n"
     ]
    },
    {
     "name": "stderr",
     "output_type": "stream",
     "text": [
      "[I 2024-12-18 23:27:37,334] Trial 0 finished with value: 0.9186991869918699 and parameters: {'lr': 5.943545145687012e-05, 'weight_decay': 4.7694576162678014e-05, 'dropout_prob': 0.33443002846888803, 'optimizer': 'Adam'}. Best is trial 0 with value: 0.9186991869918699.\n"
     ]
    },
    {
     "name": "stdout",
     "output_type": "stream",
     "text": [
      "[INFO] Learning rate adjusted to: 0.000007\n",
      "[INFO] No improvement in val_recall. Patience: 5/5\n",
      "Epoch [22]: Train Loss: 0.1896, Train Acc: 0.9237 | Val Loss: 0.2475, Val Acc: 0.9055, Val Recall: 0.9187, Val F1: 0.9224\n",
      "[INFO] Training stopped after 22 epochs. Best val_recall: 0.9512\n",
      "\n",
      "[INFO] Training completed!\n",
      "[INFO] Trial 0 - Final Validation Recall: 0.9187\n",
      "[DEBUG] Starting trial 1...\n",
      "[DEBUG] Suggested hyperparameters: lr=0.00013885926945797903, weight_decay=2.402931765758442e-06, optimizer=SGD\n",
      "[INFO] Starting model training...\n",
      "\n",
      "Starting training...\n",
      "\n"
     ]
    },
    {
     "name": "stderr",
     "output_type": "stream",
     "text": [
      "                                                                                                                       "
     ]
    },
    {
     "name": "stdout",
     "output_type": "stream",
     "text": [
      "[INFO] Learning rate adjusted to: 0.000139\n",
      "[INFO] Best model saved with val_recall: 0.7317\n",
      "Epoch [1]: Train Loss: 0.6895, Train Acc: 0.5464 | Val Loss: 0.6618, Val Acc: 0.6070, Val Recall: 0.7317, Val F1: 0.6950\n"
     ]
    },
    {
     "name": "stderr",
     "output_type": "stream",
     "text": [
      "                                                                                                                       "
     ]
    },
    {
     "name": "stdout",
     "output_type": "stream",
     "text": [
      "[INFO] Learning rate adjusted to: 0.000139\n",
      "[INFO] Best model saved with val_recall: 0.8252\n",
      "Epoch [2]: Train Loss: 0.6542, Train Acc: 0.6248 | Val Loss: 0.6344, Val Acc: 0.6493, Val Recall: 0.8252, Val F1: 0.7422\n"
     ]
    },
    {
     "name": "stderr",
     "output_type": "stream",
     "text": [
      "                                                                                                                       "
     ]
    },
    {
     "name": "stdout",
     "output_type": "stream",
     "text": [
      "[INFO] Learning rate adjusted to: 0.000139\n",
      "[INFO] No improvement in val_recall. Patience: 1/5\n",
      "Epoch [3]: Train Loss: 0.6301, Train Acc: 0.6534 | Val Loss: 0.6250, Val Acc: 0.6692, Val Recall: 0.8252, Val F1: 0.7532\n"
     ]
    },
    {
     "name": "stderr",
     "output_type": "stream",
     "text": [
      "                                                                                                                       "
     ]
    },
    {
     "name": "stdout",
     "output_type": "stream",
     "text": [
      "[INFO] Learning rate adjusted to: 0.000139\n",
      "[INFO] Best model saved with val_recall: 0.8740\n",
      "Epoch [4]: Train Loss: 0.6100, Train Acc: 0.6757 | Val Loss: 0.6019, Val Acc: 0.6891, Val Recall: 0.8740, Val F1: 0.7748\n"
     ]
    },
    {
     "name": "stderr",
     "output_type": "stream",
     "text": [
      "                                                                                                                       "
     ]
    },
    {
     "name": "stdout",
     "output_type": "stream",
     "text": [
      "[INFO] Learning rate adjusted to: 0.000139\n",
      "[INFO] No improvement in val_recall. Patience: 1/5\n",
      "Epoch [5]: Train Loss: 0.5880, Train Acc: 0.7107 | Val Loss: 0.5850, Val Acc: 0.6940, Val Recall: 0.8455, Val F1: 0.7718\n"
     ]
    },
    {
     "name": "stderr",
     "output_type": "stream",
     "text": [
      "                                                                                                                       "
     ]
    },
    {
     "name": "stdout",
     "output_type": "stream",
     "text": [
      "[INFO] Learning rate adjusted to: 0.000139\n",
      "[INFO] No improvement in val_recall. Patience: 2/5\n",
      "Epoch [6]: Train Loss: 0.5769, Train Acc: 0.7069 | Val Loss: 0.5733, Val Acc: 0.7363, Val Recall: 0.8293, Val F1: 0.7938\n"
     ]
    },
    {
     "name": "stderr",
     "output_type": "stream",
     "text": [
      "                                                                                                                       "
     ]
    },
    {
     "name": "stdout",
     "output_type": "stream",
     "text": [
      "[INFO] Learning rate adjusted to: 0.000139\n",
      "[INFO] No improvement in val_recall. Patience: 3/5\n",
      "Epoch [7]: Train Loss: 0.5615, Train Acc: 0.7223 | Val Loss: 0.5701, Val Acc: 0.6965, Val Recall: 0.8211, Val F1: 0.7681\n"
     ]
    },
    {
     "name": "stderr",
     "output_type": "stream",
     "text": [
      "                                                                                                                       "
     ]
    },
    {
     "name": "stdout",
     "output_type": "stream",
     "text": [
      "[INFO] Learning rate adjusted to: 0.000069\n",
      "[INFO] No improvement in val_recall. Patience: 4/5\n",
      "Epoch [8]: Train Loss: 0.5494, Train Acc: 0.7382 | Val Loss: 0.5392, Val Acc: 0.7512, Val Recall: 0.8537, Val F1: 0.8077\n"
     ]
    },
    {
     "name": "stderr",
     "output_type": "stream",
     "text": [
      "[I 2024-12-18 23:29:37,826] Trial 1 finished with value: 0.8658536585365854 and parameters: {'lr': 0.00013885926945797903, 'weight_decay': 2.402931765758442e-06, 'dropout_prob': 0.3725840061355488, 'optimizer': 'SGD'}. Best is trial 0 with value: 0.9186991869918699.\n"
     ]
    },
    {
     "name": "stdout",
     "output_type": "stream",
     "text": [
      "[INFO] Learning rate adjusted to: 0.000069\n",
      "[INFO] No improvement in val_recall. Patience: 5/5\n",
      "Epoch [9]: Train Loss: 0.5432, Train Acc: 0.7260 | Val Loss: 0.5499, Val Acc: 0.7388, Val Recall: 0.8659, Val F1: 0.8023\n",
      "[INFO] Training stopped after 9 epochs. Best val_recall: 0.8740\n",
      "\n",
      "[INFO] Training completed!\n",
      "[INFO] Trial 1 - Final Validation Recall: 0.8659\n",
      "[DEBUG] Starting trial 2...\n",
      "[DEBUG] Suggested hyperparameters: lr=4.093630443261781e-05, weight_decay=1.2271146474102595e-05, optimizer=AdamW\n",
      "[INFO] Starting model training...\n",
      "\n",
      "Starting training...\n",
      "\n"
     ]
    },
    {
     "name": "stderr",
     "output_type": "stream",
     "text": [
      "                                                                                                                       "
     ]
    },
    {
     "name": "stdout",
     "output_type": "stream",
     "text": [
      "[INFO] Learning rate adjusted to: 0.000041\n",
      "[INFO] Best model saved with val_recall: 0.8252\n",
      "Epoch [1]: Train Loss: 0.6484, Train Acc: 0.6206 | Val Loss: 0.5702, Val Acc: 0.7488, Val Recall: 0.8252, Val F1: 0.8008\n"
     ]
    },
    {
     "name": "stderr",
     "output_type": "stream",
     "text": [
      "                                                                                                                       "
     ]
    },
    {
     "name": "stdout",
     "output_type": "stream",
     "text": [
      "[INFO] Learning rate adjusted to: 0.000041\n",
      "[INFO] No improvement in val_recall. Patience: 1/5\n",
      "Epoch [2]: Train Loss: 0.5180, Train Acc: 0.7499 | Val Loss: 0.4734, Val Acc: 0.7786, Val Recall: 0.8130, Val F1: 0.8180\n"
     ]
    },
    {
     "name": "stderr",
     "output_type": "stream",
     "text": [
      "                                                                                                                       "
     ]
    },
    {
     "name": "stdout",
     "output_type": "stream",
     "text": [
      "[INFO] Learning rate adjusted to: 0.000041\n",
      "[INFO] Best model saved with val_recall: 0.8415\n",
      "Epoch [3]: Train Loss: 0.4321, Train Acc: 0.7960 | Val Loss: 0.4245, Val Acc: 0.8259, Val Recall: 0.8415, Val F1: 0.8554\n"
     ]
    },
    {
     "name": "stderr",
     "output_type": "stream",
     "text": [
      "                                                                                                                       "
     ]
    },
    {
     "name": "stdout",
     "output_type": "stream",
     "text": [
      "[INFO] Learning rate adjusted to: 0.000041\n",
      "[INFO] No improvement in val_recall. Patience: 1/5\n",
      "Epoch [4]: Train Loss: 0.3821, Train Acc: 0.8151 | Val Loss: 0.3711, Val Acc: 0.8109, Val Recall: 0.8415, Val F1: 0.8449\n"
     ]
    },
    {
     "name": "stderr",
     "output_type": "stream",
     "text": [
      "                                                                                                                       "
     ]
    },
    {
     "name": "stdout",
     "output_type": "stream",
     "text": [
      "[INFO] Learning rate adjusted to: 0.000041\n",
      "[INFO] No improvement in val_recall. Patience: 2/5\n",
      "Epoch [5]: Train Loss: 0.3491, Train Acc: 0.8431 | Val Loss: 0.3839, Val Acc: 0.8035, Val Recall: 0.8374, Val F1: 0.8391\n"
     ]
    },
    {
     "name": "stderr",
     "output_type": "stream",
     "text": [
      "                                                                                                                       "
     ]
    },
    {
     "name": "stdout",
     "output_type": "stream",
     "text": [
      "[INFO] Learning rate adjusted to: 0.000041\n",
      "[INFO] Best model saved with val_recall: 0.8496\n",
      "Epoch [6]: Train Loss: 0.3130, Train Acc: 0.8633 | Val Loss: 0.3504, Val Acc: 0.8284, Val Recall: 0.8496, Val F1: 0.8583\n"
     ]
    },
    {
     "name": "stderr",
     "output_type": "stream",
     "text": [
      "                                                                                                                       "
     ]
    },
    {
     "name": "stdout",
     "output_type": "stream",
     "text": [
      "[INFO] Learning rate adjusted to: 0.000041\n",
      "[INFO] Best model saved with val_recall: 0.9146\n",
      "Epoch [7]: Train Loss: 0.2985, Train Acc: 0.8633 | Val Loss: 0.3054, Val Acc: 0.8582, Val Recall: 0.9146, Val F1: 0.8876\n"
     ]
    },
    {
     "name": "stderr",
     "output_type": "stream",
     "text": [
      "                                                                                                                       "
     ]
    },
    {
     "name": "stdout",
     "output_type": "stream",
     "text": [
      "[INFO] Learning rate adjusted to: 0.000041\n",
      "[INFO] No improvement in val_recall. Patience: 1/5\n",
      "Epoch [8]: Train Loss: 0.2662, Train Acc: 0.8818 | Val Loss: 0.2996, Val Acc: 0.8607, Val Recall: 0.8984, Val F1: 0.8876\n"
     ]
    },
    {
     "name": "stderr",
     "output_type": "stream",
     "text": [
      "                                                                                                                       "
     ]
    },
    {
     "name": "stdout",
     "output_type": "stream",
     "text": [
      "[INFO] Learning rate adjusted to: 0.000041\n",
      "[INFO] No improvement in val_recall. Patience: 2/5\n",
      "Epoch [9]: Train Loss: 0.2731, Train Acc: 0.8834 | Val Loss: 0.2936, Val Acc: 0.8756, Val Recall: 0.8984, Val F1: 0.8984\n"
     ]
    },
    {
     "name": "stderr",
     "output_type": "stream",
     "text": [
      "                                                                                                                       "
     ]
    },
    {
     "name": "stdout",
     "output_type": "stream",
     "text": [
      "[INFO] Learning rate adjusted to: 0.000041\n",
      "[INFO] No improvement in val_recall. Patience: 3/5\n",
      "Epoch [10]: Train Loss: 0.2672, Train Acc: 0.8850 | Val Loss: 0.3215, Val Acc: 0.8657, Val Recall: 0.9024, Val F1: 0.8916\n"
     ]
    },
    {
     "name": "stderr",
     "output_type": "stream",
     "text": [
      "                                                                                                                       "
     ]
    },
    {
     "name": "stdout",
     "output_type": "stream",
     "text": [
      "[INFO] Learning rate adjusted to: 0.000041\n",
      "[INFO] Best model saved with val_recall: 0.9350\n",
      "Epoch [11]: Train Loss: 0.2473, Train Acc: 0.8887 | Val Loss: 0.2606, Val Acc: 0.8980, Val Recall: 0.9350, Val F1: 0.9182\n"
     ]
    },
    {
     "name": "stderr",
     "output_type": "stream",
     "text": [
      "                                                                                                                       "
     ]
    },
    {
     "name": "stdout",
     "output_type": "stream",
     "text": [
      "[INFO] Learning rate adjusted to: 0.000041\n",
      "[INFO] No improvement in val_recall. Patience: 1/5\n",
      "Epoch [12]: Train Loss: 0.2403, Train Acc: 0.8956 | Val Loss: 0.3112, Val Acc: 0.8507, Val Recall: 0.9024, Val F1: 0.8810\n"
     ]
    },
    {
     "name": "stderr",
     "output_type": "stream",
     "text": [
      "                                                                                                                       "
     ]
    },
    {
     "name": "stdout",
     "output_type": "stream",
     "text": [
      "[INFO] Learning rate adjusted to: 0.000041\n",
      "[INFO] No improvement in val_recall. Patience: 2/5\n",
      "Epoch [13]: Train Loss: 0.2197, Train Acc: 0.9094 | Val Loss: 0.2612, Val Acc: 0.8905, Val Recall: 0.9268, Val F1: 0.9120\n"
     ]
    },
    {
     "name": "stderr",
     "output_type": "stream",
     "text": [
      "                                                                                                                       "
     ]
    },
    {
     "name": "stdout",
     "output_type": "stream",
     "text": [
      "[INFO] Learning rate adjusted to: 0.000041\n",
      "[INFO] No improvement in val_recall. Patience: 3/5\n",
      "Epoch [14]: Train Loss: 0.2054, Train Acc: 0.9147 | Val Loss: 0.2932, Val Acc: 0.8781, Val Recall: 0.9065, Val F1: 0.9010\n"
     ]
    },
    {
     "name": "stderr",
     "output_type": "stream",
     "text": [
      "                                                                                                                       "
     ]
    },
    {
     "name": "stdout",
     "output_type": "stream",
     "text": [
      "[INFO] Learning rate adjusted to: 0.000020\n",
      "[INFO] No improvement in val_recall. Patience: 4/5\n",
      "Epoch [15]: Train Loss: 0.2139, Train Acc: 0.9057 | Val Loss: 0.3090, Val Acc: 0.8831, Val Recall: 0.9146, Val F1: 0.9054\n"
     ]
    },
    {
     "name": "stderr",
     "output_type": "stream",
     "text": [
      "[I 2024-12-18 23:33:19,975] Trial 2 finished with value: 0.9146341463414634 and parameters: {'lr': 4.093630443261781e-05, 'weight_decay': 1.2271146474102595e-05, 'dropout_prob': 0.21544749863863424, 'optimizer': 'AdamW'}. Best is trial 0 with value: 0.9186991869918699.\n"
     ]
    },
    {
     "name": "stdout",
     "output_type": "stream",
     "text": [
      "[INFO] Learning rate adjusted to: 0.000020\n",
      "[INFO] No improvement in val_recall. Patience: 5/5\n",
      "Epoch [16]: Train Loss: 0.2094, Train Acc: 0.9147 | Val Loss: 0.2833, Val Acc: 0.8856, Val Recall: 0.9146, Val F1: 0.9073\n",
      "[INFO] Training stopped after 16 epochs. Best val_recall: 0.9350\n",
      "\n",
      "[INFO] Training completed!\n",
      "[INFO] Trial 2 - Final Validation Recall: 0.9146\n",
      "[DEBUG] Starting trial 3...\n",
      "[DEBUG] Suggested hyperparameters: lr=0.0029271161087579623, weight_decay=0.00028022576436715875, optimizer=SGD\n",
      "[INFO] Starting model training...\n",
      "\n",
      "Starting training...\n",
      "\n"
     ]
    },
    {
     "name": "stderr",
     "output_type": "stream",
     "text": [
      "                                                                                                                       "
     ]
    },
    {
     "name": "stdout",
     "output_type": "stream",
     "text": [
      "[INFO] Learning rate adjusted to: 0.002927\n",
      "[INFO] Best model saved with val_recall: 0.8496\n",
      "Epoch [1]: Train Loss: 0.5765, Train Acc: 0.6884 | Val Loss: 0.4840, Val Acc: 0.7662, Val Recall: 0.8496, Val F1: 0.8164\n"
     ]
    },
    {
     "name": "stderr",
     "output_type": "stream",
     "text": [
      "                                                                                                                       "
     ]
    },
    {
     "name": "stdout",
     "output_type": "stream",
     "text": [
      "[INFO] Learning rate adjusted to: 0.002927\n",
      "[INFO] No improvement in val_recall. Patience: 1/5\n",
      "Epoch [2]: Train Loss: 0.4483, Train Acc: 0.7923 | Val Loss: 0.4258, Val Acc: 0.8010, Val Recall: 0.8455, Val F1: 0.8387\n"
     ]
    },
    {
     "name": "stderr",
     "output_type": "stream",
     "text": [
      "                                                                                                                       "
     ]
    },
    {
     "name": "stdout",
     "output_type": "stream",
     "text": [
      "[INFO] Learning rate adjusted to: 0.002927\n",
      "[INFO] Best model saved with val_recall: 0.8943\n",
      "Epoch [3]: Train Loss: 0.3859, Train Acc: 0.8140 | Val Loss: 0.3572, Val Acc: 0.8433, Val Recall: 0.8943, Val F1: 0.8748\n"
     ]
    },
    {
     "name": "stderr",
     "output_type": "stream",
     "text": [
      "                                                                                                                       "
     ]
    },
    {
     "name": "stdout",
     "output_type": "stream",
     "text": [
      "[INFO] Learning rate adjusted to: 0.002927\n",
      "[INFO] Best model saved with val_recall: 0.9228\n",
      "Epoch [4]: Train Loss: 0.3298, Train Acc: 0.8516 | Val Loss: 0.3134, Val Acc: 0.8706, Val Recall: 0.9228, Val F1: 0.8972\n"
     ]
    },
    {
     "name": "stderr",
     "output_type": "stream",
     "text": [
      "                                                                                                                       "
     ]
    },
    {
     "name": "stdout",
     "output_type": "stream",
     "text": [
      "[INFO] Learning rate adjusted to: 0.002927\n",
      "[INFO] No improvement in val_recall. Patience: 1/5\n",
      "Epoch [5]: Train Loss: 0.3228, Train Acc: 0.8521 | Val Loss: 0.3908, Val Acc: 0.8458, Val Recall: 0.8780, Val F1: 0.8745\n"
     ]
    },
    {
     "name": "stderr",
     "output_type": "stream",
     "text": [
      "                                                                                                                       "
     ]
    },
    {
     "name": "stdout",
     "output_type": "stream",
     "text": [
      "[INFO] Learning rate adjusted to: 0.002927\n",
      "[INFO] No improvement in val_recall. Patience: 2/5\n",
      "Epoch [6]: Train Loss: 0.3291, Train Acc: 0.8617 | Val Loss: 0.3501, Val Acc: 0.8383, Val Recall: 0.8902, Val F1: 0.8708\n"
     ]
    },
    {
     "name": "stderr",
     "output_type": "stream",
     "text": [
      "                                                                                                                       "
     ]
    },
    {
     "name": "stdout",
     "output_type": "stream",
     "text": [
      "[INFO] Learning rate adjusted to: 0.002927\n",
      "[INFO] No improvement in val_recall. Patience: 3/5\n",
      "Epoch [7]: Train Loss: 0.2943, Train Acc: 0.8707 | Val Loss: 0.3307, Val Acc: 0.8358, Val Recall: 0.8862, Val F1: 0.8685\n"
     ]
    },
    {
     "name": "stderr",
     "output_type": "stream",
     "text": [
      "                                                                                                                       "
     ]
    },
    {
     "name": "stdout",
     "output_type": "stream",
     "text": [
      "[INFO] Learning rate adjusted to: 0.002927\n",
      "[INFO] Best model saved with val_recall: 0.9390\n",
      "Epoch [8]: Train Loss: 0.2822, Train Acc: 0.8749 | Val Loss: 0.3523, Val Acc: 0.8532, Val Recall: 0.9390, Val F1: 0.8868\n"
     ]
    },
    {
     "name": "stderr",
     "output_type": "stream",
     "text": [
      "                                                                                                                       "
     ]
    },
    {
     "name": "stdout",
     "output_type": "stream",
     "text": [
      "[INFO] Learning rate adjusted to: 0.002927\n",
      "[INFO] No improvement in val_recall. Patience: 1/5\n",
      "Epoch [9]: Train Loss: 0.2630, Train Acc: 0.8808 | Val Loss: 0.3280, Val Acc: 0.8657, Val Recall: 0.9309, Val F1: 0.8945\n"
     ]
    },
    {
     "name": "stderr",
     "output_type": "stream",
     "text": [
      "                                                                                                                       "
     ]
    },
    {
     "name": "stdout",
     "output_type": "stream",
     "text": [
      "[INFO] Learning rate adjusted to: 0.002927\n",
      "[INFO] No improvement in val_recall. Patience: 2/5\n",
      "Epoch [10]: Train Loss: 0.2559, Train Acc: 0.8781 | Val Loss: 0.3217, Val Acc: 0.8632, Val Recall: 0.8984, Val F1: 0.8893\n"
     ]
    },
    {
     "name": "stderr",
     "output_type": "stream",
     "text": [
      "                                                                                                                       "
     ]
    },
    {
     "name": "stdout",
     "output_type": "stream",
     "text": [
      "[INFO] Learning rate adjusted to: 0.002927\n",
      "[INFO] No improvement in val_recall. Patience: 3/5\n",
      "Epoch [11]: Train Loss: 0.2385, Train Acc: 0.8956 | Val Loss: 0.3187, Val Acc: 0.8831, Val Recall: 0.8821, Val F1: 0.9023\n"
     ]
    },
    {
     "name": "stderr",
     "output_type": "stream",
     "text": [
      "                                                                                                                       "
     ]
    },
    {
     "name": "stdout",
     "output_type": "stream",
     "text": [
      "[INFO] Learning rate adjusted to: 0.001464\n",
      "[INFO] No improvement in val_recall. Patience: 4/5\n",
      "Epoch [12]: Train Loss: 0.2379, Train Acc: 0.8983 | Val Loss: 0.3098, Val Acc: 0.8781, Val Recall: 0.9065, Val F1: 0.9010\n"
     ]
    },
    {
     "name": "stderr",
     "output_type": "stream",
     "text": [
      "[I 2024-12-18 23:36:14,512] Trial 3 finished with value: 0.9227642276422764 and parameters: {'lr': 0.0029271161087579623, 'weight_decay': 0.00028022576436715875, 'dropout_prob': 0.44491575464254657, 'optimizer': 'SGD'}. Best is trial 3 with value: 0.9227642276422764.\n"
     ]
    },
    {
     "name": "stdout",
     "output_type": "stream",
     "text": [
      "[INFO] Learning rate adjusted to: 0.001464\n",
      "[INFO] No improvement in val_recall. Patience: 5/5\n",
      "Epoch [13]: Train Loss: 0.2228, Train Acc: 0.9110 | Val Loss: 0.2628, Val Acc: 0.9005, Val Recall: 0.9228, Val F1: 0.9190\n",
      "[INFO] Training stopped after 13 epochs. Best val_recall: 0.9390\n",
      "\n",
      "[INFO] Training completed!\n",
      "[INFO] Trial 3 - Final Validation Recall: 0.9228\n",
      "[DEBUG] Starting trial 4...\n",
      "[DEBUG] Suggested hyperparameters: lr=0.0001373620492591486, weight_decay=7.402795761829575e-06, optimizer=SGD\n",
      "[INFO] Starting model training...\n",
      "\n",
      "Starting training...\n",
      "\n"
     ]
    },
    {
     "name": "stderr",
     "output_type": "stream",
     "text": [
      "                                                                                                                       "
     ]
    },
    {
     "name": "stdout",
     "output_type": "stream",
     "text": [
      "[INFO] Learning rate adjusted to: 0.000137\n",
      "[INFO] Best model saved with val_recall: 0.6789\n",
      "Epoch [1]: Train Loss: 0.6774, Train Acc: 0.5580 | Val Loss: 0.6702, Val Acc: 0.5821, Val Recall: 0.6789, Val F1: 0.6653\n"
     ]
    },
    {
     "name": "stderr",
     "output_type": "stream",
     "text": [
      "                                                                                                                       "
     ]
    },
    {
     "name": "stdout",
     "output_type": "stream",
     "text": [
      "[INFO] Learning rate adjusted to: 0.000137\n",
      "[INFO] Best model saved with val_recall: 0.8089\n",
      "Epoch [2]: Train Loss: 0.6439, Train Acc: 0.6290 | Val Loss: 0.6223, Val Acc: 0.6816, Val Recall: 0.8089, Val F1: 0.7567\n"
     ]
    },
    {
     "name": "stderr",
     "output_type": "stream",
     "text": [
      "                                                                                                                       "
     ]
    },
    {
     "name": "stdout",
     "output_type": "stream",
     "text": [
      "[INFO] Learning rate adjusted to: 0.000137\n",
      "[INFO] Best model saved with val_recall: 0.8577\n",
      "Epoch [3]: Train Loss: 0.6245, Train Acc: 0.6651 | Val Loss: 0.5943, Val Acc: 0.7189, Val Recall: 0.8577, Val F1: 0.7888\n"
     ]
    },
    {
     "name": "stderr",
     "output_type": "stream",
     "text": [
      "                                                                                                                       "
     ]
    },
    {
     "name": "stdout",
     "output_type": "stream",
     "text": [
      "[INFO] Learning rate adjusted to: 0.000137\n",
      "[INFO] No improvement in val_recall. Patience: 1/5\n",
      "Epoch [4]: Train Loss: 0.6072, Train Acc: 0.6868 | Val Loss: 0.5985, Val Acc: 0.6866, Val Recall: 0.8333, Val F1: 0.7649\n"
     ]
    },
    {
     "name": "stderr",
     "output_type": "stream",
     "text": [
      "                                                                                                                       "
     ]
    },
    {
     "name": "stdout",
     "output_type": "stream",
     "text": [
      "[INFO] Learning rate adjusted to: 0.000137\n",
      "[INFO] Best model saved with val_recall: 0.8618\n",
      "Epoch [5]: Train Loss: 0.5805, Train Acc: 0.7160 | Val Loss: 0.5802, Val Acc: 0.7338, Val Recall: 0.8618, Val F1: 0.7985\n"
     ]
    },
    {
     "name": "stderr",
     "output_type": "stream",
     "text": [
      "                                                                                                                       "
     ]
    },
    {
     "name": "stdout",
     "output_type": "stream",
     "text": [
      "[INFO] Learning rate adjusted to: 0.000137\n",
      "[INFO] No improvement in val_recall. Patience: 1/5\n",
      "Epoch [6]: Train Loss: 0.5720, Train Acc: 0.7133 | Val Loss: 0.5534, Val Acc: 0.7090, Val Recall: 0.8211, Val F1: 0.7754\n"
     ]
    },
    {
     "name": "stderr",
     "output_type": "stream",
     "text": [
      "                                                                                                                       "
     ]
    },
    {
     "name": "stdout",
     "output_type": "stream",
     "text": [
      "[INFO] Learning rate adjusted to: 0.000137\n",
      "[INFO] No improvement in val_recall. Patience: 2/5\n",
      "Epoch [7]: Train Loss: 0.5653, Train Acc: 0.7096 | Val Loss: 0.5486, Val Acc: 0.7313, Val Recall: 0.8577, Val F1: 0.7962\n"
     ]
    },
    {
     "name": "stderr",
     "output_type": "stream",
     "text": [
      "                                                                                                                       "
     ]
    },
    {
     "name": "stdout",
     "output_type": "stream",
     "text": [
      "[INFO] Learning rate adjusted to: 0.000137\n",
      "[INFO] Best model saved with val_recall: 0.8780\n",
      "Epoch [8]: Train Loss: 0.5500, Train Acc: 0.7403 | Val Loss: 0.5532, Val Acc: 0.7388, Val Recall: 0.8780, Val F1: 0.8045\n"
     ]
    },
    {
     "name": "stderr",
     "output_type": "stream",
     "text": [
      "                                                                                                                       "
     ]
    },
    {
     "name": "stdout",
     "output_type": "stream",
     "text": [
      "[INFO] Learning rate adjusted to: 0.000137\n",
      "[INFO] Best model saved with val_recall: 0.8943\n",
      "Epoch [9]: Train Loss: 0.5360, Train Acc: 0.7451 | Val Loss: 0.5238, Val Acc: 0.7662, Val Recall: 0.8943, Val F1: 0.8240\n"
     ]
    },
    {
     "name": "stderr",
     "output_type": "stream",
     "text": [
      "                                                                                                                       "
     ]
    },
    {
     "name": "stdout",
     "output_type": "stream",
     "text": [
      "[INFO] Learning rate adjusted to: 0.000137\n",
      "[INFO] No improvement in val_recall. Patience: 1/5\n",
      "Epoch [10]: Train Loss: 0.5245, Train Acc: 0.7462 | Val Loss: 0.5145, Val Acc: 0.7488, Val Recall: 0.8293, Val F1: 0.8016\n"
     ]
    },
    {
     "name": "stderr",
     "output_type": "stream",
     "text": [
      "                                                                                                                       "
     ]
    },
    {
     "name": "stdout",
     "output_type": "stream",
     "text": [
      "[INFO] Learning rate adjusted to: 0.000137\n",
      "[INFO] No improvement in val_recall. Patience: 2/5\n",
      "Epoch [11]: Train Loss: 0.5161, Train Acc: 0.7562 | Val Loss: 0.4872, Val Acc: 0.7612, Val Recall: 0.8659, Val F1: 0.8161\n"
     ]
    },
    {
     "name": "stderr",
     "output_type": "stream",
     "text": [
      "                                                                                                                       "
     ]
    },
    {
     "name": "stdout",
     "output_type": "stream",
     "text": [
      "[INFO] Learning rate adjusted to: 0.000137\n",
      "[INFO] No improvement in val_recall. Patience: 3/5\n",
      "Epoch [12]: Train Loss: 0.5048, Train Acc: 0.7530 | Val Loss: 0.4955, Val Acc: 0.7512, Val Recall: 0.8821, Val F1: 0.8127\n"
     ]
    },
    {
     "name": "stderr",
     "output_type": "stream",
     "text": [
      "                                                                                                                       "
     ]
    },
    {
     "name": "stdout",
     "output_type": "stream",
     "text": [
      "[INFO] Learning rate adjusted to: 0.000069\n",
      "[INFO] No improvement in val_recall. Patience: 4/5\n",
      "Epoch [13]: Train Loss: 0.4961, Train Acc: 0.7705 | Val Loss: 0.4969, Val Acc: 0.7488, Val Recall: 0.8415, Val F1: 0.8039\n"
     ]
    },
    {
     "name": "stderr",
     "output_type": "stream",
     "text": [
      "[I 2024-12-18 23:39:22,602] Trial 4 finished with value: 0.8739837398373984 and parameters: {'lr': 0.0001373620492591486, 'weight_decay': 7.402795761829575e-06, 'dropout_prob': 0.38028025072823113, 'optimizer': 'SGD'}. Best is trial 3 with value: 0.9227642276422764.\n"
     ]
    },
    {
     "name": "stdout",
     "output_type": "stream",
     "text": [
      "[INFO] Learning rate adjusted to: 0.000069\n",
      "[INFO] No improvement in val_recall. Patience: 5/5\n",
      "Epoch [14]: Train Loss: 0.4940, Train Acc: 0.7727 | Val Loss: 0.4958, Val Acc: 0.7612, Val Recall: 0.8740, Val F1: 0.8175\n",
      "[INFO] Training stopped after 14 epochs. Best val_recall: 0.8943\n",
      "\n",
      "[INFO] Training completed!\n",
      "[INFO] Trial 4 - Final Validation Recall: 0.8740\n",
      "[DEBUG] Starting trial 5...\n",
      "[DEBUG] Suggested hyperparameters: lr=0.0003575786574233795, weight_decay=2.149152123262872e-06, optimizer=Adam\n",
      "[INFO] Starting model training...\n",
      "\n",
      "Starting training...\n",
      "\n"
     ]
    },
    {
     "name": "stderr",
     "output_type": "stream",
     "text": [
      "                                                                                                                       "
     ]
    },
    {
     "name": "stdout",
     "output_type": "stream",
     "text": [
      "[INFO] Learning rate adjusted to: 0.000358\n",
      "[INFO] Best model saved with val_recall: 0.8171\n",
      "Epoch [1]: Train Loss: 0.4828, Train Acc: 0.7366 | Val Loss: 0.4144, Val Acc: 0.8085, Val Recall: 0.8171, Val F1: 0.8392\n"
     ]
    },
    {
     "name": "stderr",
     "output_type": "stream",
     "text": [
      "                                                                                                                       "
     ]
    },
    {
     "name": "stdout",
     "output_type": "stream",
     "text": [
      "[INFO] Learning rate adjusted to: 0.000358\n",
      "[INFO] Best model saved with val_recall: 0.8821\n",
      "Epoch [2]: Train Loss: 0.3420, Train Acc: 0.8384 | Val Loss: 0.3124, Val Acc: 0.8856, Val Recall: 0.8821, Val F1: 0.9042\n"
     ]
    },
    {
     "name": "stderr",
     "output_type": "stream",
     "text": [
      "                                                                                                                       "
     ]
    },
    {
     "name": "stdout",
     "output_type": "stream",
     "text": [
      "[INFO] Learning rate adjusted to: 0.000358\n",
      "[INFO] Best model saved with val_recall: 0.9228\n",
      "Epoch [3]: Train Loss: 0.2957, Train Acc: 0.8670 | Val Loss: 0.3115, Val Acc: 0.8632, Val Recall: 0.9228, Val F1: 0.8919\n"
     ]
    },
    {
     "name": "stderr",
     "output_type": "stream",
     "text": [
      "                                                                                                                       "
     ]
    },
    {
     "name": "stdout",
     "output_type": "stream",
     "text": [
      "[INFO] Learning rate adjusted to: 0.000358\n",
      "[INFO] Best model saved with val_recall: 0.9268\n",
      "Epoch [4]: Train Loss: 0.2548, Train Acc: 0.8898 | Val Loss: 0.3355, Val Acc: 0.8582, Val Recall: 0.9268, Val F1: 0.8889\n"
     ]
    },
    {
     "name": "stderr",
     "output_type": "stream",
     "text": [
      "                                                                                                                       "
     ]
    },
    {
     "name": "stdout",
     "output_type": "stream",
     "text": [
      "[INFO] Learning rate adjusted to: 0.000358\n",
      "[INFO] No improvement in val_recall. Patience: 1/5\n",
      "Epoch [5]: Train Loss: 0.2655, Train Acc: 0.8771 | Val Loss: 0.2846, Val Acc: 0.8856, Val Recall: 0.9024, Val F1: 0.9061\n"
     ]
    },
    {
     "name": "stderr",
     "output_type": "stream",
     "text": [
      "                                                                                                                       "
     ]
    },
    {
     "name": "stdout",
     "output_type": "stream",
     "text": [
      "[INFO] Learning rate adjusted to: 0.000358\n",
      "[INFO] No improvement in val_recall. Patience: 2/5\n",
      "Epoch [6]: Train Loss: 0.2271, Train Acc: 0.9014 | Val Loss: 0.3183, Val Acc: 0.8706, Val Recall: 0.8984, Val F1: 0.8947\n"
     ]
    },
    {
     "name": "stderr",
     "output_type": "stream",
     "text": [
      "                                                                                                                       "
     ]
    },
    {
     "name": "stdout",
     "output_type": "stream",
     "text": [
      "[INFO] Learning rate adjusted to: 0.000358\n",
      "[INFO] No improvement in val_recall. Patience: 3/5\n",
      "Epoch [7]: Train Loss: 0.2084, Train Acc: 0.9120 | Val Loss: 0.2796, Val Acc: 0.8806, Val Recall: 0.9106, Val F1: 0.9032\n"
     ]
    },
    {
     "name": "stderr",
     "output_type": "stream",
     "text": [
      "                                                                                                                       "
     ]
    },
    {
     "name": "stdout",
     "output_type": "stream",
     "text": [
      "[INFO] Learning rate adjusted to: 0.000179\n",
      "[INFO] No improvement in val_recall. Patience: 4/5\n",
      "Epoch [8]: Train Loss: 0.1904, Train Acc: 0.9247 | Val Loss: 0.3190, Val Acc: 0.8881, Val Recall: 0.9268, Val F1: 0.9102\n"
     ]
    },
    {
     "name": "stderr",
     "output_type": "stream",
     "text": [
      "                                                                                                                       "
     ]
    },
    {
     "name": "stdout",
     "output_type": "stream",
     "text": [
      "[INFO] Learning rate adjusted to: 0.000179\n",
      "[INFO] Best model saved with val_recall: 0.9472\n",
      "Epoch [9]: Train Loss: 0.1691, Train Acc: 0.9322 | Val Loss: 0.2397, Val Acc: 0.9353, Val Recall: 0.9472, Val F1: 0.9472\n"
     ]
    },
    {
     "name": "stderr",
     "output_type": "stream",
     "text": [
      "                                                                                                                       "
     ]
    },
    {
     "name": "stdout",
     "output_type": "stream",
     "text": [
      "[INFO] Learning rate adjusted to: 0.000179\n",
      "[INFO] No improvement in val_recall. Patience: 1/5\n",
      "Epoch [10]: Train Loss: 0.1479, Train Acc: 0.9385 | Val Loss: 0.3300, Val Acc: 0.8881, Val Recall: 0.8984, Val F1: 0.9076\n"
     ]
    },
    {
     "name": "stderr",
     "output_type": "stream",
     "text": [
      "                                                                                                                       "
     ]
    },
    {
     "name": "stdout",
     "output_type": "stream",
     "text": [
      "[INFO] Learning rate adjusted to: 0.000179\n",
      "[INFO] No improvement in val_recall. Patience: 2/5\n",
      "Epoch [11]: Train Loss: 0.1344, Train Acc: 0.9428 | Val Loss: 0.2791, Val Acc: 0.9005, Val Recall: 0.9309, Val F1: 0.9197\n"
     ]
    },
    {
     "name": "stderr",
     "output_type": "stream",
     "text": [
      "                                                                                                                       "
     ]
    },
    {
     "name": "stdout",
     "output_type": "stream",
     "text": [
      "[INFO] Learning rate adjusted to: 0.000179\n",
      "[INFO] No improvement in val_recall. Patience: 3/5\n",
      "Epoch [12]: Train Loss: 0.1296, Train Acc: 0.9438 | Val Loss: 0.2643, Val Acc: 0.9104, Val Recall: 0.9390, Val F1: 0.9277\n"
     ]
    },
    {
     "name": "stderr",
     "output_type": "stream",
     "text": [
      "                                                                                                                       "
     ]
    },
    {
     "name": "stdout",
     "output_type": "stream",
     "text": [
      "[INFO] Learning rate adjusted to: 0.000089\n",
      "[INFO] No improvement in val_recall. Patience: 4/5\n",
      "Epoch [13]: Train Loss: 0.1194, Train Acc: 0.9481 | Val Loss: 0.2211, Val Acc: 0.9229, Val Recall: 0.9390, Val F1: 0.9371\n"
     ]
    },
    {
     "name": "stderr",
     "output_type": "stream",
     "text": [
      "                                                                                                                       "
     ]
    },
    {
     "name": "stdout",
     "output_type": "stream",
     "text": [
      "[INFO] Learning rate adjusted to: 0.000089\n",
      "[INFO] Best model saved with val_recall: 0.9512\n",
      "Epoch [14]: Train Loss: 0.1332, Train Acc: 0.9433 | Val Loss: 0.2690, Val Acc: 0.9254, Val Recall: 0.9512, Val F1: 0.9398\n"
     ]
    },
    {
     "name": "stderr",
     "output_type": "stream",
     "text": [
      "                                                                                                                       "
     ]
    },
    {
     "name": "stdout",
     "output_type": "stream",
     "text": [
      "[INFO] Learning rate adjusted to: 0.000089\n",
      "[INFO] No improvement in val_recall. Patience: 1/5\n",
      "Epoch [15]: Train Loss: 0.1190, Train Acc: 0.9544 | Val Loss: 0.2345, Val Acc: 0.9204, Val Recall: 0.9268, Val F1: 0.9344\n"
     ]
    },
    {
     "name": "stderr",
     "output_type": "stream",
     "text": [
      "                                                                                                                       "
     ]
    },
    {
     "name": "stdout",
     "output_type": "stream",
     "text": [
      "[INFO] Learning rate adjusted to: 0.000089\n",
      "[INFO] No improvement in val_recall. Patience: 2/5\n",
      "Epoch [16]: Train Loss: 0.1021, Train Acc: 0.9597 | Val Loss: 0.2723, Val Acc: 0.9303, Val Recall: 0.9431, Val F1: 0.9431\n"
     ]
    },
    {
     "name": "stderr",
     "output_type": "stream",
     "text": [
      "                                                                                                                       "
     ]
    },
    {
     "name": "stdout",
     "output_type": "stream",
     "text": [
      "[INFO] Learning rate adjusted to: 0.000089\n",
      "[INFO] Best model saved with val_recall: 0.9634\n",
      "Epoch [17]: Train Loss: 0.1140, Train Acc: 0.9550 | Val Loss: 0.2797, Val Acc: 0.9254, Val Recall: 0.9634, Val F1: 0.9405\n"
     ]
    },
    {
     "name": "stderr",
     "output_type": "stream",
     "text": [
      "                                                                                                                       "
     ]
    },
    {
     "name": "stdout",
     "output_type": "stream",
     "text": [
      "[INFO] Learning rate adjusted to: 0.000089\n",
      "[INFO] No improvement in val_recall. Patience: 1/5\n",
      "Epoch [18]: Train Loss: 0.1115, Train Acc: 0.9565 | Val Loss: 0.2338, Val Acc: 0.9328, Val Recall: 0.9390, Val F1: 0.9448\n"
     ]
    },
    {
     "name": "stderr",
     "output_type": "stream",
     "text": [
      "                                                                                                                       "
     ]
    },
    {
     "name": "stdout",
     "output_type": "stream",
     "text": [
      "[INFO] Learning rate adjusted to: 0.000089\n",
      "[INFO] No improvement in val_recall. Patience: 2/5\n",
      "Epoch [19]: Train Loss: 0.1036, Train Acc: 0.9592 | Val Loss: 0.2973, Val Acc: 0.9204, Val Recall: 0.9350, Val F1: 0.9350\n"
     ]
    },
    {
     "name": "stderr",
     "output_type": "stream",
     "text": [
      "                                                                                                                       "
     ]
    },
    {
     "name": "stdout",
     "output_type": "stream",
     "text": [
      "[INFO] Learning rate adjusted to: 0.000089\n",
      "[INFO] No improvement in val_recall. Patience: 3/5\n",
      "Epoch [20]: Train Loss: 0.1004, Train Acc: 0.9597 | Val Loss: 0.2747, Val Acc: 0.9328, Val Recall: 0.9634, Val F1: 0.9461\n"
     ]
    },
    {
     "name": "stderr",
     "output_type": "stream",
     "text": [
      "                                                                                                                       "
     ]
    },
    {
     "name": "stdout",
     "output_type": "stream",
     "text": [
      "[INFO] Learning rate adjusted to: 0.000045\n",
      "[INFO] No improvement in val_recall. Patience: 4/5\n",
      "Epoch [21]: Train Loss: 0.0994, Train Acc: 0.9565 | Val Loss: 0.2730, Val Acc: 0.9030, Val Recall: 0.9268, Val F1: 0.9212\n"
     ]
    },
    {
     "name": "stderr",
     "output_type": "stream",
     "text": [
      "[I 2024-12-18 23:43:55,364] Trial 5 finished with value: 0.9512195121951219 and parameters: {'lr': 0.0003575786574233795, 'weight_decay': 2.149152123262872e-06, 'dropout_prob': 0.25958347408191684, 'optimizer': 'Adam'}. Best is trial 5 with value: 0.9512195121951219.\n"
     ]
    },
    {
     "name": "stdout",
     "output_type": "stream",
     "text": [
      "[INFO] Learning rate adjusted to: 0.000045\n",
      "[INFO] No improvement in val_recall. Patience: 5/5\n",
      "Epoch [22]: Train Loss: 0.1004, Train Acc: 0.9603 | Val Loss: 0.2810, Val Acc: 0.9129, Val Recall: 0.9512, Val F1: 0.9304\n",
      "[INFO] Training stopped after 22 epochs. Best val_recall: 0.9634\n",
      "\n",
      "[INFO] Training completed!\n",
      "[INFO] Trial 5 - Final Validation Recall: 0.9512\n",
      "[DEBUG] Starting trial 6...\n",
      "[DEBUG] Suggested hyperparameters: lr=2.8896862245871168e-05, weight_decay=0.0008640904040761108, optimizer=Adam\n",
      "[INFO] Starting model training...\n",
      "\n",
      "Starting training...\n",
      "\n"
     ]
    },
    {
     "name": "stderr",
     "output_type": "stream",
     "text": [
      "                                                                                                                       "
     ]
    },
    {
     "name": "stdout",
     "output_type": "stream",
     "text": [
      "[INFO] Learning rate adjusted to: 0.000029\n",
      "[INFO] Best model saved with val_recall: 0.7317\n",
      "Epoch [1]: Train Loss: 0.6762, Train Acc: 0.5612 | Val Loss: 0.6270, Val Acc: 0.6716, Val Recall: 0.7317, Val F1: 0.7317\n"
     ]
    },
    {
     "name": "stderr",
     "output_type": "stream",
     "text": [
      "                                                                                                                       "
     ]
    },
    {
     "name": "stdout",
     "output_type": "stream",
     "text": [
      "[INFO] Learning rate adjusted to: 0.000029\n",
      "[INFO] Best model saved with val_recall: 0.8130\n",
      "Epoch [2]: Train Loss: 0.5901, Train Acc: 0.7038 | Val Loss: 0.5545, Val Acc: 0.7438, Val Recall: 0.8130, Val F1: 0.7952\n"
     ]
    },
    {
     "name": "stderr",
     "output_type": "stream",
     "text": [
      "                                                                                                                       "
     ]
    },
    {
     "name": "stdout",
     "output_type": "stream",
     "text": [
      "[INFO] Learning rate adjusted to: 0.000029\n",
      "[INFO] Best model saved with val_recall: 0.8333\n",
      "Epoch [3]: Train Loss: 0.5129, Train Acc: 0.7488 | Val Loss: 0.4780, Val Acc: 0.7811, Val Recall: 0.8333, Val F1: 0.8233\n"
     ]
    },
    {
     "name": "stderr",
     "output_type": "stream",
     "text": [
      "[W 2024-12-18 23:44:43,568] Trial 6 failed with parameters: {'lr': 2.8896862245871168e-05, 'weight_decay': 0.0008640904040761108, 'dropout_prob': 0.3581145510166829, 'optimizer': 'Adam'} because of the following error: KeyboardInterrupt().\n",
      "Traceback (most recent call last):\n",
      "  File \"C:\\Users\\Yash\\Documents\\Development\\Projects\\final_year\\env\\Lib\\site-packages\\optuna\\study\\_optimize.py\", line 197, in _run_trial\n",
      "    value_or_values = func(trial)\n",
      "                      ^^^^^^^^^^^\n",
      "  File \"C:\\Users\\Yash\\AppData\\Local\\Temp\\ipykernel_15596\\468884178.py\", line 39, in objective\n",
      "    history = train_model(\n",
      "              ^^^^^^^^^^^^\n",
      "  File \"C:\\Users\\Yash\\Documents\\Development\\Projects\\final_year\\utils\\train_utils.py\", line 69, in train_model\n",
      "    train_loss += loss.item() * images.size(0)\n",
      "                  ^^^^^^^^^^^\n",
      "KeyboardInterrupt\n",
      "[W 2024-12-18 23:44:43,569] Trial 6 failed with value None.\n"
     ]
    },
    {
     "ename": "KeyboardInterrupt",
     "evalue": "",
     "output_type": "error",
     "traceback": [
      "\u001b[1;31m---------------------------------------------------------------------------\u001b[0m",
      "\u001b[1;31mKeyboardInterrupt\u001b[0m                         Traceback (most recent call last)",
      "Cell \u001b[1;32mIn[8], line 4\u001b[0m\n\u001b[0;32m      2\u001b[0m \u001b[38;5;28mprint\u001b[39m(\u001b[38;5;124m\"\u001b[39m\u001b[38;5;124m[INFO] Running hyperparameter optimization...\u001b[39m\u001b[38;5;124m\"\u001b[39m)\n\u001b[0;32m      3\u001b[0m study \u001b[38;5;241m=\u001b[39m optuna\u001b[38;5;241m.\u001b[39mcreate_study(direction\u001b[38;5;241m=\u001b[39m\u001b[38;5;124m\"\u001b[39m\u001b[38;5;124mmaximize\u001b[39m\u001b[38;5;124m\"\u001b[39m)\n\u001b[1;32m----> 4\u001b[0m \u001b[43mstudy\u001b[49m\u001b[38;5;241;43m.\u001b[39;49m\u001b[43moptimize\u001b[49m\u001b[43m(\u001b[49m\u001b[43mobjective\u001b[49m\u001b[43m,\u001b[49m\u001b[43m \u001b[49m\u001b[43mn_trials\u001b[49m\u001b[38;5;241;43m=\u001b[39;49m\u001b[38;5;241;43m20\u001b[39;49m\u001b[43m)\u001b[49m\n\u001b[0;32m      5\u001b[0m \u001b[38;5;28mprint\u001b[39m(\u001b[38;5;124mf\u001b[39m\u001b[38;5;124m\"\u001b[39m\u001b[38;5;124m[INFO] Best parameters: \u001b[39m\u001b[38;5;132;01m{\u001b[39;00mstudy\u001b[38;5;241m.\u001b[39mbest_params\u001b[38;5;132;01m}\u001b[39;00m\u001b[38;5;124m\"\u001b[39m)\n\u001b[0;32m      7\u001b[0m \u001b[38;5;66;03m# Train the final model with the best parameters\u001b[39;00m\n",
      "File \u001b[1;32m~\\Documents\\Development\\Projects\\final_year\\env\\Lib\\site-packages\\optuna\\study\\study.py:475\u001b[0m, in \u001b[0;36mStudy.optimize\u001b[1;34m(self, func, n_trials, timeout, n_jobs, catch, callbacks, gc_after_trial, show_progress_bar)\u001b[0m\n\u001b[0;32m    373\u001b[0m \u001b[38;5;28;01mdef\u001b[39;00m \u001b[38;5;21moptimize\u001b[39m(\n\u001b[0;32m    374\u001b[0m     \u001b[38;5;28mself\u001b[39m,\n\u001b[0;32m    375\u001b[0m     func: ObjectiveFuncType,\n\u001b[1;32m   (...)\u001b[0m\n\u001b[0;32m    382\u001b[0m     show_progress_bar: \u001b[38;5;28mbool\u001b[39m \u001b[38;5;241m=\u001b[39m \u001b[38;5;28;01mFalse\u001b[39;00m,\n\u001b[0;32m    383\u001b[0m ) \u001b[38;5;241m-\u001b[39m\u001b[38;5;241m>\u001b[39m \u001b[38;5;28;01mNone\u001b[39;00m:\n\u001b[0;32m    384\u001b[0m \u001b[38;5;250m    \u001b[39m\u001b[38;5;124;03m\"\"\"Optimize an objective function.\u001b[39;00m\n\u001b[0;32m    385\u001b[0m \n\u001b[0;32m    386\u001b[0m \u001b[38;5;124;03m    Optimization is done by choosing a suitable set of hyperparameter values from a given\u001b[39;00m\n\u001b[1;32m   (...)\u001b[0m\n\u001b[0;32m    473\u001b[0m \u001b[38;5;124;03m            If nested invocation of this method occurs.\u001b[39;00m\n\u001b[0;32m    474\u001b[0m \u001b[38;5;124;03m    \"\"\"\u001b[39;00m\n\u001b[1;32m--> 475\u001b[0m     \u001b[43m_optimize\u001b[49m\u001b[43m(\u001b[49m\n\u001b[0;32m    476\u001b[0m \u001b[43m        \u001b[49m\u001b[43mstudy\u001b[49m\u001b[38;5;241;43m=\u001b[39;49m\u001b[38;5;28;43mself\u001b[39;49m\u001b[43m,\u001b[49m\n\u001b[0;32m    477\u001b[0m \u001b[43m        \u001b[49m\u001b[43mfunc\u001b[49m\u001b[38;5;241;43m=\u001b[39;49m\u001b[43mfunc\u001b[49m\u001b[43m,\u001b[49m\n\u001b[0;32m    478\u001b[0m \u001b[43m        \u001b[49m\u001b[43mn_trials\u001b[49m\u001b[38;5;241;43m=\u001b[39;49m\u001b[43mn_trials\u001b[49m\u001b[43m,\u001b[49m\n\u001b[0;32m    479\u001b[0m \u001b[43m        \u001b[49m\u001b[43mtimeout\u001b[49m\u001b[38;5;241;43m=\u001b[39;49m\u001b[43mtimeout\u001b[49m\u001b[43m,\u001b[49m\n\u001b[0;32m    480\u001b[0m \u001b[43m        \u001b[49m\u001b[43mn_jobs\u001b[49m\u001b[38;5;241;43m=\u001b[39;49m\u001b[43mn_jobs\u001b[49m\u001b[43m,\u001b[49m\n\u001b[0;32m    481\u001b[0m \u001b[43m        \u001b[49m\u001b[43mcatch\u001b[49m\u001b[38;5;241;43m=\u001b[39;49m\u001b[38;5;28;43mtuple\u001b[39;49m\u001b[43m(\u001b[49m\u001b[43mcatch\u001b[49m\u001b[43m)\u001b[49m\u001b[43m \u001b[49m\u001b[38;5;28;43;01mif\u001b[39;49;00m\u001b[43m \u001b[49m\u001b[38;5;28;43misinstance\u001b[39;49m\u001b[43m(\u001b[49m\u001b[43mcatch\u001b[49m\u001b[43m,\u001b[49m\u001b[43m \u001b[49m\u001b[43mIterable\u001b[49m\u001b[43m)\u001b[49m\u001b[43m \u001b[49m\u001b[38;5;28;43;01melse\u001b[39;49;00m\u001b[43m \u001b[49m\u001b[43m(\u001b[49m\u001b[43mcatch\u001b[49m\u001b[43m,\u001b[49m\u001b[43m)\u001b[49m\u001b[43m,\u001b[49m\n\u001b[0;32m    482\u001b[0m \u001b[43m        \u001b[49m\u001b[43mcallbacks\u001b[49m\u001b[38;5;241;43m=\u001b[39;49m\u001b[43mcallbacks\u001b[49m\u001b[43m,\u001b[49m\n\u001b[0;32m    483\u001b[0m \u001b[43m        \u001b[49m\u001b[43mgc_after_trial\u001b[49m\u001b[38;5;241;43m=\u001b[39;49m\u001b[43mgc_after_trial\u001b[49m\u001b[43m,\u001b[49m\n\u001b[0;32m    484\u001b[0m \u001b[43m        \u001b[49m\u001b[43mshow_progress_bar\u001b[49m\u001b[38;5;241;43m=\u001b[39;49m\u001b[43mshow_progress_bar\u001b[49m\u001b[43m,\u001b[49m\n\u001b[0;32m    485\u001b[0m \u001b[43m    \u001b[49m\u001b[43m)\u001b[49m\n",
      "File \u001b[1;32m~\\Documents\\Development\\Projects\\final_year\\env\\Lib\\site-packages\\optuna\\study\\_optimize.py:63\u001b[0m, in \u001b[0;36m_optimize\u001b[1;34m(study, func, n_trials, timeout, n_jobs, catch, callbacks, gc_after_trial, show_progress_bar)\u001b[0m\n\u001b[0;32m     61\u001b[0m \u001b[38;5;28;01mtry\u001b[39;00m:\n\u001b[0;32m     62\u001b[0m     \u001b[38;5;28;01mif\u001b[39;00m n_jobs \u001b[38;5;241m==\u001b[39m \u001b[38;5;241m1\u001b[39m:\n\u001b[1;32m---> 63\u001b[0m         \u001b[43m_optimize_sequential\u001b[49m\u001b[43m(\u001b[49m\n\u001b[0;32m     64\u001b[0m \u001b[43m            \u001b[49m\u001b[43mstudy\u001b[49m\u001b[43m,\u001b[49m\n\u001b[0;32m     65\u001b[0m \u001b[43m            \u001b[49m\u001b[43mfunc\u001b[49m\u001b[43m,\u001b[49m\n\u001b[0;32m     66\u001b[0m \u001b[43m            \u001b[49m\u001b[43mn_trials\u001b[49m\u001b[43m,\u001b[49m\n\u001b[0;32m     67\u001b[0m \u001b[43m            \u001b[49m\u001b[43mtimeout\u001b[49m\u001b[43m,\u001b[49m\n\u001b[0;32m     68\u001b[0m \u001b[43m            \u001b[49m\u001b[43mcatch\u001b[49m\u001b[43m,\u001b[49m\n\u001b[0;32m     69\u001b[0m \u001b[43m            \u001b[49m\u001b[43mcallbacks\u001b[49m\u001b[43m,\u001b[49m\n\u001b[0;32m     70\u001b[0m \u001b[43m            \u001b[49m\u001b[43mgc_after_trial\u001b[49m\u001b[43m,\u001b[49m\n\u001b[0;32m     71\u001b[0m \u001b[43m            \u001b[49m\u001b[43mreseed_sampler_rng\u001b[49m\u001b[38;5;241;43m=\u001b[39;49m\u001b[38;5;28;43;01mFalse\u001b[39;49;00m\u001b[43m,\u001b[49m\n\u001b[0;32m     72\u001b[0m \u001b[43m            \u001b[49m\u001b[43mtime_start\u001b[49m\u001b[38;5;241;43m=\u001b[39;49m\u001b[38;5;28;43;01mNone\u001b[39;49;00m\u001b[43m,\u001b[49m\n\u001b[0;32m     73\u001b[0m \u001b[43m            \u001b[49m\u001b[43mprogress_bar\u001b[49m\u001b[38;5;241;43m=\u001b[39;49m\u001b[43mprogress_bar\u001b[49m\u001b[43m,\u001b[49m\n\u001b[0;32m     74\u001b[0m \u001b[43m        \u001b[49m\u001b[43m)\u001b[49m\n\u001b[0;32m     75\u001b[0m     \u001b[38;5;28;01melse\u001b[39;00m:\n\u001b[0;32m     76\u001b[0m         \u001b[38;5;28;01mif\u001b[39;00m n_jobs \u001b[38;5;241m==\u001b[39m \u001b[38;5;241m-\u001b[39m\u001b[38;5;241m1\u001b[39m:\n",
      "File \u001b[1;32m~\\Documents\\Development\\Projects\\final_year\\env\\Lib\\site-packages\\optuna\\study\\_optimize.py:160\u001b[0m, in \u001b[0;36m_optimize_sequential\u001b[1;34m(study, func, n_trials, timeout, catch, callbacks, gc_after_trial, reseed_sampler_rng, time_start, progress_bar)\u001b[0m\n\u001b[0;32m    157\u001b[0m         \u001b[38;5;28;01mbreak\u001b[39;00m\n\u001b[0;32m    159\u001b[0m \u001b[38;5;28;01mtry\u001b[39;00m:\n\u001b[1;32m--> 160\u001b[0m     frozen_trial \u001b[38;5;241m=\u001b[39m \u001b[43m_run_trial\u001b[49m\u001b[43m(\u001b[49m\u001b[43mstudy\u001b[49m\u001b[43m,\u001b[49m\u001b[43m \u001b[49m\u001b[43mfunc\u001b[49m\u001b[43m,\u001b[49m\u001b[43m \u001b[49m\u001b[43mcatch\u001b[49m\u001b[43m)\u001b[49m\n\u001b[0;32m    161\u001b[0m \u001b[38;5;28;01mfinally\u001b[39;00m:\n\u001b[0;32m    162\u001b[0m     \u001b[38;5;66;03m# The following line mitigates memory problems that can be occurred in some\u001b[39;00m\n\u001b[0;32m    163\u001b[0m     \u001b[38;5;66;03m# environments (e.g., services that use computing containers such as GitHub Actions).\u001b[39;00m\n\u001b[0;32m    164\u001b[0m     \u001b[38;5;66;03m# Please refer to the following PR for further details:\u001b[39;00m\n\u001b[0;32m    165\u001b[0m     \u001b[38;5;66;03m# https://github.com/optuna/optuna/pull/325.\u001b[39;00m\n\u001b[0;32m    166\u001b[0m     \u001b[38;5;28;01mif\u001b[39;00m gc_after_trial:\n",
      "File \u001b[1;32m~\\Documents\\Development\\Projects\\final_year\\env\\Lib\\site-packages\\optuna\\study\\_optimize.py:248\u001b[0m, in \u001b[0;36m_run_trial\u001b[1;34m(study, func, catch)\u001b[0m\n\u001b[0;32m    241\u001b[0m         \u001b[38;5;28;01massert\u001b[39;00m \u001b[38;5;28;01mFalse\u001b[39;00m, \u001b[38;5;124m\"\u001b[39m\u001b[38;5;124mShould not reach.\u001b[39m\u001b[38;5;124m\"\u001b[39m\n\u001b[0;32m    243\u001b[0m \u001b[38;5;28;01mif\u001b[39;00m (\n\u001b[0;32m    244\u001b[0m     frozen_trial\u001b[38;5;241m.\u001b[39mstate \u001b[38;5;241m==\u001b[39m TrialState\u001b[38;5;241m.\u001b[39mFAIL\n\u001b[0;32m    245\u001b[0m     \u001b[38;5;129;01mand\u001b[39;00m func_err \u001b[38;5;129;01mis\u001b[39;00m \u001b[38;5;129;01mnot\u001b[39;00m \u001b[38;5;28;01mNone\u001b[39;00m\n\u001b[0;32m    246\u001b[0m     \u001b[38;5;129;01mand\u001b[39;00m \u001b[38;5;129;01mnot\u001b[39;00m \u001b[38;5;28misinstance\u001b[39m(func_err, catch)\n\u001b[0;32m    247\u001b[0m ):\n\u001b[1;32m--> 248\u001b[0m     \u001b[38;5;28;01mraise\u001b[39;00m func_err\n\u001b[0;32m    249\u001b[0m \u001b[38;5;28;01mreturn\u001b[39;00m frozen_trial\n",
      "File \u001b[1;32m~\\Documents\\Development\\Projects\\final_year\\env\\Lib\\site-packages\\optuna\\study\\_optimize.py:197\u001b[0m, in \u001b[0;36m_run_trial\u001b[1;34m(study, func, catch)\u001b[0m\n\u001b[0;32m    195\u001b[0m \u001b[38;5;28;01mwith\u001b[39;00m get_heartbeat_thread(trial\u001b[38;5;241m.\u001b[39m_trial_id, study\u001b[38;5;241m.\u001b[39m_storage):\n\u001b[0;32m    196\u001b[0m     \u001b[38;5;28;01mtry\u001b[39;00m:\n\u001b[1;32m--> 197\u001b[0m         value_or_values \u001b[38;5;241m=\u001b[39m \u001b[43mfunc\u001b[49m\u001b[43m(\u001b[49m\u001b[43mtrial\u001b[49m\u001b[43m)\u001b[49m\n\u001b[0;32m    198\u001b[0m     \u001b[38;5;28;01mexcept\u001b[39;00m exceptions\u001b[38;5;241m.\u001b[39mTrialPruned \u001b[38;5;28;01mas\u001b[39;00m e:\n\u001b[0;32m    199\u001b[0m         \u001b[38;5;66;03m# TODO(mamu): Handle multi-objective cases.\u001b[39;00m\n\u001b[0;32m    200\u001b[0m         state \u001b[38;5;241m=\u001b[39m TrialState\u001b[38;5;241m.\u001b[39mPRUNED\n",
      "Cell \u001b[1;32mIn[7], line 39\u001b[0m, in \u001b[0;36mobjective\u001b[1;34m(trial)\u001b[0m\n\u001b[0;32m     37\u001b[0m \u001b[38;5;28mprint\u001b[39m(\u001b[38;5;124m\"\u001b[39m\u001b[38;5;124m[INFO] Starting model training...\u001b[39m\u001b[38;5;124m\"\u001b[39m)\n\u001b[0;32m     38\u001b[0m save_path \u001b[38;5;241m=\u001b[39m \u001b[38;5;124mf\u001b[39m\u001b[38;5;124m\"\u001b[39m\u001b[38;5;124moutputs/models/\u001b[39m\u001b[38;5;132;01m{\u001b[39;00mmodel_name\u001b[38;5;132;01m}\u001b[39;00m\u001b[38;5;124m_trial_best.pth\u001b[39m\u001b[38;5;124m\"\u001b[39m\n\u001b[1;32m---> 39\u001b[0m history \u001b[38;5;241m=\u001b[39m \u001b[43mtrain_model\u001b[49m\u001b[43m(\u001b[49m\n\u001b[0;32m     40\u001b[0m \u001b[43m    \u001b[49m\u001b[43mmodel\u001b[49m\u001b[38;5;241;43m=\u001b[39;49m\u001b[43mmodel\u001b[49m\u001b[43m,\u001b[49m\n\u001b[0;32m     41\u001b[0m \u001b[43m    \u001b[49m\u001b[43mtrain_loader\u001b[49m\u001b[38;5;241;43m=\u001b[39;49m\u001b[43mtrain_loader\u001b[49m\u001b[43m,\u001b[49m\n\u001b[0;32m     42\u001b[0m \u001b[43m    \u001b[49m\u001b[43mval_loader\u001b[49m\u001b[38;5;241;43m=\u001b[39;49m\u001b[43mval_loader\u001b[49m\u001b[43m,\u001b[49m\n\u001b[0;32m     43\u001b[0m \u001b[43m    \u001b[49m\u001b[43mcriterion\u001b[49m\u001b[38;5;241;43m=\u001b[39;49m\u001b[43mcriterion\u001b[49m\u001b[43m,\u001b[49m\n\u001b[0;32m     44\u001b[0m \u001b[43m    \u001b[49m\u001b[43moptimizer\u001b[49m\u001b[38;5;241;43m=\u001b[39;49m\u001b[43moptimizer\u001b[49m\u001b[43m,\u001b[49m\n\u001b[0;32m     45\u001b[0m \u001b[43m    \u001b[49m\u001b[43mscheduler\u001b[49m\u001b[38;5;241;43m=\u001b[39;49m\u001b[43mscheduler\u001b[49m\u001b[43m,\u001b[49m\n\u001b[0;32m     46\u001b[0m \u001b[43m    \u001b[49m\u001b[43mdevice\u001b[49m\u001b[38;5;241;43m=\u001b[39;49m\u001b[43mdevice\u001b[49m\u001b[43m,\u001b[49m\n\u001b[0;32m     47\u001b[0m \u001b[43m    \u001b[49m\u001b[43msave_path\u001b[49m\u001b[38;5;241;43m=\u001b[39;49m\u001b[43msave_path\u001b[49m\u001b[43m,\u001b[49m\n\u001b[0;32m     48\u001b[0m \u001b[43m    \u001b[49m\u001b[43mearly_stop_patience\u001b[49m\u001b[38;5;241;43m=\u001b[39;49m\u001b[38;5;241;43m5\u001b[39;49m\u001b[43m,\u001b[49m\n\u001b[0;32m     49\u001b[0m \u001b[43m    \u001b[49m\u001b[43mmonitor_metric\u001b[49m\u001b[38;5;241;43m=\u001b[39;49m\u001b[38;5;124;43m\"\u001b[39;49m\u001b[38;5;124;43mval_recall\u001b[39;49m\u001b[38;5;124;43m\"\u001b[39;49m\u001b[43m,\u001b[49m\n\u001b[0;32m     50\u001b[0m \u001b[43m\u001b[49m\u001b[43m)\u001b[49m\n\u001b[0;32m     51\u001b[0m \u001b[38;5;28mprint\u001b[39m(\u001b[38;5;124m\"\u001b[39m\u001b[38;5;124m[INFO] Training completed!\u001b[39m\u001b[38;5;124m\"\u001b[39m)\n\u001b[0;32m     53\u001b[0m \u001b[38;5;66;03m# Return validation recall\u001b[39;00m\n",
      "File \u001b[1;32m~\\Documents\\Development\\Projects\\final_year\\utils\\train_utils.py:69\u001b[0m, in \u001b[0;36mtrain_model\u001b[1;34m(model, train_loader, val_loader, criterion, optimizer, scheduler, device, save_path, early_stop_patience, monitor_metric, max_epochs)\u001b[0m\n\u001b[0;32m     66\u001b[0m loss\u001b[38;5;241m.\u001b[39mbackward()\n\u001b[0;32m     67\u001b[0m optimizer\u001b[38;5;241m.\u001b[39mstep()\n\u001b[1;32m---> 69\u001b[0m train_loss \u001b[38;5;241m+\u001b[39m\u001b[38;5;241m=\u001b[39m \u001b[43mloss\u001b[49m\u001b[38;5;241;43m.\u001b[39;49m\u001b[43mitem\u001b[49m\u001b[43m(\u001b[49m\u001b[43m)\u001b[49m \u001b[38;5;241m*\u001b[39m images\u001b[38;5;241m.\u001b[39msize(\u001b[38;5;241m0\u001b[39m)\n\u001b[0;32m     70\u001b[0m train_correct \u001b[38;5;241m+\u001b[39m\u001b[38;5;241m=\u001b[39m (outputs\u001b[38;5;241m.\u001b[39margmax(\u001b[38;5;241m1\u001b[39m) \u001b[38;5;241m==\u001b[39m labels)\u001b[38;5;241m.\u001b[39msum()\u001b[38;5;241m.\u001b[39mitem()\n\u001b[0;32m     71\u001b[0m y_train_true\u001b[38;5;241m.\u001b[39mextend(labels\u001b[38;5;241m.\u001b[39mcpu()\u001b[38;5;241m.\u001b[39mnumpy())\n",
      "\u001b[1;31mKeyboardInterrupt\u001b[0m: "
     ]
    }
   ],
   "source": [
    "# Run Optuna Hyperparameter Tuning\n",
    "print(\"[INFO] Running hyperparameter optimization...\")\n",
    "study = optuna.create_study(direction=\"maximize\")\n",
    "study.optimize(objective, n_trials=20)\n",
    "print(f\"[INFO] Best parameters: {study.best_params}\")\n",
    "\n",
    "# Train the final model with the best parameters\n",
    "print(\"[INFO] Training final model with best hyperparameters...\")\n",
    "final_model = initialize_model(\n",
    "    model_name=model_name,\n",
    "    num_classes=2,\n",
    "    pretrained=True,\n",
    "    freeze_all=False,  # All layers unfrozen\n",
    "    dropout_prob=study.best_params[\"dropout_prob\"]\n",
    ")\n",
    "final_model.to(device)"
   ]
  },
  {
   "cell_type": "code",
   "execution_count": null,
   "metadata": {
    "vscode": {
     "languageId": "plaintext"
    }
   },
   "outputs": [],
   "source": [
    "# Optimizer and Scheduler\n",
    "optimizer = optim.Adam(\n",
    "    final_model.parameters(), \n",
    "    lr=study.best_params[\"lr\"], \n",
    "    weight_decay=study.best_params[\"weight_decay\"]\n",
    ")\n",
    "scheduler = optim.lr_scheduler.ReduceLROnPlateau(optimizer, mode=\"max\", patience=3, factor=0.5)\n",
    "\n",
    "# Loss Function\n",
    "criterion = nn.CrossEntropyLoss()"
   ]
  },
  {
   "cell_type": "code",
   "execution_count": null,
   "metadata": {
    "vscode": {
     "languageId": "plaintext"
    }
   },
   "outputs": [],
   "source": [
    "# Final Training\n",
    "final_save_path = f\"outputs/models/{model_name}_final.pth\"\n",
    "history = train_model(\n",
    "    model=final_model,\n",
    "    train_loader=train_loader,\n",
    "    val_loader=val_loader,\n",
    "    criterion=criterion,\n",
    "    optimizer=optimizer,\n",
    "    scheduler=scheduler,\n",
    "    device=device,\n",
    "    save_path=final_save_path,\n",
    "    early_stop_patience=5,\n",
    "    monitor_metric=\"val_recall\",\n",
    "    gradient_clip_val=1.0,  # Gradient Clipping\n",
    ")"
   ]
  },
  {
   "cell_type": "code",
   "execution_count": null,
   "metadata": {
    "vscode": {
     "languageId": "plaintext"
    }
   },
   "outputs": [],
   "source": [
    "# Final Evaluation and Visualization\n",
    "print(\"[INFO] Evaluating final model...\")\n",
    "metrics = evaluate_model(final_model, test_loader, [\"No Fire\", \"Fire\"], device)"
   ]
  },
  {
   "cell_type": "code",
   "execution_count": null,
   "metadata": {
    "vscode": {
     "languageId": "plaintext"
    }
   },
   "outputs": [],
   "source": [
    "# Plots\n",
    "plot_training(history, f\"outputs/plots/{model_name}_training_curve.png\")\n",
    "plot_confusion_matrix(\n",
    "    metrics[\"confusion_matrix\"], \n",
    "    [\"No Fire\", \"Fire\"], \n",
    "    output_path=f\"outputs/plots/{model_name}_confusion_matrix.png\"\n",
    ")\n",
    "if \"y_true\" in metrics and \"y_probs\" in metrics:\n",
    "    y_true = metrics[\"y_true\"]\n",
    "    y_probs = [prob[1] for prob in metrics[\"y_probs\"]]\n",
    "    plot_precision_recall(y_true, y_probs, f\"outputs/plots/{model_name}_precision_recall_curve.png\")\n",
    "    plot_roc_curve(y_true, y_probs, f\"outputs/plots/{model_name}_roc_curve.png\")\n",
    "\n",
    "print(\"[INFO] Final results saved successfully!\")"
   ]
  }
 ],
 "metadata": {
  "kernelspec": {
   "display_name": "Python 3 (ipykernel)",
   "language": "python",
   "name": "python3"
  },
  "language_info": {
   "codemirror_mode": {
    "name": "ipython",
    "version": 3
   },
   "file_extension": ".py",
   "mimetype": "text/x-python",
   "name": "python",
   "nbconvert_exporter": "python",
   "pygments_lexer": "ipython3",
   "version": "3.11.9"
  }
 },
 "nbformat": 4,
 "nbformat_minor": 4
}
