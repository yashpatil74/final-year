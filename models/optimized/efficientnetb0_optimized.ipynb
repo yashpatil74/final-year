{
 "cells": [
  {
   "cell_type": "code",
   "execution_count": 1,
   "metadata": {
    "vscode": {
     "languageId": "plaintext"
    }
   },
   "outputs": [],
   "source": [
    "import os\n",
    "os.chdir(\"../..\")"
   ]
  },
  {
   "cell_type": "code",
   "execution_count": 2,
   "metadata": {
    "vscode": {
     "languageId": "plaintext"
    }
   },
   "outputs": [
    {
     "name": "stderr",
     "output_type": "stream",
     "text": [
      "C:\\Users\\Yash\\Documents\\Development\\Projects\\final_year\\env\\Lib\\site-packages\\albumentations\\__init__.py:24: UserWarning: A new version of Albumentations is available: 1.4.23 (you have 1.4.22). Upgrade using: pip install -U albumentations. To disable automatic update checks, set the environment variable NO_ALBUMENTATIONS_UPDATE to 1.\n",
      "  check_for_updates()\n"
     ]
    }
   ],
   "source": [
    "import os\n",
    "import torch\n",
    "import torch.nn as nn\n",
    "import torch.optim as optim\n",
    "import optuna\n",
    "from utils.dataset_loader import load_datasets\n",
    "from utils.model_utils import initialize_model\n",
    "from utils.train_utils import train_model\n",
    "from utils.metrics import evaluate_model\n",
    "from utils.visualization import (\n",
    "    plot_training, \n",
    "    plot_confusion_matrix, \n",
    "    plot_precision_recall, \n",
    "    plot_roc_curve\n",
    ")"
   ]
  },
  {
   "cell_type": "code",
   "execution_count": 3,
   "metadata": {
    "vscode": {
     "languageId": "plaintext"
    }
   },
   "outputs": [
    {
     "name": "stdout",
     "output_type": "stream",
     "text": [
      "[INFO] Using device: cuda\n"
     ]
    }
   ],
   "source": [
    "# Set up device\n",
    "device = torch.device(\"cuda\" if torch.cuda.is_available() else \"cpu\")\n",
    "print(f\"[INFO] Using device: {device}\")"
   ]
  },
  {
   "cell_type": "code",
   "execution_count": 4,
   "metadata": {
    "vscode": {
     "languageId": "plaintext"
    }
   },
   "outputs": [],
   "source": [
    "# Model Name (Change this to test other models)\n",
    "model_name = \"efficientnet_b0\""
   ]
  },
  {
   "cell_type": "code",
   "execution_count": 5,
   "metadata": {
    "vscode": {
     "languageId": "plaintext"
    }
   },
   "outputs": [],
   "source": [
    "# Directories\n",
    "os.makedirs(\"outputs/models\", exist_ok=True)\n",
    "os.makedirs(\"outputs/plots\", exist_ok=True)"
   ]
  },
  {
   "cell_type": "code",
   "execution_count": 6,
   "metadata": {
    "vscode": {
     "languageId": "plaintext"
    }
   },
   "outputs": [
    {
     "name": "stdout",
     "output_type": "stream",
     "text": [
      "[INFO] Loading augmented datasets...\n",
      "[INFO] Datasets loaded successfully!\n"
     ]
    },
    {
     "name": "stderr",
     "output_type": "stream",
     "text": [
      "C:\\Users\\Yash\\Documents\\Development\\Projects\\final_year\\env\\Lib\\site-packages\\pydantic\\main.py:214: UserWarning: blur_limit and sigma_limit minimum value can not be both equal to 0. blur_limit minimum value changed to 3.\n",
      "  validated_self = self.__pydantic_validator__.validate_python(data, self_instance=self)\n"
     ]
    }
   ],
   "source": [
    "# Load dataset with augmentation\n",
    "print(\"[INFO] Loading augmented datasets...\")\n",
    "data_dir = \"wildfire_dataset_scaled\"\n",
    "batch_size = 32\n",
    "train_loader, val_loader, test_loader = load_datasets(\n",
    "    data_dir, batch_size=batch_size, augmentation=\"augmented\"\n",
    ")\n",
    "print(\"[INFO] Datasets loaded successfully!\")\n"
   ]
  },
  {
   "cell_type": "code",
   "execution_count": 7,
   "metadata": {
    "vscode": {
     "languageId": "plaintext"
    }
   },
   "outputs": [],
   "source": [
    "def objective(trial):\n",
    "    print(f\"[DEBUG] Starting trial {trial.number}...\")\n",
    "\n",
    "    # Hyperparameter suggestions\n",
    "    lr = trial.suggest_float(\"lr\", 1e-5, 1e-2, log=True)\n",
    "    weight_decay = trial.suggest_float(\"weight_decay\", 1e-6, 1e-3, log=True)\n",
    "    dropout_prob = trial.suggest_float(\"dropout_prob\", 0.2, 0.5)\n",
    "    optimizer_name = trial.suggest_categorical(\"optimizer\", [\"Adam\", \"SGD\", \"AdamW\"])\n",
    "\n",
    "    print(f\"[DEBUG] Suggested hyperparameters: lr={lr}, weight_decay={weight_decay}, optimizer={optimizer_name}\")\n",
    "\n",
    "    # Initialize model\n",
    "    model = initialize_model(\n",
    "        model_name=model_name,\n",
    "        num_classes=2,\n",
    "        pretrained=True,\n",
    "        freeze_all=False,\n",
    "        dropout_prob=dropout_prob\n",
    "    )\n",
    "    model.to(device)\n",
    "\n",
    "    # Optimizer setup\n",
    "    if optimizer_name == \"Adam\":\n",
    "        optimizer = optim.Adam(model.parameters(), lr=lr, weight_decay=weight_decay)\n",
    "    elif optimizer_name == \"SGD\":\n",
    "        optimizer = optim.SGD(model.parameters(), lr=lr, momentum=0.9, weight_decay=weight_decay)\n",
    "    elif optimizer_name == \"AdamW\":\n",
    "        optimizer = optim.AdamW(model.parameters(), lr=lr, weight_decay=weight_decay)\n",
    "\n",
    "    # Scheduler\n",
    "    scheduler = optim.lr_scheduler.ReduceLROnPlateau(optimizer, mode=\"max\", patience=3, factor=0.5)\n",
    "\n",
    "    # Loss function\n",
    "    criterion = nn.CrossEntropyLoss()\n",
    "\n",
    "    # Train the model\n",
    "    print(\"[INFO] Starting model training...\")\n",
    "    save_path = f\"outputs/models/{model_name}_trial_best.pth\"\n",
    "    history = train_model(\n",
    "        model=model,\n",
    "        train_loader=train_loader,\n",
    "        val_loader=val_loader,\n",
    "        criterion=criterion,\n",
    "        optimizer=optimizer,\n",
    "        scheduler=scheduler,\n",
    "        device=device,\n",
    "        save_path=save_path,\n",
    "        early_stop_patience=5,\n",
    "        monitor_metric=\"val_recall\",\n",
    "    )\n",
    "    print(\"[INFO] Training completed!\")\n",
    "\n",
    "    # Return validation recall\n",
    "    val_recall = history[\"val_recall\"][-1]\n",
    "    print(f\"[INFO] Trial {trial.number} - Final Validation Recall: {val_recall:.4f}\")\n",
    "    return val_recall\n"
   ]
  },
  {
   "cell_type": "code",
   "execution_count": null,
   "metadata": {
    "vscode": {
     "languageId": "plaintext"
    }
   },
   "outputs": [
    {
     "name": "stderr",
     "output_type": "stream",
     "text": [
      "[I 2024-12-18 23:22:56,049] A new study created in memory with name: no-name-ef5e770b-95de-450e-8835-91b7ce282d54\n"
     ]
    },
    {
     "name": "stdout",
     "output_type": "stream",
     "text": [
      "[INFO] Running hyperparameter optimization...\n",
      "[DEBUG] Starting trial 0...\n",
      "[DEBUG] Suggested hyperparameters: lr=5.943545145687012e-05, weight_decay=4.7694576162678014e-05, optimizer=Adam\n",
      "[INFO] Starting model training...\n",
      "\n",
      "Starting training...\n",
      "\n"
     ]
    },
    {
     "name": "stderr",
     "output_type": "stream",
     "text": [
      "                                                                                                                       "
     ]
    },
    {
     "name": "stdout",
     "output_type": "stream",
     "text": [
      "[INFO] Learning rate adjusted to: 0.000059\n",
      "[INFO] Best model saved with val_recall: 0.7805\n",
      "Epoch [1]: Train Loss: 0.6437, Train Acc: 0.6259 | Val Loss: 0.5507, Val Acc: 0.7388, Val Recall: 0.7805, Val F1: 0.7853\n"
     ]
    },
    {
     "name": "stderr",
     "output_type": "stream",
     "text": [
      "                                                                                                                       "
     ]
    },
    {
     "name": "stdout",
     "output_type": "stream",
     "text": [
      "[INFO] Learning rate adjusted to: 0.000059\n",
      "[INFO] Best model saved with val_recall: 0.8374\n",
      "Epoch [2]: Train Loss: 0.5025, Train Acc: 0.7668 | Val Loss: 0.4360, Val Acc: 0.7687, Val Recall: 0.8374, Val F1: 0.8158\n"
     ]
    },
    {
     "name": "stderr",
     "output_type": "stream",
     "text": [
      "                                                                                                                       "
     ]
    },
    {
     "name": "stdout",
     "output_type": "stream",
     "text": [
      "[INFO] Learning rate adjusted to: 0.000059\n",
      "[INFO] Best model saved with val_recall: 0.8699\n",
      "Epoch [3]: Train Loss: 0.4061, Train Acc: 0.8177 | Val Loss: 0.3874, Val Acc: 0.8259, Val Recall: 0.8699, Val F1: 0.8594\n"
     ]
    },
    {
     "name": "stderr",
     "output_type": "stream",
     "text": [
      "                                                                                                                       "
     ]
    },
    {
     "name": "stdout",
     "output_type": "stream",
     "text": [
      "[INFO] Learning rate adjusted to: 0.000059\n",
      "[INFO] Best model saved with val_recall: 0.8984\n",
      "Epoch [4]: Train Loss: 0.3394, Train Acc: 0.8559 | Val Loss: 0.3453, Val Acc: 0.8483, Val Recall: 0.8984, Val F1: 0.8787\n"
     ]
    },
    {
     "name": "stderr",
     "output_type": "stream",
     "text": [
      "                                                                                                                       "
     ]
    },
    {
     "name": "stdout",
     "output_type": "stream",
     "text": [
      "[INFO] Learning rate adjusted to: 0.000059\n",
      "[INFO] No improvement in val_recall. Patience: 1/5\n",
      "Epoch [5]: Train Loss: 0.3139, Train Acc: 0.8627 | Val Loss: 0.3291, Val Acc: 0.8507, Val Recall: 0.8699, Val F1: 0.8770\n"
     ]
    },
    {
     "name": "stderr",
     "output_type": "stream",
     "text": [
      "                                                                                                                       "
     ]
    },
    {
     "name": "stdout",
     "output_type": "stream",
     "text": [
      "[INFO] Learning rate adjusted to: 0.000059\n",
      "[INFO] No improvement in val_recall. Patience: 2/5\n",
      "Epoch [6]: Train Loss: 0.2894, Train Acc: 0.8749 | Val Loss: 0.3287, Val Acc: 0.8507, Val Recall: 0.8659, Val F1: 0.8765\n"
     ]
    },
    {
     "name": "stderr",
     "output_type": "stream",
     "text": [
      "                                                                                                                       "
     ]
    },
    {
     "name": "stdout",
     "output_type": "stream",
     "text": [
      "[INFO] Learning rate adjusted to: 0.000059\n",
      "[INFO] Best model saved with val_recall: 0.9187\n",
      "Epoch [7]: Train Loss: 0.2690, Train Acc: 0.8892 | Val Loss: 0.3018, Val Acc: 0.8682, Val Recall: 0.9187, Val F1: 0.8950\n"
     ]
    },
    {
     "name": "stderr",
     "output_type": "stream",
     "text": [
      "                                                                                                                       "
     ]
    },
    {
     "name": "stdout",
     "output_type": "stream",
     "text": [
      "[INFO] Learning rate adjusted to: 0.000059\n",
      "[INFO] No improvement in val_recall. Patience: 1/5\n",
      "Epoch [8]: Train Loss: 0.2597, Train Acc: 0.8882 | Val Loss: 0.3223, Val Acc: 0.8632, Val Recall: 0.8984, Val F1: 0.8893\n"
     ]
    },
    {
     "name": "stderr",
     "output_type": "stream",
     "text": [
      "                                                                                                                       "
     ]
    },
    {
     "name": "stdout",
     "output_type": "stream",
     "text": [
      "[INFO] Learning rate adjusted to: 0.000059\n",
      "[INFO] No improvement in val_recall. Patience: 2/5\n",
      "Epoch [9]: Train Loss: 0.2648, Train Acc: 0.8802 | Val Loss: 0.2897, Val Acc: 0.8781, Val Recall: 0.9065, Val F1: 0.9010\n"
     ]
    },
    {
     "name": "stderr",
     "output_type": "stream",
     "text": [
      "                                                                                                                       "
     ]
    },
    {
     "name": "stdout",
     "output_type": "stream",
     "text": [
      "[INFO] Learning rate adjusted to: 0.000059\n",
      "[INFO] No improvement in val_recall. Patience: 3/5\n",
      "Epoch [10]: Train Loss: 0.2166, Train Acc: 0.9073 | Val Loss: 0.3207, Val Acc: 0.8632, Val Recall: 0.8902, Val F1: 0.8884\n"
     ]
    },
    {
     "name": "stderr",
     "output_type": "stream",
     "text": [
      "                                                                                                                       "
     ]
    },
    {
     "name": "stdout",
     "output_type": "stream",
     "text": [
      "[INFO] Learning rate adjusted to: 0.000030\n",
      "[INFO] No improvement in val_recall. Patience: 4/5\n",
      "Epoch [11]: Train Loss: 0.2221, Train Acc: 0.9078 | Val Loss: 0.2502, Val Acc: 0.8856, Val Recall: 0.9146, Val F1: 0.9073\n"
     ]
    },
    {
     "name": "stderr",
     "output_type": "stream",
     "text": [
      "                                                                                                                       "
     ]
    },
    {
     "name": "stdout",
     "output_type": "stream",
     "text": [
      "[INFO] Learning rate adjusted to: 0.000030\n",
      "[INFO] Best model saved with val_recall: 0.9228\n",
      "Epoch [12]: Train Loss: 0.1966, Train Acc: 0.9168 | Val Loss: 0.2578, Val Acc: 0.8856, Val Recall: 0.9228, Val F1: 0.9080\n"
     ]
    },
    {
     "name": "stderr",
     "output_type": "stream",
     "text": [
      "                                                                                                                       "
     ]
    },
    {
     "name": "stdout",
     "output_type": "stream",
     "text": [
      "[INFO] Learning rate adjusted to: 0.000030\n",
      "[INFO] No improvement in val_recall. Patience: 1/5\n",
      "Epoch [13]: Train Loss: 0.2039, Train Acc: 0.9036 | Val Loss: 0.2925, Val Acc: 0.8731, Val Recall: 0.8943, Val F1: 0.8961\n"
     ]
    },
    {
     "name": "stderr",
     "output_type": "stream",
     "text": [
      "                                                                                                                       "
     ]
    },
    {
     "name": "stdout",
     "output_type": "stream",
     "text": [
      "[INFO] Learning rate adjusted to: 0.000030\n",
      "[INFO] No improvement in val_recall. Patience: 2/5\n",
      "Epoch [14]: Train Loss: 0.2178, Train Acc: 0.9078 | Val Loss: 0.3214, Val Acc: 0.8831, Val Recall: 0.9187, Val F1: 0.9058\n"
     ]
    },
    {
     "name": "stderr",
     "output_type": "stream",
     "text": [
      "                                                                                                                       "
     ]
    },
    {
     "name": "stdout",
     "output_type": "stream",
     "text": [
      "[INFO] Learning rate adjusted to: 0.000030\n",
      "[INFO] No improvement in val_recall. Patience: 3/5\n",
      "Epoch [15]: Train Loss: 0.1991, Train Acc: 0.9089 | Val Loss: 0.2694, Val Acc: 0.8682, Val Recall: 0.8943, Val F1: 0.8925\n"
     ]
    },
    {
     "name": "stderr",
     "output_type": "stream",
     "text": [
      "                                                                                                                       "
     ]
    },
    {
     "name": "stdout",
     "output_type": "stream",
     "text": [
      "[INFO] Learning rate adjusted to: 0.000015\n",
      "[INFO] No improvement in val_recall. Patience: 4/5\n",
      "Epoch [16]: Train Loss: 0.1770, Train Acc: 0.9290 | Val Loss: 0.2851, Val Acc: 0.8806, Val Recall: 0.9024, Val F1: 0.9024\n"
     ]
    },
    {
     "name": "stderr",
     "output_type": "stream",
     "text": [
      "                                                                                                                       "
     ]
    },
    {
     "name": "stdout",
     "output_type": "stream",
     "text": [
      "[INFO] Learning rate adjusted to: 0.000015\n",
      "[INFO] Best model saved with val_recall: 0.9512\n",
      "Epoch [17]: Train Loss: 0.1859, Train Acc: 0.9216 | Val Loss: 0.2514, Val Acc: 0.8881, Val Recall: 0.9512, Val F1: 0.9123\n"
     ]
    },
    {
     "name": "stderr",
     "output_type": "stream",
     "text": [
      "                                                                                                                       "
     ]
    },
    {
     "name": "stdout",
     "output_type": "stream",
     "text": [
      "[INFO] Learning rate adjusted to: 0.000015\n",
      "[INFO] No improvement in val_recall. Patience: 1/5\n",
      "Epoch [18]: Train Loss: 0.1949, Train Acc: 0.9189 | Val Loss: 0.3013, Val Acc: 0.8881, Val Recall: 0.9228, Val F1: 0.9098\n"
     ]
    },
    {
     "name": "stderr",
     "output_type": "stream",
     "text": [
      "                                                                                                                       "
     ]
    },
    {
     "name": "stdout",
     "output_type": "stream",
     "text": [
      "[INFO] Learning rate adjusted to: 0.000015\n",
      "[INFO] No improvement in val_recall. Patience: 2/5\n",
      "Epoch [19]: Train Loss: 0.1935, Train Acc: 0.9131 | Val Loss: 0.2646, Val Acc: 0.8881, Val Recall: 0.9228, Val F1: 0.9098\n"
     ]
    },
    {
     "name": "stderr",
     "output_type": "stream",
     "text": [
      "                                                                                                                       "
     ]
    },
    {
     "name": "stdout",
     "output_type": "stream",
     "text": [
      "[INFO] Learning rate adjusted to: 0.000015\n",
      "[INFO] No improvement in val_recall. Patience: 3/5\n",
      "Epoch [20]: Train Loss: 0.1852, Train Acc: 0.9226 | Val Loss: 0.2313, Val Acc: 0.9080, Val Recall: 0.9431, Val F1: 0.9261\n"
     ]
    },
    {
     "name": "stderr",
     "output_type": "stream",
     "text": [
      "                                                                                                                       "
     ]
    },
    {
     "name": "stdout",
     "output_type": "stream",
     "text": [
      "[INFO] Learning rate adjusted to: 0.000007\n",
      "[INFO] No improvement in val_recall. Patience: 4/5\n",
      "Epoch [21]: Train Loss: 0.1821, Train Acc: 0.9253 | Val Loss: 0.2669, Val Acc: 0.8831, Val Recall: 0.9146, Val F1: 0.9054\n"
     ]
    },
    {
     "name": "stderr",
     "output_type": "stream",
     "text": [
      "[I 2024-12-18 23:27:37,334] Trial 0 finished with value: 0.9186991869918699 and parameters: {'lr': 5.943545145687012e-05, 'weight_decay': 4.7694576162678014e-05, 'dropout_prob': 0.33443002846888803, 'optimizer': 'Adam'}. Best is trial 0 with value: 0.9186991869918699.\n"
     ]
    },
    {
     "name": "stdout",
     "output_type": "stream",
     "text": [
      "[INFO] Learning rate adjusted to: 0.000007\n",
      "[INFO] No improvement in val_recall. Patience: 5/5\n",
      "Epoch [22]: Train Loss: 0.1896, Train Acc: 0.9237 | Val Loss: 0.2475, Val Acc: 0.9055, Val Recall: 0.9187, Val F1: 0.9224\n",
      "[INFO] Training stopped after 22 epochs. Best val_recall: 0.9512\n",
      "\n",
      "[INFO] Training completed!\n",
      "[INFO] Trial 0 - Final Validation Recall: 0.9187\n",
      "[DEBUG] Starting trial 1...\n",
      "[DEBUG] Suggested hyperparameters: lr=0.00013885926945797903, weight_decay=2.402931765758442e-06, optimizer=SGD\n",
      "[INFO] Starting model training...\n",
      "\n",
      "Starting training...\n",
      "\n"
     ]
    },
    {
     "name": "stderr",
     "output_type": "stream",
     "text": [
      "                                                                                                                       "
     ]
    },
    {
     "name": "stdout",
     "output_type": "stream",
     "text": [
      "[INFO] Learning rate adjusted to: 0.000139\n",
      "[INFO] Best model saved with val_recall: 0.7317\n",
      "Epoch [1]: Train Loss: 0.6895, Train Acc: 0.5464 | Val Loss: 0.6618, Val Acc: 0.6070, Val Recall: 0.7317, Val F1: 0.6950\n"
     ]
    },
    {
     "name": "stderr",
     "output_type": "stream",
     "text": [
      "                                                                                                                       "
     ]
    },
    {
     "name": "stdout",
     "output_type": "stream",
     "text": [
      "[INFO] Learning rate adjusted to: 0.000139\n",
      "[INFO] Best model saved with val_recall: 0.8252\n",
      "Epoch [2]: Train Loss: 0.6542, Train Acc: 0.6248 | Val Loss: 0.6344, Val Acc: 0.6493, Val Recall: 0.8252, Val F1: 0.7422\n"
     ]
    },
    {
     "name": "stderr",
     "output_type": "stream",
     "text": [
      "                                                                                                                       "
     ]
    },
    {
     "name": "stdout",
     "output_type": "stream",
     "text": [
      "[INFO] Learning rate adjusted to: 0.000139\n",
      "[INFO] No improvement in val_recall. Patience: 1/5\n",
      "Epoch [3]: Train Loss: 0.6301, Train Acc: 0.6534 | Val Loss: 0.6250, Val Acc: 0.6692, Val Recall: 0.8252, Val F1: 0.7532\n"
     ]
    },
    {
     "name": "stderr",
     "output_type": "stream",
     "text": [
      "                                                                                                                       "
     ]
    },
    {
     "name": "stdout",
     "output_type": "stream",
     "text": [
      "[INFO] Learning rate adjusted to: 0.000139\n",
      "[INFO] Best model saved with val_recall: 0.8740\n",
      "Epoch [4]: Train Loss: 0.6100, Train Acc: 0.6757 | Val Loss: 0.6019, Val Acc: 0.6891, Val Recall: 0.8740, Val F1: 0.7748\n"
     ]
    },
    {
     "name": "stderr",
     "output_type": "stream",
     "text": [
      "                                                                                                                       "
     ]
    },
    {
     "name": "stdout",
     "output_type": "stream",
     "text": [
      "[INFO] Learning rate adjusted to: 0.000139\n",
      "[INFO] No improvement in val_recall. Patience: 1/5\n",
      "Epoch [5]: Train Loss: 0.5880, Train Acc: 0.7107 | Val Loss: 0.5850, Val Acc: 0.6940, Val Recall: 0.8455, Val F1: 0.7718\n"
     ]
    },
    {
     "name": "stderr",
     "output_type": "stream",
     "text": [
      "                                                                                                                       "
     ]
    },
    {
     "name": "stdout",
     "output_type": "stream",
     "text": [
      "[INFO] Learning rate adjusted to: 0.000139\n",
      "[INFO] No improvement in val_recall. Patience: 2/5\n",
      "Epoch [6]: Train Loss: 0.5769, Train Acc: 0.7069 | Val Loss: 0.5733, Val Acc: 0.7363, Val Recall: 0.8293, Val F1: 0.7938\n"
     ]
    },
    {
     "name": "stderr",
     "output_type": "stream",
     "text": [
      "                                                                                                                       "
     ]
    },
    {
     "name": "stdout",
     "output_type": "stream",
     "text": [
      "[INFO] Learning rate adjusted to: 0.000139\n",
      "[INFO] No improvement in val_recall. Patience: 3/5\n",
      "Epoch [7]: Train Loss: 0.5615, Train Acc: 0.7223 | Val Loss: 0.5701, Val Acc: 0.6965, Val Recall: 0.8211, Val F1: 0.7681\n"
     ]
    },
    {
     "name": "stderr",
     "output_type": "stream",
     "text": [
      "                                                                                                                       "
     ]
    },
    {
     "name": "stdout",
     "output_type": "stream",
     "text": [
      "[INFO] Learning rate adjusted to: 0.000069\n",
      "[INFO] No improvement in val_recall. Patience: 4/5\n",
      "Epoch [8]: Train Loss: 0.5494, Train Acc: 0.7382 | Val Loss: 0.5392, Val Acc: 0.7512, Val Recall: 0.8537, Val F1: 0.8077\n"
     ]
    },
    {
     "name": "stderr",
     "output_type": "stream",
     "text": [
      "[I 2024-12-18 23:29:37,826] Trial 1 finished with value: 0.8658536585365854 and parameters: {'lr': 0.00013885926945797903, 'weight_decay': 2.402931765758442e-06, 'dropout_prob': 0.3725840061355488, 'optimizer': 'SGD'}. Best is trial 0 with value: 0.9186991869918699.\n"
     ]
    },
    {
     "name": "stdout",
     "output_type": "stream",
     "text": [
      "[INFO] Learning rate adjusted to: 0.000069\n",
      "[INFO] No improvement in val_recall. Patience: 5/5\n",
      "Epoch [9]: Train Loss: 0.5432, Train Acc: 0.7260 | Val Loss: 0.5499, Val Acc: 0.7388, Val Recall: 0.8659, Val F1: 0.8023\n",
      "[INFO] Training stopped after 9 epochs. Best val_recall: 0.8740\n",
      "\n",
      "[INFO] Training completed!\n",
      "[INFO] Trial 1 - Final Validation Recall: 0.8659\n",
      "[DEBUG] Starting trial 2...\n",
      "[DEBUG] Suggested hyperparameters: lr=4.093630443261781e-05, weight_decay=1.2271146474102595e-05, optimizer=AdamW\n",
      "[INFO] Starting model training...\n",
      "\n",
      "Starting training...\n",
      "\n"
     ]
    },
    {
     "name": "stderr",
     "output_type": "stream",
     "text": [
      "                                                                                                                       "
     ]
    },
    {
     "name": "stdout",
     "output_type": "stream",
     "text": [
      "[INFO] Learning rate adjusted to: 0.000041\n",
      "[INFO] Best model saved with val_recall: 0.8252\n",
      "Epoch [1]: Train Loss: 0.6484, Train Acc: 0.6206 | Val Loss: 0.5702, Val Acc: 0.7488, Val Recall: 0.8252, Val F1: 0.8008\n"
     ]
    },
    {
     "name": "stderr",
     "output_type": "stream",
     "text": [
      "                                                                                                                       "
     ]
    },
    {
     "name": "stdout",
     "output_type": "stream",
     "text": [
      "[INFO] Learning rate adjusted to: 0.000041\n",
      "[INFO] No improvement in val_recall. Patience: 1/5\n",
      "Epoch [2]: Train Loss: 0.5180, Train Acc: 0.7499 | Val Loss: 0.4734, Val Acc: 0.7786, Val Recall: 0.8130, Val F1: 0.8180\n"
     ]
    },
    {
     "name": "stderr",
     "output_type": "stream",
     "text": [
      "                                                                                                                       "
     ]
    },
    {
     "name": "stdout",
     "output_type": "stream",
     "text": [
      "[INFO] Learning rate adjusted to: 0.000041\n",
      "[INFO] Best model saved with val_recall: 0.8415\n",
      "Epoch [3]: Train Loss: 0.4321, Train Acc: 0.7960 | Val Loss: 0.4245, Val Acc: 0.8259, Val Recall: 0.8415, Val F1: 0.8554\n"
     ]
    },
    {
     "name": "stderr",
     "output_type": "stream",
     "text": [
      "                                                                                                                       "
     ]
    },
    {
     "name": "stdout",
     "output_type": "stream",
     "text": [
      "[INFO] Learning rate adjusted to: 0.000041\n",
      "[INFO] No improvement in val_recall. Patience: 1/5\n",
      "Epoch [4]: Train Loss: 0.3821, Train Acc: 0.8151 | Val Loss: 0.3711, Val Acc: 0.8109, Val Recall: 0.8415, Val F1: 0.8449\n"
     ]
    },
    {
     "name": "stderr",
     "output_type": "stream",
     "text": [
      "Epoch [5] - Training:  66%|███████████████████████████████████████▋                    | 39/59 [00:07<00:04,  4.40it/s]"
     ]
    }
   ],
   "source": [
    "# Run Optuna Hyperparameter Tuning\n",
    "print(\"[INFO] Running hyperparameter optimization...\")\n",
    "study = optuna.create_study(direction=\"maximize\")\n",
    "study.optimize(objective, n_trials=20)\n",
    "print(f\"[INFO] Best parameters: {study.best_params}\")\n",
    "\n",
    "# Train the final model with the best parameters\n",
    "print(\"[INFO] Training final model with best hyperparameters...\")\n",
    "final_model = initialize_model(\n",
    "    model_name=model_name,\n",
    "    num_classes=2,\n",
    "    pretrained=True,\n",
    "    freeze_all=False,  # All layers unfrozen\n",
    "    dropout_prob=study.best_params[\"dropout_prob\"]\n",
    ")\n",
    "final_model.to(device)"
   ]
  },
  {
   "cell_type": "code",
   "execution_count": null,
   "metadata": {
    "vscode": {
     "languageId": "plaintext"
    }
   },
   "outputs": [],
   "source": [
    "# Optimizer and Scheduler\n",
    "optimizer = optim.Adam(\n",
    "    final_model.parameters(), \n",
    "    lr=study.best_params[\"lr\"], \n",
    "    weight_decay=study.best_params[\"weight_decay\"]\n",
    ")\n",
    "scheduler = optim.lr_scheduler.ReduceLROnPlateau(optimizer, mode=\"max\", patience=3, factor=0.5)\n",
    "\n",
    "# Loss Function\n",
    "criterion = nn.CrossEntropyLoss()"
   ]
  },
  {
   "cell_type": "code",
   "execution_count": null,
   "metadata": {
    "vscode": {
     "languageId": "plaintext"
    }
   },
   "outputs": [],
   "source": [
    "# Final Training\n",
    "final_save_path = f\"outputs/models/{model_name}_final.pth\"\n",
    "history = train_model(\n",
    "    model=final_model,\n",
    "    train_loader=train_loader,\n",
    "    val_loader=val_loader,\n",
    "    criterion=criterion,\n",
    "    optimizer=optimizer,\n",
    "    scheduler=scheduler,\n",
    "    device=device,\n",
    "    save_path=final_save_path,\n",
    "    early_stop_patience=5,\n",
    "    monitor_metric=\"val_recall\",\n",
    "    gradient_clip_val=1.0,  # Gradient Clipping\n",
    ")"
   ]
  },
  {
   "cell_type": "code",
   "execution_count": null,
   "metadata": {
    "vscode": {
     "languageId": "plaintext"
    }
   },
   "outputs": [],
   "source": [
    "# Final Evaluation and Visualization\n",
    "print(\"[INFO] Evaluating final model...\")\n",
    "metrics = evaluate_model(final_model, test_loader, [\"No Fire\", \"Fire\"], device)"
   ]
  },
  {
   "cell_type": "code",
   "execution_count": null,
   "metadata": {
    "vscode": {
     "languageId": "plaintext"
    }
   },
   "outputs": [],
   "source": [
    "# Plots\n",
    "plot_training(history, f\"outputs/plots/{model_name}_training_curve.png\")\n",
    "plot_confusion_matrix(\n",
    "    metrics[\"confusion_matrix\"], \n",
    "    [\"No Fire\", \"Fire\"], \n",
    "    output_path=f\"outputs/plots/{model_name}_confusion_matrix.png\"\n",
    ")\n",
    "if \"y_true\" in metrics and \"y_probs\" in metrics:\n",
    "    y_true = metrics[\"y_true\"]\n",
    "    y_probs = [prob[1] for prob in metrics[\"y_probs\"]]\n",
    "    plot_precision_recall(y_true, y_probs, f\"outputs/plots/{model_name}_precision_recall_curve.png\")\n",
    "    plot_roc_curve(y_true, y_probs, f\"outputs/plots/{model_name}_roc_curve.png\")\n",
    "\n",
    "print(\"[INFO] Final results saved successfully!\")"
   ]
  }
 ],
 "metadata": {
  "kernelspec": {
   "display_name": "Python 3 (ipykernel)",
   "language": "python",
   "name": "python3"
  },
  "language_info": {
   "codemirror_mode": {
    "name": "ipython",
    "version": 3
   },
   "file_extension": ".py",
   "mimetype": "text/x-python",
   "name": "python",
   "nbconvert_exporter": "python",
   "pygments_lexer": "ipython3",
   "version": "3.11.9"
  }
 },
 "nbformat": 4,
 "nbformat_minor": 4
}
