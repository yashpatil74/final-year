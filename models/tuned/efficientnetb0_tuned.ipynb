{
 "cells": [
  {
   "cell_type": "code",
   "execution_count": 1,
   "metadata": {},
   "outputs": [],
   "source": [
    "import os\n",
    "os.chdir(\"../..\")"
   ]
  },
  {
   "cell_type": "code",
   "execution_count": 2,
   "metadata": {},
   "outputs": [
    {
     "name": "stderr",
     "output_type": "stream",
     "text": [
      "C:\\Users\\Yash\\Documents\\Development\\Projects\\final_year\\env\\Lib\\site-packages\\albumentations\\__init__.py:24: UserWarning: A new version of Albumentations is available: 1.4.23 (you have 1.4.22). Upgrade using: pip install -U albumentations. To disable automatic update checks, set the environment variable NO_ALBUMENTATIONS_UPDATE to 1.\n",
      "  check_for_updates()\n"
     ]
    }
   ],
   "source": [
    "import torch\n",
    "import torch.nn as nn\n",
    "import torch.optim as optim\n",
    "from utils.dataset_loader import load_datasets\n",
    "from utils.model_utils import initialize_model\n",
    "from utils.train_utils import train_model\n",
    "from utils.metrics import evaluate_model\n",
    "from utils.visualization import plot_training, plot_confusion_matrix\n",
    "import optuna\n",
    "import os"
   ]
  },
  {
   "cell_type": "code",
   "execution_count": 3,
   "metadata": {},
   "outputs": [
    {
     "name": "stdout",
     "output_type": "stream",
     "text": [
      "[INFO] Using device: cuda\n"
     ]
    }
   ],
   "source": [
    "device = torch.device(\"cuda\" if torch.cuda.is_available() else \"cpu\")\n",
    "print(f\"[INFO] Using device: {device}\")"
   ]
  },
  {
   "cell_type": "code",
   "execution_count": 4,
   "metadata": {},
   "outputs": [],
   "source": [
    "os.makedirs(\"outputs/models\", exist_ok=True)\n",
    "os.makedirs(\"outputs/plots\", exist_ok=True)"
   ]
  },
  {
   "cell_type": "code",
   "execution_count": 5,
   "metadata": {},
   "outputs": [
    {
     "name": "stdout",
     "output_type": "stream",
     "text": [
      "[INFO] Loading datasets...\n",
      "[INFO] Datasets loaded successfully!\n"
     ]
    }
   ],
   "source": [
    "print(\"[INFO] Loading datasets...\")\n",
    "train_loader, val_loader, test_loader = load_datasets(\n",
    "    \"wildfire_dataset_scaled\", batch_size=32, augmentation=\"augmented\"\n",
    ")\n",
    "print(\"[INFO] Datasets loaded successfully!\")"
   ]
  },
  {
   "cell_type": "code",
   "execution_count": 6,
   "metadata": {},
   "outputs": [],
   "source": [
    "def objective(trial):\n",
    "    print(f\"[DEBUG] Starting trial {trial.number}...\")\n",
    "\n",
    "    # Hyperparameter suggestions\n",
    "    lr = trial.suggest_float(\"lr\", 1e-5, 1e-2, log=True)\n",
    "    weight_decay = trial.suggest_float(\"weight_decay\", 1e-5, 1e-3, log=True)\n",
    "    optimizer_name = trial.suggest_categorical(\"optimizer\", [\"Adam\", \"SGD\", \"AdamW\"])\n",
    "    print(f\"[DEBUG] Suggested hyperparameters: lr={lr}, weight_decay={weight_decay}, optimizer={optimizer_name}\")\n",
    "\n",
    "    # Initialize model\n",
    "    print(\"[DEBUG] Initializing efficientnet_b0 model...\")\n",
    "    model = initialize_model(\"efficientnet_b0\", num_classes=2, pretrained=True, freeze_all=False, unfreeze_last_n=2)\n",
    "    model.to(device)\n",
    "\n",
    "    # Optimizer setup\n",
    "    print(\"[DEBUG] Setting up optimizer...\")\n",
    "    if optimizer_name == \"Adam\":\n",
    "        optimizer = optim.Adam(model.parameters(), lr=lr, weight_decay=weight_decay)\n",
    "    elif optimizer_name == \"SGD\":\n",
    "        optimizer = optim.SGD(model.parameters(), lr=lr, momentum=0.9, weight_decay=weight_decay)\n",
    "    elif optimizer_name == \"AdamW\":\n",
    "        optimizer = optim.AdamW(model.parameters(), lr=lr, weight_decay=weight_decay)\n",
    "\n",
    "    # Scheduler\n",
    "    scheduler = optim.lr_scheduler.ReduceLROnPlateau(optimizer, mode=\"max\", factor=0.1, patience=3, threshold=1e-4)\n",
    "\n",
    "    # Loss function\n",
    "    criterion = nn.CrossEntropyLoss()\n",
    "\n",
    "    # Train the model\n",
    "    print(\"[INFO] Starting model training...\")\n",
    "    save_path = \"outputs/models/efficientnet_b0_trial_best.pth\"\n",
    "    history = train_model(\n",
    "        model=model,\n",
    "        train_loader=train_loader,\n",
    "        val_loader=val_loader,\n",
    "        criterion=criterion,\n",
    "        optimizer=optimizer,\n",
    "        scheduler=scheduler,\n",
    "        device=device,\n",
    "        save_path=save_path,\n",
    "        early_stop_patience=8,\n",
    "        monitor_metric=\"val_f1\",\n",
    "    )\n",
    "    print(\"[INFO] Training completed!\")\n",
    "\n",
    "    # Return validation recall\n",
    "    val_recall = history[\"val_f1\"][-1]\n",
    "    print(f\"[INFO] Trial {trial.number} - Final Validation Recall: {val_recall:.4f}\")\n",
    "    return val_recall\n"
   ]
  },
  {
   "cell_type": "code",
   "execution_count": null,
   "metadata": {},
   "outputs": [
    {
     "name": "stderr",
     "output_type": "stream",
     "text": [
      "[I 2024-12-18 20:23:33,474] A new study created in memory with name: no-name-007cfd37-4605-4ea8-b261-b0cc35612540\n"
     ]
    },
    {
     "name": "stdout",
     "output_type": "stream",
     "text": [
      "[INFO] Running hyperparameter optimization...\n",
      "[DEBUG] Starting trial 0...\n",
      "[DEBUG] Suggested hyperparameters: lr=1.4654646339457767e-05, weight_decay=0.0004988312945695164, optimizer=SGD\n",
      "[DEBUG] Initializing efficientnet_b0 model...\n",
      "[DEBUG] Setting up optimizer...\n",
      "[INFO] Starting model training...\n",
      "\n",
      "Starting training...\n",
      "\n"
     ]
    },
    {
     "name": "stderr",
     "output_type": "stream",
     "text": [
      "                                                                                                                                           "
     ]
    },
    {
     "name": "stdout",
     "output_type": "stream",
     "text": [
      "Epoch [1]: Train Loss: 0.7001, Train Acc: 0.5231 | Val Loss: 0.7015, Val Acc: 0.5423, Val Recall: 0.7602, Val F1: 0.6703\n",
      "[INFO] Best model saved with val_f1: 0.6703\n",
      "[INFO] Learning rate adjusted to: 0.000015\n"
     ]
    },
    {
     "name": "stderr",
     "output_type": "stream",
     "text": [
      "                                                                                                                                           "
     ]
    },
    {
     "name": "stdout",
     "output_type": "stream",
     "text": [
      "Epoch [2]: Train Loss: 0.6941, Train Acc: 0.5363 | Val Loss: 0.6923, Val Acc: 0.5522, Val Recall: 0.7358, Val F1: 0.6679\n",
      "[INFO] No improvement in val_f1. Patience: 1/8\n",
      "[INFO] Learning rate adjusted to: 0.000015\n"
     ]
    },
    {
     "name": "stderr",
     "output_type": "stream",
     "text": [
      "                                                                                                                                           "
     ]
    },
    {
     "name": "stdout",
     "output_type": "stream",
     "text": [
      "Epoch [3]: Train Loss: 0.6937, Train Acc: 0.5416 | Val Loss: 0.6839, Val Acc: 0.5423, Val Recall: 0.7398, Val F1: 0.6642\n",
      "[INFO] No improvement in val_f1. Patience: 2/8\n",
      "[INFO] Learning rate adjusted to: 0.000015\n"
     ]
    },
    {
     "name": "stderr",
     "output_type": "stream",
     "text": [
      "                                                                                                                                           "
     ]
    },
    {
     "name": "stdout",
     "output_type": "stream",
     "text": [
      "Epoch [4]: Train Loss: 0.6845, Train Acc: 0.5644 | Val Loss: 0.6729, Val Acc: 0.6070, Val Recall: 0.7967, Val F1: 0.7127\n",
      "[INFO] Best model saved with val_f1: 0.7127\n",
      "[INFO] Learning rate adjusted to: 0.000015\n"
     ]
    },
    {
     "name": "stderr",
     "output_type": "stream",
     "text": [
      "                                                                                                                                           "
     ]
    },
    {
     "name": "stdout",
     "output_type": "stream",
     "text": [
      "Epoch [5]: Train Loss: 0.6816, Train Acc: 0.5570 | Val Loss: 0.6808, Val Acc: 0.5672, Val Recall: 0.7439, Val F1: 0.6778\n",
      "[INFO] No improvement in val_f1. Patience: 1/8\n",
      "[INFO] Learning rate adjusted to: 0.000015\n"
     ]
    },
    {
     "name": "stderr",
     "output_type": "stream",
     "text": [
      "                                                                                                                                           "
     ]
    },
    {
     "name": "stdout",
     "output_type": "stream",
     "text": [
      "Epoch [6]: Train Loss: 0.6782, Train Acc: 0.5782 | Val Loss: 0.6656, Val Acc: 0.6020, Val Recall: 0.7805, Val F1: 0.7059\n",
      "[INFO] No improvement in val_f1. Patience: 2/8\n",
      "[INFO] Learning rate adjusted to: 0.000015\n"
     ]
    },
    {
     "name": "stderr",
     "output_type": "stream",
     "text": [
      "                                                                                                                                           "
     ]
    },
    {
     "name": "stdout",
     "output_type": "stream",
     "text": [
      "Epoch [7]: Train Loss: 0.6764, Train Acc: 0.5718 | Val Loss: 0.6695, Val Acc: 0.5970, Val Recall: 0.7480, Val F1: 0.6943\n",
      "[INFO] No improvement in val_f1. Patience: 3/8\n",
      "[INFO] Learning rate adjusted to: 0.000015\n"
     ]
    },
    {
     "name": "stderr",
     "output_type": "stream",
     "text": [
      "                                                                                                                                           "
     ]
    },
    {
     "name": "stdout",
     "output_type": "stream",
     "text": [
      "Epoch [8]: Train Loss: 0.6765, Train Acc: 0.5888 | Val Loss: 0.6623, Val Acc: 0.6318, Val Recall: 0.7927, Val F1: 0.7249\n",
      "[INFO] Best model saved with val_f1: 0.7249\n",
      "[INFO] Learning rate adjusted to: 0.000015\n"
     ]
    },
    {
     "name": "stderr",
     "output_type": "stream",
     "text": [
      "                                                                                                                                           "
     ]
    },
    {
     "name": "stdout",
     "output_type": "stream",
     "text": [
      "Epoch [9]: Train Loss: 0.6668, Train Acc: 0.6025 | Val Loss: 0.6691, Val Acc: 0.5945, Val Recall: 0.8049, Val F1: 0.7084\n",
      "[INFO] No improvement in val_f1. Patience: 1/8\n",
      "[INFO] Learning rate adjusted to: 0.000015\n"
     ]
    },
    {
     "name": "stderr",
     "output_type": "stream",
     "text": [
      "                                                                                                                                           "
     ]
    },
    {
     "name": "stdout",
     "output_type": "stream",
     "text": [
      "Epoch [10]: Train Loss: 0.6645, Train Acc: 0.5999 | Val Loss: 0.6516, Val Acc: 0.6443, Val Recall: 0.8455, Val F1: 0.7442\n",
      "[INFO] Best model saved with val_f1: 0.7442\n",
      "[INFO] Learning rate adjusted to: 0.000015\n"
     ]
    },
    {
     "name": "stderr",
     "output_type": "stream",
     "text": [
      "                                                                                                                                           "
     ]
    },
    {
     "name": "stdout",
     "output_type": "stream",
     "text": [
      "Epoch [11]: Train Loss: 0.6587, Train Acc: 0.6195 | Val Loss: 0.6504, Val Acc: 0.6343, Val Recall: 0.8211, Val F1: 0.7332\n",
      "[INFO] No improvement in val_f1. Patience: 1/8\n",
      "[INFO] Learning rate adjusted to: 0.000015\n"
     ]
    },
    {
     "name": "stderr",
     "output_type": "stream",
     "text": [
      "                                                                                                                                           "
     ]
    },
    {
     "name": "stdout",
     "output_type": "stream",
     "text": [
      "Epoch [12]: Train Loss: 0.6643, Train Acc: 0.6195 | Val Loss: 0.6443, Val Acc: 0.6343, Val Recall: 0.7967, Val F1: 0.7273\n",
      "[INFO] No improvement in val_f1. Patience: 2/8\n",
      "[INFO] Learning rate adjusted to: 0.000015\n"
     ]
    },
    {
     "name": "stderr",
     "output_type": "stream",
     "text": [
      "                                                                                                                                           "
     ]
    },
    {
     "name": "stdout",
     "output_type": "stream",
     "text": [
      "Epoch [13]: Train Loss: 0.6546, Train Acc: 0.6200 | Val Loss: 0.6454, Val Acc: 0.6393, Val Recall: 0.8089, Val F1: 0.7330\n",
      "[INFO] No improvement in val_f1. Patience: 3/8\n",
      "[INFO] Learning rate adjusted to: 0.000015\n"
     ]
    },
    {
     "name": "stderr",
     "output_type": "stream",
     "text": [
      "                                                                                                                                           "
     ]
    },
    {
     "name": "stdout",
     "output_type": "stream",
     "text": [
      "Epoch [14]: Train Loss: 0.6479, Train Acc: 0.6407 | Val Loss: 0.6434, Val Acc: 0.6517, Val Recall: 0.8211, Val F1: 0.7426\n",
      "[INFO] No improvement in val_f1. Patience: 4/8\n",
      "[INFO] Learning rate adjusted to: 0.000001\n"
     ]
    },
    {
     "name": "stderr",
     "output_type": "stream",
     "text": [
      "                                                                                                                                           "
     ]
    },
    {
     "name": "stdout",
     "output_type": "stream",
     "text": [
      "Epoch [15]: Train Loss: 0.6525, Train Acc: 0.6402 | Val Loss: 0.6399, Val Acc: 0.6667, Val Recall: 0.8252, Val F1: 0.7519\n",
      "[INFO] Best model saved with val_f1: 0.7519\n",
      "[INFO] Learning rate adjusted to: 0.000001\n"
     ]
    },
    {
     "name": "stderr",
     "output_type": "stream",
     "text": [
      "                                                                                                                                           "
     ]
    },
    {
     "name": "stdout",
     "output_type": "stream",
     "text": [
      "Epoch [16]: Train Loss: 0.6508, Train Acc: 0.6444 | Val Loss: 0.6419, Val Acc: 0.6741, Val Recall: 0.8659, Val F1: 0.7648\n",
      "[INFO] Best model saved with val_f1: 0.7648\n",
      "[INFO] Learning rate adjusted to: 0.000001\n"
     ]
    },
    {
     "name": "stderr",
     "output_type": "stream",
     "text": [
      "                                                                                                                                           "
     ]
    },
    {
     "name": "stdout",
     "output_type": "stream",
     "text": [
      "Epoch [17]: Train Loss: 0.6482, Train Acc: 0.6439 | Val Loss: 0.6440, Val Acc: 0.6368, Val Recall: 0.8089, Val F1: 0.7316\n",
      "[INFO] No improvement in val_f1. Patience: 1/8\n",
      "[INFO] Learning rate adjusted to: 0.000001\n"
     ]
    },
    {
     "name": "stderr",
     "output_type": "stream",
     "text": [
      "                                                                                                                                           "
     ]
    },
    {
     "name": "stdout",
     "output_type": "stream",
     "text": [
      "Epoch [18]: Train Loss: 0.6530, Train Acc: 0.6269 | Val Loss: 0.6327, Val Acc: 0.6816, Val Recall: 0.8618, Val F1: 0.7681\n",
      "[INFO] Best model saved with val_f1: 0.7681\n",
      "[INFO] Learning rate adjusted to: 0.000001\n"
     ]
    },
    {
     "name": "stderr",
     "output_type": "stream",
     "text": [
      "                                                                                                                                           "
     ]
    },
    {
     "name": "stdout",
     "output_type": "stream",
     "text": [
      "Epoch [19]: Train Loss: 0.6480, Train Acc: 0.6486 | Val Loss: 0.6497, Val Acc: 0.6667, Val Recall: 0.8293, Val F1: 0.7528\n",
      "[INFO] No improvement in val_f1. Patience: 1/8\n",
      "[INFO] Learning rate adjusted to: 0.000001\n"
     ]
    },
    {
     "name": "stderr",
     "output_type": "stream",
     "text": [
      "                                                                                                                                           "
     ]
    },
    {
     "name": "stdout",
     "output_type": "stream",
     "text": [
      "Epoch [20]: Train Loss: 0.6472, Train Acc: 0.6365 | Val Loss: 0.6394, Val Acc: 0.6692, Val Recall: 0.8537, Val F1: 0.7595\n",
      "[INFO] No improvement in val_f1. Patience: 2/8\n",
      "[INFO] Learning rate adjusted to: 0.000001\n"
     ]
    },
    {
     "name": "stderr",
     "output_type": "stream",
     "text": [
      "                                                                                                                                           "
     ]
    },
    {
     "name": "stdout",
     "output_type": "stream",
     "text": [
      "Epoch [21]: Train Loss: 0.6463, Train Acc: 0.6524 | Val Loss: 0.6460, Val Acc: 0.6393, Val Recall: 0.8130, Val F1: 0.7339\n",
      "[INFO] No improvement in val_f1. Patience: 3/8\n",
      "[INFO] Learning rate adjusted to: 0.000001\n"
     ]
    },
    {
     "name": "stderr",
     "output_type": "stream",
     "text": [
      "                                                                                                                                           "
     ]
    },
    {
     "name": "stdout",
     "output_type": "stream",
     "text": [
      "Epoch [22]: Train Loss: 0.6432, Train Acc: 0.6587 | Val Loss: 0.6480, Val Acc: 0.6617, Val Recall: 0.8415, Val F1: 0.7527\n",
      "[INFO] No improvement in val_f1. Patience: 4/8\n",
      "[INFO] Learning rate adjusted to: 0.000000\n"
     ]
    },
    {
     "name": "stderr",
     "output_type": "stream",
     "text": [
      "                                                                                                                                           "
     ]
    },
    {
     "name": "stdout",
     "output_type": "stream",
     "text": [
      "Epoch [23]: Train Loss: 0.6458, Train Acc: 0.6481 | Val Loss: 0.6491, Val Acc: 0.6368, Val Recall: 0.7805, Val F1: 0.7245\n",
      "[INFO] No improvement in val_f1. Patience: 5/8\n",
      "[INFO] Learning rate adjusted to: 0.000000\n"
     ]
    },
    {
     "name": "stderr",
     "output_type": "stream",
     "text": [
      "                                                                                                                                           "
     ]
    },
    {
     "name": "stdout",
     "output_type": "stream",
     "text": [
      "Epoch [24]: Train Loss: 0.6495, Train Acc: 0.6386 | Val Loss: 0.6453, Val Acc: 0.6493, Val Recall: 0.8171, Val F1: 0.7403\n",
      "[INFO] No improvement in val_f1. Patience: 6/8\n",
      "[INFO] Learning rate adjusted to: 0.000000\n"
     ]
    },
    {
     "name": "stderr",
     "output_type": "stream",
     "text": [
      "                                                                                                                                           "
     ]
    },
    {
     "name": "stdout",
     "output_type": "stream",
     "text": [
      "Epoch [25]: Train Loss: 0.6496, Train Acc: 0.6301 | Val Loss: 0.6435, Val Acc: 0.6542, Val Recall: 0.8008, Val F1: 0.7392\n",
      "[INFO] No improvement in val_f1. Patience: 7/8\n",
      "[INFO] Learning rate adjusted to: 0.000000\n"
     ]
    },
    {
     "name": "stderr",
     "output_type": "stream",
     "text": [
      "[I 2024-12-18 20:27:26,659] Trial 0 finished with value: 0.7472527472527473 and parameters: {'lr': 1.4654646339457767e-05, 'weight_decay': 0.0004988312945695164, 'optimizer': 'SGD'}. Best is trial 0 with value: 0.7472527472527473.\n"
     ]
    },
    {
     "name": "stdout",
     "output_type": "stream",
     "text": [
      "Epoch [26]: Train Loss: 0.6517, Train Acc: 0.6370 | Val Loss: 0.6457, Val Acc: 0.6567, Val Recall: 0.8293, Val F1: 0.7473\n",
      "[INFO] No improvement in val_f1. Patience: 8/8\n",
      "[INFO] Learning rate adjusted to: 0.000000\n",
      "[INFO] Training stopped after 26 epochs.\n",
      "\n",
      "[INFO] Training completed!\n",
      "[INFO] Trial 0 - Final Validation Recall: 0.7473\n",
      "[DEBUG] Starting trial 1...\n",
      "[DEBUG] Suggested hyperparameters: lr=0.00012727581973463682, weight_decay=1.0536218955716068e-05, optimizer=Adam\n",
      "[DEBUG] Initializing efficientnet_b0 model...\n",
      "[DEBUG] Setting up optimizer...\n",
      "[INFO] Starting model training...\n",
      "\n",
      "Starting training...\n",
      "\n"
     ]
    },
    {
     "name": "stderr",
     "output_type": "stream",
     "text": [
      "                                                                                                                                           "
     ]
    },
    {
     "name": "stdout",
     "output_type": "stream",
     "text": [
      "Epoch [1]: Train Loss: 0.4997, Train Acc: 0.7546 | Val Loss: 0.3476, Val Acc: 0.8532, Val Recall: 0.8740, Val F1: 0.8793\n",
      "[INFO] Best model saved with val_f1: 0.8793\n",
      "[INFO] Learning rate adjusted to: 0.000127\n"
     ]
    },
    {
     "name": "stderr",
     "output_type": "stream",
     "text": [
      "                                                                                                                                           "
     ]
    },
    {
     "name": "stdout",
     "output_type": "stream",
     "text": [
      "Epoch [2]: Train Loss: 0.2829, Train Acc: 0.8892 | Val Loss: 0.3053, Val Acc: 0.8682, Val Recall: 0.9187, Val F1: 0.8950\n",
      "[INFO] Best model saved with val_f1: 0.8950\n",
      "[INFO] Learning rate adjusted to: 0.000127\n"
     ]
    },
    {
     "name": "stderr",
     "output_type": "stream",
     "text": [
      "                                                                                                                                           "
     ]
    },
    {
     "name": "stdout",
     "output_type": "stream",
     "text": [
      "Epoch [3]: Train Loss: 0.2344, Train Acc: 0.9030 | Val Loss: 0.2932, Val Acc: 0.8980, Val Recall: 0.9268, Val F1: 0.9175\n",
      "[INFO] Best model saved with val_f1: 0.9175\n",
      "[INFO] Learning rate adjusted to: 0.000127\n"
     ]
    },
    {
     "name": "stderr",
     "output_type": "stream",
     "text": [
      "                                                                                                                                           "
     ]
    },
    {
     "name": "stdout",
     "output_type": "stream",
     "text": [
      "Epoch [4]: Train Loss: 0.1863, Train Acc: 0.9205 | Val Loss: 0.2454, Val Acc: 0.9030, Val Recall: 0.9350, Val F1: 0.9218\n",
      "[INFO] Best model saved with val_f1: 0.9218\n",
      "[INFO] Learning rate adjusted to: 0.000127\n"
     ]
    },
    {
     "name": "stderr",
     "output_type": "stream",
     "text": [
      "                                                                                                                                           "
     ]
    },
    {
     "name": "stdout",
     "output_type": "stream",
     "text": [
      "Epoch [5]: Train Loss: 0.1603, Train Acc: 0.9391 | Val Loss: 0.2860, Val Acc: 0.9030, Val Recall: 0.9431, Val F1: 0.9225\n",
      "[INFO] Best model saved with val_f1: 0.9225\n",
      "[INFO] Learning rate adjusted to: 0.000127\n"
     ]
    },
    {
     "name": "stderr",
     "output_type": "stream",
     "text": [
      "                                                                                                                                           "
     ]
    },
    {
     "name": "stdout",
     "output_type": "stream",
     "text": [
      "Epoch [6]: Train Loss: 0.1457, Train Acc: 0.9438 | Val Loss: 0.2972, Val Acc: 0.8980, Val Recall: 0.9187, Val F1: 0.9168\n",
      "[INFO] No improvement in val_f1. Patience: 1/8\n",
      "[INFO] Learning rate adjusted to: 0.000127\n"
     ]
    },
    {
     "name": "stderr",
     "output_type": "stream",
     "text": [
      "                                                                                                                                           "
     ]
    },
    {
     "name": "stdout",
     "output_type": "stream",
     "text": [
      "Epoch [7]: Train Loss: 0.1175, Train Acc: 0.9618 | Val Loss: 0.2906, Val Acc: 0.9129, Val Recall: 0.9309, Val F1: 0.9290\n",
      "[INFO] Best model saved with val_f1: 0.9290\n",
      "[INFO] Learning rate adjusted to: 0.000127\n"
     ]
    },
    {
     "name": "stderr",
     "output_type": "stream",
     "text": [
      "                                                                                                                                           "
     ]
    },
    {
     "name": "stdout",
     "output_type": "stream",
     "text": [
      "Epoch [8]: Train Loss: 0.0878, Train Acc: 0.9650 | Val Loss: 0.2466, Val Acc: 0.9154, Val Recall: 0.9390, Val F1: 0.9315\n",
      "[INFO] Best model saved with val_f1: 0.9315\n",
      "[INFO] Learning rate adjusted to: 0.000127\n"
     ]
    },
    {
     "name": "stderr",
     "output_type": "stream",
     "text": [
      "                                                                                                                                           "
     ]
    },
    {
     "name": "stdout",
     "output_type": "stream",
     "text": [
      "Epoch [9]: Train Loss: 0.0940, Train Acc: 0.9597 | Val Loss: 0.2622, Val Acc: 0.9055, Val Recall: 0.9390, Val F1: 0.9240\n",
      "[INFO] No improvement in val_f1. Patience: 1/8\n",
      "[INFO] Learning rate adjusted to: 0.000127\n"
     ]
    },
    {
     "name": "stderr",
     "output_type": "stream",
     "text": [
      "                                                                                                                                           "
     ]
    },
    {
     "name": "stdout",
     "output_type": "stream",
     "text": [
      "Epoch [10]: Train Loss: 0.0746, Train Acc: 0.9719 | Val Loss: 0.2688, Val Acc: 0.9154, Val Recall: 0.9553, Val F1: 0.9325\n",
      "[INFO] Best model saved with val_f1: 0.9325\n",
      "[INFO] Learning rate adjusted to: 0.000127\n"
     ]
    },
    {
     "name": "stderr",
     "output_type": "stream",
     "text": [
      "                                                                                                                                           "
     ]
    },
    {
     "name": "stdout",
     "output_type": "stream",
     "text": [
      "Epoch [11]: Train Loss: 0.0659, Train Acc: 0.9756 | Val Loss: 0.3040, Val Acc: 0.9005, Val Recall: 0.9472, Val F1: 0.9209\n",
      "[INFO] No improvement in val_f1. Patience: 1/8\n",
      "[INFO] Learning rate adjusted to: 0.000127\n"
     ]
    },
    {
     "name": "stderr",
     "output_type": "stream",
     "text": [
      "                                                                                                                                           "
     ]
    },
    {
     "name": "stdout",
     "output_type": "stream",
     "text": [
      "Epoch [12]: Train Loss: 0.0757, Train Acc: 0.9698 | Val Loss: 0.2669, Val Acc: 0.9204, Val Recall: 0.9593, Val F1: 0.9365\n",
      "[INFO] Best model saved with val_f1: 0.9365\n",
      "[INFO] Learning rate adjusted to: 0.000127\n"
     ]
    },
    {
     "name": "stderr",
     "output_type": "stream",
     "text": [
      "                                                                                                                                           "
     ]
    },
    {
     "name": "stdout",
     "output_type": "stream",
     "text": [
      "Epoch [13]: Train Loss: 0.0696, Train Acc: 0.9762 | Val Loss: 0.2705, Val Acc: 0.9154, Val Recall: 0.9715, Val F1: 0.9336\n",
      "[INFO] No improvement in val_f1. Patience: 1/8\n",
      "[INFO] Learning rate adjusted to: 0.000127\n"
     ]
    },
    {
     "name": "stderr",
     "output_type": "stream",
     "text": [
      "                                                                                                                                           "
     ]
    },
    {
     "name": "stdout",
     "output_type": "stream",
     "text": [
      "Epoch [14]: Train Loss: 0.0550, Train Acc: 0.9809 | Val Loss: 0.3144, Val Acc: 0.9154, Val Recall: 0.9553, Val F1: 0.9325\n",
      "[INFO] No improvement in val_f1. Patience: 2/8\n",
      "[INFO] Learning rate adjusted to: 0.000127\n"
     ]
    },
    {
     "name": "stderr",
     "output_type": "stream",
     "text": [
      "                                                                                                                                           "
     ]
    },
    {
     "name": "stdout",
     "output_type": "stream",
     "text": [
      "Epoch [15]: Train Loss: 0.0576, Train Acc: 0.9777 | Val Loss: 0.3348, Val Acc: 0.9080, Val Recall: 0.9390, Val F1: 0.9259\n",
      "[INFO] No improvement in val_f1. Patience: 3/8\n",
      "[INFO] Learning rate adjusted to: 0.000127\n"
     ]
    },
    {
     "name": "stderr",
     "output_type": "stream",
     "text": [
      "                                                                                                                                           "
     ]
    },
    {
     "name": "stdout",
     "output_type": "stream",
     "text": [
      "Epoch [16]: Train Loss: 0.0550, Train Acc: 0.9820 | Val Loss: 0.3711, Val Acc: 0.9055, Val Recall: 0.9390, Val F1: 0.9240\n",
      "[INFO] No improvement in val_f1. Patience: 4/8\n",
      "[INFO] Learning rate adjusted to: 0.000013\n"
     ]
    },
    {
     "name": "stderr",
     "output_type": "stream",
     "text": [
      "                                                                                                                                           "
     ]
    },
    {
     "name": "stdout",
     "output_type": "stream",
     "text": [
      "Epoch [17]: Train Loss: 0.0646, Train Acc: 0.9730 | Val Loss: 0.3328, Val Acc: 0.9080, Val Recall: 0.9309, Val F1: 0.9253\n",
      "[INFO] No improvement in val_f1. Patience: 5/8\n",
      "[INFO] Learning rate adjusted to: 0.000013\n"
     ]
    },
    {
     "name": "stderr",
     "output_type": "stream",
     "text": [
      "                                                                                                                                           "
     ]
    },
    {
     "name": "stdout",
     "output_type": "stream",
     "text": [
      "Epoch [18]: Train Loss: 0.0409, Train Acc: 0.9862 | Val Loss: 0.2784, Val Acc: 0.9254, Val Recall: 0.9472, Val F1: 0.9395\n",
      "[INFO] Best model saved with val_f1: 0.9395\n",
      "[INFO] Learning rate adjusted to: 0.000013\n"
     ]
    },
    {
     "name": "stderr",
     "output_type": "stream",
     "text": [
      "                                                                                                                                           "
     ]
    },
    {
     "name": "stdout",
     "output_type": "stream",
     "text": [
      "Epoch [19]: Train Loss: 0.0397, Train Acc: 0.9883 | Val Loss: 0.2856, Val Acc: 0.9055, Val Recall: 0.9431, Val F1: 0.9243\n",
      "[INFO] No improvement in val_f1. Patience: 1/8\n",
      "[INFO] Learning rate adjusted to: 0.000013\n"
     ]
    },
    {
     "name": "stderr",
     "output_type": "stream",
     "text": [
      "                                                                                                                                           "
     ]
    },
    {
     "name": "stdout",
     "output_type": "stream",
     "text": [
      "Epoch [20]: Train Loss: 0.0376, Train Acc: 0.9873 | Val Loss: 0.2962, Val Acc: 0.9080, Val Recall: 0.9390, Val F1: 0.9259\n",
      "[INFO] No improvement in val_f1. Patience: 2/8\n",
      "[INFO] Learning rate adjusted to: 0.000013\n"
     ]
    },
    {
     "name": "stderr",
     "output_type": "stream",
     "text": [
      "                                                                                                                                           "
     ]
    },
    {
     "name": "stdout",
     "output_type": "stream",
     "text": [
      "Epoch [21]: Train Loss: 0.0360, Train Acc: 0.9889 | Val Loss: 0.2926, Val Acc: 0.9229, Val Recall: 0.9472, Val F1: 0.9376\n",
      "[INFO] No improvement in val_f1. Patience: 3/8\n",
      "[INFO] Learning rate adjusted to: 0.000013\n"
     ]
    },
    {
     "name": "stderr",
     "output_type": "stream",
     "text": [
      "                                                                                                                                           "
     ]
    },
    {
     "name": "stdout",
     "output_type": "stream",
     "text": [
      "Epoch [22]: Train Loss: 0.0360, Train Acc: 0.9883 | Val Loss: 0.2971, Val Acc: 0.9229, Val Recall: 0.9472, Val F1: 0.9376\n",
      "[INFO] No improvement in val_f1. Patience: 4/8\n",
      "[INFO] Learning rate adjusted to: 0.000001\n"
     ]
    },
    {
     "name": "stderr",
     "output_type": "stream",
     "text": [
      "                                                                                                                                           "
     ]
    },
    {
     "name": "stdout",
     "output_type": "stream",
     "text": [
      "Epoch [23]: Train Loss: 0.0293, Train Acc: 0.9910 | Val Loss: 0.3260, Val Acc: 0.9030, Val Recall: 0.9390, Val F1: 0.9222\n",
      "[INFO] No improvement in val_f1. Patience: 5/8\n",
      "[INFO] Learning rate adjusted to: 0.000001\n"
     ]
    },
    {
     "name": "stderr",
     "output_type": "stream",
     "text": [
      "                                                                                                                                           "
     ]
    },
    {
     "name": "stdout",
     "output_type": "stream",
     "text": [
      "Epoch [24]: Train Loss: 0.0218, Train Acc: 0.9968 | Val Loss: 0.3456, Val Acc: 0.9104, Val Recall: 0.9472, Val F1: 0.9283\n",
      "[INFO] No improvement in val_f1. Patience: 6/8\n",
      "[INFO] Learning rate adjusted to: 0.000001\n"
     ]
    },
    {
     "name": "stderr",
     "output_type": "stream",
     "text": [
      "                                                                                                                                           "
     ]
    },
    {
     "name": "stdout",
     "output_type": "stream",
     "text": [
      "Epoch [25]: Train Loss: 0.0345, Train Acc: 0.9889 | Val Loss: 0.2894, Val Acc: 0.9179, Val Recall: 0.9512, Val F1: 0.9341\n",
      "[INFO] No improvement in val_f1. Patience: 7/8\n",
      "[INFO] Learning rate adjusted to: 0.000001\n"
     ]
    },
    {
     "name": "stderr",
     "output_type": "stream",
     "text": [
      "[I 2024-12-18 20:31:20,866] Trial 1 finished with value: 0.9295774647887324 and parameters: {'lr': 0.00012727581973463682, 'weight_decay': 1.0536218955716068e-05, 'optimizer': 'Adam'}. Best is trial 1 with value: 0.9295774647887324.\n"
     ]
    },
    {
     "name": "stdout",
     "output_type": "stream",
     "text": [
      "Epoch [26]: Train Loss: 0.0460, Train Acc: 0.9830 | Val Loss: 0.2919, Val Acc: 0.9129, Val Recall: 0.9390, Val F1: 0.9296\n",
      "[INFO] No improvement in val_f1. Patience: 8/8\n",
      "[INFO] Learning rate adjusted to: 0.000000\n",
      "[INFO] Training stopped after 26 epochs.\n",
      "\n",
      "[INFO] Training completed!\n",
      "[INFO] Trial 1 - Final Validation Recall: 0.9296\n",
      "[DEBUG] Starting trial 2...\n",
      "[DEBUG] Suggested hyperparameters: lr=5.917232379588056e-05, weight_decay=5.207537831328807e-05, optimizer=Adam\n",
      "[DEBUG] Initializing efficientnet_b0 model...\n",
      "[DEBUG] Setting up optimizer...\n",
      "[INFO] Starting model training...\n",
      "\n",
      "Starting training...\n",
      "\n"
     ]
    },
    {
     "name": "stderr",
     "output_type": "stream",
     "text": [
      "                                                                                                                                           "
     ]
    },
    {
     "name": "stdout",
     "output_type": "stream",
     "text": [
      "Epoch [1]: Train Loss: 0.5839, Train Acc: 0.7075 | Val Loss: 0.4722, Val Acc: 0.8060, Val Recall: 0.8333, Val F1: 0.8402\n",
      "[INFO] Best model saved with val_f1: 0.8402\n",
      "[INFO] Learning rate adjusted to: 0.000059\n"
     ]
    },
    {
     "name": "stderr",
     "output_type": "stream",
     "text": [
      "                                                                                                                                           "
     ]
    },
    {
     "name": "stdout",
     "output_type": "stream",
     "text": [
      "Epoch [2]: Train Loss: 0.3970, Train Acc: 0.8272 | Val Loss: 0.3725, Val Acc: 0.8383, Val Recall: 0.8780, Val F1: 0.8692\n",
      "[INFO] Best model saved with val_f1: 0.8692\n",
      "[INFO] Learning rate adjusted to: 0.000059\n"
     ]
    },
    {
     "name": "stderr",
     "output_type": "stream",
     "text": [
      "                                                                                                                                           "
     ]
    },
    {
     "name": "stdout",
     "output_type": "stream",
     "text": [
      "Epoch [3]: Train Loss: 0.3033, Train Acc: 0.8665 | Val Loss: 0.3359, Val Acc: 0.8582, Val Recall: 0.8862, Val F1: 0.8844\n",
      "[INFO] Best model saved with val_f1: 0.8844\n",
      "[INFO] Learning rate adjusted to: 0.000059\n"
     ]
    },
    {
     "name": "stderr",
     "output_type": "stream",
     "text": [
      "                                                                                                                                           "
     ]
    },
    {
     "name": "stdout",
     "output_type": "stream",
     "text": [
      "Epoch [4]: Train Loss: 0.2568, Train Acc: 0.8993 | Val Loss: 0.2848, Val Acc: 0.8905, Val Recall: 0.9146, Val F1: 0.9109\n",
      "[INFO] Best model saved with val_f1: 0.9109\n",
      "[INFO] Learning rate adjusted to: 0.000059\n"
     ]
    },
    {
     "name": "stderr",
     "output_type": "stream",
     "text": [
      "                                                                                                                                           "
     ]
    },
    {
     "name": "stdout",
     "output_type": "stream",
     "text": [
      "Epoch [5]: Train Loss: 0.2117, Train Acc: 0.9210 | Val Loss: 0.2771, Val Acc: 0.8781, Val Recall: 0.9106, Val F1: 0.9014\n",
      "[INFO] No improvement in val_f1. Patience: 1/8\n",
      "[INFO] Learning rate adjusted to: 0.000059\n"
     ]
    },
    {
     "name": "stderr",
     "output_type": "stream",
     "text": [
      "                                                                                                                                           "
     ]
    },
    {
     "name": "stdout",
     "output_type": "stream",
     "text": [
      "Epoch [6]: Train Loss: 0.1837, Train Acc: 0.9327 | Val Loss: 0.2918, Val Acc: 0.8806, Val Recall: 0.9065, Val F1: 0.9028\n",
      "[INFO] No improvement in val_f1. Patience: 2/8\n",
      "[INFO] Learning rate adjusted to: 0.000059\n"
     ]
    },
    {
     "name": "stderr",
     "output_type": "stream",
     "text": [
      "                                                                                                                                           "
     ]
    },
    {
     "name": "stdout",
     "output_type": "stream",
     "text": [
      "Epoch [7]: Train Loss: 0.1797, Train Acc: 0.9285 | Val Loss: 0.2648, Val Acc: 0.9104, Val Recall: 0.9431, Val F1: 0.9280\n",
      "[INFO] Best model saved with val_f1: 0.9280\n",
      "[INFO] Learning rate adjusted to: 0.000059\n"
     ]
    },
    {
     "name": "stderr",
     "output_type": "stream",
     "text": [
      "                                                                                                                                           "
     ]
    },
    {
     "name": "stdout",
     "output_type": "stream",
     "text": [
      "Epoch [8]: Train Loss: 0.1483, Train Acc: 0.9396 | Val Loss: 0.2670, Val Acc: 0.8955, Val Recall: 0.9268, Val F1: 0.9157\n",
      "[INFO] No improvement in val_f1. Patience: 1/8\n",
      "[INFO] Learning rate adjusted to: 0.000059\n"
     ]
    },
    {
     "name": "stderr",
     "output_type": "stream",
     "text": [
      "                                                                                                                                           "
     ]
    },
    {
     "name": "stdout",
     "output_type": "stream",
     "text": [
      "Epoch [9]: Train Loss: 0.1210, Train Acc: 0.9550 | Val Loss: 0.2334, Val Acc: 0.9154, Val Recall: 0.9187, Val F1: 0.9300\n",
      "[INFO] Best model saved with val_f1: 0.9300\n",
      "[INFO] Learning rate adjusted to: 0.000059\n"
     ]
    },
    {
     "name": "stderr",
     "output_type": "stream",
     "text": [
      "                                                                                                                                           "
     ]
    },
    {
     "name": "stdout",
     "output_type": "stream",
     "text": [
      "Epoch [10]: Train Loss: 0.1302, Train Acc: 0.9523 | Val Loss: 0.2527, Val Acc: 0.9080, Val Recall: 0.9350, Val F1: 0.9256\n",
      "[INFO] No improvement in val_f1. Patience: 1/8\n",
      "[INFO] Learning rate adjusted to: 0.000059\n"
     ]
    },
    {
     "name": "stderr",
     "output_type": "stream",
     "text": [
      "                                                                                                                                           "
     ]
    },
    {
     "name": "stdout",
     "output_type": "stream",
     "text": [
      "Epoch [11]: Train Loss: 0.1229, Train Acc: 0.9512 | Val Loss: 0.2602, Val Acc: 0.9104, Val Recall: 0.9390, Val F1: 0.9277\n",
      "[INFO] No improvement in val_f1. Patience: 2/8\n",
      "[INFO] Learning rate adjusted to: 0.000059\n"
     ]
    },
    {
     "name": "stderr",
     "output_type": "stream",
     "text": [
      "                                                                                                                                           "
     ]
    },
    {
     "name": "stdout",
     "output_type": "stream",
     "text": [
      "Epoch [12]: Train Loss: 0.1107, Train Acc: 0.9560 | Val Loss: 0.2380, Val Acc: 0.9254, Val Recall: 0.9472, Val F1: 0.9395\n",
      "[INFO] Best model saved with val_f1: 0.9395\n",
      "[INFO] Learning rate adjusted to: 0.000059\n"
     ]
    },
    {
     "name": "stderr",
     "output_type": "stream",
     "text": [
      "                                                                                                                                           "
     ]
    },
    {
     "name": "stdout",
     "output_type": "stream",
     "text": [
      "Epoch [13]: Train Loss: 0.0974, Train Acc: 0.9677 | Val Loss: 0.2682, Val Acc: 0.9104, Val Recall: 0.9431, Val F1: 0.9280\n",
      "[INFO] No improvement in val_f1. Patience: 1/8\n",
      "[INFO] Learning rate adjusted to: 0.000059\n"
     ]
    },
    {
     "name": "stderr",
     "output_type": "stream",
     "text": [
      "                                                                                                                                           "
     ]
    },
    {
     "name": "stdout",
     "output_type": "stream",
     "text": [
      "Epoch [14]: Train Loss: 0.0741, Train Acc: 0.9735 | Val Loss: 0.2716, Val Acc: 0.9055, Val Recall: 0.9268, Val F1: 0.9231\n",
      "[INFO] No improvement in val_f1. Patience: 2/8\n",
      "[INFO] Learning rate adjusted to: 0.000059\n"
     ]
    },
    {
     "name": "stderr",
     "output_type": "stream",
     "text": [
      "                                                                                                                                           "
     ]
    },
    {
     "name": "stdout",
     "output_type": "stream",
     "text": [
      "Epoch [15]: Train Loss: 0.0739, Train Acc: 0.9719 | Val Loss: 0.2445, Val Acc: 0.9303, Val Recall: 0.9675, Val F1: 0.9444\n",
      "[INFO] Best model saved with val_f1: 0.9444\n",
      "[INFO] Learning rate adjusted to: 0.000059\n"
     ]
    },
    {
     "name": "stderr",
     "output_type": "stream",
     "text": [
      "                                                                                                                                           "
     ]
    },
    {
     "name": "stdout",
     "output_type": "stream",
     "text": [
      "Epoch [16]: Train Loss: 0.0684, Train Acc: 0.9762 | Val Loss: 0.2353, Val Acc: 0.9204, Val Recall: 0.9472, Val F1: 0.9357\n",
      "[INFO] No improvement in val_f1. Patience: 1/8\n",
      "[INFO] Learning rate adjusted to: 0.000059\n"
     ]
    },
    {
     "name": "stderr",
     "output_type": "stream",
     "text": [
      "                                                                                                                                           "
     ]
    },
    {
     "name": "stdout",
     "output_type": "stream",
     "text": [
      "Epoch [17]: Train Loss: 0.0819, Train Acc: 0.9671 | Val Loss: 0.3020, Val Acc: 0.9129, Val Recall: 0.9390, Val F1: 0.9296\n",
      "[INFO] No improvement in val_f1. Patience: 2/8\n",
      "[INFO] Learning rate adjusted to: 0.000059\n"
     ]
    },
    {
     "name": "stderr",
     "output_type": "stream",
     "text": [
      "                                                                                                                                           "
     ]
    },
    {
     "name": "stdout",
     "output_type": "stream",
     "text": [
      "Epoch [18]: Train Loss: 0.0668, Train Acc: 0.9783 | Val Loss: 0.2937, Val Acc: 0.9080, Val Recall: 0.9309, Val F1: 0.9253\n",
      "[INFO] No improvement in val_f1. Patience: 3/8\n",
      "[INFO] Learning rate adjusted to: 0.000059\n"
     ]
    },
    {
     "name": "stderr",
     "output_type": "stream",
     "text": [
      "                                                                                                                                           "
     ]
    },
    {
     "name": "stdout",
     "output_type": "stream",
     "text": [
      "Epoch [19]: Train Loss: 0.0664, Train Acc: 0.9751 | Val Loss: 0.2938, Val Acc: 0.9179, Val Recall: 0.9512, Val F1: 0.9341\n",
      "[INFO] No improvement in val_f1. Patience: 4/8\n",
      "[INFO] Learning rate adjusted to: 0.000006\n"
     ]
    },
    {
     "name": "stderr",
     "output_type": "stream",
     "text": [
      "                                                                                                                                           "
     ]
    },
    {
     "name": "stdout",
     "output_type": "stream",
     "text": [
      "Epoch [20]: Train Loss: 0.0609, Train Acc: 0.9724 | Val Loss: 0.3336, Val Acc: 0.9104, Val Recall: 0.9390, Val F1: 0.9277\n",
      "[INFO] No improvement in val_f1. Patience: 5/8\n",
      "[INFO] Learning rate adjusted to: 0.000006\n"
     ]
    },
    {
     "name": "stderr",
     "output_type": "stream",
     "text": [
      "                                                                                                                                           "
     ]
    },
    {
     "name": "stdout",
     "output_type": "stream",
     "text": [
      "Epoch [21]: Train Loss: 0.0628, Train Acc: 0.9804 | Val Loss: 0.2830, Val Acc: 0.9204, Val Recall: 0.9472, Val F1: 0.9357\n",
      "[INFO] No improvement in val_f1. Patience: 6/8\n",
      "[INFO] Learning rate adjusted to: 0.000006\n"
     ]
    },
    {
     "name": "stderr",
     "output_type": "stream",
     "text": [
      "                                                                                                                                           "
     ]
    },
    {
     "name": "stdout",
     "output_type": "stream",
     "text": [
      "Epoch [22]: Train Loss: 0.0655, Train Acc: 0.9719 | Val Loss: 0.2882, Val Acc: 0.9229, Val Recall: 0.9675, Val F1: 0.9389\n",
      "[INFO] No improvement in val_f1. Patience: 7/8\n",
      "[INFO] Learning rate adjusted to: 0.000006\n"
     ]
    },
    {
     "name": "stderr",
     "output_type": "stream",
     "text": [
      "[I 2024-12-18 20:34:47,472] Trial 2 finished with value: 0.9346534653465347 and parameters: {'lr': 5.917232379588056e-05, 'weight_decay': 5.207537831328807e-05, 'optimizer': 'Adam'}. Best is trial 2 with value: 0.9346534653465347.\n"
     ]
    },
    {
     "name": "stdout",
     "output_type": "stream",
     "text": [
      "Epoch [23]: Train Loss: 0.0605, Train Acc: 0.9788 | Val Loss: 0.2924, Val Acc: 0.9179, Val Recall: 0.9593, Val F1: 0.9347\n",
      "[INFO] No improvement in val_f1. Patience: 8/8\n",
      "[INFO] Learning rate adjusted to: 0.000001\n",
      "[INFO] Training stopped after 23 epochs.\n",
      "\n",
      "[INFO] Training completed!\n",
      "[INFO] Trial 2 - Final Validation Recall: 0.9347\n",
      "[DEBUG] Starting trial 3...\n",
      "[DEBUG] Suggested hyperparameters: lr=0.009122460207428145, weight_decay=1.4999639841764426e-05, optimizer=AdamW\n",
      "[DEBUG] Initializing efficientnet_b0 model...\n",
      "[DEBUG] Setting up optimizer...\n",
      "[INFO] Starting model training...\n",
      "\n",
      "Starting training...\n",
      "\n"
     ]
    },
    {
     "name": "stderr",
     "output_type": "stream",
     "text": [
      "                                                                                                                                           "
     ]
    },
    {
     "name": "stdout",
     "output_type": "stream",
     "text": [
      "Epoch [1]: Train Loss: 0.8257, Train Acc: 0.6063 | Val Loss: 0.7951, Val Acc: 0.6418, Val Recall: 0.8740, Val F1: 0.7491\n",
      "[INFO] Best model saved with val_f1: 0.7491\n",
      "[INFO] Learning rate adjusted to: 0.009122\n"
     ]
    },
    {
     "name": "stderr",
     "output_type": "stream",
     "text": [
      "                                                                                                                                           "
     ]
    },
    {
     "name": "stdout",
     "output_type": "stream",
     "text": [
      "Epoch [2]: Train Loss: 0.7283, Train Acc: 0.6100 | Val Loss: 1.0349, Val Acc: 0.6443, Val Recall: 0.9024, Val F1: 0.7564\n",
      "[INFO] Best model saved with val_f1: 0.7564\n",
      "[INFO] Learning rate adjusted to: 0.009122\n"
     ]
    },
    {
     "name": "stderr",
     "output_type": "stream",
     "text": [
      "                                                                                                                                           "
     ]
    },
    {
     "name": "stdout",
     "output_type": "stream",
     "text": [
      "Epoch [3]: Train Loss: 0.6464, Train Acc: 0.6285 | Val Loss: 0.5992, Val Acc: 0.6318, Val Recall: 0.8943, Val F1: 0.7483\n",
      "[INFO] No improvement in val_f1. Patience: 1/8\n",
      "[INFO] Learning rate adjusted to: 0.009122\n"
     ]
    },
    {
     "name": "stderr",
     "output_type": "stream",
     "text": [
      "                                                                                                                                           "
     ]
    },
    {
     "name": "stdout",
     "output_type": "stream",
     "text": [
      "Epoch [4]: Train Loss: 0.5755, Train Acc: 0.6778 | Val Loss: 0.5198, Val Acc: 0.7139, Val Recall: 0.7033, Val F1: 0.7505\n",
      "[INFO] No improvement in val_f1. Patience: 2/8\n",
      "[INFO] Learning rate adjusted to: 0.009122\n"
     ]
    },
    {
     "name": "stderr",
     "output_type": "stream",
     "text": [
      "                                                                                                                                           "
     ]
    },
    {
     "name": "stdout",
     "output_type": "stream",
     "text": [
      "Epoch [5]: Train Loss: 0.5514, Train Acc: 0.7122 | Val Loss: 0.6400, Val Acc: 0.6741, Val Recall: 0.9512, Val F1: 0.7813\n",
      "[INFO] Best model saved with val_f1: 0.7813\n",
      "[INFO] Learning rate adjusted to: 0.009122\n"
     ]
    },
    {
     "name": "stderr",
     "output_type": "stream",
     "text": [
      "                                                                                                                                           "
     ]
    },
    {
     "name": "stdout",
     "output_type": "stream",
     "text": [
      "Epoch [6]: Train Loss: 0.5455, Train Acc: 0.7154 | Val Loss: 0.5440, Val Acc: 0.6940, Val Recall: 0.6423, Val F1: 0.7198\n",
      "[INFO] No improvement in val_f1. Patience: 1/8\n",
      "[INFO] Learning rate adjusted to: 0.009122\n"
     ]
    },
    {
     "name": "stderr",
     "output_type": "stream",
     "text": [
      "                                                                                                                                           "
     ]
    },
    {
     "name": "stdout",
     "output_type": "stream",
     "text": [
      "Epoch [7]: Train Loss: 0.5381, Train Acc: 0.7202 | Val Loss: 0.5735, Val Acc: 0.7065, Val Recall: 0.9268, Val F1: 0.7944\n",
      "[INFO] Best model saved with val_f1: 0.7944\n",
      "[INFO] Learning rate adjusted to: 0.009122\n"
     ]
    },
    {
     "name": "stderr",
     "output_type": "stream",
     "text": [
      "                                                                                                                                           "
     ]
    },
    {
     "name": "stdout",
     "output_type": "stream",
     "text": [
      "Epoch [8]: Train Loss: 0.5260, Train Acc: 0.7228 | Val Loss: 0.5803, Val Acc: 0.6915, Val Recall: 0.9268, Val F1: 0.7862\n",
      "[INFO] No improvement in val_f1. Patience: 1/8\n",
      "[INFO] Learning rate adjusted to: 0.009122\n"
     ]
    },
    {
     "name": "stderr",
     "output_type": "stream",
     "text": [
      "                                                                                                                                           "
     ]
    },
    {
     "name": "stdout",
     "output_type": "stream",
     "text": [
      "Epoch [9]: Train Loss: 0.5221, Train Acc: 0.7292 | Val Loss: 0.5695, Val Acc: 0.6667, Val Recall: 0.9797, Val F1: 0.7825\n",
      "[INFO] No improvement in val_f1. Patience: 2/8\n",
      "[INFO] Learning rate adjusted to: 0.009122\n"
     ]
    },
    {
     "name": "stderr",
     "output_type": "stream",
     "text": [
      "                                                                                                                                           "
     ]
    },
    {
     "name": "stdout",
     "output_type": "stream",
     "text": [
      "Epoch [10]: Train Loss: 0.5143, Train Acc: 0.7472 | Val Loss: 0.5745, Val Acc: 0.6990, Val Recall: 0.8252, Val F1: 0.7704\n",
      "[INFO] No improvement in val_f1. Patience: 3/8\n",
      "[INFO] Learning rate adjusted to: 0.009122\n"
     ]
    },
    {
     "name": "stderr",
     "output_type": "stream",
     "text": [
      "                                                                                                                                           "
     ]
    },
    {
     "name": "stdout",
     "output_type": "stream",
     "text": [
      "Epoch [11]: Train Loss: 0.4920, Train Acc: 0.7636 | Val Loss: 0.5000, Val Acc: 0.7587, Val Recall: 0.8293, Val F1: 0.8079\n",
      "[INFO] Best model saved with val_f1: 0.8079\n",
      "[INFO] Learning rate adjusted to: 0.009122\n"
     ]
    },
    {
     "name": "stderr",
     "output_type": "stream",
     "text": [
      "                                                                                                                                           "
     ]
    },
    {
     "name": "stdout",
     "output_type": "stream",
     "text": [
      "Epoch [12]: Train Loss: 0.4728, Train Acc: 0.7599 | Val Loss: 0.4728, Val Acc: 0.7662, Val Recall: 0.7520, Val F1: 0.7974\n",
      "[INFO] No improvement in val_f1. Patience: 1/8\n",
      "[INFO] Learning rate adjusted to: 0.009122\n"
     ]
    },
    {
     "name": "stderr",
     "output_type": "stream",
     "text": [
      "                                                                                                                                           "
     ]
    },
    {
     "name": "stdout",
     "output_type": "stream",
     "text": [
      "Epoch [13]: Train Loss: 0.4344, Train Acc: 0.7912 | Val Loss: 0.4904, Val Acc: 0.7687, Val Recall: 0.8780, Val F1: 0.8229\n",
      "[INFO] Best model saved with val_f1: 0.8229\n",
      "[INFO] Learning rate adjusted to: 0.009122\n"
     ]
    },
    {
     "name": "stderr",
     "output_type": "stream",
     "text": [
      "                                                                                                                                           "
     ]
    },
    {
     "name": "stdout",
     "output_type": "stream",
     "text": [
      "Epoch [14]: Train Loss: 0.4403, Train Acc: 0.7886 | Val Loss: 0.5256, Val Acc: 0.7264, Val Recall: 0.8699, Val F1: 0.7955\n",
      "[INFO] No improvement in val_f1. Patience: 1/8\n",
      "[INFO] Learning rate adjusted to: 0.009122\n"
     ]
    },
    {
     "name": "stderr",
     "output_type": "stream",
     "text": [
      "                                                                                                                                           "
     ]
    },
    {
     "name": "stdout",
     "output_type": "stream",
     "text": [
      "Epoch [15]: Train Loss: 0.4247, Train Acc: 0.8050 | Val Loss: 0.5732, Val Acc: 0.7015, Val Recall: 0.7195, Val F1: 0.7468\n",
      "[INFO] No improvement in val_f1. Patience: 2/8\n",
      "[INFO] Learning rate adjusted to: 0.009122\n"
     ]
    },
    {
     "name": "stderr",
     "output_type": "stream",
     "text": [
      "                                                                                                                                           "
     ]
    },
    {
     "name": "stdout",
     "output_type": "stream",
     "text": [
      "Epoch [16]: Train Loss: 0.4489, Train Acc: 0.7912 | Val Loss: 0.5428, Val Acc: 0.7189, Val Recall: 0.9553, Val F1: 0.8062\n",
      "[INFO] No improvement in val_f1. Patience: 3/8\n",
      "[INFO] Learning rate adjusted to: 0.009122\n"
     ]
    },
    {
     "name": "stderr",
     "output_type": "stream",
     "text": [
      "                                                                                                                                           "
     ]
    },
    {
     "name": "stdout",
     "output_type": "stream",
     "text": [
      "Epoch [17]: Train Loss: 0.4359, Train Acc: 0.7896 | Val Loss: 0.4635, Val Acc: 0.7512, Val Recall: 0.7358, Val F1: 0.7835\n",
      "[INFO] No improvement in val_f1. Patience: 4/8\n",
      "[INFO] Learning rate adjusted to: 0.000912\n"
     ]
    },
    {
     "name": "stderr",
     "output_type": "stream",
     "text": [
      "                                                                                                                                           "
     ]
    },
    {
     "name": "stdout",
     "output_type": "stream",
     "text": [
      "Epoch [18]: Train Loss: 0.3905, Train Acc: 0.8182 | Val Loss: 0.4313, Val Acc: 0.7886, Val Recall: 0.8374, Val F1: 0.8290\n",
      "[INFO] Best model saved with val_f1: 0.8290\n",
      "[INFO] Learning rate adjusted to: 0.000912\n"
     ]
    },
    {
     "name": "stderr",
     "output_type": "stream",
     "text": [
      "                                                                                                                                           "
     ]
    },
    {
     "name": "stdout",
     "output_type": "stream",
     "text": [
      "Epoch [19]: Train Loss: 0.3641, Train Acc: 0.8410 | Val Loss: 0.4251, Val Acc: 0.7985, Val Recall: 0.8374, Val F1: 0.8357\n",
      "[INFO] Best model saved with val_f1: 0.8357\n",
      "[INFO] Learning rate adjusted to: 0.000912\n"
     ]
    },
    {
     "name": "stderr",
     "output_type": "stream",
     "text": [
      "                                                                                                                                           "
     ]
    },
    {
     "name": "stdout",
     "output_type": "stream",
     "text": [
      "Epoch [20]: Train Loss: 0.3629, Train Acc: 0.8347 | Val Loss: 0.4606, Val Acc: 0.7761, Val Recall: 0.8659, Val F1: 0.8256\n",
      "[INFO] No improvement in val_f1. Patience: 1/8\n",
      "[INFO] Learning rate adjusted to: 0.000912\n"
     ]
    },
    {
     "name": "stderr",
     "output_type": "stream",
     "text": [
      "                                                                                                                                           "
     ]
    },
    {
     "name": "stdout",
     "output_type": "stream",
     "text": [
      "Epoch [21]: Train Loss: 0.3632, Train Acc: 0.8426 | Val Loss: 0.4231, Val Acc: 0.8010, Val Recall: 0.8699, Val F1: 0.8425\n",
      "[INFO] Best model saved with val_f1: 0.8425\n",
      "[INFO] Learning rate adjusted to: 0.000912\n"
     ]
    },
    {
     "name": "stderr",
     "output_type": "stream",
     "text": [
      "                                                                                                                                           "
     ]
    },
    {
     "name": "stdout",
     "output_type": "stream",
     "text": [
      "Epoch [22]: Train Loss: 0.3593, Train Acc: 0.8437 | Val Loss: 0.3896, Val Acc: 0.8259, Val Recall: 0.8821, Val F1: 0.8611\n",
      "[INFO] Best model saved with val_f1: 0.8611\n",
      "[INFO] Learning rate adjusted to: 0.000912\n"
     ]
    },
    {
     "name": "stderr",
     "output_type": "stream",
     "text": [
      "                                                                                                                                           "
     ]
    },
    {
     "name": "stdout",
     "output_type": "stream",
     "text": [
      "Epoch [23]: Train Loss: 0.3609, Train Acc: 0.8368 | Val Loss: 0.4105, Val Acc: 0.8134, Val Recall: 0.8618, Val F1: 0.8497\n",
      "[INFO] No improvement in val_f1. Patience: 1/8\n",
      "[INFO] Learning rate adjusted to: 0.000912\n"
     ]
    },
    {
     "name": "stderr",
     "output_type": "stream",
     "text": [
      "                                                                                                                                           "
     ]
    },
    {
     "name": "stdout",
     "output_type": "stream",
     "text": [
      "Epoch [24]: Train Loss: 0.3532, Train Acc: 0.8490 | Val Loss: 0.4310, Val Acc: 0.7985, Val Recall: 0.8862, Val F1: 0.8433\n",
      "[INFO] No improvement in val_f1. Patience: 2/8\n",
      "[INFO] Learning rate adjusted to: 0.000912\n"
     ]
    },
    {
     "name": "stderr",
     "output_type": "stream",
     "text": [
      "                                                                                                                                           "
     ]
    },
    {
     "name": "stdout",
     "output_type": "stream",
     "text": [
      "Epoch [25]: Train Loss: 0.3477, Train Acc: 0.8468 | Val Loss: 0.3985, Val Acc: 0.8109, Val Recall: 0.8659, Val F1: 0.8486\n",
      "[INFO] No improvement in val_f1. Patience: 3/8\n",
      "[INFO] Learning rate adjusted to: 0.000912\n"
     ]
    },
    {
     "name": "stderr",
     "output_type": "stream",
     "text": [
      "                                                                                                                                           "
     ]
    },
    {
     "name": "stdout",
     "output_type": "stream",
     "text": [
      "Epoch [26]: Train Loss: 0.3453, Train Acc: 0.8500 | Val Loss: 0.3809, Val Acc: 0.8134, Val Recall: 0.8699, Val F1: 0.8509\n",
      "[INFO] No improvement in val_f1. Patience: 4/8\n",
      "[INFO] Learning rate adjusted to: 0.000091\n"
     ]
    },
    {
     "name": "stderr",
     "output_type": "stream",
     "text": [
      "                                                                                                                                           "
     ]
    },
    {
     "name": "stdout",
     "output_type": "stream",
     "text": [
      "Epoch [27]: Train Loss: 0.3180, Train Acc: 0.8707 | Val Loss: 0.4017, Val Acc: 0.8159, Val Recall: 0.8984, Val F1: 0.8566\n",
      "[INFO] No improvement in val_f1. Patience: 5/8\n",
      "[INFO] Learning rate adjusted to: 0.000091\n"
     ]
    },
    {
     "name": "stderr",
     "output_type": "stream",
     "text": [
      "                                                                                                                                           "
     ]
    },
    {
     "name": "stdout",
     "output_type": "stream",
     "text": [
      "Epoch [28]: Train Loss: 0.3227, Train Acc: 0.8649 | Val Loss: 0.3804, Val Acc: 0.8159, Val Recall: 0.8577, Val F1: 0.8508\n",
      "[INFO] No improvement in val_f1. Patience: 6/8\n",
      "[INFO] Learning rate adjusted to: 0.000091\n"
     ]
    },
    {
     "name": "stderr",
     "output_type": "stream",
     "text": [
      "                                                                                                                                           "
     ]
    },
    {
     "name": "stdout",
     "output_type": "stream",
     "text": [
      "Epoch [29]: Train Loss: 0.3232, Train Acc: 0.8569 | Val Loss: 0.3820, Val Acc: 0.8234, Val Recall: 0.8740, Val F1: 0.8583\n",
      "[INFO] No improvement in val_f1. Patience: 7/8\n",
      "[INFO] Learning rate adjusted to: 0.000091\n"
     ]
    },
    {
     "name": "stderr",
     "output_type": "stream",
     "text": [
      "[I 2024-12-18 20:39:23,452] Trial 3 finished with value: 0.8538011695906432 and parameters: {'lr': 0.009122460207428145, 'weight_decay': 1.4999639841764426e-05, 'optimizer': 'AdamW'}. Best is trial 2 with value: 0.9346534653465347.\n"
     ]
    },
    {
     "name": "stdout",
     "output_type": "stream",
     "text": [
      "Epoch [30]: Train Loss: 0.3187, Train Acc: 0.8627 | Val Loss: 0.4078, Val Acc: 0.8134, Val Recall: 0.8902, Val F1: 0.8538\n",
      "[INFO] No improvement in val_f1. Patience: 8/8\n",
      "[INFO] Learning rate adjusted to: 0.000009\n",
      "[INFO] Training stopped after 30 epochs.\n",
      "\n",
      "[INFO] Training completed!\n",
      "[INFO] Trial 3 - Final Validation Recall: 0.8538\n",
      "[DEBUG] Starting trial 4...\n",
      "[DEBUG] Suggested hyperparameters: lr=0.004343002710667734, weight_decay=0.0006122058589774014, optimizer=Adam\n",
      "[DEBUG] Initializing efficientnet_b0 model...\n",
      "[DEBUG] Setting up optimizer...\n",
      "[INFO] Starting model training...\n",
      "\n",
      "Starting training...\n",
      "\n"
     ]
    },
    {
     "name": "stderr",
     "output_type": "stream",
     "text": [
      "                                                                                                                                           "
     ]
    },
    {
     "name": "stdout",
     "output_type": "stream",
     "text": [
      "Epoch [1]: Train Loss: 0.6918, Train Acc: 0.6518 | Val Loss: 0.7340, Val Acc: 0.6045, Val Recall: 0.9756, Val F1: 0.7512\n",
      "[INFO] Best model saved with val_f1: 0.7512\n",
      "[INFO] Learning rate adjusted to: 0.004343\n"
     ]
    },
    {
     "name": "stderr",
     "output_type": "stream",
     "text": [
      "                                                                                                                                           "
     ]
    },
    {
     "name": "stdout",
     "output_type": "stream",
     "text": [
      "Epoch [2]: Train Loss: 0.7130, Train Acc: 0.6423 | Val Loss: 0.5819, Val Acc: 0.6841, Val Recall: 0.8008, Val F1: 0.7562\n",
      "[INFO] Best model saved with val_f1: 0.7562\n",
      "[INFO] Learning rate adjusted to: 0.004343\n"
     ]
    },
    {
     "name": "stderr",
     "output_type": "stream",
     "text": [
      "                                                                                                                                           "
     ]
    },
    {
     "name": "stdout",
     "output_type": "stream",
     "text": [
      "Epoch [3]: Train Loss: 0.5140, Train Acc: 0.7419 | Val Loss: 0.4981, Val Acc: 0.7612, Val Recall: 0.8252, Val F1: 0.8088\n",
      "[INFO] Best model saved with val_f1: 0.8088\n",
      "[INFO] Learning rate adjusted to: 0.004343\n"
     ]
    },
    {
     "name": "stderr",
     "output_type": "stream",
     "text": [
      "                                                                                                                                           "
     ]
    },
    {
     "name": "stdout",
     "output_type": "stream",
     "text": [
      "Epoch [4]: Train Loss: 0.4835, Train Acc: 0.7721 | Val Loss: 0.5478, Val Acc: 0.7463, Val Recall: 0.7805, Val F1: 0.7901\n",
      "[INFO] No improvement in val_f1. Patience: 1/8\n",
      "[INFO] Learning rate adjusted to: 0.004343\n"
     ]
    },
    {
     "name": "stderr",
     "output_type": "stream",
     "text": [
      "                                                                                                                                           "
     ]
    },
    {
     "name": "stdout",
     "output_type": "stream",
     "text": [
      "Epoch [5]: Train Loss: 0.4541, Train Acc: 0.7742 | Val Loss: 0.4695, Val Acc: 0.7687, Val Recall: 0.8740, Val F1: 0.8222\n",
      "[INFO] Best model saved with val_f1: 0.8222\n",
      "[INFO] Learning rate adjusted to: 0.004343\n"
     ]
    },
    {
     "name": "stderr",
     "output_type": "stream",
     "text": [
      "                                                                                                                                           "
     ]
    },
    {
     "name": "stdout",
     "output_type": "stream",
     "text": [
      "Epoch [6]: Train Loss: 0.4317, Train Acc: 0.8023 | Val Loss: 0.5140, Val Acc: 0.7438, Val Recall: 0.6707, Val F1: 0.7621\n",
      "[INFO] No improvement in val_f1. Patience: 1/8\n",
      "[INFO] Learning rate adjusted to: 0.004343\n"
     ]
    },
    {
     "name": "stderr",
     "output_type": "stream",
     "text": [
      "                                                                                                                                           "
     ]
    },
    {
     "name": "stdout",
     "output_type": "stream",
     "text": [
      "Epoch [7]: Train Loss: 0.4404, Train Acc: 0.8002 | Val Loss: 0.5202, Val Acc: 0.7786, Val Recall: 0.7927, Val F1: 0.8142\n",
      "[INFO] No improvement in val_f1. Patience: 2/8\n",
      "[INFO] Learning rate adjusted to: 0.004343\n"
     ]
    },
    {
     "name": "stderr",
     "output_type": "stream",
     "text": [
      "                                                                                                                                           "
     ]
    },
    {
     "name": "stdout",
     "output_type": "stream",
     "text": [
      "Epoch [8]: Train Loss: 0.3905, Train Acc: 0.8405 | Val Loss: 0.4925, Val Acc: 0.7960, Val Recall: 0.8415, Val F1: 0.8347\n",
      "[INFO] Best model saved with val_f1: 0.8347\n",
      "[INFO] Learning rate adjusted to: 0.004343\n"
     ]
    },
    {
     "name": "stderr",
     "output_type": "stream",
     "text": [
      "                                                                                                                                           "
     ]
    },
    {
     "name": "stdout",
     "output_type": "stream",
     "text": [
      "Epoch [9]: Train Loss: 0.3922, Train Acc: 0.8225 | Val Loss: 0.5152, Val Acc: 0.7438, Val Recall: 0.9146, Val F1: 0.8137\n",
      "[INFO] No improvement in val_f1. Patience: 1/8\n",
      "[INFO] Learning rate adjusted to: 0.004343\n"
     ]
    },
    {
     "name": "stderr",
     "output_type": "stream",
     "text": [
      "                                                                                                                                           "
     ]
    },
    {
     "name": "stdout",
     "output_type": "stream",
     "text": [
      "Epoch [10]: Train Loss: 0.3735, Train Acc: 0.8421 | Val Loss: 0.5054, Val Acc: 0.8060, Val Recall: 0.7846, Val F1: 0.8319\n",
      "[INFO] No improvement in val_f1. Patience: 2/8\n",
      "[INFO] Learning rate adjusted to: 0.004343\n"
     ]
    },
    {
     "name": "stderr",
     "output_type": "stream",
     "text": [
      "                                                                                                                                           "
     ]
    },
    {
     "name": "stdout",
     "output_type": "stream",
     "text": [
      "Epoch [11]: Train Loss: 0.3840, Train Acc: 0.8198 | Val Loss: 0.4795, Val Acc: 0.7836, Val Recall: 0.7724, Val F1: 0.8137\n",
      "[INFO] No improvement in val_f1. Patience: 3/8\n",
      "[INFO] Learning rate adjusted to: 0.004343\n"
     ]
    },
    {
     "name": "stderr",
     "output_type": "stream",
     "text": [
      "                                                                                                                                           "
     ]
    },
    {
     "name": "stdout",
     "output_type": "stream",
     "text": [
      "Epoch [12]: Train Loss: 0.3633, Train Acc: 0.8405 | Val Loss: 0.4606, Val Acc: 0.7886, Val Recall: 0.8293, Val F1: 0.8276\n",
      "[INFO] No improvement in val_f1. Patience: 4/8\n",
      "[INFO] Learning rate adjusted to: 0.000434\n"
     ]
    },
    {
     "name": "stderr",
     "output_type": "stream",
     "text": [
      "                                                                                                                                           "
     ]
    },
    {
     "name": "stdout",
     "output_type": "stream",
     "text": [
      "Epoch [13]: Train Loss: 0.3224, Train Acc: 0.8622 | Val Loss: 0.3559, Val Acc: 0.8333, Val Recall: 0.8496, Val F1: 0.8619\n",
      "[INFO] Best model saved with val_f1: 0.8619\n",
      "[INFO] Learning rate adjusted to: 0.000434\n"
     ]
    },
    {
     "name": "stderr",
     "output_type": "stream",
     "text": [
      "                                                                                                                                           "
     ]
    },
    {
     "name": "stdout",
     "output_type": "stream",
     "text": [
      "Epoch [14]: Train Loss: 0.2796, Train Acc: 0.8882 | Val Loss: 0.3285, Val Acc: 0.8582, Val Recall: 0.9024, Val F1: 0.8862\n",
      "[INFO] Best model saved with val_f1: 0.8862\n",
      "[INFO] Learning rate adjusted to: 0.000434\n"
     ]
    },
    {
     "name": "stderr",
     "output_type": "stream",
     "text": [
      "                                                                                                                                           "
     ]
    },
    {
     "name": "stdout",
     "output_type": "stream",
     "text": [
      "Epoch [15]: Train Loss: 0.2773, Train Acc: 0.8839 | Val Loss: 0.3610, Val Acc: 0.8507, Val Recall: 0.8537, Val F1: 0.8750\n",
      "[INFO] No improvement in val_f1. Patience: 1/8\n",
      "[INFO] Learning rate adjusted to: 0.000434\n"
     ]
    },
    {
     "name": "stderr",
     "output_type": "stream",
     "text": [
      "                                                                                                                                           "
     ]
    },
    {
     "name": "stdout",
     "output_type": "stream",
     "text": [
      "Epoch [16]: Train Loss: 0.2704, Train Acc: 0.8898 | Val Loss: 0.3745, Val Acc: 0.8383, Val Recall: 0.9431, Val F1: 0.8771\n",
      "[INFO] No improvement in val_f1. Patience: 2/8\n",
      "[INFO] Learning rate adjusted to: 0.000434\n"
     ]
    },
    {
     "name": "stderr",
     "output_type": "stream",
     "text": [
      "                                                                                                                                           "
     ]
    },
    {
     "name": "stdout",
     "output_type": "stream",
     "text": [
      "Epoch [17]: Train Loss: 0.2698, Train Acc: 0.8855 | Val Loss: 0.3228, Val Acc: 0.8607, Val Recall: 0.8984, Val F1: 0.8876\n",
      "[INFO] Best model saved with val_f1: 0.8876\n",
      "[INFO] Learning rate adjusted to: 0.000434\n"
     ]
    },
    {
     "name": "stderr",
     "output_type": "stream",
     "text": [
      "                                                                                                                                           "
     ]
    },
    {
     "name": "stdout",
     "output_type": "stream",
     "text": [
      "Epoch [18]: Train Loss: 0.2558, Train Acc: 0.8967 | Val Loss: 0.3355, Val Acc: 0.8632, Val Recall: 0.8740, Val F1: 0.8866\n",
      "[INFO] No improvement in val_f1. Patience: 1/8\n",
      "[INFO] Learning rate adjusted to: 0.000434\n"
     ]
    },
    {
     "name": "stderr",
     "output_type": "stream",
     "text": [
      "                                                                                                                                           "
     ]
    },
    {
     "name": "stdout",
     "output_type": "stream",
     "text": [
      "Epoch [19]: Train Loss: 0.2606, Train Acc: 0.8930 | Val Loss: 0.3632, Val Acc: 0.8458, Val Recall: 0.8821, Val F1: 0.8750\n",
      "[INFO] No improvement in val_f1. Patience: 2/8\n",
      "[INFO] Learning rate adjusted to: 0.000434\n"
     ]
    },
    {
     "name": "stderr",
     "output_type": "stream",
     "text": [
      "                                                                                                                                           "
     ]
    },
    {
     "name": "stdout",
     "output_type": "stream",
     "text": [
      "Epoch [20]: Train Loss: 0.2611, Train Acc: 0.8961 | Val Loss: 0.3351, Val Acc: 0.8657, Val Recall: 0.8984, Val F1: 0.8911\n",
      "[INFO] Best model saved with val_f1: 0.8911\n",
      "[INFO] Learning rate adjusted to: 0.000434\n"
     ]
    },
    {
     "name": "stderr",
     "output_type": "stream",
     "text": [
      "                                                                                                                                           "
     ]
    },
    {
     "name": "stdout",
     "output_type": "stream",
     "text": [
      "Epoch [21]: Train Loss: 0.2558, Train Acc: 0.8940 | Val Loss: 0.3342, Val Acc: 0.8458, Val Recall: 0.8862, Val F1: 0.8755\n",
      "[INFO] No improvement in val_f1. Patience: 1/8\n",
      "[INFO] Learning rate adjusted to: 0.000434\n"
     ]
    },
    {
     "name": "stderr",
     "output_type": "stream",
     "text": [
      "                                                                                                                                           "
     ]
    },
    {
     "name": "stdout",
     "output_type": "stream",
     "text": [
      "Epoch [22]: Train Loss: 0.2488, Train Acc: 0.8988 | Val Loss: 0.3434, Val Acc: 0.8607, Val Recall: 0.8943, Val F1: 0.8871\n",
      "[INFO] No improvement in val_f1. Patience: 2/8\n",
      "[INFO] Learning rate adjusted to: 0.000434\n"
     ]
    },
    {
     "name": "stderr",
     "output_type": "stream",
     "text": [
      "                                                                                                                                           "
     ]
    },
    {
     "name": "stdout",
     "output_type": "stream",
     "text": [
      "Epoch [23]: Train Loss: 0.2606, Train Acc: 0.8930 | Val Loss: 0.3294, Val Acc: 0.8532, Val Recall: 0.8902, Val F1: 0.8813\n",
      "[INFO] No improvement in val_f1. Patience: 3/8\n",
      "[INFO] Learning rate adjusted to: 0.000434\n"
     ]
    },
    {
     "name": "stderr",
     "output_type": "stream",
     "text": [
      "                                                                                                                                           "
     ]
    },
    {
     "name": "stdout",
     "output_type": "stream",
     "text": [
      "Epoch [24]: Train Loss: 0.2641, Train Acc: 0.8877 | Val Loss: 0.3816, Val Acc: 0.8756, Val Recall: 0.9268, Val F1: 0.9012\n",
      "[INFO] Best model saved with val_f1: 0.9012\n",
      "[INFO] Learning rate adjusted to: 0.000434\n"
     ]
    },
    {
     "name": "stderr",
     "output_type": "stream",
     "text": [
      "                                                                                                                                           "
     ]
    },
    {
     "name": "stdout",
     "output_type": "stream",
     "text": [
      "Epoch [25]: Train Loss: 0.2518, Train Acc: 0.8951 | Val Loss: 0.3397, Val Acc: 0.8507, Val Recall: 0.8740, Val F1: 0.8776\n",
      "[INFO] No improvement in val_f1. Patience: 1/8\n",
      "[INFO] Learning rate adjusted to: 0.000434\n"
     ]
    },
    {
     "name": "stderr",
     "output_type": "stream",
     "text": [
      "                                                                                                                                           "
     ]
    },
    {
     "name": "stdout",
     "output_type": "stream",
     "text": [
      "Epoch [26]: Train Loss: 0.2575, Train Acc: 0.8914 | Val Loss: 0.3797, Val Acc: 0.8234, Val Recall: 0.9187, Val F1: 0.8642\n",
      "[INFO] No improvement in val_f1. Patience: 2/8\n",
      "[INFO] Learning rate adjusted to: 0.000434\n"
     ]
    },
    {
     "name": "stderr",
     "output_type": "stream",
     "text": [
      "                                                                                                                                           "
     ]
    },
    {
     "name": "stdout",
     "output_type": "stream",
     "text": [
      "Epoch [27]: Train Loss: 0.2390, Train Acc: 0.9009 | Val Loss: 0.3489, Val Acc: 0.8433, Val Recall: 0.8902, Val F1: 0.8743\n",
      "[INFO] No improvement in val_f1. Patience: 3/8\n",
      "[INFO] Learning rate adjusted to: 0.000434\n"
     ]
    },
    {
     "name": "stderr",
     "output_type": "stream",
     "text": [
      "                                                                                                                                           "
     ]
    },
    {
     "name": "stdout",
     "output_type": "stream",
     "text": [
      "Epoch [28]: Train Loss: 0.2468, Train Acc: 0.9030 | Val Loss: 0.3795, Val Acc: 0.8582, Val Recall: 0.8984, Val F1: 0.8858\n",
      "[INFO] No improvement in val_f1. Patience: 4/8\n",
      "[INFO] Learning rate adjusted to: 0.000043\n"
     ]
    },
    {
     "name": "stderr",
     "output_type": "stream",
     "text": [
      "                                                                                                                                           "
     ]
    },
    {
     "name": "stdout",
     "output_type": "stream",
     "text": [
      "Epoch [29]: Train Loss: 0.2287, Train Acc: 0.9073 | Val Loss: 0.3086, Val Acc: 0.8682, Val Recall: 0.9228, Val F1: 0.8955\n",
      "[INFO] No improvement in val_f1. Patience: 5/8\n",
      "[INFO] Learning rate adjusted to: 0.000043\n"
     ]
    },
    {
     "name": "stderr",
     "output_type": "stream",
     "text": [
      "                                                                                                                                           "
     ]
    },
    {
     "name": "stdout",
     "output_type": "stream",
     "text": [
      "Epoch [30]: Train Loss: 0.2035, Train Acc: 0.9216 | Val Loss: 0.3208, Val Acc: 0.8806, Val Recall: 0.9268, Val F1: 0.9048\n",
      "[INFO] Best model saved with val_f1: 0.9048\n",
      "[INFO] Learning rate adjusted to: 0.000043\n"
     ]
    },
    {
     "name": "stderr",
     "output_type": "stream",
     "text": [
      "                                                                                                                                           "
     ]
    },
    {
     "name": "stdout",
     "output_type": "stream",
     "text": [
      "Epoch [31]: Train Loss: 0.2350, Train Acc: 0.9009 | Val Loss: 0.3318, Val Acc: 0.8756, Val Recall: 0.9106, Val F1: 0.8996\n",
      "[INFO] No improvement in val_f1. Patience: 1/8\n",
      "[INFO] Learning rate adjusted to: 0.000043\n"
     ]
    },
    {
     "name": "stderr",
     "output_type": "stream",
     "text": [
      "                                                                                                                                           "
     ]
    },
    {
     "name": "stdout",
     "output_type": "stream",
     "text": [
      "Epoch [32]: Train Loss: 0.2013, Train Acc: 0.9179 | Val Loss: 0.3125, Val Acc: 0.8657, Val Recall: 0.8902, Val F1: 0.8902\n",
      "[INFO] No improvement in val_f1. Patience: 2/8\n",
      "[INFO] Learning rate adjusted to: 0.000043\n"
     ]
    },
    {
     "name": "stderr",
     "output_type": "stream",
     "text": [
      "                                                                                                                                           "
     ]
    },
    {
     "name": "stdout",
     "output_type": "stream",
     "text": [
      "Epoch [33]: Train Loss: 0.2193, Train Acc: 0.9131 | Val Loss: 0.3370, Val Acc: 0.8607, Val Recall: 0.9187, Val F1: 0.8898\n",
      "[INFO] No improvement in val_f1. Patience: 3/8\n",
      "[INFO] Learning rate adjusted to: 0.000043\n"
     ]
    },
    {
     "name": "stderr",
     "output_type": "stream",
     "text": [
      "                                                                                                                                           "
     ]
    },
    {
     "name": "stdout",
     "output_type": "stream",
     "text": [
      "Epoch [34]: Train Loss: 0.2078, Train Acc: 0.9157 | Val Loss: 0.3337, Val Acc: 0.8831, Val Recall: 0.9065, Val F1: 0.9047\n",
      "[INFO] No improvement in val_f1. Patience: 4/8\n",
      "[INFO] Learning rate adjusted to: 0.000004\n"
     ]
    },
    {
     "name": "stderr",
     "output_type": "stream",
     "text": [
      "                                                                                                                                           "
     ]
    },
    {
     "name": "stdout",
     "output_type": "stream",
     "text": [
      "Epoch [35]: Train Loss: 0.1992, Train Acc: 0.9205 | Val Loss: 0.3377, Val Acc: 0.8682, Val Recall: 0.9106, Val F1: 0.8942\n",
      "[INFO] No improvement in val_f1. Patience: 5/8\n",
      "[INFO] Learning rate adjusted to: 0.000004\n"
     ]
    },
    {
     "name": "stderr",
     "output_type": "stream",
     "text": [
      "                                                                                                                                           "
     ]
    },
    {
     "name": "stdout",
     "output_type": "stream",
     "text": [
      "Epoch [36]: Train Loss: 0.2153, Train Acc: 0.9152 | Val Loss: 0.3302, Val Acc: 0.8682, Val Recall: 0.9024, Val F1: 0.8934\n",
      "[INFO] No improvement in val_f1. Patience: 6/8\n",
      "[INFO] Learning rate adjusted to: 0.000004\n"
     ]
    },
    {
     "name": "stderr",
     "output_type": "stream",
     "text": [
      "                                                                                                                                           "
     ]
    },
    {
     "name": "stdout",
     "output_type": "stream",
     "text": [
      "Epoch [37]: Train Loss: 0.1944, Train Acc: 0.9173 | Val Loss: 0.3333, Val Acc: 0.8856, Val Recall: 0.8862, Val F1: 0.9046\n",
      "[INFO] No improvement in val_f1. Patience: 7/8\n",
      "[INFO] Learning rate adjusted to: 0.000004\n"
     ]
    },
    {
     "name": "stderr",
     "output_type": "stream",
     "text": [
      "[I 2024-12-18 20:45:17,790] Trial 4 finished with value: 0.8929292929292929 and parameters: {'lr': 0.004343002710667734, 'weight_decay': 0.0006122058589774014, 'optimizer': 'Adam'}. Best is trial 2 with value: 0.9346534653465347.\n"
     ]
    },
    {
     "name": "stdout",
     "output_type": "stream",
     "text": [
      "Epoch [38]: Train Loss: 0.2132, Train Acc: 0.9136 | Val Loss: 0.3308, Val Acc: 0.8682, Val Recall: 0.8984, Val F1: 0.8929\n",
      "[INFO] No improvement in val_f1. Patience: 8/8\n",
      "[INFO] Learning rate adjusted to: 0.000000\n",
      "[INFO] Training stopped after 38 epochs.\n",
      "\n",
      "[INFO] Training completed!\n",
      "[INFO] Trial 4 - Final Validation Recall: 0.8929\n",
      "[DEBUG] Starting trial 5...\n",
      "[DEBUG] Suggested hyperparameters: lr=0.005738115642336315, weight_decay=0.0005993814131466383, optimizer=SGD\n",
      "[DEBUG] Initializing efficientnet_b0 model...\n",
      "[DEBUG] Setting up optimizer...\n",
      "[INFO] Starting model training...\n",
      "\n",
      "Starting training...\n",
      "\n"
     ]
    },
    {
     "name": "stderr",
     "output_type": "stream",
     "text": [
      "                                                                                                                                           "
     ]
    },
    {
     "name": "stdout",
     "output_type": "stream",
     "text": [
      "Epoch [1]: Train Loss: 0.5007, Train Acc: 0.7509 | Val Loss: 0.3902, Val Acc: 0.8333, Val Recall: 0.8618, Val F1: 0.8635\n",
      "[INFO] Best model saved with val_f1: 0.8635\n",
      "[INFO] Learning rate adjusted to: 0.005738\n"
     ]
    },
    {
     "name": "stderr",
     "output_type": "stream",
     "text": [
      "                                                                                                                                           "
     ]
    },
    {
     "name": "stdout",
     "output_type": "stream",
     "text": [
      "Epoch [2]: Train Loss: 0.3366, Train Acc: 0.8622 | Val Loss: 0.3169, Val Acc: 0.8682, Val Recall: 0.9106, Val F1: 0.8942\n",
      "[INFO] Best model saved with val_f1: 0.8942\n",
      "[INFO] Learning rate adjusted to: 0.005738\n"
     ]
    },
    {
     "name": "stderr",
     "output_type": "stream",
     "text": [
      "                                                                                                                                           "
     ]
    },
    {
     "name": "stdout",
     "output_type": "stream",
     "text": [
      "Epoch [3]: Train Loss: 0.2567, Train Acc: 0.9004 | Val Loss: 0.3194, Val Acc: 0.8731, Val Recall: 0.9512, Val F1: 0.9017\n",
      "[INFO] Best model saved with val_f1: 0.9017\n",
      "[INFO] Learning rate adjusted to: 0.005738\n"
     ]
    },
    {
     "name": "stderr",
     "output_type": "stream",
     "text": [
      "                                                                                                                                           "
     ]
    },
    {
     "name": "stdout",
     "output_type": "stream",
     "text": [
      "Epoch [4]: Train Loss: 0.2293, Train Acc: 0.9025 | Val Loss: 0.2833, Val Acc: 0.8881, Val Recall: 0.9350, Val F1: 0.9109\n",
      "[INFO] Best model saved with val_f1: 0.9109\n",
      "[INFO] Learning rate adjusted to: 0.005738\n"
     ]
    },
    {
     "name": "stderr",
     "output_type": "stream",
     "text": [
      "                                                                                                                                           "
     ]
    },
    {
     "name": "stdout",
     "output_type": "stream",
     "text": [
      "Epoch [5]: Train Loss: 0.2068, Train Acc: 0.9205 | Val Loss: 0.2927, Val Acc: 0.8856, Val Recall: 0.9268, Val F1: 0.9084\n",
      "[INFO] No improvement in val_f1. Patience: 1/8\n",
      "[INFO] Learning rate adjusted to: 0.005738\n"
     ]
    },
    {
     "name": "stderr",
     "output_type": "stream",
     "text": [
      "                                                                                                                                           "
     ]
    },
    {
     "name": "stdout",
     "output_type": "stream",
     "text": [
      "Epoch [6]: Train Loss: 0.1678, Train Acc: 0.9353 | Val Loss: 0.3462, Val Acc: 0.8806, Val Recall: 0.9187, Val F1: 0.9040\n",
      "[INFO] No improvement in val_f1. Patience: 2/8\n",
      "[INFO] Learning rate adjusted to: 0.005738\n"
     ]
    },
    {
     "name": "stderr",
     "output_type": "stream",
     "text": [
      "                                                                                                                                           "
     ]
    },
    {
     "name": "stdout",
     "output_type": "stream",
     "text": [
      "Epoch [7]: Train Loss: 0.1470, Train Acc: 0.9422 | Val Loss: 0.2691, Val Acc: 0.9005, Val Recall: 0.9309, Val F1: 0.9197\n",
      "[INFO] Best model saved with val_f1: 0.9197\n",
      "[INFO] Learning rate adjusted to: 0.005738\n"
     ]
    },
    {
     "name": "stderr",
     "output_type": "stream",
     "text": [
      "                                                                                                                                           "
     ]
    },
    {
     "name": "stdout",
     "output_type": "stream",
     "text": [
      "Epoch [8]: Train Loss: 0.1401, Train Acc: 0.9497 | Val Loss: 0.2767, Val Acc: 0.9005, Val Recall: 0.9390, Val F1: 0.9203\n",
      "[INFO] Best model saved with val_f1: 0.9203\n",
      "[INFO] Learning rate adjusted to: 0.005738\n"
     ]
    },
    {
     "name": "stderr",
     "output_type": "stream",
     "text": [
      "                                                                                                                                           "
     ]
    },
    {
     "name": "stdout",
     "output_type": "stream",
     "text": [
      "Epoch [9]: Train Loss: 0.1318, Train Acc: 0.9449 | Val Loss: 0.2797, Val Acc: 0.8980, Val Recall: 0.9228, Val F1: 0.9172\n",
      "[INFO] No improvement in val_f1. Patience: 1/8\n",
      "[INFO] Learning rate adjusted to: 0.005738\n"
     ]
    },
    {
     "name": "stderr",
     "output_type": "stream",
     "text": [
      "                                                                                                                                           "
     ]
    },
    {
     "name": "stdout",
     "output_type": "stream",
     "text": [
      "Epoch [10]: Train Loss: 0.1058, Train Acc: 0.9576 | Val Loss: 0.3462, Val Acc: 0.8881, Val Recall: 0.9431, Val F1: 0.9116\n",
      "[INFO] No improvement in val_f1. Patience: 2/8\n",
      "[INFO] Learning rate adjusted to: 0.005738\n"
     ]
    },
    {
     "name": "stderr",
     "output_type": "stream",
     "text": [
      "                                                                                                                                           "
     ]
    },
    {
     "name": "stdout",
     "output_type": "stream",
     "text": [
      "Epoch [11]: Train Loss: 0.0980, Train Acc: 0.9618 | Val Loss: 0.2761, Val Acc: 0.9104, Val Recall: 0.9350, Val F1: 0.9274\n",
      "[INFO] Best model saved with val_f1: 0.9274\n",
      "[INFO] Learning rate adjusted to: 0.005738\n"
     ]
    },
    {
     "name": "stderr",
     "output_type": "stream",
     "text": [
      "                                                                                                                                           "
     ]
    },
    {
     "name": "stdout",
     "output_type": "stream",
     "text": [
      "Epoch [12]: Train Loss: 0.1091, Train Acc: 0.9608 | Val Loss: 0.3096, Val Acc: 0.9080, Val Recall: 0.9431, Val F1: 0.9261\n",
      "[INFO] No improvement in val_f1. Patience: 1/8\n",
      "[INFO] Learning rate adjusted to: 0.005738\n"
     ]
    },
    {
     "name": "stderr",
     "output_type": "stream",
     "text": [
      "                                                                                                                                           "
     ]
    },
    {
     "name": "stdout",
     "output_type": "stream",
     "text": [
      "Epoch [13]: Train Loss: 0.0899, Train Acc: 0.9640 | Val Loss: 0.3021, Val Acc: 0.9030, Val Recall: 0.9472, Val F1: 0.9228\n",
      "[INFO] No improvement in val_f1. Patience: 2/8\n",
      "[INFO] Learning rate adjusted to: 0.005738\n"
     ]
    },
    {
     "name": "stderr",
     "output_type": "stream",
     "text": [
      "                                                                                                                                           "
     ]
    },
    {
     "name": "stdout",
     "output_type": "stream",
     "text": [
      "Epoch [14]: Train Loss: 0.0803, Train Acc: 0.9698 | Val Loss: 0.2809, Val Acc: 0.9204, Val Recall: 0.9472, Val F1: 0.9357\n",
      "[INFO] Best model saved with val_f1: 0.9357\n",
      "[INFO] Learning rate adjusted to: 0.005738\n"
     ]
    },
    {
     "name": "stderr",
     "output_type": "stream",
     "text": [
      "                                                                                                                                           "
     ]
    },
    {
     "name": "stdout",
     "output_type": "stream",
     "text": [
      "Epoch [15]: Train Loss: 0.0800, Train Acc: 0.9698 | Val Loss: 0.3064, Val Acc: 0.9129, Val Recall: 0.9553, Val F1: 0.9307\n",
      "[INFO] No improvement in val_f1. Patience: 1/8\n",
      "[INFO] Learning rate adjusted to: 0.005738\n"
     ]
    },
    {
     "name": "stderr",
     "output_type": "stream",
     "text": [
      "                                                                                                                                           "
     ]
    },
    {
     "name": "stdout",
     "output_type": "stream",
     "text": [
      "Epoch [16]: Train Loss: 0.0786, Train Acc: 0.9682 | Val Loss: 0.3494, Val Acc: 0.9030, Val Recall: 0.9268, Val F1: 0.9212\n",
      "[INFO] No improvement in val_f1. Patience: 2/8\n",
      "[INFO] Learning rate adjusted to: 0.005738\n"
     ]
    },
    {
     "name": "stderr",
     "output_type": "stream",
     "text": [
      "                                                                                                                                           "
     ]
    },
    {
     "name": "stdout",
     "output_type": "stream",
     "text": [
      "Epoch [17]: Train Loss: 0.0638, Train Acc: 0.9772 | Val Loss: 0.3246, Val Acc: 0.9080, Val Recall: 0.9268, Val F1: 0.9249\n",
      "[INFO] No improvement in val_f1. Patience: 3/8\n",
      "[INFO] Learning rate adjusted to: 0.005738\n"
     ]
    },
    {
     "name": "stderr",
     "output_type": "stream",
     "text": [
      "                                                                                                                                           "
     ]
    },
    {
     "name": "stdout",
     "output_type": "stream",
     "text": [
      "Epoch [18]: Train Loss: 0.0840, Train Acc: 0.9682 | Val Loss: 0.3704, Val Acc: 0.8955, Val Recall: 0.9024, Val F1: 0.9136\n",
      "[INFO] No improvement in val_f1. Patience: 4/8\n",
      "[INFO] Learning rate adjusted to: 0.000574\n"
     ]
    },
    {
     "name": "stderr",
     "output_type": "stream",
     "text": [
      "                                                                                                                                           "
     ]
    },
    {
     "name": "stdout",
     "output_type": "stream",
     "text": [
      "Epoch [19]: Train Loss: 0.0526, Train Acc: 0.9825 | Val Loss: 0.3336, Val Acc: 0.9104, Val Recall: 0.9553, Val F1: 0.9289\n",
      "[INFO] No improvement in val_f1. Patience: 5/8\n",
      "[INFO] Learning rate adjusted to: 0.000574\n"
     ]
    },
    {
     "name": "stderr",
     "output_type": "stream",
     "text": [
      "                                                                                                                                           "
     ]
    },
    {
     "name": "stdout",
     "output_type": "stream",
     "text": [
      "Epoch [20]: Train Loss: 0.0565, Train Acc: 0.9772 | Val Loss: 0.3189, Val Acc: 0.9129, Val Recall: 0.9431, Val F1: 0.9299\n",
      "[INFO] No improvement in val_f1. Patience: 6/8\n",
      "[INFO] Learning rate adjusted to: 0.000574\n"
     ]
    },
    {
     "name": "stderr",
     "output_type": "stream",
     "text": [
      "                                                                                                                                           "
     ]
    },
    {
     "name": "stdout",
     "output_type": "stream",
     "text": [
      "Epoch [21]: Train Loss: 0.0423, Train Acc: 0.9841 | Val Loss: 0.3038, Val Acc: 0.9204, Val Recall: 0.9472, Val F1: 0.9357\n",
      "[INFO] No improvement in val_f1. Patience: 7/8\n",
      "[INFO] Learning rate adjusted to: 0.000574\n"
     ]
    },
    {
     "name": "stderr",
     "output_type": "stream",
     "text": [
      "[I 2024-12-18 20:48:42,937] Trial 5 finished with value: 0.9246031746031746 and parameters: {'lr': 0.005738115642336315, 'weight_decay': 0.0005993814131466383, 'optimizer': 'SGD'}. Best is trial 2 with value: 0.9346534653465347.\n"
     ]
    },
    {
     "name": "stdout",
     "output_type": "stream",
     "text": [
      "Epoch [22]: Train Loss: 0.0508, Train Acc: 0.9788 | Val Loss: 0.3590, Val Acc: 0.9055, Val Recall: 0.9472, Val F1: 0.9246\n",
      "[INFO] No improvement in val_f1. Patience: 8/8\n",
      "[INFO] Learning rate adjusted to: 0.000057\n",
      "[INFO] Training stopped after 22 epochs.\n",
      "\n",
      "[INFO] Training completed!\n",
      "[INFO] Trial 5 - Final Validation Recall: 0.9246\n",
      "[DEBUG] Starting trial 6...\n",
      "[DEBUG] Suggested hyperparameters: lr=0.0014780020118960434, weight_decay=1.6170794483905154e-05, optimizer=SGD\n",
      "[DEBUG] Initializing efficientnet_b0 model...\n",
      "[DEBUG] Setting up optimizer...\n",
      "[INFO] Starting model training...\n",
      "\n",
      "Starting training...\n",
      "\n"
     ]
    },
    {
     "name": "stderr",
     "output_type": "stream",
     "text": [
      "                                                                                                                                           "
     ]
    },
    {
     "name": "stdout",
     "output_type": "stream",
     "text": [
      "Epoch [1]: Train Loss: 0.6028, Train Acc: 0.6820 | Val Loss: 0.5001, Val Acc: 0.8010, Val Recall: 0.8618, Val F1: 0.8413\n",
      "[INFO] Best model saved with val_f1: 0.8413\n",
      "[INFO] Learning rate adjusted to: 0.001478\n"
     ]
    },
    {
     "name": "stderr",
     "output_type": "stream",
     "text": [
      "                                                                                                                                           "
     ]
    },
    {
     "name": "stdout",
     "output_type": "stream",
     "text": [
      "Epoch [2]: Train Loss: 0.4479, Train Acc: 0.8103 | Val Loss: 0.4153, Val Acc: 0.8259, Val Recall: 0.8415, Val F1: 0.8554\n",
      "[INFO] Best model saved with val_f1: 0.8554\n",
      "[INFO] Learning rate adjusted to: 0.001478\n"
     ]
    },
    {
     "name": "stderr",
     "output_type": "stream",
     "text": [
      "                                                                                                                                           "
     ]
    },
    {
     "name": "stdout",
     "output_type": "stream",
     "text": [
      "Epoch [3]: Train Loss: 0.3724, Train Acc: 0.8405 | Val Loss: 0.3632, Val Acc: 0.8507, Val Recall: 0.8862, Val F1: 0.8790\n",
      "[INFO] Best model saved with val_f1: 0.8790\n",
      "[INFO] Learning rate adjusted to: 0.001478\n"
     ]
    },
    {
     "name": "stderr",
     "output_type": "stream",
     "text": [
      "                                                                                                                                           "
     ]
    },
    {
     "name": "stdout",
     "output_type": "stream",
     "text": [
      "Epoch [4]: Train Loss: 0.3355, Train Acc: 0.8548 | Val Loss: 0.3299, Val Acc: 0.8532, Val Recall: 0.9065, Val F1: 0.8832\n",
      "[INFO] Best model saved with val_f1: 0.8832\n",
      "[INFO] Learning rate adjusted to: 0.001478\n"
     ]
    },
    {
     "name": "stderr",
     "output_type": "stream",
     "text": [
      "                                                                                                                                           "
     ]
    },
    {
     "name": "stdout",
     "output_type": "stream",
     "text": [
      "Epoch [5]: Train Loss: 0.2971, Train Acc: 0.8733 | Val Loss: 0.3121, Val Acc: 0.8731, Val Recall: 0.9146, Val F1: 0.8982\n",
      "[INFO] Best model saved with val_f1: 0.8982\n",
      "[INFO] Learning rate adjusted to: 0.001478\n"
     ]
    },
    {
     "name": "stderr",
     "output_type": "stream",
     "text": [
      "                                                                                                                                           "
     ]
    },
    {
     "name": "stdout",
     "output_type": "stream",
     "text": [
      "Epoch [6]: Train Loss: 0.2827, Train Acc: 0.8792 | Val Loss: 0.3225, Val Acc: 0.8731, Val Recall: 0.9309, Val F1: 0.8998\n",
      "[INFO] Best model saved with val_f1: 0.8998\n",
      "[INFO] Learning rate adjusted to: 0.001478\n"
     ]
    },
    {
     "name": "stderr",
     "output_type": "stream",
     "text": [
      "                                                                                                                                           "
     ]
    },
    {
     "name": "stdout",
     "output_type": "stream",
     "text": [
      "Epoch [7]: Train Loss: 0.2530, Train Acc: 0.8940 | Val Loss: 0.3151, Val Acc: 0.8731, Val Recall: 0.9106, Val F1: 0.8978\n",
      "[INFO] No improvement in val_f1. Patience: 1/8\n",
      "[INFO] Learning rate adjusted to: 0.001478\n"
     ]
    },
    {
     "name": "stderr",
     "output_type": "stream",
     "text": [
      "                                                                                                                                           "
     ]
    },
    {
     "name": "stdout",
     "output_type": "stream",
     "text": [
      "Epoch [8]: Train Loss: 0.2247, Train Acc: 0.9062 | Val Loss: 0.3133, Val Acc: 0.8706, Val Recall: 0.9106, Val F1: 0.8960\n",
      "[INFO] No improvement in val_f1. Patience: 2/8\n",
      "[INFO] Learning rate adjusted to: 0.001478\n"
     ]
    },
    {
     "name": "stderr",
     "output_type": "stream",
     "text": [
      "                                                                                                                                           "
     ]
    },
    {
     "name": "stdout",
     "output_type": "stream",
     "text": [
      "Epoch [9]: Train Loss: 0.2103, Train Acc: 0.9163 | Val Loss: 0.3205, Val Acc: 0.8657, Val Recall: 0.9024, Val F1: 0.8916\n",
      "[INFO] No improvement in val_f1. Patience: 3/8\n",
      "[INFO] Learning rate adjusted to: 0.001478\n"
     ]
    },
    {
     "name": "stderr",
     "output_type": "stream",
     "text": [
      "                                                                                                                                           "
     ]
    },
    {
     "name": "stdout",
     "output_type": "stream",
     "text": [
      "Epoch [10]: Train Loss: 0.2101, Train Acc: 0.9179 | Val Loss: 0.2818, Val Acc: 0.8831, Val Recall: 0.9228, Val F1: 0.9062\n",
      "[INFO] Best model saved with val_f1: 0.9062\n",
      "[INFO] Learning rate adjusted to: 0.001478\n"
     ]
    },
    {
     "name": "stderr",
     "output_type": "stream",
     "text": [
      "                                                                                                                                           "
     ]
    },
    {
     "name": "stdout",
     "output_type": "stream",
     "text": [
      "Epoch [11]: Train Loss: 0.1896, Train Acc: 0.9237 | Val Loss: 0.3021, Val Acc: 0.8806, Val Recall: 0.9228, Val F1: 0.9044\n",
      "[INFO] No improvement in val_f1. Patience: 1/8\n",
      "[INFO] Learning rate adjusted to: 0.001478\n"
     ]
    },
    {
     "name": "stderr",
     "output_type": "stream",
     "text": [
      "                                                                                                                                           "
     ]
    },
    {
     "name": "stdout",
     "output_type": "stream",
     "text": [
      "Epoch [12]: Train Loss: 0.1800, Train Acc: 0.9226 | Val Loss: 0.2905, Val Acc: 0.8657, Val Recall: 0.9472, Val F1: 0.8962\n",
      "[INFO] No improvement in val_f1. Patience: 2/8\n",
      "[INFO] Learning rate adjusted to: 0.001478\n"
     ]
    },
    {
     "name": "stderr",
     "output_type": "stream",
     "text": [
      "                                                                                                                                           "
     ]
    },
    {
     "name": "stdout",
     "output_type": "stream",
     "text": [
      "Epoch [13]: Train Loss: 0.1788, Train Acc: 0.9242 | Val Loss: 0.2818, Val Acc: 0.8930, Val Recall: 0.9390, Val F1: 0.9149\n",
      "[INFO] Best model saved with val_f1: 0.9149\n",
      "[INFO] Learning rate adjusted to: 0.001478\n"
     ]
    },
    {
     "name": "stderr",
     "output_type": "stream",
     "text": [
      "                                                                                                                                           "
     ]
    },
    {
     "name": "stdout",
     "output_type": "stream",
     "text": [
      "Epoch [14]: Train Loss: 0.1625, Train Acc: 0.9364 | Val Loss: 0.2845, Val Acc: 0.8881, Val Recall: 0.9309, Val F1: 0.9105\n",
      "[INFO] No improvement in val_f1. Patience: 1/8\n",
      "[INFO] Learning rate adjusted to: 0.001478\n"
     ]
    },
    {
     "name": "stderr",
     "output_type": "stream",
     "text": [
      "                                                                                                                                           "
     ]
    },
    {
     "name": "stdout",
     "output_type": "stream",
     "text": [
      "Epoch [15]: Train Loss: 0.1768, Train Acc: 0.9184 | Val Loss: 0.2539, Val Acc: 0.9104, Val Recall: 0.9472, Val F1: 0.9283\n",
      "[INFO] Best model saved with val_f1: 0.9283\n",
      "[INFO] Learning rate adjusted to: 0.001478\n"
     ]
    },
    {
     "name": "stderr",
     "output_type": "stream",
     "text": [
      "                                                                                                                                           "
     ]
    },
    {
     "name": "stdout",
     "output_type": "stream",
     "text": [
      "Epoch [16]: Train Loss: 0.1573, Train Acc: 0.9369 | Val Loss: 0.2551, Val Acc: 0.8930, Val Recall: 0.9228, Val F1: 0.9135\n",
      "[INFO] No improvement in val_f1. Patience: 1/8\n",
      "[INFO] Learning rate adjusted to: 0.001478\n"
     ]
    },
    {
     "name": "stderr",
     "output_type": "stream",
     "text": [
      "                                                                                                                                           "
     ]
    },
    {
     "name": "stdout",
     "output_type": "stream",
     "text": [
      "Epoch [17]: Train Loss: 0.1383, Train Acc: 0.9486 | Val Loss: 0.2549, Val Acc: 0.8930, Val Recall: 0.9309, Val F1: 0.9142\n",
      "[INFO] No improvement in val_f1. Patience: 2/8\n",
      "[INFO] Learning rate adjusted to: 0.001478\n"
     ]
    },
    {
     "name": "stderr",
     "output_type": "stream",
     "text": [
      "Epoch [18] - Training:  83%|█████████████████████████████████████████████████████████████████▌             | 49/59 [00:07<00:01,  6.84it/s]"
     ]
    }
   ],
   "source": [
    "# Run Optuna\n",
    "print(\"[INFO] Running hyperparameter optimization...\")\n",
    "study = optuna.create_study(direction=\"maximize\")\n",
    "study.optimize(objective, n_trials=20)\n",
    "print(f\"[INFO] Best parameters found: {study.best_params}\")"
   ]
  },
  {
   "cell_type": "code",
   "execution_count": null,
   "metadata": {},
   "outputs": [],
   "source": [
    "# Train Final Model\n",
    "print(\"[INFO] Training final model with best hyperparameters...\")\n",
    "final_model = initialize_model(\"efficientnet_b0\", num_classes=2, pretrained=True, freeze_all=False, unfreeze_last_n=2)\n",
    "final_model.to(device)"
   ]
  },
  {
   "cell_type": "code",
   "execution_count": null,
   "metadata": {},
   "outputs": [],
   "source": [
    "# Optimizer\n",
    "optimizer = optim.Adam(final_model.parameters(), lr=study.best_params[\"lr\"], weight_decay=study.best_params[\"weight_decay\"])\n",
    "scheduler = optim.lr_scheduler.ReduceLROnPlateau(optimizer, mode=\"max\", factor=0.1, patience=3, threshold=1e-4)"
   ]
  },
  {
   "cell_type": "code",
   "execution_count": null,
   "metadata": {},
   "outputs": [],
   "source": [
    "# Final training\n",
    "final_save_path = \"outputs/models/efficientnet_b0_final.pth\"\n",
    "history = train_model(\n",
    "    model=final_model,\n",
    "    train_loader=train_loader,\n",
    "    val_loader=val_loader,\n",
    "    criterion=nn.CrossEntropyLoss(),\n",
    "    optimizer=optimizer,\n",
    "    scheduler=scheduler,\n",
    "    device=device,\n",
    "    save_path=final_save_path,\n",
    "    early_stop_patience=8,\n",
    "    monitor_metric=\"val_recall\",\n",
    ")"
   ]
  },
  {
   "cell_type": "code",
   "execution_count": null,
   "metadata": {},
   "outputs": [],
   "source": [
    "# Evaluation and Visualization\n",
    "print(\"[INFO] Evaluating final model...\")\n",
    "metrics = evaluate_model(final_model, test_loader, [\"No Fire\", \"Fire\"], device)\n",
    "plot_training(history, \"outputs/plots/efficientnet_b0_training_curve.png\")\n",
    "plot_confusion_matrix(metrics[\"confusion_matrix\"], [\"No Fire\", \"Fire\"], \"outputs/plots/efficientnet_b0_confusion_matrix.png\")\n",
    "print(\"[INFO] Final results saved successfully!\")"
   ]
  }
 ],
 "metadata": {
  "kernelspec": {
   "display_name": "Python 3 (ipykernel)",
   "language": "python",
   "name": "python3"
  },
  "language_info": {
   "codemirror_mode": {
    "name": "ipython",
    "version": 3
   },
   "file_extension": ".py",
   "mimetype": "text/x-python",
   "name": "python",
   "nbconvert_exporter": "python",
   "pygments_lexer": "ipython3",
   "version": "3.11.9"
  }
 },
 "nbformat": 4,
 "nbformat_minor": 4
}
