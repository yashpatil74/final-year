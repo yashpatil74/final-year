{
 "cells": [
  {
   "cell_type": "code",
   "execution_count": 1,
   "metadata": {},
   "outputs": [],
   "source": [
    "import os\n",
    "os.chdir(\"../..\")"
   ]
  },
  {
   "cell_type": "code",
   "execution_count": 2,
   "metadata": {},
   "outputs": [],
   "source": [
    "import torch\n",
    "import torch.nn as nn\n",
    "import torch.optim as optim\n",
    "from utils.dataset_loader import *\n",
    "from utils.model_utils import *\n",
    "from utils.train_utils import *\n",
    "from utils.metrics import *\n",
    "from utils.visualization import *\n",
    "import optuna\n",
    "import os"
   ]
  },
  {
   "cell_type": "code",
   "execution_count": 3,
   "metadata": {},
   "outputs": [
    {
     "name": "stdout",
     "output_type": "stream",
     "text": [
      "[INFO] Using device: cuda\n"
     ]
    }
   ],
   "source": [
    "device = torch.device(\"cuda\" if torch.cuda.is_available() else \"cpu\")\n",
    "print(f\"[INFO] Using device: {device}\")"
   ]
  },
  {
   "cell_type": "code",
   "execution_count": 4,
   "metadata": {},
   "outputs": [],
   "source": [
    "os.makedirs(\"outputs/models\", exist_ok=True)\n",
    "os.makedirs(\"outputs/plots\", exist_ok=True)"
   ]
  },
  {
   "cell_type": "code",
   "execution_count": 5,
   "metadata": {},
   "outputs": [
    {
     "name": "stderr",
     "output_type": "stream",
     "text": [
      "2024-12-24 14:32:50,924 - INFO - Loading datasets from wildfire_dataset_scaled with augmentation type 'augmented'.\n",
      "2024-12-24 14:32:50,925 - INFO - Applying selected augmentations for wildfire scenarios.\n",
      "2024-12-24 14:32:50,939 - INFO - Initialized AlbumentationsDataset with root: wildfire_dataset_scaled/train\n",
      "2024-12-24 14:32:50,943 - INFO - Initialized AlbumentationsDataset with root: wildfire_dataset_scaled/val\n",
      "2024-12-24 14:32:50,946 - INFO - Initialized AlbumentationsDataset with root: wildfire_dataset_scaled/test\n",
      "2024-12-24 14:32:50,947 - INFO - Datasets initialized. Preparing DataLoaders...\n",
      "2024-12-24 14:32:50,948 - INFO - Using WeightedRandomSampler for class balancing.\n",
      "2024-12-24 14:32:50,948 - INFO - Computing class weights from directory: wildfire_dataset_scaled/train\n",
      "2024-12-24 14:32:50,950 - INFO - Class 'fire' has 730 samples.\n",
      "2024-12-24 14:32:50,952 - INFO - Class 'nofire' has 1157 samples.\n",
      "2024-12-24 14:32:50,953 - INFO - Computed class weights: {'fire': 1.0, 'nofire': 0.7943186335572451}\n"
     ]
    },
    {
     "name": "stdout",
     "output_type": "stream",
     "text": [
      "[INFO] Loading datasets...\n"
     ]
    },
    {
     "name": "stderr",
     "output_type": "stream",
     "text": [
      "2024-12-24 14:33:04,916 - INFO - DataLoaders created successfully.\n"
     ]
    },
    {
     "name": "stdout",
     "output_type": "stream",
     "text": [
      "[INFO] Datasets loaded successfully!\n"
     ]
    }
   ],
   "source": [
    "print(\"[INFO] Loading datasets...\")\n",
    "train_loader, val_loader, test_loader = load_datasets(\n",
    "    \"wildfire_dataset_scaled\", batch_size=8, augmentation=\"augmented\"\n",
    ")\n",
    "print(\"[INFO] Datasets loaded successfully!\")"
   ]
  },
  {
   "cell_type": "code",
   "execution_count": 6,
   "metadata": {},
   "outputs": [],
   "source": [
    "def objective(trial):\n",
    "    print(f\"[DEBUG] Starting trial {trial.number}...\")\n",
    "\n",
    "    # Hyperparameter suggestions\n",
    "    lr = trial.suggest_float(\"lr\", 1e-5, 1e-2, log=True)\n",
    "    weight_decay = trial.suggest_float(\"weight_decay\", 1e-5, 1e-3, log=True)\n",
    "    optimizer_name = trial.suggest_categorical(\"optimizer\", [\"Adam\", \"SGD\", \"AdamW\"])\n",
    "    print(f\"[DEBUG] Suggested hyperparameters: lr={lr}, weight_decay={weight_decay}, optimizer={optimizer_name}\")\n",
    "\n",
    "    # Initialize model\n",
    "    print(\"[DEBUG] Initializing convnext_tiny model...\")\n",
    "    model = initialize_model(\"convnext_tiny\", num_classes=2, pretrained=True, freeze_all=False, unfreeze_last_n=12)\n",
    "    model.to(device)\n",
    "\n",
    "    # Optimizer setup\n",
    "    print(\"[DEBUG] Setting up optimizer...\")\n",
    "    if optimizer_name == \"Adam\":\n",
    "        optimizer = optim.Adam(model.parameters(), lr=lr, weight_decay=weight_decay)\n",
    "    elif optimizer_name == \"SGD\":\n",
    "        optimizer = optim.SGD(model.parameters(), lr=lr, momentum=0.9, weight_decay=weight_decay)\n",
    "    elif optimizer_name == \"AdamW\":\n",
    "        optimizer = optim.AdamW(model.parameters(), lr=lr, weight_decay=weight_decay)\n",
    "\n",
    "    # Scheduler\n",
    "    scheduler = optim.lr_scheduler.ReduceLROnPlateau(optimizer, mode=\"max\", patience=3, factor=0.5)\n",
    "\n",
    "    # Loss function\n",
    "    criterion = nn.CrossEntropyLoss()\n",
    "\n",
    "    # Train the model\n",
    "    print(\"[INFO] Starting model training...\")\n",
    "    save_path = \"outputs/models/tuned/convnext_tiny_trial_best.pth\"\n",
    "    history = train_model(\n",
    "        model=model,\n",
    "        train_loader=train_loader,\n",
    "        val_loader=val_loader,\n",
    "        criterion=criterion,\n",
    "        optimizer=optimizer,\n",
    "        scheduler=scheduler,\n",
    "        device=device,\n",
    "        save_path=save_path,\n",
    "        early_stop_patience=5,\n",
    "        monitor_metric=\"val_f1\",\n",
    "    )\n",
    "    print(\"[INFO] Training completed!\")\n",
    "\n",
    "    # Return validation recall\n",
    "    val_recall = history[\"val_f1\"][-1]\n",
    "    print(f\"[INFO] Trial {trial.number} - Final Validation F1: {val_recall:.4f}\")\n",
    "    return val_recall\n"
   ]
  },
  {
   "cell_type": "code",
   "execution_count": null,
   "metadata": {},
   "outputs": [
    {
     "name": "stderr",
     "output_type": "stream",
     "text": [
      "[I 2024-12-24 14:33:04,936] A new study created in memory with name: no-name-e69d4079-32c3-4adf-8d2c-f05d6b574358\n"
     ]
    },
    {
     "name": "stdout",
     "output_type": "stream",
     "text": [
      "[INFO] Running hyperparameter optimization...\n",
      "[DEBUG] Starting trial 0...\n",
      "[DEBUG] Suggested hyperparameters: lr=7.565800971824634e-05, weight_decay=0.0004061072493103097, optimizer=Adam\n",
      "[DEBUG] Initializing convnext_tiny model...\n",
      "[DEBUG] Setting up optimizer...\n",
      "[INFO] Starting model training...\n",
      "\n",
      "Starting training...\n",
      "\n"
     ]
    },
    {
     "name": "stderr",
     "output_type": "stream",
     "text": [
      "                                                                       \r"
     ]
    },
    {
     "name": "stdout",
     "output_type": "stream",
     "text": [
      "[INFO] Learning rate adjusted to: 0.000076\n",
      "[INFO] Best model saved with val_f1: 0.8809\n",
      "Epoch [1]: Train Loss: 0.3205, Train Acc: 0.8649 | Val Loss: 0.5673, Val Acc: 0.8358, Val Recall: 0.9919, Val F1: 0.8809\n"
     ]
    },
    {
     "name": "stderr",
     "output_type": "stream",
     "text": [
      "                                                                       \r"
     ]
    },
    {
     "name": "stdout",
     "output_type": "stream",
     "text": [
      "[INFO] Learning rate adjusted to: 0.000076\n",
      "[INFO] Best model saved with val_f1: 0.9412\n",
      "Epoch [2]: Train Loss: 0.1501, Train Acc: 0.9571 | Val Loss: 0.2027, Val Acc: 0.9279, Val Recall: 0.9431, Val F1: 0.9412\n"
     ]
    },
    {
     "name": "stderr",
     "output_type": "stream",
     "text": [
      "                                                                       \r"
     ]
    },
    {
     "name": "stdout",
     "output_type": "stream",
     "text": [
      "[INFO] Learning rate adjusted to: 0.000076\n",
      "[INFO] No improvement in val_f1. Patience: 1/5\n",
      "Epoch [3]: Train Loss: 0.1261, Train Acc: 0.9560 | Val Loss: 0.2291, Val Acc: 0.9254, Val Recall: 0.9228, Val F1: 0.9380\n"
     ]
    },
    {
     "name": "stderr",
     "output_type": "stream",
     "text": [
      "                                                                       \r"
     ]
    },
    {
     "name": "stdout",
     "output_type": "stream",
     "text": [
      "[INFO] Learning rate adjusted to: 0.000076\n",
      "[INFO] No improvement in val_f1. Patience: 2/5\n",
      "Epoch [4]: Train Loss: 0.0805, Train Acc: 0.9751 | Val Loss: 0.2365, Val Acc: 0.9080, Val Recall: 0.9553, Val F1: 0.9270\n"
     ]
    },
    {
     "name": "stderr",
     "output_type": "stream",
     "text": [
      "                                                                       \r"
     ]
    },
    {
     "name": "stdout",
     "output_type": "stream",
     "text": [
      "[INFO] Learning rate adjusted to: 0.000076\n",
      "[INFO] No improvement in val_f1. Patience: 3/5\n",
      "Epoch [5]: Train Loss: 0.0545, Train Acc: 0.9825 | Val Loss: 0.2978, Val Acc: 0.9154, Val Recall: 0.9675, Val F1: 0.9333\n"
     ]
    },
    {
     "name": "stderr",
     "output_type": "stream",
     "text": [
      "                                                                       \r"
     ]
    },
    {
     "name": "stdout",
     "output_type": "stream",
     "text": [
      "[INFO] Learning rate adjusted to: 0.000038\n",
      "[INFO] No improvement in val_f1. Patience: 4/5\n",
      "Epoch [6]: Train Loss: 0.0567, Train Acc: 0.9815 | Val Loss: 0.2280, Val Acc: 0.9179, Val Recall: 0.9431, Val F1: 0.9336\n"
     ]
    },
    {
     "name": "stderr",
     "output_type": "stream",
     "text": [
      "                                                                       \r"
     ]
    },
    {
     "name": "stdout",
     "output_type": "stream",
     "text": [
      "[INFO] Learning rate adjusted to: 0.000038\n",
      "[INFO] Best model saved with val_f1: 0.9474\n",
      "Epoch [7]: Train Loss: 0.0283, Train Acc: 0.9905 | Val Loss: 0.3040, Val Acc: 0.9353, Val Recall: 0.9512, Val F1: 0.9474\n"
     ]
    },
    {
     "name": "stderr",
     "output_type": "stream",
     "text": [
      "                                                                       \r"
     ]
    },
    {
     "name": "stdout",
     "output_type": "stream",
     "text": [
      "[INFO] Learning rate adjusted to: 0.000038\n",
      "[INFO] No improvement in val_f1. Patience: 1/5\n",
      "Epoch [8]: Train Loss: 0.0197, Train Acc: 0.9963 | Val Loss: 0.3264, Val Acc: 0.9328, Val Recall: 0.9472, Val F1: 0.9452\n"
     ]
    },
    {
     "name": "stderr",
     "output_type": "stream",
     "text": [
      "                                                                       \r"
     ]
    },
    {
     "name": "stdout",
     "output_type": "stream",
     "text": [
      "[INFO] Learning rate adjusted to: 0.000038\n",
      "[INFO] No improvement in val_f1. Patience: 2/5\n",
      "Epoch [9]: Train Loss: 0.0092, Train Acc: 0.9968 | Val Loss: 0.3881, Val Acc: 0.9328, Val Recall: 0.9756, Val F1: 0.9467\n"
     ]
    },
    {
     "name": "stderr",
     "output_type": "stream",
     "text": [
      "                                                                        \r"
     ]
    },
    {
     "name": "stdout",
     "output_type": "stream",
     "text": [
      "[INFO] Learning rate adjusted to: 0.000038\n",
      "[INFO] Best model saved with val_f1: 0.9480\n",
      "Epoch [10]: Train Loss: 0.0240, Train Acc: 0.9931 | Val Loss: 0.2556, Val Acc: 0.9353, Val Recall: 0.9634, Val F1: 0.9480\n"
     ]
    },
    {
     "name": "stderr",
     "output_type": "stream",
     "text": [
      "                                                                        \r"
     ]
    },
    {
     "name": "stdout",
     "output_type": "stream",
     "text": [
      "[INFO] Learning rate adjusted to: 0.000038\n",
      "[INFO] No improvement in val_f1. Patience: 1/5\n",
      "Epoch [11]: Train Loss: 0.0193, Train Acc: 0.9931 | Val Loss: 0.4305, Val Acc: 0.9204, Val Recall: 0.9715, Val F1: 0.9373\n"
     ]
    },
    {
     "name": "stderr",
     "output_type": "stream",
     "text": [
      "                                                                        \r"
     ]
    },
    {
     "name": "stdout",
     "output_type": "stream",
     "text": [
      "[INFO] Learning rate adjusted to: 0.000038\n",
      "[INFO] No improvement in val_f1. Patience: 2/5\n",
      "Epoch [12]: Train Loss: 0.0192, Train Acc: 0.9936 | Val Loss: 0.3594, Val Acc: 0.9204, Val Recall: 0.9024, Val F1: 0.9328\n"
     ]
    },
    {
     "name": "stderr",
     "output_type": "stream",
     "text": [
      "                                                                        \r"
     ]
    },
    {
     "name": "stdout",
     "output_type": "stream",
     "text": [
      "[INFO] Learning rate adjusted to: 0.000038\n",
      "[INFO] No improvement in val_f1. Patience: 3/5\n",
      "Epoch [13]: Train Loss: 0.0145, Train Acc: 0.9974 | Val Loss: 0.3922, Val Acc: 0.9179, Val Recall: 0.9187, Val F1: 0.9320\n"
     ]
    },
    {
     "name": "stderr",
     "output_type": "stream",
     "text": [
      "                                                                        \r"
     ]
    },
    {
     "name": "stdout",
     "output_type": "stream",
     "text": [
      "[INFO] Learning rate adjusted to: 0.000038\n",
      "[INFO] Best model saved with val_f1: 0.9555\n",
      "Epoch [14]: Train Loss: 0.0124, Train Acc: 0.9968 | Val Loss: 0.3777, Val Acc: 0.9453, Val Recall: 0.9593, Val F1: 0.9555\n"
     ]
    },
    {
     "name": "stderr",
     "output_type": "stream",
     "text": [
      "                                                                        \r"
     ]
    },
    {
     "name": "stdout",
     "output_type": "stream",
     "text": [
      "[INFO] Learning rate adjusted to: 0.000038\n",
      "[INFO] No improvement in val_f1. Patience: 1/5\n",
      "Epoch [15]: Train Loss: 0.0296, Train Acc: 0.9921 | Val Loss: 0.2302, Val Acc: 0.9279, Val Recall: 0.9431, Val F1: 0.9412\n"
     ]
    },
    {
     "name": "stderr",
     "output_type": "stream",
     "text": [
      "                                                                        \r"
     ]
    },
    {
     "name": "stdout",
     "output_type": "stream",
     "text": [
      "[INFO] Learning rate adjusted to: 0.000038\n",
      "[INFO] No improvement in val_f1. Patience: 2/5\n",
      "Epoch [16]: Train Loss: 0.0245, Train Acc: 0.9921 | Val Loss: 0.3152, Val Acc: 0.9229, Val Recall: 0.9675, Val F1: 0.9389\n"
     ]
    },
    {
     "name": "stderr",
     "output_type": "stream",
     "text": [
      "                                                                        \r"
     ]
    },
    {
     "name": "stdout",
     "output_type": "stream",
     "text": [
      "[INFO] Learning rate adjusted to: 0.000038\n",
      "[INFO] No improvement in val_f1. Patience: 3/5\n",
      "Epoch [17]: Train Loss: 0.0186, Train Acc: 0.9947 | Val Loss: 0.4014, Val Acc: 0.9179, Val Recall: 0.9715, Val F1: 0.9354\n"
     ]
    },
    {
     "name": "stderr",
     "output_type": "stream",
     "text": [
      "                                                                        \r"
     ]
    },
    {
     "name": "stdout",
     "output_type": "stream",
     "text": [
      "[INFO] Learning rate adjusted to: 0.000019\n",
      "[INFO] No improvement in val_f1. Patience: 4/5\n",
      "Epoch [18]: Train Loss: 0.0189, Train Acc: 0.9931 | Val Loss: 0.3020, Val Acc: 0.9328, Val Recall: 0.9553, Val F1: 0.9457\n"
     ]
    },
    {
     "name": "stderr",
     "output_type": "stream",
     "text": [
      "[I 2024-12-24 14:46:17,831] Trial 0 finished with value: 0.9437751004016064 and parameters: {'lr': 7.565800971824634e-05, 'weight_decay': 0.0004061072493103097, 'optimizer': 'Adam'}. Best is trial 0 with value: 0.9437751004016064.\n"
     ]
    },
    {
     "name": "stdout",
     "output_type": "stream",
     "text": [
      "[INFO] Learning rate adjusted to: 0.000019\n",
      "[INFO] No improvement in val_f1. Patience: 5/5\n",
      "Epoch [19]: Train Loss: 0.0073, Train Acc: 0.9984 | Val Loss: 0.3478, Val Acc: 0.9303, Val Recall: 0.9553, Val F1: 0.9438\n",
      "[INFO] Final metrics saved to outputs/models/tuned\\final_metrics.json\n",
      "[INFO] Training stopped after 19 epochs. Best val_f1: 0.9555\n",
      "\n",
      "[INFO] Training completed!\n",
      "[INFO] Trial 0 - Final Validation F1: 0.9438\n",
      "[DEBUG] Starting trial 1...\n",
      "[DEBUG] Suggested hyperparameters: lr=0.004708185208849648, weight_decay=0.00028278172180604176, optimizer=SGD\n",
      "[DEBUG] Initializing convnext_tiny model...\n",
      "[DEBUG] Setting up optimizer...\n",
      "[INFO] Starting model training...\n",
      "\n",
      "Starting training...\n",
      "\n"
     ]
    },
    {
     "name": "stderr",
     "output_type": "stream",
     "text": [
      "                                                                       \r"
     ]
    },
    {
     "name": "stdout",
     "output_type": "stream",
     "text": [
      "[INFO] Learning rate adjusted to: 0.004708\n",
      "[INFO] Best model saved with val_f1: 0.6247\n",
      "Epoch [1]: Train Loss: 0.6704, Train Acc: 0.6100 | Val Loss: 0.7367, Val Acc: 0.6144, Val Recall: 0.5244, Val F1: 0.6247\n"
     ]
    },
    {
     "name": "stderr",
     "output_type": "stream",
     "text": [
      "                                                                       \r"
     ]
    },
    {
     "name": "stdout",
     "output_type": "stream",
     "text": [
      "[INFO] Learning rate adjusted to: 0.004708\n",
      "[INFO] Best model saved with val_f1: 0.6354\n",
      "Epoch [2]: Train Loss: 0.6280, Train Acc: 0.6486 | Val Loss: 0.6218, Val Acc: 0.6517, Val Recall: 0.4959, Val F1: 0.6354\n"
     ]
    },
    {
     "name": "stderr",
     "output_type": "stream",
     "text": [
      "                                                                       \r"
     ]
    },
    {
     "name": "stdout",
     "output_type": "stream",
     "text": [
      "[INFO] Learning rate adjusted to: 0.004708\n",
      "[INFO] Best model saved with val_f1: 0.7884\n",
      "Epoch [3]: Train Loss: 0.6301, Train Acc: 0.6375 | Val Loss: 0.5578, Val Acc: 0.6915, Val Recall: 0.9390, Val F1: 0.7884\n"
     ]
    },
    {
     "name": "stderr",
     "output_type": "stream",
     "text": [
      "                                                                       \r"
     ]
    },
    {
     "name": "stdout",
     "output_type": "stream",
     "text": [
      "[INFO] Learning rate adjusted to: 0.004708\n",
      "[INFO] Best model saved with val_f1: 0.8023\n",
      "Epoch [4]: Train Loss: 0.6025, Train Acc: 0.6603 | Val Loss: 0.5398, Val Acc: 0.7388, Val Recall: 0.8659, Val F1: 0.8023\n"
     ]
    },
    {
     "name": "stderr",
     "output_type": "stream",
     "text": [
      "                                                                       \r"
     ]
    },
    {
     "name": "stdout",
     "output_type": "stream",
     "text": [
      "[INFO] Learning rate adjusted to: 0.004708\n",
      "[INFO] Best model saved with val_f1: 0.8213\n",
      "Epoch [5]: Train Loss: 0.5603, Train Acc: 0.7154 | Val Loss: 0.4849, Val Acc: 0.7910, Val Recall: 0.7846, Val F1: 0.8213\n"
     ]
    },
    {
     "name": "stderr",
     "output_type": "stream",
     "text": [
      "                                                                       \r"
     ]
    },
    {
     "name": "stdout",
     "output_type": "stream",
     "text": [
      "[INFO] Learning rate adjusted to: 0.004708\n",
      "[INFO] Best model saved with val_f1: 0.8311\n",
      "Epoch [6]: Train Loss: 0.5076, Train Acc: 0.7536 | Val Loss: 0.4431, Val Acc: 0.7836, Val Recall: 0.8699, Val F1: 0.8311\n"
     ]
    },
    {
     "name": "stderr",
     "output_type": "stream",
     "text": [
      "                                                                       \r"
     ]
    },
    {
     "name": "stdout",
     "output_type": "stream",
     "text": [
      "[INFO] Learning rate adjusted to: 0.004708\n",
      "[INFO] No improvement in val_f1. Patience: 1/5\n",
      "Epoch [7]: Train Loss: 0.4894, Train Acc: 0.7594 | Val Loss: 0.6666, Val Acc: 0.7214, Val Recall: 0.5772, Val F1: 0.7172\n"
     ]
    },
    {
     "name": "stderr",
     "output_type": "stream",
     "text": [
      "                                                                       \r"
     ]
    },
    {
     "name": "stdout",
     "output_type": "stream",
     "text": [
      "[INFO] Learning rate adjusted to: 0.004708\n",
      "[INFO] No improvement in val_f1. Patience: 2/5\n",
      "Epoch [8]: Train Loss: 0.4010, Train Acc: 0.8188 | Val Loss: 0.5639, Val Acc: 0.7537, Val Recall: 0.6382, Val F1: 0.7603\n"
     ]
    },
    {
     "name": "stderr",
     "output_type": "stream",
     "text": [
      "                                                                       \r"
     ]
    },
    {
     "name": "stdout",
     "output_type": "stream",
     "text": [
      "[INFO] Learning rate adjusted to: 0.004708\n",
      "[INFO] Best model saved with val_f1: 0.8832\n",
      "Epoch [9]: Train Loss: 0.4135, Train Acc: 0.8087 | Val Loss: 0.3505, Val Acc: 0.8532, Val Recall: 0.9065, Val F1: 0.8832\n"
     ]
    },
    {
     "name": "stderr",
     "output_type": "stream",
     "text": [
      "                                                                        \r"
     ]
    },
    {
     "name": "stdout",
     "output_type": "stream",
     "text": [
      "[INFO] Learning rate adjusted to: 0.004708\n",
      "[INFO] No improvement in val_f1. Patience: 1/5\n",
      "Epoch [10]: Train Loss: 0.3370, Train Acc: 0.8574 | Val Loss: 0.4479, Val Acc: 0.8234, Val Recall: 0.7764, Val F1: 0.8433\n"
     ]
    },
    {
     "name": "stderr",
     "output_type": "stream",
     "text": [
      "                                                                        \r"
     ]
    },
    {
     "name": "stdout",
     "output_type": "stream",
     "text": [
      "[INFO] Learning rate adjusted to: 0.004708\n",
      "[INFO] No improvement in val_f1. Patience: 2/5\n",
      "Epoch [11]: Train Loss: 0.3544, Train Acc: 0.8458 | Val Loss: 0.3582, Val Acc: 0.8582, Val Recall: 0.8740, Val F1: 0.8830\n"
     ]
    },
    {
     "name": "stderr",
     "output_type": "stream",
     "text": [
      "                                                                        \r"
     ]
    },
    {
     "name": "stdout",
     "output_type": "stream",
     "text": [
      "[INFO] Learning rate adjusted to: 0.004708\n",
      "[INFO] No improvement in val_f1. Patience: 3/5\n",
      "Epoch [12]: Train Loss: 0.3416, Train Acc: 0.8596 | Val Loss: 0.3451, Val Acc: 0.8532, Val Recall: 0.8943, Val F1: 0.8818\n"
     ]
    },
    {
     "name": "stderr",
     "output_type": "stream",
     "text": [
      "                                                                        \r"
     ]
    },
    {
     "name": "stdout",
     "output_type": "stream",
     "text": [
      "[INFO] Learning rate adjusted to: 0.004708\n",
      "[INFO] Best model saved with val_f1: 0.8912\n",
      "Epoch [13]: Train Loss: 0.2997, Train Acc: 0.8771 | Val Loss: 0.3543, Val Acc: 0.8682, Val Recall: 0.8821, Val F1: 0.8912\n"
     ]
    },
    {
     "name": "stderr",
     "output_type": "stream",
     "text": [
      "                                                                        \r"
     ]
    },
    {
     "name": "stdout",
     "output_type": "stream",
     "text": [
      "[INFO] Learning rate adjusted to: 0.004708\n",
      "[INFO] No improvement in val_f1. Patience: 1/5\n",
      "Epoch [14]: Train Loss: 0.2776, Train Acc: 0.8824 | Val Loss: 0.4238, Val Acc: 0.8284, Val Recall: 0.7520, Val F1: 0.8428\n"
     ]
    },
    {
     "name": "stderr",
     "output_type": "stream",
     "text": [
      "                                                                        \r"
     ]
    },
    {
     "name": "stdout",
     "output_type": "stream",
     "text": [
      "[INFO] Learning rate adjusted to: 0.004708\n",
      "[INFO] Best model saved with val_f1: 0.9122\n",
      "Epoch [15]: Train Loss: 0.2984, Train Acc: 0.8739 | Val Loss: 0.2895, Val Acc: 0.8856, Val Recall: 0.9715, Val F1: 0.9122\n"
     ]
    },
    {
     "name": "stderr",
     "output_type": "stream",
     "text": [
      "                                                                        \r"
     ]
    },
    {
     "name": "stdout",
     "output_type": "stream",
     "text": [
      "[INFO] Learning rate adjusted to: 0.004708\n",
      "[INFO] No improvement in val_f1. Patience: 1/5\n",
      "Epoch [16]: Train Loss: 0.2544, Train Acc: 0.8877 | Val Loss: 0.3341, Val Acc: 0.8483, Val Recall: 0.9309, Val F1: 0.8825\n"
     ]
    },
    {
     "name": "stderr",
     "output_type": "stream",
     "text": [
      "                                                                        \r"
     ]
    },
    {
     "name": "stdout",
     "output_type": "stream",
     "text": [
      "[INFO] Learning rate adjusted to: 0.004708\n",
      "[INFO] No improvement in val_f1. Patience: 2/5\n",
      "Epoch [17]: Train Loss: 0.2504, Train Acc: 0.9004 | Val Loss: 0.3763, Val Acc: 0.8408, Val Recall: 0.8252, Val F1: 0.8638\n"
     ]
    },
    {
     "name": "stderr",
     "output_type": "stream",
     "text": [
      "                                                                        \r"
     ]
    },
    {
     "name": "stdout",
     "output_type": "stream",
     "text": [
      "[INFO] Learning rate adjusted to: 0.004708\n",
      "[INFO] No improvement in val_f1. Patience: 3/5\n",
      "Epoch [18]: Train Loss: 0.2311, Train Acc: 0.9004 | Val Loss: 0.3206, Val Acc: 0.8582, Val Recall: 0.8496, Val F1: 0.8800\n"
     ]
    },
    {
     "name": "stderr",
     "output_type": "stream",
     "text": [
      "                                                                        \r"
     ]
    },
    {
     "name": "stdout",
     "output_type": "stream",
     "text": [
      "[INFO] Learning rate adjusted to: 0.002354\n",
      "[INFO] No improvement in val_f1. Patience: 4/5\n",
      "Epoch [19]: Train Loss: 0.2395, Train Acc: 0.8940 | Val Loss: 0.3197, Val Acc: 0.8781, Val Recall: 0.8902, Val F1: 0.8994\n"
     ]
    },
    {
     "name": "stderr",
     "output_type": "stream",
     "text": [
      "[I 2024-12-24 14:57:45,616] Trial 1 finished with value: 0.8861283643892339 and parameters: {'lr': 0.004708185208849648, 'weight_decay': 0.00028278172180604176, 'optimizer': 'SGD'}. Best is trial 0 with value: 0.9437751004016064.\n"
     ]
    },
    {
     "name": "stdout",
     "output_type": "stream",
     "text": [
      "[INFO] Learning rate adjusted to: 0.002354\n",
      "[INFO] No improvement in val_f1. Patience: 5/5\n",
      "Epoch [20]: Train Loss: 0.1591, Train Acc: 0.9412 | Val Loss: 0.4138, Val Acc: 0.8632, Val Recall: 0.8699, Val F1: 0.8861\n",
      "[INFO] Final metrics saved to outputs/models/tuned\\final_metrics.json\n",
      "[INFO] Training stopped after 20 epochs. Best val_f1: 0.9122\n",
      "\n",
      "[INFO] Training completed!\n",
      "[INFO] Trial 1 - Final Validation F1: 0.8861\n",
      "[DEBUG] Starting trial 2...\n",
      "[DEBUG] Suggested hyperparameters: lr=6.887193636095625e-05, weight_decay=1.755397315399251e-05, optimizer=AdamW\n",
      "[DEBUG] Initializing convnext_tiny model...\n",
      "[DEBUG] Setting up optimizer...\n",
      "[INFO] Starting model training...\n",
      "\n",
      "Starting training...\n",
      "\n"
     ]
    },
    {
     "name": "stderr",
     "output_type": "stream",
     "text": [
      "                                                                       \r"
     ]
    },
    {
     "name": "stdout",
     "output_type": "stream",
     "text": [
      "[INFO] Learning rate adjusted to: 0.000069\n",
      "[INFO] Best model saved with val_f1: 0.9129\n",
      "Epoch [1]: Train Loss: 0.2910, Train Acc: 0.8829 | Val Loss: 0.2832, Val Acc: 0.8955, Val Recall: 0.8943, Val F1: 0.9129\n"
     ]
    },
    {
     "name": "stderr",
     "output_type": "stream",
     "text": [
      "                                                                       \r"
     ]
    },
    {
     "name": "stdout",
     "output_type": "stream",
     "text": [
      "[INFO] Learning rate adjusted to: 0.000069\n",
      "[INFO] Best model saved with val_f1: 0.9272\n",
      "Epoch [2]: Train Loss: 0.1297, Train Acc: 0.9539 | Val Loss: 0.2337, Val Acc: 0.9129, Val Recall: 0.9065, Val F1: 0.9272\n"
     ]
    },
    {
     "name": "stderr",
     "output_type": "stream",
     "text": [
      "                                                                       \r"
     ]
    },
    {
     "name": "stdout",
     "output_type": "stream",
     "text": [
      "[INFO] Learning rate adjusted to: 0.000069\n",
      "[INFO] Best model saved with val_f1: 0.9388\n",
      "Epoch [3]: Train Loss: 0.0678, Train Acc: 0.9793 | Val Loss: 0.3294, Val Acc: 0.9254, Val Recall: 0.9350, Val F1: 0.9388\n"
     ]
    },
    {
     "name": "stderr",
     "output_type": "stream",
     "text": [
      "                                                                       \r"
     ]
    },
    {
     "name": "stdout",
     "output_type": "stream",
     "text": [
      "[INFO] Learning rate adjusted to: 0.000069\n",
      "[INFO] Best model saved with val_f1: 0.9402\n",
      "Epoch [4]: Train Loss: 0.0835, Train Acc: 0.9751 | Val Loss: 0.1945, Val Acc: 0.9279, Val Recall: 0.9268, Val F1: 0.9402\n"
     ]
    },
    {
     "name": "stderr",
     "output_type": "stream",
     "text": [
      "                                                                       \r"
     ]
    },
    {
     "name": "stdout",
     "output_type": "stream",
     "text": [
      "[INFO] Learning rate adjusted to: 0.000069\n",
      "[INFO] Best model saved with val_f1: 0.9581\n",
      "Epoch [5]: Train Loss: 0.0564, Train Acc: 0.9804 | Val Loss: 0.2371, Val Acc: 0.9478, Val Recall: 0.9756, Val F1: 0.9581\n"
     ]
    },
    {
     "name": "stderr",
     "output_type": "stream",
     "text": [
      "                                                                       \r"
     ]
    },
    {
     "name": "stdout",
     "output_type": "stream",
     "text": [
      "[INFO] Learning rate adjusted to: 0.000069\n",
      "[INFO] No improvement in val_f1. Patience: 1/5\n",
      "Epoch [6]: Train Loss: 0.0413, Train Acc: 0.9889 | Val Loss: 0.3133, Val Acc: 0.9154, Val Recall: 0.9756, Val F1: 0.9339\n"
     ]
    },
    {
     "name": "stderr",
     "output_type": "stream",
     "text": [
      "                                                                       \r"
     ]
    },
    {
     "name": "stdout",
     "output_type": "stream",
     "text": [
      "[INFO] Learning rate adjusted to: 0.000069\n",
      "[INFO] No improvement in val_f1. Patience: 2/5\n",
      "Epoch [7]: Train Loss: 0.0517, Train Acc: 0.9841 | Val Loss: 0.2864, Val Acc: 0.9104, Val Recall: 0.8984, Val F1: 0.9247\n"
     ]
    },
    {
     "name": "stderr",
     "output_type": "stream",
     "text": [
      "                                                                       \r"
     ]
    },
    {
     "name": "stdout",
     "output_type": "stream",
     "text": [
      "[INFO] Learning rate adjusted to: 0.000069\n",
      "[INFO] No improvement in val_f1. Patience: 3/5\n",
      "Epoch [8]: Train Loss: 0.0359, Train Acc: 0.9905 | Val Loss: 0.2040, Val Acc: 0.9478, Val Recall: 0.9756, Val F1: 0.9581\n"
     ]
    },
    {
     "name": "stderr",
     "output_type": "stream",
     "text": [
      "                                                                       \r"
     ]
    },
    {
     "name": "stdout",
     "output_type": "stream",
     "text": [
      "[INFO] Learning rate adjusted to: 0.000034\n",
      "[INFO] No improvement in val_f1. Patience: 4/5\n",
      "Epoch [9]: Train Loss: 0.0267, Train Acc: 0.9921 | Val Loss: 0.2716, Val Acc: 0.9279, Val Recall: 0.9187, Val F1: 0.9397\n"
     ]
    },
    {
     "name": "stderr",
     "output_type": "stream",
     "text": [
      "[I 2024-12-24 15:03:24,222] Trial 2 finished with value: 0.9430255402750491 and parameters: {'lr': 6.887193636095625e-05, 'weight_decay': 1.755397315399251e-05, 'optimizer': 'AdamW'}. Best is trial 0 with value: 0.9437751004016064.\n"
     ]
    },
    {
     "name": "stdout",
     "output_type": "stream",
     "text": [
      "[INFO] Learning rate adjusted to: 0.000034\n",
      "[INFO] No improvement in val_f1. Patience: 5/5\n",
      "Epoch [10]: Train Loss: 0.0095, Train Acc: 0.9974 | Val Loss: 0.3347, Val Acc: 0.9279, Val Recall: 0.9756, Val F1: 0.9430\n",
      "[INFO] Final metrics saved to outputs/models/tuned\\final_metrics.json\n",
      "[INFO] Training stopped after 10 epochs. Best val_f1: 0.9581\n",
      "\n",
      "[INFO] Training completed!\n",
      "[INFO] Trial 2 - Final Validation F1: 0.9430\n",
      "[DEBUG] Starting trial 3...\n",
      "[DEBUG] Suggested hyperparameters: lr=0.0062626809976417674, weight_decay=5.5867247573147115e-05, optimizer=SGD\n",
      "[DEBUG] Initializing convnext_tiny model...\n",
      "[DEBUG] Setting up optimizer...\n",
      "[INFO] Starting model training...\n",
      "\n",
      "Starting training...\n",
      "\n"
     ]
    },
    {
     "name": "stderr",
     "output_type": "stream",
     "text": [
      "                                                                       \r"
     ]
    },
    {
     "name": "stdout",
     "output_type": "stream",
     "text": [
      "[INFO] Learning rate adjusted to: 0.006263\n",
      "[INFO] Best model saved with val_f1: 0.5951\n",
      "Epoch [1]: Train Loss: 0.6997, Train Acc: 0.5665 | Val Loss: 0.6930, Val Acc: 0.5871, Val Recall: 0.4959, Val F1: 0.5951\n"
     ]
    },
    {
     "name": "stderr",
     "output_type": "stream",
     "text": [
      "                                                                       \r"
     ]
    },
    {
     "name": "stdout",
     "output_type": "stream",
     "text": [
      "[INFO] Learning rate adjusted to: 0.006263\n",
      "[INFO] Best model saved with val_f1: 0.7034\n",
      "Epoch [2]: Train Loss: 0.6590, Train Acc: 0.6153 | Val Loss: 0.6159, Val Acc: 0.6517, Val Recall: 0.6748, Val F1: 0.7034\n"
     ]
    },
    {
     "name": "stderr",
     "output_type": "stream",
     "text": [
      "                                                                       \r"
     ]
    },
    {
     "name": "stdout",
     "output_type": "stream",
     "text": [
      "[INFO] Learning rate adjusted to: 0.006263\n",
      "[INFO] No improvement in val_f1. Patience: 1/5\n",
      "Epoch [3]: Train Loss: 0.6429, Train Acc: 0.6280 | Val Loss: 0.6748, Val Acc: 0.5398, Val Recall: 0.2886, Val F1: 0.4343\n"
     ]
    },
    {
     "name": "stderr",
     "output_type": "stream",
     "text": [
      "                                                                       \r"
     ]
    },
    {
     "name": "stdout",
     "output_type": "stream",
     "text": [
      "[INFO] Learning rate adjusted to: 0.006263\n",
      "[INFO] Best model saved with val_f1: 0.7376\n",
      "Epoch [4]: Train Loss: 0.6409, Train Acc: 0.6465 | Val Loss: 0.5758, Val Acc: 0.7114, Val Recall: 0.6626, Val F1: 0.7376\n"
     ]
    },
    {
     "name": "stderr",
     "output_type": "stream",
     "text": [
      "                                                                       \r"
     ]
    },
    {
     "name": "stdout",
     "output_type": "stream",
     "text": [
      "[INFO] Learning rate adjusted to: 0.006263\n",
      "[INFO] Best model saved with val_f1: 0.7807\n",
      "Epoch [5]: Train Loss: 0.5951, Train Acc: 0.6698 | Val Loss: 0.5816, Val Acc: 0.6716, Val Recall: 0.9553, Val F1: 0.7807\n"
     ]
    },
    {
     "name": "stderr",
     "output_type": "stream",
     "text": [
      "                                                                       \r"
     ]
    },
    {
     "name": "stdout",
     "output_type": "stream",
     "text": [
      "[INFO] Learning rate adjusted to: 0.006263\n",
      "[INFO] No improvement in val_f1. Patience: 1/5\n",
      "Epoch [6]: Train Loss: 0.5880, Train Acc: 0.6820 | Val Loss: 0.5612, Val Acc: 0.7139, Val Recall: 0.6911, Val F1: 0.7473\n"
     ]
    },
    {
     "name": "stderr",
     "output_type": "stream",
     "text": [
      "                                                                       \r"
     ]
    },
    {
     "name": "stdout",
     "output_type": "stream",
     "text": [
      "[INFO] Learning rate adjusted to: 0.006263\n",
      "[INFO] No improvement in val_f1. Patience: 2/5\n",
      "Epoch [7]: Train Loss: 0.6464, Train Acc: 0.6518 | Val Loss: 0.6375, Val Acc: 0.6194, Val Recall: 0.4309, Val F1: 0.5808\n"
     ]
    },
    {
     "name": "stderr",
     "output_type": "stream",
     "text": [
      "                                                                       \r"
     ]
    },
    {
     "name": "stdout",
     "output_type": "stream",
     "text": [
      "[INFO] Learning rate adjusted to: 0.006263\n",
      "[INFO] No improvement in val_f1. Patience: 3/5\n",
      "Epoch [8]: Train Loss: 0.5447, Train Acc: 0.7197 | Val Loss: 0.6279, Val Acc: 0.6443, Val Recall: 0.4593, Val F1: 0.6125\n"
     ]
    },
    {
     "name": "stderr",
     "output_type": "stream",
     "text": [
      "                                                                       \r"
     ]
    },
    {
     "name": "stdout",
     "output_type": "stream",
     "text": [
      "[INFO] Learning rate adjusted to: 0.006263\n",
      "[INFO] Best model saved with val_f1: 0.7934\n",
      "Epoch [9]: Train Loss: 0.5096, Train Acc: 0.7414 | Val Loss: 0.5778, Val Acc: 0.6866, Val Recall: 0.9837, Val F1: 0.7934\n"
     ]
    },
    {
     "name": "stderr",
     "output_type": "stream",
     "text": [
      "                                                                        \r"
     ]
    },
    {
     "name": "stdout",
     "output_type": "stream",
     "text": [
      "[INFO] Learning rate adjusted to: 0.006263\n",
      "[INFO] Best model saved with val_f1: 0.8256\n",
      "Epoch [10]: Train Loss: 0.4855, Train Acc: 0.7700 | Val Loss: 0.4455, Val Acc: 0.8035, Val Recall: 0.7602, Val F1: 0.8256\n"
     ]
    },
    {
     "name": "stderr",
     "output_type": "stream",
     "text": [
      "                                                                        \r"
     ]
    },
    {
     "name": "stdout",
     "output_type": "stream",
     "text": [
      "[INFO] Learning rate adjusted to: 0.006263\n",
      "[INFO] Best model saved with val_f1: 0.8392\n",
      "Epoch [11]: Train Loss: 0.4617, Train Acc: 0.7880 | Val Loss: 0.4765, Val Acc: 0.7836, Val Recall: 0.9228, Val F1: 0.8392\n"
     ]
    },
    {
     "name": "stderr",
     "output_type": "stream",
     "text": [
      "                                                                        \r"
     ]
    },
    {
     "name": "stdout",
     "output_type": "stream",
     "text": [
      "[INFO] Learning rate adjusted to: 0.006263\n",
      "[INFO] No improvement in val_f1. Patience: 1/5\n",
      "Epoch [12]: Train Loss: 0.3960, Train Acc: 0.8288 | Val Loss: 0.4359, Val Acc: 0.8035, Val Recall: 0.7683, Val F1: 0.8271\n"
     ]
    },
    {
     "name": "stderr",
     "output_type": "stream",
     "text": [
      "                                                                        \r"
     ]
    },
    {
     "name": "stdout",
     "output_type": "stream",
     "text": [
      "[INFO] Learning rate adjusted to: 0.006263\n",
      "[INFO] No improvement in val_f1. Patience: 2/5\n",
      "Epoch [13]: Train Loss: 0.3999, Train Acc: 0.8156 | Val Loss: 0.6785, Val Acc: 0.7289, Val Recall: 0.6016, Val F1: 0.7309\n"
     ]
    },
    {
     "name": "stderr",
     "output_type": "stream",
     "text": [
      "                                                                        \r"
     ]
    },
    {
     "name": "stdout",
     "output_type": "stream",
     "text": [
      "[INFO] Learning rate adjusted to: 0.006263\n",
      "[INFO] No improvement in val_f1. Patience: 3/5\n",
      "Epoch [14]: Train Loss: 0.3683, Train Acc: 0.8410 | Val Loss: 0.4526, Val Acc: 0.8060, Val Recall: 0.7480, Val F1: 0.8251\n"
     ]
    },
    {
     "name": "stderr",
     "output_type": "stream",
     "text": [
      "                                                                        \r"
     ]
    },
    {
     "name": "stdout",
     "output_type": "stream",
     "text": [
      "[INFO] Learning rate adjusted to: 0.003131\n",
      "[INFO] No improvement in val_f1. Patience: 4/5\n",
      "Epoch [15]: Train Loss: 0.3589, Train Acc: 0.8421 | Val Loss: 0.6065, Val Acc: 0.7637, Val Recall: 0.6545, Val F1: 0.7722\n"
     ]
    },
    {
     "name": "stderr",
     "output_type": "stream",
     "text": [
      "[I 2024-12-24 15:12:17,519] Trial 3 finished with value: 0.8251121076233184 and parameters: {'lr': 0.0062626809976417674, 'weight_decay': 5.5867247573147115e-05, 'optimizer': 'SGD'}. Best is trial 0 with value: 0.9437751004016064.\n"
     ]
    },
    {
     "name": "stdout",
     "output_type": "stream",
     "text": [
      "[INFO] Learning rate adjusted to: 0.003131\n",
      "[INFO] No improvement in val_f1. Patience: 5/5\n",
      "Epoch [16]: Train Loss: 0.3026, Train Acc: 0.8728 | Val Loss: 0.4370, Val Acc: 0.8060, Val Recall: 0.7480, Val F1: 0.8251\n",
      "[INFO] Final metrics saved to outputs/models/tuned\\final_metrics.json\n",
      "[INFO] Training stopped after 16 epochs. Best val_f1: 0.8392\n",
      "\n",
      "[INFO] Training completed!\n",
      "[INFO] Trial 3 - Final Validation F1: 0.8251\n",
      "[DEBUG] Starting trial 4...\n",
      "[DEBUG] Suggested hyperparameters: lr=0.000150778904157116, weight_decay=0.0002410908229082986, optimizer=SGD\n",
      "[DEBUG] Initializing convnext_tiny model...\n",
      "[DEBUG] Setting up optimizer...\n",
      "[INFO] Starting model training...\n",
      "\n",
      "Starting training...\n",
      "\n"
     ]
    },
    {
     "name": "stderr",
     "output_type": "stream",
     "text": [
      "                                                                       \r"
     ]
    },
    {
     "name": "stdout",
     "output_type": "stream",
     "text": [
      "[INFO] Learning rate adjusted to: 0.000151\n",
      "[INFO] Best model saved with val_f1: 0.7775\n",
      "Epoch [1]: Train Loss: 0.5768, Train Acc: 0.7266 | Val Loss: 0.4922, Val Acc: 0.7637, Val Recall: 0.6748, Val F1: 0.7775\n"
     ]
    },
    {
     "name": "stderr",
     "output_type": "stream",
     "text": [
      "                                                                       \r"
     ]
    },
    {
     "name": "stdout",
     "output_type": "stream",
     "text": [
      "[INFO] Learning rate adjusted to: 0.000151\n",
      "[INFO] Best model saved with val_f1: 0.8917\n",
      "Epoch [2]: Train Loss: 0.4226, Train Acc: 0.8278 | Val Loss: 0.3343, Val Acc: 0.8706, Val Recall: 0.8699, Val F1: 0.8917\n"
     ]
    },
    {
     "name": "stderr",
     "output_type": "stream",
     "text": [
      "                                                                       \r"
     ]
    },
    {
     "name": "stdout",
     "output_type": "stream",
     "text": [
      "[INFO] Learning rate adjusted to: 0.000151\n",
      "[INFO] Best model saved with val_f1: 0.8963\n",
      "Epoch [3]: Train Loss: 0.3324, Train Acc: 0.8649 | Val Loss: 0.2909, Val Acc: 0.8756, Val Recall: 0.8780, Val F1: 0.8963\n"
     ]
    },
    {
     "name": "stderr",
     "output_type": "stream",
     "text": [
      "                                                                       \r"
     ]
    },
    {
     "name": "stdout",
     "output_type": "stream",
     "text": [
      "[INFO] Learning rate adjusted to: 0.000151\n",
      "[INFO] Best model saved with val_f1: 0.9189\n",
      "Epoch [4]: Train Loss: 0.2800, Train Acc: 0.8908 | Val Loss: 0.2642, Val Acc: 0.9030, Val Recall: 0.8984, Val F1: 0.9189\n"
     ]
    },
    {
     "name": "stderr",
     "output_type": "stream",
     "text": [
      "                                                                       \r"
     ]
    },
    {
     "name": "stdout",
     "output_type": "stream",
     "text": [
      "[INFO] Learning rate adjusted to: 0.000151\n",
      "[INFO] Best model saved with val_f1: 0.9253\n",
      "Epoch [5]: Train Loss: 0.2674, Train Acc: 0.9014 | Val Loss: 0.2340, Val Acc: 0.9080, Val Recall: 0.9309, Val F1: 0.9253\n"
     ]
    },
    {
     "name": "stderr",
     "output_type": "stream",
     "text": [
      "                                                                       \r"
     ]
    },
    {
     "name": "stdout",
     "output_type": "stream",
     "text": [
      "[INFO] Learning rate adjusted to: 0.000151\n",
      "[INFO] No improvement in val_f1. Patience: 1/5\n",
      "Epoch [6]: Train Loss: 0.2313, Train Acc: 0.9126 | Val Loss: 0.2553, Val Acc: 0.8806, Val Recall: 0.8740, Val F1: 0.8996\n"
     ]
    },
    {
     "name": "stderr",
     "output_type": "stream",
     "text": [
      "                                                                       \r"
     ]
    },
    {
     "name": "stdout",
     "output_type": "stream",
     "text": [
      "[INFO] Learning rate adjusted to: 0.000151\n",
      "[INFO] Best model saved with val_f1: 0.9259\n",
      "Epoch [7]: Train Loss: 0.2364, Train Acc: 0.9020 | Val Loss: 0.2472, Val Acc: 0.9104, Val Recall: 0.9146, Val F1: 0.9259\n"
     ]
    },
    {
     "name": "stderr",
     "output_type": "stream",
     "text": [
      "                                                                       \r"
     ]
    },
    {
     "name": "stdout",
     "output_type": "stream",
     "text": [
      "[INFO] Learning rate adjusted to: 0.000151\n",
      "[INFO] Best model saved with val_f1: 0.9435\n",
      "Epoch [8]: Train Loss: 0.1950, Train Acc: 0.9306 | Val Loss: 0.2163, Val Acc: 0.9303, Val Recall: 0.9512, Val F1: 0.9435\n"
     ]
    },
    {
     "name": "stderr",
     "output_type": "stream",
     "text": [
      "                                                                       \r"
     ]
    },
    {
     "name": "stdout",
     "output_type": "stream",
     "text": [
      "[INFO] Learning rate adjusted to: 0.000151\n",
      "[INFO] No improvement in val_f1. Patience: 1/5\n",
      "Epoch [9]: Train Loss: 0.1435, Train Acc: 0.9550 | Val Loss: 0.2083, Val Acc: 0.9179, Val Recall: 0.9553, Val F1: 0.9344\n"
     ]
    },
    {
     "name": "stderr",
     "output_type": "stream",
     "text": [
      "                                                                        \r"
     ]
    },
    {
     "name": "stdout",
     "output_type": "stream",
     "text": [
      "[INFO] Learning rate adjusted to: 0.000151\n",
      "[INFO] No improvement in val_f1. Patience: 2/5\n",
      "Epoch [10]: Train Loss: 0.1353, Train Acc: 0.9475 | Val Loss: 0.2847, Val Acc: 0.8881, Val Recall: 0.8984, Val F1: 0.9076\n"
     ]
    },
    {
     "name": "stderr",
     "output_type": "stream",
     "text": [
      "                                                                        \r"
     ]
    },
    {
     "name": "stdout",
     "output_type": "stream",
     "text": [
      "[INFO] Learning rate adjusted to: 0.000151\n",
      "[INFO] No improvement in val_f1. Patience: 3/5\n",
      "Epoch [11]: Train Loss: 0.1696, Train Acc: 0.9391 | Val Loss: 0.2011, Val Acc: 0.9204, Val Recall: 0.9390, Val F1: 0.9352\n"
     ]
    },
    {
     "name": "stderr",
     "output_type": "stream",
     "text": [
      "                                                                        \r"
     ]
    },
    {
     "name": "stdout",
     "output_type": "stream",
     "text": [
      "[INFO] Learning rate adjusted to: 0.000075\n",
      "[INFO] No improvement in val_f1. Patience: 4/5\n",
      "Epoch [12]: Train Loss: 0.1534, Train Acc: 0.9465 | Val Loss: 0.2253, Val Acc: 0.9179, Val Recall: 0.9390, Val F1: 0.9333\n"
     ]
    },
    {
     "name": "stderr",
     "output_type": "stream",
     "text": [
      "[I 2024-12-24 15:19:28,092] Trial 4 finished with value: 0.9426229508196722 and parameters: {'lr': 0.000150778904157116, 'weight_decay': 0.0002410908229082986, 'optimizer': 'SGD'}. Best is trial 0 with value: 0.9437751004016064.\n"
     ]
    },
    {
     "name": "stdout",
     "output_type": "stream",
     "text": [
      "[INFO] Learning rate adjusted to: 0.000075\n",
      "[INFO] No improvement in val_f1. Patience: 5/5\n",
      "Epoch [13]: Train Loss: 0.1051, Train Acc: 0.9645 | Val Loss: 0.2088, Val Acc: 0.9303, Val Recall: 0.9350, Val F1: 0.9426\n",
      "[INFO] Final metrics saved to outputs/models/tuned\\final_metrics.json\n",
      "[INFO] Training stopped after 13 epochs. Best val_f1: 0.9435\n",
      "\n",
      "[INFO] Training completed!\n",
      "[INFO] Trial 4 - Final Validation F1: 0.9426\n",
      "[DEBUG] Starting trial 5...\n",
      "[DEBUG] Suggested hyperparameters: lr=0.00019565362784423673, weight_decay=0.00010844788237580518, optimizer=SGD\n",
      "[DEBUG] Initializing convnext_tiny model...\n",
      "[DEBUG] Setting up optimizer...\n",
      "[INFO] Starting model training...\n",
      "\n",
      "Starting training...\n",
      "\n"
     ]
    },
    {
     "name": "stderr",
     "output_type": "stream",
     "text": [
      "                                                                       \r"
     ]
    },
    {
     "name": "stdout",
     "output_type": "stream",
     "text": [
      "[INFO] Learning rate adjusted to: 0.000196\n",
      "[INFO] Best model saved with val_f1: 0.8854\n",
      "Epoch [1]: Train Loss: 0.5490, Train Acc: 0.7483 | Val Loss: 0.3667, Val Acc: 0.8532, Val Recall: 0.9268, Val F1: 0.8854\n"
     ]
    },
    {
     "name": "stderr",
     "output_type": "stream",
     "text": [
      "                                                                       \r"
     ]
    },
    {
     "name": "stdout",
     "output_type": "stream",
     "text": [
      "[INFO] Learning rate adjusted to: 0.000196\n",
      "[INFO] No improvement in val_f1. Patience: 1/5\n",
      "Epoch [2]: Train Loss: 0.3475, Train Acc: 0.8580 | Val Loss: 0.3871, Val Acc: 0.8358, Val Recall: 0.9268, Val F1: 0.8736\n"
     ]
    },
    {
     "name": "stderr",
     "output_type": "stream",
     "text": [
      "                                                                       \r"
     ]
    },
    {
     "name": "stdout",
     "output_type": "stream",
     "text": [
      "[INFO] Learning rate adjusted to: 0.000196\n",
      "[INFO] Best model saved with val_f1: 0.9130\n",
      "Epoch [3]: Train Loss: 0.2928, Train Acc: 0.8861 | Val Loss: 0.2699, Val Acc: 0.8905, Val Recall: 0.9390, Val F1: 0.9130\n"
     ]
    },
    {
     "name": "stderr",
     "output_type": "stream",
     "text": [
      "                                                                       \r"
     ]
    },
    {
     "name": "stdout",
     "output_type": "stream",
     "text": [
      "[INFO] Learning rate adjusted to: 0.000196\n",
      "[INFO] No improvement in val_f1. Patience: 1/5\n",
      "Epoch [4]: Train Loss: 0.2891, Train Acc: 0.8940 | Val Loss: 0.3095, Val Acc: 0.8756, Val Recall: 0.8659, Val F1: 0.8950\n"
     ]
    },
    {
     "name": "stderr",
     "output_type": "stream",
     "text": [
      "                                                                       \r"
     ]
    },
    {
     "name": "stdout",
     "output_type": "stream",
     "text": [
      "[INFO] Learning rate adjusted to: 0.000196\n",
      "[INFO] No improvement in val_f1. Patience: 2/5\n",
      "Epoch [5]: Train Loss: 0.2233, Train Acc: 0.9184 | Val Loss: 0.2653, Val Acc: 0.8905, Val Recall: 0.9187, Val F1: 0.9113\n"
     ]
    },
    {
     "name": "stderr",
     "output_type": "stream",
     "text": [
      "                                                                       \r"
     ]
    },
    {
     "name": "stdout",
     "output_type": "stream",
     "text": [
      "[INFO] Learning rate adjusted to: 0.000196\n",
      "[INFO] Best model saved with val_f1: 0.9137\n",
      "Epoch [6]: Train Loss: 0.2104, Train Acc: 0.9242 | Val Loss: 0.2801, Val Acc: 0.8905, Val Recall: 0.9472, Val F1: 0.9137\n"
     ]
    },
    {
     "name": "stderr",
     "output_type": "stream",
     "text": [
      "                                                                       \r"
     ]
    },
    {
     "name": "stdout",
     "output_type": "stream",
     "text": [
      "[INFO] Learning rate adjusted to: 0.000196\n",
      "[INFO] No improvement in val_f1. Patience: 1/5\n",
      "Epoch [7]: Train Loss: 0.2081, Train Acc: 0.9232 | Val Loss: 0.2825, Val Acc: 0.8756, Val Recall: 0.9715, Val F1: 0.9053\n"
     ]
    },
    {
     "name": "stderr",
     "output_type": "stream",
     "text": [
      "                                                                       \r"
     ]
    },
    {
     "name": "stdout",
     "output_type": "stream",
     "text": [
      "[INFO] Learning rate adjusted to: 0.000196\n",
      "[INFO] Best model saved with val_f1: 0.9271\n",
      "Epoch [8]: Train Loss: 0.1746, Train Acc: 0.9364 | Val Loss: 0.2110, Val Acc: 0.9104, Val Recall: 0.9309, Val F1: 0.9271\n"
     ]
    },
    {
     "name": "stderr",
     "output_type": "stream",
     "text": [
      "                                                                       \r"
     ]
    },
    {
     "name": "stdout",
     "output_type": "stream",
     "text": [
      "[INFO] Learning rate adjusted to: 0.000196\n",
      "[INFO] No improvement in val_f1. Patience: 1/5\n",
      "Epoch [9]: Train Loss: 0.1659, Train Acc: 0.9417 | Val Loss: 0.2861, Val Acc: 0.9005, Val Recall: 0.9106, Val F1: 0.9180\n"
     ]
    },
    {
     "name": "stderr",
     "output_type": "stream",
     "text": [
      "                                                                        \r"
     ]
    },
    {
     "name": "stdout",
     "output_type": "stream",
     "text": [
      "[INFO] Learning rate adjusted to: 0.000196\n",
      "[INFO] Best model saved with val_f1: 0.9360\n",
      "Epoch [10]: Train Loss: 0.1359, Train Acc: 0.9518 | Val Loss: 0.2324, Val Acc: 0.9204, Val Recall: 0.9512, Val F1: 0.9360\n"
     ]
    },
    {
     "name": "stderr",
     "output_type": "stream",
     "text": [
      "                                                                        \r"
     ]
    },
    {
     "name": "stdout",
     "output_type": "stream",
     "text": [
      "[INFO] Learning rate adjusted to: 0.000196\n",
      "[INFO] No improvement in val_f1. Patience: 1/5\n",
      "Epoch [11]: Train Loss: 0.1696, Train Acc: 0.9369 | Val Loss: 0.2534, Val Acc: 0.9154, Val Recall: 0.9065, Val F1: 0.9292\n"
     ]
    },
    {
     "name": "stderr",
     "output_type": "stream",
     "text": [
      "                                                                        \r"
     ]
    },
    {
     "name": "stdout",
     "output_type": "stream",
     "text": [
      "[INFO] Learning rate adjusted to: 0.000196\n",
      "[INFO] No improvement in val_f1. Patience: 2/5\n",
      "Epoch [12]: Train Loss: 0.1266, Train Acc: 0.9608 | Val Loss: 0.2399, Val Acc: 0.9179, Val Recall: 0.9146, Val F1: 0.9317\n"
     ]
    },
    {
     "name": "stderr",
     "output_type": "stream",
     "text": [
      "                                                                        \r"
     ]
    },
    {
     "name": "stdout",
     "output_type": "stream",
     "text": [
      "[INFO] Learning rate adjusted to: 0.000196\n",
      "[INFO] No improvement in val_f1. Patience: 3/5\n",
      "Epoch [13]: Train Loss: 0.1113, Train Acc: 0.9618 | Val Loss: 0.2241, Val Acc: 0.9179, Val Recall: 0.9309, Val F1: 0.9328\n"
     ]
    },
    {
     "name": "stderr",
     "output_type": "stream",
     "text": [
      "                                                                        \r"
     ]
    },
    {
     "name": "stdout",
     "output_type": "stream",
     "text": [
      "[INFO] Learning rate adjusted to: 0.000098\n",
      "[INFO] No improvement in val_f1. Patience: 4/5\n",
      "Epoch [14]: Train Loss: 0.1113, Train Acc: 0.9624 | Val Loss: 0.2664, Val Acc: 0.8980, Val Recall: 0.9309, Val F1: 0.9178\n"
     ]
    },
    {
     "name": "stderr",
     "output_type": "stream",
     "text": [
      "                                                                        \r"
     ]
    },
    {
     "name": "stdout",
     "output_type": "stream",
     "text": [
      "[INFO] Learning rate adjusted to: 0.000098\n",
      "[INFO] Best model saved with val_f1: 0.9379\n",
      "Epoch [15]: Train Loss: 0.0795, Train Acc: 0.9709 | Val Loss: 0.2364, Val Acc: 0.9229, Val Recall: 0.9512, Val F1: 0.9379\n"
     ]
    },
    {
     "name": "stderr",
     "output_type": "stream",
     "text": [
      "                                                                        \r"
     ]
    },
    {
     "name": "stdout",
     "output_type": "stream",
     "text": [
      "[INFO] Learning rate adjusted to: 0.000098\n",
      "[INFO] No improvement in val_f1. Patience: 1/5\n",
      "Epoch [16]: Train Loss: 0.0645, Train Acc: 0.9793 | Val Loss: 0.2257, Val Acc: 0.9154, Val Recall: 0.9228, Val F1: 0.9303\n"
     ]
    },
    {
     "name": "stderr",
     "output_type": "stream",
     "text": [
      "                                                                        \r"
     ]
    },
    {
     "name": "stdout",
     "output_type": "stream",
     "text": [
      "[INFO] Learning rate adjusted to: 0.000098\n",
      "[INFO] Best model saved with val_f1: 0.9472\n",
      "Epoch [17]: Train Loss: 0.0615, Train Acc: 0.9777 | Val Loss: 0.2435, Val Acc: 0.9353, Val Recall: 0.9472, Val F1: 0.9472\n"
     ]
    },
    {
     "name": "stderr",
     "output_type": "stream",
     "text": [
      "                                                                        \r"
     ]
    },
    {
     "name": "stdout",
     "output_type": "stream",
     "text": [
      "[INFO] Learning rate adjusted to: 0.000098\n",
      "[INFO] No improvement in val_f1. Patience: 1/5\n",
      "Epoch [18]: Train Loss: 0.0596, Train Acc: 0.9809 | Val Loss: 0.3117, Val Acc: 0.9179, Val Recall: 0.9106, Val F1: 0.9314\n"
     ]
    },
    {
     "name": "stderr",
     "output_type": "stream",
     "text": [
      "                                                                        \r"
     ]
    },
    {
     "name": "stdout",
     "output_type": "stream",
     "text": [
      "[INFO] Learning rate adjusted to: 0.000098\n",
      "[INFO] No improvement in val_f1. Patience: 2/5\n",
      "Epoch [19]: Train Loss: 0.0562, Train Acc: 0.9788 | Val Loss: 0.2565, Val Acc: 0.9254, Val Recall: 0.9390, Val F1: 0.9390\n"
     ]
    },
    {
     "name": "stderr",
     "output_type": "stream",
     "text": [
      "                                                                        \r"
     ]
    },
    {
     "name": "stdout",
     "output_type": "stream",
     "text": [
      "[INFO] Learning rate adjusted to: 0.000098\n",
      "[INFO] No improvement in val_f1. Patience: 3/5\n",
      "Epoch [20]: Train Loss: 0.0659, Train Acc: 0.9815 | Val Loss: 0.3503, Val Acc: 0.9154, Val Recall: 0.9715, Val F1: 0.9336\n"
     ]
    },
    {
     "name": "stderr",
     "output_type": "stream",
     "text": [
      "                                                                        \r"
     ]
    },
    {
     "name": "stdout",
     "output_type": "stream",
     "text": [
      "[INFO] Learning rate adjusted to: 0.000049\n",
      "[INFO] No improvement in val_f1. Patience: 4/5\n",
      "Epoch [21]: Train Loss: 0.0600, Train Acc: 0.9820 | Val Loss: 0.2595, Val Acc: 0.9279, Val Recall: 0.9309, Val F1: 0.9405\n"
     ]
    },
    {
     "name": "stderr",
     "output_type": "stream",
     "text": [
      "[I 2024-12-24 15:31:39,692] Trial 5 finished with value: 0.9373737373737374 and parameters: {'lr': 0.00019565362784423673, 'weight_decay': 0.00010844788237580518, 'optimizer': 'SGD'}. Best is trial 0 with value: 0.9437751004016064.\n"
     ]
    },
    {
     "name": "stdout",
     "output_type": "stream",
     "text": [
      "[INFO] Learning rate adjusted to: 0.000049\n",
      "[INFO] No improvement in val_f1. Patience: 5/5\n",
      "Epoch [22]: Train Loss: 0.0454, Train Acc: 0.9889 | Val Loss: 0.2762, Val Acc: 0.9229, Val Recall: 0.9431, Val F1: 0.9374\n",
      "[INFO] Final metrics saved to outputs/models/tuned\\final_metrics.json\n",
      "[INFO] Training stopped after 22 epochs. Best val_f1: 0.9472\n",
      "\n",
      "[INFO] Training completed!\n",
      "[INFO] Trial 5 - Final Validation F1: 0.9374\n",
      "[DEBUG] Starting trial 6...\n",
      "[DEBUG] Suggested hyperparameters: lr=0.00014167693680645582, weight_decay=0.0007779232712452263, optimizer=SGD\n",
      "[DEBUG] Initializing convnext_tiny model...\n",
      "[DEBUG] Setting up optimizer...\n",
      "[INFO] Starting model training...\n",
      "\n",
      "Starting training...\n",
      "\n"
     ]
    },
    {
     "name": "stderr",
     "output_type": "stream",
     "text": [
      "                                                                       \r"
     ]
    },
    {
     "name": "stdout",
     "output_type": "stream",
     "text": [
      "[INFO] Learning rate adjusted to: 0.000142\n",
      "[INFO] Best model saved with val_f1: 0.8369\n",
      "Epoch [1]: Train Loss: 0.6082, Train Acc: 0.7032 | Val Loss: 0.4707, Val Acc: 0.7886, Val Recall: 0.8862, Val F1: 0.8369\n"
     ]
    },
    {
     "name": "stderr",
     "output_type": "stream",
     "text": [
      "                                                                       \r"
     ]
    },
    {
     "name": "stdout",
     "output_type": "stream",
     "text": [
      "[INFO] Learning rate adjusted to: 0.000142\n",
      "[INFO] Best model saved with val_f1: 0.9010\n",
      "Epoch [2]: Train Loss: 0.3885, Train Acc: 0.8511 | Val Loss: 0.3193, Val Acc: 0.8781, Val Recall: 0.9065, Val F1: 0.9010\n"
     ]
    },
    {
     "name": "stderr",
     "output_type": "stream",
     "text": [
      "                                                                       \r"
     ]
    },
    {
     "name": "stdout",
     "output_type": "stream",
     "text": [
      "[INFO] Learning rate adjusted to: 0.000142\n",
      "[INFO] No improvement in val_f1. Patience: 1/5\n",
      "Epoch [3]: Train Loss: 0.2988, Train Acc: 0.8829 | Val Loss: 0.3384, Val Acc: 0.8458, Val Recall: 0.9675, Val F1: 0.8848\n"
     ]
    },
    {
     "name": "stderr",
     "output_type": "stream",
     "text": [
      "                                                                       \r"
     ]
    },
    {
     "name": "stdout",
     "output_type": "stream",
     "text": [
      "[INFO] Learning rate adjusted to: 0.000142\n",
      "[INFO] Best model saved with val_f1: 0.9155\n",
      "Epoch [4]: Train Loss: 0.2648, Train Acc: 0.9073 | Val Loss: 0.2676, Val Acc: 0.8930, Val Recall: 0.9472, Val F1: 0.9155\n"
     ]
    },
    {
     "name": "stderr",
     "output_type": "stream",
     "text": [
      "                                                                       \r"
     ]
    },
    {
     "name": "stdout",
     "output_type": "stream",
     "text": [
      "[INFO] Learning rate adjusted to: 0.000142\n",
      "[INFO] No improvement in val_f1. Patience: 1/5\n",
      "Epoch [5]: Train Loss: 0.2610, Train Acc: 0.9009 | Val Loss: 0.2779, Val Acc: 0.8881, Val Recall: 0.9228, Val F1: 0.9098\n"
     ]
    },
    {
     "name": "stderr",
     "output_type": "stream",
     "text": [
      "                                                                       \r"
     ]
    },
    {
     "name": "stdout",
     "output_type": "stream",
     "text": [
      "[INFO] Learning rate adjusted to: 0.000142\n",
      "[INFO] No improvement in val_f1. Patience: 2/5\n",
      "Epoch [6]: Train Loss: 0.2429, Train Acc: 0.9120 | Val Loss: 0.3582, Val Acc: 0.8657, Val Recall: 0.8496, Val F1: 0.8856\n"
     ]
    },
    {
     "name": "stderr",
     "output_type": "stream",
     "text": [
      "                                                                       \r"
     ]
    },
    {
     "name": "stdout",
     "output_type": "stream",
     "text": [
      "[INFO] Learning rate adjusted to: 0.000142\n",
      "[INFO] Best model saved with val_f1: 0.9224\n",
      "Epoch [7]: Train Loss: 0.1907, Train Acc: 0.9295 | Val Loss: 0.2509, Val Acc: 0.9080, Val Recall: 0.8943, Val F1: 0.9224\n"
     ]
    },
    {
     "name": "stderr",
     "output_type": "stream",
     "text": [
      "                                                                       \r"
     ]
    },
    {
     "name": "stdout",
     "output_type": "stream",
     "text": [
      "[INFO] Learning rate adjusted to: 0.000142\n",
      "[INFO] Best model saved with val_f1: 0.9294\n",
      "Epoch [8]: Train Loss: 0.1840, Train Acc: 0.9311 | Val Loss: 0.2455, Val Acc: 0.9104, Val Recall: 0.9634, Val F1: 0.9294\n"
     ]
    },
    {
     "name": "stderr",
     "output_type": "stream",
     "text": [
      "                                                                       \r"
     ]
    },
    {
     "name": "stdout",
     "output_type": "stream",
     "text": [
      "[INFO] Learning rate adjusted to: 0.000142\n",
      "[INFO] No improvement in val_f1. Patience: 1/5\n",
      "Epoch [9]: Train Loss: 0.1959, Train Acc: 0.9210 | Val Loss: 0.2334, Val Acc: 0.9030, Val Recall: 0.9472, Val F1: 0.9228\n"
     ]
    },
    {
     "name": "stderr",
     "output_type": "stream",
     "text": [
      "                                                                        \r"
     ]
    },
    {
     "name": "stdout",
     "output_type": "stream",
     "text": [
      "[INFO] Learning rate adjusted to: 0.000142\n",
      "[INFO] No improvement in val_f1. Patience: 2/5\n",
      "Epoch [10]: Train Loss: 0.1967, Train Acc: 0.9322 | Val Loss: 0.2530, Val Acc: 0.9104, Val Recall: 0.9431, Val F1: 0.9280\n"
     ]
    },
    {
     "name": "stderr",
     "output_type": "stream",
     "text": [
      "                                                                        \r"
     ]
    },
    {
     "name": "stdout",
     "output_type": "stream",
     "text": [
      "[INFO] Learning rate adjusted to: 0.000142\n",
      "[INFO] No improvement in val_f1. Patience: 3/5\n",
      "Epoch [11]: Train Loss: 0.1335, Train Acc: 0.9555 | Val Loss: 0.2502, Val Acc: 0.9129, Val Recall: 0.9268, Val F1: 0.9287\n"
     ]
    },
    {
     "name": "stderr",
     "output_type": "stream",
     "text": [
      "                                                                        \r"
     ]
    },
    {
     "name": "stdout",
     "output_type": "stream",
     "text": [
      "[INFO] Learning rate adjusted to: 0.000142\n",
      "[INFO] Best model saved with val_f1: 0.9312\n",
      "Epoch [12]: Train Loss: 0.1319, Train Acc: 0.9581 | Val Loss: 0.2133, Val Acc: 0.9154, Val Recall: 0.9350, Val F1: 0.9312\n"
     ]
    },
    {
     "name": "stderr",
     "output_type": "stream",
     "text": [
      "                                                                        \r"
     ]
    },
    {
     "name": "stdout",
     "output_type": "stream",
     "text": [
      "[INFO] Learning rate adjusted to: 0.000142\n",
      "[INFO] Best model saved with val_f1: 0.9373\n",
      "Epoch [13]: Train Loss: 0.1086, Train Acc: 0.9640 | Val Loss: 0.2440, Val Acc: 0.9204, Val Recall: 0.9715, Val F1: 0.9373\n"
     ]
    },
    {
     "name": "stderr",
     "output_type": "stream",
     "text": [
      "                                                                        \r"
     ]
    },
    {
     "name": "stdout",
     "output_type": "stream",
     "text": [
      "[INFO] Learning rate adjusted to: 0.000142\n",
      "[INFO] No improvement in val_f1. Patience: 1/5\n",
      "Epoch [14]: Train Loss: 0.1315, Train Acc: 0.9534 | Val Loss: 0.2535, Val Acc: 0.9030, Val Recall: 0.8984, Val F1: 0.9189\n"
     ]
    },
    {
     "name": "stderr",
     "output_type": "stream",
     "text": [
      "                                                                        \r"
     ]
    },
    {
     "name": "stdout",
     "output_type": "stream",
     "text": [
      "[INFO] Learning rate adjusted to: 0.000142\n",
      "[INFO] No improvement in val_f1. Patience: 2/5\n",
      "Epoch [15]: Train Loss: 0.1065, Train Acc: 0.9645 | Val Loss: 0.2240, Val Acc: 0.9229, Val Recall: 0.9228, Val F1: 0.9361\n"
     ]
    },
    {
     "name": "stderr",
     "output_type": "stream",
     "text": [
      "                                                                        \r"
     ]
    },
    {
     "name": "stdout",
     "output_type": "stream",
     "text": [
      "[INFO] Learning rate adjusted to: 0.000142\n",
      "[INFO] No improvement in val_f1. Patience: 3/5\n",
      "Epoch [16]: Train Loss: 0.0953, Train Acc: 0.9714 | Val Loss: 0.2758, Val Acc: 0.9055, Val Recall: 0.9756, Val F1: 0.9266\n"
     ]
    },
    {
     "name": "stderr",
     "output_type": "stream",
     "text": [
      "                                                                        \r"
     ]
    },
    {
     "name": "stdout",
     "output_type": "stream",
     "text": [
      "[INFO] Learning rate adjusted to: 0.000071\n",
      "[INFO] No improvement in val_f1. Patience: 4/5\n",
      "Epoch [17]: Train Loss: 0.1131, Train Acc: 0.9560 | Val Loss: 0.2840, Val Acc: 0.9055, Val Recall: 0.9593, Val F1: 0.9255\n"
     ]
    },
    {
     "name": "stderr",
     "output_type": "stream",
     "text": [
      "[I 2024-12-24 15:41:34,577] Trial 6 finished with value: 0.936 and parameters: {'lr': 0.00014167693680645582, 'weight_decay': 0.0007779232712452263, 'optimizer': 'SGD'}. Best is trial 0 with value: 0.9437751004016064.\n"
     ]
    },
    {
     "name": "stdout",
     "output_type": "stream",
     "text": [
      "[INFO] Learning rate adjusted to: 0.000071\n",
      "[INFO] No improvement in val_f1. Patience: 5/5\n",
      "Epoch [18]: Train Loss: 0.0762, Train Acc: 0.9788 | Val Loss: 0.2572, Val Acc: 0.9204, Val Recall: 0.9512, Val F1: 0.9360\n",
      "[INFO] Final metrics saved to outputs/models/tuned\\final_metrics.json\n",
      "[INFO] Training stopped after 18 epochs. Best val_f1: 0.9373\n",
      "\n",
      "[INFO] Training completed!\n",
      "[INFO] Trial 6 - Final Validation F1: 0.9360\n",
      "[DEBUG] Starting trial 7...\n",
      "[DEBUG] Suggested hyperparameters: lr=0.0017401324040187565, weight_decay=0.0002676477690201454, optimizer=SGD\n",
      "[DEBUG] Initializing convnext_tiny model...\n",
      "[DEBUG] Setting up optimizer...\n",
      "[INFO] Starting model training...\n",
      "\n",
      "Starting training...\n",
      "\n"
     ]
    },
    {
     "name": "stderr",
     "output_type": "stream",
     "text": [
      "                                                                       \r"
     ]
    },
    {
     "name": "stdout",
     "output_type": "stream",
     "text": [
      "[INFO] Learning rate adjusted to: 0.001740\n",
      "[INFO] Best model saved with val_f1: 0.7227\n",
      "Epoch [1]: Train Loss: 0.6460, Train Acc: 0.6105 | Val Loss: 0.6080, Val Acc: 0.6716, Val Recall: 0.6992, Val F1: 0.7227\n"
     ]
    },
    {
     "name": "stderr",
     "output_type": "stream",
     "text": [
      "                                                                       \r"
     ]
    },
    {
     "name": "stdout",
     "output_type": "stream",
     "text": [
      "[INFO] Learning rate adjusted to: 0.001740\n",
      "[INFO] Best model saved with val_f1: 0.8200\n",
      "Epoch [2]: Train Loss: 0.5250, Train Acc: 0.7207 | Val Loss: 0.5414, Val Acc: 0.7587, Val Recall: 0.8984, Val F1: 0.8200\n"
     ]
    },
    {
     "name": "stderr",
     "output_type": "stream",
     "text": [
      "                                                                       \r"
     ]
    },
    {
     "name": "stdout",
     "output_type": "stream",
     "text": [
      "[INFO] Learning rate adjusted to: 0.001740\n",
      "[INFO] Best model saved with val_f1: 0.8675\n",
      "Epoch [3]: Train Loss: 0.4101, Train Acc: 0.8135 | Val Loss: 0.4105, Val Acc: 0.8358, Val Recall: 0.8780, Val F1: 0.8675\n"
     ]
    },
    {
     "name": "stderr",
     "output_type": "stream",
     "text": [
      "                                                                       \r"
     ]
    },
    {
     "name": "stdout",
     "output_type": "stream",
     "text": [
      "[INFO] Learning rate adjusted to: 0.001740\n",
      "[INFO] Best model saved with val_f1: 0.9084\n",
      "Epoch [4]: Train Loss: 0.3754, Train Acc: 0.8262 | Val Loss: 0.3156, Val Acc: 0.8831, Val Recall: 0.9472, Val F1: 0.9084\n"
     ]
    },
    {
     "name": "stderr",
     "output_type": "stream",
     "text": [
      "                                                                       \r"
     ]
    },
    {
     "name": "stdout",
     "output_type": "stream",
     "text": [
      "[INFO] Learning rate adjusted to: 0.001740\n",
      "[INFO] No improvement in val_f1. Patience: 1/5\n",
      "Epoch [5]: Train Loss: 0.3135, Train Acc: 0.8633 | Val Loss: 0.2896, Val Acc: 0.8731, Val Recall: 0.9634, Val F1: 0.9029\n"
     ]
    },
    {
     "name": "stderr",
     "output_type": "stream",
     "text": [
      "                                                                       \r"
     ]
    },
    {
     "name": "stdout",
     "output_type": "stream",
     "text": [
      "[INFO] Learning rate adjusted to: 0.001740\n",
      "[INFO] No improvement in val_f1. Patience: 2/5\n",
      "Epoch [6]: Train Loss: 0.3089, Train Acc: 0.8718 | Val Loss: 0.3298, Val Acc: 0.8507, Val Recall: 0.9593, Val F1: 0.8872\n"
     ]
    },
    {
     "name": "stderr",
     "output_type": "stream",
     "text": [
      "                                                                       \r"
     ]
    },
    {
     "name": "stdout",
     "output_type": "stream",
     "text": [
      "[INFO] Learning rate adjusted to: 0.001740\n",
      "[INFO] No improvement in val_f1. Patience: 3/5\n",
      "Epoch [7]: Train Loss: 0.2422, Train Acc: 0.9009 | Val Loss: 0.2951, Val Acc: 0.8806, Val Recall: 0.9634, Val F1: 0.9080\n"
     ]
    },
    {
     "name": "stderr",
     "output_type": "stream",
     "text": [
      "                                                                       \r"
     ]
    },
    {
     "name": "stdout",
     "output_type": "stream",
     "text": [
      "[INFO] Learning rate adjusted to: 0.000870\n",
      "[INFO] No improvement in val_f1. Patience: 4/5\n",
      "Epoch [8]: Train Loss: 0.2649, Train Acc: 0.8914 | Val Loss: 0.3021, Val Acc: 0.8607, Val Recall: 0.9431, Val F1: 0.8923\n"
     ]
    },
    {
     "name": "stderr",
     "output_type": "stream",
     "text": [
      "                                                                       \r"
     ]
    },
    {
     "name": "stdout",
     "output_type": "stream",
     "text": [
      "[INFO] Learning rate adjusted to: 0.000870\n",
      "[INFO] Best model saved with val_f1: 0.9339\n",
      "Epoch [9]: Train Loss: 0.1385, Train Acc: 0.9454 | Val Loss: 0.2152, Val Acc: 0.9179, Val Recall: 0.9472, Val F1: 0.9339\n"
     ]
    },
    {
     "name": "stderr",
     "output_type": "stream",
     "text": [
      "                                                                        \r"
     ]
    },
    {
     "name": "stdout",
     "output_type": "stream",
     "text": [
      "[INFO] Learning rate adjusted to: 0.000870\n",
      "[INFO] No improvement in val_f1. Patience: 1/5\n",
      "Epoch [10]: Train Loss: 0.1273, Train Acc: 0.9459 | Val Loss: 0.2604, Val Acc: 0.8980, Val Recall: 0.9268, Val F1: 0.9175\n"
     ]
    },
    {
     "name": "stderr",
     "output_type": "stream",
     "text": [
      "                                                                        \r"
     ]
    },
    {
     "name": "stdout",
     "output_type": "stream",
     "text": [
      "[INFO] Learning rate adjusted to: 0.000870\n",
      "[INFO] No improvement in val_f1. Patience: 2/5\n",
      "Epoch [11]: Train Loss: 0.1214, Train Acc: 0.9507 | Val Loss: 0.3086, Val Acc: 0.8930, Val Recall: 0.9472, Val F1: 0.9155\n"
     ]
    },
    {
     "name": "stderr",
     "output_type": "stream",
     "text": [
      "                                                                        \r"
     ]
    },
    {
     "name": "stdout",
     "output_type": "stream",
     "text": [
      "[INFO] Learning rate adjusted to: 0.000870\n",
      "[INFO] Best model saved with val_f1: 0.9405\n",
      "Epoch [12]: Train Loss: 0.1046, Train Acc: 0.9608 | Val Loss: 0.2502, Val Acc: 0.9279, Val Recall: 0.9309, Val F1: 0.9405\n"
     ]
    },
    {
     "name": "stderr",
     "output_type": "stream",
     "text": [
      "                                                                        \r"
     ]
    },
    {
     "name": "stdout",
     "output_type": "stream",
     "text": [
      "[INFO] Learning rate adjusted to: 0.000870\n",
      "[INFO] Best model saved with val_f1: 0.9433\n",
      "Epoch [13]: Train Loss: 0.0962, Train Acc: 0.9661 | Val Loss: 0.2670, Val Acc: 0.9303, Val Recall: 0.9472, Val F1: 0.9433\n"
     ]
    },
    {
     "name": "stderr",
     "output_type": "stream",
     "text": [
      "                                                                        \r"
     ]
    },
    {
     "name": "stdout",
     "output_type": "stream",
     "text": [
      "[INFO] Learning rate adjusted to: 0.000870\n",
      "[INFO] No improvement in val_f1. Patience: 1/5\n",
      "Epoch [14]: Train Loss: 0.1018, Train Acc: 0.9603 | Val Loss: 0.2382, Val Acc: 0.9055, Val Recall: 0.9106, Val F1: 0.9218\n"
     ]
    },
    {
     "name": "stderr",
     "output_type": "stream",
     "text": [
      "                                                                        \r"
     ]
    },
    {
     "name": "stdout",
     "output_type": "stream",
     "text": [
      "[INFO] Learning rate adjusted to: 0.000870\n",
      "[INFO] No improvement in val_f1. Patience: 2/5\n",
      "Epoch [15]: Train Loss: 0.0660, Train Acc: 0.9788 | Val Loss: 0.3017, Val Acc: 0.9055, Val Recall: 0.8780, Val F1: 0.9191\n"
     ]
    },
    {
     "name": "stderr",
     "output_type": "stream",
     "text": [
      "                                                                        \r"
     ]
    },
    {
     "name": "stdout",
     "output_type": "stream",
     "text": [
      "[INFO] Learning rate adjusted to: 0.000870\n",
      "[INFO] No improvement in val_f1. Patience: 3/5\n",
      "Epoch [16]: Train Loss: 0.1144, Train Acc: 0.9550 | Val Loss: 0.2663, Val Acc: 0.9104, Val Recall: 0.9390, Val F1: 0.9277\n"
     ]
    },
    {
     "name": "stderr",
     "output_type": "stream",
     "text": [
      "                                                                        \r"
     ]
    },
    {
     "name": "stdout",
     "output_type": "stream",
     "text": [
      "[INFO] Learning rate adjusted to: 0.000435\n",
      "[INFO] No improvement in val_f1. Patience: 4/5\n",
      "Epoch [17]: Train Loss: 0.0532, Train Acc: 0.9852 | Val Loss: 0.3385, Val Acc: 0.9104, Val Recall: 0.9512, Val F1: 0.9286\n"
     ]
    },
    {
     "name": "stderr",
     "output_type": "stream",
     "text": [
      "[I 2024-12-24 15:51:50,602] Trial 7 finished with value: 0.9418837675350702 and parameters: {'lr': 0.0017401324040187565, 'weight_decay': 0.0002676477690201454, 'optimizer': 'SGD'}. Best is trial 0 with value: 0.9437751004016064.\n"
     ]
    },
    {
     "name": "stdout",
     "output_type": "stream",
     "text": [
      "[INFO] Learning rate adjusted to: 0.000435\n",
      "[INFO] No improvement in val_f1. Patience: 5/5\n",
      "Epoch [18]: Train Loss: 0.0423, Train Acc: 0.9852 | Val Loss: 0.2872, Val Acc: 0.9279, Val Recall: 0.9553, Val F1: 0.9419\n",
      "[INFO] Final metrics saved to outputs/models/tuned\\final_metrics.json\n",
      "[INFO] Training stopped after 18 epochs. Best val_f1: 0.9433\n",
      "\n",
      "[INFO] Training completed!\n",
      "[INFO] Trial 7 - Final Validation F1: 0.9419\n",
      "[DEBUG] Starting trial 8...\n",
      "[DEBUG] Suggested hyperparameters: lr=0.0007880297578802701, weight_decay=4.281443073448673e-05, optimizer=AdamW\n",
      "[DEBUG] Initializing convnext_tiny model...\n",
      "[DEBUG] Setting up optimizer...\n",
      "[INFO] Starting model training...\n",
      "\n",
      "Starting training...\n",
      "\n"
     ]
    },
    {
     "name": "stderr",
     "output_type": "stream",
     "text": [
      "                                                                       \r"
     ]
    },
    {
     "name": "stdout",
     "output_type": "stream",
     "text": [
      "[INFO] Learning rate adjusted to: 0.000788\n",
      "[INFO] Best model saved with val_f1: 0.6682\n",
      "Epoch [1]: Train Loss: 0.6626, Train Acc: 0.6063 | Val Loss: 0.5856, Val Acc: 0.6343, Val Recall: 0.6016, Val F1: 0.6682\n"
     ]
    },
    {
     "name": "stderr",
     "output_type": "stream",
     "text": [
      "                                                                       \r"
     ]
    },
    {
     "name": "stdout",
     "output_type": "stream",
     "text": [
      "[INFO] Learning rate adjusted to: 0.000788\n",
      "[INFO] No improvement in val_f1. Patience: 1/5\n",
      "Epoch [2]: Train Loss: 0.6439, Train Acc: 0.6343 | Val Loss: 0.6350, Val Acc: 0.6343, Val Recall: 0.5244, Val F1: 0.6370\n"
     ]
    },
    {
     "name": "stderr",
     "output_type": "stream",
     "text": [
      "                                                                       \r"
     ]
    },
    {
     "name": "stdout",
     "output_type": "stream",
     "text": [
      "[INFO] Learning rate adjusted to: 0.000788\n",
      "[INFO] Best model saved with val_f1: 0.7250\n",
      "Epoch [3]: Train Loss: 0.6262, Train Acc: 0.6142 | Val Loss: 0.6707, Val Acc: 0.6169, Val Recall: 0.8252, Val F1: 0.7250\n"
     ]
    },
    {
     "name": "stderr",
     "output_type": "stream",
     "text": [
      "                                                                       \r"
     ]
    },
    {
     "name": "stdout",
     "output_type": "stream",
     "text": [
      "[INFO] Learning rate adjusted to: 0.000788\n",
      "[INFO] Best model saved with val_f1: 0.7593\n",
      "Epoch [4]: Train Loss: 0.6847, Train Acc: 0.5713 | Val Loss: 0.6676, Val Acc: 0.6119, Val Recall: 1.0000, Val F1: 0.7593\n"
     ]
    },
    {
     "name": "stderr",
     "output_type": "stream",
     "text": [
      "                                                                       \r"
     ]
    },
    {
     "name": "stdout",
     "output_type": "stream",
     "text": [
      "[INFO] Learning rate adjusted to: 0.000788\n",
      "[INFO] No improvement in val_f1. Patience: 1/5\n",
      "Epoch [5]: Train Loss: 0.6912, Train Acc: 0.5305 | Val Loss: 0.6736, Val Acc: 0.6119, Val Recall: 1.0000, Val F1: 0.7593\n"
     ]
    },
    {
     "name": "stderr",
     "output_type": "stream",
     "text": [
      "                                                                       \r"
     ]
    },
    {
     "name": "stdout",
     "output_type": "stream",
     "text": [
      "[INFO] Learning rate adjusted to: 0.000788\n",
      "[INFO] No improvement in val_f1. Patience: 2/5\n",
      "Epoch [6]: Train Loss: 0.6811, Train Acc: 0.5792 | Val Loss: 0.6759, Val Acc: 0.6119, Val Recall: 1.0000, Val F1: 0.7593\n"
     ]
    },
    {
     "name": "stderr",
     "output_type": "stream",
     "text": [
      "                                                                       \r"
     ]
    },
    {
     "name": "stdout",
     "output_type": "stream",
     "text": [
      "[INFO] Learning rate adjusted to: 0.000788\n",
      "[INFO] No improvement in val_f1. Patience: 3/5\n",
      "Epoch [7]: Train Loss: 0.6894, Train Acc: 0.5469 | Val Loss: 0.6839, Val Acc: 0.6119, Val Recall: 1.0000, Val F1: 0.7593\n"
     ]
    },
    {
     "name": "stderr",
     "output_type": "stream",
     "text": [
      "                                                                       \r"
     ]
    },
    {
     "name": "stdout",
     "output_type": "stream",
     "text": [
      "[INFO] Learning rate adjusted to: 0.000394\n",
      "[INFO] No improvement in val_f1. Patience: 4/5\n",
      "Epoch [8]: Train Loss: 0.6659, Train Acc: 0.5904 | Val Loss: 0.6117, Val Acc: 0.6542, Val Recall: 0.7805, Val F1: 0.7342\n"
     ]
    },
    {
     "name": "stderr",
     "output_type": "stream",
     "text": [
      "[I 2024-12-24 15:57:07,246] Trial 8 finished with value: 0.6852248394004282 and parameters: {'lr': 0.0007880297578802701, 'weight_decay': 4.281443073448673e-05, 'optimizer': 'AdamW'}. Best is trial 0 with value: 0.9437751004016064.\n"
     ]
    },
    {
     "name": "stdout",
     "output_type": "stream",
     "text": [
      "[INFO] Learning rate adjusted to: 0.000394\n",
      "[INFO] No improvement in val_f1. Patience: 5/5\n",
      "Epoch [9]: Train Loss: 0.6311, Train Acc: 0.6349 | Val Loss: 0.5816, Val Acc: 0.6343, Val Recall: 0.6504, Val F1: 0.6852\n",
      "[INFO] Final metrics saved to outputs/models/tuned\\final_metrics.json\n",
      "[INFO] Training stopped after 9 epochs. Best val_f1: 0.7593\n",
      "\n",
      "[INFO] Training completed!\n",
      "[INFO] Trial 8 - Final Validation F1: 0.6852\n",
      "[DEBUG] Starting trial 9...\n",
      "[DEBUG] Suggested hyperparameters: lr=0.0002995383099600597, weight_decay=3.8714678848305655e-05, optimizer=AdamW\n",
      "[DEBUG] Initializing convnext_tiny model...\n",
      "[DEBUG] Setting up optimizer...\n",
      "[INFO] Starting model training...\n",
      "\n",
      "Starting training...\n",
      "\n"
     ]
    },
    {
     "name": "stderr",
     "output_type": "stream",
     "text": [
      "                                                                       \r"
     ]
    },
    {
     "name": "stdout",
     "output_type": "stream",
     "text": [
      "[INFO] Learning rate adjusted to: 0.000300\n",
      "[INFO] Best model saved with val_f1: 0.8921\n",
      "Epoch [1]: Train Loss: 0.4719, Train Acc: 0.7700 | Val Loss: 0.3189, Val Acc: 0.8706, Val Recall: 0.8740, Val F1: 0.8921\n"
     ]
    },
    {
     "name": "stderr",
     "output_type": "stream",
     "text": [
      "                                                                       \r"
     ]
    },
    {
     "name": "stdout",
     "output_type": "stream",
     "text": [
      "[INFO] Learning rate adjusted to: 0.000300\n",
      "[INFO] No improvement in val_f1. Patience: 1/5\n",
      "Epoch [2]: Train Loss: 0.2382, Train Acc: 0.9094 | Val Loss: 0.3465, Val Acc: 0.8507, Val Recall: 0.9472, Val F1: 0.8859\n"
     ]
    },
    {
     "name": "stderr",
     "output_type": "stream",
     "text": [
      "                                                                       \r"
     ]
    },
    {
     "name": "stdout",
     "output_type": "stream",
     "text": [
      "[INFO] Learning rate adjusted to: 0.000300\n",
      "[INFO] Best model saved with val_f1: 0.9237\n",
      "Epoch [3]: Train Loss: 0.1957, Train Acc: 0.9216 | Val Loss: 0.3281, Val Acc: 0.9030, Val Recall: 0.9593, Val F1: 0.9237\n"
     ]
    },
    {
     "name": "stderr",
     "output_type": "stream",
     "text": [
      "                                                                       \r"
     ]
    },
    {
     "name": "stdout",
     "output_type": "stream",
     "text": [
      "[INFO] Learning rate adjusted to: 0.000300\n",
      "[INFO] No improvement in val_f1. Patience: 1/5\n",
      "Epoch [4]: Train Loss: 0.1732, Train Acc: 0.9396 | Val Loss: 0.2788, Val Acc: 0.9030, Val Recall: 0.9024, Val F1: 0.9193\n"
     ]
    },
    {
     "name": "stderr",
     "output_type": "stream",
     "text": [
      "                                                                       \r"
     ]
    },
    {
     "name": "stdout",
     "output_type": "stream",
     "text": [
      "[INFO] Learning rate adjusted to: 0.000300\n",
      "[INFO] No improvement in val_f1. Patience: 2/5\n",
      "Epoch [5]: Train Loss: 0.1660, Train Acc: 0.9422 | Val Loss: 0.3199, Val Acc: 0.9005, Val Recall: 0.9268, Val F1: 0.9194\n"
     ]
    },
    {
     "name": "stderr",
     "output_type": "stream",
     "text": [
      "                                                                       \r"
     ]
    },
    {
     "name": "stdout",
     "output_type": "stream",
     "text": [
      "[INFO] Learning rate adjusted to: 0.000300\n",
      "[INFO] No improvement in val_f1. Patience: 3/5\n",
      "Epoch [6]: Train Loss: 0.1306, Train Acc: 0.9539 | Val Loss: 0.3100, Val Acc: 0.8881, Val Recall: 0.9187, Val F1: 0.9095\n"
     ]
    },
    {
     "name": "stderr",
     "output_type": "stream",
     "text": [
      "                                                                       \r"
     ]
    },
    {
     "name": "stdout",
     "output_type": "stream",
     "text": [
      "[INFO] Learning rate adjusted to: 0.000150\n",
      "[INFO] No improvement in val_f1. Patience: 4/5\n",
      "Epoch [7]: Train Loss: 0.1414, Train Acc: 0.9518 | Val Loss: 0.3584, Val Acc: 0.8980, Val Recall: 0.9268, Val F1: 0.9175\n"
     ]
    },
    {
     "name": "stderr",
     "output_type": "stream",
     "text": [
      "[I 2024-12-24 16:01:48,207] Trial 9 finished with value: 0.918580375782881 and parameters: {'lr': 0.0002995383099600597, 'weight_decay': 3.8714678848305655e-05, 'optimizer': 'AdamW'}. Best is trial 0 with value: 0.9437751004016064.\n"
     ]
    },
    {
     "name": "stdout",
     "output_type": "stream",
     "text": [
      "[INFO] Learning rate adjusted to: 0.000150\n",
      "[INFO] No improvement in val_f1. Patience: 5/5\n",
      "Epoch [8]: Train Loss: 0.0542, Train Acc: 0.9788 | Val Loss: 0.3651, Val Acc: 0.9030, Val Recall: 0.8943, Val F1: 0.9186\n",
      "[INFO] Final metrics saved to outputs/models/tuned\\final_metrics.json\n",
      "[INFO] Training stopped after 8 epochs. Best val_f1: 0.9237\n",
      "\n",
      "[INFO] Training completed!\n",
      "[INFO] Trial 9 - Final Validation F1: 0.9186\n",
      "[DEBUG] Starting trial 10...\n",
      "[DEBUG] Suggested hyperparameters: lr=1.1973685870456325e-05, weight_decay=0.0009974289399291075, optimizer=Adam\n",
      "[DEBUG] Initializing convnext_tiny model...\n",
      "[DEBUG] Setting up optimizer...\n",
      "[INFO] Starting model training...\n",
      "\n",
      "Starting training...\n",
      "\n"
     ]
    },
    {
     "name": "stderr",
     "output_type": "stream",
     "text": [
      "                                                                       \r"
     ]
    },
    {
     "name": "stdout",
     "output_type": "stream",
     "text": [
      "[INFO] Learning rate adjusted to: 0.000012\n",
      "[INFO] Best model saved with val_f1: 0.9016\n",
      "Epoch [1]: Train Loss: 0.5038, Train Acc: 0.7896 | Val Loss: 0.3061, Val Acc: 0.8806, Val Recall: 0.8943, Val F1: 0.9016\n"
     ]
    },
    {
     "name": "stderr",
     "output_type": "stream",
     "text": [
      "                                                                       \r"
     ]
    },
    {
     "name": "stdout",
     "output_type": "stream",
     "text": [
      "[INFO] Learning rate adjusted to: 0.000012\n",
      "[INFO] Best model saved with val_f1: 0.9253\n",
      "Epoch [2]: Train Loss: 0.2270, Train Acc: 0.9258 | Val Loss: 0.2270, Val Acc: 0.9080, Val Recall: 0.9309, Val F1: 0.9253\n"
     ]
    },
    {
     "name": "stderr",
     "output_type": "stream",
     "text": [
      "                                                                       \r"
     ]
    },
    {
     "name": "stdout",
     "output_type": "stream",
     "text": [
      "[INFO] Learning rate adjusted to: 0.000012\n",
      "[INFO] Best model saved with val_f1: 0.9320\n",
      "Epoch [3]: Train Loss: 0.1451, Train Acc: 0.9528 | Val Loss: 0.2731, Val Acc: 0.9129, Val Recall: 0.9756, Val F1: 0.9320\n"
     ]
    },
    {
     "name": "stderr",
     "output_type": "stream",
     "text": [
      "                                                                       \r"
     ]
    },
    {
     "name": "stdout",
     "output_type": "stream",
     "text": [
      "[INFO] Learning rate adjusted to: 0.000012\n",
      "[INFO] Best model saved with val_f1: 0.9400\n",
      "Epoch [4]: Train Loss: 0.1174, Train Acc: 0.9613 | Val Loss: 0.2710, Val Acc: 0.9254, Val Recall: 0.9553, Val F1: 0.9400\n"
     ]
    },
    {
     "name": "stderr",
     "output_type": "stream",
     "text": [
      "                                                                       \r"
     ]
    },
    {
     "name": "stdout",
     "output_type": "stream",
     "text": [
      "[INFO] Learning rate adjusted to: 0.000012\n",
      "[INFO] No improvement in val_f1. Patience: 1/5\n",
      "Epoch [5]: Train Loss: 0.0809, Train Acc: 0.9756 | Val Loss: 0.2693, Val Acc: 0.9179, Val Recall: 0.9472, Val F1: 0.9339\n"
     ]
    },
    {
     "name": "stderr",
     "output_type": "stream",
     "text": [
      "                                                                       \r"
     ]
    },
    {
     "name": "stdout",
     "output_type": "stream",
     "text": [
      "[INFO] Learning rate adjusted to: 0.000012\n",
      "[INFO] Best model saved with val_f1: 0.9432\n",
      "Epoch [6]: Train Loss: 0.0758, Train Acc: 0.9767 | Val Loss: 0.2260, Val Acc: 0.9279, Val Recall: 0.9797, Val F1: 0.9432\n"
     ]
    },
    {
     "name": "stderr",
     "output_type": "stream",
     "text": [
      "                                                                       \r"
     ]
    },
    {
     "name": "stdout",
     "output_type": "stream",
     "text": [
      "[INFO] Learning rate adjusted to: 0.000012\n",
      "[INFO] No improvement in val_f1. Patience: 1/5\n",
      "Epoch [7]: Train Loss: 0.0686, Train Acc: 0.9804 | Val Loss: 0.1835, Val Acc: 0.9279, Val Recall: 0.9390, Val F1: 0.9409\n"
     ]
    },
    {
     "name": "stderr",
     "output_type": "stream",
     "text": [
      "                                                                       \r"
     ]
    },
    {
     "name": "stdout",
     "output_type": "stream",
     "text": [
      "[INFO] Learning rate adjusted to: 0.000012\n",
      "[INFO] Best model saved with val_f1: 0.9493\n",
      "Epoch [8]: Train Loss: 0.0447, Train Acc: 0.9889 | Val Loss: 0.2219, Val Acc: 0.9378, Val Recall: 0.9512, Val F1: 0.9493\n"
     ]
    },
    {
     "name": "stderr",
     "output_type": "stream",
     "text": [
      "                                                                       \r"
     ]
    },
    {
     "name": "stdout",
     "output_type": "stream",
     "text": [
      "[INFO] Learning rate adjusted to: 0.000012\n",
      "[INFO] No improvement in val_f1. Patience: 1/5\n",
      "Epoch [9]: Train Loss: 0.0529, Train Acc: 0.9825 | Val Loss: 0.4411, Val Acc: 0.9030, Val Recall: 0.9837, Val F1: 0.9254\n"
     ]
    },
    {
     "name": "stderr",
     "output_type": "stream",
     "text": [
      "                                                                        \r"
     ]
    },
    {
     "name": "stdout",
     "output_type": "stream",
     "text": [
      "[INFO] Learning rate adjusted to: 0.000012\n",
      "[INFO] No improvement in val_f1. Patience: 2/5\n",
      "Epoch [10]: Train Loss: 0.0426, Train Acc: 0.9852 | Val Loss: 0.2553, Val Acc: 0.9328, Val Recall: 0.9390, Val F1: 0.9448\n"
     ]
    },
    {
     "name": "stderr",
     "output_type": "stream",
     "text": [
      "                                                                        \r"
     ]
    },
    {
     "name": "stdout",
     "output_type": "stream",
     "text": [
      "[INFO] Learning rate adjusted to: 0.000012\n",
      "[INFO] No improvement in val_f1. Patience: 3/5\n",
      "Epoch [11]: Train Loss: 0.0395, Train Acc: 0.9889 | Val Loss: 0.2814, Val Acc: 0.9328, Val Recall: 0.9715, Val F1: 0.9465\n"
     ]
    },
    {
     "name": "stderr",
     "output_type": "stream",
     "text": [
      "                                                                        \r"
     ]
    },
    {
     "name": "stdout",
     "output_type": "stream",
     "text": [
      "[INFO] Learning rate adjusted to: 0.000006\n",
      "[INFO] No improvement in val_f1. Patience: 4/5\n",
      "Epoch [12]: Train Loss: 0.0309, Train Acc: 0.9926 | Val Loss: 0.5168, Val Acc: 0.9055, Val Recall: 0.9797, Val F1: 0.9269\n"
     ]
    },
    {
     "name": "stderr",
     "output_type": "stream",
     "text": [
      "                                                                        \r"
     ]
    },
    {
     "name": "stdout",
     "output_type": "stream",
     "text": [
      "[INFO] Learning rate adjusted to: 0.000006\n",
      "[INFO] Best model saved with val_f1: 0.9535\n",
      "Epoch [13]: Train Loss: 0.0201, Train Acc: 0.9963 | Val Loss: 0.2596, Val Acc: 0.9428, Val Recall: 0.9593, Val F1: 0.9535\n"
     ]
    },
    {
     "name": "stderr",
     "output_type": "stream",
     "text": [
      "                                                                        \r"
     ]
    },
    {
     "name": "stdout",
     "output_type": "stream",
     "text": [
      "[INFO] Learning rate adjusted to: 0.000006\n",
      "[INFO] No improvement in val_f1. Patience: 1/5\n",
      "Epoch [14]: Train Loss: 0.0242, Train Acc: 0.9958 | Val Loss: 0.3072, Val Acc: 0.9279, Val Recall: 0.9715, Val F1: 0.9428\n"
     ]
    },
    {
     "name": "stderr",
     "output_type": "stream",
     "text": [
      "                                                                        \r"
     ]
    },
    {
     "name": "stdout",
     "output_type": "stream",
     "text": [
      "[INFO] Learning rate adjusted to: 0.000006\n",
      "[INFO] No improvement in val_f1. Patience: 2/5\n",
      "Epoch [15]: Train Loss: 0.0283, Train Acc: 0.9910 | Val Loss: 0.2808, Val Acc: 0.9403, Val Recall: 0.9593, Val F1: 0.9516\n"
     ]
    },
    {
     "name": "stderr",
     "output_type": "stream",
     "text": [
      "                                                                        \r"
     ]
    },
    {
     "name": "stdout",
     "output_type": "stream",
     "text": [
      "[INFO] Learning rate adjusted to: 0.000006\n",
      "[INFO] No improvement in val_f1. Patience: 3/5\n",
      "Epoch [16]: Train Loss: 0.0123, Train Acc: 0.9968 | Val Loss: 0.3428, Val Acc: 0.9254, Val Recall: 0.9634, Val F1: 0.9405\n"
     ]
    },
    {
     "name": "stderr",
     "output_type": "stream",
     "text": [
      "                                                                        \r"
     ]
    },
    {
     "name": "stdout",
     "output_type": "stream",
     "text": [
      "[INFO] Learning rate adjusted to: 0.000003\n",
      "[INFO] No improvement in val_f1. Patience: 4/5\n",
      "Epoch [17]: Train Loss: 0.0173, Train Acc: 0.9963 | Val Loss: 0.3447, Val Acc: 0.9279, Val Recall: 0.9593, Val F1: 0.9421\n"
     ]
    },
    {
     "name": "stderr",
     "output_type": "stream",
     "text": [
      "[I 2024-12-24 16:12:11,562] Trial 10 finished with value: 0.9518072289156626 and parameters: {'lr': 1.1973685870456325e-05, 'weight_decay': 0.0009974289399291075, 'optimizer': 'Adam'}. Best is trial 10 with value: 0.9518072289156626.\n"
     ]
    },
    {
     "name": "stdout",
     "output_type": "stream",
     "text": [
      "[INFO] Learning rate adjusted to: 0.000003\n",
      "[INFO] No improvement in val_f1. Patience: 5/5\n",
      "Epoch [18]: Train Loss: 0.0164, Train Acc: 0.9947 | Val Loss: 0.3121, Val Acc: 0.9403, Val Recall: 0.9634, Val F1: 0.9518\n",
      "[INFO] Final metrics saved to outputs/models/tuned\\final_metrics.json\n",
      "[INFO] Training stopped after 18 epochs. Best val_f1: 0.9535\n",
      "\n",
      "[INFO] Training completed!\n",
      "[INFO] Trial 10 - Final Validation F1: 0.9518\n",
      "[DEBUG] Starting trial 11...\n",
      "[DEBUG] Suggested hyperparameters: lr=1.0349732477219106e-05, weight_decay=0.0006403571926711644, optimizer=Adam\n",
      "[DEBUG] Initializing convnext_tiny model...\n",
      "[DEBUG] Setting up optimizer...\n",
      "[INFO] Starting model training...\n",
      "\n",
      "Starting training...\n",
      "\n"
     ]
    },
    {
     "name": "stderr",
     "output_type": "stream",
     "text": [
      "                                                                       \r"
     ]
    },
    {
     "name": "stdout",
     "output_type": "stream",
     "text": [
      "[INFO] Learning rate adjusted to: 0.000010\n",
      "[INFO] Best model saved with val_f1: 0.8994\n",
      "Epoch [1]: Train Loss: 0.5378, Train Acc: 0.7652 | Val Loss: 0.3018, Val Acc: 0.8731, Val Recall: 0.9268, Val F1: 0.8994\n"
     ]
    },
    {
     "name": "stderr",
     "output_type": "stream",
     "text": [
      "                                                                       \r"
     ]
    },
    {
     "name": "stdout",
     "output_type": "stream",
     "text": [
      "[INFO] Learning rate adjusted to: 0.000010\n",
      "[INFO] Best model saved with val_f1: 0.9299\n",
      "Epoch [2]: Train Loss: 0.2326, Train Acc: 0.9168 | Val Loss: 0.2217, Val Acc: 0.9129, Val Recall: 0.9431, Val F1: 0.9299\n"
     ]
    },
    {
     "name": "stderr",
     "output_type": "stream",
     "text": [
      "                                                                       \r"
     ]
    },
    {
     "name": "stdout",
     "output_type": "stream",
     "text": [
      "[INFO] Learning rate adjusted to: 0.000010\n",
      "[INFO] Best model saved with val_f1: 0.9315\n",
      "Epoch [3]: Train Loss: 0.1500, Train Acc: 0.9539 | Val Loss: 0.2440, Val Acc: 0.9129, Val Recall: 0.9675, Val F1: 0.9315\n"
     ]
    },
    {
     "name": "stderr",
     "output_type": "stream",
     "text": [
      "                                                                       \r"
     ]
    },
    {
     "name": "stdout",
     "output_type": "stream",
     "text": [
      "[INFO] Learning rate adjusted to: 0.000010\n",
      "[INFO] Best model saved with val_f1: 0.9323\n",
      "Epoch [4]: Train Loss: 0.1251, Train Acc: 0.9618 | Val Loss: 0.2449, Val Acc: 0.9154, Val Recall: 0.9512, Val F1: 0.9323\n"
     ]
    },
    {
     "name": "stderr",
     "output_type": "stream",
     "text": [
      "                                                                       \r"
     ]
    },
    {
     "name": "stdout",
     "output_type": "stream",
     "text": [
      "[INFO] Learning rate adjusted to: 0.000010\n",
      "[INFO] Best model saved with val_f1: 0.9412\n",
      "Epoch [5]: Train Loss: 0.0884, Train Acc: 0.9735 | Val Loss: 0.2692, Val Acc: 0.9254, Val Recall: 0.9756, Val F1: 0.9412\n"
     ]
    },
    {
     "name": "stderr",
     "output_type": "stream",
     "text": [
      "                                                                       \r"
     ]
    },
    {
     "name": "stdout",
     "output_type": "stream",
     "text": [
      "[INFO] Learning rate adjusted to: 0.000010\n",
      "[INFO] No improvement in val_f1. Patience: 1/5\n",
      "Epoch [6]: Train Loss: 0.0920, Train Acc: 0.9740 | Val Loss: 0.2717, Val Acc: 0.9080, Val Recall: 0.9593, Val F1: 0.9273\n"
     ]
    },
    {
     "name": "stderr",
     "output_type": "stream",
     "text": [
      "                                                                       \r"
     ]
    },
    {
     "name": "stdout",
     "output_type": "stream",
     "text": [
      "[INFO] Learning rate adjusted to: 0.000010\n",
      "[INFO] Best model saved with val_f1: 0.9539\n",
      "Epoch [7]: Train Loss: 0.0559, Train Acc: 0.9868 | Val Loss: 0.2539, Val Acc: 0.9428, Val Recall: 0.9675, Val F1: 0.9539\n"
     ]
    },
    {
     "name": "stderr",
     "output_type": "stream",
     "text": [
      "                                                                       \r"
     ]
    },
    {
     "name": "stdout",
     "output_type": "stream",
     "text": [
      "[INFO] Learning rate adjusted to: 0.000010\n",
      "[INFO] No improvement in val_f1. Patience: 1/5\n",
      "Epoch [8]: Train Loss: 0.0570, Train Acc: 0.9878 | Val Loss: 0.2572, Val Acc: 0.9229, Val Recall: 0.9553, Val F1: 0.9381\n"
     ]
    },
    {
     "name": "stderr",
     "output_type": "stream",
     "text": [
      "                                                                       \r"
     ]
    },
    {
     "name": "stdout",
     "output_type": "stream",
     "text": [
      "[INFO] Learning rate adjusted to: 0.000010\n",
      "[INFO] No improvement in val_f1. Patience: 2/5\n",
      "Epoch [9]: Train Loss: 0.0561, Train Acc: 0.9825 | Val Loss: 0.2831, Val Acc: 0.9154, Val Recall: 0.9715, Val F1: 0.9336\n"
     ]
    },
    {
     "name": "stderr",
     "output_type": "stream",
     "text": [
      "                                                                        \r"
     ]
    },
    {
     "name": "stdout",
     "output_type": "stream",
     "text": [
      "[INFO] Learning rate adjusted to: 0.000010\n",
      "[INFO] No improvement in val_f1. Patience: 3/5\n",
      "Epoch [10]: Train Loss: 0.0303, Train Acc: 0.9926 | Val Loss: 0.2852, Val Acc: 0.9353, Val Recall: 0.9390, Val F1: 0.9467\n"
     ]
    },
    {
     "name": "stderr",
     "output_type": "stream",
     "text": [
      "                                                                        \r"
     ]
    },
    {
     "name": "stdout",
     "output_type": "stream",
     "text": [
      "[INFO] Learning rate adjusted to: 0.000005\n",
      "[INFO] No improvement in val_f1. Patience: 4/5\n",
      "Epoch [11]: Train Loss: 0.0321, Train Acc: 0.9905 | Val Loss: 0.3387, Val Acc: 0.9328, Val Recall: 0.9756, Val F1: 0.9467\n"
     ]
    },
    {
     "name": "stderr",
     "output_type": "stream",
     "text": [
      "[I 2024-12-24 16:18:56,321] Trial 11 finished with value: 0.9425742574257425 and parameters: {'lr': 1.0349732477219106e-05, 'weight_decay': 0.0006403571926711644, 'optimizer': 'Adam'}. Best is trial 10 with value: 0.9518072289156626.\n"
     ]
    },
    {
     "name": "stdout",
     "output_type": "stream",
     "text": [
      "[INFO] Learning rate adjusted to: 0.000005\n",
      "[INFO] No improvement in val_f1. Patience: 5/5\n",
      "Epoch [12]: Train Loss: 0.0281, Train Acc: 0.9915 | Val Loss: 0.3548, Val Acc: 0.9279, Val Recall: 0.9675, Val F1: 0.9426\n",
      "[INFO] Final metrics saved to outputs/models/tuned\\final_metrics.json\n",
      "[INFO] Training stopped after 12 epochs. Best val_f1: 0.9539\n",
      "\n",
      "[INFO] Training completed!\n",
      "[INFO] Trial 11 - Final Validation F1: 0.9426\n",
      "[DEBUG] Starting trial 12...\n",
      "[DEBUG] Suggested hyperparameters: lr=1.5507087663835584e-05, weight_decay=0.0009927409026902823, optimizer=Adam\n",
      "[DEBUG] Initializing convnext_tiny model...\n",
      "[DEBUG] Setting up optimizer...\n",
      "[INFO] Starting model training...\n",
      "\n",
      "Starting training...\n",
      "\n"
     ]
    },
    {
     "name": "stderr",
     "output_type": "stream",
     "text": [
      "                                                                       \r"
     ]
    },
    {
     "name": "stdout",
     "output_type": "stream",
     "text": [
      "[INFO] Learning rate adjusted to: 0.000016\n",
      "[INFO] Best model saved with val_f1: 0.9072\n",
      "Epoch [1]: Train Loss: 0.4926, Train Acc: 0.7504 | Val Loss: 0.2806, Val Acc: 0.8905, Val Recall: 0.8740, Val F1: 0.9072\n"
     ]
    },
    {
     "name": "stderr",
     "output_type": "stream",
     "text": [
      "                                                                       \r"
     ]
    },
    {
     "name": "stdout",
     "output_type": "stream",
     "text": [
      "[INFO] Learning rate adjusted to: 0.000016\n",
      "[INFO] Best model saved with val_f1: 0.9297\n",
      "Epoch [2]: Train Loss: 0.2085, Train Acc: 0.9285 | Val Loss: 0.2433, Val Acc: 0.9104, Val Recall: 0.9675, Val F1: 0.9297\n"
     ]
    },
    {
     "name": "stderr",
     "output_type": "stream",
     "text": [
      "                                                                       \r"
     ]
    },
    {
     "name": "stdout",
     "output_type": "stream",
     "text": [
      "[INFO] Learning rate adjusted to: 0.000016\n",
      "[INFO] Best model saved with val_f1: 0.9357\n",
      "Epoch [3]: Train Loss: 0.1390, Train Acc: 0.9576 | Val Loss: 0.2519, Val Acc: 0.9179, Val Recall: 0.9756, Val F1: 0.9357\n"
     ]
    },
    {
     "name": "stderr",
     "output_type": "stream",
     "text": [
      "                                                                       \r"
     ]
    },
    {
     "name": "stdout",
     "output_type": "stream",
     "text": [
      "[INFO] Learning rate adjusted to: 0.000016\n",
      "[INFO] No improvement in val_f1. Patience: 1/5\n",
      "Epoch [4]: Train Loss: 0.0864, Train Acc: 0.9740 | Val Loss: 0.2912, Val Acc: 0.9154, Val Recall: 0.9715, Val F1: 0.9336\n"
     ]
    },
    {
     "name": "stderr",
     "output_type": "stream",
     "text": [
      "                                                                       \r"
     ]
    },
    {
     "name": "stdout",
     "output_type": "stream",
     "text": [
      "[INFO] Learning rate adjusted to: 0.000016\n",
      "[INFO] No improvement in val_f1. Patience: 2/5\n",
      "Epoch [5]: Train Loss: 0.0874, Train Acc: 0.9762 | Val Loss: 0.2749, Val Acc: 0.9154, Val Recall: 0.9431, Val F1: 0.9317\n"
     ]
    },
    {
     "name": "stderr",
     "output_type": "stream",
     "text": [
      "                                                                       \r"
     ]
    },
    {
     "name": "stdout",
     "output_type": "stream",
     "text": [
      "[INFO] Learning rate adjusted to: 0.000016\n",
      "[INFO] Best model saved with val_f1: 0.9440\n",
      "Epoch [6]: Train Loss: 0.0599, Train Acc: 0.9868 | Val Loss: 0.2671, Val Acc: 0.9303, Val Recall: 0.9593, Val F1: 0.9440\n"
     ]
    },
    {
     "name": "stderr",
     "output_type": "stream",
     "text": [
      "                                                                       \r"
     ]
    },
    {
     "name": "stdout",
     "output_type": "stream",
     "text": [
      "[INFO] Learning rate adjusted to: 0.000016\n",
      "[INFO] Best model saved with val_f1: 0.9447\n",
      "Epoch [7]: Train Loss: 0.0460, Train Acc: 0.9910 | Val Loss: 0.3355, Val Acc: 0.9303, Val Recall: 0.9715, Val F1: 0.9447\n"
     ]
    },
    {
     "name": "stderr",
     "output_type": "stream",
     "text": [
      "                                                                       \r"
     ]
    },
    {
     "name": "stdout",
     "output_type": "stream",
     "text": [
      "[INFO] Learning rate adjusted to: 0.000016\n",
      "[INFO] No improvement in val_f1. Patience: 1/5\n",
      "Epoch [8]: Train Loss: 0.0405, Train Acc: 0.9905 | Val Loss: 0.3153, Val Acc: 0.9204, Val Recall: 0.9268, Val F1: 0.9344\n"
     ]
    },
    {
     "name": "stderr",
     "output_type": "stream",
     "text": [
      "                                                                       \r"
     ]
    },
    {
     "name": "stdout",
     "output_type": "stream",
     "text": [
      "[INFO] Learning rate adjusted to: 0.000016\n",
      "[INFO] Best model saved with val_f1: 0.9537\n",
      "Epoch [9]: Train Loss: 0.0528, Train Acc: 0.9841 | Val Loss: 0.2433, Val Acc: 0.9428, Val Recall: 0.9634, Val F1: 0.9537\n"
     ]
    },
    {
     "name": "stderr",
     "output_type": "stream",
     "text": [
      "                                                                        \r"
     ]
    },
    {
     "name": "stdout",
     "output_type": "stream",
     "text": [
      "[INFO] Learning rate adjusted to: 0.000016\n",
      "[INFO] No improvement in val_f1. Patience: 1/5\n",
      "Epoch [10]: Train Loss: 0.0366, Train Acc: 0.9921 | Val Loss: 0.4078, Val Acc: 0.9179, Val Recall: 0.9675, Val F1: 0.9352\n"
     ]
    },
    {
     "name": "stderr",
     "output_type": "stream",
     "text": [
      "                                                                        \r"
     ]
    },
    {
     "name": "stdout",
     "output_type": "stream",
     "text": [
      "[INFO] Learning rate adjusted to: 0.000016\n",
      "[INFO] No improvement in val_f1. Patience: 2/5\n",
      "Epoch [11]: Train Loss: 0.0404, Train Acc: 0.9905 | Val Loss: 0.3140, Val Acc: 0.9254, Val Recall: 0.9553, Val F1: 0.9400\n"
     ]
    },
    {
     "name": "stderr",
     "output_type": "stream",
     "text": [
      "                                                                        \r"
     ]
    },
    {
     "name": "stdout",
     "output_type": "stream",
     "text": [
      "[INFO] Learning rate adjusted to: 0.000016\n",
      "[INFO] No improvement in val_f1. Patience: 3/5\n",
      "Epoch [12]: Train Loss: 0.0447, Train Acc: 0.9873 | Val Loss: 0.3937, Val Acc: 0.9179, Val Recall: 0.9756, Val F1: 0.9357\n"
     ]
    },
    {
     "name": "stderr",
     "output_type": "stream",
     "text": [
      "                                                                        \r"
     ]
    },
    {
     "name": "stdout",
     "output_type": "stream",
     "text": [
      "[INFO] Learning rate adjusted to: 0.000008\n",
      "[INFO] No improvement in val_f1. Patience: 4/5\n",
      "Epoch [13]: Train Loss: 0.0195, Train Acc: 0.9958 | Val Loss: 0.3300, Val Acc: 0.9378, Val Recall: 0.9715, Val F1: 0.9503\n"
     ]
    },
    {
     "name": "stderr",
     "output_type": "stream",
     "text": [
      "[I 2024-12-24 16:26:49,287] Trial 12 finished with value: 0.9407114624505929 and parameters: {'lr': 1.5507087663835584e-05, 'weight_decay': 0.0009927409026902823, 'optimizer': 'Adam'}. Best is trial 10 with value: 0.9518072289156626.\n"
     ]
    },
    {
     "name": "stdout",
     "output_type": "stream",
     "text": [
      "[INFO] Learning rate adjusted to: 0.000008\n",
      "[INFO] No improvement in val_f1. Patience: 5/5\n",
      "Epoch [14]: Train Loss: 0.0284, Train Acc: 0.9926 | Val Loss: 0.3530, Val Acc: 0.9254, Val Recall: 0.9675, Val F1: 0.9407\n",
      "[INFO] Final metrics saved to outputs/models/tuned\\final_metrics.json\n",
      "[INFO] Training stopped after 14 epochs. Best val_f1: 0.9537\n",
      "\n",
      "[INFO] Training completed!\n",
      "[INFO] Trial 12 - Final Validation F1: 0.9407\n",
      "[DEBUG] Starting trial 13...\n",
      "[DEBUG] Suggested hyperparameters: lr=4.9296669668655385e-05, weight_decay=0.0004804495260204136, optimizer=Adam\n",
      "[DEBUG] Initializing convnext_tiny model...\n",
      "[DEBUG] Setting up optimizer...\n",
      "[INFO] Starting model training...\n",
      "\n",
      "Starting training...\n",
      "\n"
     ]
    },
    {
     "name": "stderr",
     "output_type": "stream",
     "text": [
      "                                                                       \r"
     ]
    },
    {
     "name": "stdout",
     "output_type": "stream",
     "text": [
      "[INFO] Learning rate adjusted to: 0.000049\n",
      "[INFO] Best model saved with val_f1: 0.9287\n",
      "Epoch [1]: Train Loss: 0.3139, Train Acc: 0.8670 | Val Loss: 0.3040, Val Acc: 0.9080, Val Recall: 0.9797, Val F1: 0.9287\n"
     ]
    },
    {
     "name": "stderr",
     "output_type": "stream",
     "text": [
      "                                                                       \r"
     ]
    },
    {
     "name": "stdout",
     "output_type": "stream",
     "text": [
      "[INFO] Learning rate adjusted to: 0.000049\n",
      "[INFO] Best model saved with val_f1: 0.9350\n",
      "Epoch [2]: Train Loss: 0.1416, Train Acc: 0.9502 | Val Loss: 0.2288, Val Acc: 0.9204, Val Recall: 0.9350, Val F1: 0.9350\n"
     ]
    },
    {
     "name": "stderr",
     "output_type": "stream",
     "text": [
      "                                                                       \r"
     ]
    },
    {
     "name": "stdout",
     "output_type": "stream",
     "text": [
      "[INFO] Learning rate adjusted to: 0.000049\n",
      "[INFO] No improvement in val_f1. Patience: 1/5\n",
      "Epoch [3]: Train Loss: 0.1022, Train Acc: 0.9629 | Val Loss: 0.2527, Val Acc: 0.9005, Val Recall: 0.9837, Val F1: 0.9237\n"
     ]
    },
    {
     "name": "stderr",
     "output_type": "stream",
     "text": [
      "                                                                       \r"
     ]
    },
    {
     "name": "stdout",
     "output_type": "stream",
     "text": [
      "[INFO] Learning rate adjusted to: 0.000049\n",
      "[INFO] Best model saved with val_f1: 0.9400\n",
      "Epoch [4]: Train Loss: 0.0742, Train Acc: 0.9751 | Val Loss: 0.2411, Val Acc: 0.9254, Val Recall: 0.9553, Val F1: 0.9400\n"
     ]
    },
    {
     "name": "stderr",
     "output_type": "stream",
     "text": [
      "                                                                       \r"
     ]
    },
    {
     "name": "stdout",
     "output_type": "stream",
     "text": [
      "[INFO] Learning rate adjusted to: 0.000049\n",
      "[INFO] Best model saved with val_f1: 0.9416\n",
      "Epoch [5]: Train Loss: 0.0444, Train Acc: 0.9846 | Val Loss: 0.2597, Val Acc: 0.9279, Val Recall: 0.9512, Val F1: 0.9416\n"
     ]
    },
    {
     "name": "stderr",
     "output_type": "stream",
     "text": [
      "                                                                       \r"
     ]
    },
    {
     "name": "stdout",
     "output_type": "stream",
     "text": [
      "[INFO] Learning rate adjusted to: 0.000049\n",
      "[INFO] No improvement in val_f1. Patience: 1/5\n",
      "Epoch [6]: Train Loss: 0.0574, Train Acc: 0.9825 | Val Loss: 0.3228, Val Acc: 0.9104, Val Recall: 0.9350, Val F1: 0.9274\n"
     ]
    },
    {
     "name": "stderr",
     "output_type": "stream",
     "text": [
      "                                                                       \r"
     ]
    },
    {
     "name": "stdout",
     "output_type": "stream",
     "text": [
      "[INFO] Learning rate adjusted to: 0.000049\n",
      "[INFO] Best model saved with val_f1: 0.9433\n",
      "Epoch [7]: Train Loss: 0.0460, Train Acc: 0.9862 | Val Loss: 0.3322, Val Acc: 0.9303, Val Recall: 0.9472, Val F1: 0.9433\n"
     ]
    },
    {
     "name": "stderr",
     "output_type": "stream",
     "text": [
      "                                                                       \r"
     ]
    },
    {
     "name": "stdout",
     "output_type": "stream",
     "text": [
      "[INFO] Learning rate adjusted to: 0.000049\n",
      "[INFO] No improvement in val_f1. Patience: 1/5\n",
      "Epoch [8]: Train Loss: 0.0384, Train Acc: 0.9868 | Val Loss: 0.3451, Val Acc: 0.9129, Val Recall: 0.9187, Val F1: 0.9281\n"
     ]
    },
    {
     "name": "stderr",
     "output_type": "stream",
     "text": [
      "                                                                       \r"
     ]
    },
    {
     "name": "stdout",
     "output_type": "stream",
     "text": [
      "[INFO] Learning rate adjusted to: 0.000049\n",
      "[INFO] Best model saved with val_f1: 0.9449\n",
      "Epoch [9]: Train Loss: 0.0357, Train Acc: 0.9894 | Val Loss: 0.3617, Val Acc: 0.9303, Val Recall: 0.9756, Val F1: 0.9449\n"
     ]
    },
    {
     "name": "stderr",
     "output_type": "stream",
     "text": [
      "                                                                        \r"
     ]
    },
    {
     "name": "stdout",
     "output_type": "stream",
     "text": [
      "[INFO] Learning rate adjusted to: 0.000049\n",
      "[INFO] Best model saved with val_f1: 0.9499\n",
      "Epoch [10]: Train Loss: 0.0313, Train Acc: 0.9905 | Val Loss: 0.2818, Val Acc: 0.9378, Val Recall: 0.9634, Val F1: 0.9499\n"
     ]
    },
    {
     "name": "stderr",
     "output_type": "stream",
     "text": [
      "                                                                        \r"
     ]
    },
    {
     "name": "stdout",
     "output_type": "stream",
     "text": [
      "[INFO] Learning rate adjusted to: 0.000049\n",
      "[INFO] Best model saved with val_f1: 0.9602\n",
      "Epoch [11]: Train Loss: 0.0307, Train Acc: 0.9889 | Val Loss: 0.2622, Val Acc: 0.9502, Val Recall: 0.9797, Val F1: 0.9602\n"
     ]
    },
    {
     "name": "stderr",
     "output_type": "stream",
     "text": [
      "                                                                        \r"
     ]
    },
    {
     "name": "stdout",
     "output_type": "stream",
     "text": [
      "[INFO] Learning rate adjusted to: 0.000049\n",
      "[INFO] No improvement in val_f1. Patience: 1/5\n",
      "Epoch [12]: Train Loss: 0.0277, Train Acc: 0.9915 | Val Loss: 0.4380, Val Acc: 0.8905, Val Recall: 0.8496, Val F1: 0.9048\n"
     ]
    },
    {
     "name": "stderr",
     "output_type": "stream",
     "text": [
      "                                                                        \r"
     ]
    },
    {
     "name": "stdout",
     "output_type": "stream",
     "text": [
      "[INFO] Learning rate adjusted to: 0.000049\n",
      "[INFO] No improvement in val_f1. Patience: 2/5\n",
      "Epoch [13]: Train Loss: 0.0385, Train Acc: 0.9905 | Val Loss: 0.3919, Val Acc: 0.8980, Val Recall: 0.8618, Val F1: 0.9118\n"
     ]
    },
    {
     "name": "stderr",
     "output_type": "stream",
     "text": [
      "                                                                        \r"
     ]
    },
    {
     "name": "stdout",
     "output_type": "stream",
     "text": [
      "[INFO] Learning rate adjusted to: 0.000049\n",
      "[INFO] No improvement in val_f1. Patience: 3/5\n",
      "Epoch [14]: Train Loss: 0.0266, Train Acc: 0.9926 | Val Loss: 0.3177, Val Acc: 0.8930, Val Recall: 0.8659, Val F1: 0.9083\n"
     ]
    },
    {
     "name": "stderr",
     "output_type": "stream",
     "text": [
      "                                                                        \r"
     ]
    },
    {
     "name": "stdout",
     "output_type": "stream",
     "text": [
      "[INFO] Learning rate adjusted to: 0.000025\n",
      "[INFO] No improvement in val_f1. Patience: 4/5\n",
      "Epoch [15]: Train Loss: 0.0383, Train Acc: 0.9878 | Val Loss: 0.3342, Val Acc: 0.9154, Val Recall: 0.9309, Val F1: 0.9309\n"
     ]
    },
    {
     "name": "stderr",
     "output_type": "stream",
     "text": [
      "[I 2024-12-24 16:36:00,443] Trial 13 finished with value: 0.9315068493150684 and parameters: {'lr': 4.9296669668655385e-05, 'weight_decay': 0.0004804495260204136, 'optimizer': 'Adam'}. Best is trial 10 with value: 0.9518072289156626.\n"
     ]
    },
    {
     "name": "stdout",
     "output_type": "stream",
     "text": [
      "[INFO] Learning rate adjusted to: 0.000025\n",
      "[INFO] No improvement in val_f1. Patience: 5/5\n",
      "Epoch [16]: Train Loss: 0.0181, Train Acc: 0.9942 | Val Loss: 0.4018, Val Acc: 0.9129, Val Recall: 0.9675, Val F1: 0.9315\n",
      "[INFO] Final metrics saved to outputs/models/tuned\\final_metrics.json\n",
      "[INFO] Training stopped after 16 epochs. Best val_f1: 0.9602\n",
      "\n",
      "[INFO] Training completed!\n",
      "[INFO] Trial 13 - Final Validation F1: 0.9315\n",
      "[DEBUG] Starting trial 14...\n",
      "[DEBUG] Suggested hyperparameters: lr=3.116738955636209e-05, weight_decay=0.0001355590783678252, optimizer=Adam\n",
      "[DEBUG] Initializing convnext_tiny model...\n",
      "[DEBUG] Setting up optimizer...\n",
      "[INFO] Starting model training...\n",
      "\n",
      "Starting training...\n",
      "\n"
     ]
    },
    {
     "name": "stderr",
     "output_type": "stream",
     "text": [
      "                                                                       \r"
     ]
    },
    {
     "name": "stdout",
     "output_type": "stream",
     "text": [
      "[INFO] Learning rate adjusted to: 0.000031\n",
      "[INFO] Best model saved with val_f1: 0.9072\n",
      "Epoch [1]: Train Loss: 0.3792, Train Acc: 0.8336 | Val Loss: 0.2610, Val Acc: 0.8905, Val Recall: 0.8740, Val F1: 0.9072\n"
     ]
    },
    {
     "name": "stderr",
     "output_type": "stream",
     "text": [
      "                                                                       \r"
     ]
    },
    {
     "name": "stdout",
     "output_type": "stream",
     "text": [
      "[INFO] Learning rate adjusted to: 0.000031\n",
      "[INFO] Best model saved with val_f1: 0.9295\n",
      "Epoch [2]: Train Loss: 0.1447, Train Acc: 0.9539 | Val Loss: 0.2132, Val Acc: 0.9154, Val Recall: 0.9106, Val F1: 0.9295\n"
     ]
    },
    {
     "name": "stderr",
     "output_type": "stream",
     "text": [
      "                                                                       \r"
     ]
    },
    {
     "name": "stdout",
     "output_type": "stream",
     "text": [
      "[INFO] Learning rate adjusted to: 0.000031\n",
      "[INFO] Best model saved with val_f1: 0.9416\n",
      "Epoch [3]: Train Loss: 0.1071, Train Acc: 0.9650 | Val Loss: 0.2150, Val Acc: 0.9279, Val Recall: 0.9512, Val F1: 0.9416\n"
     ]
    },
    {
     "name": "stderr",
     "output_type": "stream",
     "text": [
      "                                                                       \r"
     ]
    },
    {
     "name": "stdout",
     "output_type": "stream",
     "text": [
      "[INFO] Learning rate adjusted to: 0.000031\n",
      "[INFO] No improvement in val_f1. Patience: 1/5\n",
      "Epoch [4]: Train Loss: 0.0813, Train Acc: 0.9730 | Val Loss: 0.2653, Val Acc: 0.9204, Val Recall: 0.9756, Val F1: 0.9375\n"
     ]
    },
    {
     "name": "stderr",
     "output_type": "stream",
     "text": [
      "                                                                       \r"
     ]
    },
    {
     "name": "stdout",
     "output_type": "stream",
     "text": [
      "[INFO] Learning rate adjusted to: 0.000031\n",
      "[INFO] No improvement in val_f1. Patience: 2/5\n",
      "Epoch [5]: Train Loss: 0.0598, Train Acc: 0.9783 | Val Loss: 0.2296, Val Acc: 0.9279, Val Recall: 0.9268, Val F1: 0.9402\n"
     ]
    },
    {
     "name": "stderr",
     "output_type": "stream",
     "text": [
      "                                                                       \r"
     ]
    },
    {
     "name": "stdout",
     "output_type": "stream",
     "text": [
      "[INFO] Learning rate adjusted to: 0.000031\n",
      "[INFO] Best model saved with val_f1: 0.9514\n",
      "Epoch [6]: Train Loss: 0.0459, Train Acc: 0.9846 | Val Loss: 0.2747, Val Acc: 0.9403, Val Recall: 0.9553, Val F1: 0.9514\n"
     ]
    },
    {
     "name": "stderr",
     "output_type": "stream",
     "text": [
      "                                                                       \r"
     ]
    },
    {
     "name": "stdout",
     "output_type": "stream",
     "text": [
      "[INFO] Learning rate adjusted to: 0.000031\n",
      "[INFO] No improvement in val_f1. Patience: 1/5\n",
      "Epoch [7]: Train Loss: 0.0452, Train Acc: 0.9894 | Val Loss: 0.2524, Val Acc: 0.9303, Val Recall: 0.9797, Val F1: 0.9451\n"
     ]
    },
    {
     "name": "stderr",
     "output_type": "stream",
     "text": [
      "                                                                       \r"
     ]
    }
   ],
   "source": [
    "# Run Optuna\n",
    "print(\"[INFO] Running hyperparameter optimization...\")\n",
    "study = optuna.create_study(direction=\"maximize\")\n",
    "study.optimize(objective, n_trials=20)\n",
    "print(f\"[INFO] Best parameters found: {study.best_params}\")"
   ]
  },
  {
   "cell_type": "code",
   "execution_count": null,
   "metadata": {},
   "outputs": [],
   "source": [
    "# Train Final Model\n",
    "print(\"[INFO] Training final model with best hyperparameters...\")\n",
    "final_model = initialize_model(\"convnext_tiny\", num_classes=2, pretrained=True, freeze_all=False, unfreeze_last_n=12)\n",
    "final_model.to(device)"
   ]
  },
  {
   "cell_type": "code",
   "execution_count": null,
   "metadata": {},
   "outputs": [],
   "source": [
    "# Optimizer\n",
    "optimizer = optim.Adam(final_model.parameters(), lr=study.best_params[\"lr\"], weight_decay=study.best_params[\"weight_decay\"])\n",
    "scheduler = optim.lr_scheduler.ReduceLROnPlateau(optimizer, mode=\"max\", patience=3, factor=0.5)"
   ]
  },
  {
   "cell_type": "code",
   "execution_count": null,
   "metadata": {},
   "outputs": [],
   "source": [
    "# Final training\n",
    "final_save_path = \"outputs/models/tuned/convnext_tiny_final.pth\"\n",
    "history = train_model(\n",
    "    model=final_model,\n",
    "    train_loader=train_loader,\n",
    "    val_loader=val_loader,\n",
    "    criterion=nn.CrossEntropyLoss(),\n",
    "    optimizer=optimizer,\n",
    "    scheduler=scheduler,\n",
    "    device=device,\n",
    "    save_path=final_save_path,\n",
    "    early_stop_patience=5,\n",
    "    monitor_metric=\"val_f1\",\n",
    ")"
   ]
  },
  {
   "cell_type": "code",
   "execution_count": null,
   "metadata": {},
   "outputs": [],
   "source": [
    "# Evaluation and Visualization\n",
    "print(\"[INFO] Evaluating final model...\")\n",
    "metrics = evaluate_model(final_model, test_loader, [\"No Fire\", \"Fire\"], device, model_name=\"convnext_tiny\", save_base_path=\"outputs/plots/tuned/convnexttiny\")\n",
    "# Training and Validation Curves\n",
    "plot_training(history, f\"outputs/plots/tuned/convnextnet_tuned_training_curve.png\")\n",
    "\n",
    "# Confusion Matrix\n",
    "plot_confusion_matrix(\n",
    "    cm=metrics[\"confusion_matrix\"],\n",
    "    classes=[\"No Fire\", \"Fire\"],\n",
    "    output_path=f\"outputs/plots/tuned/convnextnet_tuned_confusion_matrix.png\"\n",
    ")\n",
    "\n",
    "# Precision-Recall Curve\n",
    "if \"y_probs\" in metrics:\n",
    "    y_true = metrics[\"y_true\"]\n",
    "    y_probs = [prob[1] for prob in metrics[\"y_probs\"]]\n",
    "    plot_precision_recall(\n",
    "        y_true=y_true,\n",
    "        y_scores=y_probs,\n",
    "        output_path=f\"outputs/plots/tuned/convnextnet_tuned_precision_recall_curve.png\"\n",
    "    )\n",
    "\n",
    "    # ROC Curve\n",
    "    plot_roc_curve(\n",
    "        y_true=y_true,\n",
    "        y_scores=y_probs,\n",
    "        output_path=f\"outputs/plots/tuned/convnextnet_tuned_roc_curve.png\"\n",
    "    )\n",
    "\n",
    "print(\"[INFO] All results saved successfully!\")"
   ]
  }
 ],
 "metadata": {
  "kernelspec": {
   "display_name": "env",
   "language": "python",
   "name": "python3"
  },
  "language_info": {
   "codemirror_mode": {
    "name": "ipython",
    "version": 3
   },
   "file_extension": ".py",
   "mimetype": "text/x-python",
   "name": "python",
   "nbconvert_exporter": "python",
   "pygments_lexer": "ipython3",
   "version": "3.11.9"
  }
 },
 "nbformat": 4,
 "nbformat_minor": 4
}
