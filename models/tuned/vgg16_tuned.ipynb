{
 "cells": [
  {
   "cell_type": "code",
   "execution_count": 1,
   "metadata": {},
   "outputs": [],
   "source": [
    "import os\n",
    "os.chdir(\"../..\")"
   ]
  },
  {
   "cell_type": "code",
   "execution_count": null,
   "metadata": {},
   "outputs": [
    {
     "name": "stderr",
     "output_type": "stream",
     "text": [
      "[I 2024-12-14 20:55:00,204] A new study created in memory with name: no-name-b34a2723-a03c-48fb-9a14-a6713dd8e8dc\n"
     ]
    },
    {
     "name": "stdout",
     "output_type": "stream",
     "text": [
      "[INFO] Using device: cuda\n",
      "[INFO] Loading datasets...\n",
      "[INFO] Datasets loaded successfully!\n",
      "[INFO] Creating Optuna study...\n",
      "[INFO] Starting hyperparameter optimization...\n",
      "[INFO] Starting trial 0\n",
      "[DEBUG] Initializing model with last 2 layers unfrozen...\n"
     ]
    },
    {
     "name": "stderr",
     "output_type": "stream",
     "text": [
      "C:\\Users\\Yash\\Documents\\Development\\Projects\\final_year\\env\\Lib\\site-packages\\torchvision\\models\\_utils.py:208: UserWarning: The parameter 'pretrained' is deprecated since 0.13 and may be removed in the future, please use 'weights' instead.\n",
      "  warnings.warn(\n",
      "C:\\Users\\Yash\\Documents\\Development\\Projects\\final_year\\env\\Lib\\site-packages\\torchvision\\models\\_utils.py:223: UserWarning: Arguments other than a weight enum or `None` for 'weights' are deprecated since 0.13 and may be removed in the future. The current behavior is equivalent to passing `weights=VGG16_Weights.IMAGENET1K_V1`. You can also use `weights=VGG16_Weights.DEFAULT` to get the most up-to-date weights.\n",
      "  warnings.warn(msg)\n",
      "C:\\Users\\Yash\\AppData\\Local\\Temp\\ipykernel_14112\\1558077712.py:36: FutureWarning: suggest_loguniform has been deprecated in v3.0.0. This feature will be removed in v6.0.0. See https://github.com/optuna/optuna/releases/tag/v3.0.0. Use suggest_float(..., log=True) instead.\n",
      "  lr = trial.suggest_loguniform(\"lr\", 1e-4, 1e-2)\n",
      "C:\\Users\\Yash\\AppData\\Local\\Temp\\ipykernel_14112\\1558077712.py:38: FutureWarning: suggest_loguniform has been deprecated in v3.0.0. This feature will be removed in v6.0.0. See https://github.com/optuna/optuna/releases/tag/v3.0.0. Use suggest_float(..., log=True) instead.\n",
      "  weight_decay = trial.suggest_loguniform(\"weight_decay\", 1e-5, 1e-3)\n"
     ]
    },
    {
     "name": "stdout",
     "output_type": "stream",
     "text": [
      "[DEBUG] Model initialized successfully!\n",
      "[DEBUG] Suggesting hyperparameters...\n",
      "[DEBUG] Suggested hyperparameters: lr=0.0002608893414774875, optimizer=Adam, weight_decay=0.0006817058752998485\n",
      "[DEBUG] Setting up optimizer...\n",
      "[DEBUG] Optimizer set up successfully!\n",
      "[INFO] Starting model training...\n",
      "\n",
      "Starting training...\n",
      "\n"
     ]
    },
    {
     "name": "stderr",
     "output_type": "stream",
     "text": [
      "                                                                                                                                           "
     ]
    },
    {
     "name": "stdout",
     "output_type": "stream",
     "text": [
      "Epoch [1]:\n",
      "    Train Loss: 0.5608, Train Acc: 0.7138\n",
      "    Val Loss:   0.4582, Val Acc:   0.7637\n",
      "    Val Recall: 0.7724, Val F1:   0.8000\n",
      "    Learning Rate: 0.000261\n",
      "\n",
      "[INFO] Best model saved with val_recall: 0.7724\n"
     ]
    },
    {
     "name": "stderr",
     "output_type": "stream",
     "text": [
      "                                                                                                                                           "
     ]
    },
    {
     "name": "stdout",
     "output_type": "stream",
     "text": [
      "Epoch [2]:\n",
      "    Train Loss: 0.5111, Train Acc: 0.7562\n",
      "    Val Loss:   0.5299, Val Acc:   0.6990\n",
      "    Val Recall: 0.8171, Val F1:   0.7686\n",
      "    Learning Rate: 0.000261\n",
      "\n",
      "[INFO] Best model saved with val_recall: 0.8171\n"
     ]
    },
    {
     "name": "stderr",
     "output_type": "stream",
     "text": [
      "                                                                                                                                           "
     ]
    },
    {
     "name": "stdout",
     "output_type": "stream",
     "text": [
      "Epoch [3]:\n",
      "    Train Loss: 0.4670, Train Acc: 0.7838\n",
      "    Val Loss:   0.4336, Val Acc:   0.8234\n",
      "    Val Recall: 0.9024, Val F1:   0.8621\n",
      "    Learning Rate: 0.000261\n",
      "\n",
      "[INFO] Best model saved with val_recall: 0.9024\n"
     ]
    },
    {
     "name": "stderr",
     "output_type": "stream",
     "text": [
      "                                                                                                                                           "
     ]
    },
    {
     "name": "stdout",
     "output_type": "stream",
     "text": [
      "Epoch [4]:\n",
      "    Train Loss: 0.4326, Train Acc: 0.8076\n",
      "    Val Loss:   0.5408, Val Acc:   0.8085\n",
      "    Val Recall: 0.8455, Val F1:   0.8438\n",
      "    Learning Rate: 0.000261\n",
      "\n",
      "[INFO] No improvement in val_recall. Patience: 1/3\n"
     ]
    },
    {
     "name": "stderr",
     "output_type": "stream",
     "text": [
      "                                                                                                                                           "
     ]
    },
    {
     "name": "stdout",
     "output_type": "stream",
     "text": [
      "Epoch [5]:\n",
      "    Train Loss: 0.4079, Train Acc: 0.8368\n",
      "    Val Loss:   0.4492, Val Acc:   0.8060\n",
      "    Val Recall: 0.7561, Val F1:   0.8267\n",
      "    Learning Rate: 0.000261\n",
      "\n",
      "[INFO] No improvement in val_recall. Patience: 2/3\n"
     ]
    },
    {
     "name": "stderr",
     "output_type": "stream",
     "text": [
      "[I 2024-12-14 21:46:49,157] Trial 0 finished with value: 0.8258706467661692 and parameters: {'lr': 0.0002608893414774875, 'optimizer': 'Adam', 'weight_decay': 0.0006817058752998485}. Best is trial 0 with value: 0.8258706467661692.\n"
     ]
    },
    {
     "name": "stdout",
     "output_type": "stream",
     "text": [
      "Epoch [6]:\n",
      "    Train Loss: 0.3681, Train Acc: 0.8352\n",
      "    Val Loss:   0.4025, Val Acc:   0.8259\n",
      "    Val Recall: 0.8293, Val F1:   0.8536\n",
      "    Learning Rate: 0.000261\n",
      "\n",
      "[INFO] No improvement in val_recall. Patience: 3/3\n",
      "[INFO] Training stopped after 6 epochs.\n",
      "\n",
      "[INFO] Training completed!\n",
      "[INFO] Trial 0 - Validation Accuracy: 0.8259\n",
      "[INFO] Starting trial 1\n",
      "[DEBUG] Initializing model with last 2 layers unfrozen...\n"
     ]
    },
    {
     "name": "stderr",
     "output_type": "stream",
     "text": [
      "C:\\Users\\Yash\\Documents\\Development\\Projects\\final_year\\env\\Lib\\site-packages\\torchvision\\models\\_utils.py:208: UserWarning: The parameter 'pretrained' is deprecated since 0.13 and may be removed in the future, please use 'weights' instead.\n",
      "  warnings.warn(\n",
      "C:\\Users\\Yash\\Documents\\Development\\Projects\\final_year\\env\\Lib\\site-packages\\torchvision\\models\\_utils.py:223: UserWarning: Arguments other than a weight enum or `None` for 'weights' are deprecated since 0.13 and may be removed in the future. The current behavior is equivalent to passing `weights=VGG16_Weights.IMAGENET1K_V1`. You can also use `weights=VGG16_Weights.DEFAULT` to get the most up-to-date weights.\n",
      "  warnings.warn(msg)\n",
      "C:\\Users\\Yash\\AppData\\Local\\Temp\\ipykernel_14112\\1558077712.py:36: FutureWarning: suggest_loguniform has been deprecated in v3.0.0. This feature will be removed in v6.0.0. See https://github.com/optuna/optuna/releases/tag/v3.0.0. Use suggest_float(..., log=True) instead.\n",
      "  lr = trial.suggest_loguniform(\"lr\", 1e-4, 1e-2)\n",
      "C:\\Users\\Yash\\AppData\\Local\\Temp\\ipykernel_14112\\1558077712.py:38: FutureWarning: suggest_loguniform has been deprecated in v3.0.0. This feature will be removed in v6.0.0. See https://github.com/optuna/optuna/releases/tag/v3.0.0. Use suggest_float(..., log=True) instead.\n",
      "  weight_decay = trial.suggest_loguniform(\"weight_decay\", 1e-5, 1e-3)\n"
     ]
    },
    {
     "name": "stdout",
     "output_type": "stream",
     "text": [
      "[DEBUG] Model initialized successfully!\n",
      "[DEBUG] Suggesting hyperparameters...\n",
      "[DEBUG] Suggested hyperparameters: lr=0.006075620138943037, optimizer=AdamW, weight_decay=1.7458158625334772e-05\n",
      "[DEBUG] Setting up optimizer...\n",
      "[DEBUG] Optimizer set up successfully!\n",
      "[INFO] Starting model training...\n",
      "\n",
      "Starting training...\n",
      "\n"
     ]
    },
    {
     "name": "stderr",
     "output_type": "stream",
     "text": [
      "                                                                                                                                           "
     ]
    },
    {
     "name": "stdout",
     "output_type": "stream",
     "text": [
      "Epoch [1]:\n",
      "    Train Loss: 318062.3203, Train Acc: 0.5125\n",
      "    Val Loss:   408.7938, Val Acc:   0.6119\n",
      "    Val Recall: 1.0000, Val F1:   0.7593\n",
      "    Learning Rate: 0.006076\n",
      "\n",
      "[INFO] Best model saved with val_recall: 1.0000\n"
     ]
    },
    {
     "name": "stderr",
     "output_type": "stream",
     "text": [
      "                                                                                                                                           "
     ]
    },
    {
     "name": "stdout",
     "output_type": "stream",
     "text": [
      "Epoch [2]:\n",
      "    Train Loss: 946.5998, Train Acc: 0.5162\n",
      "    Val Loss:   4584128.1766, Val Acc:   0.3881\n",
      "    Val Recall: 0.0000, Val F1:   0.0000\n",
      "    Learning Rate: 0.006076\n",
      "\n",
      "[INFO] No improvement in val_recall. Patience: 1/3\n"
     ]
    },
    {
     "name": "stderr",
     "output_type": "stream",
     "text": [
      "                                                                                                                                           "
     ]
    },
    {
     "name": "stdout",
     "output_type": "stream",
     "text": [
      "Epoch [3]:\n",
      "    Train Loss: 112238.7943, Train Acc: 0.5427\n",
      "    Val Loss:   0.6819, Val Acc:   0.6119\n",
      "    Val Recall: 1.0000, Val F1:   0.7593\n",
      "    Learning Rate: 0.006076\n",
      "\n",
      "[INFO] No improvement in val_recall. Patience: 2/3\n"
     ]
    },
    {
     "name": "stderr",
     "output_type": "stream",
     "text": [
      "[I 2024-12-14 22:21:54,946] Trial 1 finished with value: 0.6119402985074627 and parameters: {'lr': 0.006075620138943037, 'optimizer': 'AdamW', 'weight_decay': 1.7458158625334772e-05}. Best is trial 0 with value: 0.8258706467661692.\n"
     ]
    },
    {
     "name": "stdout",
     "output_type": "stream",
     "text": [
      "Epoch [4]:\n",
      "    Train Loss: 7.4531, Train Acc: 0.6063\n",
      "    Val Loss:   0.6728, Val Acc:   0.6119\n",
      "    Val Recall: 1.0000, Val F1:   0.7593\n",
      "    Learning Rate: 0.006076\n",
      "\n",
      "[INFO] No improvement in val_recall. Patience: 3/3\n",
      "[INFO] Training stopped after 4 epochs.\n",
      "\n",
      "[INFO] Training completed!\n",
      "[INFO] Trial 1 - Validation Accuracy: 0.6119\n",
      "[INFO] Starting trial 2\n",
      "[DEBUG] Initializing model with last 2 layers unfrozen...\n"
     ]
    },
    {
     "name": "stderr",
     "output_type": "stream",
     "text": [
      "C:\\Users\\Yash\\Documents\\Development\\Projects\\final_year\\env\\Lib\\site-packages\\torchvision\\models\\_utils.py:208: UserWarning: The parameter 'pretrained' is deprecated since 0.13 and may be removed in the future, please use 'weights' instead.\n",
      "  warnings.warn(\n",
      "C:\\Users\\Yash\\Documents\\Development\\Projects\\final_year\\env\\Lib\\site-packages\\torchvision\\models\\_utils.py:223: UserWarning: Arguments other than a weight enum or `None` for 'weights' are deprecated since 0.13 and may be removed in the future. The current behavior is equivalent to passing `weights=VGG16_Weights.IMAGENET1K_V1`. You can also use `weights=VGG16_Weights.DEFAULT` to get the most up-to-date weights.\n",
      "  warnings.warn(msg)\n",
      "C:\\Users\\Yash\\AppData\\Local\\Temp\\ipykernel_14112\\1558077712.py:36: FutureWarning: suggest_loguniform has been deprecated in v3.0.0. This feature will be removed in v6.0.0. See https://github.com/optuna/optuna/releases/tag/v3.0.0. Use suggest_float(..., log=True) instead.\n",
      "  lr = trial.suggest_loguniform(\"lr\", 1e-4, 1e-2)\n",
      "C:\\Users\\Yash\\AppData\\Local\\Temp\\ipykernel_14112\\1558077712.py:38: FutureWarning: suggest_loguniform has been deprecated in v3.0.0. This feature will be removed in v6.0.0. See https://github.com/optuna/optuna/releases/tag/v3.0.0. Use suggest_float(..., log=True) instead.\n",
      "  weight_decay = trial.suggest_loguniform(\"weight_decay\", 1e-5, 1e-3)\n"
     ]
    },
    {
     "name": "stdout",
     "output_type": "stream",
     "text": [
      "[DEBUG] Model initialized successfully!\n",
      "[DEBUG] Suggesting hyperparameters...\n",
      "[DEBUG] Suggested hyperparameters: lr=0.007556158664536913, optimizer=AdamW, weight_decay=0.00020763573458760406\n",
      "[DEBUG] Setting up optimizer...\n",
      "[DEBUG] Optimizer set up successfully!\n",
      "[INFO] Starting model training...\n",
      "\n",
      "Starting training...\n",
      "\n"
     ]
    },
    {
     "name": "stderr",
     "output_type": "stream",
     "text": [
      "Epoch [1] - Training:  78%|██████████████████████████████████████████▉            | 46/59 [06:22<01:49,  8.40s/it, Batch Loss=1849626.5000]"
     ]
    }
   ],
   "source": [
    "import torch\n",
    "import torch.nn as nn\n",
    "import torch.optim as optim\n",
    "from utils.dataset_loader import load_datasets\n",
    "from utils.model_utils import initialize_model\n",
    "from utils.train_utils import train_model\n",
    "from utils.metrics import evaluate_model\n",
    "from utils.visualization import plot_training, plot_confusion_matrix\n",
    "import optuna\n",
    "\n",
    "# Device setup\n",
    "device = torch.device(\"cuda\" if torch.cuda.is_available() else \"cpu\")\n",
    "print(f\"[INFO] Using device: {device}\")\n",
    "\n",
    "# Load dataset\n",
    "print(\"[INFO] Loading datasets...\")\n",
    "train_loader, val_loader, test_loader = load_datasets(\n",
    "    data_dir=\"wildfire_dataset_scaled\",\n",
    "    batch_size=32,\n",
    "    augmentation=\"augmented\"  # Switch to \"augmented\" for better generalization\n",
    ")\n",
    "print(\"[INFO] Datasets loaded successfully!\")\n",
    "\n",
    "# Objective function for Optuna\n",
    "def objective(trial):\n",
    "    print(f\"[INFO] Starting trial {trial.number}\")\n",
    "\n",
    "    # Initialize VGG16 with the last 2 layers unfrozen\n",
    "    print(\"[DEBUG] Initializing model with last 2 layers unfrozen...\")\n",
    "    model = initialize_model(\"vgg16\", num_classes=2, pretrained=True, freeze_all=False, unfreeze_last_n=2)\n",
    "    model.to(device)\n",
    "    print(\"[DEBUG] Model initialized successfully!\")\n",
    "\n",
    "    # Define hyperparameters to tune\n",
    "    print(\"[DEBUG] Suggesting hyperparameters...\")\n",
    "    lr = trial.suggest_loguniform(\"lr\", 1e-4, 1e-2)\n",
    "    optimizer_name = trial.suggest_categorical(\"optimizer\", [\"Adam\", \"SGD\", \"AdamW\"])\n",
    "    weight_decay = trial.suggest_loguniform(\"weight_decay\", 1e-5, 1e-3)\n",
    "    print(f\"[DEBUG] Suggested hyperparameters: lr={lr}, optimizer={optimizer_name}, weight_decay={weight_decay}\")\n",
    "\n",
    "    # Set optimizer\n",
    "    print(\"[DEBUG] Setting up optimizer...\")\n",
    "    if optimizer_name == \"Adam\":\n",
    "        optimizer = optim.Adam(model.parameters(), lr=lr, weight_decay=weight_decay)\n",
    "    elif optimizer_name == \"SGD\":\n",
    "        optimizer = optim.SGD(model.parameters(), lr=lr, momentum=0.9, weight_decay=weight_decay)\n",
    "    elif optimizer_name == \"AdamW\":\n",
    "        optimizer = optim.AdamW(model.parameters(), lr=lr, weight_decay=weight_decay)\n",
    "    print(\"[DEBUG] Optimizer set up successfully!\")\n",
    "\n",
    "    # Define loss function\n",
    "    criterion = nn.CrossEntropyLoss()\n",
    "\n",
    "    # Train the model\n",
    "    print(\"[INFO] Starting model training...\")\n",
    "    history = train_model(\n",
    "        model=model,\n",
    "        train_loader=train_loader,\n",
    "        val_loader=val_loader,\n",
    "        criterion=criterion,\n",
    "        optimizer=optimizer,\n",
    "        scheduler=None,\n",
    "        # num_epochs=5,  # Use fewer epochs for hyperparameter search\n",
    "        device=device,\n",
    "        save_path=\"outputs/models/tuned/vgg16.pt\",\n",
    "        early_stop_patience=10,     # Stop after 5 epochs without improvement\n",
    "        monitor_metric=\"val_f1\",\n",
    "    )\n",
    "    print(\"[INFO] Training completed!\")\n",
    "\n",
    "    # Evaluate the model on validation data\n",
    "    val_acc = history[\"val_acc\"][-1]\n",
    "    print(f\"[INFO] Trial {trial.number} - Validation Accuracy: {val_acc:.4f}\")\n",
    "    return val_acc\n",
    "\n",
    "# Create and run Optuna study\n",
    "print(\"[INFO] Creating Optuna study...\")\n",
    "study = optuna.create_study(direction=\"maximize\")\n",
    "print(\"[INFO] Starting hyperparameter optimization...\")\n",
    "study.optimize(objective, n_trials=20)\n",
    "print(\"[INFO] Hyperparameter optimization completed!\")\n",
    "\n",
    "# Retrieve best hyperparameters\n",
    "best_params = study.best_params\n",
    "print(f\"[INFO] Best Hyperparameters: {best_params}\")\n",
    "\n",
    "# Train the final model with best hyperparameters\n",
    "print(\"[INFO] Initializing final model with best hyperparameters...\")\n",
    "final_model = initialize_model(\"vgg16\", num_classes=2, pretrained=True, freeze_all=False, unfreeze_last_n=2)\n",
    "final_model.to(device)\n",
    "\n",
    "print(\"[DEBUG] Setting up optimizer for final training...\")\n",
    "if best_params[\"optimizer\"] == \"Adam\":\n",
    "    optimizer = optim.Adam(final_model.parameters(), lr=best_params[\"lr\"], weight_decay=best_params[\"weight_decay\"])\n",
    "elif best_params[\"optimizer\"] == \"SGD\":\n",
    "    optimizer = optim.SGD(final_model.parameters(), lr=best_params[\"lr\"], momentum=0.9, weight_decay=best_params[\"weight_decay\"])\n",
    "elif best_params[\"optimizer\"] == \"AdamW\":\n",
    "    optimizer = optim.AdamW(final_model.parameters(), lr=best_params[\"lr\"], weight_decay=best_params[\"weight_decay\"])\n",
    "print(\"[DEBUG] Optimizer setup for final model completed!\")\n",
    "\n",
    "criterion = nn.CrossEntropyLoss()\n",
    "\n",
    "# Train the final model\n",
    "print(\"[INFO] Starting final model training...\")\n",
    "history = train_model(\n",
    "    model=final_model,\n",
    "    train_loader=train_loader,\n",
    "    val_loader=val_loader,\n",
    "    criterion=criterion,\n",
    "    optimizer=optimizer,\n",
    "    scheduler=None,\n",
    "    # num_epochs=15,  # Full training with best parameters\n",
    "    device=device,\n",
    "    save_path=\"outputs/models/baseline/vgg16.pt\",\n",
    "    early_stop_patience=10,     # Stop after 5 epochs without improvement\n",
    "    monitor_metric=\"val_recall\",\n",
    ")\n",
    "print(\"[INFO] Final model training completed!\")\n",
    "\n",
    "# Evaluate and visualize results\n",
    "print(\"[INFO] Evaluating final model...\")\n",
    "metrics = evaluate_model(final_model, test_loader, [\"No Fire\", \"Fire\"], device)\n",
    "print(\"[INFO] Evaluation completed!\")\n",
    "\n",
    "print(\"[INFO] Saving training and evaluation results...\")\n",
    "plot_training(history, \"outputs/tuned_training_curve.png\")\n",
    "plot_confusion_matrix(metrics[\"confusion_matrix\"], [\"No Fire\", \"Fire\"], \"outputs/tuned_confusion_matrix.png\")\n",
    "print(\"[INFO] Results saved successfully!\")\n",
    "\n",
    "# Visualize Optuna study results\n",
    "try:\n",
    "    import optuna.visualization as vis\n",
    "    print(\"[INFO] Generating Optuna visualizations...\")\n",
    "    vis.plot_optimization_history(study).show()\n",
    "    vis.plot_param_importances(study).show()\n",
    "    print(\"[INFO] Optuna visualizations generated successfully!\")\n",
    "except ImportError:\n",
    "    print(\"[WARNING] Optuna visualization library is not installed. Skipping visualizations.\")\n"
   ]
  },
  {
   "cell_type": "code",
   "execution_count": null,
   "metadata": {},
   "outputs": [],
   "source": []
  }
 ],
 "metadata": {
  "kernelspec": {
   "display_name": "Python 3 (ipykernel)",
   "language": "python",
   "name": "python3"
  },
  "language_info": {
   "codemirror_mode": {
    "name": "ipython",
    "version": 3
   },
   "file_extension": ".py",
   "mimetype": "text/x-python",
   "name": "python",
   "nbconvert_exporter": "python",
   "pygments_lexer": "ipython3",
   "version": "3.11.9"
  }
 },
 "nbformat": 4,
 "nbformat_minor": 4
}
