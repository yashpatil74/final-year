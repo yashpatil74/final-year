{
 "cells": [
  {
   "cell_type": "code",
   "execution_count": 1,
   "metadata": {},
   "outputs": [],
   "source": [
    "import os\n",
    "os.chdir(\"../..\")"
   ]
  },
  {
   "cell_type": "code",
   "execution_count": null,
   "metadata": {},
   "outputs": [
    {
     "name": "stderr",
     "output_type": "stream",
     "text": [
      "[I 2024-12-10 00:53:28,576] A new study created in memory with name: no-name-077e7243-2af1-4103-926c-7d7f44d33b22\n",
      "c:\\Users\\Yash\\Documents\\Development\\Projects\\final_year\\env\\Lib\\site-packages\\torchvision\\models\\_utils.py:208: UserWarning: The parameter 'pretrained' is deprecated since 0.13 and may be removed in the future, please use 'weights' instead.\n",
      "  warnings.warn(\n",
      "c:\\Users\\Yash\\Documents\\Development\\Projects\\final_year\\env\\Lib\\site-packages\\torchvision\\models\\_utils.py:223: UserWarning: Arguments other than a weight enum or `None` for 'weights' are deprecated since 0.13 and may be removed in the future. The current behavior is equivalent to passing `weights=VGG16_Weights.IMAGENET1K_V1`. You can also use `weights=VGG16_Weights.DEFAULT` to get the most up-to-date weights.\n",
      "  warnings.warn(msg)\n",
      "C:\\Users\\Yash\\AppData\\Local\\Temp\\ipykernel_2816\\4289293604.py:28: FutureWarning: suggest_loguniform has been deprecated in v3.0.0. This feature will be removed in v6.0.0. See https://github.com/optuna/optuna/releases/tag/v3.0.0. Use suggest_float(..., log=True) instead.\n",
      "  lr = trial.suggest_loguniform(\"lr\", 1e-4, 1e-2)\n",
      "C:\\Users\\Yash\\AppData\\Local\\Temp\\ipykernel_2816\\4289293604.py:30: FutureWarning: suggest_loguniform has been deprecated in v3.0.0. This feature will be removed in v6.0.0. See https://github.com/optuna/optuna/releases/tag/v3.0.0. Use suggest_float(..., log=True) instead.\n",
      "  weight_decay = trial.suggest_loguniform(\"weight_decay\", 1e-5, 1e-3)\n"
     ]
    },
    {
     "name": "stdout",
     "output_type": "stream",
     "text": [
      "\n",
      "Starting training...\n",
      "\n"
     ]
    },
    {
     "name": "stderr",
     "output_type": "stream",
     "text": [
      "                                                                                          \r"
     ]
    },
    {
     "name": "stdout",
     "output_type": "stream",
     "text": [
      "Epoch [1/5]:\n",
      "    Train Loss: 0.7438, Train Acc: 0.5941\n",
      "    Val Loss:   0.6800, Val Acc:   0.6095\n",
      "    Learning Rate: 0.000711\n",
      "\n"
     ]
    },
    {
     "name": "stderr",
     "output_type": "stream",
     "text": [
      "                                                                                          \r"
     ]
    },
    {
     "name": "stdout",
     "output_type": "stream",
     "text": [
      "Epoch [2/5]:\n",
      "    Train Loss: 0.6741, Train Acc: 0.6089\n",
      "    Val Loss:   0.9303, Val Acc:   0.6119\n",
      "    Learning Rate: 0.000711\n",
      "\n"
     ]
    },
    {
     "name": "stderr",
     "output_type": "stream",
     "text": [
      "                                                                                          \r"
     ]
    },
    {
     "name": "stdout",
     "output_type": "stream",
     "text": [
      "Epoch [3/5]:\n",
      "    Train Loss: 0.6797, Train Acc: 0.6460\n",
      "    Val Loss:   0.5567, Val Acc:   0.7338\n",
      "    Learning Rate: 0.000711\n",
      "\n"
     ]
    },
    {
     "name": "stderr",
     "output_type": "stream",
     "text": [
      "                                                                                          \r"
     ]
    },
    {
     "name": "stdout",
     "output_type": "stream",
     "text": [
      "Epoch [4/5]:\n",
      "    Train Loss: 0.5058, Train Acc: 0.7658\n",
      "    Val Loss:   0.4913, Val Acc:   0.7313\n",
      "    Learning Rate: 0.000711\n",
      "\n"
     ]
    },
    {
     "name": "stderr",
     "output_type": "stream",
     "text": [
      "[I 2024-12-10 01:27:04,544] Trial 0 finished with value: 0.7935323383084577 and parameters: {'lr': 0.0007112164668560808, 'optimizer': 'Adam', 'weight_decay': 0.0006358163338872209}. Best is trial 0 with value: 0.7935323383084577.\n"
     ]
    },
    {
     "name": "stdout",
     "output_type": "stream",
     "text": [
      "Epoch [5/5]:\n",
      "    Train Loss: 0.4507, Train Acc: 0.7976\n",
      "    Val Loss:   0.4474, Val Acc:   0.7935\n",
      "    Learning Rate: 0.000711\n",
      "\n",
      "\n",
      "Training complete!\n",
      "\n",
      "\n",
      "Starting training...\n",
      "\n"
     ]
    },
    {
     "name": "stderr",
     "output_type": "stream",
     "text": [
      "                                                                                          \r"
     ]
    },
    {
     "name": "stdout",
     "output_type": "stream",
     "text": [
      "Epoch [1/5]:\n",
      "    Train Loss: 0.4046, Train Acc: 0.8294\n",
      "    Val Loss:   0.3505, Val Acc:   0.8383\n",
      "    Learning Rate: 0.003396\n",
      "\n"
     ]
    },
    {
     "name": "stderr",
     "output_type": "stream",
     "text": [
      "                                                                                          \r"
     ]
    },
    {
     "name": "stdout",
     "output_type": "stream",
     "text": [
      "Epoch [2/5]:\n",
      "    Train Loss: 0.2482, Train Acc: 0.8983\n",
      "    Val Loss:   0.2995, Val Acc:   0.8706\n",
      "    Learning Rate: 0.003396\n",
      "\n"
     ]
    },
    {
     "name": "stderr",
     "output_type": "stream",
     "text": [
      "                                                                                          \r"
     ]
    },
    {
     "name": "stdout",
     "output_type": "stream",
     "text": [
      "Epoch [3/5]:\n",
      "    Train Loss: 0.2096, Train Acc: 0.9152\n",
      "    Val Loss:   0.2645, Val Acc:   0.9005\n",
      "    Learning Rate: 0.003396\n",
      "\n"
     ]
    },
    {
     "name": "stderr",
     "output_type": "stream",
     "text": [
      "                                                                                          \r"
     ]
    },
    {
     "name": "stdout",
     "output_type": "stream",
     "text": [
      "Epoch [4/5]:\n",
      "    Train Loss: 0.1033, Train Acc: 0.9640\n",
      "    Val Loss:   0.3070, Val Acc:   0.8731\n",
      "    Learning Rate: 0.003396\n",
      "\n"
     ]
    },
    {
     "name": "stderr",
     "output_type": "stream",
     "text": [
      "[I 2024-12-10 02:06:36,198] Trial 1 finished with value: 0.9154228855721394 and parameters: {'lr': 0.0033958542484435177, 'optimizer': 'SGD', 'weight_decay': 2.0030527602103604e-05}. Best is trial 1 with value: 0.9154228855721394.\n"
     ]
    },
    {
     "name": "stdout",
     "output_type": "stream",
     "text": [
      "Epoch [5/5]:\n",
      "    Train Loss: 0.0775, Train Acc: 0.9735\n",
      "    Val Loss:   0.3081, Val Acc:   0.9154\n",
      "    Learning Rate: 0.003396\n",
      "\n",
      "\n",
      "Training complete!\n",
      "\n",
      "\n",
      "Starting training...\n",
      "\n"
     ]
    },
    {
     "name": "stderr",
     "output_type": "stream",
     "text": [
      "                                                                                          \r"
     ]
    },
    {
     "name": "stdout",
     "output_type": "stream",
     "text": [
      "Epoch [1/5]:\n",
      "    Train Loss: 1.1256, Train Acc: 0.5866\n",
      "    Val Loss:   0.6661, Val Acc:   0.6119\n",
      "    Learning Rate: 0.001261\n",
      "\n"
     ]
    },
    {
     "name": "stderr",
     "output_type": "stream",
     "text": [
      "                                                                                          \r"
     ]
    },
    {
     "name": "stdout",
     "output_type": "stream",
     "text": [
      "Epoch [2/5]:\n",
      "    Train Loss: 0.6154, Train Acc: 0.6513\n",
      "    Val Loss:   0.5662, Val Acc:   0.7313\n",
      "    Learning Rate: 0.001261\n",
      "\n"
     ]
    },
    {
     "name": "stderr",
     "output_type": "stream",
     "text": [
      "                                                                                          \r"
     ]
    },
    {
     "name": "stdout",
     "output_type": "stream",
     "text": [
      "Epoch [3/5]:\n",
      "    Train Loss: 0.5434, Train Acc: 0.7181\n",
      "    Val Loss:   0.5502, Val Acc:   0.7313\n",
      "    Learning Rate: 0.001261\n",
      "\n"
     ]
    },
    {
     "name": "stderr",
     "output_type": "stream",
     "text": [
      "                                                                                          \r"
     ]
    },
    {
     "name": "stdout",
     "output_type": "stream",
     "text": [
      "Epoch [4/5]:\n",
      "    Train Loss: 0.5179, Train Acc: 0.7525\n",
      "    Val Loss:   0.4888, Val Acc:   0.7662\n",
      "    Learning Rate: 0.001261\n",
      "\n"
     ]
    },
    {
     "name": "stderr",
     "output_type": "stream",
     "text": [
      "[I 2024-12-10 02:40:04,134] Trial 2 finished with value: 0.7388059701492538 and parameters: {'lr': 0.0012612863817196881, 'optimizer': 'Adam', 'weight_decay': 7.204649520329377e-05}. Best is trial 1 with value: 0.9154228855721394.\n"
     ]
    },
    {
     "name": "stdout",
     "output_type": "stream",
     "text": [
      "Epoch [5/5]:\n",
      "    Train Loss: 0.5088, Train Acc: 0.7589\n",
      "    Val Loss:   0.4938, Val Acc:   0.7388\n",
      "    Learning Rate: 0.001261\n",
      "\n",
      "\n",
      "Training complete!\n",
      "\n",
      "\n",
      "Starting training...\n",
      "\n"
     ]
    },
    {
     "name": "stderr",
     "output_type": "stream",
     "text": [
      "                                                                                          \r"
     ]
    },
    {
     "name": "stdout",
     "output_type": "stream",
     "text": [
      "Epoch [1/5]:\n",
      "    Train Loss: 0.4103, Train Acc: 0.8076\n",
      "    Val Loss:   0.4026, Val Acc:   0.8308\n",
      "    Learning Rate: 0.004076\n",
      "\n"
     ]
    },
    {
     "name": "stderr",
     "output_type": "stream",
     "text": [
      "                                                                                          \r"
     ]
    },
    {
     "name": "stdout",
     "output_type": "stream",
     "text": [
      "Epoch [2/5]:\n",
      "    Train Loss: 0.2492, Train Acc: 0.8956\n",
      "    Val Loss:   0.2537, Val Acc:   0.9104\n",
      "    Learning Rate: 0.004076\n",
      "\n"
     ]
    },
    {
     "name": "stderr",
     "output_type": "stream",
     "text": [
      "                                                                                          \r"
     ]
    },
    {
     "name": "stdout",
     "output_type": "stream",
     "text": [
      "Epoch [3/5]:\n",
      "    Train Loss: 0.1843, Train Acc: 0.9269\n",
      "    Val Loss:   0.2541, Val Acc:   0.9055\n",
      "    Learning Rate: 0.004076\n",
      "\n"
     ]
    },
    {
     "name": "stderr",
     "output_type": "stream",
     "text": [
      "                                                                                          \r"
     ]
    },
    {
     "name": "stdout",
     "output_type": "stream",
     "text": [
      "Epoch [4/5]:\n",
      "    Train Loss: 0.1163, Train Acc: 0.9587\n",
      "    Val Loss:   0.3679, Val Acc:   0.8731\n",
      "    Learning Rate: 0.004076\n",
      "\n"
     ]
    },
    {
     "name": "stderr",
     "output_type": "stream",
     "text": [
      "Epoch [5/5] - Training:  46%|████▌     | 27/59 [03:25<04:04,  7.63s/it, Batch Loss=0.0680]"
     ]
    }
   ],
   "source": [
    "\n",
    "\n",
    "import torch\n",
    "import torch.nn as nn\n",
    "import torch.optim as optim\n",
    "from utils.dataset_loader import load_datasets\n",
    "from utils.model_utils import initialize_model\n",
    "from utils.train_utils import train_model\n",
    "from utils.metrics import evaluate_model\n",
    "from utils.visualization import plot_training, plot_confusion_matrix\n",
    "import optuna\n",
    "\n",
    "# Device setup\n",
    "device = torch.device(\"cuda\" if torch.cuda.is_available() else \"cpu\")\n",
    "\n",
    "# Load dataset\n",
    "train_loader, val_loader, test_loader = load_datasets(\n",
    "    data_dir=\"wildfire_dataset_scaled\",\n",
    "    batch_size=32,\n",
    "    augmentation=\"baseline\"\n",
    ")\n",
    "\n",
    "# Objective function for Optuna\n",
    "def objective(trial):\n",
    "    # Initialize VGG16 with last 2 layers unfrozen\n",
    "    model = initialize_model(\"vgg16\", num_classes=2, pretrained=True, freeze_all=False, unfreeze_last_n=2)\n",
    "    model.to(device)\n",
    "\n",
    "    # Define hyperparameters to tune\n",
    "    lr = trial.suggest_loguniform(\"lr\", 1e-4, 1e-2)\n",
    "    optimizer_name = trial.suggest_categorical(\"optimizer\", [\"Adam\", \"SGD\", \"AdamW\"])\n",
    "    weight_decay = trial.suggest_loguniform(\"weight_decay\", 1e-5, 1e-3)\n",
    "\n",
    "    # Set optimizer\n",
    "    if optimizer_name == \"Adam\":\n",
    "        optimizer = optim.Adam(filter(lambda p: p.requires_grad, model.parameters()), lr=lr, weight_decay=weight_decay)\n",
    "    elif optimizer_name == \"SGD\":\n",
    "        optimizer = optim.SGD(filter(lambda p: p.requires_grad, model.parameters()), lr=lr, momentum=0.9, weight_decay=weight_decay)\n",
    "    elif optimizer_name == \"AdamW\":\n",
    "        optimizer = optim.AdamW(filter(lambda p: p.requires_grad, model.parameters()), lr=lr, weight_decay=weight_decay)\n",
    "\n",
    "    # Define loss function\n",
    "    criterion = nn.CrossEntropyLoss()\n",
    "\n",
    "    # Train the model\n",
    "    history = train_model(\n",
    "        model=model,\n",
    "        train_loader=train_loader,\n",
    "        val_loader=val_loader,\n",
    "        criterion=criterion,\n",
    "        optimizer=optimizer,\n",
    "        scheduler=None,\n",
    "        num_epochs=5,  # Use fewer epochs for hyperparameter search\n",
    "        device=device\n",
    "    )\n",
    "\n",
    "    # Evaluate the model on validation data\n",
    "    val_acc = history[\"val_acc\"][-1]\n",
    "    return val_acc\n",
    "\n",
    "# Run Optuna study\n",
    "study = optuna.create_study(direction=\"maximize\")\n",
    "study.optimize(objective, n_trials=20)\n",
    "\n",
    "# Best hyperparameters\n",
    "best_params = study.best_params\n",
    "print(f\"Best Hyperparameters: {best_params}\")\n",
    "\n",
    "# Train final model with best hyperparameters\n",
    "final_model = initialize_model(\"vgg16\", num_classes=2, pretrained=True, freeze_all=False, unfreeze_last_n=2)\n",
    "final_model.to(device)\n",
    "\n",
    "if best_params[\"optimizer\"] == \"Adam\":\n",
    "    optimizer = optim.Adam(filter(lambda p: p.requires_grad, final_model.parameters()), lr=best_params[\"lr\"], weight_decay=best_params[\"weight_decay\"])\n",
    "elif best_params[\"optimizer\"] == \"SGD\":\n",
    "    optimizer = optim.SGD(filter(lambda p: p.requires_grad, final_model.parameters()), lr=best_params[\"lr\"], momentum=0.9, weight_decay=best_params[\"weight_decay\"])\n",
    "elif best_params[\"optimizer\"] == \"AdamW\":\n",
    "    optimizer = optim.AdamW(filter(lambda p: p.requires_grad, final_model.parameters()), lr=best_params[\"lr\"], weight_decay=best_params[\"weight_decay\"])\n",
    "\n",
    "criterion = nn.CrossEntropyLoss()\n",
    "\n",
    "# Train the final model\n",
    "history = train_model(\n",
    "    model=final_model,\n",
    "    train_loader=train_loader,\n",
    "    val_loader=val_loader,\n",
    "    criterion=criterion,\n",
    "    optimizer=optimizer,\n",
    "    scheduler=None,\n",
    "    num_epochs=15,  # Full training with best parameters\n",
    "    device=device\n",
    ")\n",
    "\n",
    "# Evaluate and visualize\n",
    "metrics = evaluate_model(final_model, test_loader, [\"No Fire\", \"Fire\"], device)\n",
    "plot_training(history, \"outputs/tuned_training_curve.png\")\n",
    "plot_confusion_matrix(metrics[\"confusion_matrix\"], [\"No Fire\", \"Fire\"], \"outputs/tuned_confusion_matrix.png\")\n"
   ]
  },
  {
   "cell_type": "code",
   "execution_count": null,
   "metadata": {},
   "outputs": [],
   "source": []
  }
 ],
 "metadata": {
  "kernelspec": {
   "display_name": "env",
   "language": "python",
   "name": "python3"
  },
  "language_info": {
   "codemirror_mode": {
    "name": "ipython",
    "version": 3
   },
   "file_extension": ".py",
   "mimetype": "text/x-python",
   "name": "python",
   "nbconvert_exporter": "python",
   "pygments_lexer": "ipython3",
   "version": "3.11.9"
  }
 },
 "nbformat": 4,
 "nbformat_minor": 2
}
