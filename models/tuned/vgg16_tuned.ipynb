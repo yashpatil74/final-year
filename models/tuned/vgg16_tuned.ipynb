{
 "cells": [
  {
   "cell_type": "code",
   "execution_count": 1,
   "metadata": {},
   "outputs": [],
   "source": [
    "import os\n",
    "os.chdir(\"../..\")"
   ]
  },
  {
   "cell_type": "code",
   "execution_count": null,
   "metadata": {},
   "outputs": [
    {
     "name": "stderr",
     "output_type": "stream",
     "text": [
      "c:\\Users\\Yash\\Documents\\Development\\Projects\\final_year\\env\\Lib\\site-packages\\albumentations\\__init__.py:24: UserWarning: A new version of Albumentations is available: 1.4.23 (you have 1.4.22). Upgrade using: pip install -U albumentations. To disable automatic update checks, set the environment variable NO_ALBUMENTATIONS_UPDATE to 1.\n",
      "  check_for_updates()\n",
      "[I 2024-12-18 18:24:17,085] A new study created in memory with name: no-name-52f71643-e652-4a1b-9e59-078e487076a2\n"
     ]
    },
    {
     "name": "stdout",
     "output_type": "stream",
     "text": [
      "[INFO] Using device: cuda\n",
      "[INFO] Loading datasets...\n",
      "[INFO] Datasets loaded successfully!\n",
      "[INFO] Running hyperparameter optimization...\n",
      "[DEBUG] Starting trial 0...\n",
      "[DEBUG] Suggested hyperparameters: lr=4.1098689333400045e-05, weight_decay=1.1050285411686587e-05, optimizer=Adam\n",
      "[DEBUG] Initializing VGG16 model...\n"
     ]
    },
    {
     "name": "stderr",
     "output_type": "stream",
     "text": [
      "C:\\Users\\Yash\\AppData\\Local\\Temp\\ipykernel_13848\\976140276.py:32: FutureWarning: suggest_loguniform has been deprecated in v3.0.0. This feature will be removed in v6.0.0. See https://github.com/optuna/optuna/releases/tag/v3.0.0. Use suggest_float(..., log=True) instead.\n",
      "  lr = trial.suggest_loguniform(\"lr\", 1e-5, 1e-2)\n",
      "C:\\Users\\Yash\\AppData\\Local\\Temp\\ipykernel_13848\\976140276.py:33: FutureWarning: suggest_loguniform has been deprecated in v3.0.0. This feature will be removed in v6.0.0. See https://github.com/optuna/optuna/releases/tag/v3.0.0. Use suggest_float(..., log=True) instead.\n",
      "  weight_decay = trial.suggest_loguniform(\"weight_decay\", 1e-5, 1e-3)\n",
      "c:\\Users\\Yash\\Documents\\Development\\Projects\\final_year\\env\\Lib\\site-packages\\torchvision\\models\\_utils.py:208: UserWarning: The parameter 'pretrained' is deprecated since 0.13 and may be removed in the future, please use 'weights' instead.\n",
      "  warnings.warn(\n",
      "c:\\Users\\Yash\\Documents\\Development\\Projects\\final_year\\env\\Lib\\site-packages\\torchvision\\models\\_utils.py:223: UserWarning: Arguments other than a weight enum or `None` for 'weights' are deprecated since 0.13 and may be removed in the future. The current behavior is equivalent to passing `weights=VGG16_Weights.IMAGENET1K_V1`. You can also use `weights=VGG16_Weights.DEFAULT` to get the most up-to-date weights.\n",
      "  warnings.warn(msg)\n",
      "c:\\Users\\Yash\\Documents\\Development\\Projects\\final_year\\env\\Lib\\site-packages\\torch\\optim\\lr_scheduler.py:62: UserWarning: The verbose parameter is deprecated. Please use get_last_lr() to access the learning rate.\n",
      "  warnings.warn(\n"
     ]
    },
    {
     "name": "stdout",
     "output_type": "stream",
     "text": [
      "[DEBUG] Setting up optimizer...\n",
      "[INFO] Starting model training...\n",
      "\n",
      "Starting training...\n",
      "\n"
     ]
    },
    {
     "name": "stderr",
     "output_type": "stream",
     "text": [
      "Epoch [1] - Training:  80%|███████▉  | 47/59 [01:32<00:24,  2.07s/it]"
     ]
    }
   ],
   "source": [
    "import torch\n",
    "import torch.nn as nn\n",
    "import torch.optim as optim\n",
    "from utils.dataset_loader import load_datasets\n",
    "from utils.model_utils import initialize_model\n",
    "from utils.train_utils import train_model\n",
    "from utils.metrics import evaluate_model\n",
    "from utils.visualization import plot_training, plot_confusion_matrix\n",
    "import optuna\n",
    "import os\n",
    "\n",
    "# Device setup\n",
    "device = torch.device(\"cuda\" if torch.cuda.is_available() else \"cpu\")\n",
    "print(f\"[INFO] Using device: {device}\")\n",
    "\n",
    "# Ensure output directories exist\n",
    "os.makedirs(\"outputs/models\", exist_ok=True)\n",
    "os.makedirs(\"outputs/plots\", exist_ok=True)\n",
    "\n",
    "# Load Dataset\n",
    "print(\"[INFO] Loading datasets...\")\n",
    "train_loader, val_loader, test_loader = load_datasets(\n",
    "    \"wildfire_dataset_scaled\", batch_size=32, augmentation=\"augmented\"\n",
    ")\n",
    "print(\"[INFO] Datasets loaded successfully!\")\n",
    "\n",
    "# Objective function for Optuna\n",
    "def objective(trial):\n",
    "    print(f\"[DEBUG] Starting trial {trial.number}...\")\n",
    "\n",
    "    # Hyperparameter suggestions\n",
    "    lr = trial.suggest_float(\"lr\", 1e-5, 1e-2, log=True)\n",
    "    weight_decay = trial.suggest_float(\"weight_decay\", 1e-5, 1e-3, log=True)\n",
    "    optimizer_name = trial.suggest_categorical(\"optimizer\", [\"Adam\", \"SGD\", \"AdamW\"])\n",
    "    print(f\"[DEBUG] Suggested hyperparameters: lr={lr}, weight_decay={weight_decay}, optimizer={optimizer_name}\")\n",
    "\n",
    "    # Initialize model\n",
    "    print(\"[DEBUG] Initializing VGG16 model...\")\n",
    "    model = initialize_model(\"vgg16\", num_classes=2, pretrained=True, freeze_all=False, unfreeze_last_n=2)\n",
    "    model.to(device)\n",
    "\n",
    "    # Optimizer setup\n",
    "    print(\"[DEBUG] Setting up optimizer...\")\n",
    "    if optimizer_name == \"Adam\":\n",
    "        optimizer = optim.Adam(model.parameters(), lr=lr, weight_decay=weight_decay)\n",
    "    elif optimizer_name == \"SGD\":\n",
    "        optimizer = optim.SGD(model.parameters(), lr=lr, momentum=0.9, weight_decay=weight_decay)\n",
    "    elif optimizer_name == \"AdamW\":\n",
    "        optimizer = optim.AdamW(model.parameters(), lr=lr, weight_decay=weight_decay)\n",
    "\n",
    "    # Scheduler\n",
    "    scheduler = optim.lr_scheduler.ReduceLROnPlateau(optimizer, mode=\"max\", patience=3, factor=0.5, verbose=True)\n",
    "\n",
    "    # Loss function\n",
    "    criterion = nn.CrossEntropyLoss()\n",
    "\n",
    "    # Train the model\n",
    "    print(\"[INFO] Starting model training...\")\n",
    "    save_path = \"outputs/models/vgg16_trial_best.pth\"\n",
    "    history = train_model(\n",
    "        model=model,\n",
    "        train_loader=train_loader,\n",
    "        val_loader=val_loader,\n",
    "        criterion=criterion,\n",
    "        optimizer=optimizer,\n",
    "        scheduler=scheduler,\n",
    "        device=device,\n",
    "        save_path=save_path,\n",
    "        early_stop_patience=5,\n",
    "        monitor_metric=\"val_recall\",\n",
    "    )\n",
    "    print(\"[INFO] Training completed!\")\n",
    "\n",
    "    # Return validation recall\n",
    "    val_recall = history[\"val_recall\"][-1]\n",
    "    print(f\"[INFO] Trial {trial.number} - Final Validation Recall: {val_recall:.4f}\")\n",
    "    return val_recall\n",
    "\n",
    "# Run Optuna\n",
    "print(\"[INFO] Running hyperparameter optimization...\")\n",
    "study = optuna.create_study(direction=\"maximize\")\n",
    "study.optimize(objective, n_trials=20)\n",
    "print(f\"[INFO] Best parameters found: {study.best_params}\")\n",
    "\n",
    "# Train Final Model\n",
    "print(\"[INFO] Training final model with best hyperparameters...\")\n",
    "final_model = initialize_model(\"vgg16\", num_classes=2, pretrained=True, freeze_all=False, unfreeze_last_n=2)\n",
    "final_model.to(device)\n",
    "\n",
    "# Optimizer\n",
    "optimizer = optim.Adam(final_model.parameters(), lr=study.best_params[\"lr\"], weight_decay=study.best_params[\"weight_decay\"])\n",
    "scheduler = optim.lr_scheduler.ReduceLROnPlateau(optimizer, mode=\"max\", patience=3, factor=0.5)\n",
    "\n",
    "# Final training\n",
    "final_save_path = \"outputs/models/vgg16_final.pth\"\n",
    "history = train_model(\n",
    "    model=final_model,\n",
    "    train_loader=train_loader,\n",
    "    val_loader=val_loader,\n",
    "    criterion=nn.CrossEntropyLoss(),\n",
    "    optimizer=optimizer,\n",
    "    scheduler=scheduler,\n",
    "    device=device,\n",
    "    save_path=final_save_path,\n",
    "    early_stop_patience=5,\n",
    "    monitor_metric=\"val_recall\",\n",
    ")\n",
    "\n",
    "# Evaluation and Visualization\n",
    "print(\"[INFO] Evaluating final model...\")\n",
    "metrics = evaluate_model(final_model, test_loader, [\"No Fire\", \"Fire\"], device)\n",
    "plot_training(history, \"outputs/plots/vgg16_training_curve.png\")\n",
    "plot_confusion_matrix(metrics[\"confusion_matrix\"], [\"No Fire\", \"Fire\"], \"outputs/plots/vgg16_confusion_matrix.png\")\n",
    "print(\"[INFO] Final results saved successfully!\")\n"
   ]
  },
  {
   "cell_type": "code",
   "execution_count": null,
   "metadata": {},
   "outputs": [],
   "source": []
  }
 ],
 "metadata": {
  "kernelspec": {
   "display_name": "env",
   "language": "python",
   "name": "python3"
  },
  "language_info": {
   "codemirror_mode": {
    "name": "ipython",
    "version": 3
   },
   "file_extension": ".py",
   "mimetype": "text/x-python",
   "name": "python",
   "nbconvert_exporter": "python",
   "pygments_lexer": "ipython3",
   "version": "3.11.9"
  }
 },
 "nbformat": 4,
 "nbformat_minor": 4
}
