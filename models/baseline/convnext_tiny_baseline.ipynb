{
 "cells": [
  {
   "cell_type": "code",
   "execution_count": 1,
   "metadata": {},
   "outputs": [],
   "source": [
    "import os\n",
    "os.chdir(\"../..\")"
   ]
  },
  {
   "cell_type": "code",
   "execution_count": 2,
   "metadata": {},
   "outputs": [],
   "source": [
    "import torch\n",
    "from utils.dataset_loader import load_datasets\n",
    "from utils.model_utils import initialize_model\n",
    "from utils.train_utils import train_model\n",
    "from utils.metrics import evaluate_model\n",
    "from utils.visualization import plot_training, plot_confusion_matrix"
   ]
  },
  {
   "cell_type": "code",
   "execution_count": 3,
   "metadata": {},
   "outputs": [
    {
     "name": "stdout",
     "output_type": "stream",
     "text": [
      "[INFO] Using device: cuda\n"
     ]
    }
   ],
   "source": [
    "device = torch.device(\"cuda\" if torch.cuda.is_available() else \"cpu\")\n",
    "print(f\"[INFO] Using device: {device}\")"
   ]
  },
  {
   "cell_type": "code",
   "execution_count": 4,
   "metadata": {},
   "outputs": [],
   "source": [
    "data_dir = \"wildfire_dataset_scaled\"\n",
    "batch_size = 32\n",
    "num_epochs = 10\n",
    "learning_rate = 0.001\n",
    "num_classes = 2"
   ]
  },
  {
   "cell_type": "code",
   "execution_count": 5,
   "metadata": {},
   "outputs": [
    {
     "name": "stdout",
     "output_type": "stream",
     "text": [
      "[INFO] Loading datasets...\n",
      "[INFO] Datasets loaded successfully!\n"
     ]
    }
   ],
   "source": [
    "print(\"[INFO] Loading datasets...\")\n",
    "train_loader, val_loader, test_loader = load_datasets(data_dir, batch_size, augmentation=\"baseline\")\n",
    "print(\"[INFO] Datasets loaded successfully!\")\n",
    "\n"
   ]
  },
  {
   "cell_type": "markdown",
   "metadata": {},
   "source": []
  },
  {
   "cell_type": "code",
   "execution_count": 6,
   "metadata": {},
   "outputs": [
    {
     "name": "stdout",
     "output_type": "stream",
     "text": [
      "\n",
      "[INFO] Starting Baseline Training for Model: resnet18\n",
      "\n",
      "[INFO] Initializing ResNet18 model...\n"
     ]
    },
    {
     "name": "stderr",
     "output_type": "stream",
     "text": [
      "c:\\Users\\Yash\\Documents\\Development\\Projects\\final_year\\env\\Lib\\site-packages\\torchvision\\models\\_utils.py:208: UserWarning: The parameter 'pretrained' is deprecated since 0.13 and may be removed in the future, please use 'weights' instead.\n",
      "  warnings.warn(\n",
      "c:\\Users\\Yash\\Documents\\Development\\Projects\\final_year\\env\\Lib\\site-packages\\torchvision\\models\\_utils.py:223: UserWarning: Arguments other than a weight enum or `None` for 'weights' are deprecated since 0.13 and may be removed in the future. The current behavior is equivalent to passing `weights=ConvNeXt_Tiny_Weights.IMAGENET1K_V1`. You can also use `weights=ConvNeXt_Tiny_Weights.DEFAULT` to get the most up-to-date weights.\n",
      "  warnings.warn(msg)\n",
      "Downloading: \"https://download.pytorch.org/models/convnext_tiny-983f1562.pth\" to C:\\Users\\Yash/.cache\\torch\\hub\\checkpoints\\convnext_tiny-983f1562.pth\n",
      "100%|██████████| 109M/109M [00:09<00:00, 12.0MB/s] \n"
     ]
    },
    {
     "name": "stdout",
     "output_type": "stream",
     "text": [
      "[INFO] Model initialized successfully!\n"
     ]
    }
   ],
   "source": [
    "print(\"\\n[INFO] Starting Baseline Training for Model: resnet18\\n\")\n",
    "print(\"[INFO] Initializing ResNet18 model...\")\n",
    "model = initialize_model(\n",
    "    model_name=\"convnext_tiny\",\n",
    "    num_classes=num_classes,\n",
    "    pretrained=True,\n",
    "    freeze_all=True  # Baseline: Freeze all layers\n",
    ")\n",
    "print(\"[INFO] Model initialized successfully!\")"
   ]
  },
  {
   "cell_type": "code",
   "execution_count": 7,
   "metadata": {},
   "outputs": [
    {
     "name": "stdout",
     "output_type": "stream",
     "text": [
      "[INFO] Setting up loss function and optimizer...\n",
      "[INFO] Loss function and optimizer set up!\n"
     ]
    }
   ],
   "source": [
    "print(\"[INFO] Setting up loss function and optimizer...\")\n",
    "criterion = torch.nn.CrossEntropyLoss()\n",
    "optimizer = torch.optim.Adam(filter(lambda p: p.requires_grad, model.parameters()), lr=learning_rate)\n",
    "print(\"[INFO] Loss function and optimizer set up!\")"
   ]
  },
  {
   "cell_type": "code",
   "execution_count": 8,
   "metadata": {},
   "outputs": [
    {
     "name": "stdout",
     "output_type": "stream",
     "text": [
      "[INFO] Starting model training...\n",
      "\n",
      "Starting training...\n",
      "\n"
     ]
    },
    {
     "name": "stderr",
     "output_type": "stream",
     "text": [
      "                                                                                           \r"
     ]
    },
    {
     "name": "stdout",
     "output_type": "stream",
     "text": [
      "Epoch [1/10]:\n",
      "    Train Loss: 0.3816, Train Acc: 0.8368\n",
      "    Val Loss:   0.3036, Val Acc:   0.8756\n",
      "    Learning Rate: 0.001000\n",
      "\n"
     ]
    },
    {
     "name": "stderr",
     "output_type": "stream",
     "text": [
      "                                                                                           \r"
     ]
    },
    {
     "name": "stdout",
     "output_type": "stream",
     "text": [
      "Epoch [2/10]:\n",
      "    Train Loss: 0.2741, Train Acc: 0.8824\n",
      "    Val Loss:   0.2698, Val Acc:   0.8980\n",
      "    Learning Rate: 0.001000\n",
      "\n"
     ]
    },
    {
     "name": "stderr",
     "output_type": "stream",
     "text": [
      "                                                                                           \r"
     ]
    },
    {
     "name": "stdout",
     "output_type": "stream",
     "text": [
      "Epoch [3/10]:\n",
      "    Train Loss: 0.2404, Train Acc: 0.9051\n",
      "    Val Loss:   0.2539, Val Acc:   0.9005\n",
      "    Learning Rate: 0.001000\n",
      "\n"
     ]
    },
    {
     "name": "stderr",
     "output_type": "stream",
     "text": [
      "                                                                                           \r"
     ]
    },
    {
     "name": "stdout",
     "output_type": "stream",
     "text": [
      "Epoch [4/10]:\n",
      "    Train Loss: 0.2143, Train Acc: 0.9136\n",
      "    Val Loss:   0.2373, Val Acc:   0.9104\n",
      "    Learning Rate: 0.001000\n",
      "\n"
     ]
    },
    {
     "name": "stderr",
     "output_type": "stream",
     "text": [
      "                                                                                           \r"
     ]
    },
    {
     "name": "stdout",
     "output_type": "stream",
     "text": [
      "Epoch [5/10]:\n",
      "    Train Loss: 0.2058, Train Acc: 0.9221\n",
      "    Val Loss:   0.2363, Val Acc:   0.9204\n",
      "    Learning Rate: 0.001000\n",
      "\n"
     ]
    },
    {
     "name": "stderr",
     "output_type": "stream",
     "text": [
      "                                                                                           \r"
     ]
    },
    {
     "name": "stdout",
     "output_type": "stream",
     "text": [
      "Epoch [6/10]:\n",
      "    Train Loss: 0.1892, Train Acc: 0.9274\n",
      "    Val Loss:   0.2295, Val Acc:   0.9179\n",
      "    Learning Rate: 0.001000\n",
      "\n"
     ]
    },
    {
     "name": "stderr",
     "output_type": "stream",
     "text": [
      "                                                                                           \r"
     ]
    },
    {
     "name": "stdout",
     "output_type": "stream",
     "text": [
      "Epoch [7/10]:\n",
      "    Train Loss: 0.1819, Train Acc: 0.9338\n",
      "    Val Loss:   0.2271, Val Acc:   0.9154\n",
      "    Learning Rate: 0.001000\n",
      "\n"
     ]
    },
    {
     "name": "stderr",
     "output_type": "stream",
     "text": [
      "                                                                                           \r"
     ]
    },
    {
     "name": "stdout",
     "output_type": "stream",
     "text": [
      "Epoch [8/10]:\n",
      "    Train Loss: 0.1761, Train Acc: 0.9316\n",
      "    Val Loss:   0.2307, Val Acc:   0.9129\n",
      "    Learning Rate: 0.001000\n",
      "\n"
     ]
    },
    {
     "name": "stderr",
     "output_type": "stream",
     "text": [
      "                                                                                           \r"
     ]
    },
    {
     "name": "stdout",
     "output_type": "stream",
     "text": [
      "Epoch [9/10]:\n",
      "    Train Loss: 0.1781, Train Acc: 0.9279\n",
      "    Val Loss:   0.2493, Val Acc:   0.9104\n",
      "    Learning Rate: 0.001000\n",
      "\n"
     ]
    },
    {
     "name": "stderr",
     "output_type": "stream",
     "text": [
      "                                                                                            \r"
     ]
    },
    {
     "name": "stdout",
     "output_type": "stream",
     "text": [
      "Epoch [10/10]:\n",
      "    Train Loss: 0.1676, Train Acc: 0.9353\n",
      "    Val Loss:   0.2128, Val Acc:   0.9229\n",
      "    Learning Rate: 0.001000\n",
      "\n",
      "\n",
      "Training complete!\n",
      "\n",
      "[INFO] Training completed successfully!\n"
     ]
    }
   ],
   "source": [
    "print(\"[INFO] Starting model training...\")\n",
    "history = train_model(\n",
    "    model=model,\n",
    "    train_loader=train_loader,\n",
    "    val_loader=val_loader,\n",
    "    criterion=criterion,\n",
    "    optimizer=optimizer,\n",
    "    scheduler=None,  # No learning rate scheduler for baseline\n",
    "    num_epochs=num_epochs,\n",
    "    device=device\n",
    ")\n",
    "print(\"[INFO] Training completed successfully!\")"
   ]
  },
  {
   "cell_type": "code",
   "execution_count": 9,
   "metadata": {},
   "outputs": [
    {
     "name": "stdout",
     "output_type": "stream",
     "text": [
      "[INFO] Evaluating the model...\n",
      "\n",
      "[INFO] Metrics for ResNet18:\n",
      "{'classification_report': {'No Fire': {'precision': 0.9056603773584906, 'recall': 0.9056603773584906, 'f1-score': 0.9056603773584906, 'support': 159.0}, 'Fire': {'precision': 0.9402390438247012, 'recall': 0.9402390438247012, 'f1-score': 0.9402390438247012, 'support': 251.0}, 'accuracy': 0.926829268292683, 'macro avg': {'precision': 0.9229497105915959, 'recall': 0.9229497105915959, 'f1-score': 0.9229497105915959, 'support': 410.0}, 'weighted avg': {'precision': 0.926829268292683, 'recall': 0.926829268292683, 'f1-score': 0.926829268292683, 'support': 410.0}}, 'confusion_matrix': array([[144,  15],\n",
      "       [ 15, 236]]), 'roc_auc': np.float64(0.9229497105915959)}\n"
     ]
    }
   ],
   "source": [
    "print(\"[INFO] Evaluating the model...\")\n",
    "metrics = evaluate_model(\n",
    "    model=model,\n",
    "    test_loader=test_loader,\n",
    "    classes=[\"No Fire\", \"Fire\"],\n",
    "    device=device\n",
    ")\n",
    "print(f\"\\n[INFO] Metrics for ResNet18:\\n{metrics}\")"
   ]
  },
  {
   "cell_type": "code",
   "execution_count": 10,
   "metadata": {},
   "outputs": [
    {
     "name": "stdout",
     "output_type": "stream",
     "text": [
      "[INFO] Saving training and evaluation results...\n"
     ]
    },
    {
     "data": {
      "image/png": "[encoded data removed]",
      "text/plain": [
       "<Figure size 1000x500 with 1 Axes>"
      ]
     },
     "metadata": {},
     "output_type": "display_data"
    },
    {
     "data": {
      "image/png": "[encoded data removed]",
      "text/plain": [
       "<Figure size 800x800 with 2 Axes>"
      ]
     },
     "metadata": {},
     "output_type": "display_data"
    },
    {
     "name": "stdout",
     "output_type": "stream",
     "text": [
      "[INFO] Results saved successfully!\n"
     ]
    }
   ],
   "source": [
    "print(\"[INFO] Saving training and evaluation results...\")\n",
    "plot_training(history, \"outputs/resnet18_baseline_training_curve.png\")\n",
    "plot_confusion_matrix(\n",
    "    cm=metrics[\"confusion_matrix\"],\n",
    "    classes=[\"No Fire\", \"Fire\"],\n",
    "    output_path=\"outputs/resnet18_baseline_confusion_matrix.png\"\n",
    ")\n",
    "print(\"[INFO] Results saved successfully!\")"
   ]
  }
 ],
 "metadata": {
  "kernelspec": {
   "display_name": "env",
   "language": "python",
   "name": "python3"
  },
  "language_info": {
   "codemirror_mode": {
    "name": "ipython",
    "version": 3
   },
   "file_extension": ".py",
   "mimetype": "text/x-python",
   "name": "python",
   "nbconvert_exporter": "python",
   "pygments_lexer": "ipython3",
   "version": "3.11.9"
  }
 },
 "nbformat": 4,
 "nbformat_minor": 2
}
