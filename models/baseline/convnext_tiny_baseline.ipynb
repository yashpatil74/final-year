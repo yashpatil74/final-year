{
 "cells": [
  {
   "cell_type": "code",
   "execution_count": 1,
   "metadata": {},
   "outputs": [],
   "source": [
    "import os\n",
    "os.chdir(\"../..\")"
   ]
  },
  {
   "cell_type": "code",
   "execution_count": 2,
   "metadata": {},
   "outputs": [
    {
     "name": "stderr",
     "output_type": "stream",
     "text": [
      "c:\\Users\\Yash\\Documents\\Development\\Projects\\final_year\\env\\Lib\\site-packages\\albumentations\\__init__.py:24: UserWarning: A new version of Albumentations is available: 1.4.24 (you have 1.4.23). Upgrade using: pip install -U albumentations. To disable automatic update checks, set the environment variable NO_ALBUMENTATIONS_UPDATE to 1.\n",
      "  check_for_updates()\n"
     ]
    }
   ],
   "source": [
    "import torch\n",
    "from utils.dataset_loader import *\n",
    "from utils.model_utils import *\n",
    "from utils.train_utils import *\n",
    "from utils.metrics import *\n",
    "from utils.visualization import *"
   ]
  },
  {
   "cell_type": "code",
   "execution_count": 3,
   "metadata": {},
   "outputs": [
    {
     "name": "stdout",
     "output_type": "stream",
     "text": [
      "[INFO] Using device: cuda\n"
     ]
    }
   ],
   "source": [
    "device = torch.device(\"cuda\" if torch.cuda.is_available() else \"cpu\")\n",
    "print(f\"[INFO] Using device: {device}\")"
   ]
  },
  {
   "cell_type": "code",
   "execution_count": 4,
   "metadata": {},
   "outputs": [],
   "source": [
    "data_dir = \"wildfire_dataset_scaled\"\n",
    "batch_size = 32\n",
    "learning_rate = 0.001\t\n",
    "num_classes = 2"
   ]
  },
  {
   "cell_type": "code",
   "execution_count": 5,
   "metadata": {},
   "outputs": [
    {
     "name": "stderr",
     "output_type": "stream",
     "text": [
      "2024-12-25 14:33:28,353 - INFO - Loading datasets from wildfire_dataset_scaled with augmentation type 'baseline'.\n",
      "2024-12-25 14:33:28,353 - INFO - Applying baseline augmentations: Resize and Normalize.\n",
      "2024-12-25 14:33:28,360 - INFO - Initialized AlbumentationsDataset with root: wildfire_dataset_scaled/train\n",
      "2024-12-25 14:33:28,362 - INFO - Initialized AlbumentationsDataset with root: wildfire_dataset_scaled/val\n",
      "2024-12-25 14:33:28,364 - INFO - Initialized AlbumentationsDataset with root: wildfire_dataset_scaled/test\n",
      "2024-12-25 14:33:28,364 - INFO - Datasets initialized. Preparing DataLoaders...\n",
      "2024-12-25 14:33:28,365 - INFO - Using WeightedRandomSampler for class balancing.\n",
      "2024-12-25 14:33:28,365 - INFO - Computing class weights from directory: wildfire_dataset_scaled/train\n",
      "2024-12-25 14:33:28,366 - INFO - Class 'fire' has 730 samples.\n",
      "2024-12-25 14:33:28,368 - INFO - Class 'nofire' has 1157 samples.\n",
      "2024-12-25 14:33:28,368 - INFO - Computed class weights: {'fire': 1.0, 'nofire': 0.7943186335572451}\n"
     ]
    },
    {
     "name": "stdout",
     "output_type": "stream",
     "text": [
      "[INFO] Loading datasets...\n"
     ]
    },
    {
     "name": "stderr",
     "output_type": "stream",
     "text": [
      "2024-12-25 14:33:29,537 - INFO - DataLoaders created successfully.\n"
     ]
    },
    {
     "name": "stdout",
     "output_type": "stream",
     "text": [
      "[INFO] Datasets loaded successfully!\n"
     ]
    }
   ],
   "source": [
    "print(\"[INFO] Loading datasets...\")\n",
    "train_loader, val_loader, test_loader = load_datasets(data_dir, batch_size, augmentation=\"baseline\")\n",
    "print(\"[INFO] Datasets loaded successfully!\")\n",
    "\n"
   ]
  },
  {
   "cell_type": "markdown",
   "metadata": {},
   "source": []
  },
  {
   "cell_type": "code",
   "execution_count": 6,
   "metadata": {},
   "outputs": [
    {
     "name": "stdout",
     "output_type": "stream",
     "text": [
      "\n",
      "[INFO] Starting Baseline Training for Model: ConvnextTiny\n",
      "\n",
      "[INFO] Initializing ConvnextTiny model...\n",
      "[INFO] Model initialized successfully!\n"
     ]
    }
   ],
   "source": [
    "print(\"\\n[INFO] Starting Baseline Training for Model: ConvnextTiny\\n\")\n",
    "print(\"[INFO] Initializing ConvnextTiny model...\")\n",
    "model = initialize_model(\n",
    "    model_name=\"convnext_tiny\",\n",
    "    num_classes=num_classes,\n",
    "    pretrained=True,\n",
    "    freeze_all=True ,\n",
    "    dropout_prob=0.0\n",
    ")\n",
    "print(\"[INFO] Model initialized successfully!\")"
   ]
  },
  {
   "cell_type": "code",
   "execution_count": 7,
   "metadata": {},
   "outputs": [
    {
     "name": "stdout",
     "output_type": "stream",
     "text": [
      "[INFO] Setting up loss function and optimizer...\n",
      "[INFO] Loss function and optimizer set up!\n"
     ]
    }
   ],
   "source": [
    "print(\"[INFO] Setting up loss function and optimizer...\")\n",
    "criterion = torch.nn.CrossEntropyLoss()\n",
    "optimizer = torch.optim.Adam(filter(lambda p: p.requires_grad, model.parameters()), lr=learning_rate)\n",
    "print(\"[INFO] Loss function and optimizer set up!\")"
   ]
  },
  {
   "cell_type": "code",
   "execution_count": 8,
   "metadata": {},
   "outputs": [
    {
     "name": "stdout",
     "output_type": "stream",
     "text": [
      "Training started...\n",
      "[INFO] Starting model training...\n",
      "\n",
      "Starting training...\n",
      "\n"
     ]
    },
    {
     "name": "stderr",
     "output_type": "stream",
     "text": [
      "                                                                     \r"
     ]
    },
    {
     "name": "stdout",
     "output_type": "stream",
     "text": [
      "[INFO] Best model saved with val_f1: 0.8791\n",
      "Epoch [1]: Train Loss: 0.5377, Train Acc: 0.7833 | Val Loss: 0.4341, Val Acc: 0.8433, Val Recall: 0.9309, Val F1: 0.8791\n"
     ]
    },
    {
     "name": "stderr",
     "output_type": "stream",
     "text": [
      "                                                                     \r"
     ]
    },
    {
     "name": "stdout",
     "output_type": "stream",
     "text": [
      "[INFO] Best model saved with val_f1: 0.8863\n",
      "Epoch [2]: Train Loss: 0.4095, Train Acc: 0.8474 | Val Loss: 0.3735, Val Acc: 0.8532, Val Recall: 0.9350, Val F1: 0.8863\n"
     ]
    },
    {
     "name": "stderr",
     "output_type": "stream",
     "text": [
      "                                                                     \r"
     ]
    },
    {
     "name": "stdout",
     "output_type": "stream",
     "text": [
      "[INFO] Best model saved with val_f1: 0.9014\n",
      "Epoch [3]: Train Loss: 0.3692, Train Acc: 0.8500 | Val Loss: 0.3427, Val Acc: 0.8731, Val Recall: 0.9472, Val F1: 0.9014\n"
     ]
    },
    {
     "name": "stderr",
     "output_type": "stream",
     "text": [
      "                                                                     \r"
     ]
    },
    {
     "name": "stdout",
     "output_type": "stream",
     "text": [
      "[INFO] Best model saved with val_f1: 0.9055\n",
      "Epoch [4]: Train Loss: 0.3526, Train Acc: 0.8437 | Val Loss: 0.3282, Val Acc: 0.8806, Val Recall: 0.9350, Val F1: 0.9055\n"
     ]
    },
    {
     "name": "stderr",
     "output_type": "stream",
     "text": [
      "                                                                     \r"
     ]
    },
    {
     "name": "stdout",
     "output_type": "stream",
     "text": [
      "[INFO] Best model saved with val_f1: 0.9080\n",
      "Epoch [5]: Train Loss: 0.3347, Train Acc: 0.8532 | Val Loss: 0.3126, Val Acc: 0.8856, Val Recall: 0.9228, Val F1: 0.9080\n"
     ]
    },
    {
     "name": "stderr",
     "output_type": "stream",
     "text": [
      "                                                                     \r"
     ]
    },
    {
     "name": "stdout",
     "output_type": "stream",
     "text": [
      "[INFO] Best model saved with val_f1: 0.9124\n",
      "Epoch [6]: Train Loss: 0.2996, Train Acc: 0.8776 | Val Loss: 0.3003, Val Acc: 0.8905, Val Recall: 0.9309, Val F1: 0.9124\n"
     ]
    },
    {
     "name": "stderr",
     "output_type": "stream",
     "text": [
      "                                                                     \r"
     ]
    },
    {
     "name": "stdout",
     "output_type": "stream",
     "text": [
      "[INFO] Best model saved with val_f1: 0.9157\n",
      "Epoch [7]: Train Loss: 0.2871, Train Acc: 0.8898 | Val Loss: 0.2922, Val Acc: 0.8955, Val Recall: 0.9268, Val F1: 0.9157\n"
     ]
    },
    {
     "name": "stderr",
     "output_type": "stream",
     "text": [
      "                                                                     \r"
     ]
    },
    {
     "name": "stdout",
     "output_type": "stream",
     "text": [
      "[INFO] Best model saved with val_f1: 0.9203\n",
      "Epoch [8]: Train Loss: 0.2879, Train Acc: 0.8839 | Val Loss: 0.2806, Val Acc: 0.9005, Val Recall: 0.9390, Val F1: 0.9203\n"
     ]
    },
    {
     "name": "stderr",
     "output_type": "stream",
     "text": [
      "                                                                     \r"
     ]
    },
    {
     "name": "stdout",
     "output_type": "stream",
     "text": [
      "[INFO] No improvement in val_f1. Patience: 1/12\n",
      "Epoch [9]: Train Loss: 0.2662, Train Acc: 0.8972 | Val Loss: 0.2742, Val Acc: 0.8955, Val Recall: 0.9472, Val F1: 0.9173\n"
     ]
    },
    {
     "name": "stderr",
     "output_type": "stream",
     "text": [
      "                                                                      \r"
     ]
    },
    {
     "name": "stdout",
     "output_type": "stream",
     "text": [
      "[INFO] Best model saved with val_f1: 0.9249\n",
      "Epoch [10]: Train Loss: 0.2595, Train Acc: 0.9020 | Val Loss: 0.2698, Val Acc: 0.9055, Val Recall: 0.9512, Val F1: 0.9249\n"
     ]
    },
    {
     "name": "stderr",
     "output_type": "stream",
     "text": [
      "                                                                      \r"
     ]
    },
    {
     "name": "stdout",
     "output_type": "stream",
     "text": [
      "[INFO] Best model saved with val_f1: 0.9270\n",
      "Epoch [11]: Train Loss: 0.2504, Train Acc: 0.9041 | Val Loss: 0.2642, Val Acc: 0.9080, Val Recall: 0.9553, Val F1: 0.9270\n"
     ]
    },
    {
     "name": "stderr",
     "output_type": "stream",
     "text": [
      "                                                                      \r"
     ]
    },
    {
     "name": "stdout",
     "output_type": "stream",
     "text": [
      "[INFO] Best model saved with val_f1: 0.9280\n",
      "Epoch [12]: Train Loss: 0.2295, Train Acc: 0.9099 | Val Loss: 0.2600, Val Acc: 0.9104, Val Recall: 0.9431, Val F1: 0.9280\n"
     ]
    },
    {
     "name": "stderr",
     "output_type": "stream",
     "text": [
      "                                                                      \r"
     ]
    },
    {
     "name": "stdout",
     "output_type": "stream",
     "text": [
      "[INFO] No improvement in val_f1. Patience: 1/12\n",
      "Epoch [13]: Train Loss: 0.2470, Train Acc: 0.9099 | Val Loss: 0.2614, Val Acc: 0.9104, Val Recall: 0.9268, Val F1: 0.9268\n"
     ]
    },
    {
     "name": "stderr",
     "output_type": "stream",
     "text": [
      "                                                                      \r"
     ]
    },
    {
     "name": "stdout",
     "output_type": "stream",
     "text": [
      "[INFO] Best model saved with val_f1: 0.9312\n",
      "Epoch [14]: Train Loss: 0.2459, Train Acc: 0.8998 | Val Loss: 0.2564, Val Acc: 0.9154, Val Recall: 0.9350, Val F1: 0.9312\n"
     ]
    },
    {
     "name": "stderr",
     "output_type": "stream",
     "text": [
      "                                                                      \r"
     ]
    },
    {
     "name": "stdout",
     "output_type": "stream",
     "text": [
      "[INFO] Best model saved with val_f1: 0.9344\n",
      "Epoch [15]: Train Loss: 0.2473, Train Acc: 0.9025 | Val Loss: 0.2511, Val Acc: 0.9179, Val Recall: 0.9553, Val F1: 0.9344\n"
     ]
    },
    {
     "name": "stderr",
     "output_type": "stream",
     "text": [
      "                                                                      \r"
     ]
    },
    {
     "name": "stdout",
     "output_type": "stream",
     "text": [
      "[INFO] Best model saved with val_f1: 0.9360\n",
      "Epoch [16]: Train Loss: 0.2345, Train Acc: 0.9099 | Val Loss: 0.2479, Val Acc: 0.9204, Val Recall: 0.9512, Val F1: 0.9360\n"
     ]
    },
    {
     "name": "stderr",
     "output_type": "stream",
     "text": [
      "                                                                      \r"
     ]
    },
    {
     "name": "stdout",
     "output_type": "stream",
     "text": [
      "[INFO] Best model saved with val_f1: 0.9402\n",
      "Epoch [17]: Train Loss: 0.2067, Train Acc: 0.9205 | Val Loss: 0.2460, Val Acc: 0.9254, Val Recall: 0.9593, Val F1: 0.9402\n"
     ]
    },
    {
     "name": "stderr",
     "output_type": "stream",
     "text": [
      "                                                                      \r"
     ]
    },
    {
     "name": "stdout",
     "output_type": "stream",
     "text": [
      "[INFO] No improvement in val_f1. Patience: 1/12\n",
      "Epoch [18]: Train Loss: 0.2070, Train Acc: 0.9237 | Val Loss: 0.2436, Val Acc: 0.9179, Val Recall: 0.9472, Val F1: 0.9339\n"
     ]
    },
    {
     "name": "stderr",
     "output_type": "stream",
     "text": [
      "                                                                      \r"
     ]
    },
    {
     "name": "stdout",
     "output_type": "stream",
     "text": [
      "[INFO] No improvement in val_f1. Patience: 2/12\n",
      "Epoch [19]: Train Loss: 0.2115, Train Acc: 0.9168 | Val Loss: 0.2429, Val Acc: 0.9129, Val Recall: 0.9431, Val F1: 0.9299\n"
     ]
    },
    {
     "name": "stderr",
     "output_type": "stream",
     "text": [
      "                                                                      \r"
     ]
    },
    {
     "name": "stdout",
     "output_type": "stream",
     "text": [
      "[INFO] No improvement in val_f1. Patience: 3/12\n",
      "Epoch [20]: Train Loss: 0.2202, Train Acc: 0.9163 | Val Loss: 0.2406, Val Acc: 0.9129, Val Recall: 0.9593, Val F1: 0.9310\n"
     ]
    },
    {
     "name": "stderr",
     "output_type": "stream",
     "text": [
      "                                                                      \r"
     ]
    },
    {
     "name": "stdout",
     "output_type": "stream",
     "text": [
      "[INFO] No improvement in val_f1. Patience: 4/12\n",
      "Epoch [21]: Train Loss: 0.2155, Train Acc: 0.9184 | Val Loss: 0.2414, Val Acc: 0.9154, Val Recall: 0.9309, Val F1: 0.9309\n"
     ]
    },
    {
     "name": "stderr",
     "output_type": "stream",
     "text": [
      "                                                                      \r"
     ]
    },
    {
     "name": "stdout",
     "output_type": "stream",
     "text": [
      "[INFO] No improvement in val_f1. Patience: 5/12\n",
      "Epoch [22]: Train Loss: 0.2053, Train Acc: 0.9189 | Val Loss: 0.2372, Val Acc: 0.9179, Val Recall: 0.9553, Val F1: 0.9344\n"
     ]
    },
    {
     "name": "stderr",
     "output_type": "stream",
     "text": [
      "                                                                      \r"
     ]
    },
    {
     "name": "stdout",
     "output_type": "stream",
     "text": [
      "[INFO] No improvement in val_f1. Patience: 6/12\n",
      "Epoch [23]: Train Loss: 0.2053, Train Acc: 0.9131 | Val Loss: 0.2360, Val Acc: 0.9154, Val Recall: 0.9512, Val F1: 0.9323\n"
     ]
    },
    {
     "name": "stderr",
     "output_type": "stream",
     "text": [
      "                                                                      \r"
     ]
    },
    {
     "name": "stdout",
     "output_type": "stream",
     "text": [
      "[INFO] No improvement in val_f1. Patience: 7/12\n",
      "Epoch [24]: Train Loss: 0.2093, Train Acc: 0.9141 | Val Loss: 0.2361, Val Acc: 0.9204, Val Recall: 0.9512, Val F1: 0.9360\n"
     ]
    },
    {
     "name": "stderr",
     "output_type": "stream",
     "text": [
      "                                                                      \r"
     ]
    },
    {
     "name": "stdout",
     "output_type": "stream",
     "text": [
      "[INFO] No improvement in val_f1. Patience: 8/12\n",
      "Epoch [25]: Train Loss: 0.2026, Train Acc: 0.9226 | Val Loss: 0.2339, Val Acc: 0.9154, Val Recall: 0.9472, Val F1: 0.9320\n"
     ]
    },
    {
     "name": "stderr",
     "output_type": "stream",
     "text": [
      "                                                                      \r"
     ]
    },
    {
     "name": "stdout",
     "output_type": "stream",
     "text": [
      "[INFO] No improvement in val_f1. Patience: 9/12\n",
      "Epoch [26]: Train Loss: 0.1907, Train Acc: 0.9285 | Val Loss: 0.2322, Val Acc: 0.9154, Val Recall: 0.9472, Val F1: 0.9320\n"
     ]
    },
    {
     "name": "stderr",
     "output_type": "stream",
     "text": [
      "                                                                      \r"
     ]
    },
    {
     "name": "stdout",
     "output_type": "stream",
     "text": [
      "[INFO] No improvement in val_f1. Patience: 10/12\n",
      "Epoch [27]: Train Loss: 0.2116, Train Acc: 0.9089 | Val Loss: 0.2322, Val Acc: 0.9179, Val Recall: 0.9390, Val F1: 0.9333\n"
     ]
    },
    {
     "name": "stderr",
     "output_type": "stream",
     "text": [
      "                                                                      \r"
     ]
    },
    {
     "name": "stdout",
     "output_type": "stream",
     "text": [
      "[INFO] No improvement in val_f1. Patience: 11/12\n",
      "Epoch [28]: Train Loss: 0.1836, Train Acc: 0.9322 | Val Loss: 0.2345, Val Acc: 0.9104, Val Recall: 0.9268, Val F1: 0.9268\n"
     ]
    },
    {
     "name": "stderr",
     "output_type": "stream",
     "text": [
      "                                                                      \r"
     ]
    },
    {
     "name": "stdout",
     "output_type": "stream",
     "text": [
      "[INFO] No improvement in val_f1. Patience: 12/12\n",
      "Epoch [29]: Train Loss: 0.1976, Train Acc: 0.9184 | Val Loss: 0.2309, Val Acc: 0.9154, Val Recall: 0.9512, Val F1: 0.9323\n",
      "[INFO] Final metrics saved to outputs/models/baseline\\final_metrics.json\n",
      "[INFO] Training stopped after 29 epochs. Best val_f1: 0.9402\n",
      "\n",
      "[INFO] Training completed successfully!\n",
      "Training completed in 0 hours, 3 minutes, and 37 seconds.\n"
     ]
    }
   ],
   "source": [
    "import time\n",
    "\n",
    "# Start the timer\n",
    "start_time = time.time()\n",
    "print(\"Training started...\")\n",
    "\n",
    "print(\"[INFO] Starting model training...\")\n",
    "history = train_model(\n",
    "    model=model,\n",
    "    train_loader=train_loader,\n",
    "    val_loader=val_loader,\n",
    "    criterion=criterion,\n",
    "    optimizer=optimizer,\n",
    "    scheduler=None,  # No learning rate scheduler for baseline\n",
    "    device=device,\n",
    "    save_path=f\"outputs/models/baseline/convnext_tiny.pt\",\n",
    "    early_stop_patience=12,\n",
    "    monitor_metric=\"val_f1\",\n",
    ")\n",
    "print(\"[INFO] Training completed successfully!\")\n",
    "\n",
    "end_time = time.time()\n",
    "elapsed_time = end_time - start_time\n",
    "\n",
    "hours = int(elapsed_time // 3600)\n",
    "minutes = int((elapsed_time % 3600) // 60)\n",
    "seconds = int(elapsed_time % 60)\n",
    "\n",
    "print(f\"Training completed in {hours} hours, {minutes} minutes, and {seconds} seconds.\")"
   ]
  },
  {
   "cell_type": "code",
   "execution_count": 9,
   "metadata": {},
   "outputs": [
    {
     "name": "stdout",
     "output_type": "stream",
     "text": [
      "[INFO] Evaluating the model...\n",
      "[INFO] Evaluation metrics saved to outputs/plots/baseline\\convnext_tiny\\convnext_tiny_evaluation.json\n",
      "\n",
      "[INFO] Metrics for ResNet18:\n",
      "{'classification_report': {'No Fire': {'precision': 0.9032258064516129, 'recall': 0.8805031446540881, 'f1-score': 0.89171974522293, 'support': 159.0}, 'Fire': {'precision': 0.9254901960784314, 'recall': 0.9402390438247012, 'f1-score': 0.932806324110672, 'support': 251.0}, 'accuracy': 0.9170731707317074, 'macro avg': {'precision': 0.9143580012650221, 'recall': 0.9103710942393947, 'f1-score': 0.912263034666801, 'support': 410.0}, 'weighted avg': {'precision': 0.9168559571743724, 'recall': 0.9170731707317074, 'f1-score': 0.9168727483956695, 'support': 410.0}}, 'confusion_matrix': [[140, 19], [15, 236]], 'roc_auc': 0.9772732967501065, 'y_true': [0, 0, 0, 0, 0, 0, 0, 0, 0, 0, 0, 0, 0, 0, 0, 0, 0, 0, 0, 0, 0, 0, 0, 0, 0, 0, 0, 0, 0, 0, 0, 0, 0, 0, 0, 0, 0, 0, 0, 0, 0, 0, 0, 0, 0, 0, 0, 0, 0, 0, 0, 0, 0, 0, 0, 0, 0, 0, 0, 0, 0, 0, 0, 0, 0, 0, 0, 0, 0, 0, 0, 0, 0, 0, 0, 0, 0, 0, 0, 0, 0, 0, 0, 0, 0, 0, 0, 0, 0, 0, 0, 0, 0, 0, 0, 0, 0, 0, 0, 0, 0, 0, 0, 0, 0, 0, 0, 0, 0, 0, 0, 0, 0, 0, 0, 0, 0, 0, 0, 0, 0, 0, 0, 0, 0, 0, 0, 0, 0, 0, 0, 0, 0, 0, 0, 0, 0, 0, 0, 0, 0, 0, 0, 0, 0, 0, 0, 0, 0, 0, 0, 0, 0, 0, 0, 0, 0, 0, 0, 1, 1, 1, 1, 1, 1, 1, 1, 1, 1, 1, 1, 1, 1, 1, 1, 1, 1, 1, 1, 1, 1, 1, 1, 1, 1, 1, 1, 1, 1, 1, 1, 1, 1, 1, 1, 1, 1, 1, 1, 1, 1, 1, 1, 1, 1, 1, 1, 1, 1, 1, 1, 1, 1, 1, 1, 1, 1, 1, 1, 1, 1, 1, 1, 1, 1, 1, 1, 1, 1, 1, 1, 1, 1, 1, 1, 1, 1, 1, 1, 1, 1, 1, 1, 1, 1, 1, 1, 1, 1, 1, 1, 1, 1, 1, 1, 1, 1, 1, 1, 1, 1, 1, 1, 1, 1, 1, 1, 1, 1, 1, 1, 1, 1, 1, 1, 1, 1, 1, 1, 1, 1, 1, 1, 1, 1, 1, 1, 1, 1, 1, 1, 1, 1, 1, 1, 1, 1, 1, 1, 1, 1, 1, 1, 1, 1, 1, 1, 1, 1, 1, 1, 1, 1, 1, 1, 1, 1, 1, 1, 1, 1, 1, 1, 1, 1, 1, 1, 1, 1, 1, 1, 1, 1, 1, 1, 1, 1, 1, 1, 1, 1, 1, 1, 1, 1, 1, 1, 1, 1, 1, 1, 1, 1, 1, 1, 1, 1, 1, 1, 1, 1, 1, 1, 1, 1, 1, 1, 1, 1, 1, 1, 1, 1, 1, 1, 1, 1, 1, 1, 1, 1, 1, 1, 1, 1, 1, 1, 1, 1, 1, 1, 1, 1, 1, 1, 1, 1, 1, 1, 1, 1, 1, 1, 1, 1, 1, 1, 1, 1, 1], 'y_pred': [1, 0, 0, 0, 0, 0, 0, 0, 0, 0, 0, 0, 0, 1, 0, 0, 0, 0, 0, 0, 1, 0, 0, 0, 0, 0, 0, 0, 0, 1, 0, 0, 0, 0, 0, 0, 0, 0, 0, 0, 0, 0, 0, 0, 0, 0, 0, 0, 0, 0, 0, 1, 0, 0, 0, 0, 0, 0, 0, 0, 0, 0, 1, 0, 0, 0, 0, 0, 0, 0, 0, 1, 0, 0, 1, 0, 0, 0, 0, 0, 0, 1, 0, 0, 0, 1, 0, 0, 0, 0, 0, 0, 0, 0, 0, 0, 0, 0, 0, 0, 0, 0, 0, 0, 1, 0, 1, 0, 1, 0, 0, 0, 0, 1, 0, 0, 1, 0, 1, 0, 0, 0, 0, 0, 0, 0, 0, 0, 0, 1, 0, 0, 0, 0, 0, 1, 0, 0, 0, 0, 0, 1, 0, 0, 0, 0, 0, 0, 0, 0, 0, 0, 0, 0, 0, 0, 0, 0, 0, 1, 0, 1, 1, 0, 1, 1, 1, 0, 1, 1, 1, 1, 1, 1, 1, 1, 1, 1, 1, 1, 1, 1, 1, 1, 1, 1, 1, 1, 1, 1, 1, 1, 1, 1, 1, 1, 1, 1, 1, 1, 1, 1, 1, 1, 1, 1, 1, 1, 0, 1, 1, 1, 1, 1, 1, 1, 0, 1, 1, 1, 1, 1, 0, 1, 1, 1, 0, 1, 1, 1, 1, 1, 1, 1, 1, 1, 1, 1, 1, 1, 1, 0, 1, 1, 1, 1, 1, 1, 1, 1, 1, 1, 1, 1, 1, 1, 1, 1, 1, 1, 1, 1, 1, 1, 1, 1, 1, 1, 1, 1, 1, 1, 1, 1, 1, 1, 1, 1, 1, 1, 1, 1, 1, 1, 1, 1, 1, 1, 1, 1, 1, 1, 1, 1, 1, 1, 1, 1, 1, 1, 1, 1, 1, 1, 1, 1, 1, 1, 1, 1, 1, 1, 1, 1, 1, 1, 1, 0, 1, 1, 1, 1, 1, 1, 1, 0, 1, 1, 1, 1, 1, 1, 1, 1, 1, 1, 1, 1, 1, 1, 1, 1, 1, 0, 0, 1, 1, 1, 1, 1, 0, 1, 1, 1, 1, 1, 1, 1, 1, 1, 1, 1, 1, 1, 1, 1, 1, 1, 1, 1, 1, 1, 1, 1, 1, 1, 0, 1, 1, 1, 1, 1, 1, 1, 1, 1, 1, 1, 0, 1, 1, 1, 1, 1, 1, 1, 1, 1, 1, 1, 1, 1, 1, 1, 1, 1, 1, 1, 1, 1], 'y_scores': [0.7284649014472961, 0.27783718705177307, 0.07128911465406418, 0.3506146967411041, 0.014775888994336128, 0.07135405391454697, 0.20182953774929047, 0.00045047205640003085, 0.2469780296087265, 0.06302613019943237, 0.008947929367423058, 0.043650031089782715, 0.04798475652933121, 0.6673443913459778, 0.004970973823219538, 0.009762151166796684, 0.00046068825758993626, 0.0061828382313251495, 0.0494355671107769, 0.00010343160829506814, 0.5771401524543762, 0.220671147108078, 0.11705787479877472, 0.022421889007091522, 0.002839055610820651, 0.08329632878303528, 0.008923199959099293, 0.26218661665916443, 0.14667946100234985, 0.8495065569877625, 0.0009535144781693816, 0.019820183515548706, 0.005053585395216942, 0.0001866646925918758, 0.015466420911252499, 0.002043748740106821, 0.0036331098526716232, 0.12286396324634552, 0.0047379047609865665, 0.03606347367167473, 0.0005323906661942601, 0.05515153333544731, 0.008331900462508202, 0.014447629451751709, 0.04370524734258652, 0.035136908292770386, 0.05579763650894165, 0.004183984361588955, 0.01714674010872841, 0.017402037978172302, 0.00011545777670107782, 0.5617856979370117, 0.06896980106830597, 0.006671634968370199, 0.09144352376461029, 0.4879339635372162, 0.25373443961143494, 0.47943782806396484, 0.0011886105639860034, 0.1761350780725479, 0.47907522320747375, 0.13502049446105957, 0.5466023683547974, 0.01925390586256981, 0.12426027655601501, 0.001356978085823357, 0.036215297877788544, 0.012774597853422165, 0.0010609141318127513, 0.03803116828203201, 0.15988966822624207, 0.6914294958114624, 0.0031866964418441057, 0.08817604929208755, 0.9345389008522034, 0.08824583142995834, 2.3249454898177646e-05, 0.10727174580097198, 0.044729989022016525, 0.04661335423588753, 0.09626014530658722, 0.5876364707946777, 0.01864130049943924, 0.1880813091993332, 0.06623568385839462, 0.5469202399253845, 0.004146822728216648, 0.010088257491588593, 0.014165665954351425, 0.07612938433885574, 0.1749562919139862, 0.2548609673976898, 0.016411734744906425, 0.0072068325243890285, 0.029264796525239944, 0.002516842447221279, 0.0017112095374614, 0.03868824988603592, 0.042929667979478836, 0.0002461516414768994, 0.05077138915657997, 0.0020493934862315655, 0.008713576011359692, 0.0010950256837531924, 0.748582124710083, 0.06670758128166199, 0.6485835909843445, 0.016882432624697685, 0.8662468194961548, 0.02683589793741703, 0.01885577104985714, 0.45518234372138977, 0.03820548579096794, 0.7688299417495728, 0.050984788686037064, 0.0006249555735848844, 0.7440558671951294, 0.004580838140100241, 0.8063437938690186, 0.0015467244666069746, 0.027879565954208374, 0.04035167768597603, 0.21003292500972748, 0.03134682774543762, 0.0894947350025177, 0.017034614458680153, 0.002736109308898449, 0.3258693814277649, 0.0782114788889885, 0.7162054777145386, 0.07092191278934479, 0.019953064620494843, 0.13059735298156738, 0.025701578706502914, 0.004863626789301634, 0.5752815008163452, 0.2965885102748871, 0.007659978698939085, 0.0717553198337555, 0.03192557767033577, 0.1978897601366043, 0.5736774206161499, 0.00911349430680275, 0.11958888918161392, 0.003858558600768447, 0.20422422885894775, 0.002768617356196046, 0.007199429906904697, 0.22711215913295746, 0.0010851495899260044, 0.0066834865137934685, 0.1664298176765442, 0.00017091170593630522, 0.16917696595191956, 0.2106623500585556, 0.3071182668209076, 0.014774424023926258, 0.01277809776365757, 0.4869939386844635, 0.9764723181724548, 0.2303750216960907, 0.8470026850700378, 0.8758456707000732, 0.3160036504268646, 0.7838477492332458, 0.9389923214912415, 0.9800146818161011, 0.34226930141448975, 0.726999044418335, 0.5443530082702637, 0.8627543449401855, 0.9237794876098633, 0.6347683072090149, 0.9150249361991882, 0.823541522026062, 0.9155399203300476, 0.675723135471344, 0.8020322918891907, 0.8559208512306213, 0.5189233422279358, 0.9563478231430054, 0.9655781388282776, 0.770416796207428, 0.811255693435669, 0.9604470729827881, 0.9489256143569946, 0.80483478307724, 0.9731407761573792, 0.9108282327651978, 0.8759720325469971, 0.8925690650939941, 0.9324997067451477, 0.9739124774932861, 0.9940392971038818, 0.995334804058075, 0.9869363903999329, 0.6118881106376648, 0.7885839343070984, 0.9958815574645996, 0.9632980823516846, 0.9990148544311523, 0.8050501346588135, 0.9701662063598633, 0.9955086708068848, 0.9998338222503662, 0.9451736211776733, 0.958267331123352, 0.9736589193344116, 0.4353526532649994, 0.9998397827148438, 0.9996479749679565, 0.9505051374435425, 0.9224605560302734, 0.9676611423492432, 0.5866145491600037, 0.9628840088844299, 0.4980338513851166, 0.8821251392364502, 0.982736349105835, 0.9505952000617981, 0.9187242388725281, 0.9911337494850159, 0.43911078572273254, 0.9927627444267273, 0.9665891528129578, 0.814941942691803, 0.2632122039794922, 0.9873724579811096, 0.9371330738067627, 0.967610776424408, 0.8871501684188843, 0.967162549495697, 0.9996746778488159, 0.9945685863494873, 0.9113467931747437, 0.884748637676239, 0.5870751142501831, 0.9752219915390015, 0.9999691247940063, 0.8913957476615906, 0.9678134322166443, 0.3205227851867676, 0.923781156539917, 0.8628706932067871, 0.9555377960205078, 0.9818431735038757, 0.9914131164550781, 0.9388501048088074, 0.8410280346870422, 0.9623586535453796, 0.8573092222213745, 0.9877866506576538, 0.9691154360771179, 0.9992291927337646, 0.994939923286438, 0.98371821641922, 0.9708964824676514, 0.9588442444801331, 0.9712545275688171, 0.9958754181861877, 0.7438973784446716, 0.737288773059845, 0.8944419622421265, 0.8655348420143127, 0.9973294734954834, 0.9823725819587708, 0.8892874121665955, 0.8893239498138428, 0.9469719529151917, 0.8230904936790466, 0.997317373752594, 0.7086083889007568, 0.9265532493591309, 0.9870932698249817, 0.9456744194030762, 0.9214735627174377, 0.9996767044067383, 0.9868748784065247, 0.7455966472625732, 0.943406879901886, 0.999139666557312, 0.9643065929412842, 0.9984696507453918, 0.7848060131072998, 0.9974765181541443, 0.9903458952903748, 0.9454016089439392, 0.9244468212127686, 0.9980393052101135, 0.9994890689849854, 0.9975817203521729, 0.9996826648712158, 0.9943969249725342, 0.9366735816001892, 0.9748357534408569, 0.9392086863517761, 0.9424049258232117, 0.5403498411178589, 0.9574047327041626, 0.6417401432991028, 0.8480515480041504, 0.9708051681518555, 0.9807813167572021, 0.9719340205192566, 0.9347643256187439, 0.9651346802711487, 0.6398559212684631, 0.9418764710426331, 0.8823866248130798, 0.5376495718955994, 0.9990917444229126, 0.9941383600234985, 0.9759402871131897, 0.9890609979629517, 0.9746286273002625, 0.9786106944084167, 0.8968912959098816, 0.37248411774635315, 0.6152845621109009, 0.771811306476593, 0.9814546704292297, 0.9677737951278687, 0.7776334881782532, 0.7700671553611755, 0.9366186857223511, 0.02242441102862358, 0.9231242537498474, 0.5367064476013184, 0.9738816022872925, 0.9999369382858276, 0.9823051691055298, 0.9998464584350586, 0.9736826419830322, 0.9929145574569702, 0.9907872080802917, 0.9935204386711121, 0.9951135516166687, 0.9987530708312988, 0.9997331500053406, 0.9988712668418884, 0.9993048906326294, 0.9999399185180664, 0.997238039970398, 0.04487977921962738, 0.26004457473754883, 0.6733279228210449, 0.9958338737487793, 0.9793773293495178, 0.775318443775177, 0.9987356066703796, 0.45362183451652527, 0.9920388460159302, 0.8725945353507996, 0.9167171120643616, 0.9992934465408325, 0.9999667406082153, 0.9912264943122864, 0.9991810917854309, 0.9998890161514282, 0.9039577841758728, 0.7908043265342712, 0.999893069267273, 0.9972859621047974, 0.9480891823768616, 0.9994774460792542, 0.9361637830734253, 0.9705498814582825, 0.989376425743103, 0.9967225193977356, 0.9994818568229675, 0.8610150814056396, 0.9951412677764893, 0.9983876943588257, 0.9084010720252991, 0.9932118654251099, 0.9370797872543335, 0.4787229895591736, 0.9952451586723328, 0.991524875164032, 0.9970933198928833, 0.9848869442939758, 0.9976325035095215, 0.9043336510658264, 0.9757348299026489, 0.9493587613105774, 0.6226755380630493, 0.7836748361587524, 0.8388353586196899, 0.4834032952785492, 0.886273205280304, 0.9819992780685425, 0.8342391848564148, 0.7172337770462036, 0.9424600601196289, 0.9878337383270264, 0.996871292591095, 0.9410832524299622, 0.9968892931938171, 0.5429467558860779, 0.9994727969169617, 0.869696319103241, 0.9964385032653809, 0.7889536619186401, 0.9961109757423401, 0.9980477094650269, 0.9999483823776245, 0.970066487789154, 0.9993951320648193, 0.7760524749755859, 0.9638484120368958]}\n"
     ]
    }
   ],
   "source": [
    "print(\"[INFO] Evaluating the model...\")\n",
    "metrics = evaluate_model(\n",
    "    model=model,\n",
    "    test_loader=test_loader,\n",
    "    classes=[\"No Fire\", \"Fire\"],\n",
    "    device=device,\n",
    "    model_name=\"convnext_tiny\",\n",
    "    save_base_path=\"outputs/plots/baseline\",\n",
    ")\n",
    "print(f\"\\n[INFO] Metrics for ResNet18:\\n{metrics}\")"
   ]
  },
  {
   "cell_type": "code",
   "execution_count": 10,
   "metadata": {},
   "outputs": [
    {
     "name": "stdout",
     "output_type": "stream",
     "text": [
      "[INFO] Training plot saved to outputs/plots/baseline/convnext_baseline_training_curve.png\n",
      "[INFO] Confusion matrix saved to outputs/plots/baseline/convnext_baseline_confusion_matrix.png\n",
      "[INFO] All results saved successfully!\n"
     ]
    },
    {
     "data": {
      "image/png": "[encoded data removed]",
      "text/plain": [
       "<Figure size 1200x600 with 2 Axes>"
      ]
     },
     "metadata": {},
     "output_type": "display_data"
    },
    {
     "data": {
      "image/png": "[encoded data removed]",
      "text/plain": [
       "<Figure size 800x800 with 2 Axes>"
      ]
     },
     "metadata": {},
     "output_type": "display_data"
    },
    {
     "ename": "",
     "evalue": "",
     "output_type": "error",
     "traceback": [
      "\u001b[1;31mThe Kernel crashed while executing code in the current cell or a previous cell. \n",
      "\u001b[1;31mPlease review the code in the cell(s) to identify a possible cause of the failure. \n",
      "\u001b[1;31mClick <a href='https://aka.ms/vscodeJupyterKernelCrash'>here</a> for more info. \n",
      "\u001b[1;31mView Jupyter <a href='command:jupyter.viewOutput'>log</a> for further details."
     ]
    }
   ],
   "source": [
    "plot_training(history, f\"outputs/plots/baseline/convnext_baseline_training_curve.png\")\n",
    "\n",
    "plot_confusion_matrix(\n",
    "    cm=metrics[\"confusion_matrix\"],\n",
    "    classes=[\"No Fire\", \"Fire\"],\n",
    "    output_path=f\"outputs/plots/baseline/convnext_baseline_confusion_matrix.png\"\n",
    ")\n",
    "\n",
    "# Precision-Recall Curve\n",
    "if \"y_probs\" in metrics:\n",
    "    y_true = metrics[\"y_true\"]\n",
    "    y_probs = [prob[1] for prob in metrics[\"y_probs\"]]\n",
    "    plot_precision_recall(\n",
    "        y_true=y_true,\n",
    "        y_scores=y_probs,\n",
    "        output_path=f\"outputs/plots/baseline/convnext_baseline_precision_recall_curve.png\"\n",
    "    )\n",
    "\n",
    "    # ROC Curve\n",
    "    plot_roc_curve(\n",
    "        y_true=y_true,\n",
    "        y_scores=y_probs,\n",
    "        output_path=f\"outputs/plots/baseline/convnext_baseline_roc_curve.png\"\n",
    "    )\n",
    "\n",
    "print(\"[INFO] All results saved successfully!\")"
   ]
  },
  {
   "cell_type": "code",
   "execution_count": null,
   "metadata": {},
   "outputs": [],
   "source": []
  }
 ],
 "metadata": {
  "kernelspec": {
   "display_name": "env",
   "language": "python",
   "name": "python3"
  },
  "language_info": {
   "codemirror_mode": {
    "name": "ipython",
    "version": 3
   },
   "file_extension": ".py",
   "mimetype": "text/x-python",
   "name": "python",
   "nbconvert_exporter": "python",
   "pygments_lexer": "ipython3",
   "version": "3.11.9"
  }
 },
 "nbformat": 4,
 "nbformat_minor": 4
}
