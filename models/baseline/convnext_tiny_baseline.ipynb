{
 "cells": [
  {
   "cell_type": "code",
   "execution_count": 1,
   "metadata": {},
   "outputs": [],
   "source": [
    "import os\n",
    "os.chdir(\"../..\")"
   ]
  },
  {
   "cell_type": "code",
   "execution_count": 2,
   "metadata": {},
   "outputs": [
    {
     "name": "stderr",
     "output_type": "stream",
     "text": [
      "2024-12-23 20:02:34,006 - INFO - Notebook execution started.\n"
     ]
    }
   ],
   "source": [
    "import time\n",
    "import logging\n",
    "logging.basicConfig(level=logging.INFO, format='%(asctime)s - %(levelname)s - %(message)s')\n",
    "\n",
    "notebook_start_time = time.time()\n",
    "logging.info(\"Notebook execution started.\")"
   ]
  },
  {
   "cell_type": "code",
   "execution_count": 3,
   "metadata": {},
   "outputs": [],
   "source": [
    "import torch\n",
    "from utils.dataset_loader import *\n",
    "from utils.model_utils import *\n",
    "from utils.train_utils import *\n",
    "from utils.metrics import *\n",
    "from utils.visualization import *"
   ]
  },
  {
   "cell_type": "code",
   "execution_count": 4,
   "metadata": {},
   "outputs": [
    {
     "name": "stdout",
     "output_type": "stream",
     "text": [
      "[INFO] Using device: cuda\n"
     ]
    }
   ],
   "source": [
    "device = torch.device(\"cuda\" if torch.cuda.is_available() else \"cpu\")\n",
    "print(f\"[INFO] Using device: {device}\")"
   ]
  },
  {
   "cell_type": "code",
   "execution_count": 5,
   "metadata": {},
   "outputs": [],
   "source": [
    "data_dir = \"wildfire_dataset_scaled\"\n",
    "batch_size = 8\n",
    "learning_rate = 0.0001\n",
    "num_classes = 2"
   ]
  },
  {
   "cell_type": "code",
   "execution_count": 6,
   "metadata": {},
   "outputs": [
    {
     "name": "stderr",
     "output_type": "stream",
     "text": [
      "2024-12-23 20:02:40,611 - INFO - Loading datasets from wildfire_dataset_scaled with augmentation type 'baseline'.\n",
      "2024-12-23 20:02:40,611 - INFO - Applying baseline augmentations: Resize and Normalize.\n",
      "2024-12-23 20:02:40,623 - INFO - Initialized AlbumentationsDataset with root: wildfire_dataset_scaled/train\n",
      "2024-12-23 20:02:40,627 - INFO - Initialized AlbumentationsDataset with root: wildfire_dataset_scaled/val\n",
      "2024-12-23 20:02:40,630 - INFO - Initialized AlbumentationsDataset with root: wildfire_dataset_scaled/test\n",
      "2024-12-23 20:02:40,630 - INFO - Datasets initialized. Preparing DataLoaders...\n",
      "2024-12-23 20:02:40,631 - INFO - Using WeightedRandomSampler for class balancing.\n",
      "2024-12-23 20:02:40,632 - INFO - Computing class weights from directory: wildfire_dataset_scaled/train\n",
      "2024-12-23 20:02:40,634 - INFO - Class 'fire' has 730 samples.\n",
      "2024-12-23 20:02:40,637 - INFO - Class 'nofire' has 1157 samples.\n",
      "2024-12-23 20:02:40,637 - INFO - Computed class weights: {'fire': 1.0, 'nofire': 0.7943186335572451}\n"
     ]
    },
    {
     "name": "stdout",
     "output_type": "stream",
     "text": [
      "[INFO] Loading datasets...\n"
     ]
    },
    {
     "name": "stderr",
     "output_type": "stream",
     "text": [
      "2024-12-23 20:02:42,881 - INFO - DataLoaders created successfully.\n"
     ]
    },
    {
     "name": "stdout",
     "output_type": "stream",
     "text": [
      "[INFO] Datasets loaded successfully!\n"
     ]
    }
   ],
   "source": [
    "print(\"[INFO] Loading datasets...\")\n",
    "train_loader, val_loader, test_loader = load_datasets(data_dir, batch_size, augmentation=\"baseline\")\n",
    "print(\"[INFO] Datasets loaded successfully!\")\n",
    "\n"
   ]
  },
  {
   "cell_type": "markdown",
   "metadata": {},
   "source": []
  },
  {
   "cell_type": "code",
   "execution_count": 7,
   "metadata": {},
   "outputs": [
    {
     "name": "stdout",
     "output_type": "stream",
     "text": [
      "\n",
      "[INFO] Starting Baseline Training for Model: ConvnextTiny\n",
      "\n",
      "[INFO] Initializing ConvnextTiny model...\n",
      "[INFO] Model initialized successfully!\n"
     ]
    }
   ],
   "source": [
    "print(\"\\n[INFO] Starting Baseline Training for Model: ConvnextTiny\\n\")\n",
    "print(\"[INFO] Initializing ConvnextTiny model...\")\n",
    "model = initialize_model(\n",
    "    model_name=\"convnext_tiny\",\n",
    "    num_classes=num_classes,\n",
    "    pretrained=True,\n",
    "    freeze_all=True  # Baseline: Freeze all layers\n",
    ")\n",
    "print(\"[INFO] Model initialized successfully!\")"
   ]
  },
  {
   "cell_type": "code",
   "execution_count": 8,
   "metadata": {},
   "outputs": [
    {
     "name": "stdout",
     "output_type": "stream",
     "text": [
      "[INFO] Setting up loss function and optimizer...\n",
      "[INFO] Loss function and optimizer set up!\n"
     ]
    }
   ],
   "source": [
    "print(\"[INFO] Setting up loss function and optimizer...\")\n",
    "criterion = torch.nn.CrossEntropyLoss()\n",
    "optimizer = torch.optim.Adam(filter(lambda p: p.requires_grad, model.parameters()), lr=learning_rate)\n",
    "print(\"[INFO] Loss function and optimizer set up!\")"
   ]
  },
  {
   "cell_type": "code",
   "execution_count": 9,
   "metadata": {},
   "outputs": [
    {
     "name": "stdout",
     "output_type": "stream",
     "text": [
      "[INFO] Starting model training...\n",
      "\n",
      "Starting training...\n",
      "\n"
     ]
    },
    {
     "name": "stderr",
     "output_type": "stream",
     "text": [
      "                                                                       \r"
     ]
    },
    {
     "name": "stdout",
     "output_type": "stream",
     "text": [
      "[INFO] Best model saved with val_f1: 0.8377\n",
      "Epoch [1]: Train Loss: 0.6580, Train Acc: 0.6502 | Val Loss: 0.6047, Val Acc: 0.7687, Val Recall: 0.9756, Val F1: 0.8377\n"
     ]
    },
    {
     "name": "stderr",
     "output_type": "stream",
     "text": [
      "                                                                       \r"
     ]
    },
    {
     "name": "stdout",
     "output_type": "stream",
     "text": [
      "[INFO] Best model saved with val_f1: 0.8597\n",
      "Epoch [2]: Train Loss: 0.5849, Train Acc: 0.7843 | Val Loss: 0.5424, Val Acc: 0.8060, Val Recall: 0.9715, Val F1: 0.8597\n"
     ]
    },
    {
     "name": "stderr",
     "output_type": "stream",
     "text": [
      "                                                                       \r"
     ]
    },
    {
     "name": "stdout",
     "output_type": "stream",
     "text": [
      "[INFO] Best model saved with val_f1: 0.8722\n",
      "Epoch [3]: Train Loss: 0.5445, Train Acc: 0.7886 | Val Loss: 0.5022, Val Acc: 0.8308, Val Recall: 0.9431, Val F1: 0.8722\n"
     ]
    },
    {
     "name": "stderr",
     "output_type": "stream",
     "text": [
      "                                                                       \r"
     ]
    },
    {
     "name": "stdout",
     "output_type": "stream",
     "text": [
      "[INFO] Best model saved with val_f1: 0.8864\n",
      "Epoch [4]: Train Loss: 0.5013, Train Acc: 0.8267 | Val Loss: 0.4709, Val Acc: 0.8507, Val Recall: 0.9512, Val F1: 0.8864\n"
     ]
    },
    {
     "name": "stderr",
     "output_type": "stream",
     "text": [
      "                                                                       \r"
     ]
    },
    {
     "name": "stdout",
     "output_type": "stream",
     "text": [
      "[INFO] No improvement in val_f1. Patience: 1/12\n",
      "Epoch [5]: Train Loss: 0.4821, Train Acc: 0.8156 | Val Loss: 0.4512, Val Acc: 0.8433, Val Recall: 0.9228, Val F1: 0.8781\n"
     ]
    },
    {
     "name": "stderr",
     "output_type": "stream",
     "text": [
      "                                                                       \r"
     ]
    },
    {
     "name": "stdout",
     "output_type": "stream",
     "text": [
      "[INFO] No improvement in val_f1. Patience: 2/12\n",
      "Epoch [6]: Train Loss: 0.4753, Train Acc: 0.8103 | Val Loss: 0.4310, Val Acc: 0.8483, Val Recall: 0.9350, Val F1: 0.8829\n"
     ]
    },
    {
     "name": "stderr",
     "output_type": "stream",
     "text": [
      "                                                                       \r"
     ]
    },
    {
     "name": "stdout",
     "output_type": "stream",
     "text": [
      "[INFO] No improvement in val_f1. Patience: 3/12\n",
      "Epoch [7]: Train Loss: 0.4536, Train Acc: 0.8251 | Val Loss: 0.4156, Val Acc: 0.8483, Val Recall: 0.9390, Val F1: 0.8834\n"
     ]
    },
    {
     "name": "stderr",
     "output_type": "stream",
     "text": [
      "                                                                       \r"
     ]
    },
    {
     "name": "stdout",
     "output_type": "stream",
     "text": [
      "[INFO] No improvement in val_f1. Patience: 4/12\n",
      "Epoch [8]: Train Loss: 0.4250, Train Acc: 0.8347 | Val Loss: 0.4040, Val Acc: 0.8507, Val Recall: 0.9268, Val F1: 0.8837\n"
     ]
    },
    {
     "name": "stderr",
     "output_type": "stream",
     "text": [
      "                                                                       \r"
     ]
    },
    {
     "name": "stdout",
     "output_type": "stream",
     "text": [
      "[INFO] No improvement in val_f1. Patience: 5/12\n",
      "Epoch [9]: Train Loss: 0.4281, Train Acc: 0.8214 | Val Loss: 0.3935, Val Acc: 0.8507, Val Recall: 0.9268, Val F1: 0.8837\n"
     ]
    },
    {
     "name": "stderr",
     "output_type": "stream",
     "text": [
      "                                                                        \r"
     ]
    },
    {
     "name": "stdout",
     "output_type": "stream",
     "text": [
      "[INFO] No improvement in val_f1. Patience: 6/12\n",
      "Epoch [10]: Train Loss: 0.4084, Train Acc: 0.8362 | Val Loss: 0.3838, Val Acc: 0.8532, Val Recall: 0.9309, Val F1: 0.8859\n"
     ]
    },
    {
     "name": "stderr",
     "output_type": "stream",
     "text": [
      "                                                                        \r"
     ]
    },
    {
     "name": "stdout",
     "output_type": "stream",
     "text": [
      "[INFO] No improvement in val_f1. Patience: 7/12\n",
      "Epoch [11]: Train Loss: 0.3926, Train Acc: 0.8490 | Val Loss: 0.3747, Val Acc: 0.8532, Val Recall: 0.9309, Val F1: 0.8859\n"
     ]
    },
    {
     "name": "stderr",
     "output_type": "stream",
     "text": [
      "                                                                        \r"
     ]
    },
    {
     "name": "stdout",
     "output_type": "stream",
     "text": [
      "[INFO] Best model saved with val_f1: 0.8880\n",
      "Epoch [12]: Train Loss: 0.3785, Train Acc: 0.8521 | Val Loss: 0.3670, Val Acc: 0.8557, Val Recall: 0.9350, Val F1: 0.8880\n"
     ]
    },
    {
     "name": "stderr",
     "output_type": "stream",
     "text": [
      "                                                                        \r"
     ]
    },
    {
     "name": "stdout",
     "output_type": "stream",
     "text": [
      "[INFO] Best model saved with val_f1: 0.8906\n",
      "Epoch [13]: Train Loss: 0.3841, Train Acc: 0.8421 | Val Loss: 0.3617, Val Acc: 0.8607, Val Recall: 0.9268, Val F1: 0.8906\n"
     ]
    },
    {
     "name": "stderr",
     "output_type": "stream",
     "text": [
      "                                                                        \r"
     ]
    },
    {
     "name": "stdout",
     "output_type": "stream",
     "text": [
      "[INFO] No improvement in val_f1. Patience: 1/12\n",
      "Epoch [14]: Train Loss: 0.3673, Train Acc: 0.8521 | Val Loss: 0.3560, Val Acc: 0.8582, Val Recall: 0.9228, Val F1: 0.8885\n"
     ]
    },
    {
     "name": "stderr",
     "output_type": "stream",
     "text": [
      "                                                                        \r"
     ]
    },
    {
     "name": "stdout",
     "output_type": "stream",
     "text": [
      "[INFO] Best model saved with val_f1: 0.8919\n",
      "Epoch [15]: Train Loss: 0.3650, Train Acc: 0.8511 | Val Loss: 0.3523, Val Acc: 0.8632, Val Recall: 0.9228, Val F1: 0.8919\n"
     ]
    },
    {
     "name": "stderr",
     "output_type": "stream",
     "text": [
      "                                                                        \r"
     ]
    },
    {
     "name": "stdout",
     "output_type": "stream",
     "text": [
      "[INFO] Best model saved with val_f1: 0.8928\n",
      "Epoch [16]: Train Loss: 0.3656, Train Acc: 0.8437 | Val Loss: 0.3455, Val Acc: 0.8632, Val Recall: 0.9309, Val F1: 0.8928\n"
     ]
    },
    {
     "name": "stderr",
     "output_type": "stream",
     "text": [
      "                                                                        \r"
     ]
    },
    {
     "name": "stdout",
     "output_type": "stream",
     "text": [
      "[INFO] Best model saved with val_f1: 0.8992\n",
      "Epoch [17]: Train Loss: 0.3560, Train Acc: 0.8590 | Val Loss: 0.3405, Val Acc: 0.8706, Val Recall: 0.9431, Val F1: 0.8992\n"
     ]
    },
    {
     "name": "stderr",
     "output_type": "stream",
     "text": [
      "                                                                        \r"
     ]
    },
    {
     "name": "stdout",
     "output_type": "stream",
     "text": [
      "[INFO] Best model saved with val_f1: 0.9002\n",
      "Epoch [18]: Train Loss: 0.3584, Train Acc: 0.8543 | Val Loss: 0.3386, Val Acc: 0.8731, Val Recall: 0.9350, Val F1: 0.9002\n"
     ]
    },
    {
     "name": "stderr",
     "output_type": "stream",
     "text": [
      "                                                                        \r"
     ]
    },
    {
     "name": "stdout",
     "output_type": "stream",
     "text": [
      "[INFO] Best model saved with val_f1: 0.9045\n",
      "Epoch [19]: Train Loss: 0.3668, Train Acc: 0.8495 | Val Loss: 0.3339, Val Acc: 0.8781, Val Recall: 0.9431, Val F1: 0.9045\n"
     ]
    },
    {
     "name": "stderr",
     "output_type": "stream",
     "text": [
      "                                                                        \r"
     ]
    },
    {
     "name": "stdout",
     "output_type": "stream",
     "text": [
      "[INFO] No improvement in val_f1. Patience: 1/12\n",
      "Epoch [20]: Train Loss: 0.3431, Train Acc: 0.8612 | Val Loss: 0.3296, Val Acc: 0.8756, Val Recall: 0.9472, Val F1: 0.9031\n"
     ]
    },
    {
     "name": "stderr",
     "output_type": "stream",
     "text": [
      "                                                                        \r"
     ]
    },
    {
     "name": "stdout",
     "output_type": "stream",
     "text": [
      "[INFO] No improvement in val_f1. Patience: 2/12\n",
      "Epoch [21]: Train Loss: 0.3392, Train Acc: 0.8686 | Val Loss: 0.3282, Val Acc: 0.8756, Val Recall: 0.9390, Val F1: 0.9023\n"
     ]
    },
    {
     "name": "stderr",
     "output_type": "stream",
     "text": [
      "                                                                        \r"
     ]
    },
    {
     "name": "stdout",
     "output_type": "stream",
     "text": [
      "[INFO] No improvement in val_f1. Patience: 3/12\n",
      "Epoch [22]: Train Loss: 0.3443, Train Acc: 0.8569 | Val Loss: 0.3260, Val Acc: 0.8781, Val Recall: 0.9350, Val F1: 0.9037\n"
     ]
    },
    {
     "name": "stderr",
     "output_type": "stream",
     "text": [
      "                                                                        \r"
     ]
    },
    {
     "name": "stdout",
     "output_type": "stream",
     "text": [
      "[INFO] Best model saved with val_f1: 0.9066\n",
      "Epoch [23]: Train Loss: 0.3459, Train Acc: 0.8617 | Val Loss: 0.3212, Val Acc: 0.8806, Val Recall: 0.9472, Val F1: 0.9066\n"
     ]
    },
    {
     "name": "stderr",
     "output_type": "stream",
     "text": [
      "                                                                        \r"
     ]
    },
    {
     "name": "stdout",
     "output_type": "stream",
     "text": [
      "[INFO] Best model saved with val_f1: 0.9102\n",
      "Epoch [24]: Train Loss: 0.3390, Train Acc: 0.8569 | Val Loss: 0.3191, Val Acc: 0.8856, Val Recall: 0.9472, Val F1: 0.9102\n"
     ]
    },
    {
     "name": "stderr",
     "output_type": "stream",
     "text": [
      "                                                                        \r"
     ]
    },
    {
     "name": "stdout",
     "output_type": "stream",
     "text": [
      "[INFO] No improvement in val_f1. Patience: 1/12\n",
      "Epoch [25]: Train Loss: 0.3417, Train Acc: 0.8442 | Val Loss: 0.3165, Val Acc: 0.8856, Val Recall: 0.9472, Val F1: 0.9102\n"
     ]
    },
    {
     "name": "stderr",
     "output_type": "stream",
     "text": [
      "                                                                        \r"
     ]
    },
    {
     "name": "stdout",
     "output_type": "stream",
     "text": [
      "[INFO] No improvement in val_f1. Patience: 2/12\n",
      "Epoch [26]: Train Loss: 0.3330, Train Acc: 0.8702 | Val Loss: 0.3153, Val Acc: 0.8831, Val Recall: 0.9390, Val F1: 0.9077\n"
     ]
    },
    {
     "name": "stderr",
     "output_type": "stream",
     "text": [
      "                                                                        \r"
     ]
    },
    {
     "name": "stdout",
     "output_type": "stream",
     "text": [
      "[INFO] No improvement in val_f1. Patience: 3/12\n",
      "Epoch [27]: Train Loss: 0.3161, Train Acc: 0.8744 | Val Loss: 0.3124, Val Acc: 0.8856, Val Recall: 0.9431, Val F1: 0.9098\n"
     ]
    },
    {
     "name": "stderr",
     "output_type": "stream",
     "text": [
      "                                                                        \r"
     ]
    },
    {
     "name": "stdout",
     "output_type": "stream",
     "text": [
      "[INFO] Best model saved with val_f1: 0.9127\n",
      "Epoch [28]: Train Loss: 0.3399, Train Acc: 0.8596 | Val Loss: 0.3123, Val Acc: 0.8905, Val Recall: 0.9350, Val F1: 0.9127\n"
     ]
    },
    {
     "name": "stderr",
     "output_type": "stream",
     "text": [
      "                                                                        \r"
     ]
    },
    {
     "name": "stdout",
     "output_type": "stream",
     "text": [
      "[INFO] No improvement in val_f1. Patience: 1/12\n",
      "Epoch [29]: Train Loss: 0.3083, Train Acc: 0.8755 | Val Loss: 0.3077, Val Acc: 0.8831, Val Recall: 0.9431, Val F1: 0.9080\n"
     ]
    },
    {
     "name": "stderr",
     "output_type": "stream",
     "text": [
      "                                                                        \r"
     ]
    },
    {
     "name": "stdout",
     "output_type": "stream",
     "text": [
      "[INFO] No improvement in val_f1. Patience: 2/12\n",
      "Epoch [30]: Train Loss: 0.3124, Train Acc: 0.8733 | Val Loss: 0.3052, Val Acc: 0.8856, Val Recall: 0.9431, Val F1: 0.9098\n"
     ]
    },
    {
     "name": "stderr",
     "output_type": "stream",
     "text": [
      "                                                                        \r"
     ]
    },
    {
     "name": "stdout",
     "output_type": "stream",
     "text": [
      "[INFO] Best model saved with val_f1: 0.9152\n",
      "Epoch [31]: Train Loss: 0.3053, Train Acc: 0.8781 | Val Loss: 0.3040, Val Acc: 0.8930, Val Recall: 0.9431, Val F1: 0.9152\n"
     ]
    },
    {
     "name": "stderr",
     "output_type": "stream",
     "text": [
      "                                                                        \r"
     ]
    },
    {
     "name": "stdout",
     "output_type": "stream",
     "text": [
      "[INFO] No improvement in val_f1. Patience: 1/12\n",
      "Epoch [32]: Train Loss: 0.3111, Train Acc: 0.8765 | Val Loss: 0.3033, Val Acc: 0.8930, Val Recall: 0.9350, Val F1: 0.9145\n"
     ]
    },
    {
     "name": "stderr",
     "output_type": "stream",
     "text": [
      "                                                                        \r"
     ]
    },
    {
     "name": "stdout",
     "output_type": "stream",
     "text": [
      "[INFO] No improvement in val_f1. Patience: 2/12\n",
      "Epoch [33]: Train Loss: 0.3056, Train Acc: 0.8792 | Val Loss: 0.3006, Val Acc: 0.8905, Val Recall: 0.9390, Val F1: 0.9130\n"
     ]
    },
    {
     "name": "stderr",
     "output_type": "stream",
     "text": [
      "                                                                        \r"
     ]
    },
    {
     "name": "stdout",
     "output_type": "stream",
     "text": [
      "[INFO] No improvement in val_f1. Patience: 3/12\n",
      "Epoch [34]: Train Loss: 0.3061, Train Acc: 0.8749 | Val Loss: 0.2998, Val Acc: 0.8881, Val Recall: 0.9350, Val F1: 0.9109\n"
     ]
    },
    {
     "name": "stderr",
     "output_type": "stream",
     "text": [
      "                                                                        \r"
     ]
    },
    {
     "name": "stdout",
     "output_type": "stream",
     "text": [
      "[INFO] No improvement in val_f1. Patience: 4/12\n",
      "Epoch [35]: Train Loss: 0.2895, Train Acc: 0.8781 | Val Loss: 0.2967, Val Acc: 0.8881, Val Recall: 0.9431, Val F1: 0.9116\n"
     ]
    },
    {
     "name": "stderr",
     "output_type": "stream",
     "text": [
      "                                                                        \r"
     ]
    },
    {
     "name": "stdout",
     "output_type": "stream",
     "text": [
      "[INFO] No improvement in val_f1. Patience: 5/12\n",
      "Epoch [36]: Train Loss: 0.3354, Train Acc: 0.8580 | Val Loss: 0.2975, Val Acc: 0.8930, Val Recall: 0.9309, Val F1: 0.9142\n"
     ]
    },
    {
     "name": "stderr",
     "output_type": "stream",
     "text": [
      "                                                                        \r"
     ]
    },
    {
     "name": "stdout",
     "output_type": "stream",
     "text": [
      "[INFO] No improvement in val_f1. Patience: 6/12\n",
      "Epoch [37]: Train Loss: 0.3064, Train Acc: 0.8744 | Val Loss: 0.2937, Val Acc: 0.8881, Val Recall: 0.9390, Val F1: 0.9112\n"
     ]
    },
    {
     "name": "stderr",
     "output_type": "stream",
     "text": [
      "                                                                        \r"
     ]
    },
    {
     "name": "stdout",
     "output_type": "stream",
     "text": [
      "[INFO] No improvement in val_f1. Patience: 7/12\n",
      "Epoch [38]: Train Loss: 0.3261, Train Acc: 0.8606 | Val Loss: 0.2948, Val Acc: 0.8905, Val Recall: 0.9309, Val F1: 0.9124\n"
     ]
    },
    {
     "name": "stderr",
     "output_type": "stream",
     "text": [
      "                                                                        \r"
     ]
    },
    {
     "name": "stdout",
     "output_type": "stream",
     "text": [
      "[INFO] No improvement in val_f1. Patience: 8/12\n",
      "Epoch [39]: Train Loss: 0.2928, Train Acc: 0.8887 | Val Loss: 0.2913, Val Acc: 0.8881, Val Recall: 0.9350, Val F1: 0.9109\n"
     ]
    },
    {
     "name": "stderr",
     "output_type": "stream",
     "text": [
      "                                                                        \r"
     ]
    },
    {
     "name": "stdout",
     "output_type": "stream",
     "text": [
      "[INFO] No improvement in val_f1. Patience: 9/12\n",
      "Epoch [40]: Train Loss: 0.2955, Train Acc: 0.8786 | Val Loss: 0.2907, Val Acc: 0.8930, Val Recall: 0.9350, Val F1: 0.9145\n"
     ]
    },
    {
     "name": "stderr",
     "output_type": "stream",
     "text": [
      "                                                                        \r"
     ]
    },
    {
     "name": "stdout",
     "output_type": "stream",
     "text": [
      "[INFO] No improvement in val_f1. Patience: 10/12\n",
      "Epoch [41]: Train Loss: 0.3007, Train Acc: 0.8802 | Val Loss: 0.2900, Val Acc: 0.8905, Val Recall: 0.9309, Val F1: 0.9124\n"
     ]
    },
    {
     "name": "stderr",
     "output_type": "stream",
     "text": [
      "                                                                        \r"
     ]
    },
    {
     "name": "stdout",
     "output_type": "stream",
     "text": [
      "[INFO] No improvement in val_f1. Patience: 11/12\n",
      "Epoch [42]: Train Loss: 0.3020, Train Acc: 0.8696 | Val Loss: 0.2887, Val Acc: 0.8905, Val Recall: 0.9309, Val F1: 0.9124\n"
     ]
    },
    {
     "name": "stderr",
     "output_type": "stream",
     "text": [
      "2024-12-23 20:09:37,250 - INFO - Notebook execution completed in 423.24 seconds (7.05 minutes).\n"
     ]
    },
    {
     "name": "stdout",
     "output_type": "stream",
     "text": [
      "[INFO] No improvement in val_f1. Patience: 12/12\n",
      "Epoch [43]: Train Loss: 0.2910, Train Acc: 0.8839 | Val Loss: 0.2884, Val Acc: 0.8930, Val Recall: 0.9268, Val F1: 0.9138\n",
      "[INFO] Final metrics saved to outputs/models/baseline\\final_metrics.json\n",
      "[INFO] Training stopped after 43 epochs. Best val_f1: 0.9152\n",
      "\n",
      "[INFO] Training completed successfully!\n"
     ]
    }
   ],
   "source": [
    "print(\"[INFO] Starting model training...\")\n",
    "history = train_model(\n",
    "    model=model,\n",
    "    train_loader=train_loader,\n",
    "    val_loader=val_loader,\n",
    "    criterion=criterion,\n",
    "    optimizer=optimizer,\n",
    "    scheduler=None,  # No learning rate scheduler for baseline\n",
    "    device=device,\n",
    "    save_path=f\"outputs/models/baseline/convnext_tiny.pt\",\n",
    "    early_stop_patience=12,\n",
    "    monitor_metric=\"val_f1\",\n",
    ")\n",
    "print(\"[INFO] Training completed successfully!\")\n",
    "\n",
    "notebook_end_time = time.time()\n",
    "total_execution_time = notebook_end_time - notebook_start_time\n",
    "\n",
    "logging.info(f\"Notebook execution completed in {total_execution_time:.2f} seconds ({total_execution_time / 60:.2f} minutes).\")"
   ]
  },
  {
   "cell_type": "code",
   "execution_count": 10,
   "metadata": {},
   "outputs": [
    {
     "name": "stdout",
     "output_type": "stream",
     "text": [
      "[INFO] Evaluating the model...\n",
      "[INFO] Evaluation metrics saved to outputs/plots/baseline\\convnext_tiny\\convnext_tiny_evaluation.json\n",
      "\n",
      "[INFO] Metrics for ResNet18:\n",
      "{'classification_report': {'No Fire': {'precision': 0.8711656441717791, 'recall': 0.8930817610062893, 'f1-score': 0.8819875776397516, 'support': 159.0}, 'Fire': {'precision': 0.9311740890688259, 'recall': 0.9163346613545816, 'f1-score': 0.9236947791164659, 'support': 251.0}, 'accuracy': 0.9073170731707317, 'macro avg': {'precision': 0.9011698666203025, 'recall': 0.9047082111804354, 'f1-score': 0.9028411783781087, 'support': 410.0}, 'weighted avg': {'precision': 0.9079025214136298, 'recall': 0.9073170731707317, 'f1-score': 0.9075205229340328, 'support': 410.0}}, 'confusion_matrix': [[142, 17], [21, 230]], 'roc_auc': 0.9597835074795159, 'y_true': [0, 0, 0, 0, 0, 0, 0, 0, 0, 0, 0, 0, 0, 0, 0, 0, 0, 0, 0, 0, 0, 0, 0, 0, 0, 0, 0, 0, 0, 0, 0, 0, 0, 0, 0, 0, 0, 0, 0, 0, 0, 0, 0, 0, 0, 0, 0, 0, 0, 0, 0, 0, 0, 0, 0, 0, 0, 0, 0, 0, 0, 0, 0, 0, 0, 0, 0, 0, 0, 0, 0, 0, 0, 0, 0, 0, 0, 0, 0, 0, 0, 0, 0, 0, 0, 0, 0, 0, 0, 0, 0, 0, 0, 0, 0, 0, 0, 0, 0, 0, 0, 0, 0, 0, 0, 0, 0, 0, 0, 0, 0, 0, 0, 0, 0, 0, 0, 0, 0, 0, 0, 0, 0, 0, 0, 0, 0, 0, 0, 0, 0, 0, 0, 0, 0, 0, 0, 0, 0, 0, 0, 0, 0, 0, 0, 0, 0, 0, 0, 0, 0, 0, 0, 0, 0, 0, 0, 0, 0, 1, 1, 1, 1, 1, 1, 1, 1, 1, 1, 1, 1, 1, 1, 1, 1, 1, 1, 1, 1, 1, 1, 1, 1, 1, 1, 1, 1, 1, 1, 1, 1, 1, 1, 1, 1, 1, 1, 1, 1, 1, 1, 1, 1, 1, 1, 1, 1, 1, 1, 1, 1, 1, 1, 1, 1, 1, 1, 1, 1, 1, 1, 1, 1, 1, 1, 1, 1, 1, 1, 1, 1, 1, 1, 1, 1, 1, 1, 1, 1, 1, 1, 1, 1, 1, 1, 1, 1, 1, 1, 1, 1, 1, 1, 1, 1, 1, 1, 1, 1, 1, 1, 1, 1, 1, 1, 1, 1, 1, 1, 1, 1, 1, 1, 1, 1, 1, 1, 1, 1, 1, 1, 1, 1, 1, 1, 1, 1, 1, 1, 1, 1, 1, 1, 1, 1, 1, 1, 1, 1, 1, 1, 1, 1, 1, 1, 1, 1, 1, 1, 1, 1, 1, 1, 1, 1, 1, 1, 1, 1, 1, 1, 1, 1, 1, 1, 1, 1, 1, 1, 1, 1, 1, 1, 1, 1, 1, 1, 1, 1, 1, 1, 1, 1, 1, 1, 1, 1, 1, 1, 1, 1, 1, 1, 1, 1, 1, 1, 1, 1, 1, 1, 1, 1, 1, 1, 1, 1, 1, 1, 1, 1, 1, 1, 1, 1, 1, 1, 1, 1, 1, 1, 1, 1, 1, 1, 1, 1, 1, 1, 1, 1, 1, 1, 1, 1, 1, 1, 1, 1, 1, 1, 1, 1, 1, 1, 1, 1, 1, 1, 1], 'y_pred': [1, 0, 0, 0, 0, 0, 0, 0, 0, 0, 0, 0, 0, 1, 0, 0, 0, 0, 0, 0, 1, 0, 0, 0, 0, 0, 0, 0, 0, 1, 0, 0, 0, 0, 0, 0, 0, 0, 0, 0, 0, 0, 0, 0, 0, 0, 0, 0, 0, 0, 0, 1, 0, 0, 0, 0, 0, 0, 0, 0, 0, 0, 1, 0, 0, 0, 0, 0, 0, 0, 0, 1, 0, 0, 1, 0, 0, 0, 0, 0, 0, 0, 0, 0, 0, 0, 0, 0, 0, 0, 0, 0, 0, 0, 0, 0, 0, 0, 0, 0, 0, 0, 0, 0, 1, 0, 1, 0, 1, 0, 0, 1, 0, 1, 0, 0, 1, 0, 1, 0, 0, 0, 0, 0, 0, 0, 0, 0, 0, 1, 0, 0, 0, 0, 0, 0, 0, 0, 0, 0, 0, 1, 0, 0, 0, 0, 0, 0, 0, 0, 0, 0, 0, 0, 0, 0, 0, 0, 0, 1, 0, 1, 1, 0, 1, 1, 1, 0, 1, 0, 1, 1, 1, 1, 1, 1, 1, 1, 1, 0, 1, 1, 1, 1, 1, 1, 1, 1, 1, 1, 1, 1, 1, 1, 1, 1, 0, 0, 1, 1, 1, 1, 1, 1, 1, 1, 1, 1, 0, 1, 1, 1, 1, 1, 1, 1, 1, 1, 1, 1, 1, 1, 0, 1, 1, 1, 0, 1, 1, 1, 1, 1, 1, 1, 1, 1, 0, 1, 1, 1, 1, 0, 1, 1, 1, 1, 1, 1, 1, 1, 1, 1, 1, 1, 1, 1, 1, 1, 1, 1, 1, 1, 1, 1, 1, 1, 1, 1, 1, 1, 1, 1, 1, 1, 1, 1, 1, 1, 1, 1, 1, 1, 1, 1, 1, 1, 1, 1, 1, 1, 1, 1, 1, 1, 1, 1, 1, 0, 1, 1, 1, 1, 1, 1, 1, 1, 1, 1, 1, 0, 1, 1, 1, 1, 1, 1, 1, 0, 1, 1, 1, 1, 1, 1, 1, 0, 1, 0, 1, 1, 1, 1, 1, 1, 1, 1, 1, 1, 1, 1, 1, 1, 1, 0, 0, 1, 1, 1, 1, 1, 1, 1, 1, 1, 1, 1, 1, 1, 1, 1, 1, 1, 1, 1, 1, 1, 1, 1, 1, 1, 1, 1, 1, 1, 1, 1, 1, 1, 1, 1, 1, 1, 1, 1, 1, 1, 1, 1, 1, 1, 1, 1, 0, 1, 1, 1, 1, 1, 0, 1, 1, 1, 1, 1, 1, 1, 1, 1, 1, 1], 'y_scores': [0.6907538771629333, 0.356866717338562, 0.10957352817058563, 0.49694859981536865, 0.10734845697879791, 0.19321444630622864, 0.26919257640838623, 0.0030062375590205193, 0.3685145974159241, 0.1802184134721756, 0.029933061450719833, 0.13391101360321045, 0.06640990078449249, 0.7474768757820129, 0.019003691151738167, 0.07008644938468933, 0.005308973137289286, 0.026139628142118454, 0.14350277185440063, 0.002782427705824375, 0.521371066570282, 0.298525869846344, 0.19373904168605804, 0.046700265258550644, 0.020806388929486275, 0.23404426872730255, 0.024327225983142853, 0.25099560618400574, 0.30617114901542664, 0.8334826827049255, 0.005791363772004843, 0.07162587344646454, 0.011062724515795708, 0.004432490095496178, 0.036123886704444885, 0.01237576361745596, 0.020796114578843117, 0.24069440364837646, 0.07001422345638275, 0.07697511464357376, 0.006046538706868887, 0.11014994233846664, 0.029300343245267868, 0.04386845603585243, 0.09005037695169449, 0.06253755837678909, 0.09572383761405945, 0.048576995730400085, 0.052238963544368744, 0.06458836048841476, 0.0023562349379062653, 0.6480311751365662, 0.3440946638584137, 0.01312957238405943, 0.12227734923362732, 0.47797760367393494, 0.2690880298614502, 0.4541921615600586, 0.007921773940324783, 0.16484588384628296, 0.4969354569911957, 0.22933565080165863, 0.7053949236869812, 0.05323145166039467, 0.12941408157348633, 0.005791896488517523, 0.08683095872402191, 0.047111641615629196, 0.007676669862121344, 0.13892944157123566, 0.2876848578453064, 0.7524363398551941, 0.019879883155226707, 0.13107722997665405, 0.8466752767562866, 0.2363715022802353, 0.00072799704503268, 0.2015465646982193, 0.13930870592594147, 0.10838779807090759, 0.16929827630519867, 0.4472736418247223, 0.03964592143893242, 0.2563724219799042, 0.14711438119411469, 0.45139068365097046, 0.021992765367031097, 0.040642149746418, 0.02632588893175125, 0.20548833906650543, 0.22756271064281464, 0.3068268895149231, 0.05847369134426117, 0.024729929864406586, 0.0485897921025753, 0.014587588608264923, 0.009442067705094814, 0.055365655571222305, 0.1791723668575287, 0.0033500250428915024, 0.1399281769990921, 0.037835415452718735, 0.021052327007055283, 0.014488818123936653, 0.5777713656425476, 0.17057953774929047, 0.6343453526496887, 0.05437915399670601, 0.8549015522003174, 0.052378419786691666, 0.05004563927650452, 0.5756868124008179, 0.08023598790168762, 0.8079723119735718, 0.07145291566848755, 0.0065971864387393, 0.8128190636634827, 0.027654040604829788, 0.6995797157287598, 0.008120989426970482, 0.056841690093278885, 0.12524564564228058, 0.41385579109191895, 0.122855044901371, 0.1689847856760025, 0.04164934158325195, 0.017525115981698036, 0.4755319356918335, 0.10784350335597992, 0.7206817269325256, 0.126550555229187, 0.08452466130256653, 0.24931858479976654, 0.05864782631397247, 0.015028931200504303, 0.44000837206840515, 0.4345928430557251, 0.05337313562631607, 0.16325892508029938, 0.10746049880981445, 0.2533116638660431, 0.6616854071617126, 0.037713080644607544, 0.2997286319732666, 0.01140590663999319, 0.1894741803407669, 0.014922084286808968, 0.02833849936723709, 0.33649447560310364, 0.010197361931204796, 0.02855934388935566, 0.3439866006374359, 0.0030207482632249594, 0.33808475732803345, 0.30245134234428406, 0.21323952078819275, 0.08781006932258606, 0.029795143753290176, 0.42365357279777527, 0.8758652210235596, 0.21888725459575653, 0.8242775797843933, 0.7846658825874329, 0.41240227222442627, 0.7661334276199341, 0.854439377784729, 0.9067725539207458, 0.36352109909057617, 0.7097625136375427, 0.34932854771614075, 0.7335864901542664, 0.7654171586036682, 0.6566897630691528, 0.740196704864502, 0.7605984210968018, 0.8125527501106262, 0.6184705495834351, 0.7479282021522522, 0.7005504965782166, 0.4158415198326111, 0.8886889815330505, 0.8657885789871216, 0.7368983626365662, 0.7878739237785339, 0.9211482405662537, 0.9010171294212341, 0.7072771191596985, 0.8921268582344055, 0.8090345859527588, 0.7220233678817749, 0.7665673494338989, 0.825533390045166, 0.9023677110671997, 0.974997878074646, 0.9711905717849731, 0.9257867932319641, 0.4569835364818573, 0.3613201677799225, 0.9655264616012573, 0.9033157229423523, 0.9889349341392517, 0.5018273591995239, 0.9061922430992126, 0.9670589566230774, 0.9943747520446777, 0.874687671661377, 0.8860957026481628, 0.9026658535003662, 0.4006973206996918, 0.992089033126831, 0.9852274656295776, 0.8309796452522278, 0.8427951335906982, 0.8818022012710571, 0.5761651396751404, 0.8564452528953552, 0.5938212871551514, 0.7815361618995667, 0.8144693374633789, 0.8130884766578674, 0.7255047559738159, 0.9662281274795532, 0.37965109944343567, 0.9601492285728455, 0.8657932877540588, 0.7729482054710388, 0.21777184307575226, 0.9446630477905273, 0.7402108311653137, 0.9093800187110901, 0.6499010324478149, 0.6602923274040222, 0.9921614527702332, 0.9398707747459412, 0.7181519865989685, 0.750190794467926, 0.32482361793518066, 0.8516058325767517, 0.9975518584251404, 0.7997928261756897, 0.7023152112960815, 0.24224668741226196, 0.8743995428085327, 0.6600597500801086, 0.9025832414627075, 0.9126541018486023, 0.8985362648963928, 0.6760185956954956, 0.7203211784362793, 0.9309488534927368, 0.5526338219642639, 0.9485780596733093, 0.9013732075691223, 0.9919664859771729, 0.931790292263031, 0.9305346608161926, 0.8775424957275391, 0.8980829119682312, 0.9040317535400391, 0.9649437069892883, 0.6989367008209229, 0.7152801752090454, 0.7146825194358826, 0.6294248700141907, 0.9819889068603516, 0.9372722506523132, 0.7392182946205139, 0.7164031267166138, 0.8503984808921814, 0.6612836718559265, 0.9855418801307678, 0.6796988248825073, 0.7643279433250427, 0.934892475605011, 0.8624622225761414, 0.7046377062797546, 0.9926965236663818, 0.8940917253494263, 0.5897696018218994, 0.8192567825317383, 0.9933615922927856, 0.867412805557251, 0.9931447505950928, 0.5365573763847351, 0.9707567691802979, 0.9480395913124084, 0.8803237676620483, 0.8913703560829163, 0.9794028401374817, 0.9945012331008911, 0.9853180646896362, 0.9937375783920288, 0.9675903916358948, 0.8718935251235962, 0.8107042908668518, 0.857066810131073, 0.7944014668464661, 0.31945618987083435, 0.8382875919342041, 0.5415160059928894, 0.6568140387535095, 0.8851097226142883, 0.8662744164466858, 0.8840232491493225, 0.8430512547492981, 0.8840457797050476, 0.6331315636634827, 0.8189532160758972, 0.8016740083694458, 0.2786839008331299, 0.9845346212387085, 0.9569198489189148, 0.9329901933670044, 0.905669629573822, 0.8464805483818054, 0.9029240012168884, 0.7774876356124878, 0.40958479046821594, 0.614590585231781, 0.654961109161377, 0.8904880881309509, 0.8998116850852966, 0.6746722459793091, 0.6655699610710144, 0.7957834601402283, 0.09656788408756256, 0.8396688103675842, 0.3089119791984558, 0.9055780172348022, 0.9984443783760071, 0.8823426365852356, 0.9928790926933289, 0.8390710949897766, 0.9750338196754456, 0.8979100584983826, 0.9568602442741394, 0.9690580368041992, 0.9878879189491272, 0.9919528365135193, 0.9841843843460083, 0.9910655617713928, 0.9973559379577637, 0.9677924513816833, 0.05269385874271393, 0.13914982974529266, 0.6044396162033081, 0.9704344272613525, 0.85413658618927, 0.660069465637207, 0.986894965171814, 0.6092333197593689, 0.9695340991020203, 0.6671872735023499, 0.7414073944091797, 0.9925814867019653, 0.9985364675521851, 0.977667510509491, 0.9872510433197021, 0.9980132579803467, 0.863235354423523, 0.7325009107589722, 0.9971831440925598, 0.9762633442878723, 0.8038665652275085, 0.9890812635421753, 0.8439002633094788, 0.9032687544822693, 0.9200930595397949, 0.9749264121055603, 0.9915708303451538, 0.7855384349822998, 0.9626827836036682, 0.9806555509567261, 0.7894940376281738, 0.9682419300079346, 0.8889173269271851, 0.5435684323310852, 0.9764745831489563, 0.9615243673324585, 0.9765127897262573, 0.9406300187110901, 0.9803321361541748, 0.7967594861984253, 0.9219362139701843, 0.8802337050437927, 0.6047838926315308, 0.5952668190002441, 0.7418753504753113, 0.663348376750946, 0.8341940641403198, 0.8723373413085938, 0.7636501789093018, 0.4893907308578491, 0.6524676084518433, 0.9627189040184021, 0.9771953225135803, 0.8293934464454651, 0.9709976315498352, 0.3778785467147827, 0.986099362373352, 0.8015744686126709, 0.9710199236869812, 0.6910102367401123, 0.9471677541732788, 0.9787019491195679, 0.9988377690315247, 0.7557156085968018, 0.9729509353637695, 0.6772336363792419, 0.877234160900116]}\n"
     ]
    }
   ],
   "source": [
    "print(\"[INFO] Evaluating the model...\")\n",
    "metrics = evaluate_model(\n",
    "    model=model,\n",
    "    test_loader=test_loader,\n",
    "    classes=[\"No Fire\", \"Fire\"],\n",
    "    device=device,\n",
    "    model_name=\"convnext_tiny\",\n",
    "    save_base_path=\"outputs/plots/baseline\",\n",
    ")\n",
    "print(f\"\\n[INFO] Metrics for ResNet18:\\n{metrics}\")"
   ]
  },
  {
   "cell_type": "code",
   "execution_count": 11,
   "metadata": {},
   "outputs": [
    {
     "name": "stdout",
     "output_type": "stream",
     "text": [
      "[INFO] Training plot saved to outputs/plots/baseline/convnext_baseline_training_curve.png\n",
      "[INFO] Confusion matrix saved to outputs/convnext_baseline_confusion_matrix.png\n",
      "[INFO] All results saved successfully!\n"
     ]
    },
    {
     "data": {
      "image/png": "[encoded data removed]",
      "text/plain": [
       "<Figure size 1200x600 with 2 Axes>"
      ]
     },
     "metadata": {},
     "output_type": "display_data"
    },
    {
     "data": {
      "image/png": "[encoded data removed]",
      "text/plain": [
       "<Figure size 800x800 with 2 Axes>"
      ]
     },
     "metadata": {},
     "output_type": "display_data"
    }
   ],
   "source": [
    "# Training and Validation Curves\n",
    "plot_training(history, f\"outputs/plots/baseline/convnext_baseline_training_curve.png\")\n",
    "\n",
    "# Confusion Matrix\n",
    "plot_confusion_matrix(\n",
    "    cm=metrics[\"confusion_matrix\"],\n",
    "    classes=[\"No Fire\", \"Fire\"],\n",
    "    output_path=f\"outputs/convnext_baseline_confusion_matrix.png\"\n",
    ")\n",
    "\n",
    "# Precision-Recall Curve\n",
    "if \"y_probs\" in metrics:\n",
    "    y_true = metrics[\"y_true\"]\n",
    "    y_probs = [prob[1] for prob in metrics[\"y_probs\"]]\n",
    "    plot_precision_recall(\n",
    "        y_true=y_true,\n",
    "        y_scores=y_probs,\n",
    "        output_path=f\"outputs/plots/baseline/convnext_baseline_precision_recall_curve.png\"\n",
    "    )\n",
    "\n",
    "    # ROC Curve\n",
    "    plot_roc_curve(\n",
    "        y_true=y_true,\n",
    "        y_scores=y_probs,\n",
    "        output_path=f\"outputs/plots/baseline/convnext_baseline_roc_curve.png\"\n",
    "    )\n",
    "\n",
    "print(\"[INFO] All results saved successfully!\")"
   ]
  },
  {
   "cell_type": "code",
   "execution_count": null,
   "metadata": {},
   "outputs": [],
   "source": []
  }
 ],
 "metadata": {
  "kernelspec": {
   "display_name": "env",
   "language": "python",
   "name": "python3"
  },
  "language_info": {
   "codemirror_mode": {
    "name": "ipython",
    "version": 3
   },
   "file_extension": ".py",
   "mimetype": "text/x-python",
   "name": "python",
   "nbconvert_exporter": "python",
   "pygments_lexer": "ipython3",
   "version": "3.11.9"
  }
 },
 "nbformat": 4,
 "nbformat_minor": 4
}
