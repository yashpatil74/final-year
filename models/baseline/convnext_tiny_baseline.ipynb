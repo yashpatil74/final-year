{
 "cells": [
  {
   "cell_type": "code",
   "execution_count": 1,
   "metadata": {},
   "outputs": [],
   "source": [
    "import os\n",
    "os.chdir(\"../..\")"
   ]
  },
  {
   "cell_type": "code",
   "execution_count": 2,
   "metadata": {},
   "outputs": [],
   "source": [
    "import torch\n",
    "from utils.dataset_loader import *\n",
    "from utils.model_utils import *\n",
    "from utils.train_utils import *\n",
    "from utils.metrics import *\n",
    "from utils.visualization import *"
   ]
  },
  {
   "cell_type": "code",
   "execution_count": 3,
   "metadata": {},
   "outputs": [
    {
     "name": "stdout",
     "output_type": "stream",
     "text": [
      "[INFO] Using device: cuda\n"
     ]
    }
   ],
   "source": [
    "device = torch.device(\"cuda\" if torch.cuda.is_available() else \"cpu\")\n",
    "print(f\"[INFO] Using device: {device}\")"
   ]
  },
  {
   "cell_type": "code",
   "execution_count": 4,
   "metadata": {},
   "outputs": [],
   "source": [
    "data_dir = \"wildfire_dataset_scaled\"\n",
    "batch_size = 8\n",
    "learning_rate = 0.0001\n",
    "num_classes = 2"
   ]
  },
  {
   "cell_type": "code",
   "execution_count": 5,
   "metadata": {},
   "outputs": [
    {
     "name": "stderr",
     "output_type": "stream",
     "text": [
      "2024-12-21 22:51:30,889 - INFO - Loading datasets from wildfire_dataset_scaled with augmentation type 'baseline'.\n",
      "2024-12-21 22:51:30,890 - INFO - Applying baseline augmentations: Resize and Normalize.\n",
      "2024-12-21 22:51:30,903 - INFO - Initialized AlbumentationsDataset with root: wildfire_dataset_scaled/train\n",
      "2024-12-21 22:51:30,906 - INFO - Initialized AlbumentationsDataset with root: wildfire_dataset_scaled/val\n",
      "2024-12-21 22:51:30,909 - INFO - Initialized AlbumentationsDataset with root: wildfire_dataset_scaled/test\n",
      "2024-12-21 22:51:30,910 - INFO - Datasets initialized. Preparing DataLoaders...\n",
      "2024-12-21 22:51:30,911 - INFO - Using WeightedRandomSampler for class balancing.\n",
      "2024-12-21 22:51:30,911 - INFO - Computing class weights from directory: wildfire_dataset_scaled/train\n",
      "2024-12-21 22:51:30,913 - INFO - Class 'fire' has 730 samples.\n",
      "2024-12-21 22:51:30,916 - INFO - Class 'nofire' has 1157 samples.\n",
      "2024-12-21 22:51:30,916 - INFO - Computed class weights: {'fire': 2.584931506849315, 'nofire': 1.630942091616249}\n"
     ]
    },
    {
     "name": "stdout",
     "output_type": "stream",
     "text": [
      "[INFO] Loading datasets...\n"
     ]
    },
    {
     "name": "stderr",
     "output_type": "stream",
     "text": [
      "2024-12-21 22:51:33,079 - INFO - DataLoaders created successfully.\n"
     ]
    },
    {
     "name": "stdout",
     "output_type": "stream",
     "text": [
      "[INFO] Datasets loaded successfully!\n"
     ]
    }
   ],
   "source": [
    "print(\"[INFO] Loading datasets...\")\n",
    "train_loader, val_loader, test_loader = load_datasets(data_dir, batch_size, augmentation=\"baseline\")\n",
    "print(\"[INFO] Datasets loaded successfully!\")\n",
    "\n"
   ]
  },
  {
   "cell_type": "markdown",
   "metadata": {},
   "source": []
  },
  {
   "cell_type": "code",
   "execution_count": 6,
   "metadata": {},
   "outputs": [
    {
     "name": "stdout",
     "output_type": "stream",
     "text": [
      "\n",
      "[INFO] Starting Baseline Training for Model: resnet18\n",
      "\n",
      "[INFO] Initializing ResNet18 model...\n",
      "[INFO] Model initialized successfully!\n"
     ]
    }
   ],
   "source": [
    "print(\"\\n[INFO] Starting Baseline Training for Model: resnet18\\n\")\n",
    "print(\"[INFO] Initializing ResNet18 model...\")\n",
    "model = initialize_model(\n",
    "    model_name=\"convnext_tiny\",\n",
    "    num_classes=num_classes,\n",
    "    pretrained=True,\n",
    "    freeze_all=True  # Baseline: Freeze all layers\n",
    ")\n",
    "print(\"[INFO] Model initialized successfully!\")"
   ]
  },
  {
   "cell_type": "code",
   "execution_count": 7,
   "metadata": {},
   "outputs": [
    {
     "name": "stdout",
     "output_type": "stream",
     "text": [
      "[INFO] Setting up loss function and optimizer...\n",
      "[INFO] Loss function and optimizer set up!\n"
     ]
    }
   ],
   "source": [
    "print(\"[INFO] Setting up loss function and optimizer...\")\n",
    "criterion = torch.nn.CrossEntropyLoss()\n",
    "optimizer = torch.optim.Adam(filter(lambda p: p.requires_grad, model.parameters()), lr=learning_rate)\n",
    "print(\"[INFO] Loss function and optimizer set up!\")"
   ]
  },
  {
   "cell_type": "code",
   "execution_count": null,
   "metadata": {},
   "outputs": [
    {
     "name": "stdout",
     "output_type": "stream",
     "text": [
      "[INFO] Starting model training...\n",
      "\n",
      "Starting training...\n",
      "\n"
     ]
    },
    {
     "name": "stderr",
     "output_type": "stream",
     "text": [
      "                                                                                        "
     ]
    },
    {
     "name": "stdout",
     "output_type": "stream",
     "text": [
      "[INFO] Best model saved with val_loss: 0.6119\n",
      "Epoch [1]: Train Loss: 0.6521, Train Acc: 0.6677 | Val Loss: 0.6119, Val Acc: 0.8234, Val Recall: 0.8415, Val F1: 0.8536\n"
     ]
    },
    {
     "name": "stderr",
     "output_type": "stream",
     "text": [
      "                                                                                        "
     ]
    },
    {
     "name": "stdout",
     "output_type": "stream",
     "text": [
      "[INFO] Best model saved with val_loss: 0.5498\n",
      "Epoch [2]: Train Loss: 0.5845, Train Acc: 0.7976 | Val Loss: 0.5498, Val Acc: 0.8408, Val Recall: 0.9024, Val F1: 0.8740\n"
     ]
    },
    {
     "name": "stderr",
     "output_type": "stream",
     "text": [
      "                                                                                        "
     ]
    },
    {
     "name": "stdout",
     "output_type": "stream",
     "text": [
      "[INFO] Best model saved with val_loss: 0.5084\n",
      "Epoch [3]: Train Loss: 0.5347, Train Acc: 0.8076 | Val Loss: 0.5084, Val Acc: 0.8408, Val Recall: 0.8943, Val F1: 0.8730\n"
     ]
    },
    {
     "name": "stderr",
     "output_type": "stream",
     "text": [
      "                                                                                        "
     ]
    },
    {
     "name": "stdout",
     "output_type": "stream",
     "text": [
      "[INFO] Best model saved with val_loss: 0.4790\n",
      "Epoch [4]: Train Loss: 0.4927, Train Acc: 0.8331 | Val Loss: 0.4790, Val Acc: 0.8458, Val Recall: 0.8780, Val F1: 0.8745\n"
     ]
    },
    {
     "name": "stderr",
     "output_type": "stream",
     "text": [
      "                                                                                        "
     ]
    },
    {
     "name": "stdout",
     "output_type": "stream",
     "text": [
      "[INFO] Best model saved with val_loss: 0.4541\n",
      "Epoch [5]: Train Loss: 0.4745, Train Acc: 0.8246 | Val Loss: 0.4541, Val Acc: 0.8408, Val Recall: 0.8821, Val F1: 0.8715\n"
     ]
    },
    {
     "name": "stderr",
     "output_type": "stream",
     "text": [
      "                                                                                        "
     ]
    },
    {
     "name": "stdout",
     "output_type": "stream",
     "text": [
      "[INFO] Best model saved with val_loss: 0.4298\n",
      "Epoch [6]: Train Loss: 0.4473, Train Acc: 0.8373 | Val Loss: 0.4298, Val Acc: 0.8483, Val Recall: 0.9106, Val F1: 0.8802\n"
     ]
    },
    {
     "name": "stderr",
     "output_type": "stream",
     "text": [
      "                                                                                        "
     ]
    },
    {
     "name": "stdout",
     "output_type": "stream",
     "text": [
      "[INFO] Best model saved with val_loss: 0.4199\n",
      "Epoch [7]: Train Loss: 0.4427, Train Acc: 0.8214 | Val Loss: 0.4199, Val Acc: 0.8532, Val Recall: 0.8943, Val F1: 0.8818\n"
     ]
    },
    {
     "name": "stderr",
     "output_type": "stream",
     "text": [
      "                                                                                        "
     ]
    },
    {
     "name": "stdout",
     "output_type": "stream",
     "text": [
      "[INFO] Best model saved with val_loss: 0.4097\n",
      "Epoch [8]: Train Loss: 0.4174, Train Acc: 0.8479 | Val Loss: 0.4097, Val Acc: 0.8507, Val Recall: 0.8862, Val F1: 0.8790\n"
     ]
    },
    {
     "name": "stderr",
     "output_type": "stream",
     "text": [
      "                                                                                        "
     ]
    },
    {
     "name": "stdout",
     "output_type": "stream",
     "text": [
      "[INFO] Best model saved with val_loss: 0.3995\n",
      "Epoch [9]: Train Loss: 0.4126, Train Acc: 0.8415 | Val Loss: 0.3995, Val Acc: 0.8607, Val Recall: 0.8902, Val F1: 0.8866\n"
     ]
    },
    {
     "name": "stderr",
     "output_type": "stream",
     "text": [
      "                                                                                        "
     ]
    },
    {
     "name": "stdout",
     "output_type": "stream",
     "text": [
      "[INFO] Best model saved with val_loss: 0.3846\n",
      "Epoch [10]: Train Loss: 0.4107, Train Acc: 0.8331 | Val Loss: 0.3846, Val Acc: 0.8632, Val Recall: 0.9228, Val F1: 0.8919\n"
     ]
    },
    {
     "name": "stderr",
     "output_type": "stream",
     "text": [
      "                                                                                        "
     ]
    },
    {
     "name": "stdout",
     "output_type": "stream",
     "text": [
      "[INFO] Best model saved with val_loss: 0.3787\n",
      "Epoch [11]: Train Loss: 0.4062, Train Acc: 0.8410 | Val Loss: 0.3787, Val Acc: 0.8632, Val Recall: 0.9065, Val F1: 0.8902\n"
     ]
    },
    {
     "name": "stderr",
     "output_type": "stream",
     "text": [
      "                                                                                        "
     ]
    },
    {
     "name": "stdout",
     "output_type": "stream",
     "text": [
      "[INFO] Best model saved with val_loss: 0.3764\n",
      "Epoch [12]: Train Loss: 0.4025, Train Acc: 0.8278 | Val Loss: 0.3764, Val Acc: 0.8682, Val Recall: 0.8943, Val F1: 0.8925\n"
     ]
    },
    {
     "name": "stderr",
     "output_type": "stream",
     "text": [
      "                                                                                        "
     ]
    },
    {
     "name": "stdout",
     "output_type": "stream",
     "text": [
      "[INFO] Best model saved with val_loss: 0.3687\n",
      "Epoch [13]: Train Loss: 0.3851, Train Acc: 0.8506 | Val Loss: 0.3687, Val Acc: 0.8731, Val Recall: 0.9065, Val F1: 0.8974\n"
     ]
    },
    {
     "name": "stderr",
     "output_type": "stream",
     "text": [
      "                                                                                        "
     ]
    },
    {
     "name": "stdout",
     "output_type": "stream",
     "text": [
      "[INFO] Best model saved with val_loss: 0.3599\n",
      "Epoch [14]: Train Loss: 0.3801, Train Acc: 0.8400 | Val Loss: 0.3599, Val Acc: 0.8682, Val Recall: 0.9106, Val F1: 0.8942\n"
     ]
    },
    {
     "name": "stderr",
     "output_type": "stream",
     "text": [
      "                                                                                        "
     ]
    },
    {
     "name": "stdout",
     "output_type": "stream",
     "text": [
      "[INFO] Best model saved with val_loss: 0.3556\n",
      "Epoch [15]: Train Loss: 0.3754, Train Acc: 0.8357 | Val Loss: 0.3556, Val Acc: 0.8756, Val Recall: 0.9146, Val F1: 0.9000\n"
     ]
    },
    {
     "name": "stderr",
     "output_type": "stream",
     "text": [
      "                                                                                        "
     ]
    },
    {
     "name": "stdout",
     "output_type": "stream",
     "text": [
      "[INFO] Best model saved with val_loss: 0.3518\n",
      "Epoch [16]: Train Loss: 0.3687, Train Acc: 0.8458 | Val Loss: 0.3518, Val Acc: 0.8756, Val Recall: 0.9065, Val F1: 0.8992\n"
     ]
    },
    {
     "name": "stderr",
     "output_type": "stream",
     "text": [
      "                                                                                        "
     ]
    },
    {
     "name": "stdout",
     "output_type": "stream",
     "text": [
      "[INFO] Best model saved with val_loss: 0.3509\n",
      "Epoch [17]: Train Loss: 0.3597, Train Acc: 0.8511 | Val Loss: 0.3509, Val Acc: 0.8706, Val Recall: 0.8943, Val F1: 0.8943\n"
     ]
    },
    {
     "name": "stderr",
     "output_type": "stream",
     "text": [
      "                                                                                        "
     ]
    },
    {
     "name": "stdout",
     "output_type": "stream",
     "text": [
      "[INFO] Best model saved with val_loss: 0.3484\n",
      "Epoch [18]: Train Loss: 0.3729, Train Acc: 0.8357 | Val Loss: 0.3484, Val Acc: 0.8657, Val Recall: 0.8862, Val F1: 0.8898\n"
     ]
    },
    {
     "name": "stderr",
     "output_type": "stream",
     "text": [
      "                                                                                        "
     ]
    },
    {
     "name": "stdout",
     "output_type": "stream",
     "text": [
      "[INFO] Best model saved with val_loss: 0.3401\n",
      "Epoch [19]: Train Loss: 0.3410, Train Acc: 0.8718 | Val Loss: 0.3401, Val Acc: 0.8806, Val Recall: 0.9146, Val F1: 0.9036\n"
     ]
    },
    {
     "name": "stderr",
     "output_type": "stream",
     "text": [
      "                                                                                        "
     ]
    },
    {
     "name": "stdout",
     "output_type": "stream",
     "text": [
      "[INFO] Best model saved with val_loss: 0.3362\n",
      "Epoch [20]: Train Loss: 0.3537, Train Acc: 0.8569 | Val Loss: 0.3362, Val Acc: 0.8781, Val Recall: 0.9146, Val F1: 0.9018\n"
     ]
    },
    {
     "name": "stderr",
     "output_type": "stream",
     "text": [
      "                                                                                        "
     ]
    },
    {
     "name": "stdout",
     "output_type": "stream",
     "text": [
      "[INFO] Best model saved with val_loss: 0.3302\n",
      "Epoch [21]: Train Loss: 0.3373, Train Acc: 0.8744 | Val Loss: 0.3302, Val Acc: 0.8831, Val Recall: 0.9228, Val F1: 0.9062\n"
     ]
    },
    {
     "name": "stderr",
     "output_type": "stream",
     "text": [
      "                                                                                        "
     ]
    },
    {
     "name": "stdout",
     "output_type": "stream",
     "text": [
      "[INFO] Best model saved with val_loss: 0.3300\n",
      "Epoch [22]: Train Loss: 0.3360, Train Acc: 0.8659 | Val Loss: 0.3300, Val Acc: 0.8731, Val Recall: 0.9065, Val F1: 0.8974\n"
     ]
    },
    {
     "name": "stderr",
     "output_type": "stream",
     "text": [
      "                                                                                        "
     ]
    },
    {
     "name": "stdout",
     "output_type": "stream",
     "text": [
      "[INFO] Best model saved with val_loss: 0.3285\n",
      "Epoch [23]: Train Loss: 0.3376, Train Acc: 0.8675 | Val Loss: 0.3285, Val Acc: 0.8731, Val Recall: 0.9065, Val F1: 0.8974\n"
     ]
    },
    {
     "name": "stderr",
     "output_type": "stream",
     "text": [
      "                                                                                        "
     ]
    },
    {
     "name": "stdout",
     "output_type": "stream",
     "text": [
      "[INFO] Best model saved with val_loss: 0.3205\n",
      "Epoch [24]: Train Loss: 0.3377, Train Acc: 0.8665 | Val Loss: 0.3205, Val Acc: 0.8881, Val Recall: 0.9309, Val F1: 0.9105\n"
     ]
    },
    {
     "name": "stderr",
     "output_type": "stream",
     "text": [
      "                                                                                        "
     ]
    },
    {
     "name": "stdout",
     "output_type": "stream",
     "text": [
      "[INFO] Best model saved with val_loss: 0.3192\n",
      "Epoch [25]: Train Loss: 0.3383, Train Acc: 0.8617 | Val Loss: 0.3192, Val Acc: 0.8881, Val Recall: 0.9309, Val F1: 0.9105\n"
     ]
    },
    {
     "name": "stderr",
     "output_type": "stream",
     "text": [
      "                                                                                        "
     ]
    },
    {
     "name": "stdout",
     "output_type": "stream",
     "text": [
      "[INFO] Best model saved with val_loss: 0.3174\n",
      "Epoch [26]: Train Loss: 0.3380, Train Acc: 0.8569 | Val Loss: 0.3174, Val Acc: 0.8856, Val Recall: 0.9228, Val F1: 0.9080\n"
     ]
    },
    {
     "name": "stderr",
     "output_type": "stream",
     "text": [
      "                                                                                        "
     ]
    },
    {
     "name": "stdout",
     "output_type": "stream",
     "text": [
      "[INFO] No improvement in val_loss. Patience: 1/12\n",
      "Epoch [27]: Train Loss: 0.3383, Train Acc: 0.8601 | Val Loss: 0.3177, Val Acc: 0.8781, Val Recall: 0.9106, Val F1: 0.9014\n"
     ]
    },
    {
     "name": "stderr",
     "output_type": "stream",
     "text": [
      "                                                                                        "
     ]
    },
    {
     "name": "stdout",
     "output_type": "stream",
     "text": [
      "[INFO] Best model saved with val_loss: 0.3141\n",
      "Epoch [28]: Train Loss: 0.3253, Train Acc: 0.8755 | Val Loss: 0.3141, Val Acc: 0.8806, Val Recall: 0.9146, Val F1: 0.9036\n"
     ]
    },
    {
     "name": "stderr",
     "output_type": "stream",
     "text": [
      "                                                                                        "
     ]
    },
    {
     "name": "stdout",
     "output_type": "stream",
     "text": [
      "[INFO] Best model saved with val_loss: 0.3111\n",
      "Epoch [29]: Train Loss: 0.3215, Train Acc: 0.8718 | Val Loss: 0.3111, Val Acc: 0.8856, Val Recall: 0.9228, Val F1: 0.9080\n"
     ]
    },
    {
     "name": "stderr",
     "output_type": "stream",
     "text": [
      "                                                                                        "
     ]
    },
    {
     "name": "stdout",
     "output_type": "stream",
     "text": [
      "[INFO] Best model saved with val_loss: 0.3108\n",
      "Epoch [30]: Train Loss: 0.3197, Train Acc: 0.8702 | Val Loss: 0.3108, Val Acc: 0.8781, Val Recall: 0.9106, Val F1: 0.9014\n"
     ]
    },
    {
     "name": "stderr",
     "output_type": "stream",
     "text": [
      "                                                                                        "
     ]
    },
    {
     "name": "stdout",
     "output_type": "stream",
     "text": [
      "[INFO] Best model saved with val_loss: 0.3091\n",
      "Epoch [31]: Train Loss: 0.3324, Train Acc: 0.8627 | Val Loss: 0.3091, Val Acc: 0.8831, Val Recall: 0.9146, Val F1: 0.9054\n"
     ]
    },
    {
     "name": "stderr",
     "output_type": "stream",
     "text": [
      "                                                                                        "
     ]
    },
    {
     "name": "stdout",
     "output_type": "stream",
     "text": [
      "[INFO] Best model saved with val_loss: 0.3071\n",
      "Epoch [32]: Train Loss: 0.3331, Train Acc: 0.8617 | Val Loss: 0.3071, Val Acc: 0.8831, Val Recall: 0.9146, Val F1: 0.9054\n"
     ]
    },
    {
     "name": "stderr",
     "output_type": "stream",
     "text": [
      "                                                                                        "
     ]
    },
    {
     "name": "stdout",
     "output_type": "stream",
     "text": [
      "[INFO] Best model saved with val_loss: 0.3046\n",
      "Epoch [33]: Train Loss: 0.3234, Train Acc: 0.8622 | Val Loss: 0.3046, Val Acc: 0.8856, Val Recall: 0.9187, Val F1: 0.9076\n"
     ]
    },
    {
     "name": "stderr",
     "output_type": "stream",
     "text": [
      "                                                                                        "
     ]
    },
    {
     "name": "stdout",
     "output_type": "stream",
     "text": [
      "[INFO] No improvement in val_loss. Patience: 1/12\n",
      "Epoch [34]: Train Loss: 0.3189, Train Acc: 0.8612 | Val Loss: 0.3047, Val Acc: 0.8881, Val Recall: 0.9146, Val F1: 0.9091\n"
     ]
    },
    {
     "name": "stderr",
     "output_type": "stream",
     "text": [
      "                                                                                        "
     ]
    },
    {
     "name": "stdout",
     "output_type": "stream",
     "text": [
      "[INFO] Best model saved with val_loss: 0.3015\n",
      "Epoch [35]: Train Loss: 0.3218, Train Acc: 0.8638 | Val Loss: 0.3015, Val Acc: 0.8881, Val Recall: 0.9228, Val F1: 0.9098\n"
     ]
    },
    {
     "name": "stderr",
     "output_type": "stream",
     "text": [
      "                                                                                        "
     ]
    },
    {
     "name": "stdout",
     "output_type": "stream",
     "text": [
      "[INFO] No improvement in val_loss. Patience: 1/12\n",
      "Epoch [36]: Train Loss: 0.3261, Train Acc: 0.8696 | Val Loss: 0.3018, Val Acc: 0.8905, Val Recall: 0.9187, Val F1: 0.9113\n"
     ]
    },
    {
     "name": "stderr",
     "output_type": "stream",
     "text": [
      "                                                                                        "
     ]
    },
    {
     "name": "stdout",
     "output_type": "stream",
     "text": [
      "[INFO] No improvement in val_loss. Patience: 2/12\n",
      "Epoch [37]: Train Loss: 0.3186, Train Acc: 0.8659 | Val Loss: 0.3043, Val Acc: 0.8955, Val Recall: 0.9106, Val F1: 0.9143\n"
     ]
    },
    {
     "name": "stderr",
     "output_type": "stream",
     "text": [
      "                                                                                        "
     ]
    },
    {
     "name": "stdout",
     "output_type": "stream",
     "text": [
      "[INFO] Best model saved with val_loss: 0.3008\n",
      "Epoch [38]: Train Loss: 0.3024, Train Acc: 0.8845 | Val Loss: 0.3008, Val Acc: 0.8955, Val Recall: 0.9187, Val F1: 0.9150\n"
     ]
    },
    {
     "name": "stderr",
     "output_type": "stream",
     "text": [
      "                                                                                        "
     ]
    },
    {
     "name": "stdout",
     "output_type": "stream",
     "text": [
      "[INFO] No improvement in val_loss. Patience: 1/12\n",
      "Epoch [39]: Train Loss: 0.3090, Train Acc: 0.8760 | Val Loss: 0.3012, Val Acc: 0.8930, Val Recall: 0.9065, Val F1: 0.9121\n"
     ]
    },
    {
     "name": "stderr",
     "output_type": "stream",
     "text": [
      "                                                                                        "
     ]
    },
    {
     "name": "stdout",
     "output_type": "stream",
     "text": [
      "[INFO] Best model saved with val_loss: 0.2971\n",
      "Epoch [40]: Train Loss: 0.3066, Train Acc: 0.8771 | Val Loss: 0.2971, Val Acc: 0.8980, Val Recall: 0.9187, Val F1: 0.9168\n"
     ]
    },
    {
     "name": "stderr",
     "output_type": "stream",
     "text": [
      "                                                                                        "
     ]
    },
    {
     "name": "stdout",
     "output_type": "stream",
     "text": [
      "[INFO] Best model saved with val_loss: 0.2939\n",
      "Epoch [41]: Train Loss: 0.3056, Train Acc: 0.8702 | Val Loss: 0.2939, Val Acc: 0.8955, Val Recall: 0.9187, Val F1: 0.9150\n"
     ]
    },
    {
     "name": "stderr",
     "output_type": "stream",
     "text": [
      "                                                                                        "
     ]
    },
    {
     "name": "stdout",
     "output_type": "stream",
     "text": [
      "[INFO] Best model saved with val_loss: 0.2929\n",
      "Epoch [42]: Train Loss: 0.3151, Train Acc: 0.8633 | Val Loss: 0.2929, Val Acc: 0.8980, Val Recall: 0.9187, Val F1: 0.9168\n"
     ]
    },
    {
     "name": "stderr",
     "output_type": "stream",
     "text": [
      "                                                                                        "
     ]
    },
    {
     "name": "stdout",
     "output_type": "stream",
     "text": [
      "[INFO] Best model saved with val_loss: 0.2894\n",
      "Epoch [43]: Train Loss: 0.3152, Train Acc: 0.8638 | Val Loss: 0.2894, Val Acc: 0.8930, Val Recall: 0.9228, Val F1: 0.9135\n"
     ]
    },
    {
     "name": "stderr",
     "output_type": "stream",
     "text": [
      "                                                                                        "
     ]
    },
    {
     "name": "stdout",
     "output_type": "stream",
     "text": [
      "[INFO] No improvement in val_loss. Patience: 1/12\n",
      "Epoch [44]: Train Loss: 0.3011, Train Acc: 0.8728 | Val Loss: 0.2912, Val Acc: 0.8980, Val Recall: 0.9187, Val F1: 0.9168\n"
     ]
    },
    {
     "name": "stderr",
     "output_type": "stream",
     "text": [
      "                                                                                        "
     ]
    },
    {
     "name": "stdout",
     "output_type": "stream",
     "text": [
      "[INFO] Best model saved with val_loss: 0.2873\n",
      "Epoch [45]: Train Loss: 0.2965, Train Acc: 0.8813 | Val Loss: 0.2873, Val Acc: 0.8980, Val Recall: 0.9228, Val F1: 0.9172\n"
     ]
    },
    {
     "name": "stderr",
     "output_type": "stream",
     "text": [
      "                                                                                        "
     ]
    },
    {
     "name": "stdout",
     "output_type": "stream",
     "text": [
      "[INFO] No improvement in val_loss. Patience: 1/12\n",
      "Epoch [46]: Train Loss: 0.2974, Train Acc: 0.8792 | Val Loss: 0.2876, Val Acc: 0.9005, Val Recall: 0.9228, Val F1: 0.9190\n"
     ]
    },
    {
     "name": "stderr",
     "output_type": "stream",
     "text": [
      "Epoch [47] - Training:  24%|██████▌                    | 57/236 [00:02<00:06, 27.93it/s]"
     ]
    }
   ],
   "source": [
    "print(\"[INFO] Starting model training...\")\n",
    "history = train_model(\n",
    "    model=model,\n",
    "    train_loader=train_loader,\n",
    "    val_loader=val_loader,\n",
    "    criterion=criterion,\n",
    "    optimizer=optimizer,\n",
    "    scheduler=None,  # No learning rate scheduler for baseline\n",
    "    device=device,\n",
    "    save_path=f\"outputs/models/baseline/convnext_tiny.pt\",\n",
    "    early_stop_patience=12,\n",
    "    monitor_metric=\"val_loss\",\n",
    ")\n",
    "print(\"[INFO] Training completed successfully!\")"
   ]
  },
  {
   "cell_type": "code",
   "execution_count": null,
   "metadata": {},
   "outputs": [],
   "source": [
    "print(\"[INFO] Evaluating the model...\")\n",
    "metrics = evaluate_model(\n",
    "    model=model,\n",
    "    test_loader=test_loader,\n",
    "    classes=[\"No Fire\", \"Fire\"],\n",
    "    device=device\n",
    ")\n",
    "print(f\"\\n[INFO] Metrics for ResNet18:\\n{metrics}\")"
   ]
  },
  {
   "cell_type": "code",
   "execution_count": null,
   "metadata": {},
   "outputs": [],
   "source": [
    "# Training and Validation Curves\n",
    "plot_training(history, f\"outputs/efficientnet_baseline_training_curve.png\")\n",
    "\n",
    "# Confusion Matrix\n",
    "plot_confusion_matrix(\n",
    "    cm=metrics[\"confusion_matrix\"],\n",
    "    classes=[\"No Fire\", \"Fire\"],\n",
    "    output_path=f\"outputs/efficientnet_baseline_confusion_matrix.png\"\n",
    ")\n",
    "\n",
    "# Precision-Recall Curve\n",
    "if \"y_probs\" in metrics:\n",
    "    y_true = metrics[\"y_true\"]\n",
    "    y_probs = [prob[1] for prob in metrics[\"y_probs\"]]\n",
    "    plot_precision_recall(\n",
    "        y_true=y_true,\n",
    "        y_scores=y_probs,\n",
    "        output_path=f\"outputs/efficientnet_baseline_precision_recall_curve.png\"\n",
    "    )\n",
    "\n",
    "    # ROC Curve\n",
    "    plot_roc_curve(\n",
    "        y_true=y_true,\n",
    "        y_scores=y_probs,\n",
    "        output_path=f\"outputs/efficientnet_baseline_roc_curve.png\"\n",
    "    )\n",
    "\n",
    "print(\"[INFO] All results saved successfully!\")"
   ]
  },
  {
   "cell_type": "code",
   "execution_count": null,
   "metadata": {},
   "outputs": [],
   "source": []
  }
 ],
 "metadata": {
  "kernelspec": {
   "display_name": "Python 3 (ipykernel)",
   "language": "python",
   "name": "python3"
  },
  "language_info": {
   "codemirror_mode": {
    "name": "ipython",
    "version": 3
   },
   "file_extension": ".py",
   "mimetype": "text/x-python",
   "name": "python",
   "nbconvert_exporter": "python",
   "pygments_lexer": "ipython3",
   "version": "3.11.9"
  }
 },
 "nbformat": 4,
 "nbformat_minor": 4
}
