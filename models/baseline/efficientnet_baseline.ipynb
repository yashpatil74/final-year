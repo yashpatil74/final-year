{
 "cells": [
  {
   "cell_type": "code",
   "execution_count": 1,
   "metadata": {},
   "outputs": [],
   "source": [
    "import os\n",
    "os.chdir(\"../..\")"
   ]
  },
  {
   "cell_type": "code",
   "execution_count": 2,
   "metadata": {},
   "outputs": [],
   "source": [
    "import torch\n",
    "from utils.dataset_loader import *\n",
    "from utils.model_utils import *\n",
    "from utils.train_utils import *\n",
    "from utils.metrics import *\n",
    "from utils.visualization import *"
   ]
  },
  {
   "cell_type": "code",
   "execution_count": 3,
   "metadata": {},
   "outputs": [
    {
     "name": "stdout",
     "output_type": "stream",
     "text": [
      "[INFO] Using device: cuda\n"
     ]
    }
   ],
   "source": [
    "device = torch.device(\"cuda\" if torch.cuda.is_available() else \"cpu\")\n",
    "print(f\"[INFO] Using device: {device}\")"
   ]
  },
  {
   "cell_type": "code",
   "execution_count": 4,
   "metadata": {},
   "outputs": [],
   "source": [
    "data_dir = \"wildfire_dataset_scaled\"\n",
    "batch_size = 16\n",
    "learning_rate = 0.0003\n",
    "num_classes = 2"
   ]
  },
  {
   "cell_type": "code",
   "execution_count": 5,
   "metadata": {},
   "outputs": [
    {
     "name": "stderr",
     "output_type": "stream",
     "text": [
      "2024-12-23 20:11:23,241 - INFO - Loading datasets from wildfire_dataset_scaled with augmentation type 'baseline'.\n",
      "2024-12-23 20:11:23,242 - INFO - Applying baseline augmentations: Resize and Normalize.\n",
      "2024-12-23 20:11:23,254 - INFO - Initialized AlbumentationsDataset with root: wildfire_dataset_scaled/train\n",
      "2024-12-23 20:11:23,257 - INFO - Initialized AlbumentationsDataset with root: wildfire_dataset_scaled/val\n",
      "2024-12-23 20:11:23,261 - INFO - Initialized AlbumentationsDataset with root: wildfire_dataset_scaled/test\n",
      "2024-12-23 20:11:23,262 - INFO - Datasets initialized. Preparing DataLoaders...\n",
      "2024-12-23 20:11:23,262 - INFO - Using WeightedRandomSampler for class balancing.\n",
      "2024-12-23 20:11:23,263 - INFO - Computing class weights from directory: wildfire_dataset_scaled/train\n",
      "2024-12-23 20:11:23,266 - INFO - Class 'fire' has 730 samples.\n",
      "2024-12-23 20:11:23,269 - INFO - Class 'nofire' has 1157 samples.\n",
      "2024-12-23 20:11:23,270 - INFO - Computed class weights: {'fire': 1.0, 'nofire': 0.7943186335572451}\n"
     ]
    },
    {
     "name": "stdout",
     "output_type": "stream",
     "text": [
      "[INFO] Loading datasets...\n"
     ]
    },
    {
     "name": "stderr",
     "output_type": "stream",
     "text": [
      "2024-12-23 20:11:25,474 - INFO - DataLoaders created successfully.\n"
     ]
    },
    {
     "name": "stdout",
     "output_type": "stream",
     "text": [
      "[INFO] Datasets loaded successfully!\n"
     ]
    }
   ],
   "source": [
    "print(\"[INFO] Loading datasets...\")\n",
    "train_loader, val_loader, test_loader = load_datasets(data_dir, batch_size, augmentation=\"baseline\")\n",
    "print(\"[INFO] Datasets loaded successfully!\")\n"
   ]
  },
  {
   "cell_type": "markdown",
   "metadata": {},
   "source": []
  },
  {
   "cell_type": "code",
   "execution_count": 6,
   "metadata": {},
   "outputs": [
    {
     "name": "stdout",
     "output_type": "stream",
     "text": [
      "\n",
      "[INFO] Starting Baseline Training for Model: efficienetnet\n",
      "\n",
      "[INFO] Initializing efficienetnet model...\n",
      "[INFO] Model initialized successfully!\n"
     ]
    }
   ],
   "source": [
    "print(\"\\n[INFO] Starting Baseline Training for Model: efficienetnet\\n\")\n",
    "print(\"[INFO] Initializing efficienetnet model...\")\n",
    "model = initialize_model(\n",
    "    model_name=\"efficientnet_b0\",\n",
    "    num_classes=num_classes,\n",
    "    pretrained=True,\n",
    "    freeze_all=True  # Baseline: Freeze all layers\n",
    ")\n",
    "print(\"[INFO] Model initialized successfully!\")"
   ]
  },
  {
   "cell_type": "code",
   "execution_count": 7,
   "metadata": {},
   "outputs": [
    {
     "name": "stdout",
     "output_type": "stream",
     "text": [
      "[INFO] Setting up loss function and optimizer...\n",
      "[INFO] Loss function and optimizer set up!\n"
     ]
    }
   ],
   "source": [
    "print(\"[INFO] Setting up loss function and optimizer...\")\n",
    "criterion = torch.nn.CrossEntropyLoss()\n",
    "optimizer = torch.optim.Adam(filter(lambda p: p.requires_grad, model.parameters()), lr=learning_rate)\n",
    "print(\"[INFO] Loss function and optimizer set up!\")"
   ]
  },
  {
   "cell_type": "code",
   "execution_count": 8,
   "metadata": {},
   "outputs": [
    {
     "name": "stdout",
     "output_type": "stream",
     "text": [
      "[INFO] Starting model training...\n",
      "\n",
      "Starting training...\n",
      "\n"
     ]
    },
    {
     "name": "stderr",
     "output_type": "stream",
     "text": [
      "                                                                       \r"
     ]
    },
    {
     "name": "stdout",
     "output_type": "stream",
     "text": [
      "[INFO] Best model saved with val_f1: 0.8075\n",
      "Epoch [1]: Train Loss: 0.6169, Train Acc: 0.6720 | Val Loss: 0.5266, Val Acc: 0.7687, Val Recall: 0.7927, Val F1: 0.8075\n"
     ]
    },
    {
     "name": "stderr",
     "output_type": "stream",
     "text": [
      "                                                                       \r"
     ]
    },
    {
     "name": "stdout",
     "output_type": "stream",
     "text": [
      "[INFO] Best model saved with val_f1: 0.8421\n",
      "Epoch [2]: Train Loss: 0.5293, Train Acc: 0.7636 | Val Loss: 0.4602, Val Acc: 0.8060, Val Recall: 0.8455, Val F1: 0.8421\n"
     ]
    },
    {
     "name": "stderr",
     "output_type": "stream",
     "text": [
      "                                                                       \r"
     ]
    },
    {
     "name": "stdout",
     "output_type": "stream",
     "text": [
      "[INFO] Best model saved with val_f1: 0.8479\n",
      "Epoch [3]: Train Loss: 0.4525, Train Acc: 0.8087 | Val Loss: 0.4309, Val Acc: 0.8134, Val Recall: 0.8496, Val F1: 0.8479\n"
     ]
    },
    {
     "name": "stderr",
     "output_type": "stream",
     "text": [
      "                                                                       \r"
     ]
    },
    {
     "name": "stdout",
     "output_type": "stream",
     "text": [
      "[INFO] No improvement in val_f1. Patience: 1/12\n",
      "Epoch [4]: Train Loss: 0.4318, Train Acc: 0.8156 | Val Loss: 0.4238, Val Acc: 0.8010, Val Recall: 0.8171, Val F1: 0.8340\n"
     ]
    },
    {
     "name": "stderr",
     "output_type": "stream",
     "text": [
      "                                                                       \r"
     ]
    },
    {
     "name": "stdout",
     "output_type": "stream",
     "text": [
      "[INFO] Best model saved with val_f1: 0.8601\n",
      "Epoch [5]: Train Loss: 0.4447, Train Acc: 0.8018 | Val Loss: 0.3969, Val Acc: 0.8308, Val Recall: 0.8496, Val F1: 0.8601\n"
     ]
    },
    {
     "name": "stderr",
     "output_type": "stream",
     "text": [
      "                                                                       \r"
     ]
    },
    {
     "name": "stdout",
     "output_type": "stream",
     "text": [
      "[INFO] No improvement in val_f1. Patience: 1/12\n",
      "Epoch [6]: Train Loss: 0.4150, Train Acc: 0.8182 | Val Loss: 0.3911, Val Acc: 0.8209, Val Recall: 0.8293, Val F1: 0.8500\n"
     ]
    },
    {
     "name": "stderr",
     "output_type": "stream",
     "text": [
      "                                                                       \r"
     ]
    },
    {
     "name": "stdout",
     "output_type": "stream",
     "text": [
      "[INFO] Best model saved with val_f1: 0.8694\n",
      "Epoch [7]: Train Loss: 0.3994, Train Acc: 0.8262 | Val Loss: 0.3810, Val Acc: 0.8408, Val Recall: 0.8659, Val F1: 0.8694\n"
     ]
    },
    {
     "name": "stderr",
     "output_type": "stream",
     "text": [
      "                                                                       \r"
     ]
    },
    {
     "name": "stdout",
     "output_type": "stream",
     "text": [
      "[INFO] No improvement in val_f1. Patience: 1/12\n",
      "Epoch [8]: Train Loss: 0.4026, Train Acc: 0.8272 | Val Loss: 0.3772, Val Acc: 0.8383, Val Recall: 0.8211, Val F1: 0.8614\n"
     ]
    },
    {
     "name": "stderr",
     "output_type": "stream",
     "text": [
      "                                                                       \r"
     ]
    },
    {
     "name": "stdout",
     "output_type": "stream",
     "text": [
      "[INFO] Best model saved with val_f1: 0.8704\n",
      "Epoch [9]: Train Loss: 0.3998, Train Acc: 0.8161 | Val Loss: 0.3592, Val Acc: 0.8408, Val Recall: 0.8740, Val F1: 0.8704\n"
     ]
    },
    {
     "name": "stderr",
     "output_type": "stream",
     "text": [
      "                                                                        \r"
     ]
    },
    {
     "name": "stdout",
     "output_type": "stream",
     "text": [
      "[INFO] No improvement in val_f1. Patience: 1/12\n",
      "Epoch [10]: Train Loss: 0.3967, Train Acc: 0.8230 | Val Loss: 0.3673, Val Acc: 0.8284, Val Recall: 0.8577, Val F1: 0.8595\n"
     ]
    },
    {
     "name": "stderr",
     "output_type": "stream",
     "text": [
      "                                                                        \r"
     ]
    },
    {
     "name": "stdout",
     "output_type": "stream",
     "text": [
      "[INFO] No improvement in val_f1. Patience: 2/12\n",
      "Epoch [11]: Train Loss: 0.3764, Train Acc: 0.8325 | Val Loss: 0.3711, Val Acc: 0.8458, Val Recall: 0.8455, Val F1: 0.8703\n"
     ]
    },
    {
     "name": "stderr",
     "output_type": "stream",
     "text": [
      "                                                                        \r"
     ]
    },
    {
     "name": "stdout",
     "output_type": "stream",
     "text": [
      "[INFO] No improvement in val_f1. Patience: 3/12\n",
      "Epoch [12]: Train Loss: 0.3623, Train Acc: 0.8447 | Val Loss: 0.3615, Val Acc: 0.8333, Val Recall: 0.8415, Val F1: 0.8607\n"
     ]
    },
    {
     "name": "stderr",
     "output_type": "stream",
     "text": [
      "                                                                        \r"
     ]
    },
    {
     "name": "stdout",
     "output_type": "stream",
     "text": [
      "[INFO] Best model saved with val_f1: 0.8730\n",
      "Epoch [13]: Train Loss: 0.3682, Train Acc: 0.8347 | Val Loss: 0.3644, Val Acc: 0.8458, Val Recall: 0.8659, Val F1: 0.8730\n"
     ]
    },
    {
     "name": "stderr",
     "output_type": "stream",
     "text": [
      "                                                                        \r"
     ]
    },
    {
     "name": "stdout",
     "output_type": "stream",
     "text": [
      "[INFO] Best model saved with val_f1: 0.8835\n",
      "Epoch [14]: Train Loss: 0.3609, Train Acc: 0.8378 | Val Loss: 0.3465, Val Acc: 0.8557, Val Recall: 0.8943, Val F1: 0.8835\n"
     ]
    },
    {
     "name": "stderr",
     "output_type": "stream",
     "text": [
      "                                                                        \r"
     ]
    },
    {
     "name": "stdout",
     "output_type": "stream",
     "text": [
      "[INFO] No improvement in val_f1. Patience: 1/12\n",
      "Epoch [15]: Train Loss: 0.3690, Train Acc: 0.8400 | Val Loss: 0.3426, Val Acc: 0.8532, Val Recall: 0.8821, Val F1: 0.8803\n"
     ]
    },
    {
     "name": "stderr",
     "output_type": "stream",
     "text": [
      "                                                                        \r"
     ]
    },
    {
     "name": "stdout",
     "output_type": "stream",
     "text": [
      "[INFO] No improvement in val_f1. Patience: 2/12\n",
      "Epoch [16]: Train Loss: 0.3637, Train Acc: 0.8426 | Val Loss: 0.3469, Val Acc: 0.8458, Val Recall: 0.8618, Val F1: 0.8724\n"
     ]
    },
    {
     "name": "stderr",
     "output_type": "stream",
     "text": [
      "                                                                        \r"
     ]
    },
    {
     "name": "stdout",
     "output_type": "stream",
     "text": [
      "[INFO] No improvement in val_f1. Patience: 3/12\n",
      "Epoch [17]: Train Loss: 0.3654, Train Acc: 0.8384 | Val Loss: 0.3369, Val Acc: 0.8458, Val Recall: 0.8780, Val F1: 0.8745\n"
     ]
    },
    {
     "name": "stderr",
     "output_type": "stream",
     "text": [
      "                                                                        \r"
     ]
    },
    {
     "name": "stdout",
     "output_type": "stream",
     "text": [
      "[INFO] No improvement in val_f1. Patience: 4/12\n",
      "Epoch [18]: Train Loss: 0.3514, Train Acc: 0.8453 | Val Loss: 0.3410, Val Acc: 0.8483, Val Recall: 0.8618, Val F1: 0.8742\n"
     ]
    },
    {
     "name": "stderr",
     "output_type": "stream",
     "text": [
      "                                                                        \r"
     ]
    },
    {
     "name": "stdout",
     "output_type": "stream",
     "text": [
      "[INFO] No improvement in val_f1. Patience: 5/12\n",
      "Epoch [19]: Train Loss: 0.3607, Train Acc: 0.8357 | Val Loss: 0.3484, Val Acc: 0.8483, Val Recall: 0.8577, Val F1: 0.8737\n"
     ]
    },
    {
     "name": "stderr",
     "output_type": "stream",
     "text": [
      "                                                                        \r"
     ]
    },
    {
     "name": "stdout",
     "output_type": "stream",
     "text": [
      "[INFO] No improvement in val_f1. Patience: 6/12\n",
      "Epoch [20]: Train Loss: 0.3661, Train Acc: 0.8426 | Val Loss: 0.3519, Val Acc: 0.8333, Val Recall: 0.8659, Val F1: 0.8641\n"
     ]
    },
    {
     "name": "stderr",
     "output_type": "stream",
     "text": [
      "                                                                        \r"
     ]
    },
    {
     "name": "stdout",
     "output_type": "stream",
     "text": [
      "[INFO] Best model saved with val_f1: 0.8871\n",
      "Epoch [21]: Train Loss: 0.3592, Train Acc: 0.8368 | Val Loss: 0.3309, Val Acc: 0.8607, Val Recall: 0.8943, Val F1: 0.8871\n"
     ]
    },
    {
     "name": "stderr",
     "output_type": "stream",
     "text": [
      "                                                                        \r"
     ]
    },
    {
     "name": "stdout",
     "output_type": "stream",
     "text": [
      "[INFO] No improvement in val_f1. Patience: 1/12\n",
      "Epoch [22]: Train Loss: 0.3587, Train Acc: 0.8405 | Val Loss: 0.3383, Val Acc: 0.8483, Val Recall: 0.8699, Val F1: 0.8753\n"
     ]
    },
    {
     "name": "stderr",
     "output_type": "stream",
     "text": [
      "                                                                        \r"
     ]
    },
    {
     "name": "stdout",
     "output_type": "stream",
     "text": [
      "[INFO] No improvement in val_f1. Patience: 2/12\n",
      "Epoch [23]: Train Loss: 0.3522, Train Acc: 0.8389 | Val Loss: 0.3439, Val Acc: 0.8507, Val Recall: 0.8577, Val F1: 0.8755\n"
     ]
    },
    {
     "name": "stderr",
     "output_type": "stream",
     "text": [
      "                                                                        \r"
     ]
    },
    {
     "name": "stdout",
     "output_type": "stream",
     "text": [
      "[INFO] Best model saved with val_f1: 0.8947\n",
      "Epoch [24]: Train Loss: 0.3450, Train Acc: 0.8437 | Val Loss: 0.3278, Val Acc: 0.8706, Val Recall: 0.8984, Val F1: 0.8947\n"
     ]
    },
    {
     "name": "stderr",
     "output_type": "stream",
     "text": [
      "                                                                        \r"
     ]
    },
    {
     "name": "stdout",
     "output_type": "stream",
     "text": [
      "[INFO] No improvement in val_f1. Patience: 1/12\n",
      "Epoch [25]: Train Loss: 0.3414, Train Acc: 0.8447 | Val Loss: 0.3300, Val Acc: 0.8532, Val Recall: 0.8780, Val F1: 0.8798\n"
     ]
    },
    {
     "name": "stderr",
     "output_type": "stream",
     "text": [
      "                                                                        \r"
     ]
    },
    {
     "name": "stdout",
     "output_type": "stream",
     "text": [
      "[INFO] No improvement in val_f1. Patience: 2/12\n",
      "Epoch [26]: Train Loss: 0.3588, Train Acc: 0.8309 | Val Loss: 0.3283, Val Acc: 0.8657, Val Recall: 0.8984, Val F1: 0.8911\n"
     ]
    },
    {
     "name": "stderr",
     "output_type": "stream",
     "text": [
      "                                                                        \r"
     ]
    },
    {
     "name": "stdout",
     "output_type": "stream",
     "text": [
      "[INFO] No improvement in val_f1. Patience: 3/12\n",
      "Epoch [27]: Train Loss: 0.3493, Train Acc: 0.8490 | Val Loss: 0.3239, Val Acc: 0.8706, Val Recall: 0.8984, Val F1: 0.8947\n"
     ]
    },
    {
     "name": "stderr",
     "output_type": "stream",
     "text": [
      "                                                                        \r"
     ]
    },
    {
     "name": "stdout",
     "output_type": "stream",
     "text": [
      "[INFO] No improvement in val_f1. Patience: 4/12\n",
      "Epoch [28]: Train Loss: 0.3276, Train Acc: 0.8617 | Val Loss: 0.3220, Val Acc: 0.8682, Val Recall: 0.9024, Val F1: 0.8934\n"
     ]
    },
    {
     "name": "stderr",
     "output_type": "stream",
     "text": [
      "                                                                        \r"
     ]
    },
    {
     "name": "stdout",
     "output_type": "stream",
     "text": [
      "[INFO] No improvement in val_f1. Patience: 5/12\n",
      "Epoch [29]: Train Loss: 0.3749, Train Acc: 0.8331 | Val Loss: 0.3337, Val Acc: 0.8532, Val Recall: 0.8821, Val F1: 0.8803\n"
     ]
    },
    {
     "name": "stderr",
     "output_type": "stream",
     "text": [
      "                                                                        \r"
     ]
    },
    {
     "name": "stdout",
     "output_type": "stream",
     "text": [
      "[INFO] No improvement in val_f1. Patience: 6/12\n",
      "Epoch [30]: Train Loss: 0.3566, Train Acc: 0.8463 | Val Loss: 0.3355, Val Acc: 0.8557, Val Recall: 0.8902, Val F1: 0.8831\n"
     ]
    },
    {
     "name": "stderr",
     "output_type": "stream",
     "text": [
      "                                                                        \r"
     ]
    },
    {
     "name": "stdout",
     "output_type": "stream",
     "text": [
      "[INFO] No improvement in val_f1. Patience: 7/12\n",
      "Epoch [31]: Train Loss: 0.3344, Train Acc: 0.8516 | Val Loss: 0.3279, Val Acc: 0.8632, Val Recall: 0.8862, Val F1: 0.8880\n"
     ]
    },
    {
     "name": "stderr",
     "output_type": "stream",
     "text": [
      "                                                                        \r"
     ]
    },
    {
     "name": "stdout",
     "output_type": "stream",
     "text": [
      "[INFO] No improvement in val_f1. Patience: 8/12\n",
      "Epoch [32]: Train Loss: 0.3494, Train Acc: 0.8453 | Val Loss: 0.3258, Val Acc: 0.8507, Val Recall: 0.8984, Val F1: 0.8805\n"
     ]
    },
    {
     "name": "stderr",
     "output_type": "stream",
     "text": [
      "                                                                        \r"
     ]
    },
    {
     "name": "stdout",
     "output_type": "stream",
     "text": [
      "[INFO] No improvement in val_f1. Patience: 9/12\n",
      "Epoch [33]: Train Loss: 0.3622, Train Acc: 0.8400 | Val Loss: 0.3175, Val Acc: 0.8657, Val Recall: 0.8984, Val F1: 0.8911\n"
     ]
    },
    {
     "name": "stderr",
     "output_type": "stream",
     "text": [
      "                                                                        \r"
     ]
    },
    {
     "name": "stdout",
     "output_type": "stream",
     "text": [
      "[INFO] No improvement in val_f1. Patience: 10/12\n",
      "Epoch [34]: Train Loss: 0.3746, Train Acc: 0.8283 | Val Loss: 0.3211, Val Acc: 0.8607, Val Recall: 0.8902, Val F1: 0.8866\n"
     ]
    },
    {
     "name": "stderr",
     "output_type": "stream",
     "text": [
      "                                                                        \r"
     ]
    },
    {
     "name": "stdout",
     "output_type": "stream",
     "text": [
      "[INFO] No improvement in val_f1. Patience: 11/12\n",
      "Epoch [35]: Train Loss: 0.3475, Train Acc: 0.8500 | Val Loss: 0.3180, Val Acc: 0.8507, Val Recall: 0.8659, Val F1: 0.8765\n"
     ]
    },
    {
     "name": "stderr",
     "output_type": "stream",
     "text": [
      "                                                                        \r"
     ]
    },
    {
     "name": "stdout",
     "output_type": "stream",
     "text": [
      "[INFO] No improvement in val_f1. Patience: 12/12\n",
      "Epoch [36]: Train Loss: 0.3519, Train Acc: 0.8474 | Val Loss: 0.3227, Val Acc: 0.8607, Val Recall: 0.8862, Val F1: 0.8862\n",
      "[INFO] Final metrics saved to outputs/models/baseline\\final_metrics.json\n",
      "[INFO] Training stopped after 36 epochs. Best val_f1: 0.8947\n",
      "\n",
      "[INFO] Training completed successfully!\n"
     ]
    }
   ],
   "source": [
    "print(\"[INFO] Starting model training...\")\n",
    "history = train_model(\n",
    "    model=model,\n",
    "    train_loader=train_loader,\n",
    "    val_loader=val_loader,\n",
    "    criterion=criterion,\n",
    "    optimizer=optimizer,\n",
    "    scheduler=None,  # No learning rate scheduler for baseline\n",
    "    device=device,\n",
    "    save_path=f\"outputs/models/baseline/efficientnet.pt\",\n",
    "    early_stop_patience=12,\n",
    "    monitor_metric=\"val_f1\",\n",
    ")\n",
    "print(\"[INFO] Training completed successfully!\")"
   ]
  },
  {
   "cell_type": "code",
   "execution_count": 9,
   "metadata": {},
   "outputs": [
    {
     "name": "stdout",
     "output_type": "stream",
     "text": [
      "[INFO] Evaluating the model...\n",
      "[INFO] Evaluation metrics saved to outputs/plots/baseline\\efficientnet\\efficientnet_evaluation.json\n",
      "\n",
      "[INFO] Metrics for ResNet18:\n",
      "{'classification_report': {'No Fire': {'precision': 0.864516129032258, 'recall': 0.8427672955974843, 'f1-score': 0.8535031847133758, 'support': 159.0}, 'Fire': {'precision': 0.9019607843137255, 'recall': 0.9163346613545816, 'f1-score': 0.9090909090909091, 'support': 251.0}, 'accuracy': 0.8878048780487805, 'macro avg': {'precision': 0.8832384566729918, 'recall': 0.8795509784760329, 'f1-score': 0.8812970469021424, 'support': 410.0}, 'weighted avg': {'precision': 0.8874395643387174, 'recall': 0.8878048780487805, 'f1-score': 0.8875337184176707, 'support': 410.0}}, 'confusion_matrix': [[134, 25], [21, 230]], 'roc_auc': 0.9556240447016964, 'y_true': [0, 0, 0, 0, 0, 0, 0, 0, 0, 0, 0, 0, 0, 0, 0, 0, 0, 0, 0, 0, 0, 0, 0, 0, 0, 0, 0, 0, 0, 0, 0, 0, 0, 0, 0, 0, 0, 0, 0, 0, 0, 0, 0, 0, 0, 0, 0, 0, 0, 0, 0, 0, 0, 0, 0, 0, 0, 0, 0, 0, 0, 0, 0, 0, 0, 0, 0, 0, 0, 0, 0, 0, 0, 0, 0, 0, 0, 0, 0, 0, 0, 0, 0, 0, 0, 0, 0, 0, 0, 0, 0, 0, 0, 0, 0, 0, 0, 0, 0, 0, 0, 0, 0, 0, 0, 0, 0, 0, 0, 0, 0, 0, 0, 0, 0, 0, 0, 0, 0, 0, 0, 0, 0, 0, 0, 0, 0, 0, 0, 0, 0, 0, 0, 0, 0, 0, 0, 0, 0, 0, 0, 0, 0, 0, 0, 0, 0, 0, 0, 0, 0, 0, 0, 0, 0, 0, 0, 0, 0, 1, 1, 1, 1, 1, 1, 1, 1, 1, 1, 1, 1, 1, 1, 1, 1, 1, 1, 1, 1, 1, 1, 1, 1, 1, 1, 1, 1, 1, 1, 1, 1, 1, 1, 1, 1, 1, 1, 1, 1, 1, 1, 1, 1, 1, 1, 1, 1, 1, 1, 1, 1, 1, 1, 1, 1, 1, 1, 1, 1, 1, 1, 1, 1, 1, 1, 1, 1, 1, 1, 1, 1, 1, 1, 1, 1, 1, 1, 1, 1, 1, 1, 1, 1, 1, 1, 1, 1, 1, 1, 1, 1, 1, 1, 1, 1, 1, 1, 1, 1, 1, 1, 1, 1, 1, 1, 1, 1, 1, 1, 1, 1, 1, 1, 1, 1, 1, 1, 1, 1, 1, 1, 1, 1, 1, 1, 1, 1, 1, 1, 1, 1, 1, 1, 1, 1, 1, 1, 1, 1, 1, 1, 1, 1, 1, 1, 1, 1, 1, 1, 1, 1, 1, 1, 1, 1, 1, 1, 1, 1, 1, 1, 1, 1, 1, 1, 1, 1, 1, 1, 1, 1, 1, 1, 1, 1, 1, 1, 1, 1, 1, 1, 1, 1, 1, 1, 1, 1, 1, 1, 1, 1, 1, 1, 1, 1, 1, 1, 1, 1, 1, 1, 1, 1, 1, 1, 1, 1, 1, 1, 1, 1, 1, 1, 1, 1, 1, 1, 1, 1, 1, 1, 1, 1, 1, 1, 1, 1, 1, 1, 1, 1, 1, 1, 1, 1, 1, 1, 1, 1, 1, 1, 1, 1, 1, 1, 1, 1, 1, 1, 1], 'y_pred': [1, 0, 0, 0, 0, 0, 0, 0, 0, 0, 0, 0, 0, 0, 0, 0, 0, 0, 0, 0, 0, 1, 0, 0, 0, 0, 0, 1, 0, 0, 0, 0, 0, 0, 0, 0, 0, 0, 0, 0, 0, 1, 0, 0, 0, 0, 0, 0, 0, 0, 0, 1, 0, 0, 0, 0, 0, 1, 0, 0, 0, 0, 0, 0, 0, 0, 0, 0, 0, 1, 0, 0, 0, 0, 1, 1, 0, 0, 0, 0, 0, 1, 0, 0, 1, 0, 0, 0, 0, 1, 0, 0, 0, 0, 0, 0, 0, 0, 0, 0, 0, 0, 0, 0, 1, 0, 1, 0, 0, 0, 0, 1, 0, 1, 1, 0, 1, 0, 1, 0, 0, 1, 0, 0, 0, 0, 0, 1, 0, 1, 0, 0, 0, 0, 0, 0, 1, 0, 0, 0, 0, 1, 0, 0, 0, 0, 0, 0, 0, 0, 0, 0, 0, 0, 0, 0, 0, 0, 1, 1, 0, 0, 1, 0, 1, 1, 1, 1, 1, 1, 1, 1, 1, 1, 1, 1, 1, 1, 1, 1, 0, 1, 0, 1, 1, 1, 0, 1, 1, 1, 1, 1, 1, 1, 1, 1, 1, 1, 1, 1, 1, 1, 1, 1, 1, 1, 1, 1, 1, 1, 1, 1, 1, 1, 1, 1, 1, 1, 1, 1, 1, 1, 1, 1, 1, 1, 0, 1, 1, 1, 1, 1, 1, 1, 1, 1, 1, 1, 1, 1, 1, 1, 1, 1, 1, 1, 1, 1, 1, 1, 1, 1, 1, 1, 1, 1, 1, 1, 1, 1, 0, 1, 1, 1, 1, 1, 1, 1, 1, 1, 1, 1, 1, 1, 1, 1, 1, 1, 1, 1, 1, 1, 1, 1, 1, 1, 1, 1, 1, 1, 1, 1, 1, 1, 1, 1, 1, 1, 1, 1, 1, 0, 1, 1, 1, 1, 1, 1, 0, 1, 1, 1, 1, 1, 1, 1, 1, 0, 0, 1, 1, 1, 1, 0, 0, 0, 1, 1, 1, 1, 1, 1, 1, 1, 1, 0, 1, 1, 1, 1, 1, 1, 1, 0, 1, 1, 1, 1, 1, 1, 1, 1, 1, 1, 1, 1, 1, 1, 1, 1, 1, 1, 1, 1, 1, 1, 1, 1, 1, 1, 0, 1, 1, 1, 1, 1, 1, 1, 1, 1, 1, 1, 1, 1, 1, 1, 1, 1, 0, 0, 1, 0, 1, 1, 1, 1, 1, 1, 1, 1, 1, 1, 1, 1, 1, 1, 1, 1, 1, 1], 'y_scores': [0.8286107182502747, 0.14305207133293152, 0.02497733198106289, 0.23547647893428802, 0.07299241423606873, 0.14225289225578308, 0.0941508337855339, 0.009469203650951385, 0.364743173122406, 0.061367228627204895, 0.0019308149348944426, 0.3146355450153351, 0.05065260827541351, 0.06814785301685333, 0.03247464820742607, 0.03166145831346512, 0.0018333843909204006, 0.01022769883275032, 0.02480698749423027, 0.006391681730747223, 0.39625734090805054, 0.6665748953819275, 0.35073110461235046, 0.08298235386610031, 0.0005939062684774399, 0.19319668412208557, 0.03677249699831009, 0.5781668424606323, 0.007934353314340115, 0.4669250249862671, 0.004016296938061714, 0.3787554204463959, 0.06945065408945084, 0.006207760889083147, 0.0331362783908844, 0.04596498981118202, 0.057880837470293045, 0.060944121330976486, 0.26584044098854065, 0.004537160973995924, 0.008785787038505077, 0.5668466091156006, 0.11756912618875504, 0.07251860946416855, 0.11901586502790451, 0.08689213544130325, 0.11013752222061157, 0.06639542430639267, 0.02287096157670021, 0.014418937265872955, 0.022731702774763107, 0.6368191242218018, 0.15029355883598328, 0.03955718129873276, 0.13013556599617004, 0.264893114566803, 0.2677483856678009, 0.8700900673866272, 0.21012035012245178, 0.258846640586853, 0.21665142476558685, 0.044098861515522, 0.005200220271945, 0.04017291218042374, 0.3873910903930664, 0.1410849690437317, 0.07197651267051697, 0.03547683358192444, 0.05114608258008957, 0.5067314505577087, 0.17934024333953857, 0.11662717908620834, 0.0073583959601819515, 0.15654036402702332, 0.9182294011116028, 0.5243041515350342, 0.01430270541459322, 0.2682504653930664, 0.20082490146160126, 0.328249454498291, 0.024847492575645447, 0.6631308197975159, 0.16980472207069397, 0.4511878788471222, 0.861522912979126, 0.23955848813056946, 0.0019563036039471626, 0.06611250340938568, 0.099165178835392, 0.5137708783149719, 0.07604715973138809, 0.028431473299860954, 0.03800002112984657, 0.010028708726167679, 0.30960705876350403, 0.07779639214277267, 0.0010149547597393394, 0.036978766322135925, 0.08492286503314972, 0.08185222744941711, 0.1632605493068695, 0.28192976117134094, 0.3224928379058838, 0.07517357915639877, 0.7020271420478821, 0.17013153433799744, 0.5322167277336121, 0.01873091794550419, 0.4864750802516937, 0.005085602402687073, 0.06157879903912544, 0.617483913898468, 0.08092504739761353, 0.6078488230705261, 0.7644854187965393, 0.004474892746657133, 0.5505813360214233, 0.0044263494201004505, 0.9086577296257019, 0.041550520807504654, 0.05202145501971245, 0.529209315776825, 0.05214656516909599, 0.12193283438682556, 0.11600183695554733, 0.09590990096330643, 0.012978135608136654, 0.7059270143508911, 0.03714253380894661, 0.7735835909843445, 0.24449409544467926, 0.19470302760601044, 0.1259278804063797, 0.0837225541472435, 0.17939971387386322, 0.09622849524021149, 0.9103483557701111, 0.2491975873708725, 0.025060569867491722, 0.0057813613675534725, 0.4772852659225464, 0.7059189081192017, 0.37730565667152405, 0.04644651710987091, 0.019147351384162903, 0.42563366889953613, 0.00582736125215888, 0.07208148390054703, 0.050945937633514404, 0.028091084212064743, 0.011084473691880703, 0.05108793452382088, 0.011150280013680458, 0.20214109122753143, 0.07606882601976395, 0.018185516819357872, 0.3610066771507263, 0.06377711892127991, 0.861348569393158, 0.8662806749343872, 0.39431625604629517, 0.4535779058933258, 0.9537562727928162, 0.11094054579734802, 0.8298143148422241, 0.7514907121658325, 0.9337575435638428, 0.7907930612564087, 0.8792476058006287, 0.6029119491577148, 0.9181180596351624, 0.7572287917137146, 0.8636957406997681, 0.7542195916175842, 0.8713505864143372, 0.9281623363494873, 0.547038733959198, 0.8684158325195312, 0.9115670919418335, 0.9477000832557678, 0.14305749535560608, 0.8596171736717224, 0.3758496642112732, 0.5046815276145935, 0.8305001258850098, 0.9260092973709106, 0.49190306663513184, 0.7102382183074951, 0.9216269850730896, 0.8905444145202637, 0.8521708846092224, 0.9688979387283325, 0.906727135181427, 0.9576248526573181, 0.9700797200202942, 0.9501750469207764, 0.91895592212677, 0.8679148554801941, 0.9754564166069031, 0.7358558177947998, 0.9427786469459534, 0.8329228162765503, 0.9098367094993591, 0.9885005950927734, 0.9737539887428284, 0.8408989906311035, 0.7725750207901001, 0.7568053007125854, 0.8405451774597168, 0.9871506690979004, 0.9187658429145813, 0.8242723345756531, 0.6816936731338501, 0.8431546688079834, 0.9004563093185425, 0.9072295427322388, 0.9518879652023315, 0.8894572854042053, 0.8687617778778076, 0.8835917711257935, 0.7119833827018738, 0.9918183088302612, 0.6179353594779968, 0.9764110445976257, 0.9547944068908691, 0.6347951889038086, 0.32583850622177124, 0.8031083345413208, 0.5321776866912842, 0.7812671661376953, 0.9923151731491089, 0.7149291634559631, 0.9550362825393677, 0.9818018078804016, 0.876691997051239, 0.9095603823661804, 0.9220971465110779, 0.9968342185020447, 0.8645115494728088, 0.7107306718826294, 0.8168125748634338, 0.9371609091758728, 0.9797697067260742, 0.8876528739929199, 0.979758620262146, 0.9084524512290955, 0.9756131768226624, 0.9160317182540894, 0.7681644558906555, 0.7565387487411499, 0.8815867304801941, 0.731979250907898, 0.9705474972724915, 0.8875972628593445, 0.88631272315979, 0.9001412391662598, 0.9729670882225037, 0.92805415391922, 0.9528896808624268, 0.9052429795265198, 0.10260841250419617, 0.903719961643219, 0.8768795132637024, 0.9190930128097534, 0.9511353969573975, 0.6370161175727844, 0.6409791111946106, 0.9046831727027893, 0.9883487224578857, 0.971690833568573, 0.9376855492591858, 0.8715278506278992, 0.6391772031784058, 0.9846922159194946, 0.7342602610588074, 0.9338069558143616, 0.8377197980880737, 0.7177304625511169, 0.7971382737159729, 0.9980565905570984, 0.9770145416259766, 0.9731147289276123, 0.9274881482124329, 0.8852624297142029, 0.9619730710983276, 0.9611458778381348, 0.7097094058990479, 0.9015421271324158, 0.926551103591919, 0.9780997633934021, 0.9783996939659119, 0.9612649083137512, 0.950133204460144, 0.9074457287788391, 0.915351390838623, 0.680834174156189, 0.958652138710022, 0.6407822966575623, 0.8119298815727234, 0.7906445264816284, 0.967899739742279, 0.42156922817230225, 0.9769493937492371, 0.9446863532066345, 0.9170841574668884, 0.9426198601722717, 0.9048393368721008, 0.9045481085777283, 0.3658883571624756, 0.857734739780426, 0.9457630515098572, 0.9547985792160034, 0.8478789925575256, 0.9664530158042908, 0.5598452687263489, 0.9941049814224243, 0.9470598101615906, 0.02575678937137127, 0.26546868681907654, 0.762093722820282, 0.9967427849769592, 0.8461118936538696, 0.78228360414505, 0.3745177388191223, 0.3625526428222656, 0.2793513834476471, 0.9605706930160522, 0.8673955202102661, 0.6449175477027893, 0.9607014656066895, 0.9658127427101135, 0.922297477722168, 0.9758961200714111, 0.8683018088340759, 0.9780240058898926, 0.3641546070575714, 0.9743735790252686, 0.9889752864837646, 0.9508774876594543, 0.7897598743438721, 0.9965247511863708, 0.9957877993583679, 0.9801902174949646, 0.21367745101451874, 0.8728782534599304, 0.5841037034988403, 0.9834144711494446, 0.9935988187789917, 0.7446738481521606, 0.9654994606971741, 0.904632568359375, 0.9929240942001343, 0.9237726926803589, 0.9310343265533447, 0.9620674848556519, 0.9366716146469116, 0.7161815166473389, 0.9667015671730042, 0.9117501378059387, 0.9669201970100403, 0.9452791810035706, 0.9452207088470459, 0.7897440791130066, 0.9390316009521484, 0.9541792869567871, 0.8606215119361877, 0.5708380341529846, 0.9715580344200134, 0.9879612326622009, 0.963604748249054, 0.31050220131874084, 0.9373252987861633, 0.9986565113067627, 0.7941644191741943, 0.9453462958335876, 0.867134153842926, 0.6913918852806091, 0.9657639265060425, 0.9654591679573059, 0.8477250337600708, 0.8480130434036255, 0.9163951873779297, 0.9373391270637512, 0.8446213006973267, 0.9570419788360596, 0.9687176942825317, 0.9039312601089478, 0.8881486058235168, 0.2788630425930023, 0.4808422327041626, 0.9448028802871704, 0.26519837975502014, 0.7115705013275146, 0.9925059676170349, 0.6384272575378418, 0.9019271731376648, 0.7231660485267639, 0.9236456751823425, 0.855094850063324, 0.9282039403915405, 0.9552537798881531, 0.9879059791564941, 0.9476988911628723, 0.9474533796310425, 0.9926667809486389, 0.9901540875434875, 0.8331848382949829, 0.8837679028511047, 0.6861394643783569, 0.9666996598243713]}\n"
     ]
    }
   ],
   "source": [
    "print(\"[INFO] Evaluating the model...\")\n",
    "metrics = evaluate_model(\n",
    "    model=model,\n",
    "    test_loader=test_loader,\n",
    "    classes=[\"No Fire\", \"Fire\"],\n",
    "    device=device,\n",
    "    model_name=\"efficientnet\",\n",
    "    save_base_path=\"outputs/plots/baseline\",\n",
    "\n",
    ")\n",
    "print(f\"\\n[INFO] Metrics for ResNet18:\\n{metrics}\")"
   ]
  },
  {
   "cell_type": "code",
   "execution_count": 10,
   "metadata": {},
   "outputs": [
    {
     "name": "stdout",
     "output_type": "stream",
     "text": [
      "[INFO] Training plot saved to outputs/plots/baseline/efficientnet_baseline_training_curve.png\n",
      "[INFO] Confusion matrix saved to outputs/plots/baseline/efficientnet_baseline_confusion_matrix.png\n",
      "[INFO] All results saved successfully!\n"
     ]
    },
    {
     "data": {
      "image/png": "[encoded data removed]",
      "text/plain": [
       "<Figure size 1200x600 with 2 Axes>"
      ]
     },
     "metadata": {},
     "output_type": "display_data"
    },
    {
     "data": {
      "image/png": "[encoded data removed]",
      "text/plain": [
       "<Figure size 800x800 with 2 Axes>"
      ]
     },
     "metadata": {},
     "output_type": "display_data"
    }
   ],
   "source": [
    "# Training and Validation Curves\n",
    "plot_training(history, f\"outputs/plots/baseline/efficientnet_baseline_training_curve.png\")\n",
    "\n",
    "# Confusion Matrix\n",
    "plot_confusion_matrix(\n",
    "    cm=metrics[\"confusion_matrix\"],\n",
    "    classes=[\"No Fire\", \"Fire\"],\n",
    "    output_path=f\"outputs/plots/baseline/efficientnet_baseline_confusion_matrix.png\"\n",
    ")\n",
    "\n",
    "# Precision-Recall Curve\n",
    "if \"y_probs\" in metrics:\n",
    "    y_true = metrics[\"y_true\"]\n",
    "    y_probs = [prob[1] for prob in metrics[\"y_probs\"]]\n",
    "    plot_precision_recall(\n",
    "        y_true=y_true,\n",
    "        y_scores=y_probs,\n",
    "        output_path=f\"outputs/plots/baseline/efficientnet_baseline_precision_recall_curve.png\"\n",
    "    )\n",
    "\n",
    "    # ROC Curve\n",
    "    plot_roc_curve(\n",
    "        y_true=y_true,\n",
    "        y_scores=y_probs,\n",
    "        output_path=f\"outputs/plots/baseline/efficientnet_baseline_roc_curve.png\"\n",
    "    )\n",
    "\n",
    "print(\"[INFO] All results saved successfully!\")"
   ]
  },
  {
   "cell_type": "code",
   "execution_count": null,
   "metadata": {},
   "outputs": [],
   "source": []
  }
 ],
 "metadata": {
  "kernelspec": {
   "display_name": "env",
   "language": "python",
   "name": "python3"
  },
  "language_info": {
   "codemirror_mode": {
    "name": "ipython",
    "version": 3
   },
   "file_extension": ".py",
   "mimetype": "text/x-python",
   "name": "python",
   "nbconvert_exporter": "python",
   "pygments_lexer": "ipython3",
   "version": "3.11.9"
  }
 },
 "nbformat": 4,
 "nbformat_minor": 4
}
