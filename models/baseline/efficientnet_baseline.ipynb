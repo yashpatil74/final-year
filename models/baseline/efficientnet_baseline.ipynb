{
 "cells": [
  {
   "cell_type": "code",
   "execution_count": 1,
   "metadata": {},
   "outputs": [],
   "source": [
    "import os\n",
    "os.chdir(\"../..\")"
   ]
  },
  {
   "cell_type": "code",
   "execution_count": 2,
   "metadata": {},
   "outputs": [
    {
     "name": "stderr",
     "output_type": "stream",
     "text": [
      "c:\\Users\\Yash\\Documents\\Development\\Projects\\final_year\\env\\Lib\\site-packages\\albumentations\\__init__.py:24: UserWarning: A new version of Albumentations is available: 1.4.24 (you have 1.4.23). Upgrade using: pip install -U albumentations. To disable automatic update checks, set the environment variable NO_ALBUMENTATIONS_UPDATE to 1.\n",
      "  check_for_updates()\n"
     ]
    }
   ],
   "source": [
    "import torch\n",
    "from utils.dataset_loader import *\n",
    "from utils.model_utils import *\n",
    "from utils.train_utils import *\n",
    "from utils.metrics import *\n",
    "from utils.visualization import *"
   ]
  },
  {
   "cell_type": "code",
   "execution_count": 3,
   "metadata": {},
   "outputs": [
    {
     "name": "stdout",
     "output_type": "stream",
     "text": [
      "[INFO] Using device: cuda\n"
     ]
    }
   ],
   "source": [
    "device = torch.device(\"cuda\" if torch.cuda.is_available() else \"cpu\")\n",
    "print(f\"[INFO] Using device: {device}\")"
   ]
  },
  {
   "cell_type": "code",
   "execution_count": 4,
   "metadata": {},
   "outputs": [],
   "source": [
    "data_dir = \"wildfire_dataset_scaled\"\n",
    "batch_size = 32\n",
    "learning_rate = 0.001\t\n",
    "num_classes = 2"
   ]
  },
  {
   "cell_type": "code",
   "execution_count": 5,
   "metadata": {},
   "outputs": [
    {
     "name": "stderr",
     "output_type": "stream",
     "text": [
      "2024-12-25 14:47:26,620 - INFO - Loading datasets from wildfire_dataset_scaled with augmentation type 'baseline'.\n",
      "2024-12-25 14:47:26,620 - INFO - Applying baseline augmentations: Resize and Normalize.\n",
      "2024-12-25 14:47:26,628 - INFO - Initialized AlbumentationsDataset with root: wildfire_dataset_scaled/train\n",
      "2024-12-25 14:47:26,630 - INFO - Initialized AlbumentationsDataset with root: wildfire_dataset_scaled/val\n",
      "2024-12-25 14:47:26,632 - INFO - Initialized AlbumentationsDataset with root: wildfire_dataset_scaled/test\n",
      "2024-12-25 14:47:26,632 - INFO - Datasets initialized. Preparing DataLoaders...\n",
      "2024-12-25 14:47:26,632 - INFO - Using WeightedRandomSampler for class balancing.\n",
      "2024-12-25 14:47:26,633 - INFO - Computing class weights from directory: wildfire_dataset_scaled/train\n",
      "2024-12-25 14:47:26,634 - INFO - Class 'fire' has 730 samples.\n",
      "2024-12-25 14:47:26,635 - INFO - Class 'nofire' has 1157 samples.\n",
      "2024-12-25 14:47:26,636 - INFO - Computed class weights: {'fire': 1.0, 'nofire': 0.7943186335572451}\n"
     ]
    },
    {
     "name": "stdout",
     "output_type": "stream",
     "text": [
      "[INFO] Loading datasets...\n"
     ]
    },
    {
     "name": "stderr",
     "output_type": "stream",
     "text": [
      "2024-12-25 14:47:27,842 - INFO - DataLoaders created successfully.\n"
     ]
    },
    {
     "name": "stdout",
     "output_type": "stream",
     "text": [
      "[INFO] Datasets loaded successfully!\n"
     ]
    }
   ],
   "source": [
    "print(\"[INFO] Loading datasets...\")\n",
    "train_loader, val_loader, test_loader = load_datasets(data_dir, batch_size, augmentation=\"baseline\")\n",
    "print(\"[INFO] Datasets loaded successfully!\")\n"
   ]
  },
  {
   "cell_type": "markdown",
   "metadata": {},
   "source": []
  },
  {
   "cell_type": "code",
   "execution_count": 6,
   "metadata": {},
   "outputs": [
    {
     "name": "stdout",
     "output_type": "stream",
     "text": [
      "\n",
      "[INFO] Starting Baseline Training for Model: efficienetnet\n",
      "\n",
      "[INFO] Initializing efficienetnet model...\n",
      "[INFO] Model initialized successfully!\n"
     ]
    }
   ],
   "source": [
    "print(\"\\n[INFO] Starting Baseline Training for Model: efficienetnet\\n\")\n",
    "print(\"[INFO] Initializing efficienetnet model...\")\n",
    "model = initialize_model(\n",
    "    model_name=\"efficientnet_b0\",\n",
    "    num_classes=num_classes,\n",
    "    pretrained=True,\n",
    "    freeze_all=True  # Baseline: Freeze all layers\n",
    ")\n",
    "print(\"[INFO] Model initialized successfully!\")"
   ]
  },
  {
   "cell_type": "code",
   "execution_count": 7,
   "metadata": {},
   "outputs": [
    {
     "name": "stdout",
     "output_type": "stream",
     "text": [
      "[INFO] Setting up loss function and optimizer...\n",
      "[INFO] Loss function and optimizer set up!\n"
     ]
    }
   ],
   "source": [
    "print(\"[INFO] Setting up loss function and optimizer...\")\n",
    "criterion = torch.nn.CrossEntropyLoss()\n",
    "optimizer = torch.optim.Adam(filter(lambda p: p.requires_grad, model.parameters()), lr=learning_rate)\n",
    "print(\"[INFO] Loss function and optimizer set up!\")"
   ]
  },
  {
   "cell_type": "code",
   "execution_count": 8,
   "metadata": {},
   "outputs": [
    {
     "name": "stdout",
     "output_type": "stream",
     "text": [
      "Training started...\n",
      "[INFO] Starting model training...\n",
      "\n",
      "Starting training...\n",
      "\n"
     ]
    },
    {
     "name": "stderr",
     "output_type": "stream",
     "text": [
      "                                                                     \r"
     ]
    },
    {
     "name": "stdout",
     "output_type": "stream",
     "text": [
      "[INFO] Best model saved with val_f1: 0.8462\n",
      "Epoch [1]: Train Loss: 0.5552, Train Acc: 0.7128 | Val Loss: 0.4392, Val Acc: 0.8109, Val Recall: 0.8496, Val F1: 0.8462\n"
     ]
    },
    {
     "name": "stderr",
     "output_type": "stream",
     "text": [
      "                                                                     \r"
     ]
    },
    {
     "name": "stdout",
     "output_type": "stream",
     "text": [
      "[INFO] Best model saved with val_f1: 0.8503\n",
      "Epoch [2]: Train Loss: 0.4298, Train Acc: 0.8129 | Val Loss: 0.3972, Val Acc: 0.8134, Val Recall: 0.8659, Val F1: 0.8503\n"
     ]
    },
    {
     "name": "stderr",
     "output_type": "stream",
     "text": [
      "                                                                     \r"
     ]
    },
    {
     "name": "stdout",
     "output_type": "stream",
     "text": [
      "[INFO] Best model saved with val_f1: 0.8672\n",
      "Epoch [3]: Train Loss: 0.4051, Train Acc: 0.8203 | Val Loss: 0.3814, Val Acc: 0.8408, Val Recall: 0.8496, Val F1: 0.8672\n"
     ]
    },
    {
     "name": "stderr",
     "output_type": "stream",
     "text": [
      "                                                                     \r"
     ]
    },
    {
     "name": "stdout",
     "output_type": "stream",
     "text": [
      "[INFO] Best model saved with val_f1: 0.8712\n",
      "Epoch [4]: Train Loss: 0.3794, Train Acc: 0.8325 | Val Loss: 0.3632, Val Acc: 0.8433, Val Recall: 0.8659, Val F1: 0.8712\n"
     ]
    },
    {
     "name": "stderr",
     "output_type": "stream",
     "text": [
      "                                                                     \r"
     ]
    },
    {
     "name": "stdout",
     "output_type": "stream",
     "text": [
      "[INFO] Best model saved with val_f1: 0.8745\n",
      "Epoch [5]: Train Loss: 0.3734, Train Acc: 0.8384 | Val Loss: 0.3499, Val Acc: 0.8458, Val Recall: 0.8780, Val F1: 0.8745\n"
     ]
    },
    {
     "name": "stderr",
     "output_type": "stream",
     "text": [
      "                                                                     \r"
     ]
    },
    {
     "name": "stdout",
     "output_type": "stream",
     "text": [
      "[INFO] No improvement in val_f1. Patience: 1/12\n",
      "Epoch [6]: Train Loss: 0.3428, Train Acc: 0.8537 | Val Loss: 0.3586, Val Acc: 0.8383, Val Recall: 0.8821, Val F1: 0.8697\n"
     ]
    },
    {
     "name": "stderr",
     "output_type": "stream",
     "text": [
      "                                                                     \r"
     ]
    },
    {
     "name": "stdout",
     "output_type": "stream",
     "text": [
      "[INFO] Best model saved with val_f1: 0.8755\n",
      "Epoch [7]: Train Loss: 0.3298, Train Acc: 0.8553 | Val Loss: 0.3475, Val Acc: 0.8458, Val Recall: 0.8862, Val F1: 0.8755\n"
     ]
    },
    {
     "name": "stderr",
     "output_type": "stream",
     "text": [
      "                                                                     \r"
     ]
    },
    {
     "name": "stdout",
     "output_type": "stream",
     "text": [
      "[INFO] No improvement in val_f1. Patience: 1/12\n",
      "Epoch [8]: Train Loss: 0.3316, Train Acc: 0.8574 | Val Loss: 0.3491, Val Acc: 0.8458, Val Recall: 0.8618, Val F1: 0.8724\n"
     ]
    },
    {
     "name": "stderr",
     "output_type": "stream",
     "text": [
      "                                                                     \r"
     ]
    },
    {
     "name": "stdout",
     "output_type": "stream",
     "text": [
      "[INFO] Best model saved with val_f1: 0.8758\n",
      "Epoch [9]: Train Loss: 0.3245, Train Acc: 0.8606 | Val Loss: 0.3415, Val Acc: 0.8483, Val Recall: 0.8740, Val F1: 0.8758\n"
     ]
    },
    {
     "name": "stderr",
     "output_type": "stream",
     "text": [
      "                                                                      \r"
     ]
    },
    {
     "name": "stdout",
     "output_type": "stream",
     "text": [
      "[INFO] No improvement in val_f1. Patience: 1/12\n",
      "Epoch [10]: Train Loss: 0.3321, Train Acc: 0.8484 | Val Loss: 0.3458, Val Acc: 0.8333, Val Recall: 0.8455, Val F1: 0.8613\n"
     ]
    },
    {
     "name": "stderr",
     "output_type": "stream",
     "text": [
      "                                                                      \r"
     ]
    },
    {
     "name": "stdout",
     "output_type": "stream",
     "text": [
      "[INFO] Best model saved with val_f1: 0.8790\n",
      "Epoch [11]: Train Loss: 0.3409, Train Acc: 0.8479 | Val Loss: 0.3245, Val Acc: 0.8507, Val Recall: 0.8862, Val F1: 0.8790\n"
     ]
    },
    {
     "name": "stderr",
     "output_type": "stream",
     "text": [
      "                                                                      \r"
     ]
    },
    {
     "name": "stdout",
     "output_type": "stream",
     "text": [
      "[INFO] Best model saved with val_f1: 0.8793\n",
      "Epoch [12]: Train Loss: 0.3434, Train Acc: 0.8458 | Val Loss: 0.3263, Val Acc: 0.8532, Val Recall: 0.8740, Val F1: 0.8793\n"
     ]
    },
    {
     "name": "stderr",
     "output_type": "stream",
     "text": [
      "                                                                      \r"
     ]
    },
    {
     "name": "stdout",
     "output_type": "stream",
     "text": [
      "[INFO] No improvement in val_f1. Patience: 1/12\n",
      "Epoch [13]: Train Loss: 0.3487, Train Acc: 0.8484 | Val Loss: 0.3279, Val Acc: 0.8483, Val Recall: 0.9024, Val F1: 0.8792\n"
     ]
    },
    {
     "name": "stderr",
     "output_type": "stream",
     "text": [
      "                                                                      \r"
     ]
    },
    {
     "name": "stdout",
     "output_type": "stream",
     "text": [
      "[INFO] No improvement in val_f1. Patience: 2/12\n",
      "Epoch [14]: Train Loss: 0.2959, Train Acc: 0.8665 | Val Loss: 0.3126, Val Acc: 0.8507, Val Recall: 0.8862, Val F1: 0.8790\n"
     ]
    },
    {
     "name": "stderr",
     "output_type": "stream",
     "text": [
      "                                                                      \r"
     ]
    },
    {
     "name": "stdout",
     "output_type": "stream",
     "text": [
      "[INFO] Best model saved with val_f1: 0.8850\n",
      "Epoch [15]: Train Loss: 0.3077, Train Acc: 0.8749 | Val Loss: 0.3123, Val Acc: 0.8532, Val Recall: 0.9228, Val F1: 0.8850\n"
     ]
    },
    {
     "name": "stderr",
     "output_type": "stream",
     "text": [
      "                                                                      \r"
     ]
    },
    {
     "name": "stdout",
     "output_type": "stream",
     "text": [
      "[INFO] Best model saved with val_f1: 0.8876\n",
      "Epoch [16]: Train Loss: 0.3422, Train Acc: 0.8453 | Val Loss: 0.3118, Val Acc: 0.8607, Val Recall: 0.8984, Val F1: 0.8876\n"
     ]
    },
    {
     "name": "stderr",
     "output_type": "stream",
     "text": [
      "                                                                      \r"
     ]
    },
    {
     "name": "stdout",
     "output_type": "stream",
     "text": [
      "[INFO] Best model saved with val_f1: 0.8889\n",
      "Epoch [17]: Train Loss: 0.3117, Train Acc: 0.8712 | Val Loss: 0.3154, Val Acc: 0.8632, Val Recall: 0.8943, Val F1: 0.8889\n"
     ]
    },
    {
     "name": "stderr",
     "output_type": "stream",
     "text": [
      "                                                                      \r"
     ]
    },
    {
     "name": "stdout",
     "output_type": "stream",
     "text": [
      "[INFO] No improvement in val_f1. Patience: 1/12\n",
      "Epoch [18]: Train Loss: 0.3396, Train Acc: 0.8484 | Val Loss: 0.3252, Val Acc: 0.8657, Val Recall: 0.8699, Val F1: 0.8880\n"
     ]
    },
    {
     "name": "stderr",
     "output_type": "stream",
     "text": [
      "                                                                      \r"
     ]
    },
    {
     "name": "stdout",
     "output_type": "stream",
     "text": [
      "[INFO] No improvement in val_f1. Patience: 2/12\n",
      "Epoch [19]: Train Loss: 0.3153, Train Acc: 0.8606 | Val Loss: 0.3207, Val Acc: 0.8582, Val Recall: 0.8780, Val F1: 0.8834\n"
     ]
    },
    {
     "name": "stderr",
     "output_type": "stream",
     "text": [
      "                                                                      \r"
     ]
    },
    {
     "name": "stdout",
     "output_type": "stream",
     "text": [
      "[INFO] No improvement in val_f1. Patience: 3/12\n",
      "Epoch [20]: Train Loss: 0.3266, Train Acc: 0.8548 | Val Loss: 0.3194, Val Acc: 0.8607, Val Recall: 0.8780, Val F1: 0.8852\n"
     ]
    },
    {
     "name": "stderr",
     "output_type": "stream",
     "text": [
      "                                                                      \r"
     ]
    },
    {
     "name": "stdout",
     "output_type": "stream",
     "text": [
      "[INFO] No improvement in val_f1. Patience: 4/12\n",
      "Epoch [21]: Train Loss: 0.3158, Train Acc: 0.8548 | Val Loss: 0.3252, Val Acc: 0.8607, Val Recall: 0.8943, Val F1: 0.8871\n"
     ]
    },
    {
     "name": "stderr",
     "output_type": "stream",
     "text": [
      "                                                                      \r"
     ]
    },
    {
     "name": "stdout",
     "output_type": "stream",
     "text": [
      "[INFO] No improvement in val_f1. Patience: 5/12\n",
      "Epoch [22]: Train Loss: 0.3097, Train Acc: 0.8718 | Val Loss: 0.3242, Val Acc: 0.8532, Val Recall: 0.8862, Val F1: 0.8808\n"
     ]
    },
    {
     "name": "stderr",
     "output_type": "stream",
     "text": [
      "                                                                      \r"
     ]
    },
    {
     "name": "stdout",
     "output_type": "stream",
     "text": [
      "[INFO] No improvement in val_f1. Patience: 6/12\n",
      "Epoch [23]: Train Loss: 0.3167, Train Acc: 0.8574 | Val Loss: 0.3111, Val Acc: 0.8582, Val Recall: 0.9024, Val F1: 0.8862\n"
     ]
    },
    {
     "name": "stderr",
     "output_type": "stream",
     "text": [
      "                                                                      \r"
     ]
    },
    {
     "name": "stdout",
     "output_type": "stream",
     "text": [
      "[INFO] No improvement in val_f1. Patience: 7/12\n",
      "Epoch [24]: Train Loss: 0.3199, Train Acc: 0.8654 | Val Loss: 0.3166, Val Acc: 0.8607, Val Recall: 0.8699, Val F1: 0.8843\n"
     ]
    },
    {
     "name": "stderr",
     "output_type": "stream",
     "text": [
      "                                                                      \r"
     ]
    },
    {
     "name": "stdout",
     "output_type": "stream",
     "text": [
      "[INFO] No improvement in val_f1. Patience: 8/12\n",
      "Epoch [25]: Train Loss: 0.3263, Train Acc: 0.8627 | Val Loss: 0.3273, Val Acc: 0.8657, Val Recall: 0.8780, Val F1: 0.8889\n"
     ]
    },
    {
     "name": "stderr",
     "output_type": "stream",
     "text": [
      "                                                                      \r"
     ]
    },
    {
     "name": "stdout",
     "output_type": "stream",
     "text": [
      "[INFO] Best model saved with val_f1: 0.8911\n",
      "Epoch [26]: Train Loss: 0.3349, Train Acc: 0.8537 | Val Loss: 0.3257, Val Acc: 0.8657, Val Recall: 0.8984, Val F1: 0.8911\n"
     ]
    },
    {
     "name": "stderr",
     "output_type": "stream",
     "text": [
      "                                                                      \r"
     ]
    },
    {
     "name": "stdout",
     "output_type": "stream",
     "text": [
      "[INFO] No improvement in val_f1. Patience: 1/12\n",
      "Epoch [27]: Train Loss: 0.2938, Train Acc: 0.8818 | Val Loss: 0.3199, Val Acc: 0.8557, Val Recall: 0.8984, Val F1: 0.8840\n"
     ]
    },
    {
     "name": "stderr",
     "output_type": "stream",
     "text": [
      "                                                                      \r"
     ]
    },
    {
     "name": "stdout",
     "output_type": "stream",
     "text": [
      "[INFO] No improvement in val_f1. Patience: 2/12\n",
      "Epoch [28]: Train Loss: 0.3070, Train Acc: 0.8707 | Val Loss: 0.3449, Val Acc: 0.8557, Val Recall: 0.8659, Val F1: 0.8802\n"
     ]
    },
    {
     "name": "stderr",
     "output_type": "stream",
     "text": [
      "                                                                      \r"
     ]
    },
    {
     "name": "stdout",
     "output_type": "stream",
     "text": [
      "[INFO] No improvement in val_f1. Patience: 3/12\n",
      "Epoch [29]: Train Loss: 0.3301, Train Acc: 0.8543 | Val Loss: 0.3305, Val Acc: 0.8582, Val Recall: 0.8740, Val F1: 0.8830\n"
     ]
    },
    {
     "name": "stderr",
     "output_type": "stream",
     "text": [
      "                                                                      \r"
     ]
    },
    {
     "name": "stdout",
     "output_type": "stream",
     "text": [
      "[INFO] No improvement in val_f1. Patience: 4/12\n",
      "Epoch [30]: Train Loss: 0.3162, Train Acc: 0.8580 | Val Loss: 0.3369, Val Acc: 0.8408, Val Recall: 0.8537, Val F1: 0.8678\n"
     ]
    },
    {
     "name": "stderr",
     "output_type": "stream",
     "text": [
      "                                                                      \r"
     ]
    },
    {
     "name": "stdout",
     "output_type": "stream",
     "text": [
      "[INFO] No improvement in val_f1. Patience: 5/12\n",
      "Epoch [31]: Train Loss: 0.2929, Train Acc: 0.8675 | Val Loss: 0.3174, Val Acc: 0.8632, Val Recall: 0.9065, Val F1: 0.8902\n"
     ]
    },
    {
     "name": "stderr",
     "output_type": "stream",
     "text": [
      "                                                                      \r"
     ]
    },
    {
     "name": "stdout",
     "output_type": "stream",
     "text": [
      "[INFO] No improvement in val_f1. Patience: 6/12\n",
      "Epoch [32]: Train Loss: 0.3074, Train Acc: 0.8702 | Val Loss: 0.3485, Val Acc: 0.8507, Val Recall: 0.8496, Val F1: 0.8745\n"
     ]
    },
    {
     "name": "stderr",
     "output_type": "stream",
     "text": [
      "                                                                      \r"
     ]
    },
    {
     "name": "stdout",
     "output_type": "stream",
     "text": [
      "[INFO] No improvement in val_f1. Patience: 7/12\n",
      "Epoch [33]: Train Loss: 0.3217, Train Acc: 0.8569 | Val Loss: 0.3379, Val Acc: 0.8657, Val Recall: 0.8577, Val F1: 0.8866\n"
     ]
    },
    {
     "name": "stderr",
     "output_type": "stream",
     "text": [
      "                                                                      \r"
     ]
    },
    {
     "name": "stdout",
     "output_type": "stream",
     "text": [
      "[INFO] No improvement in val_f1. Patience: 8/12\n",
      "Epoch [34]: Train Loss: 0.3106, Train Acc: 0.8670 | Val Loss: 0.3227, Val Acc: 0.8632, Val Recall: 0.8862, Val F1: 0.8880\n"
     ]
    },
    {
     "name": "stderr",
     "output_type": "stream",
     "text": [
      "                                                                      \r"
     ]
    },
    {
     "name": "stdout",
     "output_type": "stream",
     "text": [
      "[INFO] No improvement in val_f1. Patience: 9/12\n",
      "Epoch [35]: Train Loss: 0.3318, Train Acc: 0.8548 | Val Loss: 0.3414, Val Acc: 0.8507, Val Recall: 0.8577, Val F1: 0.8755\n"
     ]
    },
    {
     "name": "stderr",
     "output_type": "stream",
     "text": [
      "                                                                      \r"
     ]
    },
    {
     "name": "stdout",
     "output_type": "stream",
     "text": [
      "[INFO] No improvement in val_f1. Patience: 10/12\n",
      "Epoch [36]: Train Loss: 0.3160, Train Acc: 0.8627 | Val Loss: 0.3237, Val Acc: 0.8607, Val Recall: 0.8699, Val F1: 0.8843\n"
     ]
    },
    {
     "name": "stderr",
     "output_type": "stream",
     "text": [
      "                                                                      \r"
     ]
    },
    {
     "name": "stdout",
     "output_type": "stream",
     "text": [
      "[INFO] No improvement in val_f1. Patience: 11/12\n",
      "Epoch [37]: Train Loss: 0.3175, Train Acc: 0.8617 | Val Loss: 0.3178, Val Acc: 0.8607, Val Recall: 0.8862, Val F1: 0.8862\n"
     ]
    },
    {
     "name": "stderr",
     "output_type": "stream",
     "text": [
      "                                                                      \r"
     ]
    },
    {
     "name": "stdout",
     "output_type": "stream",
     "text": [
      "[INFO] No improvement in val_f1. Patience: 12/12\n",
      "Epoch [38]: Train Loss: 0.2969, Train Acc: 0.8670 | Val Loss: 0.3242, Val Acc: 0.8557, Val Recall: 0.8821, Val F1: 0.8821\n",
      "[INFO] Final metrics saved to outputs/models/baseline\\final_metrics.json\n",
      "[INFO] Training stopped after 38 epochs. Best val_f1: 0.8911\n",
      "\n",
      "[INFO] Training completed successfully!\n",
      "Training completed in 0 hours, 2 minutes, and 33 seconds.\n"
     ]
    }
   ],
   "source": [
    "import time\n",
    "\n",
    "# Start the timer\n",
    "start_time = time.time()\n",
    "print(\"Training started...\")\n",
    "\n",
    "print(\"[INFO] Starting model training...\")\n",
    "history = train_model(\n",
    "    model=model,\n",
    "    train_loader=train_loader,\n",
    "    val_loader=val_loader,\n",
    "    criterion=criterion,\n",
    "    optimizer=optimizer,\n",
    "    scheduler=None,  # No learning rate scheduler for baseline\n",
    "    device=device,\n",
    "    save_path=f\"outputs/models/baseline/efficientnet_b0.pth\",\n",
    "    early_stop_patience=12,\n",
    "    monitor_metric=\"val_f1\",\n",
    ")\n",
    "print(\"[INFO] Training completed successfully!\")\n",
    "\n",
    "# Calculate and display elapsed time\n",
    "end_time = time.time()\n",
    "elapsed_time = end_time - start_time\n",
    "\n",
    "# Format elapsed time as hours, minutes, and seconds\n",
    "hours = int(elapsed_time // 3600)\n",
    "minutes = int((elapsed_time % 3600) // 60)\n",
    "seconds = int(elapsed_time % 60)\n",
    "\n",
    "print(f\"Training completed in {hours} hours, {minutes} minutes, and {seconds} seconds.\")\n"
   ]
  },
  {
   "cell_type": "code",
   "execution_count": 9,
   "metadata": {},
   "outputs": [
    {
     "name": "stdout",
     "output_type": "stream",
     "text": [
      "[INFO] Evaluating the model...\n",
      "[INFO] Evaluation metrics saved to outputs/plots/baseline\\efficientnet\\efficientnet_evaluation.json\n",
      "\n",
      "[INFO] Metrics for ResNet18:\n",
      "{'classification_report': {'No Fire': {'precision': 0.8791946308724832, 'recall': 0.8238993710691824, 'f1-score': 0.8506493506493507, 'support': 159.0}, 'Fire': {'precision': 0.89272030651341, 'recall': 0.9282868525896414, 'f1-score': 0.91015625, 'support': 251.0}, 'accuracy': 0.8878048780487805, 'macro avg': {'precision': 0.8859574686929466, 'recall': 0.876093111829412, 'f1-score': 0.8804028003246753, 'support': 410.0}, 'weighted avg': {'precision': 0.887474983520953, 'recall': 0.8878048780487805, 'f1-score': 0.8870791841542603, 'support': 410.0}}, 'confusion_matrix': [[131, 28], [18, 233]], 'roc_auc': 0.956977122954722, 'y_true': [0, 0, 0, 0, 0, 0, 0, 0, 0, 0, 0, 0, 0, 0, 0, 0, 0, 0, 0, 0, 0, 0, 0, 0, 0, 0, 0, 0, 0, 0, 0, 0, 0, 0, 0, 0, 0, 0, 0, 0, 0, 0, 0, 0, 0, 0, 0, 0, 0, 0, 0, 0, 0, 0, 0, 0, 0, 0, 0, 0, 0, 0, 0, 0, 0, 0, 0, 0, 0, 0, 0, 0, 0, 0, 0, 0, 0, 0, 0, 0, 0, 0, 0, 0, 0, 0, 0, 0, 0, 0, 0, 0, 0, 0, 0, 0, 0, 0, 0, 0, 0, 0, 0, 0, 0, 0, 0, 0, 0, 0, 0, 0, 0, 0, 0, 0, 0, 0, 0, 0, 0, 0, 0, 0, 0, 0, 0, 0, 0, 0, 0, 0, 0, 0, 0, 0, 0, 0, 0, 0, 0, 0, 0, 0, 0, 0, 0, 0, 0, 0, 0, 0, 0, 0, 0, 0, 0, 0, 0, 1, 1, 1, 1, 1, 1, 1, 1, 1, 1, 1, 1, 1, 1, 1, 1, 1, 1, 1, 1, 1, 1, 1, 1, 1, 1, 1, 1, 1, 1, 1, 1, 1, 1, 1, 1, 1, 1, 1, 1, 1, 1, 1, 1, 1, 1, 1, 1, 1, 1, 1, 1, 1, 1, 1, 1, 1, 1, 1, 1, 1, 1, 1, 1, 1, 1, 1, 1, 1, 1, 1, 1, 1, 1, 1, 1, 1, 1, 1, 1, 1, 1, 1, 1, 1, 1, 1, 1, 1, 1, 1, 1, 1, 1, 1, 1, 1, 1, 1, 1, 1, 1, 1, 1, 1, 1, 1, 1, 1, 1, 1, 1, 1, 1, 1, 1, 1, 1, 1, 1, 1, 1, 1, 1, 1, 1, 1, 1, 1, 1, 1, 1, 1, 1, 1, 1, 1, 1, 1, 1, 1, 1, 1, 1, 1, 1, 1, 1, 1, 1, 1, 1, 1, 1, 1, 1, 1, 1, 1, 1, 1, 1, 1, 1, 1, 1, 1, 1, 1, 1, 1, 1, 1, 1, 1, 1, 1, 1, 1, 1, 1, 1, 1, 1, 1, 1, 1, 1, 1, 1, 1, 1, 1, 1, 1, 1, 1, 1, 1, 1, 1, 1, 1, 1, 1, 1, 1, 1, 1, 1, 1, 1, 1, 1, 1, 1, 1, 1, 1, 1, 1, 1, 1, 1, 1, 1, 1, 1, 1, 1, 1, 1, 1, 1, 1, 1, 1, 1, 1, 1, 1, 1, 1, 1, 1, 1, 1, 1, 1, 1, 1], 'y_pred': [1, 0, 0, 0, 0, 0, 0, 0, 0, 0, 0, 0, 0, 0, 0, 0, 0, 0, 0, 0, 0, 1, 0, 0, 0, 0, 0, 1, 0, 1, 0, 0, 0, 0, 0, 0, 0, 0, 0, 0, 0, 0, 0, 0, 0, 0, 0, 0, 0, 0, 0, 0, 0, 0, 0, 0, 0, 1, 0, 1, 1, 0, 0, 0, 0, 0, 0, 0, 0, 1, 0, 0, 0, 0, 1, 1, 0, 0, 0, 0, 0, 1, 0, 1, 1, 0, 0, 0, 0, 0, 0, 0, 0, 0, 0, 0, 0, 0, 0, 0, 0, 0, 0, 0, 1, 0, 1, 0, 1, 0, 0, 1, 0, 1, 1, 0, 1, 0, 1, 0, 0, 1, 0, 0, 0, 0, 0, 1, 0, 1, 0, 0, 0, 0, 0, 0, 1, 0, 0, 0, 1, 1, 0, 0, 0, 0, 0, 0, 0, 0, 0, 0, 0, 0, 0, 0, 0, 0, 1, 1, 0, 0, 1, 0, 1, 1, 1, 1, 1, 1, 1, 1, 1, 1, 1, 1, 1, 1, 1, 1, 0, 1, 0, 1, 1, 1, 1, 1, 1, 1, 1, 1, 1, 1, 1, 1, 1, 1, 1, 1, 1, 1, 1, 1, 1, 1, 1, 1, 1, 1, 1, 1, 1, 1, 1, 1, 1, 1, 1, 1, 0, 1, 1, 1, 1, 1, 0, 1, 1, 1, 1, 1, 1, 1, 1, 1, 1, 1, 1, 1, 1, 1, 1, 1, 1, 1, 1, 1, 1, 1, 1, 1, 1, 1, 1, 1, 1, 1, 1, 1, 0, 1, 1, 1, 1, 1, 1, 1, 1, 1, 1, 1, 1, 1, 1, 1, 1, 1, 1, 1, 1, 1, 1, 1, 1, 1, 1, 1, 1, 1, 1, 1, 1, 1, 1, 1, 1, 1, 1, 1, 1, 1, 1, 1, 1, 1, 1, 1, 0, 1, 1, 1, 1, 1, 1, 1, 1, 0, 0, 1, 1, 1, 1, 0, 1, 0, 1, 1, 1, 1, 1, 1, 1, 1, 1, 0, 1, 1, 1, 1, 1, 1, 1, 0, 1, 1, 1, 1, 1, 1, 1, 1, 1, 1, 1, 1, 1, 1, 1, 1, 1, 1, 1, 1, 1, 1, 0, 1, 1, 1, 0, 1, 1, 1, 1, 1, 1, 1, 1, 1, 1, 1, 1, 1, 1, 1, 1, 1, 0, 1, 1, 1, 1, 1, 1, 1, 1, 1, 1, 1, 1, 1, 1, 1, 1, 1, 1, 1, 1, 1], 'y_scores': [0.8764094114303589, 0.1827072650194168, 0.01514686830341816, 0.09127520024776459, 0.036055758595466614, 0.07743634283542633, 0.08449961245059967, 0.002722491743043065, 0.38626787066459656, 0.03450166434049606, 0.0006152888527140021, 0.3748086094856262, 0.028093844652175903, 0.0664277896285057, 0.017352283000946045, 0.008178475312888622, 0.00019552196317818016, 0.0013833031989634037, 0.014374158345162868, 0.004939909093081951, 0.24269244074821472, 0.8123037219047546, 0.37027639150619507, 0.06944932788610458, 4.9517853767611086e-05, 0.16213609278202057, 0.014069698750972748, 0.6116454601287842, 0.0042293802835047245, 0.5985710620880127, 0.00026641006115823984, 0.43443164229393005, 0.014395001344382763, 0.003471632255241275, 0.017076071351766586, 0.03331609442830086, 0.019717060029506683, 0.058093275874853134, 0.293038934469223, 0.0011028259759768844, 0.00683848699554801, 0.29365697503089905, 0.049127694219350815, 0.020763013511896133, 0.03544867783784866, 0.08383049070835114, 0.0684519112110138, 0.0870838537812233, 0.010962466709315777, 0.0072507066652178764, 0.014444689266383648, 0.34683701395988464, 0.13233186304569244, 0.008191167376935482, 0.07076601684093475, 0.25448042154312134, 0.1978571116924286, 0.9502231478691101, 0.15519918501377106, 0.6051240563392639, 0.5282835960388184, 0.017783287912607193, 0.000598548969719559, 0.011184457689523697, 0.34320521354675293, 0.06911811977624893, 0.06124597787857056, 0.04938766732811928, 0.0733732208609581, 0.5986940860748291, 0.16376642882823944, 0.24251532554626465, 0.0012914336984977126, 0.08363213390111923, 0.9604637622833252, 0.511562168598175, 0.0031448008958250284, 0.37759318947792053, 0.17594915628433228, 0.1764853149652481, 0.0038048378191888332, 0.8595526218414307, 0.15937551856040955, 0.5393983125686646, 0.8409065008163452, 0.29137513041496277, 0.0007009826949797571, 0.02491232194006443, 0.050174783915281296, 0.45148009061813354, 0.03552895039319992, 0.014096088707447052, 0.004337029065936804, 0.004195960704237223, 0.4256030321121216, 0.04489913955330849, 0.0002555986284278333, 0.01856343448162079, 0.056681614369153976, 0.025776466354727745, 0.07795870304107666, 0.14468808472156525, 0.37642595171928406, 0.03851599246263504, 0.6200537085533142, 0.21609485149383545, 0.5854199528694153, 0.009406687691807747, 0.5797669291496277, 0.003535125171765685, 0.017309460788965225, 0.7654159069061279, 0.04061823710799217, 0.6557652354240417, 0.657806396484375, 0.002827273914590478, 0.7423273324966431, 0.0032523723784834146, 0.9513002038002014, 0.010841470211744308, 0.05873444676399231, 0.632739245891571, 0.05718366056680679, 0.0616564117372036, 0.15668827295303345, 0.10648804903030396, 0.002383281011134386, 0.6947441697120667, 0.025237342342734337, 0.895697295665741, 0.27282094955444336, 0.07734610885381699, 0.10763690620660782, 0.011093567125499249, 0.04570436477661133, 0.044557198882102966, 0.8461688160896301, 0.23372195661067963, 0.00870063528418541, 0.003245886415243149, 0.5555301904678345, 0.8830069899559021, 0.2036958783864975, 0.0438695028424263, 0.010491705499589443, 0.18302279710769653, 0.004620397463440895, 0.09578647464513779, 0.0341879203915596, 0.023207418620586395, 0.006600361783057451, 0.09362222999334335, 0.0035529816523194313, 0.30236756801605225, 0.029934676364064217, 0.007071628700941801, 0.29883459210395813, 0.01803554594516754, 0.8922532200813293, 0.8907638192176819, 0.44098058342933655, 0.46209558844566345, 0.9907354116439819, 0.0668247863650322, 0.9427566528320312, 0.8791478276252747, 0.9899416565895081, 0.8825494050979614, 0.9572773575782776, 0.574205756187439, 0.980857253074646, 0.8968203067779541, 0.941028892993927, 0.5417361259460449, 0.9325816035270691, 0.9713033437728882, 0.692274808883667, 0.9505255818367004, 0.9764935374259949, 0.9876311421394348, 0.0334913432598114, 0.925324022769928, 0.4024437367916107, 0.591532289981842, 0.8506092429161072, 0.9570518136024475, 0.7045294642448425, 0.7861332893371582, 0.9737715125083923, 0.9019554853439331, 0.9396259188652039, 0.9953832030296326, 0.9930446743965149, 0.9733245372772217, 0.970822811126709, 0.9600251913070679, 0.9623056650161743, 0.820692241191864, 0.9831387996673584, 0.9188886284828186, 0.9800108671188354, 0.8157167434692383, 0.9747674465179443, 0.9895656108856201, 0.9940170049667358, 0.8906063437461853, 0.8885625600814819, 0.8890640139579773, 0.8661797642707825, 0.996982991695404, 0.8991910219192505, 0.8601325750350952, 0.8145610690116882, 0.907684326171875, 0.9537341594696045, 0.9337302446365356, 0.9605367183685303, 0.9750117063522339, 0.9332517385482788, 0.9626365303993225, 0.4909786581993103, 0.9982269406318665, 0.676774799823761, 0.9899544715881348, 0.9952155351638794, 0.5758125185966492, 0.22737957537174225, 0.8255544304847717, 0.5046141147613525, 0.9027692675590515, 0.9967922568321228, 0.8528180122375488, 0.9927982091903687, 0.9974187612533569, 0.9315393567085266, 0.910567045211792, 0.9622172713279724, 0.9991183876991272, 0.9648051261901855, 0.856386125087738, 0.9659312963485718, 0.9715264439582825, 0.994470477104187, 0.9656956791877747, 0.993793249130249, 0.9688704013824463, 0.9968507885932922, 0.9442358016967773, 0.9273083209991455, 0.8792210817337036, 0.9195190072059631, 0.818549633026123, 0.9926112294197083, 0.7876251339912415, 0.9752241373062134, 0.8970869183540344, 0.9800001382827759, 0.9903947710990906, 0.9892013072967529, 0.89261394739151, 0.20699065923690796, 0.8971968293190002, 0.9646198153495789, 0.9340193271636963, 0.977955162525177, 0.6961402297019958, 0.8474016189575195, 0.9843424558639526, 0.9970273375511169, 0.9935697317123413, 0.9725059866905212, 0.8619314432144165, 0.8520965576171875, 0.9954706430435181, 0.9421817660331726, 0.9165484309196472, 0.8979631066322327, 0.7126267552375793, 0.5842393636703491, 0.9997579455375671, 0.9849501848220825, 0.9979609251022339, 0.9732527136802673, 0.9730754494667053, 0.977599561214447, 0.968669593334198, 0.7581884860992432, 0.9587422013282776, 0.969266951084137, 0.992925763130188, 0.9970850348472595, 0.9738337993621826, 0.9823110103607178, 0.9138317108154297, 0.9825865030288696, 0.7290693521499634, 0.9852891564369202, 0.7958230376243591, 0.9445544481277466, 0.8909735679626465, 0.9840735197067261, 0.5024176239967346, 0.9913281798362732, 0.9819343090057373, 0.9849599003791809, 0.986412763595581, 0.9746226072311401, 0.9413138628005981, 0.23375384509563446, 0.9453744292259216, 0.8657363653182983, 0.9842772483825684, 0.9362158179283142, 0.9841786026954651, 0.5375135540962219, 0.998845100402832, 0.9836810827255249, 0.01783386431634426, 0.1470954865217209, 0.7843784093856812, 0.9990295171737671, 0.9407058358192444, 0.826795220375061, 0.31389546394348145, 0.6666785478591919, 0.2698074281215668, 0.9881221652030945, 0.8997611403465271, 0.8512809872627258, 0.984885573387146, 0.9949376583099365, 0.9566220045089722, 0.9952011108398438, 0.9579790830612183, 0.9948753714561462, 0.4066403806209564, 0.9787365198135376, 0.9960455298423767, 0.9771440625190735, 0.8969715237617493, 0.9990278482437134, 0.998763918876648, 0.9920157194137573, 0.17980465292930603, 0.897758424282074, 0.5935274362564087, 0.9852094054222107, 0.9949824810028076, 0.7512376308441162, 0.981691837310791, 0.9719070196151733, 0.9990850687026978, 0.9104328155517578, 0.9575396180152893, 0.9923644065856934, 0.9722527265548706, 0.764655590057373, 0.9900516867637634, 0.960509181022644, 0.9916485548019409, 0.9904295206069946, 0.9865445494651794, 0.9107465744018555, 0.9710349440574646, 0.9924395084381104, 0.8597189784049988, 0.4606891870498657, 0.9549797773361206, 0.9979864358901978, 0.9806429147720337, 0.22392429411411285, 0.9565442204475403, 0.9996616840362549, 0.9056739807128906, 0.9545910358428955, 0.9222944378852844, 0.7655120491981506, 0.9840392470359802, 0.9858348965644836, 0.9030451774597168, 0.8439443111419678, 0.9486613273620605, 0.9934506416320801, 0.9652966856956482, 0.9836174249649048, 0.9804800748825073, 0.9046535491943359, 0.9812843203544617, 0.29810091853141785, 0.7980013489723206, 0.990260660648346, 0.5454776287078857, 0.871480405330658, 0.9972488284111023, 0.8327145576477051, 0.9785270690917969, 0.8895164728164673, 0.9847341179847717, 0.8393316864967346, 0.9782010316848755, 0.9603990912437439, 0.9975917339324951, 0.981261670589447, 0.984835147857666, 0.997933030128479, 0.9971740245819092, 0.9309183955192566, 0.9030212759971619, 0.8345056176185608, 0.9575034379959106]}\n"
     ]
    }
   ],
   "source": [
    "print(\"[INFO] Evaluating the model...\")\n",
    "metrics = evaluate_model(\n",
    "    model=model,\n",
    "    test_loader=test_loader,\n",
    "    classes=[\"No Fire\", \"Fire\"],\n",
    "    device=device,\n",
    "    model_name=\"efficientnet\",\n",
    "    save_base_path=\"outputs/plots/baseline\",\n",
    "\n",
    ")\n",
    "print(f\"\\n[INFO] Metrics for ResNet18:\\n{metrics}\")"
   ]
  },
  {
   "cell_type": "code",
   "execution_count": 10,
   "metadata": {},
   "outputs": [
    {
     "name": "stdout",
     "output_type": "stream",
     "text": [
      "[INFO] Training plot saved to outputs/plots/baseline/efficientnet_baseline_training_curve.png\n",
      "[INFO] Confusion matrix saved to outputs/plots/baseline/efficientnet_baseline_confusion_matrix.png\n",
      "[INFO] All results saved successfully!\n"
     ]
    },
    {
     "data": {
      "image/png": "[encoded data removed]",
      "text/plain": [
       "<Figure size 1200x600 with 2 Axes>"
      ]
     },
     "metadata": {},
     "output_type": "display_data"
    },
    {
     "data": {
      "image/png": "[encoded data removed]",
      "text/plain": [
       "<Figure size 800x800 with 2 Axes>"
      ]
     },
     "metadata": {},
     "output_type": "display_data"
    }
   ],
   "source": [
    "# Training and Validation Curves\n",
    "plot_training(history, f\"outputs/plots/baseline/efficientnet_baseline_training_curve.png\")\n",
    "\n",
    "# Confusion Matrix\n",
    "plot_confusion_matrix(\n",
    "    cm=metrics[\"confusion_matrix\"],\n",
    "    classes=[\"No Fire\", \"Fire\"],\n",
    "    output_path=f\"outputs/plots/baseline/efficientnet_baseline_confusion_matrix.png\"\n",
    ")\n",
    "\n",
    "# Precision-Recall Curve\n",
    "if \"y_probs\" in metrics:\n",
    "    y_true = metrics[\"y_true\"]\n",
    "    y_probs = [prob[1] for prob in metrics[\"y_probs\"]]\n",
    "    plot_precision_recall(\n",
    "        y_true=y_true,\n",
    "        y_scores=y_probs,\n",
    "        output_path=f\"outputs/plots/baseline/efficientnet_baseline_precision_recall_curve.png\"\n",
    "    )\n",
    "\n",
    "    # ROC Curve\n",
    "    plot_roc_curve(\n",
    "        y_true=y_true,\n",
    "        y_scores=y_probs,\n",
    "        output_path=f\"outputs/plots/baseline/efficientnet_baseline_roc_curve.png\"\n",
    "    )\n",
    "\n",
    "print(\"[INFO] All results saved successfully!\")"
   ]
  },
  {
   "cell_type": "code",
   "execution_count": null,
   "metadata": {},
   "outputs": [],
   "source": []
  }
 ],
 "metadata": {
  "kernelspec": {
   "display_name": "env",
   "language": "python",
   "name": "python3"
  },
  "language_info": {
   "codemirror_mode": {
    "name": "ipython",
    "version": 3
   },
   "file_extension": ".py",
   "mimetype": "text/x-python",
   "name": "python",
   "nbconvert_exporter": "python",
   "pygments_lexer": "ipython3",
   "version": "3.11.9"
  }
 },
 "nbformat": 4,
 "nbformat_minor": 4
}
