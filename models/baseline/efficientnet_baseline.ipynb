{
 "cells": [
  {
   "cell_type": "code",
   "execution_count": 1,
   "metadata": {},
   "outputs": [],
   "source": [
    "import os\n",
    "os.chdir(\"../..\")"
   ]
  },
  {
   "cell_type": "code",
   "execution_count": 2,
   "metadata": {},
   "outputs": [
    {
     "name": "stderr",
     "output_type": "stream",
     "text": [
      "C:\\Users\\Yash\\Documents\\Development\\Projects\\final_year\\env\\Lib\\site-packages\\albumentations\\__init__.py:24: UserWarning: A new version of Albumentations is available: 1.4.23 (you have 1.4.22). Upgrade using: pip install -U albumentations. To disable automatic update checks, set the environment variable NO_ALBUMENTATIONS_UPDATE to 1.\n",
      "  check_for_updates()\n"
     ]
    }
   ],
   "source": [
    "import torch\n",
    "from utils.dataset_loader import *\n",
    "from utils.model_utils import *\n",
    "from utils.train_utils import *\n",
    "from utils.metrics import *\n",
    "from utils.visualization import *"
   ]
  },
  {
   "cell_type": "code",
   "execution_count": 3,
   "metadata": {},
   "outputs": [
    {
     "name": "stdout",
     "output_type": "stream",
     "text": [
      "[INFO] Using device: cuda\n"
     ]
    }
   ],
   "source": [
    "device = torch.device(\"cuda\" if torch.cuda.is_available() else \"cpu\")\n",
    "print(f\"[INFO] Using device: {device}\")"
   ]
  },
  {
   "cell_type": "code",
   "execution_count": 4,
   "metadata": {},
   "outputs": [],
   "source": [
    "data_dir = \"wildfire_dataset_scaled\"\n",
    "batch_size = 32\n",
    "num_epochs = 10\n",
    "learning_rate = 0.001\n",
    "num_classes = 2"
   ]
  },
  {
   "cell_type": "code",
   "execution_count": 5,
   "metadata": {},
   "outputs": [
    {
     "name": "stdout",
     "output_type": "stream",
     "text": [
      "[INFO] Loading datasets...\n",
      "[INFO] Datasets loaded successfully!\n"
     ]
    }
   ],
   "source": [
    "print(\"[INFO] Loading datasets...\")\n",
    "train_loader, val_loader, test_loader = load_datasets(data_dir, batch_size, augmentation=\"baseline\")\n",
    "print(\"[INFO] Datasets loaded successfully!\")\n"
   ]
  },
  {
   "cell_type": "markdown",
   "metadata": {},
   "source": []
  },
  {
   "cell_type": "code",
   "execution_count": 6,
   "metadata": {},
   "outputs": [
    {
     "name": "stdout",
     "output_type": "stream",
     "text": [
      "\n",
      "[INFO] Starting Baseline Training for Model: efficienetnet\n",
      "\n",
      "[INFO] Initializing efficienetnet model...\n",
      "[INFO] Model initialized successfully!\n"
     ]
    }
   ],
   "source": [
    "print(\"\\n[INFO] Starting Baseline Training for Model: efficienetnet\\n\")\n",
    "print(\"[INFO] Initializing efficienetnet model...\")\n",
    "model = initialize_model(\n",
    "    model_name=\"efficientnet_b0\",\n",
    "    num_classes=num_classes,\n",
    "    pretrained=True,\n",
    "    freeze_all=True  # Baseline: Freeze all layers\n",
    ")\n",
    "print(\"[INFO] Model initialized successfully!\")"
   ]
  },
  {
   "cell_type": "code",
   "execution_count": 7,
   "metadata": {},
   "outputs": [
    {
     "name": "stdout",
     "output_type": "stream",
     "text": [
      "[INFO] Setting up loss function and optimizer...\n",
      "[INFO] Loss function and optimizer set up!\n"
     ]
    }
   ],
   "source": [
    "print(\"[INFO] Setting up loss function and optimizer...\")\n",
    "criterion = torch.nn.CrossEntropyLoss()\n",
    "optimizer = torch.optim.Adam(filter(lambda p: p.requires_grad, model.parameters()), lr=learning_rate)\n",
    "print(\"[INFO] Loss function and optimizer set up!\")"
   ]
  },
  {
   "cell_type": "code",
   "execution_count": null,
   "metadata": {},
   "outputs": [
    {
     "name": "stdout",
     "output_type": "stream",
     "text": [
      "[INFO] Starting model training...\n",
      "\n",
      "Starting training...\n",
      "\n"
     ]
    },
    {
     "name": "stderr",
     "output_type": "stream",
     "text": [
      "                                                                                                                                           "
     ]
    },
    {
     "name": "stdout",
     "output_type": "stream",
     "text": [
      "[INFO] Best model saved with val_recall: 0.8821\n",
      "Epoch [1]: Train Loss: 0.5685, Train Acc: 0.7032 | Val Loss: 0.4322, Val Acc: 0.8259, Val Recall: 0.8821, Val F1: 0.8611\n"
     ]
    },
    {
     "name": "stderr",
     "output_type": "stream",
     "text": [
      "                                                                                                                                           "
     ]
    },
    {
     "name": "stdout",
     "output_type": "stream",
     "text": [
      "[INFO] No improvement in val_recall. Patience: 1/10\n",
      "Epoch [2]: Train Loss: 0.4407, Train Acc: 0.8034 | Val Loss: 0.3938, Val Acc: 0.8532, Val Recall: 0.8496, Val F1: 0.8763\n"
     ]
    },
    {
     "name": "stderr",
     "output_type": "stream",
     "text": [
      "                                                                                                                                           "
     ]
    },
    {
     "name": "stdout",
     "output_type": "stream",
     "text": [
      "[INFO] Best model saved with val_recall: 0.8862\n",
      "Epoch [3]: Train Loss: 0.4033, Train Acc: 0.8198 | Val Loss: 0.3621, Val Acc: 0.8333, Val Recall: 0.8862, Val F1: 0.8668\n"
     ]
    },
    {
     "name": "stderr",
     "output_type": "stream",
     "text": [
      "                                                                                                                                           "
     ]
    },
    {
     "name": "stdout",
     "output_type": "stream",
     "text": [
      "[INFO] Best model saved with val_recall: 0.8984\n",
      "Epoch [4]: Train Loss: 0.3721, Train Acc: 0.8373 | Val Loss: 0.3474, Val Acc: 0.8458, Val Recall: 0.8984, Val F1: 0.8770\n"
     ]
    },
    {
     "name": "stderr",
     "output_type": "stream",
     "text": [
      "                                                                                                                                           "
     ]
    },
    {
     "name": "stdout",
     "output_type": "stream",
     "text": [
      "[INFO] No improvement in val_recall. Patience: 1/10\n",
      "Epoch [5]: Train Loss: 0.3522, Train Acc: 0.8437 | Val Loss: 0.3650, Val Acc: 0.8458, Val Recall: 0.8455, Val F1: 0.8703\n"
     ]
    },
    {
     "name": "stderr",
     "output_type": "stream",
     "text": [
      "                                                                                                                                           "
     ]
    },
    {
     "name": "stdout",
     "output_type": "stream",
     "text": [
      "[INFO] No improvement in val_recall. Patience: 2/10\n",
      "Epoch [6]: Train Loss: 0.3281, Train Acc: 0.8627 | Val Loss: 0.3400, Val Acc: 0.8557, Val Recall: 0.8699, Val F1: 0.8807\n"
     ]
    },
    {
     "name": "stderr",
     "output_type": "stream",
     "text": [
      "                                                                                                                                           "
     ]
    },
    {
     "name": "stdout",
     "output_type": "stream",
     "text": [
      "[INFO] No improvement in val_recall. Patience: 3/10\n",
      "Epoch [7]: Train Loss: 0.3687, Train Acc: 0.8384 | Val Loss: 0.3400, Val Acc: 0.8483, Val Recall: 0.8699, Val F1: 0.8753\n"
     ]
    },
    {
     "name": "stderr",
     "output_type": "stream",
     "text": [
      "                                                                                                                                           "
     ]
    },
    {
     "name": "stdout",
     "output_type": "stream",
     "text": [
      "[INFO] No improvement in val_recall. Patience: 4/10\n",
      "Epoch [8]: Train Loss: 0.3499, Train Acc: 0.8458 | Val Loss: 0.3324, Val Acc: 0.8582, Val Recall: 0.8862, Val F1: 0.8844\n"
     ]
    },
    {
     "name": "stderr",
     "output_type": "stream",
     "text": [
      "                                                                                                                                           "
     ]
    },
    {
     "name": "stdout",
     "output_type": "stream",
     "text": [
      "[INFO] No improvement in val_recall. Patience: 5/10\n",
      "Epoch [9]: Train Loss: 0.3530, Train Acc: 0.8463 | Val Loss: 0.3436, Val Acc: 0.8507, Val Recall: 0.8537, Val F1: 0.8750\n"
     ]
    },
    {
     "name": "stderr",
     "output_type": "stream",
     "text": [
      "                                                                                                                                           "
     ]
    },
    {
     "name": "stdout",
     "output_type": "stream",
     "text": [
      "[INFO] Best model saved with val_recall: 0.9187\n",
      "Epoch [10]: Train Loss: 0.3248, Train Acc: 0.8680 | Val Loss: 0.3192, Val Acc: 0.8706, Val Recall: 0.9187, Val F1: 0.8968\n"
     ]
    },
    {
     "name": "stderr",
     "output_type": "stream",
     "text": [
      "                                                                                                                                           "
     ]
    },
    {
     "name": "stdout",
     "output_type": "stream",
     "text": [
      "[INFO] No improvement in val_recall. Patience: 1/10\n",
      "Epoch [11]: Train Loss: 0.3253, Train Acc: 0.8569 | Val Loss: 0.3172, Val Acc: 0.8756, Val Recall: 0.9106, Val F1: 0.8996\n"
     ]
    },
    {
     "name": "stderr",
     "output_type": "stream",
     "text": [
      "                                                                                                                                           "
     ]
    },
    {
     "name": "stdout",
     "output_type": "stream",
     "text": [
      "[INFO] No improvement in val_recall. Patience: 2/10\n",
      "Epoch [12]: Train Loss: 0.3309, Train Acc: 0.8580 | Val Loss: 0.3221, Val Acc: 0.8582, Val Recall: 0.9106, Val F1: 0.8871\n"
     ]
    },
    {
     "name": "stderr",
     "output_type": "stream",
     "text": [
      "                                                                                                                                           "
     ]
    },
    {
     "name": "stdout",
     "output_type": "stream",
     "text": [
      "[INFO] No improvement in val_recall. Patience: 3/10\n",
      "Epoch [13]: Train Loss: 0.3300, Train Acc: 0.8548 | Val Loss: 0.3186, Val Acc: 0.8632, Val Recall: 0.9065, Val F1: 0.8902\n"
     ]
    },
    {
     "name": "stderr",
     "output_type": "stream",
     "text": [
      "                                                                                                                                           "
     ]
    },
    {
     "name": "stdout",
     "output_type": "stream",
     "text": [
      "[INFO] No improvement in val_recall. Patience: 4/10\n",
      "Epoch [14]: Train Loss: 0.3275, Train Acc: 0.8574 | Val Loss: 0.3565, Val Acc: 0.8433, Val Recall: 0.8374, Val F1: 0.8674\n"
     ]
    },
    {
     "name": "stderr",
     "output_type": "stream",
     "text": [
      "                                                                                                                                           "
     ]
    },
    {
     "name": "stdout",
     "output_type": "stream",
     "text": [
      "[INFO] No improvement in val_recall. Patience: 5/10\n",
      "Epoch [15]: Train Loss: 0.3432, Train Acc: 0.8532 | Val Loss: 0.3333, Val Acc: 0.8507, Val Recall: 0.8699, Val F1: 0.8770\n"
     ]
    },
    {
     "name": "stderr",
     "output_type": "stream",
     "text": [
      "                                                                                                                                           "
     ]
    },
    {
     "name": "stdout",
     "output_type": "stream",
     "text": [
      "[INFO] No improvement in val_recall. Patience: 6/10\n",
      "Epoch [16]: Train Loss: 0.3199, Train Acc: 0.8649 | Val Loss: 0.3224, Val Acc: 0.8582, Val Recall: 0.9187, Val F1: 0.8880\n"
     ]
    },
    {
     "name": "stderr",
     "output_type": "stream",
     "text": [
      "                                                                                                                                           "
     ]
    },
    {
     "name": "stdout",
     "output_type": "stream",
     "text": [
      "[INFO] No improvement in val_recall. Patience: 7/10\n",
      "Epoch [17]: Train Loss: 0.3214, Train Acc: 0.8532 | Val Loss: 0.3116, Val Acc: 0.8632, Val Recall: 0.8862, Val F1: 0.8880\n"
     ]
    },
    {
     "name": "stderr",
     "output_type": "stream",
     "text": [
      "                                                                                                                                           "
     ]
    },
    {
     "name": "stdout",
     "output_type": "stream",
     "text": [
      "[INFO] No improvement in val_recall. Patience: 8/10\n",
      "Epoch [18]: Train Loss: 0.3190, Train Acc: 0.8649 | Val Loss: 0.3158, Val Acc: 0.8607, Val Recall: 0.8862, Val F1: 0.8862\n"
     ]
    },
    {
     "name": "stderr",
     "output_type": "stream",
     "text": [
      "                                                                                                                                           "
     ]
    },
    {
     "name": "stdout",
     "output_type": "stream",
     "text": [
      "[INFO] No improvement in val_recall. Patience: 9/10\n",
      "Epoch [19]: Train Loss: 0.3111, Train Acc: 0.8622 | Val Loss: 0.3115, Val Acc: 0.8582, Val Recall: 0.8984, Val F1: 0.8858\n"
     ]
    },
    {
     "name": "stderr",
     "output_type": "stream",
     "text": [
      "Epoch [20] - Training:  68%|█████████████████████████████████████████████████████▌                         | 40/59 [00:02<00:01, 13.56it/s]"
     ]
    }
   ],
   "source": [
    "print(\"[INFO] Starting model training...\")\n",
    "history = train_model(\n",
    "    model=model,\n",
    "    train_loader=train_loader,\n",
    "    val_loader=val_loader,\n",
    "    criterion=criterion,\n",
    "    optimizer=optimizer,\n",
    "    scheduler=None,  # No learning rate scheduler for baseline\n",
    "    device=device,\n",
    "    save_path=f\"outputs/models/baseline/efficientnet.pt\",\n",
    "    early_stop_patience=10,\n",
    "    monitor_metric=\"val_recall\",\n",
    ")\n",
    "print(\"[INFO] Training completed successfully!\")"
   ]
  },
  {
   "cell_type": "code",
   "execution_count": null,
   "metadata": {},
   "outputs": [],
   "source": [
    "print(\"[INFO] Evaluating the model...\")\n",
    "metrics = evaluate_model(\n",
    "    model=model,\n",
    "    test_loader=test_loader,\n",
    "    classes=[\"No Fire\", \"Fire\"],\n",
    "    device=device\n",
    ")\n",
    "print(f\"\\n[INFO] Metrics for ResNet18:\\n{metrics}\")"
   ]
  },
  {
   "cell_type": "code",
   "execution_count": null,
   "metadata": {},
   "outputs": [],
   "source": [
    "# Training and Validation Curves\n",
    "plot_training(history, f\"outputs/efficientnet_baseline_training_curve.png\")\n",
    "\n",
    "# Confusion Matrix\n",
    "plot_confusion_matrix(\n",
    "    cm=metrics[\"confusion_matrix\"],\n",
    "    classes=[\"No Fire\", \"Fire\"],\n",
    "    output_path=f\"outputs/efficientnet_baseline_confusion_matrix.png\"\n",
    ")\n",
    "\n",
    "# Precision-Recall Curve\n",
    "if \"y_probs\" in metrics:\n",
    "    y_true = metrics[\"y_true\"]\n",
    "    y_probs = [prob[1] for prob in metrics[\"y_probs\"]]\n",
    "    plot_precision_recall(\n",
    "        y_true=y_true,\n",
    "        y_scores=y_probs,\n",
    "        output_path=f\"outputs/efficientnet_baseline_precision_recall_curve.png\"\n",
    "    )\n",
    "\n",
    "    # ROC Curve\n",
    "    plot_roc_curve(\n",
    "        y_true=y_true,\n",
    "        y_scores=y_probs,\n",
    "        output_path=f\"outputs/efficientnet_baseline_roc_curve.png\"\n",
    "    )\n",
    "\n",
    "print(\"[INFO] All results saved successfully!\")"
   ]
  },
  {
   "cell_type": "code",
   "execution_count": null,
   "metadata": {},
   "outputs": [],
   "source": []
  }
 ],
 "metadata": {
  "kernelspec": {
   "display_name": "Python 3 (ipykernel)",
   "language": "python",
   "name": "python3"
  },
  "language_info": {
   "codemirror_mode": {
    "name": "ipython",
    "version": 3
   },
   "file_extension": ".py",
   "mimetype": "text/x-python",
   "name": "python",
   "nbconvert_exporter": "python",
   "pygments_lexer": "ipython3",
   "version": "3.11.9"
  }
 },
 "nbformat": 4,
 "nbformat_minor": 4
}
