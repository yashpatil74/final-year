{
 "cells": [
  {
   "cell_type": "code",
   "execution_count": 1,
   "metadata": {},
   "outputs": [],
   "source": [
    "import os\n",
    "os.chdir(\"../..\")"
   ]
  },
  {
   "cell_type": "code",
   "execution_count": 2,
   "metadata": {},
   "outputs": [],
   "source": [
    "import torch\n",
    "from utils.dataset_loader import load_datasets\n",
    "from utils.model_utils import initialize_model\n",
    "from utils.train_utils import train_model\n",
    "from utils.metrics import evaluate_model\n",
    "from utils.visualization import plot_training, plot_confusion_matrix"
   ]
  },
  {
   "cell_type": "code",
   "execution_count": 3,
   "metadata": {},
   "outputs": [
    {
     "name": "stdout",
     "output_type": "stream",
     "text": [
      "[INFO] Using device: cuda\n"
     ]
    }
   ],
   "source": [
    "device = torch.device(\"cuda\" if torch.cuda.is_available() else \"cpu\")\n",
    "print(f\"[INFO] Using device: {device}\")"
   ]
  },
  {
   "cell_type": "code",
   "execution_count": 4,
   "metadata": {},
   "outputs": [],
   "source": [
    "data_dir = \"wildfire_dataset_scaled\"\n",
    "batch_size = 32\n",
    "num_epochs = 10\n",
    "learning_rate = 0.001\n",
    "num_classes = 2"
   ]
  },
  {
   "cell_type": "code",
   "execution_count": 5,
   "metadata": {},
   "outputs": [
    {
     "name": "stdout",
     "output_type": "stream",
     "text": [
      "[INFO] Loading datasets...\n",
      "[INFO] Datasets loaded successfully!\n"
     ]
    }
   ],
   "source": [
    "print(\"[INFO] Loading datasets...\")\n",
    "train_loader, val_loader, test_loader = load_datasets(data_dir, batch_size, augmentation=\"baseline\")\n",
    "print(\"[INFO] Datasets loaded successfully!\")\n",
    "\n"
   ]
  },
  {
   "cell_type": "markdown",
   "metadata": {},
   "source": []
  },
  {
   "cell_type": "code",
   "execution_count": 6,
   "metadata": {},
   "outputs": [
    {
     "name": "stdout",
     "output_type": "stream",
     "text": [
      "\n",
      "[INFO] Starting Baseline Training for Model: resnet18\n",
      "\n",
      "[INFO] Initializing ResNet18 model...\n",
      "[INFO] Model initialized successfully!\n"
     ]
    },
    {
     "name": "stderr",
     "output_type": "stream",
     "text": [
      "C:\\Users\\Yash\\Documents\\Development\\Projects\\final_year\\env\\Lib\\site-packages\\torchvision\\models\\_utils.py:208: UserWarning: The parameter 'pretrained' is deprecated since 0.13 and may be removed in the future, please use 'weights' instead.\n",
      "  warnings.warn(\n",
      "C:\\Users\\Yash\\Documents\\Development\\Projects\\final_year\\env\\Lib\\site-packages\\torchvision\\models\\_utils.py:223: UserWarning: Arguments other than a weight enum or `None` for 'weights' are deprecated since 0.13 and may be removed in the future. The current behavior is equivalent to passing `weights=MobileNet_V2_Weights.IMAGENET1K_V1`. You can also use `weights=MobileNet_V2_Weights.DEFAULT` to get the most up-to-date weights.\n",
      "  warnings.warn(msg)\n"
     ]
    }
   ],
   "source": [
    "print(\"\\n[INFO] Starting Baseline Training for Model: resnet18\\n\")\n",
    "print(\"[INFO] Initializing ResNet18 model...\")\n",
    "model = initialize_model(\n",
    "    model_name=\"mobilenet_v2\",\n",
    "    num_classes=num_classes,\n",
    "    pretrained=True,\n",
    "    freeze_all=True  # Baseline: Freeze all layers\n",
    ")\n",
    "print(\"[INFO] Model initialized successfully!\")"
   ]
  },
  {
   "cell_type": "code",
   "execution_count": 7,
   "metadata": {},
   "outputs": [
    {
     "name": "stdout",
     "output_type": "stream",
     "text": [
      "[INFO] Setting up loss function and optimizer...\n",
      "[INFO] Loss function and optimizer set up!\n"
     ]
    }
   ],
   "source": [
    "print(\"[INFO] Setting up loss function and optimizer...\")\n",
    "criterion = torch.nn.CrossEntropyLoss()\n",
    "optimizer = torch.optim.Adam(filter(lambda p: p.requires_grad, model.parameters()), lr=learning_rate)\n",
    "print(\"[INFO] Loss function and optimizer set up!\")"
   ]
  },
  {
   "cell_type": "code",
   "execution_count": 8,
   "metadata": {},
   "outputs": [
    {
     "name": "stdout",
     "output_type": "stream",
     "text": [
      "[INFO] Starting model training...\n",
      "\n",
      "Starting training...\n",
      "\n"
     ]
    },
    {
     "name": "stderr",
     "output_type": "stream",
     "text": [
      "                                                                                                                                           "
     ]
    },
    {
     "name": "stdout",
     "output_type": "stream",
     "text": [
      "Epoch [1]:\n",
      "    Train Loss: 0.4777, Train Acc: 0.7758\n",
      "    Val Loss:   0.4206, Val Acc:   0.8060\n",
      "    Val Recall: 0.9431, Val F1:   0.8561\n",
      "    Learning Rate: 0.001000\n",
      "\n",
      "[INFO] Best model saved with val_recall: 0.9431\n"
     ]
    },
    {
     "name": "stderr",
     "output_type": "stream",
     "text": [
      "                                                                                                                                           "
     ]
    },
    {
     "name": "stdout",
     "output_type": "stream",
     "text": [
      "Epoch [2]:\n",
      "    Train Loss: 0.3674, Train Acc: 0.8362\n",
      "    Val Loss:   0.3841, Val Acc:   0.8259\n",
      "    Val Recall: 0.9228, Val F1:   0.8664\n",
      "    Learning Rate: 0.001000\n",
      "\n",
      "[INFO] No improvement in val_recall. Patience: 1/10\n"
     ]
    },
    {
     "name": "stderr",
     "output_type": "stream",
     "text": [
      "                                                                                                                                           "
     ]
    },
    {
     "name": "stdout",
     "output_type": "stream",
     "text": [
      "Epoch [3]:\n",
      "    Train Loss: 0.3300, Train Acc: 0.8590\n",
      "    Val Loss:   0.3764, Val Acc:   0.8308\n",
      "    Val Recall: 0.8415, Val F1:   0.8589\n",
      "    Learning Rate: 0.001000\n",
      "\n",
      "[INFO] No improvement in val_recall. Patience: 2/10\n"
     ]
    },
    {
     "name": "stderr",
     "output_type": "stream",
     "text": [
      "                                                                                                                                           "
     ]
    },
    {
     "name": "stdout",
     "output_type": "stream",
     "text": [
      "Epoch [4]:\n",
      "    Train Loss: 0.3078, Train Acc: 0.8749\n",
      "    Val Loss:   0.3948, Val Acc:   0.8284\n",
      "    Val Recall: 0.9472, Val F1:   0.8710\n",
      "    Learning Rate: 0.001000\n",
      "\n",
      "[INFO] Best model saved with val_recall: 0.9472\n"
     ]
    },
    {
     "name": "stderr",
     "output_type": "stream",
     "text": [
      "                                                                                                                                           "
     ]
    },
    {
     "name": "stdout",
     "output_type": "stream",
     "text": [
      "Epoch [5]:\n",
      "    Train Loss: 0.3055, Train Acc: 0.8718\n",
      "    Val Loss:   0.3660, Val Acc:   0.8408\n",
      "    Val Recall: 0.9390, Val F1:   0.8783\n",
      "    Learning Rate: 0.001000\n",
      "\n",
      "[INFO] No improvement in val_recall. Patience: 1/10\n"
     ]
    },
    {
     "name": "stderr",
     "output_type": "stream",
     "text": [
      "                                                                                                                                           "
     ]
    },
    {
     "name": "stdout",
     "output_type": "stream",
     "text": [
      "Epoch [6]:\n",
      "    Train Loss: 0.2958, Train Acc: 0.8813\n",
      "    Val Loss:   0.4315, Val Acc:   0.8234\n",
      "    Val Recall: 0.9593, Val F1:   0.8692\n",
      "    Learning Rate: 0.001000\n",
      "\n",
      "[INFO] Best model saved with val_recall: 0.9593\n"
     ]
    },
    {
     "name": "stderr",
     "output_type": "stream",
     "text": [
      "                                                                                                                                           "
     ]
    },
    {
     "name": "stdout",
     "output_type": "stream",
     "text": [
      "Epoch [7]:\n",
      "    Train Loss: 0.3036, Train Acc: 0.8691\n",
      "    Val Loss:   0.3554, Val Acc:   0.8383\n",
      "    Val Recall: 0.9187, Val F1:   0.8743\n",
      "    Learning Rate: 0.001000\n",
      "\n",
      "[INFO] No improvement in val_recall. Patience: 1/10\n"
     ]
    },
    {
     "name": "stderr",
     "output_type": "stream",
     "text": [
      "                                                                                                                                           "
     ]
    },
    {
     "name": "stdout",
     "output_type": "stream",
     "text": [
      "Epoch [8]:\n",
      "    Train Loss: 0.2886, Train Acc: 0.8829\n",
      "    Val Loss:   0.3436, Val Acc:   0.8483\n",
      "    Val Recall: 0.8984, Val F1:   0.8787\n",
      "    Learning Rate: 0.001000\n",
      "\n",
      "[INFO] No improvement in val_recall. Patience: 2/10\n"
     ]
    },
    {
     "name": "stderr",
     "output_type": "stream",
     "text": [
      "                                                                                                                                           "
     ]
    },
    {
     "name": "stdout",
     "output_type": "stream",
     "text": [
      "Epoch [9]:\n",
      "    Train Loss: 0.2709, Train Acc: 0.8898\n",
      "    Val Loss:   0.3478, Val Acc:   0.8532\n",
      "    Val Recall: 0.9268, Val F1:   0.8854\n",
      "    Learning Rate: 0.001000\n",
      "\n",
      "[INFO] No improvement in val_recall. Patience: 3/10\n"
     ]
    },
    {
     "name": "stderr",
     "output_type": "stream",
     "text": [
      "                                                                                                                                           "
     ]
    },
    {
     "name": "stdout",
     "output_type": "stream",
     "text": [
      "Epoch [10]:\n",
      "    Train Loss: 0.2710, Train Acc: 0.8914\n",
      "    Val Loss:   0.3412, Val Acc:   0.8632\n",
      "    Val Recall: 0.9146, Val F1:   0.8911\n",
      "    Learning Rate: 0.001000\n",
      "\n",
      "[INFO] No improvement in val_recall. Patience: 4/10\n"
     ]
    },
    {
     "name": "stderr",
     "output_type": "stream",
     "text": [
      "                                                                                                                                           "
     ]
    },
    {
     "name": "stdout",
     "output_type": "stream",
     "text": [
      "Epoch [11]:\n",
      "    Train Loss: 0.2758, Train Acc: 0.8792\n",
      "    Val Loss:   0.3521, Val Acc:   0.8507\n",
      "    Val Recall: 0.9228, Val F1:   0.8833\n",
      "    Learning Rate: 0.001000\n",
      "\n",
      "[INFO] No improvement in val_recall. Patience: 5/10\n"
     ]
    },
    {
     "name": "stderr",
     "output_type": "stream",
     "text": [
      "                                                                                                                                           "
     ]
    },
    {
     "name": "stdout",
     "output_type": "stream",
     "text": [
      "Epoch [12]:\n",
      "    Train Loss: 0.2643, Train Acc: 0.8898\n",
      "    Val Loss:   0.3422, Val Acc:   0.8532\n",
      "    Val Recall: 0.9146, Val F1:   0.8841\n",
      "    Learning Rate: 0.001000\n",
      "\n",
      "[INFO] No improvement in val_recall. Patience: 6/10\n"
     ]
    },
    {
     "name": "stderr",
     "output_type": "stream",
     "text": [
      "                                                                                                                                           "
     ]
    },
    {
     "name": "stdout",
     "output_type": "stream",
     "text": [
      "Epoch [13]:\n",
      "    Train Loss: 0.2671, Train Acc: 0.8834\n",
      "    Val Loss:   0.4770, Val Acc:   0.8308\n",
      "    Val Recall: 0.9715, Val F1:   0.8755\n",
      "    Learning Rate: 0.001000\n",
      "\n",
      "[INFO] Best model saved with val_recall: 0.9715\n"
     ]
    },
    {
     "name": "stderr",
     "output_type": "stream",
     "text": [
      "                                                                                                                                           "
     ]
    },
    {
     "name": "stdout",
     "output_type": "stream",
     "text": [
      "Epoch [14]:\n",
      "    Train Loss: 0.2822, Train Acc: 0.8871\n",
      "    Val Loss:   0.3475, Val Acc:   0.8607\n",
      "    Val Recall: 0.9228, Val F1:   0.8902\n",
      "    Learning Rate: 0.001000\n",
      "\n",
      "[INFO] No improvement in val_recall. Patience: 1/10\n"
     ]
    },
    {
     "name": "stderr",
     "output_type": "stream",
     "text": [
      "                                                                                                                                           "
     ]
    },
    {
     "name": "stdout",
     "output_type": "stream",
     "text": [
      "Epoch [15]:\n",
      "    Train Loss: 0.2599, Train Acc: 0.8930\n",
      "    Val Loss:   0.3467, Val Acc:   0.8532\n",
      "    Val Recall: 0.9065, Val F1:   0.8832\n",
      "    Learning Rate: 0.001000\n",
      "\n",
      "[INFO] No improvement in val_recall. Patience: 2/10\n"
     ]
    },
    {
     "name": "stderr",
     "output_type": "stream",
     "text": [
      "                                                                                                                                           "
     ]
    },
    {
     "name": "stdout",
     "output_type": "stream",
     "text": [
      "Epoch [16]:\n",
      "    Train Loss: 0.2549, Train Acc: 0.8956\n",
      "    Val Loss:   0.3744, Val Acc:   0.8483\n",
      "    Val Recall: 0.9472, Val F1:   0.8843\n",
      "    Learning Rate: 0.001000\n",
      "\n",
      "[INFO] No improvement in val_recall. Patience: 3/10\n"
     ]
    },
    {
     "name": "stderr",
     "output_type": "stream",
     "text": [
      "                                                                                                                                           "
     ]
    },
    {
     "name": "stdout",
     "output_type": "stream",
     "text": [
      "Epoch [17]:\n",
      "    Train Loss: 0.2562, Train Acc: 0.8972\n",
      "    Val Loss:   0.3457, Val Acc:   0.8582\n",
      "    Val Recall: 0.9146, Val F1:   0.8876\n",
      "    Learning Rate: 0.001000\n",
      "\n",
      "[INFO] No improvement in val_recall. Patience: 4/10\n"
     ]
    },
    {
     "name": "stderr",
     "output_type": "stream",
     "text": [
      "                                                                                                                                           "
     ]
    },
    {
     "name": "stdout",
     "output_type": "stream",
     "text": [
      "Epoch [18]:\n",
      "    Train Loss: 0.2774, Train Acc: 0.8834\n",
      "    Val Loss:   0.3521, Val Acc:   0.8532\n",
      "    Val Recall: 0.9309, Val F1:   0.8859\n",
      "    Learning Rate: 0.001000\n",
      "\n",
      "[INFO] No improvement in val_recall. Patience: 5/10\n"
     ]
    },
    {
     "name": "stderr",
     "output_type": "stream",
     "text": [
      "                                                                                                                                           "
     ]
    },
    {
     "name": "stdout",
     "output_type": "stream",
     "text": [
      "Epoch [19]:\n",
      "    Train Loss: 0.2689, Train Acc: 0.8861\n",
      "    Val Loss:   0.3471, Val Acc:   0.8532\n",
      "    Val Recall: 0.8699, Val F1:   0.8789\n",
      "    Learning Rate: 0.001000\n",
      "\n",
      "[INFO] No improvement in val_recall. Patience: 6/10\n"
     ]
    },
    {
     "name": "stderr",
     "output_type": "stream",
     "text": [
      "                                                                                                                                           "
     ]
    },
    {
     "name": "stdout",
     "output_type": "stream",
     "text": [
      "Epoch [20]:\n",
      "    Train Loss: 0.2594, Train Acc: 0.8813\n",
      "    Val Loss:   0.3667, Val Acc:   0.8483\n",
      "    Val Recall: 0.9350, Val F1:   0.8829\n",
      "    Learning Rate: 0.001000\n",
      "\n",
      "[INFO] No improvement in val_recall. Patience: 7/10\n"
     ]
    },
    {
     "name": "stderr",
     "output_type": "stream",
     "text": [
      "                                                                                                                                           "
     ]
    },
    {
     "name": "stdout",
     "output_type": "stream",
     "text": [
      "Epoch [21]:\n",
      "    Train Loss: 0.2452, Train Acc: 0.9067\n",
      "    Val Loss:   0.3874, Val Acc:   0.8458\n",
      "    Val Recall: 0.9472, Val F1:   0.8826\n",
      "    Learning Rate: 0.001000\n",
      "\n",
      "[INFO] No improvement in val_recall. Patience: 8/10\n"
     ]
    },
    {
     "name": "stderr",
     "output_type": "stream",
     "text": [
      "                                                                                                                                           "
     ]
    },
    {
     "name": "stdout",
     "output_type": "stream",
     "text": [
      "Epoch [22]:\n",
      "    Train Loss: 0.2638, Train Acc: 0.8839\n",
      "    Val Loss:   0.3494, Val Acc:   0.8632\n",
      "    Val Recall: 0.9268, Val F1:   0.8924\n",
      "    Learning Rate: 0.001000\n",
      "\n",
      "[INFO] No improvement in val_recall. Patience: 9/10\n"
     ]
    },
    {
     "name": "stderr",
     "output_type": "stream",
     "text": [
      "                                                                                                                                           "
     ]
    },
    {
     "name": "stdout",
     "output_type": "stream",
     "text": [
      "Epoch [23]:\n",
      "    Train Loss: 0.2595, Train Acc: 0.8945\n",
      "    Val Loss:   0.3512, Val Acc:   0.8607\n",
      "    Val Recall: 0.9146, Val F1:   0.8893\n",
      "    Learning Rate: 0.001000\n",
      "\n",
      "[INFO] No improvement in val_recall. Patience: 10/10\n",
      "[INFO] Training stopped after 23 epochs.\n",
      "\n",
      "[INFO] Training completed successfully!\n"
     ]
    }
   ],
   "source": [
    "print(\"[INFO] Starting model training...\")\n",
    "history = train_model(\n",
    "    model=model,\n",
    "    train_loader=train_loader,\n",
    "    val_loader=val_loader,\n",
    "    criterion=criterion,\n",
    "    optimizer=optimizer,\n",
    "    scheduler=None,  # No learning rate scheduler for baseline\n",
    "    # num_epochs=num_epochs,\n",
    "    device=device,\n",
    "    save_path=\"outputs/models/baseline/mobilenetv2.pt\",\n",
    "    early_stop_patience=10,     # Stop after 5 epochs without improvement\n",
    "    monitor_metric=\"val_recall\",\n",
    ")\n",
    "print(\"[INFO] Training completed successfully!\")"
   ]
  },
  {
   "cell_type": "code",
   "execution_count": 9,
   "metadata": {},
   "outputs": [
    {
     "name": "stdout",
     "output_type": "stream",
     "text": [
      "[INFO] Evaluating the model...\n",
      "\n",
      "[INFO] Metrics for ResNet18:\n",
      "{'classification_report': {'No Fire': {'precision': 0.8831168831168831, 'recall': 0.8553459119496856, 'f1-score': 0.8690095846645367, 'support': 159.0}, 'Fire': {'precision': 0.91015625, 'recall': 0.9282868525896414, 'f1-score': 0.9191321499013807, 'support': 251.0}, 'accuracy': 0.9, 'macro avg': {'precision': 0.8966365665584415, 'recall': 0.8918163822696634, 'f1-score': 0.8940708672829587, 'support': 410.0}, 'weighted avg': {'precision': 0.8996702516233767, 'recall': 0.9, 'f1-score': 0.8996943746022145, 'support': 410.0}}, 'confusion_matrix': array([[136,  23],\n",
      "       [ 18, 233]]), 'roc_auc': np.float64(0.8918163822696635)}\n"
     ]
    }
   ],
   "source": [
    "print(\"[INFO] Evaluating the model...\")\n",
    "metrics = evaluate_model(\n",
    "    model=model,\n",
    "    test_loader=test_loader,\n",
    "    classes=[\"No Fire\", \"Fire\"],\n",
    "    device=device\n",
    ")\n",
    "print(f\"\\n[INFO] Metrics for ResNet18:\\n{metrics}\")"
   ]
  },
  {
   "cell_type": "code",
   "execution_count": 10,
   "metadata": {},
   "outputs": [
    {
     "name": "stdout",
     "output_type": "stream",
     "text": [
      "[INFO] Saving training and evaluation results...\n"
     ]
    },
    {
     "data": {
      "image/png": "[encoded data removed]",
      "text/plain": [
       "<Figure size 1000x500 with 1 Axes>"
      ]
     },
     "metadata": {},
     "output_type": "display_data"
    },
    {
     "data": {
      "image/png": "[encoded data removed]",
      "text/plain": [
       "<Figure size 800x800 with 2 Axes>"
      ]
     },
     "metadata": {},
     "output_type": "display_data"
    },
    {
     "name": "stdout",
     "output_type": "stream",
     "text": [
      "[INFO] Results saved successfully!\n"
     ]
    }
   ],
   "source": [
    "print(\"[INFO] Saving training and evaluation results...\")\n",
    "plot_training(history, \"outputs/resnet18_baseline_training_curve.png\")\n",
    "plot_confusion_matrix(\n",
    "    cm=metrics[\"confusion_matrix\"],\n",
    "    classes=[\"No Fire\", \"Fire\"],\n",
    "    output_path=\"outputs/resnet18_baseline_confusion_matrix.png\"\n",
    ")\n",
    "print(\"[INFO] Results saved successfully!\")"
   ]
  }
 ],
 "metadata": {
  "kernelspec": {
   "display_name": "Python 3 (ipykernel)",
   "language": "python",
   "name": "python3"
  },
  "language_info": {
   "codemirror_mode": {
    "name": "ipython",
    "version": 3
   },
   "file_extension": ".py",
   "mimetype": "text/x-python",
   "name": "python",
   "nbconvert_exporter": "python",
   "pygments_lexer": "ipython3",
   "version": "3.11.9"
  }
 },
 "nbformat": 4,
 "nbformat_minor": 4
}
