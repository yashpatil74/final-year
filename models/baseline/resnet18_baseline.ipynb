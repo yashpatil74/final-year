{
 "cells": [
  {
   "cell_type": "code",
   "execution_count": 1,
   "metadata": {},
   "outputs": [],
   "source": [
    "import os\n",
    "os.chdir(\"../..\")"
   ]
  },
  {
   "cell_type": "code",
   "execution_count": 2,
   "metadata": {},
   "outputs": [
    {
     "name": "stderr",
     "output_type": "stream",
     "text": [
      "c:\\Users\\Yash\\Documents\\Development\\Projects\\final_year\\env\\Lib\\site-packages\\albumentations\\__init__.py:24: UserWarning: A new version of Albumentations is available: 1.4.24 (you have 1.4.23). Upgrade using: pip install -U albumentations. To disable automatic update checks, set the environment variable NO_ALBUMENTATIONS_UPDATE to 1.\n",
      "  check_for_updates()\n"
     ]
    }
   ],
   "source": [
    "import torch\n",
    "from utils.dataset_loader import *\n",
    "from utils.model_utils import *\n",
    "from utils.train_utils import *\n",
    "from utils.metrics import *\n",
    "from utils.visualization import *"
   ]
  },
  {
   "cell_type": "code",
   "execution_count": 3,
   "metadata": {},
   "outputs": [
    {
     "name": "stdout",
     "output_type": "stream",
     "text": [
      "[INFO] Using device: cuda\n"
     ]
    }
   ],
   "source": [
    "device = torch.device(\"cuda\" if torch.cuda.is_available() else \"cpu\")\n",
    "print(f\"[INFO] Using device: {device}\")"
   ]
  },
  {
   "cell_type": "code",
   "execution_count": 4,
   "metadata": {},
   "outputs": [],
   "source": [
    "data_dir = \"wildfire_dataset_scaled\"\n",
    "batch_size = 64\n",
    "learning_rate = 0.001\n",
    "num_classes = 2"
   ]
  },
  {
   "cell_type": "code",
   "execution_count": 5,
   "metadata": {},
   "outputs": [
    {
     "name": "stderr",
     "output_type": "stream",
     "text": [
      "2024-12-25 14:53:33,439 - INFO - Loading datasets from wildfire_dataset_scaled with augmentation type 'baseline'.\n",
      "2024-12-25 14:53:33,440 - INFO - Applying baseline augmentations: Resize and Normalize.\n",
      "2024-12-25 14:53:33,446 - INFO - Initialized AlbumentationsDataset with root: wildfire_dataset_scaled/train\n",
      "2024-12-25 14:53:33,448 - INFO - Initialized AlbumentationsDataset with root: wildfire_dataset_scaled/val\n",
      "2024-12-25 14:53:33,450 - INFO - Initialized AlbumentationsDataset with root: wildfire_dataset_scaled/test\n",
      "2024-12-25 14:53:33,451 - INFO - Datasets initialized. Preparing DataLoaders...\n",
      "2024-12-25 14:53:33,451 - INFO - Using WeightedRandomSampler for class balancing.\n",
      "2024-12-25 14:53:33,451 - INFO - Computing class weights from directory: wildfire_dataset_scaled/train\n",
      "2024-12-25 14:53:33,453 - INFO - Class 'fire' has 730 samples.\n",
      "2024-12-25 14:53:33,454 - INFO - Class 'nofire' has 1157 samples.\n",
      "2024-12-25 14:53:33,455 - INFO - Computed class weights: {'fire': 1.0, 'nofire': 0.7943186335572451}\n"
     ]
    },
    {
     "name": "stdout",
     "output_type": "stream",
     "text": [
      "[INFO] Loading datasets...\n"
     ]
    },
    {
     "name": "stderr",
     "output_type": "stream",
     "text": [
      "2024-12-25 14:53:34,617 - INFO - DataLoaders created successfully.\n"
     ]
    },
    {
     "name": "stdout",
     "output_type": "stream",
     "text": [
      "[INFO] Datasets loaded successfully!\n"
     ]
    }
   ],
   "source": [
    "print(\"[INFO] Loading datasets...\")\n",
    "train_loader, val_loader, test_loader = load_datasets(data_dir, batch_size, augmentation=\"baseline\")\n",
    "print(\"[INFO] Datasets loaded successfully!\")\n",
    "\n"
   ]
  },
  {
   "cell_type": "code",
   "execution_count": 6,
   "metadata": {},
   "outputs": [
    {
     "name": "stdout",
     "output_type": "stream",
     "text": [
      "\n",
      "[INFO] Starting Baseline Training for Model: resnet18\n",
      "\n",
      "[INFO] Initializing ResNet18 model...\n",
      "[INFO] Model initialized successfully!\n"
     ]
    }
   ],
   "source": [
    "print(\"\\n[INFO] Starting Baseline Training for Model: resnet18\\n\")\n",
    "print(\"[INFO] Initializing ResNet18 model...\")\n",
    "model = initialize_model(\n",
    "    model_name=\"resnet18\",\n",
    "    num_classes=num_classes,\n",
    "    pretrained=True,\n",
    "    freeze_all=True  # Baseline: Freeze all layers\n",
    ")\n",
    "print(\"[INFO] Model initialized successfully!\")"
   ]
  },
  {
   "cell_type": "code",
   "execution_count": 7,
   "metadata": {},
   "outputs": [
    {
     "name": "stdout",
     "output_type": "stream",
     "text": [
      "[INFO] Setting up loss function and optimizer...\n",
      "[INFO] Loss function and optimizer set up!\n"
     ]
    }
   ],
   "source": [
    "print(\"[INFO] Setting up loss function and optimizer...\")\n",
    "criterion = torch.nn.CrossEntropyLoss()\n",
    "optimizer = torch.optim.Adam(filter(lambda p: p.requires_grad, model.parameters()), lr=learning_rate)\n",
    "print(\"[INFO] Loss function and optimizer set up!\")"
   ]
  },
  {
   "cell_type": "code",
   "execution_count": 8,
   "metadata": {},
   "outputs": [
    {
     "name": "stdout",
     "output_type": "stream",
     "text": [
      "Training started...\n",
      "[INFO] Starting model training...\n",
      "\n",
      "Starting training...\n",
      "\n"
     ]
    },
    {
     "name": "stderr",
     "output_type": "stream",
     "text": [
      "                                                                     \r"
     ]
    },
    {
     "name": "stdout",
     "output_type": "stream",
     "text": [
      "[INFO] Best model saved with val_f1: 0.8137\n",
      "Epoch [1]: Train Loss: 0.6641, Train Acc: 0.6232 | Val Loss: 0.5176, Val Acc: 0.7836, Val Recall: 0.7724, Val F1: 0.8137\n"
     ]
    },
    {
     "name": "stderr",
     "output_type": "stream",
     "text": [
      "                                                                     \r"
     ]
    },
    {
     "name": "stdout",
     "output_type": "stream",
     "text": [
      "[INFO] Best model saved with val_f1: 0.8387\n",
      "Epoch [2]: Train Loss: 0.5309, Train Acc: 0.7387 | Val Loss: 0.4577, Val Acc: 0.8010, Val Recall: 0.8455, Val F1: 0.8387\n"
     ]
    },
    {
     "name": "stderr",
     "output_type": "stream",
     "text": [
      "                                                                     \r"
     ]
    },
    {
     "name": "stdout",
     "output_type": "stream",
     "text": [
      "[INFO] Best model saved with val_f1: 0.8439\n",
      "Epoch [3]: Train Loss: 0.4964, Train Acc: 0.7477 | Val Loss: 0.4457, Val Acc: 0.8159, Val Recall: 0.8130, Val F1: 0.8439\n"
     ]
    },
    {
     "name": "stderr",
     "output_type": "stream",
     "text": [
      "                                                                     \r"
     ]
    },
    {
     "name": "stdout",
     "output_type": "stream",
     "text": [
      "[INFO] No improvement in val_f1. Patience: 1/12\n",
      "Epoch [4]: Train Loss: 0.4502, Train Acc: 0.7912 | Val Loss: 0.4269, Val Acc: 0.7886, Val Recall: 0.9228, Val F1: 0.8423\n"
     ]
    },
    {
     "name": "stderr",
     "output_type": "stream",
     "text": [
      "                                                                     \r"
     ]
    },
    {
     "name": "stdout",
     "output_type": "stream",
     "text": [
      "[INFO] Best model saved with val_f1: 0.8482\n",
      "Epoch [5]: Train Loss: 0.4251, Train Acc: 0.8098 | Val Loss: 0.4219, Val Acc: 0.8184, Val Recall: 0.8293, Val F1: 0.8482\n"
     ]
    },
    {
     "name": "stderr",
     "output_type": "stream",
     "text": [
      "                                                                     \r"
     ]
    },
    {
     "name": "stdout",
     "output_type": "stream",
     "text": [
      "[INFO] Best model saved with val_f1: 0.8504\n",
      "Epoch [6]: Train Loss: 0.3908, Train Acc: 0.8219 | Val Loss: 0.4082, Val Acc: 0.8109, Val Recall: 0.8780, Val F1: 0.8504\n"
     ]
    },
    {
     "name": "stderr",
     "output_type": "stream",
     "text": [
      "                                                                     \r"
     ]
    },
    {
     "name": "stdout",
     "output_type": "stream",
     "text": [
      "[INFO] Best model saved with val_f1: 0.8522\n",
      "Epoch [7]: Train Loss: 0.4388, Train Acc: 0.8055 | Val Loss: 0.4035, Val Acc: 0.8085, Val Recall: 0.9024, Val F1: 0.8522\n"
     ]
    },
    {
     "name": "stderr",
     "output_type": "stream",
     "text": [
      "                                                                     \r"
     ]
    },
    {
     "name": "stdout",
     "output_type": "stream",
     "text": [
      "[INFO] Best model saved with val_f1: 0.8612\n",
      "Epoch [8]: Train Loss: 0.3985, Train Acc: 0.8193 | Val Loss: 0.3949, Val Acc: 0.8284, Val Recall: 0.8699, Val F1: 0.8612\n"
     ]
    },
    {
     "name": "stderr",
     "output_type": "stream",
     "text": [
      "                                                                     \r"
     ]
    },
    {
     "name": "stdout",
     "output_type": "stream",
     "text": [
      "[INFO] No improvement in val_f1. Patience: 1/12\n",
      "Epoch [9]: Train Loss: 0.4131, Train Acc: 0.8119 | Val Loss: 0.4052, Val Acc: 0.8284, Val Recall: 0.8455, Val F1: 0.8577\n"
     ]
    },
    {
     "name": "stderr",
     "output_type": "stream",
     "text": [
      "                                                                      \r"
     ]
    },
    {
     "name": "stdout",
     "output_type": "stream",
     "text": [
      "[INFO] No improvement in val_f1. Patience: 2/12\n",
      "Epoch [10]: Train Loss: 0.3929, Train Acc: 0.8108 | Val Loss: 0.3944, Val Acc: 0.8209, Val Recall: 0.8943, Val F1: 0.8594\n"
     ]
    },
    {
     "name": "stderr",
     "output_type": "stream",
     "text": [
      "                                                                      \r"
     ]
    },
    {
     "name": "stdout",
     "output_type": "stream",
     "text": [
      "[INFO] No improvement in val_f1. Patience: 3/12\n",
      "Epoch [11]: Train Loss: 0.3949, Train Acc: 0.8193 | Val Loss: 0.3916, Val Acc: 0.8134, Val Recall: 0.9268, Val F1: 0.8588\n"
     ]
    },
    {
     "name": "stderr",
     "output_type": "stream",
     "text": [
      "                                                                      \r"
     ]
    },
    {
     "name": "stdout",
     "output_type": "stream",
     "text": [
      "[INFO] No improvement in val_f1. Patience: 4/12\n",
      "Epoch [12]: Train Loss: 0.4054, Train Acc: 0.8119 | Val Loss: 0.3998, Val Acc: 0.8284, Val Recall: 0.8374, Val F1: 0.8565\n"
     ]
    },
    {
     "name": "stderr",
     "output_type": "stream",
     "text": [
      "                                                                      \r"
     ]
    },
    {
     "name": "stdout",
     "output_type": "stream",
     "text": [
      "[INFO] No improvement in val_f1. Patience: 5/12\n",
      "Epoch [13]: Train Loss: 0.4065, Train Acc: 0.8087 | Val Loss: 0.3931, Val Acc: 0.8159, Val Recall: 0.9228, Val F1: 0.8598\n"
     ]
    },
    {
     "name": "stderr",
     "output_type": "stream",
     "text": [
      "                                                                      \r"
     ]
    },
    {
     "name": "stdout",
     "output_type": "stream",
     "text": [
      "[INFO] No improvement in val_f1. Patience: 6/12\n",
      "Epoch [14]: Train Loss: 0.3714, Train Acc: 0.8331 | Val Loss: 0.3935, Val Acc: 0.8159, Val Recall: 0.9268, Val F1: 0.8604\n"
     ]
    },
    {
     "name": "stderr",
     "output_type": "stream",
     "text": [
      "                                                                      \r"
     ]
    },
    {
     "name": "stdout",
     "output_type": "stream",
     "text": [
      "[INFO] Best model saved with val_f1: 0.8659\n",
      "Epoch [15]: Train Loss: 0.3751, Train Acc: 0.8320 | Val Loss: 0.3901, Val Acc: 0.8259, Val Recall: 0.9187, Val F1: 0.8659\n"
     ]
    },
    {
     "name": "stderr",
     "output_type": "stream",
     "text": [
      "                                                                      \r"
     ]
    },
    {
     "name": "stdout",
     "output_type": "stream",
     "text": [
      "[INFO] No improvement in val_f1. Patience: 1/12\n",
      "Epoch [16]: Train Loss: 0.3941, Train Acc: 0.8198 | Val Loss: 0.3863, Val Acc: 0.8284, Val Recall: 0.8902, Val F1: 0.8639\n"
     ]
    },
    {
     "name": "stderr",
     "output_type": "stream",
     "text": [
      "                                                                      \r"
     ]
    },
    {
     "name": "stdout",
     "output_type": "stream",
     "text": [
      "[INFO] No improvement in val_f1. Patience: 2/12\n",
      "Epoch [17]: Train Loss: 0.4197, Train Acc: 0.8129 | Val Loss: 0.3865, Val Acc: 0.8209, Val Recall: 0.8740, Val F1: 0.8566\n"
     ]
    },
    {
     "name": "stderr",
     "output_type": "stream",
     "text": [
      "                                                                      \r"
     ]
    },
    {
     "name": "stdout",
     "output_type": "stream",
     "text": [
      "[INFO] No improvement in val_f1. Patience: 3/12\n",
      "Epoch [18]: Train Loss: 0.4069, Train Acc: 0.8076 | Val Loss: 0.3848, Val Acc: 0.8209, Val Recall: 0.9309, Val F1: 0.8642\n"
     ]
    },
    {
     "name": "stderr",
     "output_type": "stream",
     "text": [
      "                                                                      \r"
     ]
    },
    {
     "name": "stdout",
     "output_type": "stream",
     "text": [
      "[INFO] No improvement in val_f1. Patience: 4/12\n",
      "Epoch [19]: Train Loss: 0.3852, Train Acc: 0.8278 | Val Loss: 0.3777, Val Acc: 0.8284, Val Recall: 0.9024, Val F1: 0.8655\n"
     ]
    },
    {
     "name": "stderr",
     "output_type": "stream",
     "text": [
      "                                                                      \r"
     ]
    },
    {
     "name": "stdout",
     "output_type": "stream",
     "text": [
      "[INFO] No improvement in val_f1. Patience: 5/12\n",
      "Epoch [20]: Train Loss: 0.4054, Train Acc: 0.8092 | Val Loss: 0.3888, Val Acc: 0.8333, Val Recall: 0.8496, Val F1: 0.8619\n"
     ]
    },
    {
     "name": "stderr",
     "output_type": "stream",
     "text": [
      "                                                                      \r"
     ]
    },
    {
     "name": "stdout",
     "output_type": "stream",
     "text": [
      "[INFO] Best model saved with val_f1: 0.8719\n",
      "Epoch [21]: Train Loss: 0.3833, Train Acc: 0.8235 | Val Loss: 0.3793, Val Acc: 0.8333, Val Recall: 0.9268, Val F1: 0.8719\n"
     ]
    },
    {
     "name": "stderr",
     "output_type": "stream",
     "text": [
      "                                                                      \r"
     ]
    },
    {
     "name": "stdout",
     "output_type": "stream",
     "text": [
      "[INFO] No improvement in val_f1. Patience: 1/12\n",
      "Epoch [22]: Train Loss: 0.3899, Train Acc: 0.8288 | Val Loss: 0.3977, Val Acc: 0.8134, Val Recall: 0.9350, Val F1: 0.8598\n"
     ]
    },
    {
     "name": "stderr",
     "output_type": "stream",
     "text": [
      "                                                                      \r"
     ]
    },
    {
     "name": "stdout",
     "output_type": "stream",
     "text": [
      "[INFO] No improvement in val_f1. Patience: 2/12\n",
      "Epoch [23]: Train Loss: 0.3892, Train Acc: 0.8193 | Val Loss: 0.3904, Val Acc: 0.8234, Val Recall: 0.8577, Val F1: 0.8560\n"
     ]
    },
    {
     "name": "stderr",
     "output_type": "stream",
     "text": [
      "                                                                      \r"
     ]
    },
    {
     "name": "stdout",
     "output_type": "stream",
     "text": [
      "[INFO] No improvement in val_f1. Patience: 3/12\n",
      "Epoch [24]: Train Loss: 0.4059, Train Acc: 0.8103 | Val Loss: 0.3821, Val Acc: 0.8308, Val Recall: 0.8984, Val F1: 0.8667\n"
     ]
    },
    {
     "name": "stderr",
     "output_type": "stream",
     "text": [
      "                                                                      \r"
     ]
    },
    {
     "name": "stdout",
     "output_type": "stream",
     "text": [
      "[INFO] No improvement in val_f1. Patience: 4/12\n",
      "Epoch [25]: Train Loss: 0.3924, Train Acc: 0.8182 | Val Loss: 0.4017, Val Acc: 0.8184, Val Recall: 0.8089, Val F1: 0.8450\n"
     ]
    },
    {
     "name": "stderr",
     "output_type": "stream",
     "text": [
      "                                                                      \r"
     ]
    },
    {
     "name": "stdout",
     "output_type": "stream",
     "text": [
      "[INFO] No improvement in val_f1. Patience: 5/12\n",
      "Epoch [26]: Train Loss: 0.4080, Train Acc: 0.8103 | Val Loss: 0.4360, Val Acc: 0.7910, Val Recall: 0.9553, Val F1: 0.8484\n"
     ]
    },
    {
     "name": "stderr",
     "output_type": "stream",
     "text": [
      "                                                                      \r"
     ]
    },
    {
     "name": "stdout",
     "output_type": "stream",
     "text": [
      "[INFO] No improvement in val_f1. Patience: 6/12\n",
      "Epoch [27]: Train Loss: 0.4209, Train Acc: 0.8045 | Val Loss: 0.3861, Val Acc: 0.8308, Val Recall: 0.8659, Val F1: 0.8623\n"
     ]
    },
    {
     "name": "stderr",
     "output_type": "stream",
     "text": [
      "                                                                      \r"
     ]
    },
    {
     "name": "stdout",
     "output_type": "stream",
     "text": [
      "[INFO] No improvement in val_f1. Patience: 7/12\n",
      "Epoch [28]: Train Loss: 0.3813, Train Acc: 0.8341 | Val Loss: 0.3808, Val Acc: 0.8209, Val Recall: 0.9146, Val F1: 0.8621\n"
     ]
    },
    {
     "name": "stderr",
     "output_type": "stream",
     "text": [
      "                                                                      \r"
     ]
    },
    {
     "name": "stdout",
     "output_type": "stream",
     "text": [
      "[INFO] No improvement in val_f1. Patience: 8/12\n",
      "Epoch [29]: Train Loss: 0.3975, Train Acc: 0.8172 | Val Loss: 0.3842, Val Acc: 0.8308, Val Recall: 0.8577, Val F1: 0.8612\n"
     ]
    },
    {
     "name": "stderr",
     "output_type": "stream",
     "text": [
      "                                                                      \r"
     ]
    },
    {
     "name": "stdout",
     "output_type": "stream",
     "text": [
      "[INFO] No improvement in val_f1. Patience: 9/12\n",
      "Epoch [30]: Train Loss: 0.4040, Train Acc: 0.8193 | Val Loss: 0.3812, Val Acc: 0.8358, Val Recall: 0.8943, Val F1: 0.8696\n"
     ]
    },
    {
     "name": "stderr",
     "output_type": "stream",
     "text": [
      "                                                                      \r"
     ]
    },
    {
     "name": "stdout",
     "output_type": "stream",
     "text": [
      "[INFO] No improvement in val_f1. Patience: 10/12\n",
      "Epoch [31]: Train Loss: 0.4118, Train Acc: 0.8108 | Val Loss: 0.3829, Val Acc: 0.8308, Val Recall: 0.8984, Val F1: 0.8667\n"
     ]
    },
    {
     "name": "stderr",
     "output_type": "stream",
     "text": [
      "                                                                      \r"
     ]
    },
    {
     "name": "stdout",
     "output_type": "stream",
     "text": [
      "[INFO] No improvement in val_f1. Patience: 11/12\n",
      "Epoch [32]: Train Loss: 0.3901, Train Acc: 0.8156 | Val Loss: 0.3987, Val Acc: 0.8308, Val Recall: 0.8374, Val F1: 0.8583\n"
     ]
    },
    {
     "name": "stderr",
     "output_type": "stream",
     "text": [
      "                                                                      \r"
     ]
    },
    {
     "name": "stdout",
     "output_type": "stream",
     "text": [
      "[INFO] No improvement in val_f1. Patience: 12/12\n",
      "Epoch [33]: Train Loss: 0.3716, Train Acc: 0.8272 | Val Loss: 0.3861, Val Acc: 0.8259, Val Recall: 0.9024, Val F1: 0.8638\n",
      "[INFO] Final metrics saved to outputs/models/baseline\\final_metrics.json\n",
      "[INFO] Training stopped after 33 epochs. Best val_f1: 0.8719\n",
      "\n",
      "[INFO] Training completed successfully!\n",
      "Training completed in 0 hours, 2 minutes, and 0 seconds.\n"
     ]
    }
   ],
   "source": [
    "import time\n",
    "\n",
    "# Start the timer\n",
    "start_time = time.time()\n",
    "print(\"Training started...\")\n",
    "\n",
    "\n",
    "print(\"[INFO] Starting model training...\")\n",
    "history = train_model(\n",
    "    model=model,\n",
    "    train_loader=train_loader,\n",
    "    val_loader=val_loader,\n",
    "    criterion=criterion,\n",
    "    optimizer=optimizer,\n",
    "    scheduler=None,  # No learning rate scheduler for baseline\n",
    "    device=device,\n",
    "    save_path=f\"outputs/models/baseline/resnet18.pth\",\n",
    "    early_stop_patience=12,\n",
    "    monitor_metric=\"val_f1\",\n",
    ")\n",
    "print(\"[INFO] Training completed successfully!\")\n",
    "\n",
    "# Calculate and display elapsed time\n",
    "end_time = time.time()\n",
    "elapsed_time = end_time - start_time\n",
    "\n",
    "# Format elapsed time as hours, minutes, and seconds\n",
    "hours = int(elapsed_time // 3600)\n",
    "minutes = int((elapsed_time % 3600) // 60)\n",
    "seconds = int(elapsed_time % 60)\n",
    "\n",
    "print(f\"Training completed in {hours} hours, {minutes} minutes, and {seconds} seconds.\")\n"
   ]
  },
  {
   "cell_type": "code",
   "execution_count": 9,
   "metadata": {},
   "outputs": [
    {
     "name": "stdout",
     "output_type": "stream",
     "text": [
      "[INFO] Evaluating the model...\n",
      "[INFO] Evaluation metrics saved to outputs/plots/baseline/resnet18\\resnet18\\resnet18_evaluation.json\n",
      "\n",
      "[INFO] Metrics for ResNet18:\n",
      "{'classification_report': {'No Fire': {'precision': 0.8580645161290322, 'recall': 0.8364779874213837, 'f1-score': 0.8471337579617835, 'support': 159.0}, 'Fire': {'precision': 0.8980392156862745, 'recall': 0.9123505976095617, 'f1-score': 0.9051383399209486, 'support': 251.0}, 'accuracy': 0.8829268292682927, 'macro avg': {'precision': 0.8780518659076534, 'recall': 0.8744142925154728, 'f1-score': 0.8761360489413661, 'support': 410.0}, 'weighted avg': {'precision': 0.8825368321994416, 'recall': 0.8829268292682927, 'f1-score': 0.8826438800880041, 'support': 410.0}}, 'confusion_matrix': [[133, 26], [22, 229]], 'roc_auc': 0.9464782379914306, 'y_true': [0, 0, 0, 0, 0, 0, 0, 0, 0, 0, 0, 0, 0, 0, 0, 0, 0, 0, 0, 0, 0, 0, 0, 0, 0, 0, 0, 0, 0, 0, 0, 0, 0, 0, 0, 0, 0, 0, 0, 0, 0, 0, 0, 0, 0, 0, 0, 0, 0, 0, 0, 0, 0, 0, 0, 0, 0, 0, 0, 0, 0, 0, 0, 0, 0, 0, 0, 0, 0, 0, 0, 0, 0, 0, 0, 0, 0, 0, 0, 0, 0, 0, 0, 0, 0, 0, 0, 0, 0, 0, 0, 0, 0, 0, 0, 0, 0, 0, 0, 0, 0, 0, 0, 0, 0, 0, 0, 0, 0, 0, 0, 0, 0, 0, 0, 0, 0, 0, 0, 0, 0, 0, 0, 0, 0, 0, 0, 0, 0, 0, 0, 0, 0, 0, 0, 0, 0, 0, 0, 0, 0, 0, 0, 0, 0, 0, 0, 0, 0, 0, 0, 0, 0, 0, 0, 0, 0, 0, 0, 1, 1, 1, 1, 1, 1, 1, 1, 1, 1, 1, 1, 1, 1, 1, 1, 1, 1, 1, 1, 1, 1, 1, 1, 1, 1, 1, 1, 1, 1, 1, 1, 1, 1, 1, 1, 1, 1, 1, 1, 1, 1, 1, 1, 1, 1, 1, 1, 1, 1, 1, 1, 1, 1, 1, 1, 1, 1, 1, 1, 1, 1, 1, 1, 1, 1, 1, 1, 1, 1, 1, 1, 1, 1, 1, 1, 1, 1, 1, 1, 1, 1, 1, 1, 1, 1, 1, 1, 1, 1, 1, 1, 1, 1, 1, 1, 1, 1, 1, 1, 1, 1, 1, 1, 1, 1, 1, 1, 1, 1, 1, 1, 1, 1, 1, 1, 1, 1, 1, 1, 1, 1, 1, 1, 1, 1, 1, 1, 1, 1, 1, 1, 1, 1, 1, 1, 1, 1, 1, 1, 1, 1, 1, 1, 1, 1, 1, 1, 1, 1, 1, 1, 1, 1, 1, 1, 1, 1, 1, 1, 1, 1, 1, 1, 1, 1, 1, 1, 1, 1, 1, 1, 1, 1, 1, 1, 1, 1, 1, 1, 1, 1, 1, 1, 1, 1, 1, 1, 1, 1, 1, 1, 1, 1, 1, 1, 1, 1, 1, 1, 1, 1, 1, 1, 1, 1, 1, 1, 1, 1, 1, 1, 1, 1, 1, 1, 1, 1, 1, 1, 1, 1, 1, 1, 1, 1, 1, 1, 1, 1, 1, 1, 1, 1, 1, 1, 1, 1, 1, 1, 1, 1, 1, 1, 1, 1, 1, 1, 1, 1, 1], 'y_pred': [1, 1, 0, 0, 0, 0, 0, 0, 0, 0, 0, 0, 0, 1, 0, 0, 0, 0, 0, 0, 0, 0, 1, 0, 0, 0, 0, 1, 0, 1, 0, 0, 0, 0, 0, 0, 0, 0, 0, 0, 0, 0, 0, 0, 0, 0, 0, 0, 0, 0, 0, 0, 0, 0, 0, 0, 1, 1, 0, 0, 0, 0, 0, 0, 0, 0, 0, 0, 0, 0, 0, 1, 0, 0, 1, 1, 0, 0, 0, 0, 0, 0, 0, 1, 0, 1, 0, 0, 0, 1, 0, 0, 0, 0, 0, 0, 0, 0, 0, 0, 0, 0, 0, 0, 1, 0, 1, 0, 1, 0, 0, 0, 0, 0, 0, 0, 1, 0, 0, 0, 0, 0, 0, 0, 0, 0, 0, 1, 0, 1, 1, 0, 1, 0, 0, 0, 1, 0, 0, 1, 1, 1, 0, 0, 0, 0, 0, 0, 0, 0, 0, 0, 0, 0, 0, 0, 0, 0, 0, 1, 1, 1, 1, 0, 1, 1, 1, 0, 1, 1, 1, 1, 1, 1, 1, 1, 0, 1, 1, 1, 1, 1, 1, 1, 1, 1, 0, 1, 1, 1, 1, 1, 1, 1, 1, 1, 0, 1, 1, 1, 1, 1, 1, 1, 1, 0, 1, 1, 1, 1, 1, 1, 1, 1, 1, 1, 1, 1, 1, 1, 1, 1, 0, 1, 1, 1, 1, 1, 0, 1, 1, 1, 1, 1, 1, 1, 1, 1, 1, 1, 1, 0, 1, 1, 1, 1, 1, 1, 1, 1, 1, 1, 1, 1, 1, 1, 1, 1, 1, 1, 0, 1, 1, 1, 1, 1, 1, 1, 1, 1, 1, 1, 1, 1, 1, 1, 1, 0, 1, 1, 1, 1, 1, 1, 1, 1, 1, 1, 1, 1, 1, 1, 1, 1, 1, 1, 1, 1, 1, 0, 1, 1, 1, 1, 1, 1, 1, 1, 1, 1, 1, 1, 1, 1, 0, 1, 1, 0, 0, 0, 1, 1, 1, 1, 1, 0, 1, 0, 1, 1, 1, 1, 1, 1, 1, 1, 1, 1, 1, 1, 1, 1, 1, 0, 1, 1, 1, 1, 0, 1, 1, 1, 1, 1, 1, 1, 1, 1, 1, 1, 1, 1, 1, 1, 1, 1, 1, 1, 1, 1, 0, 1, 1, 1, 1, 1, 0, 1, 1, 1, 1, 1, 1, 1, 1, 1, 1, 1, 1, 1, 1, 1, 1, 1, 1, 1, 1, 1, 1, 1, 1, 1, 1, 1, 1, 1, 1, 1, 1, 1], 'y_scores': [0.5997480154037476, 0.6122758984565735, 0.2799263894557953, 0.322417676448822, 0.04388200491666794, 0.14130039513111115, 0.32011985778808594, 0.0008425099076703191, 0.006854045670479536, 0.12824532389640808, 0.011908062733709812, 0.030117761343717575, 0.00776432640850544, 0.5291550159454346, 0.012224134989082813, 0.1163933053612709, 0.09640368074178696, 0.2697964310646057, 0.025063972920179367, 0.008873757906258106, 0.1561463326215744, 0.3407829999923706, 0.531765341758728, 0.051573511213064194, 0.05110478028655052, 0.1849716603755951, 0.08027075976133347, 0.8696478009223938, 0.014739461243152618, 0.7980326414108276, 0.010423757135868073, 0.07185955345630646, 0.0874519795179367, 0.01891973242163658, 0.03114619478583336, 0.014198051765561104, 0.14487962424755096, 0.02019023336470127, 0.3306248188018799, 0.004938352853059769, 0.06443651765584946, 0.3424215316772461, 0.15171393752098083, 0.03327767923474312, 0.07680132985115051, 0.09688659757375717, 0.18774546682834625, 0.4375242292881012, 0.11332424730062485, 0.12458127737045288, 0.004918592981994152, 0.4325404465198517, 0.18301227688789368, 0.020184427499771118, 0.2248401790857315, 0.2813231348991394, 0.6937742233276367, 0.5622700452804565, 0.11658898741006851, 0.3339031934738159, 0.3085525333881378, 0.05699672922492027, 0.1315000057220459, 0.18625019490718842, 0.23064206540584564, 0.09231051802635193, 0.30312424898147583, 0.01698671095073223, 0.018631987273693085, 0.2967824637889862, 0.1391308307647705, 0.7561533451080322, 0.02841648831963539, 0.22918924689292908, 0.7297202348709106, 0.6496576070785522, 0.011049957014620304, 0.48255568742752075, 0.06917799264192581, 0.07563985139131546, 0.3499820828437805, 0.49741309881210327, 0.009957644157111645, 0.6715131402015686, 0.08340703696012497, 0.9113672375679016, 0.038984138518571854, 0.1523255556821823, 0.02711009792983532, 0.7405661344528198, 0.0739177018404007, 0.09935115277767181, 0.06065455079078674, 0.03015478141605854, 0.01885315030813217, 0.005543388891965151, 0.023826709017157555, 0.018965141847729683, 0.2277190387248993, 0.02033274434506893, 0.14381670951843262, 0.2588249742984772, 0.29849380254745483, 0.05384393408894539, 0.7959402203559875, 0.2395893931388855, 0.8714080452919006, 0.3919810652732849, 0.7823008894920349, 0.049604471772909164, 0.0422806590795517, 0.27804043889045715, 0.16410262882709503, 0.39749887585639954, 0.007970252074301243, 0.005405943375080824, 0.9143480062484741, 0.00833562109619379, 0.48110395669937134, 0.009243120439350605, 0.39304813742637634, 0.29888999462127686, 0.3369200527667999, 0.2648411989212036, 0.029226282611489296, 0.046397317200899124, 0.028683342039585114, 0.7732757329940796, 0.1213519349694252, 0.68107008934021, 0.6030514240264893, 0.10443851351737976, 0.717555582523346, 0.13587506115436554, 0.10950697213411331, 0.4361749291419983, 0.9544540643692017, 0.008803882636129856, 0.08065549284219742, 0.5139301419258118, 0.6308494210243225, 0.7785418629646301, 0.03952929005026817, 0.15820014476776123, 0.05123724415898323, 0.22696292400360107, 0.0036155611742287874, 0.04669679328799248, 0.23088523745536804, 0.03458642214536667, 0.027469173073768616, 0.25999078154563904, 0.003429568139836192, 0.23855797946453094, 0.21546928584575653, 0.06438585370779037, 0.26549357175827026, 0.25469067692756653, 0.44345319271087646, 0.9524202346801758, 0.6268821954727173, 0.6005836129188538, 0.9491491913795471, 0.29138752818107605, 0.8929648995399475, 0.9153826832771301, 0.8538359999656677, 0.40732452273368835, 0.7652450203895569, 0.541149377822876, 0.9384428262710571, 0.8962697386741638, 0.5921816825866699, 0.6729909181594849, 0.9480947852134705, 0.9953775405883789, 0.32828807830810547, 0.9474854469299316, 0.9743776321411133, 0.9913011193275452, 0.5415415167808533, 0.8881158828735352, 0.9009332060813904, 0.8958902359008789, 0.9621530175209045, 0.6413319706916809, 0.2398565411567688, 0.9837573170661926, 0.9210496544837952, 0.6607230305671692, 0.9098888039588928, 0.8652436137199402, 0.9033476114273071, 0.9796914458274841, 0.9757627248764038, 0.9879492521286011, 0.4290710985660553, 0.8438695073127747, 0.9883536100387573, 0.5399024486541748, 0.9914664030075073, 0.6788613200187683, 0.9202309250831604, 0.9833797812461853, 0.9805833101272583, 0.20381517708301544, 0.6685448288917542, 0.8536233901977539, 0.8498216867446899, 0.9948943853378296, 0.9774020910263062, 0.7760348916053772, 0.7888117432594299, 0.7112331986427307, 0.8074772953987122, 0.9222280979156494, 0.8368571400642395, 0.7699682116508484, 0.83050936460495, 0.9006037712097168, 0.7689940333366394, 0.9513646364212036, 0.4160695970058441, 0.9355248212814331, 0.9782840609550476, 0.8804689645767212, 0.5751866698265076, 0.9176004528999329, 0.27111104130744934, 0.9472230076789856, 0.9741114974021912, 0.5260679721832275, 0.9939497709274292, 0.9828523993492126, 0.8078140616416931, 0.7450137734413147, 0.8858041763305664, 0.9491371512413025, 0.9962467551231384, 0.8932913541793823, 0.8885805010795593, 0.2703400254249573, 0.8205406665802002, 0.8793498277664185, 0.7783021330833435, 0.9716817140579224, 0.9606989622116089, 0.9773550629615784, 0.9371034502983093, 0.8640450239181519, 0.782279908657074, 0.6125573515892029, 0.9170234799385071, 0.9765151739120483, 0.8943524956703186, 0.946278989315033, 0.9442164897918701, 0.9569953680038452, 0.9918144345283508, 0.8634438514709473, 0.38241735100746155, 0.8433994650840759, 0.6000155210494995, 0.8888853192329407, 0.9729282855987549, 0.6811191439628601, 0.9054464101791382, 0.803674042224884, 0.9856695532798767, 0.8658868670463562, 0.9677160382270813, 0.789207398891449, 0.8514508605003357, 0.9935346841812134, 0.9455522894859314, 0.9541014432907104, 0.9679487943649292, 0.4997654855251312, 0.9507355690002441, 0.9586343765258789, 0.988217294216156, 0.880700409412384, 0.9948652386665344, 0.7174555659294128, 0.8858850598335266, 0.8211084604263306, 0.8223963975906372, 0.8819223046302795, 0.9853089451789856, 0.9700967669487, 0.9949092268943787, 0.9854206442832947, 0.9979977011680603, 0.5523800849914551, 0.9436434507369995, 0.7848920226097107, 0.8580141663551331, 0.7151176929473877, 0.7893245220184326, 0.2688824236392975, 0.9121457934379578, 0.9493975639343262, 0.8966001272201538, 0.5423321723937988, 0.9338886141777039, 0.9929593801498413, 0.6670752763748169, 0.7467823028564453, 0.705613911151886, 0.9251536726951599, 0.9053024649620056, 0.9656375050544739, 0.9127188324928284, 0.6801471710205078, 0.43522703647613525, 0.9117304682731628, 0.9273704290390015, 0.15308251976966858, 0.3552144467830658, 0.48656147718429565, 0.9765372276306152, 0.79515540599823, 0.6967986822128296, 0.7778938412666321, 0.8842359781265259, 0.216319277882576, 0.7993205189704895, 0.22478631138801575, 0.7071075439453125, 0.9879170060157776, 0.971340000629425, 0.9806932806968689, 0.6812187433242798, 0.8815803527832031, 0.8962711691856384, 0.8008320331573486, 0.9801440834999084, 0.9899806380271912, 0.8244647979736328, 0.8897358775138855, 0.9652140736579895, 0.9756277203559875, 0.9320851564407349, 0.2787211239337921, 0.8208365440368652, 0.7752167582511902, 0.9839193224906921, 0.8549777865409851, 0.3146262764930725, 0.8966136574745178, 0.9057989120483398, 0.9836342334747314, 0.5280950665473938, 0.8548701405525208, 0.991619348526001, 0.9913144707679749, 0.981012761592865, 0.976918637752533, 0.9087156653404236, 0.8320979475975037, 0.9507877230644226, 0.8512424826622009, 0.9303480386734009, 0.7660835385322571, 0.9542796611785889, 0.9391152262687683, 0.8173519968986511, 0.9740997552871704, 0.9914946556091309, 0.9457261562347412, 0.4008444845676422, 0.9698096513748169, 0.9908145070075989, 0.6474156975746155, 0.9612119197845459, 0.7963882088661194, 0.09971924871206284, 0.9343656897544861, 0.9006342887878418, 0.932462215423584, 0.8315261006355286, 0.950075626373291, 0.9658070802688599, 0.825364351272583, 0.9054213166236877, 0.8848841786384583, 0.8312784433364868, 0.9139847755432129, 0.5768204927444458, 0.6066096425056458, 0.9685031771659851, 0.7026873230934143, 0.9005920886993408, 0.6865557432174683, 0.9496076703071594, 0.9241538047790527, 0.7249581217765808, 0.9919174313545227, 0.9242446422576904, 0.9905505180358887, 0.9800686836242676, 0.972706139087677, 0.8622688055038452, 0.8781824707984924, 0.983428418636322, 0.9941925406455994, 0.8508329391479492, 0.980983316898346, 0.9378811717033386, 0.8975986838340759]}\n"
     ]
    }
   ],
   "source": [
    "print(\"[INFO] Evaluating the model...\")\n",
    "metrics = evaluate_model(\n",
    "    model=model,\n",
    "    test_loader=test_loader,\n",
    "    classes=[\"No Fire\", \"Fire\"],\n",
    "    device=device,\n",
    "    model_name=\"resnet18\",\n",
    "    save_base_path=\"outputs/plots/baseline/resnet18\",\n",
    ")\n",
    "print(f\"\\n[INFO] Metrics for ResNet18:\\n{metrics}\")"
   ]
  },
  {
   "cell_type": "code",
   "execution_count": 10,
   "metadata": {},
   "outputs": [
    {
     "name": "stdout",
     "output_type": "stream",
     "text": [
      "[INFO] Training plot saved to outputs/plots/baseline/resnet18_baseline_training_curve.png\n",
      "[INFO] Confusion matrix saved to outputs/plots/baseline/resnet18_baseline_confusion_matrix.png\n",
      "[INFO] All results saved successfully!\n"
     ]
    },
    {
     "data": {
      "image/png": "[encoded data removed]",
      "text/plain": [
       "<Figure size 1200x600 with 2 Axes>"
      ]
     },
     "metadata": {},
     "output_type": "display_data"
    },
    {
     "data": {
      "image/png": "[encoded data removed]",
      "text/plain": [
       "<Figure size 800x800 with 2 Axes>"
      ]
     },
     "metadata": {},
     "output_type": "display_data"
    },
    {
     "ename": "",
     "evalue": "",
     "output_type": "error",
     "traceback": [
      "\u001b[1;31mThe Kernel crashed while executing code in the current cell or a previous cell. \n",
      "\u001b[1;31mPlease review the code in the cell(s) to identify a possible cause of the failure. \n",
      "\u001b[1;31mClick <a href='https://aka.ms/vscodeJupyterKernelCrash'>here</a> for more info. \n",
      "\u001b[1;31mView Jupyter <a href='command:jupyter.viewOutput'>log</a> for further details."
     ]
    }
   ],
   "source": [
    "# Training and Validation Curves\n",
    "plot_training(history, f\"outputs/plots/baseline/resnet18_baseline_training_curve.png\")\n",
    "\n",
    "# Confusion Matrix\n",
    "plot_confusion_matrix(\n",
    "    cm=metrics[\"confusion_matrix\"],\n",
    "    classes=[\"No Fire\", \"Fire\"],\n",
    "    output_path=f\"outputs/plots/baseline/resnet18_baseline_confusion_matrix.png\"\n",
    ")\n",
    "\n",
    "# Precision-Recall Curve\n",
    "if \"y_probs\" in metrics:\n",
    "    y_true = metrics[\"y_true\"]\n",
    "    y_probs = [prob[1] for prob in metrics[\"y_probs\"]]\n",
    "    plot_precision_recall(\n",
    "        y_true=y_true,\n",
    "        y_scores=y_probs,\n",
    "        output_path=f\"outputs/plots/baseline/resnet18_baseline_precision_recall_curve.png\"\n",
    "    )\n",
    "\n",
    "    # ROC Curve\n",
    "    plot_roc_curve(\n",
    "        y_true=y_true,\n",
    "        y_scores=y_probs,\n",
    "        output_path=f\"outputs/plots/baseline/resnet18_baseline_roc_curve.png\"\n",
    "    )\n",
    "\n",
    "print(\"[INFO] All results saved successfully!\")"
   ]
  }
 ],
 "metadata": {
  "kernelspec": {
   "display_name": "env",
   "language": "python",
   "name": "python3"
  },
  "language_info": {
   "codemirror_mode": {
    "name": "ipython",
    "version": 3
   },
   "file_extension": ".py",
   "mimetype": "text/x-python",
   "name": "python",
   "nbconvert_exporter": "python",
   "pygments_lexer": "ipython3",
   "version": "3.11.9"
  }
 },
 "nbformat": 4,
 "nbformat_minor": 4
}
