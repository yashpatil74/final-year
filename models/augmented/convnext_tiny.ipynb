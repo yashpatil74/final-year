{
 "cells": [
  {
   "cell_type": "code",
   "execution_count": 1,
   "metadata": {},
   "outputs": [],
   "source": [
    "import os\n",
    "os.chdir(\"../..\")"
   ]
  },
  {
   "cell_type": "code",
   "execution_count": 2,
   "metadata": {},
   "outputs": [],
   "source": [
    "import torch\n",
    "from utils.dataset_loader import load_datasets\n",
    "from utils.model_utils import initialize_model\n",
    "from utils.train_utils import train_model\n",
    "from utils.metrics import evaluate_model\n",
    "from utils.visualization import plot_training, plot_confusion_matrix"
   ]
  },
  {
   "cell_type": "code",
   "execution_count": 3,
   "metadata": {},
   "outputs": [
    {
     "name": "stdout",
     "output_type": "stream",
     "text": [
      "[INFO] Using device: cuda\n"
     ]
    }
   ],
   "source": [
    "device = torch.device(\"cuda\" if torch.cuda.is_available() else \"cpu\")\n",
    "print(f\"[INFO] Using device: {device}\")"
   ]
  },
  {
   "cell_type": "code",
   "execution_count": 4,
   "metadata": {},
   "outputs": [],
   "source": [
    "data_dir = \"wildfire_dataset_scaled\"\n",
    "batch_size = 32\n",
    "num_epochs = 20\n",
    "learning_rate = 0.001\n",
    "num_classes = 2"
   ]
  },
  {
   "cell_type": "code",
   "execution_count": 6,
   "metadata": {},
   "outputs": [
    {
     "name": "stdout",
     "output_type": "stream",
     "text": [
      "[INFO] Loading augmented datasets...\n",
      "[INFO] Augmented datasets loaded successfully!\n"
     ]
    }
   ],
   "source": [
    "print(\"[INFO] Loading augmented datasets...\")\n",
    "train_loader, val_loader, test_loader = load_datasets(data_dir, batch_size, augmentation=\"augmented\")\n",
    "print(\"[INFO] Augmented datasets loaded successfully!\")\n",
    "\n"
   ]
  },
  {
   "cell_type": "code",
   "execution_count": 7,
   "metadata": {},
   "outputs": [
    {
     "name": "stdout",
     "output_type": "stream",
     "text": [
      "\n",
      "[INFO] Starting Training for Model: vgg16 with Augmented Data\n",
      "\n",
      "[INFO] Initializing VGG16 model...\n",
      "[INFO] Model initialized successfully!\n"
     ]
    }
   ],
   "source": [
    "print(\"\\n[INFO] Starting Training for Model: vgg16 with Augmented Data\\n\")\n",
    "print(\"[INFO] Initializing VGG16 model...\")\n",
    "model = initialize_model(\n",
    "    model_name=\"convnext_tiny\",\n",
    "    num_classes=num_classes,\n",
    "    pretrained=True,\n",
    "    freeze_all=True  # Augmented data: still freeze all layers\n",
    ")\n",
    "print(\"[INFO] Model initialized successfully!\")"
   ]
  },
  {
   "cell_type": "code",
   "execution_count": 8,
   "metadata": {},
   "outputs": [
    {
     "name": "stdout",
     "output_type": "stream",
     "text": [
      "[INFO] Setting up loss function and optimizer...\n",
      "[INFO] Loss function and optimizer set up!\n"
     ]
    }
   ],
   "source": [
    "print(\"[INFO] Setting up loss function and optimizer...\")\n",
    "criterion = torch.nn.CrossEntropyLoss()\n",
    "optimizer = torch.optim.Adam(filter(lambda p: p.requires_grad, model.parameters()), lr=learning_rate)\n",
    "print(\"[INFO] Loss function and optimizer set up!\")"
   ]
  },
  {
   "cell_type": "code",
   "execution_count": 10,
   "metadata": {},
   "outputs": [
    {
     "name": "stdout",
     "output_type": "stream",
     "text": [
      "[INFO] Starting model training with augmented data...\n",
      "\n",
      "Starting training...\n",
      "\n"
     ]
    },
    {
     "name": "stderr",
     "output_type": "stream",
     "text": [
      "                                                                                                                              "
     ]
    },
    {
     "name": "stdout",
     "output_type": "stream",
     "text": [
      "Epoch [1]: Train Loss: 0.4972, Train Acc: 0.7477 | Val Loss: 0.4143, Val Acc: 0.8209, Val Recall: 0.9065, Val F1: 0.8610\n",
      "[INFO] Best model saved with val_loss: 0.4143\n"
     ]
    },
    {
     "name": "stderr",
     "output_type": "stream",
     "text": [
      "                                                                                                                              "
     ]
    },
    {
     "name": "stdout",
     "output_type": "stream",
     "text": [
      "Epoch [2]: Train Loss: 0.4024, Train Acc: 0.8182 | Val Loss: 0.3827, Val Acc: 0.8358, Val Recall: 0.9228, Val F1: 0.8731\n",
      "[INFO] Best model saved with val_loss: 0.3827\n"
     ]
    },
    {
     "name": "stderr",
     "output_type": "stream",
     "text": [
      "                                                                                                                              "
     ]
    },
    {
     "name": "stdout",
     "output_type": "stream",
     "text": [
      "Epoch [3]: Train Loss: 0.3812, Train Acc: 0.8230 | Val Loss: 0.3837, Val Acc: 0.8184, Val Recall: 0.9268, Val F1: 0.8620\n",
      "[INFO] No improvement in val_loss. Patience: 1/5\n"
     ]
    },
    {
     "name": "stderr",
     "output_type": "stream",
     "text": [
      "                                                                                                                              "
     ]
    },
    {
     "name": "stdout",
     "output_type": "stream",
     "text": [
      "Epoch [4]: Train Loss: 0.3623, Train Acc: 0.8325 | Val Loss: 0.3626, Val Acc: 0.8308, Val Recall: 0.9268, Val F1: 0.8702\n",
      "[INFO] Best model saved with val_loss: 0.3626\n"
     ]
    },
    {
     "name": "stderr",
     "output_type": "stream",
     "text": [
      "                                                                                                                              "
     ]
    },
    {
     "name": "stdout",
     "output_type": "stream",
     "text": [
      "Epoch [5]: Train Loss: 0.3480, Train Acc: 0.8378 | Val Loss: 0.3542, Val Acc: 0.8557, Val Recall: 0.9268, Val F1: 0.8872\n",
      "[INFO] Best model saved with val_loss: 0.3542\n"
     ]
    },
    {
     "name": "stderr",
     "output_type": "stream",
     "text": [
      "                                                                                                                              "
     ]
    },
    {
     "name": "stdout",
     "output_type": "stream",
     "text": [
      "Epoch [6]: Train Loss: 0.3465, Train Acc: 0.8341 | Val Loss: 0.3556, Val Acc: 0.8284, Val Recall: 0.8821, Val F1: 0.8628\n",
      "[INFO] No improvement in val_loss. Patience: 1/5\n"
     ]
    },
    {
     "name": "stderr",
     "output_type": "stream",
     "text": [
      "                                                                                                                              "
     ]
    },
    {
     "name": "stdout",
     "output_type": "stream",
     "text": [
      "Epoch [7]: Train Loss: 0.3209, Train Acc: 0.8516 | Val Loss: 0.3377, Val Acc: 0.8532, Val Recall: 0.9309, Val F1: 0.8859\n",
      "[INFO] Best model saved with val_loss: 0.3377\n"
     ]
    },
    {
     "name": "stderr",
     "output_type": "stream",
     "text": [
      "                                                                                                                              "
     ]
    },
    {
     "name": "stdout",
     "output_type": "stream",
     "text": [
      "Epoch [8]: Train Loss: 0.3392, Train Acc: 0.8325 | Val Loss: 0.3468, Val Acc: 0.8532, Val Recall: 0.9390, Val F1: 0.8868\n",
      "[INFO] No improvement in val_loss. Patience: 1/5\n"
     ]
    },
    {
     "name": "stderr",
     "output_type": "stream",
     "text": [
      "                                                                                                                              "
     ]
    },
    {
     "name": "stdout",
     "output_type": "stream",
     "text": [
      "Epoch [9]: Train Loss: 0.3333, Train Acc: 0.8426 | Val Loss: 0.3481, Val Acc: 0.8259, Val Recall: 0.8862, Val F1: 0.8617\n",
      "[INFO] No improvement in val_loss. Patience: 2/5\n"
     ]
    },
    {
     "name": "stderr",
     "output_type": "stream",
     "text": [
      "                                                                                                                              "
     ]
    },
    {
     "name": "stdout",
     "output_type": "stream",
     "text": [
      "Epoch [10]: Train Loss: 0.3226, Train Acc: 0.8559 | Val Loss: 0.3195, Val Acc: 0.8532, Val Recall: 0.8984, Val F1: 0.8822\n",
      "[INFO] Best model saved with val_loss: 0.3195\n"
     ]
    },
    {
     "name": "stderr",
     "output_type": "stream",
     "text": [
      "                                                                                                                              "
     ]
    },
    {
     "name": "stdout",
     "output_type": "stream",
     "text": [
      "Epoch [11]: Train Loss: 0.3102, Train Acc: 0.8622 | Val Loss: 0.3299, Val Acc: 0.8383, Val Recall: 0.8455, Val F1: 0.8649\n",
      "[INFO] No improvement in val_loss. Patience: 1/5\n"
     ]
    },
    {
     "name": "stderr",
     "output_type": "stream",
     "text": [
      "                                                                                                                              "
     ]
    },
    {
     "name": "stdout",
     "output_type": "stream",
     "text": [
      "Epoch [12]: Train Loss: 0.3188, Train Acc: 0.8569 | Val Loss: 0.3558, Val Acc: 0.8607, Val Recall: 0.9512, Val F1: 0.8931\n",
      "[INFO] No improvement in val_loss. Patience: 2/5\n"
     ]
    },
    {
     "name": "stderr",
     "output_type": "stream",
     "text": [
      "                                                                                                                              "
     ]
    },
    {
     "name": "stdout",
     "output_type": "stream",
     "text": [
      "Epoch [13]: Train Loss: 0.3046, Train Acc: 0.8521 | Val Loss: 0.3369, Val Acc: 0.8433, Val Recall: 0.8699, Val F1: 0.8717\n",
      "[INFO] No improvement in val_loss. Patience: 3/5\n"
     ]
    },
    {
     "name": "stderr",
     "output_type": "stream",
     "text": [
      "                                                                                                                              "
     ]
    },
    {
     "name": "stdout",
     "output_type": "stream",
     "text": [
      "Epoch [14]: Train Loss: 0.3078, Train Acc: 0.8617 | Val Loss: 0.3354, Val Acc: 0.8682, Val Recall: 0.9431, Val F1: 0.8975\n",
      "[INFO] No improvement in val_loss. Patience: 4/5\n"
     ]
    },
    {
     "name": "stderr",
     "output_type": "stream",
     "text": [
      "                                                                                                                              "
     ]
    },
    {
     "name": "stdout",
     "output_type": "stream",
     "text": [
      "Epoch [15]: Train Loss: 0.2974, Train Acc: 0.8659 | Val Loss: 0.3462, Val Acc: 0.8582, Val Recall: 0.8984, Val F1: 0.8858\n",
      "[INFO] No improvement in val_loss. Patience: 5/5\n",
      "[INFO] Training stopped after 15 epochs.\n",
      "\n",
      "[INFO] Training completed successfully!\n"
     ]
    }
   ],
   "source": [
    "print(\"[INFO] Starting model training with augmented data...\")\n",
    "history = train_model(\n",
    "    model=model,\n",
    "    train_loader=train_loader,\n",
    "    val_loader=val_loader,\n",
    "    criterion=criterion,\n",
    "    optimizer=optimizer,\n",
    "    scheduler=None,  # No learning rate scheduler for this stage\n",
    "    device=device,\n",
    "    save_path=\"outputs/models/augmented/convnext_tiny.pt\",\n",
    "    early_stop_patience=5,  # Stop after 5 epochs without improvement\n",
    "    monitor_metric=\"val_loss\"\n",
    "\n",
    ")\n",
    "print(\"[INFO] Training completed successfully!\")"
   ]
  },
  {
   "cell_type": "code",
   "execution_count": 11,
   "metadata": {},
   "outputs": [
    {
     "name": "stdout",
     "output_type": "stream",
     "text": [
      "[INFO] Evaluating the model...\n",
      "\n",
      "[INFO] Metrics for VGG16 with Augmented Data:\n",
      "{'classification_report': {'No Fire': {'precision': 0.8407643312101911, 'recall': 0.8301886792452831, 'f1-score': 0.8354430379746836, 'support': 159.0}, 'Fire': {'precision': 0.8932806324110671, 'recall': 0.900398406374502, 'f1-score': 0.8968253968253969, 'support': 251.0}, 'accuracy': 0.8731707317073171, 'macro avg': {'precision': 0.8670224818106291, 'recall': 0.8652935428098925, 'f1-score': 0.8661342174000402, 'support': 410.0}, 'weighted avg': {'precision': 0.8729145546282884, 'recall': 0.8731707317073171, 'f1-score': 0.8730210186369496, 'support': 410.0}}, 'confusion_matrix': array([[132,  27],\n",
      "       [ 25, 226]]), 'roc_auc': np.float64(0.8652935428098926)}\n"
     ]
    }
   ],
   "source": [
    "# Evaluate Model\n",
    "print(\"[INFO] Evaluating the model...\")\n",
    "metrics = evaluate_model(\n",
    "    model=model,\n",
    "    test_loader=test_loader,\n",
    "    classes=[\"No Fire\", \"Fire\"],\n",
    "    device=device\n",
    ")\n",
    "print(f\"\\n[INFO] Metrics for VGG16 with Augmented Data:\\n{metrics}\")"
   ]
  },
  {
   "cell_type": "code",
   "execution_count": 12,
   "metadata": {},
   "outputs": [
    {
     "name": "stdout",
     "output_type": "stream",
     "text": [
      "[INFO] Saving training and evaluation results...\n"
     ]
    },
    {
     "data": {
      "image/png": "[encoded data removed]",
      "text/plain": [
       "<Figure size 1000x500 with 1 Axes>"
      ]
     },
     "metadata": {},
     "output_type": "display_data"
    },
    {
     "data": {
      "image/png": "[encoded data removed]",
      "text/plain": [
       "<Figure size 800x800 with 2 Axes>"
      ]
     },
     "metadata": {},
     "output_type": "display_data"
    },
    {
     "name": "stdout",
     "output_type": "stream",
     "text": [
      "[INFO] Results saved successfully!\n"
     ]
    }
   ],
   "source": [
    "# Save Plots\n",
    "print(\"[INFO] Saving training and evaluation results...\")\n",
    "plot_training(history, \"outputs/vgg16_augmented_training_curve.png\")\n",
    "plot_confusion_matrix(\n",
    "    cm=metrics[\"confusion_matrix\"],\n",
    "    classes=[\"No Fire\", \"Fire\"],\n",
    "    output_path=\"outputs/vgg16_augmented_confusion_matrix.png\"\n",
    ")\n",
    "print(\"[INFO] Results saved successfully!\")"
   ]
  },
  {
   "cell_type": "code",
   "execution_count": null,
   "metadata": {},
   "outputs": [],
   "source": []
  }
 ],
 "metadata": {
  "kernelspec": {
   "display_name": "Python 3 (ipykernel)",
   "language": "python",
   "name": "python3"
  },
  "language_info": {
   "codemirror_mode": {
    "name": "ipython",
    "version": 3
   },
   "file_extension": ".py",
   "mimetype": "text/x-python",
   "name": "python",
   "nbconvert_exporter": "python",
   "pygments_lexer": "ipython3",
   "version": "3.12.6"
  }
 },
 "nbformat": 4,
 "nbformat_minor": 4
}
