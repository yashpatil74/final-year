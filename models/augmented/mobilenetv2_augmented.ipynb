{
 "cells": [
  {
   "cell_type": "code",
   "execution_count": 1,
   "metadata": {},
   "outputs": [],
   "source": [
    "import os\n",
    "os.chdir(\"../..\")"
   ]
  },
  {
   "cell_type": "code",
   "execution_count": 2,
   "metadata": {},
   "outputs": [],
   "source": [
    "import torch\n",
    "from utils.dataset_loader import *\n",
    "from utils.model_utils import *\n",
    "from utils.train_utils import *\n",
    "from utils.metrics import *\n",
    "from utils.visualization import *"
   ]
  },
  {
   "cell_type": "code",
   "execution_count": null,
   "metadata": {},
   "outputs": [],
   "source": [
    "device = torch.device(\"cuda\" if torch.cuda.is_available() else \"cpu\")\n",
    "print(f\"[INFO] Using device: {device}\")"
   ]
  },
  {
   "cell_type": "code",
   "execution_count": 4,
   "metadata": {},
   "outputs": [],
   "source": [
    "data_dir = \"wildfire_dataset_scaled\"\n",
    "batch_size = 32\n",
    "learning_rate = 0.0008\n",
    "num_classes = 2\n",
    "model_name = \"mobilenet_v2\"\n",
    "output_dir = \"outputs/models/augmented\"\n",
    "metrics_output_dir = \"outputs/plots/augmented\"\n",
    "os.makedirs(output_dir, exist_ok=True)\n"
   ]
  },
  {
   "cell_type": "code",
   "execution_count": null,
   "metadata": {},
   "outputs": [],
   "source": [
    "print(\"[INFO] Loading augmented datasets...\")\n",
    "train_loader, val_loader, test_loader = load_datasets(\n",
    "    data_dir=data_dir, batch_size=batch_size, augmentation=\"augmented\"\n",
    ")\n",
    "print(\"[INFO] Augmented datasets loaded successfully!\")"
   ]
  },
  {
   "cell_type": "code",
   "execution_count": null,
   "metadata": {},
   "outputs": [],
   "source": [
    "# Initialize the model\n",
    "print(f\"\\n[INFO] Starting Training for Model: {model_name} with Augmented Data\\n\")\n",
    "print(f\"[INFO] Initializing {model_name} model...\")\n",
    "model = initialize_model(\n",
    "    model_name=model_name,\n",
    "    num_classes=num_classes,\n",
    "    pretrained=True,\n",
    "    freeze_all=True  # Baseline augmentation: Freeze all layers\n",
    ")\n",
    "print(\"[INFO] Model initialized successfully!\")"
   ]
  },
  {
   "cell_type": "code",
   "execution_count": null,
   "metadata": {},
   "outputs": [],
   "source": [
    "# Define loss function and optimizer\n",
    "print(\"[INFO] Setting up loss function and optimizer...\")\n",
    "criterion = torch.nn.CrossEntropyLoss()\n",
    "optimizer = torch.optim.Adam(filter(lambda p: p.requires_grad, model.parameters()), lr=learning_rate)\n",
    "print(\"[INFO] Loss function and optimizer set up!\")"
   ]
  },
  {
   "cell_type": "code",
   "execution_count": null,
   "metadata": {},
   "outputs": [],
   "source": [
    "# Train the model\n",
    "\n",
    "from torch.optim.lr_scheduler import StepLR\n",
    "\n",
    "import time\n",
    "\n",
    "# Start the timer\n",
    "start_time = time.time()\n",
    "print(\"Training started...\")\n",
    "\n",
    "\n",
    "scheduler = StepLR(optimizer, step_size=5, gamma=0.5)\n",
    "print(\"[INFO] Starting model training with augmented data...\")\n",
    "history = train_model(\n",
    "    model=model,\n",
    "    train_loader=train_loader,\n",
    "    val_loader=val_loader,\n",
    "    criterion=criterion,\n",
    "    optimizer=optimizer,\n",
    "    scheduler=scheduler,  # No LR scheduler for augmented baseline\n",
    "    device=device,\n",
    "    save_path=os.path.join(output_dir, f\"{model_name}_augmented.pt\"),\n",
    "    early_stop_patience=10,  # Early stopping patience\n",
    "    monitor_metric=\"val_f1\"\n",
    ")\n",
    "print(\"[INFO] Training completed successfully!\")\n",
    "\n",
    "# Calculate and display elapsed time\n",
    "end_time = time.time()\n",
    "elapsed_time = end_time - start_time\n",
    "\n",
    "# Format elapsed time as hours, minutes, and seconds\n",
    "hours = int(elapsed_time // 3600)\n",
    "minutes = int((elapsed_time % 3600) // 60)\n",
    "seconds = int(elapsed_time % 60)\n",
    "\n",
    "print(f\"Training completed in {hours} hours, {minutes} minutes, and {seconds} seconds.\")\n"
   ]
  },
  {
   "cell_type": "code",
   "execution_count": null,
   "metadata": {},
   "outputs": [],
   "source": [
    "# Evaluate the model\n",
    "print(\"[INFO] Evaluating the model...\")\n",
    "metrics = evaluate_model(\n",
    "    model=model,\n",
    "    test_loader=test_loader,\n",
    "    classes=[\"No Fire\", \"Fire\"],\n",
    "    device=device,\n",
    "    model_name=model_name,\n",
    "    save_base_path=metrics_output_dir+f\"/{model_name}_augmented\"\n",
    ")\n",
    "print(f\"\\n[INFO] Metrics for {model_name} with Augmented Data:\\n{metrics}\")"
   ]
  },
  {
   "cell_type": "code",
   "execution_count": null,
   "metadata": {},
   "outputs": [],
   "source": [
    "print(\"[INFO] Saving training and evaluation results...\")\n",
    "\n",
    "# Training curve\n",
    "plot_training(\n",
    "    history, output_path=os.path.join(metrics_output_dir, f\"{model_name}_augmented_training_curve.png\")\n",
    ")\n",
    "\n",
    "# Confusion matrix\n",
    "plot_confusion_matrix(\n",
    "    cm=metrics[\"confusion_matrix\"],\n",
    "    classes=[\"No Fire\", \"Fire\"],\n",
    "    output_path=os.path.join(metrics_output_dir, f\"{model_name}_augmented_confusion_matrix.png\")\n",
    ")\n",
    "\n",
    "# ROC Curve\n",
    "plot_roc_curve(\n",
    "    y_true=metrics[\"y_true\"],\n",
    "    y_scores=metrics[\"y_scores\"],\n",
    "    output_path=os.path.join(metrics_output_dir, f\"{model_name}_augmented_roc_curve.png\")\n",
    ")\n",
    "\n",
    "# Precision-Recall Curve\n",
    "plot_precision_recall(\n",
    "    y_true=metrics[\"y_true\"],\n",
    "    y_scores=metrics[\"y_scores\"],\n",
    "    output_path=os.path.join(metrics_output_dir, f\"{model_name}_augmented_precision_recall.png\")\n",
    ")\n",
    "\n",
    "print(\"[INFO] All results saved successfully!\")"
   ]
  }
 ],
 "metadata": {
  "kernelspec": {
   "display_name": "env",
   "language": "python",
   "name": "python3"
  },
  "language_info": {
   "codemirror_mode": {
    "name": "ipython",
    "version": 3
   },
   "file_extension": ".py",
   "mimetype": "text/x-python",
   "name": "python",
   "nbconvert_exporter": "python",
   "pygments_lexer": "ipython3",
   "version": "3.11.9"
  }
 },
 "nbformat": 4,
 "nbformat_minor": 4
}
