{
 "cells": [
  {
   "cell_type": "code",
   "execution_count": 1,
   "metadata": {},
   "outputs": [],
   "source": [
    "import os\n",
    "os.chdir(\"../..\")"
   ]
  },
  {
   "cell_type": "code",
   "execution_count": 2,
   "metadata": {},
   "outputs": [],
   "source": [
    "import torch\n",
    "from utils.dataset_loader import *\n",
    "from utils.model_utils import *\n",
    "from utils.train_utils import *\n",
    "from utils.metrics import *\n",
    "from utils.visualization import *"
   ]
  },
  {
   "cell_type": "code",
   "execution_count": 3,
   "metadata": {},
   "outputs": [
    {
     "name": "stdout",
     "output_type": "stream",
     "text": [
      "[INFO] Using device: cuda\n"
     ]
    }
   ],
   "source": [
    "device = torch.device(\"cuda\" if torch.cuda.is_available() else \"cpu\")\n",
    "print(f\"[INFO] Using device: {device}\")"
   ]
  },
  {
   "cell_type": "code",
   "execution_count": 4,
   "metadata": {},
   "outputs": [],
   "source": [
    "data_dir = \"wildfire_dataset_scaled\"\n",
    "batch_size = 16\n",
    "learning_rate = 0.0003\n",
    "num_classes = 2\n",
    "model_name = \"efficientnet_b0\"\n",
    "output_dir = \"outputs/models/augmented\"\n",
    "os.makedirs(output_dir, exist_ok=True)\n"
   ]
  },
  {
   "cell_type": "code",
   "execution_count": 5,
   "metadata": {},
   "outputs": [
    {
     "name": "stderr",
     "output_type": "stream",
     "text": [
      "2024-12-21 16:19:10,634 - INFO - Loading datasets from wildfire_dataset_scaled with augmentation type 'augmented'.\n",
      "2024-12-21 16:19:10,635 - INFO - Applying advanced augmentations: Flip, Rotate, Noise, and more.\n",
      "c:\\Users\\Yash\\Documents\\Development\\Projects\\final_year\\env\\Lib\\site-packages\\pydantic\\main.py:214: UserWarning: blur_limit and sigma_limit minimum value can not be both equal to 0. blur_limit minimum value changed to 3.\n",
      "  validated_self = self.__pydantic_validator__.validate_python(data, self_instance=self)\n",
      "2024-12-21 16:19:10,669 - INFO - Initialized AlbumentationsDataset with root: wildfire_dataset_scaled/train\n",
      "2024-12-21 16:19:10,673 - INFO - Initialized AlbumentationsDataset with root: wildfire_dataset_scaled/val\n",
      "2024-12-21 16:19:10,676 - INFO - Initialized AlbumentationsDataset with root: wildfire_dataset_scaled/test\n",
      "2024-12-21 16:19:10,676 - INFO - Datasets initialized. Preparing DataLoaders...\n",
      "2024-12-21 16:19:10,677 - INFO - Using WeightedRandomSampler for class balancing.\n",
      "2024-12-21 16:19:10,678 - INFO - Computing class weights from directory: wildfire_dataset_scaled/train\n",
      "2024-12-21 16:19:10,680 - INFO - Class 'fire' has 730 samples.\n",
      "2024-12-21 16:19:10,683 - INFO - Class 'nofire' has 1157 samples.\n",
      "2024-12-21 16:19:10,684 - INFO - Computed class weights: {'fire': 2.584931506849315, 'nofire': 1.630942091616249}\n"
     ]
    },
    {
     "name": "stdout",
     "output_type": "stream",
     "text": [
      "[INFO] Loading augmented datasets...\n"
     ]
    },
    {
     "name": "stderr",
     "output_type": "stream",
     "text": [
      "2024-12-21 16:19:27,632 - INFO - DataLoaders created successfully.\n"
     ]
    },
    {
     "name": "stdout",
     "output_type": "stream",
     "text": [
      "[INFO] Augmented datasets loaded successfully!\n"
     ]
    }
   ],
   "source": [
    "print(\"[INFO] Loading augmented datasets...\")\n",
    "train_loader, val_loader, test_loader = load_datasets(\n",
    "    data_dir=data_dir, batch_size=batch_size, augmentation=\"augmented\"\n",
    ")\n",
    "print(\"[INFO] Augmented datasets loaded successfully!\")"
   ]
  },
  {
   "cell_type": "code",
   "execution_count": 6,
   "metadata": {},
   "outputs": [
    {
     "name": "stdout",
     "output_type": "stream",
     "text": [
      "\n",
      "[INFO] Starting Training for Model: efficientnet_b0 with Augmented Data\n",
      "\n",
      "[INFO] Initializing efficientnet_b0 model...\n",
      "[INFO] Model initialized successfully!\n"
     ]
    }
   ],
   "source": [
    "# Initialize the model\n",
    "print(f\"\\n[INFO] Starting Training for Model: {model_name} with Augmented Data\\n\")\n",
    "print(f\"[INFO] Initializing {model_name} model...\")\n",
    "model = initialize_model(\n",
    "    model_name=model_name,\n",
    "    num_classes=num_classes,\n",
    "    pretrained=True,\n",
    "    freeze_all=True  # Baseline augmentation: Freeze all layers\n",
    ")\n",
    "print(\"[INFO] Model initialized successfully!\")"
   ]
  },
  {
   "cell_type": "code",
   "execution_count": 7,
   "metadata": {},
   "outputs": [
    {
     "name": "stdout",
     "output_type": "stream",
     "text": [
      "[INFO] Setting up loss function and optimizer...\n",
      "[INFO] Loss function and optimizer set up!\n"
     ]
    }
   ],
   "source": [
    "# Define loss function and optimizer\n",
    "print(\"[INFO] Setting up loss function and optimizer...\")\n",
    "criterion = torch.nn.CrossEntropyLoss()\n",
    "optimizer = torch.optim.Adam(filter(lambda p: p.requires_grad, model.parameters()), lr=learning_rate)\n",
    "print(\"[INFO] Loss function and optimizer set up!\")"
   ]
  },
  {
   "cell_type": "code",
   "execution_count": 8,
   "metadata": {},
   "outputs": [
    {
     "name": "stdout",
     "output_type": "stream",
     "text": [
      "[INFO] Starting model training with augmented data...\n",
      "\n",
      "Starting training...\n",
      "\n"
     ]
    },
    {
     "name": "stderr",
     "output_type": "stream",
     "text": [
      "                                                                       \r"
     ]
    },
    {
     "name": "stdout",
     "output_type": "stream",
     "text": [
      "[INFO] Learning rate adjusted to: 0.000300\n",
      "[INFO] Best model saved with val_f1: 0.6234\n",
      "Epoch [1]: Train Loss: 0.6834, Train Acc: 0.5548 | Val Loss: 0.6392, Val Acc: 0.6244, Val Recall: 0.5081, Val F1: 0.6234\n"
     ]
    },
    {
     "name": "stderr",
     "output_type": "stream",
     "text": [
      "                                                                       \r"
     ]
    },
    {
     "name": "stdout",
     "output_type": "stream",
     "text": [
      "[INFO] Learning rate adjusted to: 0.000300\n",
      "[INFO] Best model saved with val_f1: 0.7689\n",
      "Epoch [2]: Train Loss: 0.6221, Train Acc: 0.6465 | Val Loss: 0.5757, Val Acc: 0.7264, Val Recall: 0.7439, Val F1: 0.7689\n"
     ]
    },
    {
     "name": "stderr",
     "output_type": "stream",
     "text": [
      "                                                                       \r"
     ]
    },
    {
     "name": "stdout",
     "output_type": "stream",
     "text": [
      "[INFO] Learning rate adjusted to: 0.000300\n",
      "[INFO] Best model saved with val_f1: 0.7891\n",
      "Epoch [3]: Train Loss: 0.5853, Train Acc: 0.6948 | Val Loss: 0.5393, Val Acc: 0.7488, Val Recall: 0.7683, Val F1: 0.7891\n"
     ]
    },
    {
     "name": "stderr",
     "output_type": "stream",
     "text": [
      "                                                                       \r"
     ]
    },
    {
     "name": "stdout",
     "output_type": "stream",
     "text": [
      "[INFO] Learning rate adjusted to: 0.000300\n",
      "[INFO] No improvement in val_f1. Patience: 1/12\n",
      "Epoch [4]: Train Loss: 0.5736, Train Acc: 0.7128 | Val Loss: 0.5258, Val Acc: 0.7438, Val Recall: 0.7764, Val F1: 0.7876\n"
     ]
    },
    {
     "name": "stderr",
     "output_type": "stream",
     "text": [
      "                                                                       \r"
     ]
    },
    {
     "name": "stdout",
     "output_type": "stream",
     "text": [
      "[INFO] Learning rate adjusted to: 0.000150\n",
      "[INFO] Best model saved with val_f1: 0.8027\n",
      "Epoch [5]: Train Loss: 0.5549, Train Acc: 0.7091 | Val Loss: 0.5039, Val Acc: 0.7786, Val Recall: 0.7358, Val F1: 0.8027\n"
     ]
    },
    {
     "name": "stderr",
     "output_type": "stream",
     "text": [
      "                                                                       \r"
     ]
    },
    {
     "name": "stdout",
     "output_type": "stream",
     "text": [
      "[INFO] Learning rate adjusted to: 0.000150\n",
      "[INFO] No improvement in val_f1. Patience: 1/12\n",
      "Epoch [6]: Train Loss: 0.5766, Train Acc: 0.6937 | Val Loss: 0.5100, Val Acc: 0.7388, Val Recall: 0.8089, Val F1: 0.7913\n"
     ]
    },
    {
     "name": "stderr",
     "output_type": "stream",
     "text": [
      "                                                                       \r"
     ]
    },
    {
     "name": "stdout",
     "output_type": "stream",
     "text": [
      "[INFO] Learning rate adjusted to: 0.000150\n",
      "[INFO] No improvement in val_f1. Patience: 2/12\n",
      "Epoch [7]: Train Loss: 0.5794, Train Acc: 0.6826 | Val Loss: 0.5215, Val Acc: 0.7438, Val Recall: 0.7561, Val F1: 0.7832\n"
     ]
    },
    {
     "name": "stderr",
     "output_type": "stream",
     "text": [
      "                                                                       \r"
     ]
    },
    {
     "name": "stdout",
     "output_type": "stream",
     "text": [
      "[INFO] Learning rate adjusted to: 0.000150\n",
      "[INFO] Best model saved with val_f1: 0.8170\n",
      "Epoch [8]: Train Loss: 0.5556, Train Acc: 0.7085 | Val Loss: 0.4971, Val Acc: 0.7861, Val Recall: 0.7805, Val F1: 0.8170\n"
     ]
    },
    {
     "name": "stderr",
     "output_type": "stream",
     "text": [
      "                                                                       \r"
     ]
    },
    {
     "name": "stdout",
     "output_type": "stream",
     "text": [
      "[INFO] Learning rate adjusted to: 0.000150\n",
      "[INFO] No improvement in val_f1. Patience: 1/12\n",
      "Epoch [9]: Train Loss: 0.5445, Train Acc: 0.7144 | Val Loss: 0.5185, Val Acc: 0.7612, Val Recall: 0.7683, Val F1: 0.7975\n"
     ]
    },
    {
     "name": "stderr",
     "output_type": "stream",
     "text": [
      "                                                                        \r"
     ]
    },
    {
     "name": "stdout",
     "output_type": "stream",
     "text": [
      "[INFO] Learning rate adjusted to: 0.000075\n",
      "[INFO] No improvement in val_f1. Patience: 2/12\n",
      "Epoch [10]: Train Loss: 0.5308, Train Acc: 0.7207 | Val Loss: 0.5200, Val Acc: 0.7264, Val Recall: 0.7602, Val F1: 0.7727\n"
     ]
    },
    {
     "name": "stderr",
     "output_type": "stream",
     "text": [
      "                                                                        \r"
     ]
    },
    {
     "name": "stdout",
     "output_type": "stream",
     "text": [
      "[INFO] Learning rate adjusted to: 0.000075\n",
      "[INFO] No improvement in val_f1. Patience: 3/12\n",
      "Epoch [11]: Train Loss: 0.5548, Train Acc: 0.7001 | Val Loss: 0.5082, Val Acc: 0.7562, Val Recall: 0.8089, Val F1: 0.8024\n"
     ]
    },
    {
     "name": "stderr",
     "output_type": "stream",
     "text": [
      "                                                                        \r"
     ]
    },
    {
     "name": "stdout",
     "output_type": "stream",
     "text": [
      "[INFO] Learning rate adjusted to: 0.000075\n",
      "[INFO] No improvement in val_f1. Patience: 4/12\n",
      "Epoch [12]: Train Loss: 0.5425, Train Acc: 0.7133 | Val Loss: 0.4880, Val Acc: 0.7537, Val Recall: 0.7886, Val F1: 0.7967\n"
     ]
    },
    {
     "name": "stderr",
     "output_type": "stream",
     "text": [
      "                                                                        \r"
     ]
    },
    {
     "name": "stdout",
     "output_type": "stream",
     "text": [
      "[INFO] Learning rate adjusted to: 0.000075\n",
      "[INFO] No improvement in val_f1. Patience: 5/12\n",
      "Epoch [13]: Train Loss: 0.5393, Train Acc: 0.7218 | Val Loss: 0.4892, Val Acc: 0.7662, Val Recall: 0.8049, Val F1: 0.8082\n"
     ]
    },
    {
     "name": "stderr",
     "output_type": "stream",
     "text": [
      "                                                                        \r"
     ]
    },
    {
     "name": "stdout",
     "output_type": "stream",
     "text": [
      "[INFO] Learning rate adjusted to: 0.000075\n",
      "[INFO] No improvement in val_f1. Patience: 6/12\n",
      "Epoch [14]: Train Loss: 0.5559, Train Acc: 0.7107 | Val Loss: 0.5166, Val Acc: 0.7313, Val Recall: 0.7967, Val F1: 0.7840\n"
     ]
    },
    {
     "name": "stderr",
     "output_type": "stream",
     "text": [
      "                                                                        \r"
     ]
    },
    {
     "name": "stdout",
     "output_type": "stream",
     "text": [
      "[INFO] Learning rate adjusted to: 0.000037\n",
      "[INFO] No improvement in val_f1. Patience: 7/12\n",
      "Epoch [15]: Train Loss: 0.5402, Train Acc: 0.7260 | Val Loss: 0.4907, Val Acc: 0.7413, Val Recall: 0.7967, Val F1: 0.7903\n"
     ]
    },
    {
     "name": "stderr",
     "output_type": "stream",
     "text": [
      "                                                                        \r"
     ]
    },
    {
     "name": "stdout",
     "output_type": "stream",
     "text": [
      "[INFO] Learning rate adjusted to: 0.000037\n",
      "[INFO] No improvement in val_f1. Patience: 8/12\n",
      "Epoch [16]: Train Loss: 0.5232, Train Acc: 0.7308 | Val Loss: 0.5179, Val Acc: 0.7289, Val Recall: 0.7642, Val F1: 0.7753\n"
     ]
    },
    {
     "name": "stderr",
     "output_type": "stream",
     "text": [
      "                                                                        \r"
     ]
    },
    {
     "name": "stdout",
     "output_type": "stream",
     "text": [
      "[INFO] Learning rate adjusted to: 0.000037\n",
      "[INFO] No improvement in val_f1. Patience: 9/12\n",
      "Epoch [17]: Train Loss: 0.5347, Train Acc: 0.7228 | Val Loss: 0.5274, Val Acc: 0.7214, Val Recall: 0.7642, Val F1: 0.7705\n"
     ]
    },
    {
     "name": "stderr",
     "output_type": "stream",
     "text": [
      "                                                                        \r"
     ]
    },
    {
     "name": "stdout",
     "output_type": "stream",
     "text": [
      "[INFO] Learning rate adjusted to: 0.000037\n",
      "[INFO] No improvement in val_f1. Patience: 10/12\n",
      "Epoch [18]: Train Loss: 0.5449, Train Acc: 0.7048 | Val Loss: 0.5009, Val Acc: 0.7413, Val Recall: 0.7439, Val F1: 0.7787\n"
     ]
    },
    {
     "name": "stderr",
     "output_type": "stream",
     "text": [
      "                                                                        \r"
     ]
    },
    {
     "name": "stdout",
     "output_type": "stream",
     "text": [
      "[INFO] Learning rate adjusted to: 0.000037\n",
      "[INFO] No improvement in val_f1. Patience: 11/12\n",
      "Epoch [19]: Train Loss: 0.5433, Train Acc: 0.7292 | Val Loss: 0.5233, Val Acc: 0.7388, Val Recall: 0.7439, Val F1: 0.7771\n"
     ]
    },
    {
     "name": "stderr",
     "output_type": "stream",
     "text": [
      "                                                                        \r"
     ]
    },
    {
     "name": "stdout",
     "output_type": "stream",
     "text": [
      "[INFO] Learning rate adjusted to: 0.000019\n",
      "[INFO] Best model saved with val_f1: 0.8225\n",
      "Epoch [20]: Train Loss: 0.5401, Train Acc: 0.7234 | Val Loss: 0.4688, Val Acc: 0.7886, Val Recall: 0.8008, Val F1: 0.8225\n"
     ]
    },
    {
     "name": "stderr",
     "output_type": "stream",
     "text": [
      "                                                                        \r"
     ]
    },
    {
     "name": "stdout",
     "output_type": "stream",
     "text": [
      "[INFO] Learning rate adjusted to: 0.000019\n",
      "[INFO] No improvement in val_f1. Patience: 1/12\n",
      "Epoch [21]: Train Loss: 0.5123, Train Acc: 0.7318 | Val Loss: 0.4962, Val Acc: 0.7388, Val Recall: 0.7642, Val F1: 0.7817\n"
     ]
    },
    {
     "name": "stderr",
     "output_type": "stream",
     "text": [
      "                                                                        \r"
     ]
    },
    {
     "name": "stdout",
     "output_type": "stream",
     "text": [
      "[INFO] Learning rate adjusted to: 0.000019\n",
      "[INFO] No improvement in val_f1. Patience: 2/12\n",
      "Epoch [22]: Train Loss: 0.5541, Train Acc: 0.7059 | Val Loss: 0.4936, Val Acc: 0.7562, Val Recall: 0.8049, Val F1: 0.8016\n"
     ]
    },
    {
     "name": "stderr",
     "output_type": "stream",
     "text": [
      "                                                                        \r"
     ]
    },
    {
     "name": "stdout",
     "output_type": "stream",
     "text": [
      "[INFO] Learning rate adjusted to: 0.000019\n",
      "[INFO] No improvement in val_f1. Patience: 3/12\n",
      "Epoch [23]: Train Loss: 0.5440, Train Acc: 0.7228 | Val Loss: 0.5273, Val Acc: 0.7413, Val Recall: 0.7439, Val F1: 0.7787\n"
     ]
    },
    {
     "name": "stderr",
     "output_type": "stream",
     "text": [
      "                                                                        \r"
     ]
    },
    {
     "name": "stdout",
     "output_type": "stream",
     "text": [
      "[INFO] Learning rate adjusted to: 0.000019\n",
      "[INFO] No improvement in val_f1. Patience: 4/12\n",
      "Epoch [24]: Train Loss: 0.5125, Train Acc: 0.7472 | Val Loss: 0.5106, Val Acc: 0.7512, Val Recall: 0.8333, Val F1: 0.8039\n"
     ]
    },
    {
     "name": "stderr",
     "output_type": "stream",
     "text": [
      "                                                                        \r"
     ]
    },
    {
     "name": "stdout",
     "output_type": "stream",
     "text": [
      "[INFO] Learning rate adjusted to: 0.000009\n",
      "[INFO] No improvement in val_f1. Patience: 5/12\n",
      "Epoch [25]: Train Loss: 0.5432, Train Acc: 0.7128 | Val Loss: 0.5137, Val Acc: 0.7438, Val Recall: 0.7439, Val F1: 0.7804\n"
     ]
    },
    {
     "name": "stderr",
     "output_type": "stream",
     "text": [
      "                                                                        \r"
     ]
    },
    {
     "name": "stdout",
     "output_type": "stream",
     "text": [
      "[INFO] Learning rate adjusted to: 0.000009\n",
      "[INFO] No improvement in val_f1. Patience: 6/12\n",
      "Epoch [26]: Train Loss: 0.5274, Train Acc: 0.7409 | Val Loss: 0.5152, Val Acc: 0.7463, Val Recall: 0.7520, Val F1: 0.7839\n"
     ]
    },
    {
     "name": "stderr",
     "output_type": "stream",
     "text": [
      "                                                                        \r"
     ]
    },
    {
     "name": "stdout",
     "output_type": "stream",
     "text": [
      "[INFO] Learning rate adjusted to: 0.000009\n",
      "[INFO] No improvement in val_f1. Patience: 7/12\n",
      "Epoch [27]: Train Loss: 0.5259, Train Acc: 0.7350 | Val Loss: 0.4825, Val Acc: 0.7662, Val Recall: 0.7886, Val F1: 0.8050\n"
     ]
    },
    {
     "name": "stderr",
     "output_type": "stream",
     "text": [
      "                                                                        \r"
     ]
    },
    {
     "name": "stdout",
     "output_type": "stream",
     "text": [
      "[INFO] Learning rate adjusted to: 0.000009\n",
      "[INFO] No improvement in val_f1. Patience: 8/12\n",
      "Epoch [28]: Train Loss: 0.5296, Train Acc: 0.7292 | Val Loss: 0.4927, Val Acc: 0.7786, Val Recall: 0.8171, Val F1: 0.8187\n"
     ]
    },
    {
     "name": "stderr",
     "output_type": "stream",
     "text": [
      "                                                                        \r"
     ]
    },
    {
     "name": "stdout",
     "output_type": "stream",
     "text": [
      "[INFO] Learning rate adjusted to: 0.000009\n",
      "[INFO] No improvement in val_f1. Patience: 9/12\n",
      "Epoch [29]: Train Loss: 0.5278, Train Acc: 0.7202 | Val Loss: 0.5025, Val Acc: 0.7537, Val Recall: 0.7480, Val F1: 0.7880\n"
     ]
    },
    {
     "name": "stderr",
     "output_type": "stream",
     "text": [
      "                                                                        \r"
     ]
    },
    {
     "name": "stdout",
     "output_type": "stream",
     "text": [
      "[INFO] Learning rate adjusted to: 0.000005\n",
      "[INFO] No improvement in val_f1. Patience: 10/12\n",
      "Epoch [30]: Train Loss: 0.5571, Train Acc: 0.6926 | Val Loss: 0.4793, Val Acc: 0.7687, Val Recall: 0.7805, Val F1: 0.8050\n"
     ]
    },
    {
     "name": "stderr",
     "output_type": "stream",
     "text": [
      "                                                                        \r"
     ]
    },
    {
     "name": "stdout",
     "output_type": "stream",
     "text": [
      "[INFO] Learning rate adjusted to: 0.000005\n",
      "[INFO] No improvement in val_f1. Patience: 11/12\n",
      "Epoch [31]: Train Loss: 0.5341, Train Acc: 0.7271 | Val Loss: 0.5091, Val Acc: 0.7488, Val Recall: 0.7683, Val F1: 0.7891\n"
     ]
    },
    {
     "name": "stderr",
     "output_type": "stream",
     "text": [
      "                                                                        \r"
     ]
    },
    {
     "name": "stdout",
     "output_type": "stream",
     "text": [
      "[INFO] Learning rate adjusted to: 0.000005\n",
      "[INFO] No improvement in val_f1. Patience: 12/12\n",
      "Epoch [32]: Train Loss: 0.5435, Train Acc: 0.7160 | Val Loss: 0.4992, Val Acc: 0.7736, Val Recall: 0.7846, Val F1: 0.8092\n",
      "[INFO] Training stopped after 32 epochs. Best val_f1: 0.8225\n",
      "\n",
      "[INFO] Training completed successfully!\n"
     ]
    }
   ],
   "source": [
    "# Train the model\n",
    "from torch.optim.lr_scheduler import StepLR\n",
    "\n",
    "scheduler = StepLR(optimizer, step_size=5, gamma=0.5)\n",
    "\n",
    "print(\"[INFO] Starting model training with augmented data...\")\n",
    "history = train_model(\n",
    "    model=model,\n",
    "    train_loader=train_loader,\n",
    "    val_loader=val_loader,\n",
    "    criterion=criterion,\n",
    "    optimizer=optimizer,\n",
    "    scheduler=scheduler,  # No LR scheduler for augmented baseline\n",
    "    device=device,\n",
    "    save_path=os.path.join(output_dir, f\"{model_name}_augmented.pt\"),\n",
    "    early_stop_patience=12,  # Early stopping patience\n",
    "    monitor_metric=\"val_f1\"\n",
    ")\n",
    "print(\"[INFO] Training completed successfully!\")"
   ]
  },
  {
   "cell_type": "code",
   "execution_count": 9,
   "metadata": {},
   "outputs": [
    {
     "name": "stdout",
     "output_type": "stream",
     "text": [
      "[INFO] Evaluating the model...\n",
      "[INFO] Evaluation metrics saved to outputs/logs\\model\\model_evaluation.json\n",
      "\n",
      "[INFO] Metrics for efficientnet_b0 with Augmented Data:\n",
      "{'classification_report': {'No Fire': {'precision': 0.7454545454545455, 'recall': 0.7735849056603774, 'f1-score': 0.7592592592592593, 'support': 159.0}, 'Fire': {'precision': 0.8530612244897959, 'recall': 0.8326693227091634, 'f1-score': 0.842741935483871, 'support': 251.0}, 'accuracy': 0.8097560975609757, 'macro avg': {'precision': 0.7992578849721708, 'recall': 0.8031271141847705, 'f1-score': 0.8010005973715651, 'support': 410.0}, 'weighted avg': {'precision': 0.8113308294492965, 'recall': 0.8097560975609757, 'f1-score': 0.8103669464113997, 'support': 410.0}}, 'confusion_matrix': [[123, 36], [42, 209]], 'roc_auc': np.float64(0.8768949359793531)}\n"
     ]
    }
   ],
   "source": [
    "# Evaluate the model\n",
    "print(\"[INFO] Evaluating the model...\")\n",
    "metrics = evaluate_model(\n",
    "    model=model,\n",
    "    test_loader=test_loader,\n",
    "    classes=[\"No Fire\", \"Fire\"],\n",
    "    device=device\n",
    ")\n",
    "print(f\"\\n[INFO] Metrics for {model_name} with Augmented Data:\\n{metrics}\")"
   ]
  },
  {
   "cell_type": "code",
   "execution_count": 10,
   "metadata": {},
   "outputs": [
    {
     "name": "stdout",
     "output_type": "stream",
     "text": [
      "[INFO] Saving training and evaluation results...\n",
      "[INFO] Training plot saved to outputs/models/augmented\\efficientnet_b0_augmented_training_curve.png\n",
      "[INFO] Confusion matrix saved to outputs/models/augmented\\efficientnet_b0_augmented_confusion_matrix.png\n"
     ]
    },
    {
     "ename": "KeyError",
     "evalue": "'y_true'",
     "output_type": "error",
     "traceback": [
      "\u001b[1;31m---------------------------------------------------------------------------\u001b[0m",
      "\u001b[1;31mKeyError\u001b[0m                                  Traceback (most recent call last)",
      "Cell \u001b[1;32mIn[10], line 17\u001b[0m\n\u001b[0;32m      9\u001b[0m plot_confusion_matrix(\n\u001b[0;32m     10\u001b[0m     cm\u001b[38;5;241m=\u001b[39mmetrics[\u001b[38;5;124m\"\u001b[39m\u001b[38;5;124mconfusion_matrix\u001b[39m\u001b[38;5;124m\"\u001b[39m],\n\u001b[0;32m     11\u001b[0m     classes\u001b[38;5;241m=\u001b[39m[\u001b[38;5;124m\"\u001b[39m\u001b[38;5;124mNo Fire\u001b[39m\u001b[38;5;124m\"\u001b[39m, \u001b[38;5;124m\"\u001b[39m\u001b[38;5;124mFire\u001b[39m\u001b[38;5;124m\"\u001b[39m],\n\u001b[0;32m     12\u001b[0m     output_path\u001b[38;5;241m=\u001b[39mos\u001b[38;5;241m.\u001b[39mpath\u001b[38;5;241m.\u001b[39mjoin(output_dir, \u001b[38;5;124mf\u001b[39m\u001b[38;5;124m\"\u001b[39m\u001b[38;5;132;01m{\u001b[39;00mmodel_name\u001b[38;5;132;01m}\u001b[39;00m\u001b[38;5;124m_augmented_confusion_matrix.png\u001b[39m\u001b[38;5;124m\"\u001b[39m)\n\u001b[0;32m     13\u001b[0m )\n\u001b[0;32m     15\u001b[0m \u001b[38;5;66;03m# ROC Curve\u001b[39;00m\n\u001b[0;32m     16\u001b[0m plot_roc_curve(\n\u001b[1;32m---> 17\u001b[0m     y_true\u001b[38;5;241m=\u001b[39m\u001b[43mmetrics\u001b[49m\u001b[43m[\u001b[49m\u001b[38;5;124;43m\"\u001b[39;49m\u001b[38;5;124;43my_true\u001b[39;49m\u001b[38;5;124;43m\"\u001b[39;49m\u001b[43m]\u001b[49m,\n\u001b[0;32m     18\u001b[0m     y_scores\u001b[38;5;241m=\u001b[39mmetrics[\u001b[38;5;124m\"\u001b[39m\u001b[38;5;124my_scores\u001b[39m\u001b[38;5;124m\"\u001b[39m],\n\u001b[0;32m     19\u001b[0m     output_path\u001b[38;5;241m=\u001b[39mos\u001b[38;5;241m.\u001b[39mpath\u001b[38;5;241m.\u001b[39mjoin(output_dir, \u001b[38;5;124mf\u001b[39m\u001b[38;5;124m\"\u001b[39m\u001b[38;5;132;01m{\u001b[39;00mmodel_name\u001b[38;5;132;01m}\u001b[39;00m\u001b[38;5;124m_augmented_roc_curve.png\u001b[39m\u001b[38;5;124m\"\u001b[39m)\n\u001b[0;32m     20\u001b[0m )\n\u001b[0;32m     22\u001b[0m \u001b[38;5;66;03m# Precision-Recall Curve\u001b[39;00m\n\u001b[0;32m     23\u001b[0m plot_precision_recall(\n\u001b[0;32m     24\u001b[0m     y_true\u001b[38;5;241m=\u001b[39mmetrics[\u001b[38;5;124m\"\u001b[39m\u001b[38;5;124my_true\u001b[39m\u001b[38;5;124m\"\u001b[39m],\n\u001b[0;32m     25\u001b[0m     y_scores\u001b[38;5;241m=\u001b[39mmetrics[\u001b[38;5;124m\"\u001b[39m\u001b[38;5;124my_scores\u001b[39m\u001b[38;5;124m\"\u001b[39m],\n\u001b[0;32m     26\u001b[0m     output_path\u001b[38;5;241m=\u001b[39mos\u001b[38;5;241m.\u001b[39mpath\u001b[38;5;241m.\u001b[39mjoin(output_dir, \u001b[38;5;124mf\u001b[39m\u001b[38;5;124m\"\u001b[39m\u001b[38;5;132;01m{\u001b[39;00mmodel_name\u001b[38;5;132;01m}\u001b[39;00m\u001b[38;5;124m_augmented_precision_recall.png\u001b[39m\u001b[38;5;124m\"\u001b[39m)\n\u001b[0;32m     27\u001b[0m )\n",
      "\u001b[1;31mKeyError\u001b[0m: 'y_true'"
     ]
    },
    {
     "data": {
      "image/png": "[encoded data removed]",
      "text/plain": [
       "<Figure size 1200x600 with 2 Axes>"
      ]
     },
     "metadata": {},
     "output_type": "display_data"
    },
    {
     "data": {
      "image/png": "[encoded data removed]",
      "text/plain": [
       "<Figure size 800x800 with 2 Axes>"
      ]
     },
     "metadata": {},
     "output_type": "display_data"
    }
   ],
   "source": [
    "print(\"[INFO] Saving training and evaluation results...\")\n",
    "\n",
    "# Training curve\n",
    "plot_training(\n",
    "    history, output_path=os.path.join(output_dir, f\"{model_name}_augmented_training_curve.png\")\n",
    ")\n",
    "\n",
    "# Confusion matrix\n",
    "plot_confusion_matrix(\n",
    "    cm=metrics[\"confusion_matrix\"],\n",
    "    classes=[\"No Fire\", \"Fire\"],\n",
    "    output_path=os.path.join(output_dir, f\"{model_name}_augmented_confusion_matrix.png\")\n",
    ")\n",
    "\n",
    "# ROC Curve\n",
    "plot_roc_curve(\n",
    "    y_true=metrics[\"y_true\"],\n",
    "    y_scores=metrics[\"y_scores\"],\n",
    "    output_path=os.path.join(output_dir, f\"{model_name}_augmented_roc_curve.png\")\n",
    ")\n",
    "\n",
    "# Precision-Recall Curve\n",
    "plot_precision_recall(\n",
    "    y_true=metrics[\"y_true\"],\n",
    "    y_scores=metrics[\"y_scores\"],\n",
    "    output_path=os.path.join(output_dir, f\"{model_name}_augmented_precision_recall.png\")\n",
    ")\n",
    "\n",
    "print(\"[INFO] All results saved successfully!\")"
   ]
  }
 ],
 "metadata": {
  "kernelspec": {
   "display_name": "env",
   "language": "python",
   "name": "python3"
  },
  "language_info": {
   "codemirror_mode": {
    "name": "ipython",
    "version": 3
   },
   "file_extension": ".py",
   "mimetype": "text/x-python",
   "name": "python",
   "nbconvert_exporter": "python",
   "pygments_lexer": "ipython3",
   "version": "3.11.9"
  }
 },
 "nbformat": 4,
 "nbformat_minor": 4
}
